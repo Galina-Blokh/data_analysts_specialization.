{
 "cells": [
  {
   "cell_type": "markdown",
   "metadata": {
    "application/vnd.databricks.v1+cell": {
     "inputWidgets": {},
     "nuid": "a189e251-f552-45e3-b573-600ae54915f7",
     "showTitle": false,
     "title": ""
    }
   },
   "source": [
    "d-sandbox\n",
    "\n",
    "<div style=\"text-align: center; line-height: 0; padding-top: 9px;\">\n",
    "  <img src=\"https://databricks.com/wp-content/uploads/2018/03/db-academy-rgb-1200px.png\" alt=\"Databricks Learning\" style=\"width: 600px\">\n",
    "</div>"
   ]
  },
  {
   "cell_type": "markdown",
   "metadata": {
    "application/vnd.databricks.v1+cell": {
     "inputWidgets": {},
     "nuid": "0cae2c2c-8bdf-4899-b00c-28c1dd03c160",
     "showTitle": false,
     "title": ""
    }
   },
   "source": [
    "# Lab 2 - Data Munging\n",
    "## Module 5 Assignment\n",
    "\n",
    "In this exercise, you will be working with mock data meant to replicate data from an ecommerce mattress seller. Broadly, your work is to clean up and present this data so that it can be used to target geographic areas.  Work through the tasks below and answer the challenge to produce the required report. \n",
    "\n",
    "## ![Spark Logo Tiny](https://files.training.databricks.com/images/105/logo_spark_tiny.png) In this assignment you will: </br>\n",
    "\n",
    "* Work with hierarchical data\n",
    "* Use common table expressions to display data\n",
    "* Create new tables based on existing tables\n",
    "* Manage working with null values and timestamps\n",
    "\n",
    "As you work through the following tasks, you will be prompted to enter selected answers in Coursera. Find the quiz associated with this lab to enter your answers. \n",
    "\n",
    "Run the cell below to prepare this workspace for the lab."
   ]
  },
  {
   "cell_type": "code",
   "execution_count": 0,
   "metadata": {
    "application/vnd.databricks.v1+cell": {
     "inputWidgets": {},
     "nuid": "4895191a-629a-431d-8fcd-63029795f589",
     "showTitle": false,
     "title": ""
    }
   },
   "outputs": [
    {
     "data": {
      "text/html": [
       "Mounting course-specific datasets to <b>/mnt/training</b>...</br>Datasets are already mounted to <b>/mnt/training</b> from <b>s3a://databricks-corp-training/common</b>"
      ]
     },
     "metadata": {
      "application/vnd.databricks.v1+output": {
       "addedWidgets": {},
       "arguments": {},
       "data": "Mounting course-specific datasets to <b>/mnt/training</b>...</br>Datasets are already mounted to <b>/mnt/training</b> from <b>s3a://databricks-corp-training/common</b>",
       "datasetInfos": [],
       "removedWidgets": [],
       "textData": null,
       "type": "htmlSandbox"
      }
     },
     "output_type": "display_data"
    },
    {
     "data": {
      "text/html": [
       "<style scoped>\n",
       "  .ansiout {\n",
       "    display: block;\n",
       "    unicode-bidi: embed;\n",
       "    white-space: pre-wrap;\n",
       "    word-wrap: break-word;\n",
       "    word-break: break-all;\n",
       "    font-family: \"Source Code Pro\", \"Menlo\", monospace;;\n",
       "    font-size: 13px;\n",
       "    color: #555;\n",
       "    margin-left: 4px;\n",
       "    line-height: 19px;\n",
       "  }\n",
       "</style>\n",
       "<div class=\"ansiout\">res1: Boolean = false\n",
       "</div>"
      ]
     },
     "metadata": {
      "application/vnd.databricks.v1+output": {
       "addedWidgets": {},
       "arguments": {},
       "data": "<div class=\"ansiout\">res1: Boolean = false\n</div>",
       "datasetInfos": [],
       "removedWidgets": [],
       "type": "html"
      }
     },
     "output_type": "display_data"
    },
    {
     "data": {
      "text/html": [
       "<style scoped>\n",
       "  .ansiout {\n",
       "    display: block;\n",
       "    unicode-bidi: embed;\n",
       "    white-space: pre-wrap;\n",
       "    word-wrap: break-word;\n",
       "    word-break: break-all;\n",
       "    font-family: \"Source Code Pro\", \"Menlo\", monospace;;\n",
       "    font-size: 13px;\n",
       "    color: #555;\n",
       "    margin-left: 4px;\n",
       "    line-height: 19px;\n",
       "  }\n",
       "</style>\n",
       "<div class=\"ansiout\">res2: Boolean = false\n",
       "</div>"
      ]
     },
     "metadata": {
      "application/vnd.databricks.v1+output": {
       "addedWidgets": {},
       "arguments": {},
       "data": "<div class=\"ansiout\">res2: Boolean = false\n</div>",
       "datasetInfos": [],
       "removedWidgets": [],
       "type": "html"
      }
     },
     "output_type": "display_data"
    }
   ],
   "source": [
    "%run ../Includes/Classroom-Setup"
   ]
  },
  {
   "cell_type": "markdown",
   "metadata": {
    "application/vnd.databricks.v1+cell": {
     "inputWidgets": {},
     "nuid": "6693362e-7d47-4ea6-98b8-95ed1497c2ba",
     "showTitle": false,
     "title": ""
    }
   },
   "source": [
    "## Exercise 1: Create a table\n",
    "**Summary:** Create a new table named `eventsRaw` \n",
    "\n",
    "Use this path to access the data: `/mnt/training/ecommerce/events/events.parquet`\n",
    "\n",
    "Steps to complete: \n",
    "* Make sure this notebook is idempotent by first dropping the table named `eventsRaw`, if it exists already\n",
    "* Use the provided path to read in the data"
   ]
  },
  {
   "cell_type": "code",
   "execution_count": 0,
   "metadata": {
    "application/vnd.databricks.v1+cell": {
     "inputWidgets": {},
     "nuid": "dcecd3ae-d3a7-4840-97e1-380869984bfc",
     "showTitle": false,
     "title": ""
    }
   },
   "outputs": [
    {
     "data": {
      "text/html": [
       "<style scoped>\n",
       "  .table-result-container {\n",
       "    max-height: 300px;\n",
       "    overflow: auto;\n",
       "  }\n",
       "  table, th, td {\n",
       "    border: 1px solid black;\n",
       "    border-collapse: collapse;\n",
       "  }\n",
       "  th, td {\n",
       "    padding: 5px;\n",
       "  }\n",
       "  th {\n",
       "    text-align: left;\n",
       "  }\n",
       "</style><div class='table-result-container'><table class='table-result'><thead style='background-color: white'><tr></tr></thead><tbody></tbody></table></div>"
      ]
     },
     "metadata": {
      "application/vnd.databricks.v1+output": {
       "addedWidgets": {},
       "aggData": [],
       "aggError": "",
       "aggOverflow": false,
       "aggSchema": [],
       "aggSeriesLimitReached": false,
       "aggType": "",
       "arguments": {},
       "columnCustomDisplayInfos": {},
       "data": [],
       "datasetInfos": [],
       "dbfsResultPath": null,
       "isJsonSchema": true,
       "overflow": false,
       "plotOptions": {
        "customPlotOptions": {},
        "displayType": "table",
        "pivotAggregation": null,
        "pivotColumns": null,
        "xColumns": null,
        "yColumns": null
       },
       "removedWidgets": [],
       "schema": [],
       "type": "table"
      }
     },
     "output_type": "display_data"
    }
   ],
   "source": [
    "%sql\n",
    "DROP TABLE IF EXISTS eventsRaw;\n",
    "CREATE TABLE eventsRaw\n",
    "USING parquet\n",
    "OPTIONS (\n",
    "PATH \"/mnt/training/ecommerce/events/events.parquet\")"
   ]
  },
  {
   "cell_type": "markdown",
   "metadata": {
    "application/vnd.databricks.v1+cell": {
     "inputWidgets": {},
     "nuid": "6acc8477-5271-40bc-a93e-9e96a3874290",
     "showTitle": false,
     "title": ""
    }
   },
   "source": [
    "## Exercise 2: Understand the schema and metadata\n",
    "\n",
    "**Summary:** Run a command to display this table's schema and other detailed table information\n",
    "\n",
    "Notice that this table includes `ArrayType` and `StructType` data\n",
    "\n",
    "Steps to complete: \n",
    "* Run a single command to display the table information\n",
    "* **Answer the corresponding question in Coursera, in the quiz for this module, regarding the location of this table**"
   ]
  },
  {
   "cell_type": "code",
   "execution_count": 0,
   "metadata": {
    "application/vnd.databricks.v1+cell": {
     "inputWidgets": {},
     "nuid": "38930b19-2668-48c5-872a-e309a3e42a00",
     "showTitle": false,
     "title": ""
    }
   },
   "outputs": [
    {
     "data": {
      "text/html": [
       "<style scoped>\n",
       "  .table-result-container {\n",
       "    max-height: 300px;\n",
       "    overflow: auto;\n",
       "  }\n",
       "  table, th, td {\n",
       "    border: 1px solid black;\n",
       "    border-collapse: collapse;\n",
       "  }\n",
       "  th, td {\n",
       "    padding: 5px;\n",
       "  }\n",
       "  th {\n",
       "    text-align: left;\n",
       "  }\n",
       "</style><div class='table-result-container'><table class='table-result'><thead style='background-color: white'><tr><th>col_name</th><th>data_type</th><th>comment</th></tr></thead><tbody><tr><td>device</td><td>string</td><td>null</td></tr><tr><td>ecommerce</td><td>struct<purchase_revenue_in_usd:double,total_item_quantity:bigint,unique_items:bigint></td><td>null</td></tr><tr><td>event_name</td><td>string</td><td>null</td></tr><tr><td>event_previous_timestamp</td><td>bigint</td><td>null</td></tr><tr><td>event_timestamp</td><td>bigint</td><td>null</td></tr><tr><td>geo</td><td>struct<city:string,state:string></td><td>null</td></tr><tr><td>items</td><td>array<struct<coupon:string,item_id:string,item_name:string,item_revenue_in_usd:double,price_in_usd:double,quantity:bigint>></td><td>null</td></tr><tr><td>traffic_source</td><td>string</td><td>null</td></tr><tr><td>user_first_touch_timestamp</td><td>bigint</td><td>null</td></tr><tr><td>user_id</td><td>string</td><td>null</td></tr><tr><td></td><td></td><td></td></tr><tr><td># Detailed Table Information</td><td></td><td></td></tr><tr><td>Database</td><td>default</td><td></td></tr><tr><td>Table</td><td>eventsraw</td><td></td></tr><tr><td>Owner</td><td>root</td><td></td></tr><tr><td>Created Time</td><td>Sat Dec 05 15:02:45 UTC 2020</td><td></td></tr><tr><td>Last Access</td><td>UNKNOWN</td><td></td></tr><tr><td>Created By</td><td>Spark 3.0.1</td><td></td></tr><tr><td>Type</td><td>EXTERNAL</td><td></td></tr><tr><td>Provider</td><td>parquet</td><td></td></tr><tr><td>Location</td><td>dbfs:/mnt/training/ecommerce/events/events.parquet</td><td></td></tr><tr><td>Serde Library</td><td>org.apache.hadoop.hive.ql.io.parquet.serde.ParquetHiveSerDe</td><td></td></tr><tr><td>InputFormat</td><td>org.apache.hadoop.hive.ql.io.parquet.MapredParquetInputFormat</td><td></td></tr><tr><td>OutputFormat</td><td>org.apache.hadoop.hive.ql.io.parquet.MapredParquetOutputFormat</td><td></td></tr></tbody></table></div>"
      ]
     },
     "metadata": {
      "application/vnd.databricks.v1+output": {
       "addedWidgets": {},
       "aggData": [],
       "aggError": "",
       "aggOverflow": false,
       "aggSchema": [],
       "aggSeriesLimitReached": false,
       "aggType": "",
       "arguments": {},
       "columnCustomDisplayInfos": {},
       "data": [
        [
         "device",
         "string",
         null
        ],
        [
         "ecommerce",
         "struct<purchase_revenue_in_usd:double,total_item_quantity:bigint,unique_items:bigint>",
         null
        ],
        [
         "event_name",
         "string",
         null
        ],
        [
         "event_previous_timestamp",
         "bigint",
         null
        ],
        [
         "event_timestamp",
         "bigint",
         null
        ],
        [
         "geo",
         "struct<city:string,state:string>",
         null
        ],
        [
         "items",
         "array<struct<coupon:string,item_id:string,item_name:string,item_revenue_in_usd:double,price_in_usd:double,quantity:bigint>>",
         null
        ],
        [
         "traffic_source",
         "string",
         null
        ],
        [
         "user_first_touch_timestamp",
         "bigint",
         null
        ],
        [
         "user_id",
         "string",
         null
        ],
        [
         "",
         "",
         ""
        ],
        [
         "# Detailed Table Information",
         "",
         ""
        ],
        [
         "Database",
         "default",
         ""
        ],
        [
         "Table",
         "eventsraw",
         ""
        ],
        [
         "Owner",
         "root",
         ""
        ],
        [
         "Created Time",
         "Sat Dec 05 15:02:45 UTC 2020",
         ""
        ],
        [
         "Last Access",
         "UNKNOWN",
         ""
        ],
        [
         "Created By",
         "Spark 3.0.1",
         ""
        ],
        [
         "Type",
         "EXTERNAL",
         ""
        ],
        [
         "Provider",
         "parquet",
         ""
        ],
        [
         "Location",
         "dbfs:/mnt/training/ecommerce/events/events.parquet",
         ""
        ],
        [
         "Serde Library",
         "org.apache.hadoop.hive.ql.io.parquet.serde.ParquetHiveSerDe",
         ""
        ],
        [
         "InputFormat",
         "org.apache.hadoop.hive.ql.io.parquet.MapredParquetInputFormat",
         ""
        ],
        [
         "OutputFormat",
         "org.apache.hadoop.hive.ql.io.parquet.MapredParquetOutputFormat",
         ""
        ]
       ],
       "datasetInfos": [],
       "dbfsResultPath": null,
       "isJsonSchema": true,
       "overflow": false,
       "plotOptions": {
        "customPlotOptions": {},
        "displayType": "table",
        "pivotAggregation": null,
        "pivotColumns": null,
        "xColumns": null,
        "yColumns": null
       },
       "removedWidgets": [],
       "schema": [
        {
         "metadata": "{\"comment\":\"name of the column\"}",
         "name": "col_name",
         "type": "\"string\""
        },
        {
         "metadata": "{\"comment\":\"data type of the column\"}",
         "name": "data_type",
         "type": "\"string\""
        },
        {
         "metadata": "{\"comment\":\"comment of the column\"}",
         "name": "comment",
         "type": "\"string\""
        }
       ],
       "type": "table"
      }
     },
     "output_type": "display_data"
    }
   ],
   "source": [
    "%sql\n",
    "DESCRIBE EXTENDED eventsRaw;"
   ]
  },
  {
   "cell_type": "markdown",
   "metadata": {
    "application/vnd.databricks.v1+cell": {
     "inputWidgets": {},
     "nuid": "ce7220d7-d35f-4b45-a4b4-0270c9ab72d4",
     "showTitle": false,
     "title": ""
    }
   },
   "source": [
    "## Exercise 3: Sample the table\n",
    "\n",
    "**Summary:** Sample this table to get a closer look at the data\n",
    "\n",
    "Steps to complete: \n",
    "* Sample the table to display up to 1 percent of the records"
   ]
  },
  {
   "cell_type": "code",
   "execution_count": 0,
   "metadata": {
    "application/vnd.databricks.v1+cell": {
     "inputWidgets": {},
     "nuid": "0adac4f1-89bc-45e3-ad98-308e8310224b",
     "showTitle": false,
     "title": ""
    }
   },
   "outputs": [
    {
     "data": {
      "text/html": [
       "<style scoped>\n",
       "  .table-result-container {\n",
       "    max-height: 300px;\n",
       "    overflow: auto;\n",
       "  }\n",
       "  table, th, td {\n",
       "    border: 1px solid black;\n",
       "    border-collapse: collapse;\n",
       "  }\n",
       "  th, td {\n",
       "    padding: 5px;\n",
       "  }\n",
       "  th {\n",
       "    text-align: left;\n",
       "  }\n",
       "</style><div class='table-result-container'><table class='table-result'><thead style='background-color: white'><tr><th>device</th><th>ecommerce</th><th>event_name</th><th>event_previous_timestamp</th><th>event_timestamp</th><th>geo</th><th>items</th><th>traffic_source</th><th>user_first_touch_timestamp</th><th>user_id</th></tr></thead><tbody><tr><td>iOS</td><td>List(null, null, null)</td><td>main</td><td>null</td><td>1593876498259824</td><td>List(San Antonio, TX)</td><td>List()</td><td>facebook</td><td>1593876498259824</td><td>UA000000107357951</td></tr></tbody></table></div>"
      ]
     },
     "metadata": {
      "application/vnd.databricks.v1+output": {
       "addedWidgets": {},
       "aggData": [],
       "aggError": "",
       "aggOverflow": false,
       "aggSchema": [],
       "aggSeriesLimitReached": false,
       "aggType": "",
       "arguments": {},
       "columnCustomDisplayInfos": {},
       "data": [
        [
         "iOS",
         [
          null,
          null,
          null
         ],
         "main",
         null,
         1593876498259824,
         [
          "San Antonio",
          "TX"
         ],
         [],
         "facebook",
         1593876498259824,
         "UA000000107357951"
        ]
       ],
       "datasetInfos": [],
       "dbfsResultPath": null,
       "isJsonSchema": true,
       "overflow": false,
       "plotOptions": {
        "customPlotOptions": {},
        "displayType": "table",
        "pivotAggregation": null,
        "pivotColumns": null,
        "xColumns": null,
        "yColumns": null
       },
       "removedWidgets": [],
       "schema": [
        {
         "metadata": "{}",
         "name": "device",
         "type": "\"string\""
        },
        {
         "metadata": "{}",
         "name": "ecommerce",
         "type": "{\"type\":\"struct\",\"fields\":[{\"name\":\"purchase_revenue_in_usd\",\"type\":\"double\",\"nullable\":true,\"metadata\":{}},{\"name\":\"total_item_quantity\",\"type\":\"long\",\"nullable\":true,\"metadata\":{}},{\"name\":\"unique_items\",\"type\":\"long\",\"nullable\":true,\"metadata\":{}}]}"
        },
        {
         "metadata": "{}",
         "name": "event_name",
         "type": "\"string\""
        },
        {
         "metadata": "{}",
         "name": "event_previous_timestamp",
         "type": "\"long\""
        },
        {
         "metadata": "{}",
         "name": "event_timestamp",
         "type": "\"long\""
        },
        {
         "metadata": "{}",
         "name": "geo",
         "type": "{\"type\":\"struct\",\"fields\":[{\"name\":\"city\",\"type\":\"string\",\"nullable\":true,\"metadata\":{}},{\"name\":\"state\",\"type\":\"string\",\"nullable\":true,\"metadata\":{}}]}"
        },
        {
         "metadata": "{}",
         "name": "items",
         "type": "{\"type\":\"array\",\"elementType\":{\"type\":\"struct\",\"fields\":[{\"name\":\"coupon\",\"type\":\"string\",\"nullable\":true,\"metadata\":{}},{\"name\":\"item_id\",\"type\":\"string\",\"nullable\":true,\"metadata\":{}},{\"name\":\"item_name\",\"type\":\"string\",\"nullable\":true,\"metadata\":{}},{\"name\":\"item_revenue_in_usd\",\"type\":\"double\",\"nullable\":true,\"metadata\":{}},{\"name\":\"price_in_usd\",\"type\":\"double\",\"nullable\":true,\"metadata\":{}},{\"name\":\"quantity\",\"type\":\"long\",\"nullable\":true,\"metadata\":{}}]},\"containsNull\":true}"
        },
        {
         "metadata": "{}",
         "name": "traffic_source",
         "type": "\"string\""
        },
        {
         "metadata": "{}",
         "name": "user_first_touch_timestamp",
         "type": "\"long\""
        },
        {
         "metadata": "{}",
         "name": "user_id",
         "type": "\"string\""
        }
       ],
       "type": "table"
      }
     },
     "output_type": "display_data"
    }
   ],
   "source": [
    "%sql\n",
    "SELECT * FROM eventsRaw\n",
    "TABLESAMPLE (1 PERCENT)\n",
    "LIMIT 1\n"
   ]
  },
  {
   "cell_type": "markdown",
   "metadata": {
    "application/vnd.databricks.v1+cell": {
     "inputWidgets": {},
     "nuid": "99faf3e0-223e-436b-8dd5-aa5dc5c6d1cd",
     "showTitle": false,
     "title": ""
    }
   },
   "source": [
    "-sandbox\n",
    "## Exercise 4: Create a new table\n",
    "\n",
    "**Summary:** Create a table `purchaseEvents` that includes event data _with_ purchases that has the following schema: \n",
    "\n",
    "| ColumnName      | DataType| \n",
    "|-----------------|---------|\n",
    "|purchases        |double   |\n",
    "|previousEventDate|date     |\n",
    "|eventDate        |date     |\n",
    "|city             |string   |\n",
    "|state            |string   |\n",
    "|userId           |string   |\n",
    "\n",
    "\n",
    "<img alt=\"Caution\" title=\"Caution\" style=\"vertical-align: text-bottom; position: relative; height:1.3em; top:0.0em\" src=\"https://files.training.databricks.com/static/images/icon-warning.svg\"/> The timestamps in this table are meant to match those used in Google Analytics, which measures time to the microsecond. To convert to unixtime, you must divide these values by 1000000 (10e6) before casting to a timestamp. \n",
    "\n",
    "<img alt=\"Hint\" title=\"Hint\" style=\"vertical-align: text-bottom; position: relative; height:1.75em; top:0.3em\" src=\"https://files.training.databricks.com/static/images/icon-light-bulb.svg\"/>&nbsp;**Hint:** Access values from StructType objects using dot notation\n",
    "\n",
    "Steps to complete: \n",
    "* Make sure this notebook is idempotent by first dropping the table, if it exists\n",
    "* Create a table based on the existing table\n",
    "* Use a common table expression to manipulate your data before writing the `SELECT` statement that will define your table _(Recommended)_\n",
    "* Do not include records where the `purchase_revenue_in_usd` is `NULL`\n",
    "* Sort the table so that the city and state with the greatest total purchase is listed first"
   ]
  },
  {
   "cell_type": "code",
   "execution_count": 0,
   "metadata": {
    "application/vnd.databricks.v1+cell": {
     "inputWidgets": {},
     "nuid": "6a61bed2-b0a0-46b6-9d20-5194e2931f1b",
     "showTitle": false,
     "title": ""
    }
   },
   "outputs": [
    {
     "data": {
      "text/html": [
       "<style scoped>\n",
       "  .table-result-container {\n",
       "    max-height: 300px;\n",
       "    overflow: auto;\n",
       "  }\n",
       "  table, th, td {\n",
       "    border: 1px solid black;\n",
       "    border-collapse: collapse;\n",
       "  }\n",
       "  th, td {\n",
       "    padding: 5px;\n",
       "  }\n",
       "  th {\n",
       "    text-align: left;\n",
       "  }\n",
       "</style><div class='table-result-container'><table class='table-result'><thead style='background-color: white'><tr></tr></thead><tbody></tbody></table></div>"
      ]
     },
     "metadata": {
      "application/vnd.databricks.v1+output": {
       "addedWidgets": {},
       "aggData": [],
       "aggError": "",
       "aggOverflow": false,
       "aggSchema": [],
       "aggSeriesLimitReached": false,
       "aggType": "",
       "arguments": {},
       "columnCustomDisplayInfos": {},
       "data": [],
       "datasetInfos": [],
       "dbfsResultPath": null,
       "isJsonSchema": true,
       "overflow": false,
       "plotOptions": {
        "customPlotOptions": {},
        "displayType": "table",
        "pivotAggregation": null,
        "pivotColumns": null,
        "xColumns": null,
        "yColumns": null
       },
       "removedWidgets": [],
       "schema": [],
       "type": "table"
      }
     },
     "output_type": "display_data"
    }
   ],
   "source": [
    "%sql\n",
    "DROP TABLE IF EXISTS purchaseEvents;\n",
    "CREATE TABLE purchaseEvents\n",
    "USING parquet\n",
    "WITH  ExplodeSource\n",
    "AS \n",
    "  (\n",
    "  SELECT \n",
    "    CAST(ecommerce.purchase_revenue_in_usd AS DOUBLE) AS purchases,\n",
    "    CAST(event_timestamp/10e6 AS timestamp) AS  eventDate,\n",
    "    CAST(event_previous_timestamp/10e6 AS timestamp) AS  previousEventDate,\n",
    "    geo.city AS city,\n",
    "    geo.state AS state,\n",
    "    user_id as userId\n",
    "  FROM \n",
    "    eventsRaw\n",
    "    WHERE ecommerce.purchase_revenue_in_usd not like \"null\"\n",
    "  )\n",
    "SELECT\n",
    "  purchases, \n",
    "  eventDate,\n",
    "  previousEventDate,\n",
    "  city,\n",
    "  state,\n",
    "  userId\n",
    "FROM\n",
    "  ExplodeSource\n",
    "ORDER BY purchases DESC"
   ]
  },
  {
   "cell_type": "code",
   "execution_count": 0,
   "metadata": {
    "application/vnd.databricks.v1+cell": {
     "inputWidgets": {},
     "nuid": "4bab054e-009b-48ba-8a92-37bfe5cc2bd1",
     "showTitle": false,
     "title": ""
    }
   },
   "outputs": [
    {
     "data": {
      "text/html": [
       "<style scoped>\n",
       "  .table-result-container {\n",
       "    max-height: 300px;\n",
       "    overflow: auto;\n",
       "  }\n",
       "  table, th, td {\n",
       "    border: 1px solid black;\n",
       "    border-collapse: collapse;\n",
       "  }\n",
       "  th, td {\n",
       "    padding: 5px;\n",
       "  }\n",
       "  th {\n",
       "    text-align: left;\n",
       "  }\n",
       "</style><div class='table-result-container'><table class='table-result'><thead style='background-color: white'><tr><th>purchases</th><th>eventDate</th><th>previousEventDate</th><th>city</th><th>state</th><th>userId</th></tr></thead><tbody><tr><td>921.6</td><td>1975-01-19T13:55:33.395+0000</td><td>1975-01-19T13:55:33.177+0000</td><td>Jackson</td><td>MS</td><td>UA000000106026086</td></tr><tr><td>921.6</td><td>1975-01-19T10:50:08.371+0000</td><td>1975-01-19T10:50:00.516+0000</td><td>Anaheim</td><td>CA</td><td>UA000000105988205</td></tr><tr><td>921.6</td><td>1975-01-19T08:09:51.224+0000</td><td>1975-01-19T08:08:19.269+0000</td><td>Phoenix</td><td>AZ</td><td>UA000000105469152</td></tr><tr><td>921.6</td><td>1975-01-19T07:58:18.606+0000</td><td>1975-01-19T07:57:17.998+0000</td><td>Humble</td><td>TX</td><td>UA000000105541469</td></tr><tr><td>921.6</td><td>1975-01-18T14:12:07.925+0000</td><td>1975-01-18T14:12:07.725+0000</td><td>Elgin</td><td>IL</td><td>UA000000103622157</td></tr><tr><td>921.6</td><td>1975-01-18T20:14:01.109+0000</td><td>1975-01-18T20:13:16.891+0000</td><td>Palm Desert</td><td>CA</td><td>UA000000103592339</td></tr><tr><td>921.6</td><td>1975-01-19T00:31:51.832+0000</td><td>1975-01-19T00:30:23.613+0000</td><td>Brigham City</td><td>UT</td><td>UA000000104436573</td></tr><tr><td>921.6</td><td>1975-01-18T23:57:34.542+0000</td><td>1975-01-18T23:55:48.474+0000</td><td>Idaho Falls</td><td>ID</td><td>UA000000104410746</td></tr><tr><td>921.6</td><td>1975-01-19T02:27:39.255+0000</td><td>1975-01-19T02:26:46.138+0000</td><td>Magnolia</td><td>AR</td><td>UA000000104663815</td></tr><tr><td>921.6</td><td>1975-01-19T02:34:07.220+0000</td><td>1975-01-19T02:32:14.952+0000</td><td>New York</td><td>NY</td><td>UA000000104847413</td></tr><tr><td>921.6</td><td>1975-01-18T11:27:09.622+0000</td><td>1975-01-18T11:26:36.042+0000</td><td>Fort Worth</td><td>TX</td><td>UA000000103157371</td></tr><tr><td>921.6</td><td>1975-01-18T08:57:40.188+0000</td><td>1975-01-18T08:57:24.116+0000</td><td>Fullerton</td><td>CA</td><td>UA000000103170661</td></tr><tr><td>921.6</td><td>1975-01-18T15:43:15.341+0000</td><td>1975-01-18T15:43:12.447+0000</td><td>Perry</td><td>GA</td><td>UA000000103779973</td></tr><tr><td>921.6</td><td>1975-01-18T20:33:37.921+0000</td><td>1975-01-18T20:31:15.907+0000</td><td>Corpus Christi</td><td>TX</td><td>UA000000104241294</td></tr><tr><td>921.6</td><td>1975-01-19T09:08:59.466+0000</td><td>1975-01-19T09:07:24.047+0000</td><td>Greensboro</td><td>NC</td><td>UA000000105640765</td></tr><tr><td>921.6</td><td>1975-01-18T12:17:29.455+0000</td><td>1975-01-18T12:17:28.183+0000</td><td>Sioux Falls</td><td>SD</td><td>UA000000103870428</td></tr><tr><td>921.6</td><td>1975-01-19T05:09:03.026+0000</td><td>1975-01-19T05:08:56.918+0000</td><td>Garden Grove</td><td>CA</td><td>UA000000104981693</td></tr><tr><td>921.6</td><td>1975-01-18T22:27:48.143+0000</td><td>1975-01-18T22:27:32.423+0000</td><td>Mesa</td><td>AZ</td><td>UA000000104060861</td></tr><tr><td>921.6</td><td>1975-01-19T04:10:26.192+0000</td><td>1975-01-19T04:10:19.664+0000</td><td>Denver</td><td>CO</td><td>UA000000105115879</td></tr><tr><td>921.6</td><td>1975-01-18T18:40:53.544+0000</td><td>1975-01-18T18:40:52.346+0000</td><td>Grand Forks</td><td>ND</td><td>UA000000104071949</td></tr><tr><td>921.6</td><td>1975-01-18T19:18:09.470+0000</td><td>1975-01-18T19:18:08.953+0000</td><td>Philadelphia</td><td>PA</td><td>UA000000104134824</td></tr><tr><td>921.6</td><td>1975-01-18T14:51:02.758+0000</td><td>1975-01-18T14:50:25.967+0000</td><td>North Richland Hills</td><td>TX</td><td>UA000000103429342</td></tr><tr><td>921.6</td><td>1975-01-18T14:47:30.373+0000</td><td>1975-01-18T14:47:25.307+0000</td><td>Boise City</td><td>ID</td><td>UA000000103935684</td></tr><tr><td>921.6</td><td>1975-01-18T13:58:35.330+0000</td><td>1975-01-18T13:58:25.572+0000</td><td>Las Vegas</td><td>NV</td><td>UA000000103658234</td></tr><tr><td>921.6</td><td>1975-01-19T06:03:34.109+0000</td><td>1975-01-19T06:03:32.947+0000</td><td>California City</td><td>CA</td><td>UA000000104989512</td></tr><tr><td>921.6</td><td>1975-01-18T08:05:48.415+0000</td><td>1975-01-18T08:05:35.503+0000</td><td>Oklahoma City</td><td>OK</td><td>UA000000102724679</td></tr><tr><td>921.6</td><td>1975-01-18T06:56:10.526+0000</td><td>1975-01-18T06:56:08.211+0000</td><td>Knoxville</td><td>TN</td><td>UA000000102689629</td></tr><tr><td>921.6</td><td>1975-01-18T11:03:37.990+0000</td><td>1975-01-18T11:03:30.458+0000</td><td>Conroe</td><td>TX</td><td>UA000000103545789</td></tr><tr><td>921.6</td><td>1975-01-19T06:39:11.894+0000</td><td>1975-01-19T06:37:32.053+0000</td><td>DuPont</td><td>WA</td><td>UA000000105396270</td></tr><tr><td>921.6</td><td>1975-01-19T07:57:37.968+0000</td><td>1975-01-19T07:57:35.349+0000</td><td>New Hope</td><td>MN</td><td>UA000000105413152</td></tr><tr><td>921.6</td><td>1975-01-19T10:48:38.179+0000</td><td>1975-01-19T10:46:39.544+0000</td><td>Mesa</td><td>AZ</td><td>UA000000105889669</td></tr><tr><td>921.6</td><td>1975-01-19T05:48:51.019+0000</td><td>1975-01-19T05:48:33.984+0000</td><td>Seattle</td><td>WA</td><td>UA000000105150753</td></tr><tr><td>921.6</td><td>1975-01-19T09:30:43.276+0000</td><td>1975-01-19T09:30:32.837+0000</td><td>New York</td><td>NY</td><td>UA000000105331120</td></tr><tr><td>921.6</td><td>1975-01-18T09:27:56.783+0000</td><td>1975-01-18T09:27:56.419+0000</td><td>Buda</td><td>TX</td><td>UA000000102585718</td></tr><tr><td>921.6</td><td>1975-01-19T01:53:30.334+0000</td><td>1975-01-19T01:53:29.632+0000</td><td>Mountain View</td><td>CA</td><td>UA000000104668493</td></tr><tr><td>921.6</td><td>1975-01-19T00:51:53.471+0000</td><td>1975-01-19T00:51:48.641+0000</td><td>Des Moines</td><td>IA</td><td>UA000000104884999</td></tr><tr><td>921.6</td><td>1975-01-18T21:02:47.677+0000</td><td>1975-01-18T21:02:42.431+0000</td><td>Murphy</td><td>TX</td><td>UA000000104188752</td></tr><tr><td>921.6</td><td>1975-01-18T19:34:44.607+0000</td><td>1975-01-18T19:34:31.168+0000</td><td>Webster Groves</td><td>MO</td><td>UA000000104048868</td></tr><tr><td>921.6</td><td>1975-01-18T17:04:00.775+0000</td><td>1975-01-18T17:04:00.396+0000</td><td>Napa</td><td>CA</td><td>UA000000104027938</td></tr><tr><td>921.6</td><td>1975-01-18T15:35:03.162+0000</td><td>1975-01-18T15:35:01.903+0000</td><td>Center Line</td><td>MI</td><td>UA000000103245317</td></tr><tr><td>921.6</td><td>1975-01-18T14:02:31.684+0000</td><td>1975-01-18T14:02:27.285+0000</td><td>Vacaville</td><td>CA</td><td>UA000000103226548</td></tr><tr><td>921.6</td><td>1975-01-18T13:14:19.788+0000</td><td>1975-01-18T13:14:15.266+0000</td><td>Chandler</td><td>AZ</td><td>UA000000103384349</td></tr><tr><td>921.6</td><td>1975-01-18T17:28:44.054+0000</td><td>1975-01-18T17:28:42.168+0000</td><td>Houston</td><td>TX</td><td>UA000000103664730</td></tr><tr><td>921.6</td><td>1975-01-19T17:55:44.207+0000</td><td>1975-01-19T17:55:38.299+0000</td><td>Fresno</td><td>CA</td><td>UA000000106682461</td></tr><tr><td>921.6</td><td>1975-01-19T15:40:27.054+0000</td><td>1975-01-19T15:38:51.474+0000</td><td>Glendale</td><td>AZ</td><td>UA000000105925376</td></tr><tr><td>921.6</td><td>1975-01-19T10:53:25.087+0000</td><td>1975-01-19T10:53:21.434+0000</td><td>Meriden</td><td>CT</td><td>UA000000105947678</td></tr><tr><td>921.6</td><td>1975-01-19T14:06:14.521+0000</td><td>1975-01-19T14:06:12.412+0000</td><td>Collinsville</td><td>IL</td><td>UA000000105153963</td></tr><tr><td>921.6</td><td>1975-01-18T19:01:39.276+0000</td><td>1975-01-18T19:01:33.865+0000</td><td>Milwaukee</td><td>WI</td><td>UA000000104620499</td></tr><tr><td>921.6</td><td>1975-01-19T14:10:03.451+0000</td><td>1975-01-19T14:09:55.304+0000</td><td>San Francisco</td><td>CA</td><td>UA000000106159259</td></tr><tr><td>921.6</td><td>1975-01-19T12:03:03.318+0000</td><td>1975-01-19T12:01:03.797+0000</td><td>Lynn</td><td>MA</td><td>UA000000106176826</td></tr><tr><td>921.6</td><td>1975-01-18T13:19:14.857+0000</td><td>1975-01-18T13:15:55.747+0000</td><td>Collinsville</td><td>OK</td><td>UA000000103241876</td></tr><tr><td>921.6</td><td>1975-01-19T11:17:10.264+0000</td><td>1975-01-19T11:13:50.192+0000</td><td>Fort Worth</td><td>TX</td><td>UA000000105854576</td></tr><tr><td>921.6</td><td>1975-01-18T22:12:56.238+0000</td><td>1975-01-18T22:12:46.295+0000</td><td>Lewisville</td><td>TX</td><td>UA000000104108810</td></tr><tr><td>921.6</td><td>1975-01-18T07:25:56.705+0000</td><td>1975-01-18T07:24:31.678+0000</td><td>Memphis</td><td>TN</td><td>UA000000103029691</td></tr><tr><td>921.6</td><td>1975-01-18T21:45:54.178+0000</td><td>1975-01-18T21:43:57.032+0000</td><td>Hoisington</td><td>KS</td><td>UA000000104305128</td></tr><tr><td>921.6</td><td>1975-01-18T10:52:06.492+0000</td><td>1975-01-18T10:51:22.503+0000</td><td>Reading</td><td>PA</td><td>UA000000103512742</td></tr><tr><td>921.6</td><td>1975-01-18T13:53:41.134+0000</td><td>1975-01-18T13:53:37.663+0000</td><td>Atwater</td><td>CA</td><td>UA000000103511923</td></tr><tr><td>921.6</td><td>1975-01-19T17:40:58.020+0000</td><td>1975-01-19T17:40:48.556+0000</td><td>Canton</td><td>OH</td><td>UA000000106609443</td></tr><tr><td>921.6</td><td>1975-01-19T12:21:55.478+0000</td><td>1975-01-19T12:21:01.870+0000</td><td>Reno</td><td>NV</td><td>UA000000106051705</td></tr><tr><td>921.6</td><td>1975-01-18T16:29:28.293+0000</td><td>1975-01-18T16:29:14.296+0000</td><td>Olathe</td><td>KS</td><td>UA000000103623408</td></tr><tr><td>921.6</td><td>1975-01-18T18:22:11.546+0000</td><td>1975-01-18T18:21:37.596+0000</td><td>Baton Rouge</td><td>LA</td><td>UA000000103969465</td></tr><tr><td>921.6</td><td>1975-01-18T21:27:09.671+0000</td><td>1975-01-18T21:26:58.340+0000</td><td>Los Angeles</td><td>CA</td><td>UA000000103966771</td></tr><tr><td>921.6</td><td>1975-01-18T15:19:10.605+0000</td><td>1975-01-18T15:18:55.860+0000</td><td>Charleston</td><td>IL</td><td>UA000000103771157</td></tr><tr><td>921.6</td><td>1975-01-19T12:39:17.665+0000</td><td>1975-01-19T12:38:16.418+0000</td><td>Atlanta</td><td>GA</td><td>UA000000105805854</td></tr><tr><td>921.6</td><td>1975-01-18T23:08:12.814+0000</td><td>1975-01-18T23:04:41.017+0000</td><td>Floresville</td><td>TX</td><td>UA000000104499580</td></tr><tr><td>921.6</td><td>1975-01-19T15:40:05.839+0000</td><td>1975-01-19T15:37:37.159+0000</td><td>Beaumont</td><td>TX</td><td>UA000000106313083</td></tr><tr><td>921.6</td><td>1975-01-19T15:24:59.220+0000</td><td>1975-01-19T15:24:32.808+0000</td><td>Mountain Home</td><td>AR</td><td>UA000000106483407</td></tr><tr><td>921.6</td><td>1975-01-19T17:08:15.893+0000</td><td>1975-01-19T17:07:42.053+0000</td><td>New York</td><td>NY</td><td>UA000000106542042</td></tr><tr><td>921.6</td><td>1975-01-18T15:02:57.152+0000</td><td>1975-01-18T15:02:55.067+0000</td><td>Pittsburg</td><td>CA</td><td>UA000000103911913</td></tr><tr><td>921.6</td><td>1975-01-18T20:45:58.870+0000</td><td>1975-01-18T20:45:34.327+0000</td><td>Tulsa</td><td>OK</td><td>UA000000103925254</td></tr><tr><td>921.6</td><td>1975-01-19T16:39:43.049+0000</td><td>1975-01-19T16:39:28.029+0000</td><td>Rogers</td><td>MN</td><td>UA000000106398171</td></tr><tr><td>921.6</td><td>1975-01-19T17:21:57.177+0000</td><td>1975-01-19T17:21:06.990+0000</td><td>Los Angeles</td><td>CA</td><td>UA000000106411029</td></tr><tr><td>921.6</td><td>1975-01-18T12:12:28.738+0000</td><td>1975-01-18T12:11:44.886+0000</td><td>Glendale</td><td>CA</td><td>UA000000103554470</td></tr><tr><td>921.6</td><td>1975-01-19T03:32:11.648+0000</td><td>1975-01-19T03:31:26.441+0000</td><td>San Jose</td><td>CA</td><td>UA000000105329090</td></tr><tr><td>921.6</td><td>1975-01-19T09:11:52.943+0000</td><td>1975-01-19T09:11:52.719+0000</td><td>Murray</td><td>UT</td><td>UA000000105289468</td></tr><tr><td>921.6</td><td>1975-01-18T12:21:38.687+0000</td><td>1975-01-18T12:21:38.125+0000</td><td>Taunton</td><td>MA</td><td>UA000000102793363</td></tr><tr><td>921.6</td><td>1975-01-19T09:27:09.278+0000</td><td>1975-01-19T09:27:00.569+0000</td><td>Austin</td><td>TX</td><td>UA000000106033641</td></tr><tr><td>921.6</td><td>1975-01-18T22:49:24.356+0000</td><td>1975-01-18T22:48:54.635+0000</td><td>Beaverton</td><td>OR</td><td>UA000000104781963</td></tr><tr><td>921.6</td><td>1975-01-18T23:50:45.940+0000</td><td>1975-01-18T23:49:15.691+0000</td><td>Statham</td><td>GA</td><td>UA000000104530268</td></tr><tr><td>921.6</td><td>1975-01-18T08:51:55.658+0000</td><td>1975-01-18T08:51:54.255+0000</td><td>Cupertino</td><td>CA</td><td>UA000000103218568</td></tr><tr><td>921.6</td><td>1975-01-18T15:31:49.996+0000</td><td>1975-01-18T15:31:44.883+0000</td><td>Renville</td><td>MN</td><td>UA000000103793620</td></tr><tr><td>921.6</td><td>1975-01-19T06:06:19.408+0000</td><td>1975-01-19T06:05:20.450+0000</td><td>Chaska</td><td>MN</td><td>UA000000105556714</td></tr><tr><td>921.6</td><td>1975-01-18T09:27:02.522+0000</td><td>1975-01-18T09:26:44.438+0000</td><td>Plattsmouth</td><td>NE</td><td>UA000000103606251</td></tr><tr><td>921.6</td><td>1975-01-18T17:26:58.131+0000</td><td>1975-01-18T17:26:57.084+0000</td><td>McMinnville</td><td>OR</td><td>UA000000103625377</td></tr><tr><td>921.6</td><td>1975-01-19T01:16:55.464+0000</td><td>1975-01-19T01:16:39.911+0000</td><td>Stow</td><td>OH</td><td>UA000000104834249</td></tr><tr><td>921.6</td><td>1975-01-19T04:13:57.863+0000</td><td>1975-01-19T04:13:41.622+0000</td><td>Horn Lake</td><td>MS</td><td>UA000000104863853</td></tr><tr><td>921.6</td><td>1975-01-19T06:23:27.972+0000</td><td>1975-01-19T06:20:43.529+0000</td><td>Beloit</td><td>WI</td><td>UA000000104925452</td></tr><tr><td>921.6</td><td>1975-01-19T01:22:25.104+0000</td><td>1975-01-19T01:21:22.544+0000</td><td>Mobile</td><td>AL</td><td>UA000000104539081</td></tr><tr><td>921.6</td><td>1975-01-18T13:18:31.741+0000</td><td>1975-01-18T13:14:55.975+0000</td><td>Hemet</td><td>CA</td><td>UA000000102922478</td></tr><tr><td>921.6</td><td>1975-01-18T07:06:02.194+0000</td><td>1975-01-18T07:05:58.083+0000</td><td>San Luis</td><td>AZ</td><td>UA000000102369222</td></tr><tr><td>921.6</td><td>1975-01-19T08:02:20.320+0000</td><td>1975-01-19T08:02:18.844+0000</td><td>Missouri City</td><td>TX</td><td>UA000000105596927</td></tr><tr><td>921.6</td><td>1975-01-19T07:12:20.141+0000</td><td>1975-01-19T07:12:14.695+0000</td><td>Austin</td><td>TX</td><td>UA000000105577373</td></tr><tr><td>921.6</td><td>1975-01-18T09:26:53.426+0000</td><td>1975-01-18T09:26:52.689+0000</td><td>New York</td><td>NY</td><td>UA000000102672525</td></tr><tr><td>921.6</td><td>1975-01-18T11:00:26.752+0000</td><td>1975-01-18T10:59:01.472+0000</td><td>Tucson</td><td>AZ</td><td>UA000000103280514</td></tr><tr><td>921.6</td><td>1975-01-18T08:08:48.546+0000</td><td>1975-01-18T08:08:46.504+0000</td><td>Warsaw</td><td>IN</td><td>UA000000103282183</td></tr><tr><td>921.6</td><td>1975-01-18T12:45:21.540+0000</td><td>1975-01-18T12:45:12.624+0000</td><td>Westlake</td><td>OH</td><td>UA000000103276447</td></tr><tr><td>921.6</td><td>1975-01-19T09:27:48.667+0000</td><td>1975-01-19T09:26:26.083+0000</td><td>Miami Beach</td><td>FL</td><td>UA000000105867193</td></tr><tr><td>921.6</td><td>1975-01-18T09:01:10.386+0000</td><td>1975-01-18T08:58:46.296+0000</td><td>Lumberton</td><td>NC</td><td>UA000000103028242</td></tr><tr><td>921.6</td><td>1975-01-18T12:28:05.513+0000</td><td>1975-01-18T12:28:04.764+0000</td><td>Sacramento</td><td>CA</td><td>UA000000103476882</td></tr><tr><td>921.6</td><td>1975-01-18T11:16:57.951+0000</td><td>1975-01-18T11:12:57.467+0000</td><td>East Orange</td><td>NJ</td><td>UA000000103469130</td></tr><tr><td>921.6</td><td>1975-01-18T11:28:44.009+0000</td><td>1975-01-18T11:28:41.043+0000</td><td>Pittsburgh</td><td>PA</td><td>UA000000103380206</td></tr><tr><td>921.6</td><td>1975-01-19T10:03:29.096+0000</td><td>1975-01-19T09:59:57.319+0000</td><td>Fort Worth</td><td>TX</td><td>UA000000105675461</td></tr><tr><td>921.6</td><td>1975-01-19T11:42:36.233+0000</td><td>1975-01-19T11:42:31.389+0000</td><td>Chetek</td><td>WI</td><td>UA000000105729816</td></tr><tr><td>921.6</td><td>1975-01-19T12:06:24.348+0000</td><td>1975-01-19T12:06:16.624+0000</td><td>Phoenix</td><td>AZ</td><td>UA000000105830858</td></tr><tr><td>921.6</td><td>1975-01-19T10:14:24.762+0000</td><td>1975-01-19T10:14:24.299+0000</td><td>Garden Grove</td><td>CA</td><td>UA000000105811602</td></tr><tr><td>921.6</td><td>1975-01-18T06:23:23.248+0000</td><td>1975-01-18T06:20:46.565+0000</td><td>Manhattan</td><td>KS</td><td>UA000000102583383</td></tr><tr><td>921.6</td><td>1975-01-19T00:05:39.243+0000</td><td>1975-01-19T00:04:04.216+0000</td><td>Champaign</td><td>IL</td><td>UA000000104724192</td></tr><tr><td>921.6</td><td>1975-01-19T03:53:14.779+0000</td><td>1975-01-19T03:53:12.656+0000</td><td>Round Rock</td><td>TX</td><td>UA000000104934883</td></tr><tr><td>921.6</td><td>1975-01-19T12:56:39.433+0000</td><td>1975-01-19T12:56:35.294+0000</td><td>Scottsdale</td><td>AZ</td><td>UA000000106073009</td></tr><tr><td>921.6</td><td>1975-01-19T18:07:17.212+0000</td><td>1975-01-19T18:07:09.479+0000</td><td>Milwaukee</td><td>WI</td><td>UA000000106308862</td></tr><tr><td>921.6</td><td>1975-01-19T10:20:58.803+0000</td><td>1975-01-19T10:20:14.402+0000</td><td>Los Angeles</td><td>CA</td><td>UA000000106409286</td></tr><tr><td>921.6</td><td>1975-01-19T16:25:27.243+0000</td><td>1975-01-19T16:25:19.460+0000</td><td>New York</td><td>NY</td><td>UA000000106417884</td></tr><tr><td>921.6</td><td>1975-01-19T16:51:22.899+0000</td><td>1975-01-19T16:48:40.649+0000</td><td>Garland</td><td>TX</td><td>UA000000106439424</td></tr><tr><td>921.6</td><td>1975-01-18T23:04:29.008+0000</td><td>1975-01-18T23:04:08.763+0000</td><td>Norwalk</td><td>CA</td><td>UA000000104103750</td></tr><tr><td>921.6</td><td>1975-01-18T18:31:31.094+0000</td><td>1975-01-18T18:30:09.408+0000</td><td>Davison</td><td>MI</td><td>UA000000104132321</td></tr><tr><td>921.6</td><td>1975-01-18T19:50:35.805+0000</td><td>1975-01-18T19:50:23.545+0000</td><td>San Bernardino</td><td>CA</td><td>UA000000104108345</td></tr><tr><td>921.6</td><td>1975-01-18T11:54:19.360+0000</td><td>1975-01-18T11:52:08.562+0000</td><td>Grand Prairie</td><td>TX</td><td>UA000000103307295</td></tr><tr><td>921.6</td><td>1975-01-18T20:24:30.050+0000</td><td>1975-01-18T20:23:51.750+0000</td><td>Montrose</td><td>CO</td><td>UA000000104563997</td></tr><tr><td>921.6</td><td>1975-01-18T13:56:01.484+0000</td><td>1975-01-18T13:56:01.155+0000</td><td>Anaheim</td><td>CA</td><td>UA000000103403467</td></tr><tr><td>921.6</td><td>1975-01-18T18:10:11.660+0000</td><td>1975-01-18T18:10:11.002+0000</td><td>Muskegon</td><td>MI</td><td>UA000000103661564</td></tr><tr><td>921.6</td><td>1975-01-18T20:11:03.677+0000</td><td>1975-01-18T20:11:03.447+0000</td><td>Santa Ana</td><td>CA</td><td>UA000000103731668</td></tr><tr><td>921.6</td><td>1975-01-18T05:59:15.600+0000</td><td>1975-01-18T05:58:57.770+0000</td><td>Santa Ana</td><td>CA</td><td>UA000000102632340</td></tr><tr><td>921.6</td><td>1975-01-19T00:58:09.712+0000</td><td>1975-01-19T00:57:46.687+0000</td><td>New York</td><td>NY</td><td>UA000000104757836</td></tr><tr><td>921.6</td><td>1975-01-19T04:41:36.634+0000</td><td>1975-01-19T04:41:36.434+0000</td><td>Danville</td><td>VA</td><td>UA000000104879136</td></tr><tr><td>921.6</td><td>1975-01-19T15:05:30.123+0000</td><td>1975-01-19T15:04:40.478+0000</td><td>Warwick</td><td>RI</td><td>UA000000106118114</td></tr><tr><td>921.6</td><td>1975-01-18T12:07:18.786+0000</td><td>1975-01-18T12:07:02.176+0000</td><td>Tucson</td><td>AZ</td><td>UA000000103226911</td></tr><tr><td>921.6</td><td>1975-01-18T17:13:21.444+0000</td><td>1975-01-18T17:12:45.269+0000</td><td>Gunnison</td><td>CO</td><td>UA000000103837327</td></tr><tr><td>921.6</td><td>1975-01-19T05:18:21.478+0000</td><td>1975-01-19T05:18:21.137+0000</td><td>Harrodsburg</td><td>KY</td><td>UA000000105297056</td></tr><tr><td>921.6</td><td>1975-01-19T11:23:54.928+0000</td><td>1975-01-19T11:23:47.258+0000</td><td>Redmond</td><td>WA</td><td>UA000000105684620</td></tr><tr><td>921.6</td><td>1975-01-19T05:48:05.860+0000</td><td>1975-01-19T05:48:05.519+0000</td><td>Corpus Christi</td><td>TX</td><td>UA000000105749304</td></tr><tr><td>921.6</td><td>1975-01-18T08:04:00.344+0000</td><td>1975-01-18T08:03:55.567+0000</td><td>Blue Springs</td><td>MO</td><td>UA000000102516924</td></tr><tr><td>921.6</td><td>1975-01-19T18:05:23.364+0000</td><td>1975-01-19T18:02:32.020+0000</td><td>Los Angeles</td><td>CA</td><td>UA000000106636223</td></tr><tr><td>921.6</td><td>1975-01-19T18:22:44.806+0000</td><td>1975-01-19T18:22:40.670+0000</td><td>New York</td><td>NY</td><td>UA000000106253360</td></tr><tr><td>921.6</td><td>1975-01-18T12:19:50.560+0000</td><td>1975-01-18T12:19:42.222+0000</td><td>Los Angeles</td><td>CA</td><td>UA000000103304657</td></tr><tr><td>921.6</td><td>1975-01-18T09:34:21.177+0000</td><td>1975-01-18T09:34:12.107+0000</td><td>Las Cruces</td><td>NM</td><td>UA000000103356385</td></tr><tr><td>921.6</td><td>1975-01-18T12:18:33.286+0000</td><td>1975-01-18T12:18:33.073+0000</td><td>Philadelphia</td><td>PA</td><td>UA000000103349487</td></tr><tr><td>903.6</td><td>1975-01-19T14:03:12.756+0000</td><td>1975-01-19T14:03:08.493+0000</td><td>New York</td><td>NY</td><td>UA000000105488893</td></tr><tr><td>903.6</td><td>1975-01-18T12:07:20.098+0000</td><td>1975-01-18T12:04:19.683+0000</td><td>San Antonio</td><td>TX</td><td>UA000000103560668</td></tr><tr><td>903.6</td><td>1975-01-18T08:26:02.134+0000</td><td>1975-01-18T08:26:01.926+0000</td><td>Fond du Lac</td><td>WI</td><td>UA000000102635801</td></tr><tr><td>903.6</td><td>1975-01-18T22:47:57.283+0000</td><td>1975-01-18T22:46:54.911+0000</td><td>Chattanooga</td><td>TN</td><td>UA000000104450106</td></tr><tr><td>903.6</td><td>1975-01-18T23:17:07.141+0000</td><td>1975-01-18T23:17:03.175+0000</td><td>Chicopee</td><td>MA</td><td>UA000000104675336</td></tr><tr><td>903.6</td><td>1975-01-18T22:36:50.047+0000</td><td>1975-01-18T22:35:47.223+0000</td><td>New York</td><td>NY</td><td>UA000000104720097</td></tr><tr><td>903.6</td><td>1975-01-19T00:34:21.509+0000</td><td>1975-01-19T00:29:58.164+0000</td><td>Panama City</td><td>FL</td><td>UA000000104812949</td></tr><tr><td>903.6</td><td>1975-01-19T05:13:30.554+0000</td><td>1975-01-19T05:13:25.138+0000</td><td>Eagan</td><td>MN</td><td>UA000000104789963</td></tr><tr><td>903.6</td><td>1975-01-18T23:12:43.025+0000</td><td>1975-01-18T23:10:02.416+0000</td><td>Topeka</td><td>KS</td><td>UA000000104809877</td></tr><tr><td>903.6</td><td>1975-01-19T01:41:55.451+0000</td><td>1975-01-19T01:40:41.422+0000</td><td>Columbia</td><td>MO</td><td>UA000000104942259</td></tr><tr><td>903.6</td><td>1975-01-18T19:36:26.952+0000</td><td>1975-01-18T19:35:14.481+0000</td><td>Bixby</td><td>OK</td><td>UA000000104501374</td></tr><tr><td>903.6</td><td>1975-01-18T21:43:38.798+0000</td><td>1975-01-18T21:43:32.955+0000</td><td>Moscow</td><td>ID</td><td>UA000000104550540</td></tr><tr><td>903.6</td><td>1975-01-18T07:40:57.310+0000</td><td>1975-01-18T07:38:29.062+0000</td><td>Winston-Salem</td><td>NC</td><td>UA000000102875828</td></tr><tr><td>903.6</td><td>1975-01-19T12:26:50.655+0000</td><td>1975-01-19T12:26:45.579+0000</td><td>Joliet</td><td>IL</td><td>UA000000106149718</td></tr><tr><td>903.6</td><td>1975-01-18T19:25:07.166+0000</td><td>1975-01-18T19:24:40.529+0000</td><td>Dallas</td><td>TX</td><td>UA000000103844313</td></tr><tr><td>903.6</td><td>1975-01-19T16:00:17.717+0000</td><td>1975-01-19T16:00:15.262+0000</td><td>Round Rock</td><td>TX</td><td>UA000000106262783</td></tr><tr><td>903.6</td><td>1975-01-19T17:52:04.703+0000</td><td>1975-01-19T17:52:00.078+0000</td><td>Houston</td><td>TX</td><td>UA000000106292475</td></tr><tr><td>903.6</td><td>1975-01-18T17:57:01.427+0000</td><td>1975-01-18T17:55:56.470+0000</td><td>Deltona</td><td>FL</td><td>UA000000104253735</td></tr><tr><td>903.6</td><td>1975-01-18T11:47:29.007+0000</td><td>1975-01-18T11:47:25.243+0000</td><td>New Orleans</td><td>LA</td><td>UA000000102985275</td></tr><tr><td>903.6</td><td>1975-01-18T18:13:39.233+0000</td><td>1975-01-18T18:13:28.190+0000</td><td>Hailey</td><td>ID</td><td>UA000000104301711</td></tr><tr><td>903.6</td><td>1975-01-18T16:30:43.319+0000</td><td>1975-01-18T16:27:59.993+0000</td><td>Seattle</td><td>WA</td><td>UA000000103537247</td></tr><tr><td>903.6</td><td>1975-01-19T06:40:42.429+0000</td><td>1975-01-19T06:38:52.300+0000</td><td>Fargo</td><td>ND</td><td>UA000000105404649</td></tr><tr><td>903.6</td><td>1975-01-19T13:21:19.294+0000</td><td>1975-01-19T13:20:53.182+0000</td><td>Commerce</td><td>TX</td><td>UA000000106403979</td></tr><tr><td>903.6</td><td>1975-01-18T14:09:34.823+0000</td><td>1975-01-18T14:09:10.983+0000</td><td>Sacramento</td><td>CA</td><td>UA000000103281759</td></tr><tr><td>903.6</td><td>1975-01-18T14:19:22.523+0000</td><td>1975-01-18T14:19:18.354+0000</td><td>Clarksburg</td><td>WV</td><td>UA000000103072937</td></tr><tr><td>903.6</td><td>1975-01-19T13:51:30.575+0000</td><td>1975-01-19T13:51:23.812+0000</td><td>Veneta</td><td>OR</td><td>UA000000105944070</td></tr><tr><td>903.6</td><td>1975-01-18T16:48:13.958+0000</td><td>1975-01-18T16:47:06.266+0000</td><td>Jacksonville</td><td>FL</td><td>UA000000103941289</td></tr><tr><td>903.6</td><td>1975-01-18T15:29:15.787+0000</td><td>1975-01-18T15:28:22.353+0000</td><td>Tuscaloosa</td><td>AL</td><td>UA000000103680015</td></tr><tr><td>903.6</td><td>1975-01-19T05:09:51.253+0000</td><td>1975-01-19T05:07:55.528+0000</td><td>Baker</td><td>LA</td><td>UA000000105034262</td></tr><tr><td>903.6</td><td>1975-01-19T06:02:35.260+0000</td><td>1975-01-19T06:00:20.776+0000</td><td>Lake City</td><td>SC</td><td>UA000000105032454</td></tr><tr><td>903.6</td><td>1975-01-18T07:26:25.542+0000</td><td>1975-01-18T07:25:19.220+0000</td><td>Arlington</td><td>WA</td><td>UA000000102754477</td></tr><tr><td>903.6</td><td>1975-01-18T08:30:22.394+0000</td><td>1975-01-18T08:29:36.436+0000</td><td>Thousand Oaks</td><td>CA</td><td>UA000000102756447</td></tr><tr><td>903.6</td><td>1975-01-19T07:12:58.785+0000</td><td>1975-01-19T07:12:33.514+0000</td><td>Calumet City</td><td>IL</td><td>UA000000105674384</td></tr><tr><td>903.6</td><td>1975-01-18T05:16:50.867+0000</td><td>1975-01-18T05:16:35.487+0000</td><td>Bettendorf</td><td>IA</td><td>UA000000102473007</td></tr><tr><td>903.6</td><td>1975-01-18T05:15:29.003+0000</td><td>1975-01-18T05:15:27.718+0000</td><td>Laredo</td><td>TX</td><td>UA000000102534928</td></tr><tr><td>903.6</td><td>1975-01-19T05:13:12.722+0000</td><td>1975-01-19T05:11:29.591+0000</td><td>Hartford</td><td>CT</td><td>UA000000105219072</td></tr><tr><td>903.6</td><td>1975-01-19T03:09:30.142+0000</td><td>1975-01-19T03:08:24.315+0000</td><td>Portland</td><td>ME</td><td>UA000000105164853</td></tr><tr><td>903.6</td><td>1975-01-18T18:18:34.403+0000</td><td>1975-01-18T18:16:05.702+0000</td><td>Charleston</td><td>SC</td><td>UA000000104133634</td></tr><tr><td>903.6</td><td>1975-01-19T06:36:59.856+0000</td><td>1975-01-19T06:36:49.737+0000</td><td>Downey</td><td>CA</td><td>UA000000105119187</td></tr><tr><td>903.6</td><td>1975-01-19T02:04:11.881+0000</td><td>1975-01-19T02:03:23.834+0000</td><td>Berwyn</td><td>IL</td><td>UA000000105057957</td></tr><tr><td>903.6</td><td>1975-01-19T01:20:44.461+0000</td><td>1975-01-19T01:20:22.720+0000</td><td>Concord</td><td>CA</td><td>UA000000104588528</td></tr><tr><td>903.6</td><td>1975-01-19T15:13:24.969+0000</td><td>1975-01-19T15:13:17.684+0000</td><td>St. Cloud</td><td>MN</td><td>UA000000106208810</td></tr><tr><td>903.6</td><td>1975-01-19T05:21:48.205+0000</td><td>1975-01-19T05:21:33.370+0000</td><td>Bellingham</td><td>WA</td><td>UA000000105242884</td></tr><tr><td>903.6</td><td>1975-01-19T05:16:49.294+0000</td><td>1975-01-19T05:15:35.083+0000</td><td>Shelby</td><td>NC</td><td>UA000000105247944</td></tr><tr><td>903.6</td><td>1975-01-19T07:52:38.613+0000</td><td>1975-01-19T07:51:55.710+0000</td><td>Missouri City</td><td>TX</td><td>UA000000105246170</td></tr><tr><td>903.6</td><td>1975-01-18T12:46:33.065+0000</td><td>1975-01-18T12:46:10.984+0000</td><td>Carver</td><td>MN</td><td>UA000000103373738</td></tr><tr><td>903.6</td><td>1975-01-18T14:00:39.755+0000</td><td>1975-01-18T14:00:04.618+0000</td><td>Caldwell</td><td>ID</td><td>UA000000103410830</td></tr><tr><td>903.6</td><td>1975-01-18T12:40:58.287+0000</td><td>1975-01-18T12:40:56.343+0000</td><td>Escondido</td><td>CA</td><td>UA000000103404758</td></tr><tr><td>903.6</td><td>1975-01-18T15:37:03.777+0000</td><td>1975-01-18T15:35:25.923+0000</td><td>Hayward</td><td>CA</td><td>UA000000103930388</td></tr><tr><td>903.6</td><td>1975-01-18T12:57:20.621+0000</td><td>1975-01-18T12:57:13.905+0000</td><td>Orlando</td><td>FL</td><td>UA000000103727856</td></tr><tr><td>903.6</td><td>1975-01-19T16:10:35.496+0000</td><td>1975-01-19T16:10:26.695+0000</td><td>Albuquerque</td><td>NM</td><td>UA000000106409267</td></tr><tr><td>903.6</td><td>1975-01-18T16:26:55.482+0000</td><td>1975-01-18T16:26:51.642+0000</td><td>Pittsburgh</td><td>PA</td><td>UA000000103546893</td></tr><tr><td>903.6</td><td>1975-01-18T12:46:13.944+0000</td><td>1975-01-18T12:45:22.097+0000</td><td>San Mateo</td><td>CA</td><td>UA000000103518519</td></tr><tr><td>903.6</td><td>1975-01-19T08:08:43.136+0000</td><td>1975-01-19T08:06:11.155+0000</td><td>Hillsboro</td><td>KS</td><td>UA000000105373153</td></tr><tr><td>903.6</td><td>1975-01-18T18:16:26.841+0000</td><td>1975-01-18T18:16:24.550+0000</td><td>New York</td><td>NY</td><td>UA000000103121298</td></tr><tr><td>903.6</td><td>1975-01-19T08:03:35.500+0000</td><td>1975-01-19T08:03:10.664+0000</td><td>Gainesville</td><td>FL</td><td>UA000000105101050</td></tr><tr><td>903.6</td><td>1975-01-19T01:24:15.932+0000</td><td>1975-01-19T01:22:52.554+0000</td><td>Quincy</td><td>MA</td><td>UA000000105069155</td></tr><tr><td>903.6</td><td>1975-01-19T04:08:59.640+0000</td><td>1975-01-19T04:08:31.553+0000</td><td>Woodland</td><td>CA</td><td>UA000000105077816</td></tr><tr><td>903.6</td><td>1975-01-19T11:12:09.616+0000</td><td>1975-01-19T11:11:17.895+0000</td><td>San Francisco</td><td>CA</td><td>UA000000106202259</td></tr><tr><td>903.6</td><td>1975-01-18T09:49:04.509+0000</td><td>1975-01-18T09:49:03.415+0000</td><td>Toledo</td><td>OH</td><td>UA000000102835822</td></tr><tr><td>903.6</td><td>1975-01-18T08:29:06.781+0000</td><td>1975-01-18T08:29:02.453+0000</td><td>Las Cruces</td><td>NM</td><td>UA000000102800687</td></tr><tr><td>903.6</td><td>1975-01-18T10:41:58.916+0000</td><td>1975-01-18T10:41:09.183+0000</td><td>Appleton</td><td>WI</td><td>UA000000102773801</td></tr><tr><td>903.6</td><td>1975-01-19T11:34:37.501+0000</td><td>1975-01-19T11:34:12.342+0000</td><td>Henderson</td><td>NV</td><td>UA000000105669435</td></tr><tr><td>903.6</td><td>1975-01-19T09:44:59.982+0000</td><td>1975-01-19T09:44:59.782+0000</td><td>Georgetown</td><td>TX</td><td>UA000000105788219</td></tr><tr><td>903.6</td><td>1975-01-19T13:21:56.139+0000</td><td>1975-01-19T13:21:55.893+0000</td><td>North Little Rock</td><td>AR</td><td>UA000000105846186</td></tr><tr><td>903.6</td><td>1975-01-18T07:35:32.962+0000</td><td>1975-01-18T07:35:29.741+0000</td><td>Chicago</td><td>IL</td><td>UA000000102577640</td></tr><tr><td>903.6</td><td>1975-01-18T20:27:23.948+0000</td><td>1975-01-18T20:21:37.472+0000</td><td>San Antonio</td><td>TX</td><td>UA000000104360523</td></tr><tr><td>903.6</td><td>1975-01-18T19:02:08.752+0000</td><td>1975-01-18T19:01:51.388+0000</td><td>Carson</td><td>CA</td><td>UA000000104367758</td></tr><tr><td>903.6</td><td>1975-01-18T21:38:54.582+0000</td><td>1975-01-18T21:38:47.748+0000</td><td>Tampa</td><td>FL</td><td>UA000000104376864</td></tr><tr><td>903.6</td><td>1975-01-19T17:59:59.366+0000</td><td>1975-01-19T17:58:55.007+0000</td><td>San Francisco</td><td>CA</td><td>UA000000106329480</td></tr><tr><td>903.6</td><td>1975-01-19T16:17:35.930+0000</td><td>1975-01-19T16:17:34.829+0000</td><td>Frisco</td><td>TX</td><td>UA000000106286518</td></tr><tr><td>903.6</td><td>1975-01-19T17:50:38.454+0000</td><td>1975-01-19T17:49:02.098+0000</td><td>Jacksonville</td><td>FL</td><td>UA000000106021683</td></tr><tr><td>903.6</td><td>1975-01-19T06:47:18.467+0000</td><td>1975-01-19T06:47:11.891+0000</td><td>San Francisco</td><td>CA</td><td>UA000000105962068</td></tr><tr><td>903.6</td><td>1975-01-18T17:11:54.401+0000</td><td>1975-01-18T17:11:39.487+0000</td><td>Smithville</td><td>TX</td><td>UA000000104019812</td></tr><tr><td>903.6</td><td>1975-01-18T17:01:38.354+0000</td><td>1975-01-18T17:01:25.642+0000</td><td>Dallas</td><td>GA</td><td>UA000000103808278</td></tr><tr><td>903.6</td><td>1975-01-18T06:40:03.828+0000</td><td>1975-01-18T06:36:44.422+0000</td><td>Fairborn</td><td>OH</td><td>UA000000102870599</td></tr><tr><td>903.6</td><td>1975-01-18T12:04:08.883+0000</td><td>1975-01-18T12:04:05.367+0000</td><td>Largo</td><td>FL</td><td>UA000000102935721</td></tr><tr><td>903.6</td><td>1975-01-18T15:12:42.694+0000</td><td>1975-01-18T15:10:13.567+0000</td><td>Overland Park</td><td>KS</td><td>UA000000103451775</td></tr><tr><td>903.6</td><td>1975-01-18T14:00:22.833+0000</td><td>1975-01-18T14:00:17.461+0000</td><td>Pine Bluff</td><td>AR</td><td>UA000000103686986</td></tr><tr><td>903.6</td><td>1975-01-19T14:40:40.757+0000</td><td>1975-01-19T14:40:38.467+0000</td><td>Salem</td><td>IL</td><td>UA000000106411494</td></tr><tr><td>903.6</td><td>1975-01-19T02:44:16.473+0000</td><td>1975-01-19T02:43:44.335+0000</td><td>Baton Rouge</td><td>LA</td><td>UA000000105011177</td></tr><tr><td>903.6</td><td>1975-01-19T02:24:15.319+0000</td><td>1975-01-19T02:23:28.687+0000</td><td>San Jose</td><td>CA</td><td>UA000000104988281</td></tr><tr><td>903.6</td><td>1975-01-18T23:45:48.085+0000</td><td>1975-01-18T23:45:16.784+0000</td><td>Tacoma</td><td>WA</td><td>UA000000105042310</td></tr><tr><td>903.6</td><td>1975-01-18T08:42:18.406+0000</td><td>1975-01-18T08:40:18.841+0000</td><td>Grand Forks</td><td>ND</td><td>UA000000102998351</td></tr><tr><td>903.6</td><td>1975-01-18T11:12:36.295+0000</td><td>1975-01-18T11:11:41.020+0000</td><td>Cupertino</td><td>CA</td><td>UA000000103025514</td></tr><tr><td>903.6</td><td>1975-01-18T18:27:42.552+0000</td><td>1975-01-18T18:27:32.993+0000</td><td>Waukesha</td><td>WI</td><td>UA000000103506055</td></tr><tr><td>903.6</td><td>1975-01-18T13:47:32.099+0000</td><td>1975-01-18T13:43:16.383+0000</td><td>New York</td><td>NY</td><td>UA000000103541525</td></tr><tr><td>903.6</td><td>1975-01-18T12:49:44.572+0000</td><td>1975-01-18T12:49:11.969+0000</td><td>Laurel</td><td>MS</td><td>UA000000103258773</td></tr><tr><td>903.6</td><td>1975-01-19T11:08:31.419+0000</td><td>1975-01-19T11:08:10.623+0000</td><td>Lake City</td><td>SC</td><td>UA000000105902208</td></tr><tr><td>903.6</td><td>1975-01-19T08:09:35.180+0000</td><td>1975-01-19T08:08:53.662+0000</td><td>Jackson</td><td>TN</td><td>UA000000105922297</td></tr><tr><td>903.6</td><td>1975-01-19T17:37:46.323+0000</td><td>1975-01-19T17:34:27.042+0000</td><td>Akron</td><td>OH</td><td>UA000000105946733</td></tr><tr><td>903.6</td><td>1975-01-19T11:25:34.862+0000</td><td>1975-01-19T11:24:40.471+0000</td><td>Kalamazoo</td><td>MI</td><td>UA000000105935216</td></tr><tr><td>903.6</td><td>1975-01-18T23:18:26.746+0000</td><td>1975-01-18T23:16:57.260+0000</td><td>Palm Beach Gardens</td><td>FL</td><td>UA000000104634477</td></tr><tr><td>903.6</td><td>1975-01-18T20:49:44.978+0000</td><td>1975-01-18T20:49:38.865+0000</td><td>Baltimore</td><td>MD</td><td>UA000000104626491</td></tr><tr><td>903.6</td><td>1975-01-19T06:36:59.756+0000</td><td>1975-01-19T06:36:59.538+0000</td><td>Peachtree Corners</td><td>GA</td><td>UA000000105343313</td></tr><tr><td>903.6</td><td>1975-01-19T07:21:42.834+0000</td><td>1975-01-19T07:21:05.769+0000</td><td>New Bedford</td><td>MA</td><td>UA000000105344290</td></tr><tr><td>903.6</td><td>1975-01-18T07:25:08.095+0000</td><td>1975-01-18T07:22:48.160+0000</td><td>Southbridge Town</td><td>MA</td><td>UA000000102816365</td></tr><tr><td>903.6</td><td>1975-01-18T08:15:39.287+0000</td><td>1975-01-18T08:14:15.840+0000</td><td>Wyandotte</td><td>MI</td><td>UA000000102799229</td></tr><tr><td>903.6</td><td>1975-01-19T12:37:40.856+0000</td><td>1975-01-19T12:33:52.046+0000</td><td>Hutchinson</td><td>KS</td><td>UA000000105676073</td></tr><tr><td>903.6</td><td>1975-01-19T10:01:06.714+0000</td><td>1975-01-19T10:01:06.422+0000</td><td>Dodge City</td><td>KS</td><td>UA000000105542872</td></tr><tr><td>903.6</td><td>1975-01-19T05:21:06.301+0000</td><td>1975-01-19T05:21:02.018+0000</td><td>Westminster</td><td>MD</td><td>UA000000105501513</td></tr><tr><td>903.6</td><td>1975-01-18T15:54:51.200+0000</td><td>1975-01-18T15:54:48.131+0000</td><td>Storm Lake</td><td>IA</td><td>UA000000103572955</td></tr><tr><td>903.6</td><td>1975-01-19T15:54:09.108+0000</td><td>1975-01-19T15:54:01.189+0000</td><td>New York</td><td>NY</td><td>UA000000106341866</td></tr><tr><td>903.6</td><td>1975-01-19T14:59:26.144+0000</td><td>1975-01-19T14:57:16.900+0000</td><td>Arvin</td><td>CA</td><td>UA000000106317355</td></tr><tr><td>903.6</td><td>1975-01-19T10:06:42.471+0000</td><td>1975-01-19T10:05:38.046+0000</td><td>Charlotte</td><td>NC</td><td>UA000000105784724</td></tr><tr><td>903.6</td><td>1975-01-19T00:28:10.869+0000</td><td>1975-01-19T00:28:10.664+0000</td><td>Fresno</td><td>CA</td><td>UA000000104457229</td></tr><tr><td>903.6</td><td>1975-01-19T00:36:52.525+0000</td><td>1975-01-19T00:32:58.184+0000</td><td>Riverbank</td><td>CA</td><td>UA000000104771831</td></tr><tr><td>903.6</td><td>1975-01-19T03:14:32.231+0000</td><td>1975-01-19T03:13:39.789+0000</td><td>El Paso</td><td>TX</td><td>UA000000104934922</td></tr><tr><td>903.6</td><td>1975-01-19T08:37:30.231+0000</td><td>1975-01-19T08:37:19.423+0000</td><td>Port St. Lucie</td><td>FL</td><td>UA000000105220493</td></tr><tr><td>903.6</td><td>1975-01-19T06:14:43.524+0000</td><td>1975-01-19T06:13:06.374+0000</td><td>Lacey</td><td>WA</td><td>UA000000105191701</td></tr><tr><td>903.6</td><td>1975-01-18T19:50:30.037+0000</td><td>1975-01-18T19:49:51.032+0000</td><td>Brockton</td><td>MA</td><td>UA000000104120748</td></tr><tr><td>903.6</td><td>1975-01-18T17:36:51.135+0000</td><td>1975-01-18T17:32:58.721+0000</td><td>Los Angeles</td><td>CA</td><td>UA000000103901275</td></tr><tr><td>903.6</td><td>1975-01-18T17:39:45.315+0000</td><td>1975-01-18T17:39:19.663+0000</td><td>Columbus</td><td>OH</td><td>UA000000103936675</td></tr><tr><td>903.6</td><td>1975-01-19T18:08:58.933+0000</td><td>1975-01-19T18:08:55.487+0000</td><td>Parma Heights</td><td>OH</td><td>UA000000106772311</td></tr><tr><td>903.6</td><td>1975-01-19T12:46:03.919+0000</td><td>1975-01-19T12:46:02.643+0000</td><td>Virginia Beach</td><td>VA</td><td>UA000000105639633</td></tr><tr><td>903.6</td><td>1975-01-19T16:46:36.458+0000</td><td>1975-01-19T16:46:30.747+0000</td><td>Markham</td><td>IL</td><td>UA000000105573845</td></tr><tr><td>903.6</td><td>1975-01-19T04:44:10.757+0000</td><td>1975-01-19T04:43:58.571+0000</td><td>Lakesite</td><td>TN</td><td>UA000000105019936</td></tr><tr><td>903.6</td><td>1975-01-18T07:41:32.991+0000</td><td>1975-01-18T07:41:28.354+0000</td><td>Houston</td><td>TX</td><td>UA000000102738412</td></tr><tr><td>903.6</td><td>1975-01-18T08:54:22.056+0000</td><td>1975-01-18T08:52:46.423+0000</td><td>Waterbury</td><td>CT</td><td>UA000000103026250</td></tr><tr><td>903.6</td><td>1975-01-18T10:10:13.323+0000</td><td>1975-01-18T10:09:40.298+0000</td><td>Northlake</td><td>IL</td><td>UA000000103023958</td></tr><tr><td>903.6</td><td>1975-01-18T22:59:15.060+0000</td><td>1975-01-18T22:53:15.635+0000</td><td>Dierks</td><td>AR</td><td>UA000000104353130</td></tr><tr><td>903.6</td><td>1975-01-18T16:41:47.987+0000</td><td>1975-01-18T16:39:27.767+0000</td><td>Los Angeles</td><td>CA</td><td>UA000000103495783</td></tr><tr><td>903.6</td><td>1975-01-19T07:41:15.910+0000</td><td>1975-01-19T07:38:49.342+0000</td><td>Mission Viejo</td><td>CA</td><td>UA000000105387325</td></tr><tr><td>903.6</td><td>1975-01-19T09:43:42.922+0000</td><td>1975-01-19T09:43:07.294+0000</td><td>Arnold</td><td>MO</td><td>UA000000105418717</td></tr><tr><td>903.6</td><td>1975-01-19T01:31:53.775+0000</td><td>1975-01-19T01:31:05.038+0000</td><td>Oklahoma City</td><td>OK</td><td>UA000000104637327</td></tr><tr><td>903.6</td><td>1975-01-19T12:48:09.416+0000</td><td>1975-01-19T12:47:53.282+0000</td><td>Barnstable Town</td><td>MA</td><td>UA000000105676581</td></tr><tr><td>903.6</td><td>1975-01-19T11:10:28.397+0000</td><td>1975-01-19T11:06:20.444+0000</td><td>New York</td><td>NY</td><td>UA000000105993891</td></tr><tr><td>903.6</td><td>1975-01-19T13:06:05.985+0000</td><td>1975-01-19T13:02:29.119+0000</td><td>Portland</td><td>OR</td><td>UA000000105463931</td></tr><tr><td>903.6</td><td>1975-01-19T08:45:40.383+0000</td><td>1975-01-19T08:42:23.921+0000</td><td>Pensacola</td><td>FL</td><td>UA000000105515499</td></tr><tr><td>903.6</td><td>1975-01-18T16:06:30.503+0000</td><td>1975-01-18T16:04:32.820+0000</td><td>Columbus</td><td>GA</td><td>UA000000103568054</td></tr><tr><td>903.6</td><td>1975-01-18T16:24:05.990+0000</td><td>1975-01-18T16:23:27.123+0000</td><td>Lehi</td><td>UT</td><td>UA000000103970164</td></tr><tr><td>903.6</td><td>1975-01-18T16:37:25.834+0000</td><td>1975-01-18T16:37:22.175+0000</td><td>Thousand Oaks</td><td>CA</td><td>UA000000104048402</td></tr><tr><td>903.6</td><td>1975-01-18T18:51:15.295+0000</td><td>1975-01-18T18:48:59.997+0000</td><td>Fontana</td><td>CA</td><td>UA000000103997708</td></tr><tr><td>903.6</td><td>1975-01-18T09:43:42.311+0000</td><td>1975-01-18T09:39:20.770+0000</td><td>Tucson</td><td>AZ</td><td>UA000000102891525</td></tr><tr><td>903.6</td><td>1975-01-19T13:40:58.542+0000</td><td>1975-01-19T13:40:36.681+0000</td><td>Dixon</td><td>IL</td><td>UA000000106148279</td></tr><tr><td>903.6</td><td>1975-01-19T13:56:04.979+0000</td><td>1975-01-19T13:56:00.627+0000</td><td>Heath</td><td>TX</td><td>UA000000106103149</td></tr><tr><td>903.6</td><td>1975-01-18T23:10:13.131+0000</td><td>1975-01-18T23:08:01.751+0000</td><td>New York</td><td>NY</td><td>UA000000104835202</td></tr><tr><td>903.6</td><td>1975-01-19T01:59:50.274+0000</td><td>1975-01-19T01:59:27.463+0000</td><td>Albuquerque</td><td>NM</td><td>UA000000104912045</td></tr><tr><td>903.6</td><td>1975-01-19T04:08:32.590+0000</td><td>1975-01-19T04:07:47.047+0000</td><td>Grosse Pointe Park</td><td>MI</td><td>UA000000104909065</td></tr><tr><td>903.6</td><td>1975-01-18T21:37:55.749+0000</td><td>1975-01-18T21:34:04.713+0000</td><td>Columbia City</td><td>OR</td><td>UA000000104238943</td></tr><tr><td>903.6</td><td>1975-01-18T22:21:12.084+0000</td><td>1975-01-18T22:17:48.610+0000</td><td>Chandler</td><td>AZ</td><td>UA000000104214934</td></tr><tr><td>903.6</td><td>1975-01-19T16:38:14.978+0000</td><td>1975-01-19T16:37:39.375+0000</td><td>Sandy</td><td>UT</td><td>UA000000106482549</td></tr><tr><td>903.6</td><td>1975-01-19T14:03:28.165+0000</td><td>1975-01-19T14:02:14.066+0000</td><td>Elkhorn</td><td>WI</td><td>UA000000105229790</td></tr><tr><td>903.6</td><td>1975-01-18T18:38:29.644+0000</td><td>1975-01-18T18:38:09.456+0000</td><td>Mission Viejo</td><td>CA</td><td>UA000000104136943</td></tr><tr><td>903.6</td><td>1975-01-18T20:26:16.620+0000</td><td>1975-01-18T20:24:29.589+0000</td><td>Alameda</td><td>CA</td><td>UA000000104064960</td></tr><tr><td>903.6</td><td>1975-01-18T15:09:47.316+0000</td><td>1975-01-18T15:09:44.737+0000</td><td>San Jose</td><td>CA</td><td>UA000000103382863</td></tr><tr><td>903.6</td><td>1975-01-18T17:35:18.517+0000</td><td>1975-01-18T17:35:12.721+0000</td><td>Monticello</td><td>IL</td><td>UA000000103953524</td></tr><tr><td>903.6</td><td>1975-01-19T05:32:04.458+0000</td><td>1975-01-19T05:28:28.211+0000</td><td>Hialeah Gardens</td><td>FL</td><td>UA000000105000980</td></tr><tr><td>903.6</td><td>1975-01-18T19:35:29.595+0000</td><td>1975-01-18T19:35:25.548+0000</td><td>Riverside</td><td>CA</td><td>UA000000104295899</td></tr><tr><td>903.6</td><td>1975-01-18T20:05:34.000+0000</td><td>1975-01-18T20:04:59.889+0000</td><td>San Antonio</td><td>TX</td><td>UA000000104356592</td></tr><tr><td>903.6</td><td>1975-01-19T09:01:11.285+0000</td><td>1975-01-19T09:01:06.300+0000</td><td>New York</td><td>NY</td><td>UA000000105861963</td></tr><tr><td>903.6</td><td>1975-01-19T01:17:46.037+0000</td><td>1975-01-19T01:16:51.666+0000</td><td>Aurora</td><td>CO</td><td>UA000000105069281</td></tr><tr><td>903.6</td><td>1975-01-19T05:31:39.192+0000</td><td>1975-01-19T05:30:37.719+0000</td><td>Charlotte</td><td>NC</td><td>UA000000105145392</td></tr><tr><td>903.6</td><td>1975-01-19T01:01:37.570+0000</td><td>1975-01-19T01:01:16.559+0000</td><td>Washington</td><td>DC</td><td>UA000000104567245</td></tr><tr><td>903.6</td><td>1975-01-18T21:16:37.377+0000</td><td>1975-01-18T21:16:06.225+0000</td><td>Austin</td><td>TX</td><td>UA000000104621614</td></tr><tr><td>903.6</td><td>1975-01-19T02:42:25.782+0000</td><td>1975-01-19T02:41:00.158+0000</td><td>Harrison</td><td>AR</td><td>UA000000104638866</td></tr><tr><td>903.6</td><td>1975-01-18T06:51:37.923+0000</td><td>1975-01-18T06:49:24.535+0000</td><td>Florence</td><td>KY</td><td>UA000000102765314</td></tr><tr><td>903.6</td><td>1975-01-19T09:19:54.749+0000</td><td>1975-01-19T09:19:47.985+0000</td><td>Salinas</td><td>CA</td><td>UA000000105698092</td></tr><tr><td>903.6</td><td>1975-01-19T15:07:16.289+0000</td><td>1975-01-19T15:07:03.829+0000</td><td>Havre de Grace</td><td>MD</td><td>UA000000106005378</td></tr><tr><td>903.6</td><td>1975-01-19T05:33:07.994+0000</td><td>1975-01-19T05:32:56.822+0000</td><td>Anaheim</td><td>CA</td><td>UA000000104744091</td></tr><tr><td>903.6</td><td>1975-01-19T00:33:08.558+0000</td><td>1975-01-19T00:32:54.640+0000</td><td>Vancouver</td><td>WA</td><td>UA000000104936956</td></tr><tr><td>903.6</td><td>1975-01-19T06:11:48.816+0000</td><td>1975-01-19T06:11:39.736+0000</td><td>New York</td><td>NY</td><td>UA000000104908866</td></tr><tr><td>903.6</td><td>1975-01-19T02:39:58.752+0000</td><td>1975-01-19T02:39:58.435+0000</td><td>Philadelphia</td><td>PA</td><td>UA000000104514646</td></tr><tr><td>903.6</td><td>1975-01-18T11:32:07.250+0000</td><td>1975-01-18T11:31:52.398+0000</td><td>Sacramento</td><td>CA</td><td>UA000000102924029</td></tr><tr><td>903.6</td><td>1975-01-19T16:58:09.642+0000</td><td>1975-01-19T16:57:54.784+0000</td><td>Hammond</td><td>IN</td><td>UA000000106090051</td></tr><tr><td>903.6</td><td>1975-01-18T08:25:30.439+0000</td><td>1975-01-18T08:25:27.339+0000</td><td>Glendale</td><td>CA</td><td>UA000000102442720</td></tr><tr><td>903.6</td><td>1975-01-18T12:27:59.768+0000</td><td>1975-01-18T12:25:10.659+0000</td><td>Newton</td><td>MA</td><td>UA000000103218303</td></tr><tr><td>903.6</td><td>1975-01-18T14:49:06.466+0000</td><td>1975-01-18T14:49:05.853+0000</td><td>Medford</td><td>OR</td><td>UA000000103652434</td></tr><tr><td>903.6</td><td>1975-01-19T08:53:19.682+0000</td><td>1975-01-19T08:46:53.771+0000</td><td>Phoenix</td><td>AZ</td><td>UA000000105771289</td></tr><tr><td>903.6</td><td>1975-01-18T07:16:07.828+0000</td><td>1975-01-18T07:16:05.276+0000</td><td>Erlanger</td><td>KY</td><td>UA000000102651095</td></tr><tr><td>903.6</td><td>1975-01-18T08:48:37.287+0000</td><td>1975-01-18T08:47:54.038+0000</td><td>Pinellas Park</td><td>FL</td><td>UA000000102623932</td></tr><tr><td>903.6</td><td>1975-01-18T23:03:43.060+0000</td><td>1975-01-18T23:00:29.083+0000</td><td>Chicago</td><td>IL</td><td>UA000000104498901</td></tr><tr><td>903.6</td><td>1975-01-18T06:34:42.959+0000</td><td>1975-01-18T06:34:28.897+0000</td><td>Manchester</td><td>NH</td><td>UA000000102404999</td></tr><tr><td>903.6</td><td>1975-01-18T23:43:19.660+0000</td><td>1975-01-18T23:43:18.872+0000</td><td>Bellevue</td><td>WA</td><td>UA000000104005363</td></tr><tr><td>903.6</td><td>1975-01-18T20:46:18.420+0000</td><td>1975-01-18T20:46:02.302+0000</td><td>Helotes</td><td>TX</td><td>UA000000103974819</td></tr><tr><td>903.6</td><td>1975-01-18T19:42:14.402+0000</td><td>1975-01-18T19:42:10.897+0000</td><td>Lubbock</td><td>TX</td><td>UA000000104000967</td></tr><tr><td>903.6</td><td>1975-01-18T15:11:12.176+0000</td><td>1975-01-18T15:09:32.236+0000</td><td>Pawhuska</td><td>OK</td><td>UA000000103823355</td></tr><tr><td>903.6</td><td>1975-01-18T15:38:37.427+0000</td><td>1975-01-18T15:36:11.124+0000</td><td>Seaford</td><td>DE</td><td>UA000000103759647</td></tr><tr><td>903.6</td><td>1975-01-19T16:44:05.773+0000</td><td>1975-01-19T16:43:57.467+0000</td><td>San Antonio</td><td>TX</td><td>UA000000106285717</td></tr><tr><td>903.6</td><td>1975-01-19T16:18:34.665+0000</td><td>1975-01-19T16:18:31.103+0000</td><td>Dallas</td><td>TX</td><td>UA000000106325354</td></tr><tr><td>903.6</td><td>1975-01-18T19:17:33.011+0000</td><td>1975-01-18T19:16:20.603+0000</td><td>Monticello</td><td>KY</td><td>UA000000104233499</td></tr><tr><td>903.6</td><td>1975-01-19T11:53:21.298+0000</td><td>1975-01-19T11:52:27.174+0000</td><td>Sarasota</td><td>FL</td><td>UA000000105571347</td></tr><tr><td>903.6</td><td>1975-01-19T05:51:24.761+0000</td><td>1975-01-19T05:48:44.437+0000</td><td>Sealy</td><td>TX</td><td>UA000000104986846</td></tr><tr><td>903.6</td><td>1975-01-19T03:56:10.523+0000</td><td>1975-01-19T03:55:31.285+0000</td><td>San Antonio</td><td>TX</td><td>UA000000105000840</td></tr><tr><td>903.6</td><td>1975-01-19T02:19:14.080+0000</td><td>1975-01-19T02:18:11.571+0000</td><td>Los Angeles</td><td>CA</td><td>UA000000105010592</td></tr><tr><td>903.6</td><td>1975-01-18T23:16:44.557+0000</td><td>1975-01-18T23:16:36.743+0000</td><td>Los Angeles</td><td>CA</td><td>UA000000105007299</td></tr><tr><td>903.6</td><td>1975-01-18T09:45:00.945+0000</td><td>1975-01-18T09:44:54.820+0000</td><td>Baltimore</td><td>MD</td><td>UA000000102751081</td></tr><tr><td>903.6</td><td>1975-01-18T07:40:20.201+0000</td><td>1975-01-18T07:40:18.969+0000</td><td>Wichita</td><td>KS</td><td>UA000000102703281</td></tr><tr><td>903.6</td><td>1975-01-19T10:00:19.067+0000</td><td>1975-01-19T09:59:25.509+0000</td><td>Holly Hill</td><td>FL</td><td>UA000000105871207</td></tr><tr><td>903.6</td><td>1975-01-19T13:02:15.622+0000</td><td>1975-01-19T13:02:00.366+0000</td><td>Baltimore</td><td>MD</td><td>UA000000105953283</td></tr><tr><td>903.6</td><td>1975-01-18T21:53:03.978+0000</td><td>1975-01-18T21:49:08.219+0000</td><td>Bakersfield</td><td>CA</td><td>UA000000104127392</td></tr><tr><td>903.6</td><td>1975-01-19T01:35:26.588+0000</td><td>1975-01-19T01:35:20.375+0000</td><td>Tampa</td><td>FL</td><td>UA000000104607066</td></tr><tr><td>903.6</td><td>1975-01-18T11:57:33.817+0000</td><td>1975-01-18T11:56:33.647+0000</td><td>El Paso</td><td>TX</td><td>UA000000103014535</td></tr><tr><td>903.6</td><td>1975-01-18T21:39:13.941+0000</td><td>1975-01-18T21:38:49.701+0000</td><td>Cape Coral</td><td>FL</td><td>UA000000104314859</td></tr><tr><td>903.6</td><td>1975-01-18T11:36:25.327+0000</td><td>1975-01-18T11:36:08.664+0000</td><td>Griffin</td><td>GA</td><td>UA000000103368370</td></tr><tr><td>903.6</td><td>1975-01-18T16:56:20.428+0000</td><td>1975-01-18T16:56:00.097+0000</td><td>Jacksonville</td><td>NC</td><td>UA000000103678918</td></tr><tr><td>903.6</td><td>1975-01-18T18:58:54.638+0000</td><td>1975-01-18T18:57:30.150+0000</td><td>Crisfield</td><td>MD</td><td>UA000000103732943</td></tr><tr><td>903.6</td><td>1975-01-19T12:24:32.746+0000</td><td>1975-01-19T12:23:40.000+0000</td><td>Ocala</td><td>FL</td><td>UA000000105275850</td></tr><tr><td>903.6</td><td>1975-01-18T08:45:37.221+0000</td><td>1975-01-18T08:45:35.217+0000</td><td>Byron</td><td>MN</td><td>UA000000102812024</td></tr><tr><td>903.6</td><td>1975-01-19T08:42:08.777+0000</td><td>1975-01-19T08:40:31.808+0000</td><td>Lafayette</td><td>IN</td><td>UA000000105701354</td></tr><tr><td>903.6</td><td>1975-01-19T14:53:54.000+0000</td><td>1975-01-19T14:53:21.533+0000</td><td>South Fulton</td><td>GA</td><td>UA000000105973369</td></tr><tr><td>903.6</td><td>1975-01-18T16:05:09.603+0000</td><td>1975-01-18T16:05:09.178+0000</td><td>Chicago</td><td>IL</td><td>UA000000103617864</td></tr><tr><td>903.6</td><td>1975-01-19T10:09:51.995+0000</td><td>1975-01-19T10:09:23.833+0000</td><td>Pasadena</td><td>TX</td><td>UA000000105784319</td></tr><tr><td>903.6</td><td>1975-01-19T12:42:25.198+0000</td><td>1975-01-19T12:41:54.485+0000</td><td>Boise City</td><td>ID</td><td>UA000000105790497</td></tr><tr><td>903.6</td><td>1975-01-18T21:39:16.187+0000</td><td>1975-01-18T21:38:16.190+0000</td><td>Ontario</td><td>CA</td><td>UA000000104449689</td></tr><tr><td>903.6</td><td>1975-01-18T23:34:59.555+0000</td><td>1975-01-18T23:34:57.690+0000</td><td>Bakersfield</td><td>CA</td><td>UA000000104389388</td></tr><tr><td>903.6</td><td>1975-01-19T01:11:20.343+0000</td><td>1975-01-19T01:11:15.872+0000</td><td>St. Petersburg</td><td>FL</td><td>UA000000104790051</td></tr><tr><td>903.6</td><td>1975-01-19T00:51:47.688+0000</td><td>1975-01-19T00:51:33.004+0000</td><td>Hillsboro</td><td>OR</td><td>UA000000104774249</td></tr><tr><td>903.6</td><td>1975-01-18T22:53:41.844+0000</td><td>1975-01-18T22:53:33.897+0000</td><td>Elk Grove</td><td>CA</td><td>UA000000104498539</td></tr><tr><td>903.6</td><td>1975-01-18T08:03:56.225+0000</td><td>1975-01-18T08:03:45.514+0000</td><td>Lewisville</td><td>TX</td><td>UA000000102893385</td></tr><tr><td>903.6</td><td>1975-01-18T10:08:42.576+0000</td><td>1975-01-18T10:05:40.851+0000</td><td>Gautier</td><td>MS</td><td>UA000000102942875</td></tr><tr><td>903.6</td><td>1975-01-19T11:27:27.946+0000</td><td>1975-01-19T11:27:15.311+0000</td><td>Oxnard</td><td>CA</td><td>UA000000106141385</td></tr><tr><td>903.6</td><td>1975-01-19T12:30:01.558+0000</td><td>1975-01-19T12:29:34.324+0000</td><td>Miami</td><td>FL</td><td>UA000000106099524</td></tr><tr><td>903.6</td><td>1975-01-18T06:11:49.819+0000</td><td>1975-01-18T06:11:49.601+0000</td><td>Hanford</td><td>CA</td><td>UA000000102435163</td></tr><tr><td>903.6</td><td>1975-01-18T22:18:50.385+0000</td><td>1975-01-18T22:18:49.920+0000</td><td>Lakewood</td><td>CO</td><td>UA000000103983452</td></tr><tr><td>903.6</td><td>1975-01-18T14:29:09.256+0000</td><td>1975-01-18T14:27:50.611+0000</td><td>Yuma</td><td>AZ</td><td>UA000000103176251</td></tr><tr><td>903.6</td><td>1975-01-18T12:48:07.848+0000</td><td>1975-01-18T12:47:44.173+0000</td><td>Jacksonville</td><td>FL</td><td>UA000000103220478</td></tr><tr><td>903.6</td><td>1975-01-19T17:32:58.318+0000</td><td>1975-01-19T17:31:56.445+0000</td><td>Laredo</td><td>TX</td><td>UA000000106437400</td></tr><tr><td>903.6</td><td>1975-01-19T11:43:13.136+0000</td><td>1975-01-19T11:43:12.049+0000</td><td>Durham</td><td>NC</td><td>UA000000106386916</td></tr><tr><td>903.6</td><td>1975-01-19T09:51:08.675+0000</td><td>1975-01-19T09:50:10.236+0000</td><td>Marion</td><td>IA</td><td>UA000000105595410</td></tr><tr><td>903.6</td><td>1975-01-19T09:14:03.690+0000</td><td>1975-01-19T09:12:49.618+0000</td><td>Greensboro</td><td>NC</td><td>UA000000105299802</td></tr><tr><td>903.6</td><td>1975-01-19T07:56:33.986+0000</td><td>1975-01-19T07:56:33.211+0000</td><td>Indianapolis</td><td>IN</td><td>UA000000105294370</td></tr><tr><td>903.6</td><td>1975-01-18T07:35:47.558+0000</td><td>1975-01-18T07:35:28.398+0000</td><td>Fitchburg</td><td>MA</td><td>UA000000102808579</td></tr><tr><td>903.6</td><td>1975-01-19T17:35:59.375+0000</td><td>1975-01-19T17:35:29.271+0000</td><td>Sheboygan Falls</td><td>WI</td><td>UA000000106543367</td></tr><tr><td>903.6</td><td>1975-01-19T12:10:06.700+0000</td><td>1975-01-19T12:09:43.132+0000</td><td>Kaplan</td><td>LA</td><td>UA000000105181745</td></tr><tr><td>903.6</td><td>1975-01-19T11:02:24.263+0000</td><td>1975-01-19T11:02:13.044+0000</td><td>Federal Way</td><td>WA</td><td>UA000000105188122</td></tr><tr><td>903.6</td><td>1975-01-18T19:28:47.664+0000</td><td>1975-01-18T19:28:29.052+0000</td><td>New York</td><td>NY</td><td>UA000000104150371</td></tr><tr><td>903.6</td><td>1975-01-18T10:18:21.100+0000</td><td>1975-01-18T10:18:08.141+0000</td><td>Cathedral City</td><td>CA</td><td>UA000000103105006</td></tr><tr><td>903.6</td><td>1975-01-19T15:09:51.536+0000</td><td>1975-01-19T15:06:10.454+0000</td><td>Greensboro</td><td>NC</td><td>UA000000105886504</td></tr><tr><td>903.6</td><td>1975-01-19T10:56:50.169+0000</td><td>1975-01-19T10:56:34.602+0000</td><td>El Dorado</td><td>KS</td><td>UA000000105940167</td></tr><tr><td>903.6</td><td>1975-01-19T11:17:06.586+0000</td><td>1975-01-19T11:16:48.599+0000</td><td>McFarland</td><td>CA</td><td>UA000000105127929</td></tr><tr><td>903.6</td><td>1975-01-19T00:40:55.286+0000</td><td>1975-01-19T00:40:52.809+0000</td><td>Tucker</td><td>GA</td><td>UA000000105150401</td></tr><tr><td>903.6</td><td>1975-01-19T12:05:43.029+0000</td><td>1975-01-19T12:04:02.441+0000</td><td>San Jose</td><td>CA</td><td>UA000000106164649</td></tr><tr><td>903.6</td><td>1975-01-18T13:51:22.645+0000</td><td>1975-01-18T13:51:07.133+0000</td><td>Punta Gorda</td><td>FL</td><td>UA000000103019282</td></tr><tr><td>903.6</td><td>1975-01-18T11:45:26.814+0000</td><td>1975-01-18T11:44:21.304+0000</td><td>Pembroke Pines</td><td>FL</td><td>UA000000103493450</td></tr><tr><td>903.6</td><td>1975-01-18T14:16:42.364+0000</td><td>1975-01-18T14:15:44.619+0000</td><td>Fresno</td><td>CA</td><td>UA000000103459095</td></tr><tr><td>903.6</td><td>1975-01-19T03:01:12.423+0000</td><td>1975-01-19T03:01:03.432+0000</td><td>Lauderhill</td><td>FL</td><td>UA000000105380179</td></tr><tr><td>903.6</td><td>1975-01-19T08:44:25.993+0000</td><td>1975-01-19T08:44:24.865+0000</td><td>Russellville</td><td>AR</td><td>UA000000105434011</td></tr><tr><td>903.6</td><td>1975-01-18T15:28:47.931+0000</td><td>1975-01-18T15:27:31.996+0000</td><td>Abilene</td><td>TX</td><td>UA000000103401786</td></tr><tr><td>903.6</td><td>1975-01-18T17:05:12.858+0000</td><td>1975-01-18T17:05:11.710+0000</td><td>St. Clair Shores</td><td>MI</td><td>UA000000103933926</td></tr><tr><td>903.6</td><td>1975-01-18T19:49:08.069+0000</td><td>1975-01-18T19:49:04.846+0000</td><td>East Point</td><td>GA</td><td>UA000000103755369</td></tr><tr><td>903.6</td><td>1975-01-18T15:49:58.395+0000</td><td>1975-01-18T15:49:56.192+0000</td><td>Henderson</td><td>NV</td><td>UA000000103751222</td></tr><tr><td>903.6</td><td>1975-01-18T16:50:09.599+0000</td><td>1975-01-18T16:47:15.999+0000</td><td>Smyrna</td><td>GA</td><td>UA000000103701153</td></tr><tr><td>903.6</td><td>1975-01-19T08:26:45.782+0000</td><td>1975-01-19T08:26:06.604+0000</td><td>Washington</td><td>DC</td><td>UA000000105544769</td></tr><tr><td>903.6</td><td>1975-01-18T16:54:07.897+0000</td><td>1975-01-18T16:54:03.407+0000</td><td>Wichita Falls</td><td>TX</td><td>UA000000103625186</td></tr><tr><td>903.6</td><td>1975-01-18T11:02:16.091+0000</td><td>1975-01-18T11:01:59.713+0000</td><td>Raleigh</td><td>NC</td><td>UA000000103573005</td></tr><tr><td>903.6</td><td>1975-01-18T09:39:21.717+0000</td><td>1975-01-18T09:37:44.377+0000</td><td>Portage</td><td>IN</td><td>UA000000102646246</td></tr><tr><td>903.6</td><td>1975-01-19T01:39:18.872+0000</td><td>1975-01-19T01:35:59.646+0000</td><td>Cloquet</td><td>MN</td><td>UA000000104688518</td></tr><tr><td>903.6</td><td>1975-01-19T00:38:38.187+0000</td><td>1975-01-19T00:36:37.402+0000</td><td>Lawrence</td><td>KS</td><td>UA000000104771633</td></tr><tr><td>903.6</td><td>1975-01-19T00:35:56.891+0000</td><td>1975-01-19T00:35:17.206+0000</td><td>Pembroke Pines</td><td>FL</td><td>UA000000104949080</td></tr><tr><td>903.6</td><td>1975-01-19T03:03:33.696+0000</td><td>1975-01-19T03:02:20.924+0000</td><td>Colwich</td><td>KS</td><td>UA000000104935078</td></tr><tr><td>903.6</td><td>1975-01-18T07:23:41.205+0000</td><td>1975-01-18T07:23:34.560+0000</td><td>Fremont</td><td>CA</td><td>UA000000102901691</td></tr><tr><td>903.6</td><td>1975-01-19T17:37:23.550+0000</td><td>1975-01-19T17:36:36.193+0000</td><td>Jacksonville</td><td>OR</td><td>UA000000106154771</td></tr><tr><td>903.6</td><td>1975-01-18T18:28:28.317+0000</td><td>1975-01-18T18:28:24.604+0000</td><td>King</td><td>NC</td><td>UA000000104021645</td></tr><tr><td>903.6</td><td>1975-01-18T10:57:06.304+0000</td><td>1975-01-18T10:57:03.928+0000</td><td>Memphis</td><td>TN</td><td>UA000000103211656</td></tr><tr><td>903.6</td><td>1975-01-18T15:36:34.168+0000</td><td>1975-01-18T15:36:10.305+0000</td><td>Aurora</td><td>IL</td><td>UA000000103255561</td></tr><tr><td>903.6</td><td>1975-01-18T10:01:26.668+0000</td><td>1975-01-18T10:01:08.624+0000</td><td>Warren</td><td>OH</td><td>UA000000103236746</td></tr><tr><td>903.6</td><td>1975-01-18T13:11:18.014+0000</td><td>1975-01-18T13:11:16.557+0000</td><td>Hammond</td><td>IN</td><td>UA000000103770398</td></tr><tr><td>903.6</td><td>1975-01-19T18:15:16.347+0000</td><td>1975-01-19T18:12:23.758+0000</td><td>Everett</td><td>WA</td><td>UA000000106304949</td></tr><tr><td>903.6</td><td>1975-01-18T23:51:16.544+0000</td><td>1975-01-18T23:48:51.007+0000</td><td>Westland</td><td>MI</td><td>UA000000105016841</td></tr><tr><td>903.6</td><td>1975-01-19T17:35:52.701+0000</td><td>1975-01-19T17:34:57.454+0000</td><td>Saratoga Springs</td><td>UT</td><td>UA000000106753757</td></tr><tr><td>903.6</td><td>1975-01-19T17:12:07.511+0000</td><td>1975-01-19T17:12:00.798+0000</td><td>Greensboro</td><td>NC</td><td>UA000000106707559</td></tr><tr><td>903.6</td><td>1975-01-18T07:33:39.577+0000</td><td>1975-01-18T07:33:25.555+0000</td><td>Walker</td><td>MI</td><td>UA000000102731603</td></tr><tr><td>903.6</td><td>1975-01-18T09:06:47.688+0000</td><td>1975-01-18T09:06:25.716+0000</td><td>Revere</td><td>MA</td><td>UA000000102690258</td></tr><tr><td>903.6</td><td>1975-01-18T09:48:08.030+0000</td><td>1975-01-18T09:45:47.922+0000</td><td>Buffalo</td><td>NY</td><td>UA000000102845533</td></tr><tr><td>903.6</td><td>1975-01-19T07:32:46.591+0000</td><td>1975-01-19T07:32:46.245+0000</td><td>Hercules</td><td>CA</td><td>UA000000105667831</td></tr><tr><td>903.6</td><td>1975-01-19T16:04:40.685+0000</td><td>1975-01-19T16:03:25.824+0000</td><td>Raleigh</td><td>NC</td><td>UA000000106417753</td></tr><tr><td>903.6</td><td>1975-01-19T10:18:31.839+0000</td><td>1975-01-19T10:17:20.498+0000</td><td>Bloomingdale</td><td>GA</td><td>UA000000105615335</td></tr><tr><td>903.6</td><td>1975-01-19T08:48:42.521+0000</td><td>1975-01-19T08:47:40.052+0000</td><td>College Station</td><td>TX</td><td>UA000000105655979</td></tr><tr><td>903.6</td><td>1975-01-19T11:46:52.323+0000</td><td>1975-01-19T11:45:12.439+0000</td><td>New York</td><td>NY</td><td>UA000000105558004</td></tr><tr><td>903.6</td><td>1975-01-18T10:57:48.960+0000</td><td>1975-01-18T10:56:52.936+0000</td><td>El Cajon</td><td>CA</td><td>UA000000102984345</td></tr><tr><td>903.6</td><td>1975-01-18T10:38:15.760+0000</td><td>1975-01-18T10:38:15.503+0000</td><td>Council Grove</td><td>KS</td><td>UA000000103504133</td></tr><tr><td>903.6</td><td>1975-01-18T12:45:33.353+0000</td><td>1975-01-18T12:44:55.508+0000</td><td>Caldwell</td><td>ID</td><td>UA000000103490330</td></tr><tr><td>903.6</td><td>1975-01-19T08:49:59.355+0000</td><td>1975-01-19T08:45:43.622+0000</td><td>Middletown</td><td>OH</td><td>UA000000105430912</td></tr><tr><td>903.6</td><td>1975-01-18T11:58:15.389+0000</td><td>1975-01-18T11:58:07.552+0000</td><td>Columbus</td><td>OH</td><td>UA000000103423358</td></tr><tr><td>903.6</td><td>1975-01-18T11:56:21.864+0000</td><td>1975-01-18T11:55:59.584+0000</td><td>Livonia</td><td>MI</td><td>UA000000103364451</td></tr><tr><td>903.6</td><td>1975-01-18T18:03:12.355+0000</td><td>1975-01-18T18:02:41.195+0000</td><td>Chula Vista</td><td>CA</td><td>UA000000103945245</td></tr><tr><td>903.6</td><td>1975-01-18T16:25:19.873+0000</td><td>1975-01-18T16:24:40.931+0000</td><td>Buffalo</td><td>NY</td><td>UA000000103721835</td></tr><tr><td>903.6</td><td>1975-01-18T15:41:42.164+0000</td><td>1975-01-18T15:41:18.725+0000</td><td>Taunton</td><td>MA</td><td>UA000000103666449</td></tr><tr><td>903.6</td><td>1975-01-18T15:46:46.198+0000</td><td>1975-01-18T15:46:21.251+0000</td><td>New York</td><td>NY</td><td>UA000000103678907</td></tr><tr><td>903.6</td><td>1975-01-18T14:11:53.938+0000</td><td>1975-01-18T14:11:33.160+0000</td><td>Fresno</td><td>CA</td><td>UA000000103687540</td></tr><tr><td>903.6</td><td>1975-01-19T17:46:52.610+0000</td><td>1975-01-19T17:41:01.678+0000</td><td>Lincoln</td><td>IL</td><td>UA000000106827362</td></tr><tr><td>903.6</td><td>1975-01-19T18:02:06.621+0000</td><td>1975-01-19T18:02:06.132+0000</td><td>New York</td><td>NY</td><td>UA000000106485859</td></tr><tr><td>903.6</td><td>1975-01-19T06:33:27.399+0000</td><td>1975-01-19T06:31:53.284+0000</td><td>Los Angeles</td><td>CA</td><td>UA000000105181511</td></tr><tr><td>903.6</td><td>1975-01-19T06:06:43.526+0000</td><td>1975-01-19T06:06:41.922+0000</td><td>Bothell</td><td>WA</td><td>UA000000105193431</td></tr><tr><td>903.6</td><td>1975-01-19T15:17:42.232+0000</td><td>1975-01-19T15:17:40.796+0000</td><td>West Columbia</td><td>TX</td><td>UA000000106256102</td></tr><tr><td>903.6</td><td>1975-01-18T12:51:53.571+0000</td><td>1975-01-18T12:51:46.736+0000</td><td>Hope</td><td>AR</td><td>UA000000103284142</td></tr><tr><td>903.6</td><td>1975-01-18T14:58:54.713+0000</td><td>1975-01-18T14:58:54.251+0000</td><td>Bellevue</td><td>WA</td><td>UA000000103279495</td></tr><tr><td>903.6</td><td>1975-01-18T11:07:02.452+0000</td><td>1975-01-18T11:06:28.346+0000</td><td>Las Cruces</td><td>NM</td><td>UA000000103282259</td></tr><tr><td>903.6</td><td>1975-01-18T10:19:29.112+0000</td><td>1975-01-18T10:19:13.792+0000</td><td>Caldwell</td><td>ID</td><td>UA000000103068539</td></tr><tr><td>903.6</td><td>1975-01-18T12:01:59.949+0000</td><td>1975-01-18T12:01:59.529+0000</td><td>Reynoldsburg</td><td>OH</td><td>UA000000103136818</td></tr><tr><td>903.6</td><td>1975-01-18T11:13:17.480+0000</td><td>1975-01-18T11:12:52.408+0000</td><td>Cleveland</td><td>OH</td><td>UA000000103146935</td></tr><tr><td>903.6</td><td>1975-01-19T11:09:24.738+0000</td><td>1975-01-19T11:08:53.578+0000</td><td>Rolla</td><td>MO</td><td>UA000000105953422</td></tr><tr><td>850.5</td><td>1975-01-19T13:05:53.547+0000</td><td>1975-01-19T13:04:35.563+0000</td><td>Spokane</td><td>WA</td><td>UA000000106042951</td></tr><tr><td>850.5</td><td>1975-01-19T14:55:35.780+0000</td><td>1975-01-19T14:55:35.073+0000</td><td>Puyallup</td><td>WA</td><td>UA000000105995983</td></tr><tr><td>850.5</td><td>1975-01-19T12:50:59.608+0000</td><td>1975-01-19T12:50:54.090+0000</td><td>Los Angeles</td><td>CA</td><td>UA000000106015143</td></tr><tr><td>850.5</td><td>1975-01-19T12:46:42.171+0000</td><td>1975-01-19T12:45:55.893+0000</td><td>San Antonio</td><td>TX</td><td>UA000000105972717</td></tr><tr><td>850.5</td><td>1975-01-19T13:19:42.265+0000</td><td>1975-01-19T13:19:04.663+0000</td><td>Des Moines</td><td>IA</td><td>UA000000105995350</td></tr><tr><td>850.5</td><td>1975-01-19T13:19:12.684+0000</td><td>1975-01-19T13:19:03.990+0000</td><td>Richmond</td><td>VA</td><td>UA000000105992934</td></tr><tr><td>850.5</td><td>1975-01-19T13:21:13.089+0000</td><td>1975-01-19T13:20:58.345+0000</td><td>Peru</td><td>IL</td><td>UA000000106008164</td></tr><tr><td>850.5</td><td>1975-01-19T12:25:48.768+0000</td><td>1975-01-19T12:25:13.530+0000</td><td>Little Elm</td><td>TX</td><td>UA000000106056393</td></tr><tr><td>850.5</td><td>1975-01-19T13:38:35.314+0000</td><td>1975-01-19T13:37:33.200+0000</td><td>Concord</td><td>CA</td><td>UA000000106019959</td></tr><tr><td>850.5</td><td>1975-01-19T09:31:33.504+0000</td><td>1975-01-19T09:31:23.281+0000</td><td>Charlotte</td><td>NC</td><td>UA000000105970823</td></tr><tr><td>850.5</td><td>1975-01-19T14:26:28.173+0000</td><td>1975-01-19T14:26:11.726+0000</td><td>Rowlett</td><td>TX</td><td>UA000000106044333</td></tr><tr><td>850.5</td><td>1975-01-19T13:48:11.276+0000</td><td>1975-01-19T13:47:57.113+0000</td><td>Edmonds</td><td>WA</td><td>UA000000105990986</td></tr><tr><td>850.5</td><td>1975-01-19T16:23:55.249+0000</td><td>1975-01-19T16:23:44.897+0000</td><td>Jacksonville</td><td>FL</td><td>UA000000105991459</td></tr><tr><td>850.5</td><td>1975-01-19T12:36:59.502+0000</td><td>1975-01-19T12:36:59.194+0000</td><td>Fayetteville</td><td>NC</td><td>UA000000106011569</td></tr><tr><td>850.5</td><td>1975-01-19T14:48:48.371+0000</td><td>1975-01-19T14:47:02.067+0000</td><td>Cape Coral</td><td>FL</td><td>UA000000105971106</td></tr><tr><td>850.5</td><td>1975-01-19T15:00:27.930+0000</td><td>1975-01-19T14:59:57.630+0000</td><td>Moreno Valley</td><td>CA</td><td>UA000000105957610</td></tr><tr><td>850.5</td><td>1975-01-19T09:10:45.381+0000</td><td>1975-01-19T09:10:44.247+0000</td><td>Phoenix</td><td>AZ</td><td>UA000000106011922</td></tr><tr><td>850.5</td><td>1975-01-19T14:33:01.315+0000</td><td>1975-01-19T14:30:29.389+0000</td><td>Shelby</td><td>OH</td><td>UA000000105983371</td></tr><tr><td>850.5</td><td>1975-01-19T12:33:22.601+0000</td><td>1975-01-19T12:31:48.818+0000</td><td>Bardstown</td><td>KY</td><td>UA000000106053927</td></tr><tr><td>850.5</td><td>1975-01-19T13:25:03.933+0000</td><td>1975-01-19T13:24:18.666+0000</td><td>Franklin</td><td>TN</td><td>UA000000105965354</td></tr><tr><td>850.5</td><td>1975-01-19T11:58:39.109+0000</td><td>1975-01-19T11:56:12.922+0000</td><td>Aledo</td><td>TX</td><td>UA000000105984618</td></tr><tr><td>850.5</td><td>1975-01-19T13:49:17.371+0000</td><td>1975-01-19T13:46:40.168+0000</td><td>Corona</td><td>CA</td><td>UA000000105983499</td></tr><tr><td>850.5</td><td>1975-01-19T15:33:01.922+0000</td><td>1975-01-19T15:31:45.837+0000</td><td>Phoenix</td><td>AZ</td><td>UA000000105993781</td></tr><tr><td>850.5</td><td>1975-01-19T13:43:30.925+0000</td><td>1975-01-19T13:43:26.685+0000</td><td>New York</td><td>NY</td><td>UA000000105969768</td></tr><tr><td>850.5</td><td>1975-01-19T16:12:22.183+0000</td><td>1975-01-19T16:11:46.630+0000</td><td>Haverhill</td><td>MA</td><td>UA000000106041445</td></tr><tr><td>850.5</td><td>1975-01-19T14:42:31.304+0000</td><td>1975-01-19T14:40:50.577+0000</td><td>Brockton</td><td>MA</td><td>UA000000106054448</td></tr><tr><td>850.5</td><td>1975-01-19T09:17:58.953+0000</td><td>1975-01-19T09:17:57.791+0000</td><td>Lawton</td><td>OK</td><td>UA000000106007780</td></tr><tr><td>850.5</td><td>1975-01-19T12:46:14.000+0000</td><td>1975-01-19T12:45:43.794+0000</td><td>Gering</td><td>NE</td><td>UA000000106047617</td></tr><tr><td>850.5</td><td>1975-01-19T13:51:27.997+0000</td><td>1975-01-19T13:47:14.827+0000</td><td>Pittsfield</td><td>IL</td><td>UA000000106047082</td></tr><tr><td>850.5</td><td>1975-01-19T12:03:09.205+0000</td><td>1975-01-19T12:02:13.256+0000</td><td>Plano</td><td>TX</td><td>UA000000106009306</td></tr><tr><td>850.5</td><td>1975-01-19T05:26:38.021+0000</td><td>1975-01-19T05:25:05.535+0000</td><td>Dearborn Heights</td><td>MI</td><td>UA000000105462036</td></tr><tr><td>850.5</td><td>1975-01-19T07:48:21.295+0000</td><td>1975-01-19T07:48:03.187+0000</td><td>Muncie</td><td>IN</td><td>UA000000105488266</td></tr><tr><td>850.5</td><td>1975-01-19T10:34:48.281+0000</td><td>1975-01-19T10:34:47.558+0000</td><td>Colton</td><td>CA</td><td>UA000000105529887</td></tr><tr><td>850.5</td><td>1975-01-19T10:33:14.253+0000</td><td>1975-01-19T10:32:16.091+0000</td><td>New York</td><td>NY</td><td>UA000000105511307</td></tr><tr><td>850.5</td><td>1975-01-19T06:49:48.732+0000</td><td>1975-01-19T06:49:02.397+0000</td><td>Agoura Hills</td><td>CA</td><td>UA000000105554014</td></tr><tr><td>850.5</td><td>1975-01-19T10:47:53.303+0000</td><td>1975-01-19T10:47:46.177+0000</td><td>Daytona Beach</td><td>FL</td><td>UA000000105555829</td></tr><tr><td>850.5</td><td>1975-01-19T08:33:33.667+0000</td><td>1975-01-19T08:33:19.439+0000</td><td>Naperville</td><td>IL</td><td>UA000000105488861</td></tr><tr><td>850.5</td><td>1975-01-19T08:37:40.120+0000</td><td>1975-01-19T08:35:03.002+0000</td><td>San Jose</td><td>CA</td><td>UA000000105551264</td></tr><tr><td>850.5</td><td>1975-01-19T10:18:07.373+0000</td><td>1975-01-19T10:17:22.354+0000</td><td>Johns Creek</td><td>GA</td><td>UA000000105486678</td></tr><tr><td>850.5</td><td>1975-01-19T08:15:50.458+0000</td><td>1975-01-19T08:12:47.297+0000</td><td>Elgin</td><td>IL</td><td>UA000000105519944</td></tr><tr><td>850.5</td><td>1975-01-19T07:41:40.932+0000</td><td>1975-01-19T07:41:08.028+0000</td><td>Cartersville</td><td>GA</td><td>UA000000105491012</td></tr><tr><td>850.5</td><td>1975-01-19T11:47:56.725+0000</td><td>1975-01-19T11:46:36.078+0000</td><td>El Paso</td><td>TX</td><td>UA000000105543762</td></tr><tr><td>850.5</td><td>1975-01-19T04:46:40.460+0000</td><td>1975-01-19T04:46:14.691+0000</td><td>Denver</td><td>CO</td><td>UA000000105496067</td></tr><tr><td>850.5</td><td>1975-01-19T10:32:04.048+0000</td><td>1975-01-19T10:30:48.578+0000</td><td>Fort Worth</td><td>TX</td><td>UA000000105527453</td></tr><tr><td>850.5</td><td>1975-01-19T06:01:42.363+0000</td><td>1975-01-19T06:01:36.372+0000</td><td>Marshall</td><td>MO</td><td>UA000000105465508</td></tr><tr><td>850.5</td><td>1975-01-19T06:03:26.882+0000</td><td>1975-01-19T06:00:45.538+0000</td><td>Cottleville</td><td>MO</td><td>UA000000105517492</td></tr><tr><td>850.5</td><td>1975-01-19T05:23:53.692+0000</td><td>1975-01-19T05:22:23.089+0000</td><td>Erie</td><td>PA</td><td>UA000000105462310</td></tr><tr><td>850.5</td><td>1975-01-19T11:26:15.300+0000</td><td>1975-01-19T11:22:59.573+0000</td><td>Richfield</td><td>UT</td><td>UA000000105523928</td></tr><tr><td>850.5</td><td>1975-01-19T05:17:20.174+0000</td><td>1975-01-19T05:16:59.219+0000</td><td>Tacoma</td><td>WA</td><td>UA000000105458951</td></tr><tr><td>850.5</td><td>1975-01-19T11:25:19.267+0000</td><td>1975-01-19T11:25:05.135+0000</td><td>King</td><td>NC</td><td>UA000000105551811</td></tr><tr><td>850.5</td><td>1975-01-19T07:21:13.868+0000</td><td>1975-01-19T07:18:55.448+0000</td><td>Oklahoma City</td><td>OK</td><td>UA000000105466403</td></tr><tr><td>850.5</td><td>1975-01-19T07:56:27.255+0000</td><td>1975-01-19T07:56:12.158+0000</td><td>Hillsboro</td><td>OH</td><td>UA000000105486677</td></tr><tr><td>850.5</td><td>1975-01-18T14:32:16.452+0000</td><td>1975-01-18T14:28:52.063+0000</td><td>Oviedo</td><td>FL</td><td>UA000000103564888</td></tr><tr><td>850.5</td><td>1975-01-18T16:39:30.705+0000</td><td>1975-01-18T16:39:30.452+0000</td><td>Oxnard</td><td>CA</td><td>UA000000103612018</td></tr><tr><td>850.5</td><td>1975-01-18T18:15:33.496+0000</td><td>1975-01-18T18:14:36.923+0000</td><td>Burbank</td><td>CA</td><td>UA000000103629776</td></tr><tr><td>850.5</td><td>1975-01-18T16:15:37.376+0000</td><td>1975-01-18T16:15:36.320+0000</td><td>Los Angeles</td><td>CA</td><td>UA000000103598859</td></tr><tr><td>850.5</td><td>1975-01-18T15:19:50.187+0000</td><td>1975-01-18T15:19:23.030+0000</td><td>Cambridge</td><td>MA</td><td>UA000000103583574</td></tr><tr><td>850.5</td><td>1975-01-18T11:15:07.414+0000</td><td>1975-01-18T11:15:06.844+0000</td><td>St. Louis</td><td>MO</td><td>UA000000103562744</td></tr><tr><td>850.5</td><td>1975-01-18T13:04:03.472+0000</td><td>1975-01-18T13:04:02.274+0000</td><td>Los Angeles</td><td>CA</td><td>UA000000103612470</td></tr><tr><td>850.5</td><td>1975-01-18T21:35:54.608+0000</td><td>1975-01-18T21:35:38.702+0000</td><td>Fort Wayne</td><td>IN</td><td>UA000000103627489</td></tr><tr><td>850.5</td><td>1975-01-18T15:23:21.145+0000</td><td>1975-01-18T15:23:20.292+0000</td><td>Folsom</td><td>CA</td><td>UA000000103604423</td></tr><tr><td>850.5</td><td>1975-01-18T18:45:53.092+0000</td><td>1975-01-18T18:45:49.004+0000</td><td>San Antonio</td><td>TX</td><td>UA000000103581676</td></tr><tr><td>850.5</td><td>1975-01-18T16:38:45.121+0000</td><td>1975-01-18T16:37:30.593+0000</td><td>Hampton</td><td>VA</td><td>UA000000103584766</td></tr><tr><td>850.5</td><td>1975-01-18T15:00:13.514+0000</td><td>1975-01-18T14:59:53.406+0000</td><td>Los Angeles</td><td>CA</td><td>UA000000103581188</td></tr><tr><td>850.5</td><td>1975-01-18T15:55:45.152+0000</td><td>1975-01-18T15:55:24.944+0000</td><td>Marion</td><td>IA</td><td>UA000000103599836</td></tr><tr><td>850.5</td><td>1975-01-18T17:15:38.153+0000</td><td>1975-01-18T17:11:03.207+0000</td><td>Brawley</td><td>CA</td><td>UA000000103605805</td></tr><tr><td>850.5</td><td>1975-01-18T17:39:43.629+0000</td><td>1975-01-18T17:38:49.001+0000</td><td>Apple Valley</td><td>MN</td><td>UA000000103599958</td></tr><tr><td>850.5</td><td>1975-01-18T12:55:37.673+0000</td><td>1975-01-18T12:55:27.171+0000</td><td>East Lansing</td><td>MI</td><td>UA000000103574192</td></tr><tr><td>850.5</td><td>1975-01-18T17:31:40.023+0000</td><td>1975-01-18T17:30:53.525+0000</td><td>Sanford</td><td>FL</td><td>UA000000103581910</td></tr><tr><td>850.5</td><td>1975-01-18T17:45:51.012+0000</td><td>1975-01-18T17:44:05.504+0000</td><td>Revere</td><td>MA</td><td>UA000000103557413</td></tr><tr><td>850.5</td><td>1975-01-18T17:08:57.653+0000</td><td>1975-01-18T17:05:15.993+0000</td><td>Palmdale</td><td>CA</td><td>UA000000103650991</td></tr><tr><td>850.5</td><td>1975-01-18T16:01:03.994+0000</td><td>1975-01-18T16:00:46.520+0000</td><td>Boise City</td><td>ID</td><td>UA000000103570862</td></tr><tr><td>850.5</td><td>1975-01-18T17:30:48.187+0000</td><td>1975-01-18T17:29:55.759+0000</td><td>New York</td><td>NY</td><td>UA000000103615206</td></tr><tr><td>850.5</td><td>1975-01-18T17:27:01.820+0000</td><td>1975-01-18T17:26:57.930+0000</td><td>Tukwila</td><td>WA</td><td>UA000000103619248</td></tr><tr><td>850.5</td><td>1975-01-18T15:03:23.145+0000</td><td>1975-01-18T15:02:56.535+0000</td><td>Pomona</td><td>CA</td><td>UA000000103656918</td></tr><tr><td>850.5</td><td>1975-01-18T17:11:04.084+0000</td><td>1975-01-18T17:11:00.088+0000</td><td>Dallas</td><td>TX</td><td>UA000000103609208</td></tr><tr><td>850.5</td><td>1975-01-18T15:36:52.574+0000</td><td>1975-01-18T15:36:12.203+0000</td><td>Prichard</td><td>AL</td><td>UA000000103598423</td></tr><tr><td>850.5</td><td>1975-01-18T16:18:42.169+0000</td><td>1975-01-18T16:18:37.732+0000</td><td>Portland</td><td>OR</td><td>UA000000103557886</td></tr><tr><td>850.5</td><td>1975-01-18T16:31:27.501+0000</td><td>1975-01-18T16:31:25.508+0000</td><td>New York</td><td>NY</td><td>UA000000103622160</td></tr><tr><td>850.5</td><td>1975-01-18T18:07:33.643+0000</td><td>1975-01-18T18:07:18.701+0000</td><td>Waxahachie</td><td>TX</td><td>UA000000103631933</td></tr><tr><td>850.5</td><td>1975-01-18T15:28:18.776+0000</td><td>1975-01-18T15:27:59.020+0000</td><td>Huntsville</td><td>AL</td><td>UA000000103626616</td></tr><tr><td>850.5</td><td>1975-01-18T15:52:14.489+0000</td><td>1975-01-18T15:51:59.987+0000</td><td>Glendale</td><td>AZ</td><td>UA000000103652161</td></tr><tr><td>850.5</td><td>1975-01-19T10:56:18.351+0000</td><td>1975-01-19T10:55:39.289+0000</td><td>Marion</td><td>IN</td><td>UA000000105757831</td></tr><tr><td>850.5</td><td>1975-01-19T10:29:42.821+0000</td><td>1975-01-19T10:29:32.641+0000</td><td>Colorado Springs</td><td>CO</td><td>UA000000105826383</td></tr><tr><td>850.5</td><td>1975-01-19T09:10:51.343+0000</td><td>1975-01-19T09:10:43.530+0000</td><td>Austin</td><td>TX</td><td>UA000000105762710</td></tr><tr><td>850.5</td><td>1975-01-19T13:21:17.617+0000</td><td>1975-01-19T13:20:30.237+0000</td><td>Fitchburg</td><td>MA</td><td>UA000000105809338</td></tr><tr><td>850.5</td><td>1975-01-19T13:09:36.867+0000</td><td>1975-01-19T13:06:47.645+0000</td><td>Edinburg</td><td>TX</td><td>UA000000105835400</td></tr><tr><td>850.5</td><td>1975-01-19T10:34:48.611+0000</td><td>1975-01-19T10:33:08.325+0000</td><td>Tucson</td><td>AZ</td><td>UA000000105850678</td></tr><tr><td>850.5</td><td>1975-01-19T08:01:31.986+0000</td><td>1975-01-19T08:01:10.317+0000</td><td>Victoria</td><td>TX</td><td>UA000000105771181</td></tr><tr><td>850.5</td><td>1975-01-19T06:36:01.746+0000</td><td>1975-01-19T06:35:59.083+0000</td><td>Los Angeles</td><td>CA</td><td>UA000000105771616</td></tr><tr><td>850.5</td><td>1975-01-19T09:54:48.171+0000</td><td>1975-01-19T09:53:52.080+0000</td><td>Arlington</td><td>TX</td><td>UA000000105834035</td></tr><tr><td>850.5</td><td>1975-01-19T11:31:27.184+0000</td><td>1975-01-19T11:30:34.521+0000</td><td>Greeley</td><td>CO</td><td>UA000000105805892</td></tr><tr><td>850.5</td><td>1975-01-19T13:35:59.095+0000</td><td>1975-01-19T13:35:37.967+0000</td><td>Henderson</td><td>NV</td><td>UA000000105776051</td></tr><tr><td>850.5</td><td>1975-01-19T10:47:37.092+0000</td><td>1975-01-19T10:45:17.141+0000</td><td>Wichita</td><td>KS</td><td>UA000000105808010</td></tr><tr><td>850.5</td><td>1975-01-19T10:10:25.548+0000</td><td>1975-01-19T10:09:29.684+0000</td><td>San Francisco</td><td>CA</td><td>UA000000105772773</td></tr><tr><td>850.5</td><td>1975-01-19T10:52:36.991+0000</td><td>1975-01-19T10:52:04.436+0000</td><td>Robins</td><td>IA</td><td>UA000000105810847</td></tr><tr><td>850.5</td><td>1975-01-19T10:02:12.550+0000</td><td>1975-01-19T10:00:04.946+0000</td><td>Muskogee</td><td>OK</td><td>UA000000105794348</td></tr><tr><td>850.5</td><td>1975-01-19T12:15:26.731+0000</td><td>1975-01-19T12:15:25.949+0000</td><td>Woonsocket</td><td>RI</td><td>UA000000105801477</td></tr><tr><td>850.5</td><td>1975-01-19T08:24:29.493+0000</td><td>1975-01-19T08:24:29.292+0000</td><td>Lauderdale Lakes</td><td>FL</td><td>UA000000105838088</td></tr><tr><td>850.5</td><td>1975-01-19T10:01:06.443+0000</td><td>1975-01-19T10:01:06.101+0000</td><td>Plymouth</td><td>MN</td><td>UA000000105784417</td></tr><tr><td>850.5</td><td>1975-01-19T12:42:37.997+0000</td><td>1975-01-19T12:42:36.075+0000</td><td>Charlotte</td><td>NC</td><td>UA000000105801451</td></tr><tr><td>850.5</td><td>1975-01-19T10:46:15.753+0000</td><td>1975-01-19T10:43:59.419+0000</td><td>New Cumberland</td><td>WV</td><td>UA000000105757395</td></tr><tr><td>850.5</td><td>1975-01-19T11:17:24.800+0000</td><td>1975-01-19T11:17:15.831+0000</td><td>LaGrange</td><td>GA</td><td>UA000000105831350</td></tr><tr><td>850.5</td><td>1975-01-19T11:25:07.156+0000</td><td>1975-01-19T11:24:22.542+0000</td><td>Ypsilanti</td><td>MI</td><td>UA000000105806467</td></tr><tr><td>850.5</td><td>1975-01-19T11:16:13.643+0000</td><td>1975-01-19T11:14:47.182+0000</td><td>Marietta</td><td>OK</td><td>UA000000105786267</td></tr><tr><td>850.5</td><td>1975-01-19T11:30:26.335+0000</td><td>1975-01-19T11:30:15.202+0000</td><td>Tampa</td><td>FL</td><td>UA000000105805911</td></tr><tr><td>850.5</td><td>1975-01-19T13:31:51.313+0000</td><td>1975-01-19T13:31:51.068+0000</td><td>Oakland</td><td>CA</td><td>UA000000105856136</td></tr><tr><td>850.5</td><td>1975-01-19T13:05:23.451+0000</td><td>1975-01-19T12:59:39.209+0000</td><td>Mentor</td><td>OH</td><td>UA000000105855131</td></tr><tr><td>850.5</td><td>1975-01-19T13:42:42.214+0000</td><td>1975-01-19T13:42:31.659+0000</td><td>Cedar Park</td><td>TX</td><td>UA000000105762861</td></tr><tr><td>850.5</td><td>1975-01-18T09:38:30.967+0000</td><td>1975-01-18T09:36:38.910+0000</td><td>Chicago</td><td>IL</td><td>UA000000102624956</td></tr><tr><td>850.5</td><td>1975-01-18T08:25:12.710+0000</td><td>1975-01-18T08:23:27.736+0000</td><td>Austin</td><td>TX</td><td>UA000000102609247</td></tr><tr><td>850.5</td><td>1975-01-18T07:34:02.883+0000</td><td>1975-01-18T07:32:26.564+0000</td><td>Eden Prairie</td><td>MN</td><td>UA000000102593261</td></tr><tr><td>850.5</td><td>1975-01-18T12:09:18.735+0000</td><td>1975-01-18T12:09:08.812+0000</td><td>Woodbury</td><td>MN</td><td>UA000000102614920</td></tr><tr><td>850.5</td><td>1975-01-18T10:26:40.584+0000</td><td>1975-01-18T10:26:40.185+0000</td><td>San Leandro</td><td>CA</td><td>UA000000102635495</td></tr><tr><td>850.5</td><td>1975-01-18T09:07:31.706+0000</td><td>1975-01-18T09:06:17.680+0000</td><td>Belle Fourche</td><td>SD</td><td>UA000000102563341</td></tr><tr><td>850.5</td><td>1975-01-18T05:50:55.251+0000</td><td>1975-01-18T05:50:47.619+0000</td><td>Steamboat Springs</td><td>CO</td><td>UA000000102567217</td></tr><tr><td>850.5</td><td>1975-01-18T07:45:03.855+0000</td><td>1975-01-18T07:40:31.627+0000</td><td>New Bedford</td><td>MA</td><td>UA000000102610827</td></tr><tr><td>850.5</td><td>1975-01-18T07:18:43.912+0000</td><td>1975-01-18T07:18:00.652+0000</td><td>Visalia</td><td>CA</td><td>UA000000102648684</td></tr><tr><td>850.5</td><td>1975-01-18T05:20:54.482+0000</td><td>1975-01-18T05:18:50.550+0000</td><td>State Center</td><td>IA</td><td>UA000000102596369</td></tr><tr><td>850.5</td><td>1975-01-18T06:35:04.942+0000</td><td>1975-01-18T06:34:30.744+0000</td><td>New York</td><td>NY</td><td>UA000000102630536</td></tr><tr><td>850.5</td><td>1975-01-18T05:12:00.557+0000</td><td>1975-01-18T05:11:49.672+0000</td><td>Denver</td><td>CO</td><td>UA000000102640893</td></tr><tr><td>850.5</td><td>1975-01-18T23:21:02.598+0000</td><td>1975-01-18T23:18:48.774+0000</td><td>Little Rock</td><td>AR</td><td>UA000000104438309</td></tr><tr><td>850.5</td><td>1975-01-18T23:00:26.811+0000</td><td>1975-01-18T22:59:39.029+0000</td><td>Banning</td><td>CA</td><td>UA000000104450995</td></tr><tr><td>850.5</td><td>1975-01-19T00:06:38.617+0000</td><td>1975-01-19T00:05:45.591+0000</td><td>Park Hills</td><td>KY</td><td>UA000000104409892</td></tr><tr><td>850.5</td><td>1975-01-19T00:26:18.352+0000</td><td>1975-01-19T00:26:11.118+0000</td><td>Los Angeles</td><td>CA</td><td>UA000000104429724</td></tr><tr><td>850.5</td><td>1975-01-18T21:16:56.503+0000</td><td>1975-01-18T21:16:22.717+0000</td><td>Irvine</td><td>CA</td><td>UA000000104364162</td></tr><tr><td>850.5</td><td>1975-01-18T23:09:41.516+0000</td><td>1975-01-18T23:09:25.425+0000</td><td>Jonesboro</td><td>AR</td><td>UA000000104373233</td></tr><tr><td>850.5</td><td>1975-01-18T19:13:35.176+0000</td><td>1975-01-18T19:13:23.805+0000</td><td>Oxford</td><td>MS</td><td>UA000000104376142</td></tr><tr><td>850.5</td><td>1975-01-18T20:47:00.292+0000</td><td>1975-01-18T20:45:46.302+0000</td><td>San Antonio</td><td>TX</td><td>UA000000104374527</td></tr><tr><td>850.5</td><td>1975-01-18T22:43:19.713+0000</td><td>1975-01-18T22:43:17.789+0000</td><td>Henderson</td><td>NV</td><td>UA000000104394281</td></tr><tr><td>850.5</td><td>1975-01-19T02:10:08.149+0000</td><td>1975-01-19T02:09:42.620+0000</td><td>Philadelphia</td><td>PA</td><td>UA000000104435328</td></tr><tr><td>850.5</td><td>1975-01-18T21:12:10.967+0000</td><td>1975-01-18T21:09:34.864+0000</td><td>Des Moines</td><td>IA</td><td>UA000000104416322</td></tr><tr><td>850.5</td><td>1975-01-18T21:42:12.983+0000</td><td>1975-01-18T21:42:11.445+0000</td><td>Palm Coast</td><td>FL</td><td>UA000000104410116</td></tr><tr><td>850.5</td><td>1975-01-18T20:19:13.997+0000</td><td>1975-01-18T20:19:11.918+0000</td><td>Sikeston</td><td>MO</td><td>UA000000104372404</td></tr><tr><td>850.5</td><td>1975-01-18T20:56:44.877+0000</td><td>1975-01-18T20:53:29.521+0000</td><td>Fort Worth</td><td>TX</td><td>UA000000104410358</td></tr><tr><td>850.5</td><td>1975-01-18T22:16:16.750+0000</td><td>1975-01-18T22:16:16.036+0000</td><td>Arkansas City</td><td>KS</td><td>UA000000104398120</td></tr><tr><td>850.5</td><td>1975-01-18T23:41:56.783+0000</td><td>1975-01-18T23:40:10.144+0000</td><td>Venice</td><td>FL</td><td>UA000000104432854</td></tr><tr><td>850.5</td><td>1975-01-18T18:25:58.254+0000</td><td>1975-01-18T18:25:55.571+0000</td><td>Bismarck</td><td>ND</td><td>UA000000104406840</td></tr><tr><td>850.5</td><td>1975-01-18T19:15:08.428+0000</td><td>1975-01-18T19:13:15.514+0000</td><td>St. Petersburg</td><td>FL</td><td>UA000000104383382</td></tr><tr><td>850.5</td><td>1975-01-18T20:00:43.009+0000</td><td>1975-01-18T19:57:36.837+0000</td><td>New York</td><td>NY</td><td>UA000000104394917</td></tr><tr><td>850.5</td><td>1975-01-18T19:21:10.384+0000</td><td>1975-01-18T19:21:05.756+0000</td><td>Los Angeles</td><td>CA</td><td>UA000000104412211</td></tr><tr><td>850.5</td><td>1975-01-18T21:13:05.673+0000</td><td>1975-01-18T21:12:57.571+0000</td><td>Dallas</td><td>TX</td><td>UA000000104363666</td></tr><tr><td>850.5</td><td>1975-01-18T21:34:30.035+0000</td><td>1975-01-18T21:33:07.706+0000</td><td>Columbus</td><td>OH</td><td>UA000000104363519</td></tr><tr><td>850.5</td><td>1975-01-18T18:01:41.111+0000</td><td>1975-01-18T18:01:09.007+0000</td><td>Kingston</td><td>NY</td><td>UA000000104442049</td></tr><tr><td>850.5</td><td>1975-01-18T22:06:56.931+0000</td><td>1975-01-18T22:06:44.381+0000</td><td>Phoenix</td><td>AZ</td><td>UA000000104384542</td></tr><tr><td>850.5</td><td>1975-01-18T21:36:52.132+0000</td><td>1975-01-18T21:36:32.592+0000</td><td>Nacogdoches</td><td>TX</td><td>UA000000104667030</td></tr><tr><td>850.5</td><td>1975-01-19T02:05:47.317+0000</td><td>1975-01-19T02:05:21.066+0000</td><td>Milwaukee</td><td>WI</td><td>UA000000104738910</td></tr><tr><td>850.5</td><td>1975-01-18T22:40:48.289+0000</td><td>1975-01-18T22:40:46.615+0000</td><td>St. George</td><td>UT</td><td>UA000000104661393</td></tr><tr><td>850.5</td><td>1975-01-18T21:24:46.892+0000</td><td>1975-01-18T21:23:33.965+0000</td><td>New York</td><td>NY</td><td>UA000000104675248</td></tr><tr><td>850.5</td><td>1975-01-19T01:53:44.569+0000</td><td>1975-01-19T01:53:43.765+0000</td><td>New York</td><td>NY</td><td>UA000000104661828</td></tr><tr><td>850.5</td><td>1975-01-18T22:59:45.150+0000</td><td>1975-01-18T22:58:41.772+0000</td><td>Phoenix</td><td>AZ</td><td>UA000000104659917</td></tr><tr><td>850.5</td><td>1975-01-18T21:22:00.803+0000</td><td>1975-01-18T21:21:57.881+0000</td><td>Baltimore</td><td>MD</td><td>UA000000104703632</td></tr><tr><td>850.5</td><td>1975-01-18T20:24:08.137+0000</td><td>1975-01-18T20:23:48.450+0000</td><td>Pomona</td><td>CA</td><td>UA000000104696845</td></tr><tr><td>850.5</td><td>1975-01-19T01:36:18.871+0000</td><td>1975-01-19T01:35:22.069+0000</td><td>Baltimore</td><td>MD</td><td>UA000000104713204</td></tr><tr><td>850.5</td><td>1975-01-19T04:20:33.680+0000</td><td>1975-01-19T04:20:23.018+0000</td><td>New York</td><td>NY</td><td>UA000000104750218</td></tr><tr><td>850.5</td><td>1975-01-18T21:46:43.360+0000</td><td>1975-01-18T21:46:33.732+0000</td><td>Lamesa</td><td>TX</td><td>UA000000104700933</td></tr><tr><td>850.5</td><td>1975-01-18T20:24:37.416+0000</td><td>1975-01-18T20:24:34.947+0000</td><td>Scottsdale</td><td>AZ</td><td>UA000000104725229</td></tr><tr><td>850.5</td><td>1975-01-18T21:24:21.522+0000</td><td>1975-01-18T21:22:21.491+0000</td><td>McKinney</td><td>TX</td><td>UA000000104715367</td></tr><tr><td>850.5</td><td>1975-01-19T01:34:05.693+0000</td><td>1975-01-19T01:33:49.889+0000</td><td>San Diego</td><td>CA</td><td>UA000000104745728</td></tr><tr><td>850.5</td><td>1975-01-18T21:54:34.339+0000</td><td>1975-01-18T21:54:31.911+0000</td><td>Cranston</td><td>RI</td><td>UA000000104670931</td></tr><tr><td>850.5</td><td>1975-01-18T23:16:43.042+0000</td><td>1975-01-18T23:16:18.252+0000</td><td>Pleasantville</td><td>IA</td><td>UA000000104695059</td></tr><tr><td>850.5</td><td>1975-01-19T01:03:08.495+0000</td><td>1975-01-19T01:01:42.353+0000</td><td>Glendale</td><td>AZ</td><td>UA000000104708132</td></tr><tr><td>850.5</td><td>1975-01-18T22:52:40.025+0000</td><td>1975-01-18T22:52:33.350+0000</td><td>Leominster</td><td>MA</td><td>UA000000104680873</td></tr><tr><td>850.5</td><td>1975-01-19T00:16:01.652+0000</td><td>1975-01-19T00:15:20.062+0000</td><td>Pleasant Hill</td><td>MO</td><td>UA000000104734315</td></tr><tr><td>850.5</td><td>1975-01-18T22:50:29.300+0000</td><td>1975-01-18T22:50:28.491+0000</td><td>San Diego</td><td>CA</td><td>UA000000104681582</td></tr><tr><td>850.5</td><td>1975-01-19T03:48:53.886+0000</td><td>1975-01-19T03:46:17.325+0000</td><td>Commerce City</td><td>CO</td><td>UA000000104673501</td></tr><tr><td>850.5</td><td>1975-01-18T21:50:25.841+0000</td><td>1975-01-18T21:50:22.143+0000</td><td>Pelham</td><td>AL</td><td>UA000000104725948</td></tr><tr><td>850.5</td><td>1975-01-19T04:20:06.852+0000</td><td>1975-01-19T04:20:04.535+0000</td><td>Philadelphia</td><td>PA</td><td>UA000000104713060</td></tr><tr><td>850.5</td><td>1975-01-19T04:55:14.001+0000</td><td>1975-01-19T04:54:06.733+0000</td><td>Highland Heights</td><td>OH</td><td>UA000000104830355</td></tr><tr><td>850.5</td><td>1975-01-19T04:56:31.711+0000</td><td>1975-01-19T04:56:30.569+0000</td><td>Mitchell</td><td>IN</td><td>UA000000104801113</td></tr><tr><td>850.5</td><td>1975-01-19T05:31:15.000+0000</td><td>1975-01-19T05:31:12.644+0000</td><td>Park Ridge</td><td>IL</td><td>UA000000104847555</td></tr><tr><td>850.5</td><td>1975-01-19T04:07:43.106+0000</td><td>1975-01-19T04:05:55.848+0000</td><td>Amarillo</td><td>TX</td><td>UA000000104805936</td></tr><tr><td>850.5</td><td>1975-01-19T03:04:37.244+0000</td><td>1975-01-19T03:04:32.990+0000</td><td>Miami</td><td>FL</td><td>UA000000104847017</td></tr><tr><td>850.5</td><td>1975-01-19T01:06:41.146+0000</td><td>1975-01-19T01:05:49.118+0000</td><td>Lorain</td><td>OH</td><td>UA000000104758560</td></tr><tr><td>850.5</td><td>1975-01-19T04:42:20.671+0000</td><td>1975-01-19T04:41:58.790+0000</td><td>Lima</td><td>OH</td><td>UA000000104847336</td></tr><tr><td>850.5</td><td>1975-01-19T00:01:32.051+0000</td><td>1975-01-19T00:00:54.250+0000</td><td>Texarkana</td><td>TX</td><td>UA000000104833158</td></tr><tr><td>850.5</td><td>1975-01-19T00:46:11.223+0000</td><td>1975-01-19T00:39:40.282+0000</td><td>Orem</td><td>UT</td><td>UA000000104841109</td></tr><tr><td>850.5</td><td>1975-01-18T21:50:30.001+0000</td><td>1975-01-18T21:47:29.451+0000</td><td>Victorville</td><td>CA</td><td>UA000000104761719</td></tr><tr><td>850.5</td><td>1975-01-19T01:14:12.393+0000</td><td>1975-01-19T01:14:11.667+0000</td><td>Yazoo City</td><td>MS</td><td>UA000000104787993</td></tr><tr><td>850.5</td><td>1975-01-19T00:54:19.576+0000</td><td>1975-01-19T00:54:19.278+0000</td><td>Natchitoches</td><td>LA</td><td>UA000000104848505</td></tr><tr><td>850.5</td><td>1975-01-19T03:39:05.616+0000</td><td>1975-01-19T03:35:04.881+0000</td><td>San Diego</td><td>CA</td><td>UA000000104837584</td></tr><tr><td>850.5</td><td>1975-01-19T02:04:33.865+0000</td><td>1975-01-19T02:02:30.856+0000</td><td>Watertown Town</td><td>MA</td><td>UA000000104822389</td></tr><tr><td>850.5</td><td>1975-01-18T21:42:23.318+0000</td><td>1975-01-18T21:42:23.115+0000</td><td>Rexburg</td><td>ID</td><td>UA000000104848371</td></tr><tr><td>850.5</td><td>1975-01-19T06:39:20.773+0000</td><td>1975-01-19T06:39:18.168+0000</td><td>Dodge City</td><td>KS</td><td>UA000000104775527</td></tr><tr><td>850.5</td><td>1975-01-19T00:59:51.109+0000</td><td>1975-01-19T00:59:20.456+0000</td><td>Corpus Christi</td><td>TX</td><td>UA000000104792290</td></tr><tr><td>850.5</td><td>1975-01-19T01:32:36.615+0000</td><td>1975-01-19T01:31:00.788+0000</td><td>Bakersfield</td><td>CA</td><td>UA000000104838791</td></tr><tr><td>850.5</td><td>1975-01-19T03:04:44.181+0000</td><td>1975-01-19T03:04:41.198+0000</td><td>Belmont</td><td>CA</td><td>UA000000104784790</td></tr><tr><td>850.5</td><td>1975-01-19T04:11:58.344+0000</td><td>1975-01-19T04:09:47.935+0000</td><td>Houston</td><td>TX</td><td>UA000000104841976</td></tr><tr><td>850.5</td><td>1975-01-19T01:47:53.626+0000</td><td>1975-01-19T01:47:35.480+0000</td><td>Wadsworth</td><td>OH</td><td>UA000000104831056</td></tr><tr><td>850.5</td><td>1975-01-19T02:20:40.843+0000</td><td>1975-01-19T02:20:40.316+0000</td><td>Thousand Oaks</td><td>CA</td><td>UA000000104831840</td></tr><tr><td>850.5</td><td>1975-01-18T23:18:07.416+0000</td><td>1975-01-18T23:17:29.901+0000</td><td>Burnsville</td><td>MN</td><td>UA000000104796884</td></tr><tr><td>850.5</td><td>1975-01-19T00:19:09.978+0000</td><td>1975-01-19T00:19:09.611+0000</td><td>Diamond Bar</td><td>CA</td><td>UA000000104768766</td></tr><tr><td>850.5</td><td>1975-01-19T03:32:38.725+0000</td><td>1975-01-19T03:32:08.554+0000</td><td>Orem</td><td>UT</td><td>UA000000104859676</td></tr><tr><td>850.5</td><td>1975-01-19T02:21:08.152+0000</td><td>1975-01-19T02:21:07.532+0000</td><td>New York</td><td>NY</td><td>UA000000104887354</td></tr><tr><td>850.5</td><td>1975-01-19T00:47:29.923+0000</td><td>1975-01-19T00:47:18.708+0000</td><td>San Francisco</td><td>CA</td><td>UA000000104870073</td></tr><tr><td>850.5</td><td>1975-01-19T03:01:02.190+0000</td><td>1975-01-19T02:58:48.269+0000</td><td>Delano</td><td>CA</td><td>UA000000104906837</td></tr><tr><td>850.5</td><td>1975-01-19T07:11:05.364+0000</td><td>1975-01-19T07:10:11.539+0000</td><td>Arlington</td><td>TX</td><td>UA000000104858532</td></tr><tr><td>850.5</td><td>1975-01-19T02:33:24.186+0000</td><td>1975-01-19T02:32:55.195+0000</td><td>Wilson</td><td>NC</td><td>UA000000104890873</td></tr><tr><td>850.5</td><td>1975-01-19T02:29:38.403+0000</td><td>1975-01-19T02:28:57.077+0000</td><td>Houston</td><td>TX</td><td>UA000000104879761</td></tr><tr><td>850.5</td><td>1975-01-19T04:58:12.759+0000</td><td>1975-01-19T04:57:42.262+0000</td><td>Paterson</td><td>NJ</td><td>UA000000104953176</td></tr><tr><td>850.5</td><td>1975-01-19T04:10:54.268+0000</td><td>1975-01-19T04:10:26.471+0000</td><td>Los Angeles</td><td>CA</td><td>UA000000104867027</td></tr><tr><td>850.5</td><td>1975-01-19T03:16:18.756+0000</td><td>1975-01-19T03:12:34.438+0000</td><td>Eldridge</td><td>IA</td><td>UA000000104860496</td></tr><tr><td>850.5</td><td>1975-01-19T03:34:18.966+0000</td><td>1975-01-19T03:34:01.743+0000</td><td>Winston-Salem</td><td>NC</td><td>UA000000104947837</td></tr><tr><td>850.5</td><td>1975-01-19T01:47:17.500+0000</td><td>1975-01-19T01:47:02.462+0000</td><td>Santa Rosa</td><td>CA</td><td>UA000000104923831</td></tr><tr><td>850.5</td><td>1975-01-19T02:58:59.378+0000</td><td>1975-01-19T02:58:13.850+0000</td><td>Bryan</td><td>TX</td><td>UA000000104879291</td></tr><tr><td>850.5</td><td>1975-01-19T02:28:44.628+0000</td><td>1975-01-19T02:28:32.369+0000</td><td>New York</td><td>NY</td><td>UA000000104880534</td></tr><tr><td>850.5</td><td>1975-01-19T01:58:00.340+0000</td><td>1975-01-19T01:57:58.023+0000</td><td>Spokane Valley</td><td>WA</td><td>UA000000104901682</td></tr><tr><td>850.5</td><td>1975-01-19T00:56:25.351+0000</td><td>1975-01-19T00:55:47.507+0000</td><td>Norwalk</td><td>CT</td><td>UA000000104863415</td></tr><tr><td>850.5</td><td>1975-01-19T04:57:01.038+0000</td><td>1975-01-19T04:56:59.795+0000</td><td>Chicago</td><td>IL</td><td>UA000000104876982</td></tr><tr><td>850.5</td><td>1975-01-19T04:24:59.031+0000</td><td>1975-01-19T04:23:38.952+0000</td><td>Houston</td><td>TX</td><td>UA000000104857790</td></tr><tr><td>850.5</td><td>1975-01-19T00:30:17.638+0000</td><td>1975-01-19T00:30:03.978+0000</td><td>Vicksburg</td><td>MS</td><td>UA000000104887856</td></tr><tr><td>850.5</td><td>1975-01-19T01:40:40.249+0000</td><td>1975-01-19T01:38:54.327+0000</td><td>Katy</td><td>TX</td><td>UA000000104875898</td></tr><tr><td>850.5</td><td>1975-01-18T23:37:31.917+0000</td><td>1975-01-18T23:35:00.460+0000</td><td>Covington</td><td>TN</td><td>UA000000104880295</td></tr><tr><td>850.5</td><td>1975-01-19T03:57:14.177+0000</td><td>1975-01-19T03:56:58.120+0000</td><td>Boise City</td><td>ID</td><td>UA000000104935549</td></tr><tr><td>850.5</td><td>1975-01-19T04:38:50.725+0000</td><td>1975-01-19T04:38:50.475+0000</td><td>Chicago</td><td>IL</td><td>UA000000104894995</td></tr><tr><td>850.5</td><td>1975-01-19T05:39:58.332+0000</td><td>1975-01-19T05:39:47.166+0000</td><td>Daly City</td><td>CA</td><td>UA000000104871534</td></tr><tr><td>850.5</td><td>1975-01-19T03:43:31.796+0000</td><td>1975-01-19T03:41:51.648+0000</td><td>Orlando</td><td>FL</td><td>UA000000104545090</td></tr><tr><td>850.5</td><td>1975-01-18T23:31:49.740+0000</td><td>1975-01-18T23:30:44.571+0000</td><td>New Albany</td><td>IN</td><td>UA000000104487446</td></tr><tr><td>850.5</td><td>1975-01-18T22:57:08.376+0000</td><td>1975-01-18T22:54:38.242+0000</td><td>Arvada</td><td>CO</td><td>UA000000104462360</td></tr><tr><td>850.5</td><td>1975-01-18T18:18:36.295+0000</td><td>1975-01-18T18:16:23.771+0000</td><td>Bowling Green</td><td>KY</td><td>UA000000104500920</td></tr><tr><td>850.5</td><td>1975-01-18T21:45:15.590+0000</td><td>1975-01-18T21:44:28.900+0000</td><td>Memphis</td><td>TN</td><td>UA000000104485719</td></tr><tr><td>850.5</td><td>1975-01-18T21:48:39.782+0000</td><td>1975-01-18T21:48:39.482+0000</td><td>Apple Valley</td><td>MN</td><td>UA000000104541963</td></tr><tr><td>850.5</td><td>1975-01-18T22:27:08.592+0000</td><td>1975-01-18T22:25:36.007+0000</td><td>Phoenix</td><td>AZ</td><td>UA000000104543002</td></tr><tr><td>850.5</td><td>1975-01-18T21:57:13.368+0000</td><td>1975-01-18T21:57:03.072+0000</td><td>Luverne</td><td>AL</td><td>UA000000104549858</td></tr><tr><td>850.5</td><td>1975-01-18T19:04:00.378+0000</td><td>1975-01-18T19:02:55.024+0000</td><td>Seattle</td><td>WA</td><td>UA000000104472799</td></tr><tr><td>850.5</td><td>1975-01-19T00:48:09.345+0000</td><td>1975-01-19T00:47:51.560+0000</td><td>Philadelphia</td><td>PA</td><td>UA000000104461492</td></tr><tr><td>850.5</td><td>1975-01-18T23:05:06.992+0000</td><td>1975-01-18T23:05:00.454+0000</td><td>Salinas</td><td>CA</td><td>UA000000104541204</td></tr><tr><td>850.5</td><td>1975-01-18T19:54:18.114+0000</td><td>1975-01-18T19:53:39.556+0000</td><td>Hayward</td><td>CA</td><td>UA000000104520047</td></tr><tr><td>850.5</td><td>1975-01-18T21:23:00.153+0000</td><td>1975-01-18T21:20:47.608+0000</td><td>South Ogden</td><td>UT</td><td>UA000000104474258</td></tr><tr><td>850.5</td><td>1975-01-18T23:05:06.950+0000</td><td>1975-01-18T23:03:48.252+0000</td><td>Virginia Beach</td><td>VA</td><td>UA000000104530587</td></tr><tr><td>850.5</td><td>1975-01-18T18:56:05.525+0000</td><td>1975-01-18T18:56:03.745+0000</td><td>Fresno</td><td>CA</td><td>UA000000104501624</td></tr><tr><td>850.5</td><td>1975-01-18T21:43:30.234+0000</td><td>1975-01-18T21:43:30.004+0000</td><td>Oakland</td><td>CA</td><td>UA000000104502316</td></tr><tr><td>850.5</td><td>1975-01-18T17:51:14.661+0000</td><td>1975-01-18T17:48:18.317+0000</td><td>Mount Holly</td><td>NC</td><td>UA000000104465506</td></tr><tr><td>850.5</td><td>1975-01-18T18:21:47.087+0000</td><td>1975-01-18T18:21:13.806+0000</td><td>Milwaukee</td><td>WI</td><td>UA000000104556963</td></tr><tr><td>850.5</td><td>1975-01-19T01:46:14.733+0000</td><td>1975-01-19T01:45:16.524+0000</td><td>Murray</td><td>KY</td><td>UA000000104524027</td></tr><tr><td>850.5</td><td>1975-01-19T01:17:25.787+0000</td><td>1975-01-19T01:17:20.123+0000</td><td>Odessa</td><td>TX</td><td>UA000000104530484</td></tr><tr><td>850.5</td><td>1975-01-18T23:31:41.363+0000</td><td>1975-01-18T23:29:33.467+0000</td><td>Garland</td><td>TX</td><td>UA000000104501758</td></tr><tr><td>850.5</td><td>1975-01-19T02:31:07.512+0000</td><td>1975-01-19T02:30:52.603+0000</td><td>Fontana</td><td>CA</td><td>UA000000104496708</td></tr><tr><td>850.5</td><td>1975-01-18T09:18:33.904+0000</td><td>1975-01-18T09:16:34.121+0000</td><td>Los Angeles</td><td>CA</td><td>UA000000102883075</td></tr><tr><td>850.5</td><td>1975-01-18T06:00:00.969+0000</td><td>1975-01-18T05:56:17.473+0000</td><td>Ashville</td><td>AL</td><td>UA000000102877802</td></tr><tr><td>850.5</td><td>1975-01-18T08:52:39.077+0000</td><td>1975-01-18T08:52:01.446+0000</td><td>Kansas City</td><td>MO</td><td>UA000000102887016</td></tr><tr><td>850.5</td><td>1975-01-18T08:12:33.139+0000</td><td>1975-01-18T08:11:56.953+0000</td><td>Mesa</td><td>AZ</td><td>UA000000102924088</td></tr><tr><td>850.5</td><td>1975-01-18T10:21:10.927+0000</td><td>1975-01-18T10:21:09.498+0000</td><td>New York</td><td>NY</td><td>UA000000102881952</td></tr><tr><td>850.5</td><td>1975-01-18T11:59:32.548+0000</td><td>1975-01-18T11:55:54.676+0000</td><td>Newman</td><td>CA</td><td>UA000000102880084</td></tr><tr><td>850.5</td><td>1975-01-18T09:55:24.042+0000</td><td>1975-01-18T09:55:21.425+0000</td><td>Minneapolis</td><td>MN</td><td>UA000000102928574</td></tr><tr><td>850.5</td><td>1975-01-18T10:58:16.096+0000</td><td>1975-01-18T10:57:22.803+0000</td><td>San Antonio</td><td>TX</td><td>UA000000102899591</td></tr><tr><td>850.5</td><td>1975-01-18T07:44:16.232+0000</td><td>1975-01-18T07:44:15.061+0000</td><td>Port St. Lucie</td><td>FL</td><td>UA000000102930444</td></tr><tr><td>850.5</td><td>1975-01-18T09:25:53.395+0000</td><td>1975-01-18T09:23:45.762+0000</td><td>Boston</td><td>MA</td><td>UA000000102861584</td></tr><tr><td>850.5</td><td>1975-01-18T12:27:31.257+0000</td><td>1975-01-18T12:26:58.324+0000</td><td>Hollywood</td><td>FL</td><td>UA000000102933885</td></tr><tr><td>850.5</td><td>1975-01-18T10:13:20.131+0000</td><td>1975-01-18T10:12:15.645+0000</td><td>Philadelphia</td><td>PA</td><td>UA000000102876014</td></tr><tr><td>850.5</td><td>1975-01-18T08:28:54.538+0000</td><td>1975-01-18T08:28:25.963+0000</td><td>Seward</td><td>NE</td><td>UA000000102897791</td></tr><tr><td>850.5</td><td>1975-01-18T07:01:29.646+0000</td><td>1975-01-18T07:00:55.398+0000</td><td>Charlotte</td><td>NC</td><td>UA000000102931615</td></tr><tr><td>850.5</td><td>1975-01-18T07:14:36.820+0000</td><td>1975-01-18T07:11:53.884+0000</td><td>Denver</td><td>CO</td><td>UA000000102910388</td></tr><tr><td>850.5</td><td>1975-01-18T09:55:10.988+0000</td><td>1975-01-18T09:55:10.210+0000</td><td>Rancho Palos Verdes</td><td>CA</td><td>UA000000102886520</td></tr><tr><td>850.5</td><td>1975-01-18T11:39:00.160+0000</td><td>1975-01-18T11:38:53.338+0000</td><td>Wausau</td><td>WI</td><td>UA000000102927913</td></tr><tr><td>850.5</td><td>1975-01-18T09:34:49.562+0000</td><td>1975-01-18T09:34:29.316+0000</td><td>East St. Louis</td><td>IL</td><td>UA000000102883774</td></tr><tr><td>850.5</td><td>1975-01-18T07:19:20.078+0000</td><td>1975-01-18T07:17:47.440+0000</td><td>Wheaton</td><td>IL</td><td>UA000000102924124</td></tr><tr><td>850.5</td><td>1975-01-19T14:12:52.062+0000</td><td>1975-01-19T14:12:49.064+0000</td><td>Fort Lauderdale</td><td>FL</td><td>UA000000106107402</td></tr><tr><td>850.5</td><td>1975-01-19T16:00:58.332+0000</td><td>1975-01-19T15:57:32.488+0000</td><td>Los Angeles</td><td>CA</td><td>UA000000106100692</td></tr><tr><td>850.5</td><td>1975-01-19T15:48:13.556+0000</td><td>1975-01-19T15:47:57.588+0000</td><td>Orange</td><td>CA</td><td>UA000000106074226</td></tr><tr><td>850.5</td><td>1975-01-19T13:39:27.785+0000</td><td>1975-01-19T13:39:04.966+0000</td><td>Dayton</td><td>TN</td><td>UA000000106145494</td></tr><tr><td>850.5</td><td>1975-01-19T09:52:29.680+0000</td><td>1975-01-19T09:52:27.012+0000</td><td>Green Bay</td><td>WI</td><td>UA000000106105256</td></tr><tr><td>850.5</td><td>1975-01-19T13:44:44.774+0000</td><td>1975-01-19T13:44:28.253+0000</td><td>Cochran</td><td>GA</td><td>UA000000106067609</td></tr><tr><td>850.5</td><td>1975-01-19T12:20:31.266+0000</td><td>1975-01-19T12:18:22.439+0000</td><td>Fort Collins</td><td>CO</td><td>UA000000106140593</td></tr><tr><td>850.5</td><td>1975-01-19T15:03:28.814+0000</td><td>1975-01-19T15:03:05.237+0000</td><td>Martinez</td><td>CA</td><td>UA000000106081430</td></tr><tr><td>850.5</td><td>1975-01-19T11:37:48.416+0000</td><td>1975-01-19T11:37:47.324+0000</td><td>Rowlett</td><td>TX</td><td>UA000000106057749</td></tr><tr><td>850.5</td><td>1975-01-19T17:02:11.032+0000</td><td>1975-01-19T17:02:09.826+0000</td><td>Cave Springs</td><td>AR</td><td>UA000000106119724</td></tr><tr><td>850.5</td><td>1975-01-19T10:55:31.977+0000</td><td>1975-01-19T10:54:04.980+0000</td><td>Lavonia</td><td>GA</td><td>UA000000106151048</td></tr><tr><td>850.5</td><td>1975-01-19T14:00:04.888+0000</td><td>1975-01-19T14:00:04.358+0000</td><td>Fresno</td><td>CA</td><td>UA000000106105303</td></tr><tr><td>850.5</td><td>1975-01-19T10:34:02.034+0000</td><td>1975-01-19T10:33:19.948+0000</td><td>Zumbrota</td><td>MN</td><td>UA000000106110981</td></tr><tr><td>850.5</td><td>1975-01-19T15:46:35.158+0000</td><td>1975-01-19T15:46:22.849+0000</td><td>Northfield</td><td>NJ</td><td>UA000000106127171</td></tr><tr><td>850.5</td><td>1975-01-19T17:30:47.791+0000</td><td>1975-01-19T17:30:41.795+0000</td><td>Milwaukee</td><td>WI</td><td>UA000000106115454</td></tr><tr><td>850.5</td><td>1975-01-19T15:37:47.126+0000</td><td>1975-01-19T15:36:44.632+0000</td><td>New York</td><td>NY</td><td>UA000000106059121</td></tr><tr><td>850.5</td><td>1975-01-19T14:22:11.009+0000</td><td>1975-01-19T14:16:36.614+0000</td><td>Lackawanna</td><td>NY</td><td>UA000000106150659</td></tr><tr><td>850.5</td><td>1975-01-19T15:09:47.132+0000</td><td>1975-01-19T15:09:20.178+0000</td><td>Round Rock</td><td>TX</td><td>UA000000106096806</td></tr><tr><td>850.5</td><td>1975-01-19T12:30:34.097+0000</td><td>1975-01-19T12:30:07.986+0000</td><td>Fort Collins</td><td>CO</td><td>UA000000106156919</td></tr><tr><td>850.5</td><td>1975-01-19T15:00:52.661+0000</td><td>1975-01-19T15:00:31.523+0000</td><td>Rockville</td><td>MD</td><td>UA000000106127785</td></tr><tr><td>850.5</td><td>1975-01-19T11:34:53.922+0000</td><td>1975-01-19T11:34:11.299+0000</td><td>Muskogee</td><td>OK</td><td>UA000000106065840</td></tr><tr><td>850.5</td><td>1975-01-19T14:35:03.478+0000</td><td>1975-01-19T14:34:41.393+0000</td><td>Detroit</td><td>MI</td><td>UA000000106075725</td></tr><tr><td>850.5</td><td>1975-01-19T14:35:27.063+0000</td><td>1975-01-19T14:33:16.261+0000</td><td>Alexandria</td><td>VA</td><td>UA000000106104180</td></tr><tr><td>850.5</td><td>1975-01-19T13:54:50.931+0000</td><td>1975-01-19T13:51:05.406+0000</td><td>Spring Grove</td><td>MN</td><td>UA000000106126042</td></tr><tr><td>850.5</td><td>1975-01-19T13:15:26.428+0000</td><td>1975-01-19T13:15:00.898+0000</td><td>Raleigh</td><td>NC</td><td>UA000000106142932</td></tr><tr><td>850.5</td><td>1975-01-19T13:29:09.871+0000</td><td>1975-01-19T13:27:24.598+0000</td><td>Minneapolis</td><td>MN</td><td>UA000000106153008</td></tr><tr><td>850.5</td><td>1975-01-19T14:27:54.387+0000</td><td>1975-01-19T14:27:44.562+0000</td><td>New York</td><td>NY</td><td>UA000000106063080</td></tr><tr><td>850.5</td><td>1975-01-19T14:55:28.209+0000</td><td>1975-01-19T14:53:04.383+0000</td><td>High Point</td><td>NC</td><td>UA000000106126087</td></tr><tr><td>850.5</td><td>1975-01-19T15:33:15.394+0000</td><td>1975-01-19T15:32:48.185+0000</td><td>El Paso</td><td>TX</td><td>UA000000106067369</td></tr><tr><td>850.5</td><td>1975-01-19T14:06:47.031+0000</td><td>1975-01-19T14:04:36.423+0000</td><td>Berkeley</td><td>CA</td><td>UA000000106109205</td></tr><tr><td>850.5</td><td>1975-01-19T14:28:37.832+0000</td><td>1975-01-19T14:28:37.581+0000</td><td>Richmond</td><td>VA</td><td>UA000000106111877</td></tr><tr><td>850.5</td><td>1975-01-18T07:30:44.621+0000</td><td>1975-01-18T07:30:40.895+0000</td><td>Healdsburg</td><td>CA</td><td>UA000000102419548</td></tr><tr><td>850.5</td><td>1975-01-18T08:26:20.071+0000</td><td>1975-01-18T08:26:08.094+0000</td><td>New York</td><td>NY</td><td>UA000000102370501</td></tr><tr><td>850.5</td><td>1975-01-18T09:33:00.739+0000</td><td>1975-01-18T09:32:37.501+0000</td><td>Groves</td><td>TX</td><td>UA000000102376233</td></tr><tr><td>850.5</td><td>1975-01-18T06:31:45.376+0000</td><td>1975-01-18T06:29:36.309+0000</td><td>Los Angeles</td><td>CA</td><td>UA000000102447679</td></tr><tr><td>850.5</td><td>1975-01-18T05:52:20.317+0000</td><td>1975-01-18T05:51:46.740+0000</td><td>Kansas City</td><td>MO</td><td>UA000000102368633</td></tr><tr><td>850.5</td><td>1975-01-18T07:36:41.769+0000</td><td>1975-01-18T07:36:33.042+0000</td><td>Canton</td><td>GA</td><td>UA000000102383673</td></tr><tr><td>850.5</td><td>1975-01-18T05:59:18.895+0000</td><td>1975-01-18T05:58:32.847+0000</td><td>Rancho Cucamonga</td><td>CA</td><td>UA000000102406310</td></tr><tr><td>850.5</td><td>1975-01-18T07:47:24.448+0000</td><td>1975-01-18T07:45:26.945+0000</td><td>Clarkston</td><td>GA</td><td>UA000000102427102</td></tr><tr><td>850.5</td><td>1975-01-19T18:18:01.559+0000</td><td>1975-01-19T18:16:09.252+0000</td><td>South Gate</td><td>CA</td><td>UA000000107022450</td></tr><tr><td>850.5</td><td>1975-01-19T17:24:39.128+0000</td><td>1975-01-19T17:23:57.991+0000</td><td>Houston</td><td>TX</td><td>UA000000107006298</td></tr><tr><td>850.5</td><td>1975-01-19T17:42:57.477+0000</td><td>1975-01-19T17:42:14.520+0000</td><td>Jefferson City</td><td>MO</td><td>UA000000106970596</td></tr><tr><td>850.5</td><td>1975-01-18T15:36:02.413+0000</td><td>1975-01-18T15:36:01.580+0000</td><td>Fort Worth</td><td>TX</td><td>UA000000103965710</td></tr><tr><td>850.5</td><td>1975-01-18T15:41:09.598+0000</td><td>1975-01-18T15:41:05.495+0000</td><td>Layton</td><td>UT</td><td>UA000000104049905</td></tr><tr><td>850.5</td><td>1975-01-18T22:15:26.314+0000</td><td>1975-01-18T22:14:23.525+0000</td><td>Cuyahoga Falls</td><td>OH</td><td>UA000000104005020</td></tr><tr><td>850.5</td><td>1975-01-18T17:34:18.668+0000</td><td>1975-01-18T17:34:15.698+0000</td><td>Hurricane</td><td>UT</td><td>UA000000103998326</td></tr><tr><td>850.5</td><td>1975-01-18T22:33:17.311+0000</td><td>1975-01-18T22:33:14.595+0000</td><td>Janesville</td><td>WI</td><td>UA000000103985685</td></tr><tr><td>850.5</td><td>1975-01-18T19:16:39.636+0000</td><td>1975-01-18T19:16:28.390+0000</td><td>Savannah</td><td>GA</td><td>UA000000104002458</td></tr><tr><td>850.5</td><td>1975-01-18T17:36:36.996+0000</td><td>1975-01-18T17:36:36.484+0000</td><td>New York</td><td>NY</td><td>UA000000104005482</td></tr><tr><td>850.5</td><td>1975-01-18T18:48:17.225+0000</td><td>1975-01-18T18:48:13.706+0000</td><td>Rockwall</td><td>TX</td><td>UA000000104048403</td></tr><tr><td>850.5</td><td>1975-01-18T19:21:24.817+0000</td><td>1975-01-18T19:21:24.616+0000</td><td>Green Bay</td><td>WI</td><td>UA000000103960789</td></tr><tr><td>850.5</td><td>1975-01-18T15:00:45.645+0000</td><td>1975-01-18T15:00:27.341+0000</td><td>Wayne</td><td>MI</td><td>UA000000103998861</td></tr><tr><td>850.5</td><td>1975-01-18T18:00:38.827+0000</td><td>1975-01-18T18:00:27.760+0000</td><td>Phoenix</td><td>AZ</td><td>UA000000104052674</td></tr><tr><td>850.5</td><td>1975-01-18T18:54:49.475+0000</td><td>1975-01-18T18:52:56.415+0000</td><td>Cupertino</td><td>CA</td><td>UA000000104025777</td></tr><tr><td>850.5</td><td>1975-01-18T15:45:56.139+0000</td><td>1975-01-18T15:44:10.994+0000</td><td>Portsmouth</td><td>VA</td><td>UA000000104036377</td></tr><tr><td>850.5</td><td>1975-01-18T17:52:37.768+0000</td><td>1975-01-18T17:51:57.881+0000</td><td>St. Peters</td><td>MO</td><td>UA000000103967973</td></tr><tr><td>850.5</td><td>1975-01-18T17:14:19.821+0000</td><td>1975-01-18T17:13:59.921+0000</td><td>Palos Heights</td><td>IL</td><td>UA000000103988640</td></tr><tr><td>850.5</td><td>1975-01-18T07:10:59.028+0000</td><td>1975-01-18T07:10:35.861+0000</td><td>Rochester Hills</td><td>MI</td><td>UA000000103207109</td></tr><tr><td>850.5</td><td>1975-01-18T08:17:14.082+0000</td><td>1975-01-18T08:16:02.957+0000</td><td>Mesa</td><td>AZ</td><td>UA000000103187125</td></tr><tr><td>850.5</td><td>1975-01-18T09:27:41.480+0000</td><td>1975-01-18T09:27:22.732+0000</td><td>Huntsville</td><td>AL</td><td>UA000000103241300</td></tr><tr><td>850.5</td><td>1975-01-18T12:23:37.846+0000</td><td>1975-01-18T12:23:32.863+0000</td><td>Fort Wayne</td><td>IN</td><td>UA000000103226938</td></tr><tr><td>850.5</td><td>1975-01-18T09:53:32.639+0000</td><td>1975-01-18T09:53:25.491+0000</td><td>Durham</td><td>NC</td><td>UA000000103195562</td></tr><tr><td>850.5</td><td>1975-01-18T12:41:09.630+0000</td><td>1975-01-18T12:41:02.000+0000</td><td>Charlotte</td><td>NC</td><td>UA000000103218268</td></tr><tr><td>850.5</td><td>1975-01-18T11:30:56.729+0000</td><td>1975-01-18T11:30:54.833+0000</td><td>Victoria</td><td>TX</td><td>UA000000103218260</td></tr><tr><td>850.5</td><td>1975-01-18T12:26:51.499+0000</td><td>1975-01-18T12:26:40.437+0000</td><td>Macomb</td><td>IL</td><td>UA000000103180304</td></tr><tr><td>850.5</td><td>1975-01-18T11:20:51.403+0000</td><td>1975-01-18T11:19:56.782+0000</td><td>Los Angeles</td><td>CA</td><td>UA000000103245002</td></tr><tr><td>850.5</td><td>1975-01-18T08:16:38.762+0000</td><td>1975-01-18T08:15:10.853+0000</td><td>New York</td><td>NY</td><td>UA000000103170841</td></tr><tr><td>850.5</td><td>1975-01-18T08:29:07.918+0000</td><td>1975-01-18T08:26:51.973+0000</td><td>Raleigh</td><td>NC</td><td>UA000000103229536</td></tr><tr><td>850.5</td><td>1975-01-18T10:37:05.606+0000</td><td>1975-01-18T10:35:30.679+0000</td><td>Phoenix</td><td>AZ</td><td>UA000000103210291</td></tr><tr><td>850.5</td><td>1975-01-18T10:32:08.573+0000</td><td>1975-01-18T10:30:04.308+0000</td><td>St. Louis</td><td>MO</td><td>UA000000103172885</td></tr><tr><td>850.5</td><td>1975-01-18T10:39:03.549+0000</td><td>1975-01-18T10:38:21.571+0000</td><td>Duluth</td><td>MN</td><td>UA000000103230830</td></tr><tr><td>850.5</td><td>1975-01-18T14:04:34.401+0000</td><td>1975-01-18T14:01:57.630+0000</td><td>Niceville</td><td>FL</td><td>UA000000103188626</td></tr><tr><td>850.5</td><td>1975-01-18T10:05:31.183+0000</td><td>1975-01-18T10:04:35.746+0000</td><td>St. Marys</td><td>OH</td><td>UA000000103198273</td></tr><tr><td>850.5</td><td>1975-01-18T07:07:31.321+0000</td><td>1975-01-18T07:06:48.991+0000</td><td>Pomona</td><td>CA</td><td>UA000000103162350</td></tr><tr><td>850.5</td><td>1975-01-18T10:38:29.220+0000</td><td>1975-01-18T10:38:05.245+0000</td><td>Cedar Rapids</td><td>IA</td><td>UA000000103183174</td></tr><tr><td>850.5</td><td>1975-01-18T11:21:44.167+0000</td><td>1975-01-18T11:21:43.809+0000</td><td>Huntington Park</td><td>CA</td><td>UA000000103178283</td></tr><tr><td>850.5</td><td>1975-01-18T14:36:42.987+0000</td><td>1975-01-18T14:29:54.286+0000</td><td>North Bonneville</td><td>WA</td><td>UA000000103218145</td></tr><tr><td>850.5</td><td>1975-01-18T05:18:53.058+0000</td><td>1975-01-18T05:18:42.799+0000</td><td>Frisco</td><td>TX</td><td>UA000000103176055</td></tr><tr><td>850.5</td><td>1975-01-18T12:01:31.814+0000</td><td>1975-01-18T11:59:55.840+0000</td><td>Corsicana</td><td>TX</td><td>UA000000103193152</td></tr><tr><td>850.5</td><td>1975-01-18T06:30:53.278+0000</td><td>1975-01-18T06:30:52.728+0000</td><td>Sandwich</td><td>IL</td><td>UA000000103238213</td></tr><tr><td>850.5</td><td>1975-01-18T10:50:42.600+0000</td><td>1975-01-18T10:50:40.531+0000</td><td>Elgin</td><td>IL</td><td>UA000000103184128</td></tr><tr><td>850.5</td><td>1975-01-18T11:13:08.132+0000</td><td>1975-01-18T11:12:17.367+0000</td><td>Alvin</td><td>TX</td><td>UA000000103219185</td></tr><tr><td>850.5</td><td>1975-01-18T12:59:48.458+0000</td><td>1975-01-18T12:58:20.181+0000</td><td>New York</td><td>NY</td><td>UA000000103241607</td></tr><tr><td>850.5</td><td>1975-01-18T15:51:04.453+0000</td><td>1975-01-18T15:51:03.926+0000</td><td>New York</td><td>NY</td><td>UA000000103849385</td></tr><tr><td>850.5</td><td>1975-01-18T18:30:36.078+0000</td><td>1975-01-18T18:29:30.381+0000</td><td>Port Jervis</td><td>NY</td><td>UA000000103766084</td></tr><tr><td>850.5</td><td>1975-01-18T17:11:26.681+0000</td><td>1975-01-18T17:09:41.892+0000</td><td>Lakewood</td><td>OH</td><td>UA000000103765162</td></tr><tr><td>850.5</td><td>1975-01-18T11:39:51.167+0000</td><td>1975-01-18T11:36:21.221+0000</td><td>Simi Valley</td><td>CA</td><td>UA000000103819185</td></tr><tr><td>850.5</td><td>1975-01-18T16:29:22.087+0000</td><td>1975-01-18T16:28:36.574+0000</td><td>Boulder</td><td>CO</td><td>UA000000103814307</td></tr><tr><td>850.5</td><td>1975-01-18T19:39:24.840+0000</td><td>1975-01-18T19:39:23.753+0000</td><td>Lyndhurst</td><td>OH</td><td>UA000000103821220</td></tr><tr><td>850.5</td><td>1975-01-18T15:22:54.406+0000</td><td>1975-01-18T15:22:43.250+0000</td><td>Allen Park</td><td>MI</td><td>UA000000103844399</td></tr><tr><td>850.5</td><td>1975-01-18T15:06:08.234+0000</td><td>1975-01-18T15:06:00.878+0000</td><td>Hawthorne</td><td>CA</td><td>UA000000103777728</td></tr><tr><td>850.5</td><td>1975-01-18T15:08:42.097+0000</td><td>1975-01-18T15:08:41.863+0000</td><td>Escondido</td><td>CA</td><td>UA000000103770360</td></tr><tr><td>850.5</td><td>1975-01-18T16:08:31.633+0000</td><td>1975-01-18T16:07:48.016+0000</td><td>Austin</td><td>TX</td><td>UA000000103811657</td></tr><tr><td>850.5</td><td>1975-01-18T15:23:02.670+0000</td><td>1975-01-18T15:21:21.311+0000</td><td>Willows</td><td>CA</td><td>UA000000103804940</td></tr><tr><td>850.5</td><td>1975-01-18T11:23:49.117+0000</td><td>1975-01-18T11:20:48.549+0000</td><td>Petaluma</td><td>CA</td><td>UA000000103849879</td></tr><tr><td>850.5</td><td>1975-01-18T17:02:40.565+0000</td><td>1975-01-18T17:02:39.716+0000</td><td>Canyon Lake</td><td>CA</td><td>UA000000103845243</td></tr><tr><td>850.5</td><td>1975-01-18T15:37:13.941+0000</td><td>1975-01-18T15:36:54.152+0000</td><td>Portland</td><td>OR</td><td>UA000000103795106</td></tr><tr><td>850.5</td><td>1975-01-18T17:24:47.126+0000</td><td>1975-01-18T17:24:46.269+0000</td><td>Marion</td><td>OH</td><td>UA000000103789649</td></tr><tr><td>850.5</td><td>1975-01-18T15:57:45.123+0000</td><td>1975-01-18T15:56:17.603+0000</td><td>La Palma</td><td>CA</td><td>UA000000103803340</td></tr><tr><td>850.5</td><td>1975-01-18T16:51:38.220+0000</td><td>1975-01-18T16:51:00.635+0000</td><td>Troy</td><td>AL</td><td>UA000000103762678</td></tr><tr><td>850.5</td><td>1975-01-18T15:58:35.059+0000</td><td>1975-01-18T15:58:34.777+0000</td><td>Salem</td><td>OR</td><td>UA000000103835484</td></tr><tr><td>850.5</td><td>1975-01-18T14:57:38.570+0000</td><td>1975-01-18T14:57:17.477+0000</td><td>Austin</td><td>TX</td><td>UA000000103784271</td></tr><tr><td>850.5</td><td>1975-01-18T23:46:28.482+0000</td><td>1975-01-18T23:46:11.263+0000</td><td>Visalia</td><td>CA</td><td>UA000000103797618</td></tr><tr><td>850.5</td><td>1975-01-18T11:39:48.522+0000</td><td>1975-01-18T11:39:47.848+0000</td><td>El Paso</td><td>TX</td><td>UA000000103792542</td></tr><tr><td>850.5</td><td>1975-01-18T17:59:35.281+0000</td><td>1975-01-18T17:58:56.070+0000</td><td>Rice Lake</td><td>WI</td><td>UA000000103820458</td></tr><tr><td>850.5</td><td>1975-01-18T13:24:24.302+0000</td><td>1975-01-18T13:24:24.102+0000</td><td>Olathe</td><td>KS</td><td>UA000000103802055</td></tr><tr><td>850.5</td><td>1975-01-18T17:02:31.324+0000</td><td>1975-01-18T17:01:41.335+0000</td><td>Chelsea</td><td>MI</td><td>UA000000103803217</td></tr><tr><td>850.5</td><td>1975-01-18T20:21:06.882+0000</td><td>1975-01-18T20:19:48.876+0000</td><td>Stillwater</td><td>OK</td><td>UA000000103837878</td></tr><tr><td>850.5</td><td>1975-01-18T15:07:55.247+0000</td><td>1975-01-18T15:07:54.196+0000</td><td>Hialeah</td><td>FL</td><td>UA000000103820001</td></tr><tr><td>850.5</td><td>1975-01-18T15:30:50.964+0000</td><td>1975-01-18T15:30:47.608+0000</td><td>Phoenix</td><td>AZ</td><td>UA000000103843019</td></tr><tr><td>850.5</td><td>1975-01-18T16:38:01.768+0000</td><td>1975-01-18T16:38:00.257+0000</td><td>Chicago</td><td>IL</td><td>UA000000103818971</td></tr><tr><td>850.5</td><td>1975-01-18T16:23:18.290+0000</td><td>1975-01-18T16:19:37.477+0000</td><td>Peekskill</td><td>NY</td><td>UA000000103795199</td></tr><tr><td>850.5</td><td>1975-01-19T13:45:40.329+0000</td><td>1975-01-19T13:45:06.894+0000</td><td>Carrollton</td><td>TX</td><td>UA000000106356811</td></tr><tr><td>850.5</td><td>1975-01-19T17:59:32.195+0000</td><td>1975-01-19T17:56:21.947+0000</td><td>Detroit</td><td>MI</td><td>UA000000106284577</td></tr><tr><td>850.5</td><td>1975-01-19T17:36:43.539+0000</td><td>1975-01-19T17:35:00.112+0000</td><td>Miami</td><td>FL</td><td>UA000000106295877</td></tr><tr><td>850.5</td><td>1975-01-19T17:44:11.919+0000</td><td>1975-01-19T17:43:34.393+0000</td><td>New York</td><td>NY</td><td>UA000000106316249</td></tr><tr><td>850.5</td><td>1975-01-19T17:02:09.881+0000</td><td>1975-01-19T17:01:56.256+0000</td><td>Princeton</td><td>TX</td><td>UA000000106310357</td></tr><tr><td>850.5</td><td>1975-01-19T16:41:31.500+0000</td><td>1975-01-19T16:41:03.608+0000</td><td>Barnwell</td><td>SC</td><td>UA000000106292436</td></tr><tr><td>850.5</td><td>1975-01-19T13:18:45.382+0000</td><td>1975-01-19T13:18:43.561+0000</td><td>Carlsbad</td><td>CA</td><td>UA000000106305002</td></tr><tr><td>850.5</td><td>1975-01-19T16:37:12.490+0000</td><td>1975-01-19T16:36:39.233+0000</td><td>Kewanee</td><td>IL</td><td>UA000000106259038</td></tr><tr><td>850.5</td><td>1975-01-19T15:49:41.237+0000</td><td>1975-01-19T15:48:15.212+0000</td><td>Englewood</td><td>NJ</td><td>UA000000106338427</td></tr><tr><td>850.5</td><td>1975-01-19T13:55:37.562+0000</td><td>1975-01-19T13:55:37.001+0000</td><td>Jackson</td><td>MS</td><td>UA000000106354312</td></tr><tr><td>850.5</td><td>1975-01-19T16:10:28.057+0000</td><td>1975-01-19T16:06:11.577+0000</td><td>Yazoo City</td><td>MS</td><td>UA000000106320370</td></tr><tr><td>850.5</td><td>1975-01-19T14:21:02.850+0000</td><td>1975-01-19T14:20:39.600+0000</td><td>Missoula</td><td>MT</td><td>UA000000106333443</td></tr><tr><td>850.5</td><td>1975-01-19T15:30:39.857+0000</td><td>1975-01-19T15:30:34.812+0000</td><td>Ankeny</td><td>IA</td><td>UA000000106341897</td></tr><tr><td>850.5</td><td>1975-01-19T14:57:29.896+0000</td><td>1975-01-19T14:57:24.519+0000</td><td>Austin</td><td>TX</td><td>UA000000106336665</td></tr><tr><td>850.5</td><td>1975-01-19T15:29:24.311+0000</td><td>1975-01-19T15:28:52.829+0000</td><td>Marysville</td><td>CA</td><td>UA000000106274626</td></tr><tr><td>850.5</td><td>1975-01-19T14:02:24.523+0000</td><td>1975-01-19T14:00:53.057+0000</td><td>Atlanta</td><td>GA</td><td>UA000000106354405</td></tr><tr><td>850.5</td><td>1975-01-19T13:23:55.502+0000</td><td>1975-01-19T13:23:21.869+0000</td><td>Troutdale</td><td>OR</td><td>UA000000106307184</td></tr><tr><td>850.5</td><td>1975-01-19T11:42:14.939+0000</td><td>1975-01-19T11:41:48.867+0000</td><td>Upland</td><td>CA</td><td>UA000000106306680</td></tr><tr><td>850.5</td><td>1975-01-19T14:17:23.862+0000</td><td>1975-01-19T14:16:48.259+0000</td><td>Sacramento</td><td>CA</td><td>UA000000106274240</td></tr><tr><td>850.5</td><td>1975-01-19T14:43:12.863+0000</td><td>1975-01-19T14:40:12.099+0000</td><td>San Diego</td><td>CA</td><td>UA000000106322613</td></tr><tr><td>850.5</td><td>1975-01-19T11:25:21.179+0000</td><td>1975-01-19T11:24:27.033+0000</td><td>Salinas</td><td>CA</td><td>UA000000106301009</td></tr><tr><td>850.5</td><td>1975-01-19T17:36:08.036+0000</td><td>1975-01-19T17:35:28.430+0000</td><td>Iron River</td><td>MI</td><td>UA000000106293835</td></tr><tr><td>850.5</td><td>1975-01-19T13:48:51.536+0000</td><td>1975-01-19T13:47:34.944+0000</td><td>Grand Rapids</td><td>MI</td><td>UA000000106298448</td></tr><tr><td>850.5</td><td>1975-01-19T17:38:52.491+0000</td><td>1975-01-19T17:37:42.087+0000</td><td>Bremerton</td><td>WA</td><td>UA000000106271970</td></tr><tr><td>850.5</td><td>1975-01-19T08:02:23.431+0000</td><td>1975-01-19T08:00:58.225+0000</td><td>Bossier City</td><td>LA</td><td>UA000000106299513</td></tr><tr><td>850.5</td><td>1975-01-19T13:01:06.689+0000</td><td>1975-01-19T13:00:55.546+0000</td><td>Keene</td><td>NH</td><td>UA000000106261216</td></tr><tr><td>850.5</td><td>1975-01-19T17:51:59.403+0000</td><td>1975-01-19T17:50:51.013+0000</td><td>Derby</td><td>KS</td><td>UA000000106279682</td></tr><tr><td>850.5</td><td>1975-01-19T16:09:17.857+0000</td><td>1975-01-19T16:08:31.986+0000</td><td>Anaheim</td><td>CA</td><td>UA000000106273905</td></tr><tr><td>850.5</td><td>1975-01-19T17:24:20.673+0000</td><td>1975-01-19T17:24:16.533+0000</td><td>Iowa City</td><td>IA</td><td>UA000000106298411</td></tr><tr><td>850.5</td><td>1975-01-19T16:59:30.846+0000</td><td>1975-01-19T16:58:56.987+0000</td><td>Everman</td><td>TX</td><td>UA000000106330758</td></tr><tr><td>850.5</td><td>1975-01-19T16:50:40.478+0000</td><td>1975-01-19T16:47:10.235+0000</td><td>Lynnwood</td><td>WA</td><td>UA000000106273330</td></tr><tr><td>850.5</td><td>1975-01-19T14:18:37.723+0000</td><td>1975-01-19T14:18:20.113+0000</td><td>Azle</td><td>TX</td><td>UA000000106267332</td></tr><tr><td>850.5</td><td>1975-01-19T15:01:38.236+0000</td><td>1975-01-19T15:01:36.922+0000</td><td>Waterbury</td><td>CT</td><td>UA000000106348144</td></tr><tr><td>850.5</td><td>1975-01-19T17:51:22.546+0000</td><td>1975-01-19T17:49:55.200+0000</td><td>Dallas</td><td>TX</td><td>UA000000106325087</td></tr><tr><td>850.5</td><td>1975-01-18T19:53:03.182+0000</td><td>1975-01-18T19:51:32.433+0000</td><td>Lockport</td><td>NY</td><td>UA000000104190443</td></tr><tr><td>850.5</td><td>1975-01-18T19:47:48.699+0000</td><td>1975-01-18T19:47:02.095+0000</td><td>Coppell</td><td>TX</td><td>UA000000104206127</td></tr><tr><td>850.5</td><td>1975-01-18T19:11:40.012+0000</td><td>1975-01-18T19:11:12.604+0000</td><td>Surprise</td><td>AZ</td><td>UA000000104228147</td></tr><tr><td>850.5</td><td>1975-01-18T21:26:49.485+0000</td><td>1975-01-18T21:26:43.309+0000</td><td>Newark</td><td>NJ</td><td>UA000000104180727</td></tr><tr><td>850.5</td><td>1975-01-18T15:39:19.175+0000</td><td>1975-01-18T15:38:46.324+0000</td><td>Ulysses</td><td>KS</td><td>UA000000104237811</td></tr><tr><td>850.5</td><td>1975-01-18T21:26:17.531+0000</td><td>1975-01-18T21:26:14.972+0000</td><td>Sterling Heights</td><td>MI</td><td>UA000000104253284</td></tr><tr><td>850.5</td><td>1975-01-18T22:47:12.449+0000</td><td>1975-01-18T22:46:47.774+0000</td><td>Albuquerque</td><td>NM</td><td>UA000000104167869</td></tr><tr><td>850.5</td><td>1975-01-18T19:24:12.773+0000</td><td>1975-01-18T19:23:30.901+0000</td><td>Forney</td><td>TX</td><td>UA000000104171332</td></tr><tr><td>850.5</td><td>1975-01-18T21:20:29.331+0000</td><td>1975-01-18T21:20:28.971+0000</td><td>San Diego</td><td>CA</td><td>UA000000104252493</td></tr><tr><td>850.5</td><td>1975-01-18T21:18:51.946+0000</td><td>1975-01-18T21:18:36.205+0000</td><td>New York</td><td>NY</td><td>UA000000104196404</td></tr><tr><td>850.5</td><td>1975-01-18T18:57:25.993+0000</td><td>1975-01-18T18:56:24.491+0000</td><td>Monroe</td><td>GA</td><td>UA000000104202909</td></tr><tr><td>850.5</td><td>1975-01-18T20:45:00.137+0000</td><td>1975-01-18T20:43:35.255+0000</td><td>New York</td><td>NY</td><td>UA000000104198803</td></tr><tr><td>850.5</td><td>1975-01-18T20:01:09.859+0000</td><td>1975-01-18T20:01:07.497+0000</td><td>Pasadena</td><td>TX</td><td>UA000000104256628</td></tr><tr><td>850.5</td><td>1975-01-18T21:08:27.892+0000</td><td>1975-01-18T21:07:13.051+0000</td><td>Irving</td><td>TX</td><td>UA000000104229593</td></tr><tr><td>850.5</td><td>1975-01-18T23:42:24.929+0000</td><td>1975-01-18T23:42:01.453+0000</td><td>Daly City</td><td>CA</td><td>UA000000104254533</td></tr><tr><td>850.5</td><td>1975-01-18T22:16:18.500+0000</td><td>1975-01-18T22:16:16.432+0000</td><td>Wasilla</td><td>AK</td><td>UA000000104220996</td></tr><tr><td>850.5</td><td>1975-01-18T20:35:38.922+0000</td><td>1975-01-18T20:35:19.730+0000</td><td>New Hampton</td><td>IA</td><td>UA000000104210742</td></tr><tr><td>850.5</td><td>1975-01-18T23:56:57.085+0000</td><td>1975-01-18T23:56:53.392+0000</td><td>Radford</td><td>VA</td><td>UA000000104200051</td></tr><tr><td>850.5</td><td>1975-01-18T20:35:18.387+0000</td><td>1975-01-18T20:35:18.130+0000</td><td>Boynton Beach</td><td>FL</td><td>UA000000104202531</td></tr><tr><td>850.5</td><td>1975-01-18T19:41:36.210+0000</td><td>1975-01-18T19:41:30.177+0000</td><td>Phoenix</td><td>AZ</td><td>UA000000104166572</td></tr><tr><td>850.5</td><td>1975-01-18T16:30:42.615+0000</td><td>1975-01-18T16:30:42.155+0000</td><td>Chicago</td><td>IL</td><td>UA000000104179163</td></tr><tr><td>850.5</td><td>1975-01-18T19:08:00.136+0000</td><td>1975-01-18T19:06:43.916+0000</td><td>Columbia</td><td>SC</td><td>UA000000104159194</td></tr><tr><td>850.5</td><td>1975-01-18T17:50:28.516+0000</td><td>1975-01-18T17:49:40.915+0000</td><td>Blakely</td><td>GA</td><td>UA000000104218459</td></tr><tr><td>850.5</td><td>1975-01-18T19:47:43.880+0000</td><td>1975-01-18T19:47:32.190+0000</td><td>Elk Grove</td><td>CA</td><td>UA000000104239608</td></tr><tr><td>850.5</td><td>1975-01-18T18:04:23.927+0000</td><td>1975-01-18T18:03:51.105+0000</td><td>St. Louis</td><td>MO</td><td>UA000000104175810</td></tr><tr><td>850.5</td><td>1975-01-18T16:32:09.440+0000</td><td>1975-01-18T16:31:51.735+0000</td><td>Bowling Green</td><td>OH</td><td>UA000000104224087</td></tr><tr><td>850.5</td><td>1975-01-18T19:59:23.265+0000</td><td>1975-01-18T19:58:31.939+0000</td><td>Houston</td><td>TX</td><td>UA000000104256325</td></tr><tr><td>850.5</td><td>1975-01-18T18:51:58.131+0000</td><td>1975-01-18T18:49:49.125+0000</td><td>Chico</td><td>CA</td><td>UA000000104167354</td></tr><tr><td>850.5</td><td>1975-01-18T20:46:15.794+0000</td><td>1975-01-18T20:45:25.251+0000</td><td>Worthington Hills</td><td>KY</td><td>UA000000104196326</td></tr><tr><td>850.5</td><td>1975-01-18T18:40:41.598+0000</td><td>1975-01-18T18:40:37.111+0000</td><td>Jackson</td><td>MS</td><td>UA000000104227982</td></tr><tr><td>850.5</td><td>1975-01-18T14:29:57.804+0000</td><td>1975-01-18T14:27:43.437+0000</td><td>Portland</td><td>OR</td><td>UA000000104206099</td></tr><tr><td>850.5</td><td>1975-01-18T05:57:24.791+0000</td><td>1975-01-18T05:57:15.876+0000</td><td>Jersey City</td><td>NJ</td><td>UA000000103043498</td></tr><tr><td>850.5</td><td>1975-01-18T12:19:39.742+0000</td><td>1975-01-18T12:19:37.585+0000</td><td>Chicago</td><td>IL</td><td>UA000000103000635</td></tr><tr><td>850.5</td><td>1975-01-18T12:54:11.304+0000</td><td>1975-01-18T12:54:02.739+0000</td><td>North Charleston</td><td>SC</td><td>UA000000102974922</td></tr><tr><td>850.5</td><td>1975-01-18T08:33:44.041+0000</td><td>1975-01-18T08:33:19.384+0000</td><td>Tampa</td><td>FL</td><td>UA000000102972953</td></tr><tr><td>850.5</td><td>1975-01-18T09:59:06.030+0000</td><td>1975-01-18T09:53:52.836+0000</td><td>Cedar Park</td><td>TX</td><td>UA000000103018945</td></tr><tr><td>850.5</td><td>1975-01-18T12:45:38.853+0000</td><td>1975-01-18T12:44:08.834+0000</td><td>Minneapolis</td><td>MN</td><td>UA000000102967653</td></tr><tr><td>850.5</td><td>1975-01-18T08:26:52.521+0000</td><td>1975-01-18T08:25:55.356+0000</td><td>New Orleans</td><td>LA</td><td>UA000000102983538</td></tr><tr><td>850.5</td><td>1975-01-18T08:44:15.150+0000</td><td>1975-01-18T08:44:14.542+0000</td><td>San Diego</td><td>CA</td><td>UA000000102994456</td></tr><tr><td>850.5</td><td>1975-01-18T08:20:48.006+0000</td><td>1975-01-18T08:20:40.897+0000</td><td>Grand Prairie</td><td>TX</td><td>UA000000103013508</td></tr><tr><td>850.5</td><td>1975-01-18T13:15:00.596+0000</td><td>1975-01-18T13:14:43.264+0000</td><td>Tucson</td><td>AZ</td><td>UA000000103054660</td></tr><tr><td>850.5</td><td>1975-01-18T13:56:59.872+0000</td><td>1975-01-18T13:56:18.825+0000</td><td>Euless</td><td>TX</td><td>UA000000103010396</td></tr><tr><td>850.5</td><td>1975-01-18T11:46:25.944+0000</td><td>1975-01-18T11:45:04.738+0000</td><td>Newark</td><td>DE</td><td>UA000000102963241</td></tr><tr><td>850.5</td><td>1975-01-18T05:34:58.656+0000</td><td>1975-01-18T05:33:53.190+0000</td><td>Twentynine Palms</td><td>CA</td><td>UA000000103049693</td></tr><tr><td>850.5</td><td>1975-01-18T10:23:10.778+0000</td><td>1975-01-18T10:23:05.777+0000</td><td>Sparks</td><td>NV</td><td>UA000000103048091</td></tr><tr><td>850.5</td><td>1975-01-18T09:05:44.737+0000</td><td>1975-01-18T09:05:38.044+0000</td><td>Pinole</td><td>CA</td><td>UA000000103056600</td></tr><tr><td>850.5</td><td>1975-01-18T07:51:10.340+0000</td><td>1975-01-18T07:49:30.437+0000</td><td>Henderson</td><td>NV</td><td>UA000000103025669</td></tr><tr><td>850.5</td><td>1975-01-18T06:30:41.099+0000</td><td>1975-01-18T06:30:39.351+0000</td><td>Claremont</td><td>CA</td><td>UA000000103001120</td></tr><tr><td>850.5</td><td>1975-01-18T22:26:23.954+0000</td><td>1975-01-18T22:23:23.075+0000</td><td>New York</td><td>NY</td><td>UA000000104272475</td></tr><tr><td>850.5</td><td>1975-01-18T20:07:48.686+0000</td><td>1975-01-18T20:06:58.674+0000</td><td>Killeen</td><td>TX</td><td>UA000000104335540</td></tr><tr><td>850.5</td><td>1975-01-18T13:16:17.516+0000</td><td>1975-01-18T13:16:12.087+0000</td><td>New York</td><td>NY</td><td>UA000000104258627</td></tr><tr><td>850.5</td><td>1975-01-18T19:21:11.115+0000</td><td>1975-01-18T19:21:02.275+0000</td><td>Pico Rivera</td><td>CA</td><td>UA000000104317683</td></tr><tr><td>850.5</td><td>1975-01-18T21:38:32.618+0000</td><td>1975-01-18T21:38:28.202+0000</td><td>Round Rock</td><td>TX</td><td>UA000000104274011</td></tr><tr><td>850.5</td><td>1975-01-18T21:14:44.068+0000</td><td>1975-01-18T21:13:53.606+0000</td><td>Los Angeles</td><td>CA</td><td>UA000000104270890</td></tr><tr><td>850.5</td><td>1975-01-18T21:36:45.282+0000</td><td>1975-01-18T21:34:55.595+0000</td><td>San Francisco</td><td>CA</td><td>UA000000104284172</td></tr><tr><td>850.5</td><td>1975-01-18T23:12:21.718+0000</td><td>1975-01-18T23:11:10.295+0000</td><td>Warrior</td><td>AL</td><td>UA000000104270711</td></tr><tr><td>850.5</td><td>1975-01-18T21:37:18.990+0000</td><td>1975-01-18T21:37:18.577+0000</td><td>Bradenton</td><td>FL</td><td>UA000000104299691</td></tr><tr><td>850.5</td><td>1975-01-18T23:01:27.934+0000</td><td>1975-01-18T23:01:15.658+0000</td><td>Madison</td><td>WI</td><td>UA000000104353058</td></tr><tr><td>850.5</td><td>1975-01-18T17:13:28.796+0000</td><td>1975-01-18T17:11:37.953+0000</td><td>Grand Rapids</td><td>MI</td><td>UA000000104343386</td></tr><tr><td>850.5</td><td>1975-01-19T00:07:23.917+0000</td><td>1975-01-19T00:07:22.899+0000</td><td>New York</td><td>NY</td><td>UA000000104324555</td></tr><tr><td>850.5</td><td>1975-01-18T22:15:00.254+0000</td><td>1975-01-18T22:14:49.428+0000</td><td>Broomfield</td><td>CO</td><td>UA000000104285333</td></tr><tr><td>850.5</td><td>1975-01-19T00:02:48.648+0000</td><td>1975-01-19T00:00:35.736+0000</td><td>Indianapolis</td><td>IN</td><td>UA000000104302420</td></tr><tr><td>850.5</td><td>1975-01-19T02:30:52.578+0000</td><td>1975-01-19T02:30:46.056+0000</td><td>Glendale</td><td>AZ</td><td>UA000000104352837</td></tr><tr><td>850.5</td><td>1975-01-18T19:03:07.347+0000</td><td>1975-01-18T19:00:03.965+0000</td><td>Palmdale</td><td>CA</td><td>UA000000104305508</td></tr><tr><td>850.5</td><td>1975-01-18T20:44:29.865+0000</td><td>1975-01-18T20:43:41.965+0000</td><td>Roswell</td><td>GA</td><td>UA000000104351205</td></tr><tr><td>850.5</td><td>1975-01-18T19:13:09.845+0000</td><td>1975-01-18T19:07:56.155+0000</td><td>Beaumont</td><td>CA</td><td>UA000000104307967</td></tr><tr><td>850.5</td><td>1975-01-18T21:58:03.706+0000</td><td>1975-01-18T21:57:53.804+0000</td><td>Russell</td><td>KS</td><td>UA000000104326668</td></tr><tr><td>850.5</td><td>1975-01-18T17:58:40.098+0000</td><td>1975-01-18T17:58:35.432+0000</td><td>Cleveland</td><td>OH</td><td>UA000000104259398</td></tr><tr><td>850.5</td><td>1975-01-18T21:04:45.799+0000</td><td>1975-01-18T21:04:39.062+0000</td><td>Suffolk</td><td>VA</td><td>UA000000104315972</td></tr><tr><td>850.5</td><td>1975-01-18T18:06:23.636+0000</td><td>1975-01-18T18:06:10.830+0000</td><td>Fresno</td><td>CA</td><td>UA000000104343249</td></tr><tr><td>850.5</td><td>1975-01-18T18:42:12.945+0000</td><td>1975-01-18T18:41:55.615+0000</td><td>Milwaukee</td><td>WI</td><td>UA000000104319120</td></tr><tr><td>850.5</td><td>1975-01-18T21:00:30.911+0000</td><td>1975-01-18T20:57:29.998+0000</td><td>Gulfport</td><td>MS</td><td>UA000000104273782</td></tr><tr><td>850.5</td><td>1975-01-18T16:26:07.048+0000</td><td>1975-01-18T16:25:45.580+0000</td><td>Fontana</td><td>CA</td><td>UA000000103458121</td></tr><tr><td>850.5</td><td>1975-01-18T14:34:57.995+0000</td><td>1975-01-18T14:34:49.407+0000</td><td>Friendswood</td><td>TX</td><td>UA000000103490457</td></tr><tr><td>850.5</td><td>1975-01-18T14:33:27.018+0000</td><td>1975-01-18T14:32:37.738+0000</td><td>Isanti</td><td>MN</td><td>UA000000103538339</td></tr><tr><td>850.5</td><td>1975-01-18T14:59:13.507+0000</td><td>1975-01-18T14:57:23.759+0000</td><td>Rogers</td><td>AR</td><td>UA000000103521907</td></tr><tr><td>850.5</td><td>1975-01-18T08:32:48.426+0000</td><td>1975-01-18T08:30:51.678+0000</td><td>Chicago</td><td>IL</td><td>UA000000103523420</td></tr><tr><td>850.5</td><td>1975-01-18T15:35:00.670+0000</td><td>1975-01-18T15:34:19.386+0000</td><td>Frisco</td><td>TX</td><td>UA000000103514213</td></tr><tr><td>850.5</td><td>1975-01-18T07:35:41.323+0000</td><td>1975-01-18T07:35:29.281+0000</td><td>Houston</td><td>TX</td><td>UA000000103506194</td></tr><tr><td>850.5</td><td>1975-01-18T16:03:24.309+0000</td><td>1975-01-18T16:01:29.467+0000</td><td>Noblesville</td><td>IN</td><td>UA000000103516374</td></tr><tr><td>850.5</td><td>1975-01-18T12:17:00.223+0000</td><td>1975-01-18T12:16:31.215+0000</td><td>Temecula</td><td>CA</td><td>UA000000103554198</td></tr><tr><td>850.5</td><td>1975-01-18T10:20:38.432+0000</td><td>1975-01-18T10:20:19.444+0000</td><td>Raytown</td><td>MO</td><td>UA000000103538396</td></tr><tr><td>850.5</td><td>1975-01-18T14:00:53.794+0000</td><td>1975-01-18T14:00:03.453+0000</td><td>Tahlequah</td><td>OK</td><td>UA000000103461276</td></tr><tr><td>850.5</td><td>1975-01-18T12:46:52.612+0000</td><td>1975-01-18T12:42:11.988+0000</td><td>Jacksonville</td><td>FL</td><td>UA000000103476213</td></tr><tr><td>850.5</td><td>1975-01-18T16:39:20.107+0000</td><td>1975-01-18T16:38:34.196+0000</td><td>Amarillo</td><td>TX</td><td>UA000000103524073</td></tr><tr><td>850.5</td><td>1975-01-18T18:05:56.320+0000</td><td>1975-01-18T18:05:54.541+0000</td><td>Maplewood</td><td>MO</td><td>UA000000103520201</td></tr><tr><td>850.5</td><td>1975-01-18T17:00:11.750+0000</td><td>1975-01-18T16:59:24.459+0000</td><td>Duluth</td><td>MN</td><td>UA000000103508580</td></tr><tr><td>850.5</td><td>1975-01-18T13:03:42.841+0000</td><td>1975-01-18T13:02:25.247+0000</td><td>Hartford</td><td>CT</td><td>UA000000103498959</td></tr><tr><td>850.5</td><td>1975-01-18T19:56:21.932+0000</td><td>1975-01-18T19:56:21.624+0000</td><td>Columbus</td><td>IN</td><td>UA000000103486660</td></tr><tr><td>850.5</td><td>1975-01-18T16:15:47.359+0000</td><td>1975-01-18T16:15:32.889+0000</td><td>Springfield</td><td>MO</td><td>UA000000103533477</td></tr><tr><td>850.5</td><td>1975-01-18T10:12:38.463+0000</td><td>1975-01-18T10:09:51.437+0000</td><td>Eugene</td><td>OR</td><td>UA000000103475416</td></tr><tr><td>850.5</td><td>1975-01-18T09:39:18.075+0000</td><td>1975-01-18T09:39:16.575+0000</td><td>Oakley</td><td>KS</td><td>UA000000103537816</td></tr><tr><td>850.5</td><td>1975-01-18T16:07:38.443+0000</td><td>1975-01-18T16:07:18.752+0000</td><td>Blaine</td><td>MN</td><td>UA000000103524083</td></tr><tr><td>850.5</td><td>1975-01-18T20:09:28.265+0000</td><td>1975-01-18T20:08:06.288+0000</td><td>Monterey Park</td><td>CA</td><td>UA000000103463688</td></tr><tr><td>850.5</td><td>1975-01-18T09:43:49.314+0000</td><td>1975-01-18T09:43:48.699+0000</td><td>Provo</td><td>UT</td><td>UA000000103536010</td></tr><tr><td>850.5</td><td>1975-01-18T16:02:38.445+0000</td><td>1975-01-18T16:02:38.133+0000</td><td>Midland</td><td>MI</td><td>UA000000103477342</td></tr><tr><td>850.5</td><td>1975-01-18T14:49:30.385+0000</td><td>1975-01-18T14:49:02.938+0000</td><td>Sunrise</td><td>FL</td><td>UA000000103470292</td></tr><tr><td>850.5</td><td>1975-01-18T10:55:58.887+0000</td><td>1975-01-18T10:55:16.419+0000</td><td>Madison</td><td>WI</td><td>UA000000103479240</td></tr><tr><td>850.5</td><td>1975-01-18T14:10:16.490+0000</td><td>1975-01-18T14:08:36.534+0000</td><td>Greensboro</td><td>NC</td><td>UA000000103540640</td></tr><tr><td>850.5</td><td>1975-01-18T13:25:25.985+0000</td><td>1975-01-18T13:24:51.613+0000</td><td>Columbus</td><td>OH</td><td>UA000000103515535</td></tr><tr><td>850.5</td><td>1975-01-18T14:52:31.394+0000</td><td>1975-01-18T14:52:24.579+0000</td><td>Fort Collins</td><td>CO</td><td>UA000000103508889</td></tr><tr><td>850.5</td><td>1975-01-18T11:39:51.000+0000</td><td>1975-01-18T11:39:49.491+0000</td><td>Douglas</td><td>WY</td><td>UA000000103514820</td></tr><tr><td>850.5</td><td>1975-01-18T16:41:27.402+0000</td><td>1975-01-18T16:41:15.604+0000</td><td>New York</td><td>NY</td><td>UA000000103458474</td></tr><tr><td>850.5</td><td>1975-01-18T15:09:15.706+0000</td><td>1975-01-18T15:07:56.267+0000</td><td>Chicago</td><td>IL</td><td>UA000000103495744</td></tr><tr><td>850.5</td><td>1975-01-19T08:08:44.475+0000</td><td>1975-01-19T08:07:58.196+0000</td><td>Livonia</td><td>MI</td><td>UA000000105417424</td></tr><tr><td>850.5</td><td>1975-01-19T09:21:26.356+0000</td><td>1975-01-19T09:21:21.749+0000</td><td>Grand Prairie</td><td>TX</td><td>UA000000105454290</td></tr><tr><td>850.5</td><td>1975-01-19T05:26:35.749+0000</td><td>1975-01-19T05:26:35.500+0000</td><td>Chicago</td><td>IL</td><td>UA000000105436484</td></tr><tr><td>850.5</td><td>1975-01-19T05:04:01.266+0000</td><td>1975-01-19T05:03:27.712+0000</td><td>San Diego</td><td>CA</td><td>UA000000105358423</td></tr><tr><td>850.5</td><td>1975-01-19T05:32:28.380+0000</td><td>1975-01-19T05:31:52.230+0000</td><td>Shakopee</td><td>MN</td><td>UA000000105395934</td></tr><tr><td>850.5</td><td>1975-01-19T05:18:35.618+0000</td><td>1975-01-19T05:18:33.385+0000</td><td>Tucson</td><td>AZ</td><td>UA000000105448825</td></tr><tr><td>850.5</td><td>1975-01-19T04:09:50.840+0000</td><td>1975-01-19T04:09:45.846+0000</td><td>Gridley</td><td>CA</td><td>UA000000105443974</td></tr><tr><td>850.5</td><td>1975-01-19T10:27:13.375+0000</td><td>1975-01-19T10:27:05.619+0000</td><td>Anaheim</td><td>CA</td><td>UA000000105420890</td></tr><tr><td>850.5</td><td>1975-01-19T06:17:59.457+0000</td><td>1975-01-19T06:16:11.363+0000</td><td>Melrose</td><td>MA</td><td>UA000000105412885</td></tr><tr><td>850.5</td><td>1975-01-19T11:08:55.419+0000</td><td>1975-01-19T11:08:08.109+0000</td><td>Helena</td><td>AL</td><td>UA000000105444126</td></tr><tr><td>850.5</td><td>1975-01-19T10:42:13.696+0000</td><td>1975-01-19T10:42:09.836+0000</td><td>Visalia</td><td>CA</td><td>UA000000105416990</td></tr><tr><td>850.5</td><td>1975-01-19T06:28:44.802+0000</td><td>1975-01-19T06:28:17.361+0000</td><td>Waukegan</td><td>IL</td><td>UA000000105410458</td></tr><tr><td>850.5</td><td>1975-01-19T10:59:54.758+0000</td><td>1975-01-19T10:59:02.107+0000</td><td>Wichita</td><td>KS</td><td>UA000000105370685</td></tr><tr><td>850.5</td><td>1975-01-19T06:56:45.129+0000</td><td>1975-01-19T06:56:33.521+0000</td><td>Buffalo</td><td>NY</td><td>UA000000105399252</td></tr><tr><td>850.5</td><td>1975-01-19T06:01:22.236+0000</td><td>1975-01-19T06:01:14.400+0000</td><td>Thousand Oaks</td><td>CA</td><td>UA000000105435125</td></tr><tr><td>850.5</td><td>1975-01-19T14:28:25.134+0000</td><td>1975-01-19T14:28:05.731+0000</td><td>Irvine</td><td>CA</td><td>UA000000105449086</td></tr><tr><td>850.5</td><td>1975-01-19T17:12:04.884+0000</td><td>1975-01-19T17:11:32.374+0000</td><td>Chicago</td><td>IL</td><td>UA000000106362388</td></tr><tr><td>850.5</td><td>1975-01-19T15:56:13.445+0000</td><td>1975-01-19T15:54:00.946+0000</td><td>Clifton</td><td>TN</td><td>UA000000106359277</td></tr><tr><td>850.5</td><td>1975-01-19T15:25:04.893+0000</td><td>1975-01-19T15:25:03.480+0000</td><td>Cortez</td><td>CO</td><td>UA000000106397251</td></tr><tr><td>850.5</td><td>1975-01-19T15:13:04.021+0000</td><td>1975-01-19T15:11:30.480+0000</td><td>Sacramento</td><td>CA</td><td>UA000000106364991</td></tr><tr><td>850.5</td><td>1975-01-19T17:38:57.950+0000</td><td>1975-01-19T17:37:03.675+0000</td><td>Allen</td><td>TX</td><td>UA000000106374126</td></tr><tr><td>850.5</td><td>1975-01-19T13:12:54.495+0000</td><td>1975-01-19T13:12:50.155+0000</td><td>Jasper</td><td>TX</td><td>UA000000106396652</td></tr><tr><td>850.5</td><td>1975-01-19T13:38:45.306+0000</td><td>1975-01-19T13:37:55.916+0000</td><td>Chicago</td><td>IL</td><td>UA000000106443432</td></tr><tr><td>850.5</td><td>1975-01-19T14:16:52.981+0000</td><td>1975-01-19T14:16:17.254+0000</td><td>Clarksville</td><td>TN</td><td>UA000000106396342</td></tr><tr><td>850.5</td><td>1975-01-19T17:23:48.341+0000</td><td>1975-01-19T17:20:48.864+0000</td><td>New Haven</td><td>CT</td><td>UA000000106390490</td></tr><tr><td>850.5</td><td>1975-01-19T16:10:46.012+0000</td><td>1975-01-19T16:10:09.591+0000</td><td>Jersey City</td><td>NJ</td><td>UA000000106429628</td></tr><tr><td>850.5</td><td>1975-01-19T15:26:20.005+0000</td><td>1975-01-19T15:24:35.429+0000</td><td>Chowchilla</td><td>CA</td><td>UA000000106448122</td></tr><tr><td>850.5</td><td>1975-01-19T14:26:45.432+0000</td><td>1975-01-19T14:25:36.815+0000</td><td>Irving</td><td>TX</td><td>UA000000106410846</td></tr><tr><td>850.5</td><td>1975-01-19T16:04:04.133+0000</td><td>1975-01-19T16:04:00.782+0000</td><td>Asheville</td><td>NC</td><td>UA000000106397107</td></tr><tr><td>850.5</td><td>1975-01-19T17:24:18.383+0000</td><td>1975-01-19T17:22:30.000+0000</td><td>New York</td><td>NY</td><td>UA000000106412212</td></tr><tr><td>850.5</td><td>1975-01-19T13:12:41.129+0000</td><td>1975-01-19T13:12:33.427+0000</td><td>Mount Washington</td><td>KY</td><td>UA000000106418327</td></tr><tr><td>850.5</td><td>1975-01-19T18:02:45.126+0000</td><td>1975-01-19T18:02:39.001+0000</td><td>Derby</td><td>CT</td><td>UA000000106367944</td></tr><tr><td>850.5</td><td>1975-01-19T16:13:31.262+0000</td><td>1975-01-19T16:13:06.050+0000</td><td>Elgin</td><td>OR</td><td>UA000000106362743</td></tr><tr><td>850.5</td><td>1975-01-19T13:53:06.191+0000</td><td>1975-01-19T13:53:03.063+0000</td><td>Evansville</td><td>IN</td><td>UA000000106449157</td></tr><tr><td>850.5</td><td>1975-01-19T15:31:26.270+0000</td><td>1975-01-19T15:30:44.694+0000</td><td>Chino</td><td>CA</td><td>UA000000106405958</td></tr><tr><td>850.5</td><td>1975-01-19T16:38:17.158+0000</td><td>1975-01-19T16:38:16.835+0000</td><td>Oklahoma City</td><td>OK</td><td>UA000000106443637</td></tr><tr><td>850.5</td><td>1975-01-19T15:15:11.611+0000</td><td>1975-01-19T15:15:01.502+0000</td><td>Greenwood</td><td>IN</td><td>UA000000106390233</td></tr><tr><td>850.5</td><td>1975-01-19T07:29:45.418+0000</td><td>1975-01-19T07:29:12.630+0000</td><td>Hanford</td><td>CA</td><td>UA000000105602872</td></tr><tr><td>850.5</td><td>1975-01-19T10:07:05.630+0000</td><td>1975-01-19T10:06:47.604+0000</td><td>Miami</td><td>FL</td><td>UA000000105602385</td></tr><tr><td>850.5</td><td>1975-01-19T07:25:32.324+0000</td><td>1975-01-19T07:23:53.482+0000</td><td>Berea</td><td>OH</td><td>UA000000105625856</td></tr><tr><td>850.5</td><td>1975-01-19T10:43:03.971+0000</td><td>1975-01-19T10:42:59.389+0000</td><td>Cincinnati</td><td>OH</td><td>UA000000105581389</td></tr><tr><td>850.5</td><td>1975-01-19T08:03:03.515+0000</td><td>1975-01-19T08:01:37.330+0000</td><td>Hayward</td><td>CA</td><td>UA000000105596376</td></tr><tr><td>850.5</td><td>1975-01-19T05:09:31.328+0000</td><td>1975-01-19T05:05:43.554+0000</td><td>Dallas</td><td>TX</td><td>UA000000105609694</td></tr><tr><td>850.5</td><td>1975-01-19T09:32:49.818+0000</td><td>1975-01-19T09:30:15.958+0000</td><td>Avalon</td><td>CA</td><td>UA000000105629832</td></tr><tr><td>850.5</td><td>1975-01-19T10:49:54.800+0000</td><td>1975-01-19T10:45:59.542+0000</td><td>Los Angeles</td><td>CA</td><td>UA000000105559837</td></tr><tr><td>850.5</td><td>1975-01-19T14:38:35.940+0000</td><td>1975-01-19T14:34:52.183+0000</td><td>Phoenix</td><td>AZ</td><td>UA000000105650943</td></tr><tr><td>850.5</td><td>1975-01-19T07:19:31.916+0000</td><td>1975-01-19T07:19:19.505+0000</td><td>Los Angeles</td><td>CA</td><td>UA000000105604135</td></tr><tr><td>850.5</td><td>1975-01-19T03:36:38.882+0000</td><td>1975-01-19T03:35:44.010+0000</td><td>Alhambra</td><td>CA</td><td>UA000000105633720</td></tr><tr><td>850.5</td><td>1975-01-19T09:54:51.637+0000</td><td>1975-01-19T09:50:34.424+0000</td><td>Chester</td><td>PA</td><td>UA000000105611759</td></tr><tr><td>850.5</td><td>1975-01-19T09:49:12.955+0000</td><td>1975-01-19T09:48:55.682+0000</td><td>Covington</td><td>LA</td><td>UA000000105572898</td></tr><tr><td>850.5</td><td>1975-01-19T07:31:47.337+0000</td><td>1975-01-19T07:31:47.076+0000</td><td>Los Angeles</td><td>CA</td><td>UA000000105651769</td></tr><tr><td>850.5</td><td>1975-01-19T05:35:51.671+0000</td><td>1975-01-19T05:35:50.819+0000</td><td>Fairfield</td><td>OH</td><td>UA000000105614129</td></tr><tr><td>850.5</td><td>1975-01-19T07:50:41.751+0000</td><td>1975-01-19T07:49:23.906+0000</td><td>Camden</td><td>NJ</td><td>UA000000105606612</td></tr><tr><td>850.5</td><td>1975-01-18T12:50:22.302+0000</td><td>1975-01-18T12:50:19.615+0000</td><td>Winston-Salem</td><td>NC</td><td>UA000000103279776</td></tr><tr><td>850.5</td><td>1975-01-18T13:46:14.752+0000</td><td>1975-01-18T13:39:43.868+0000</td><td>Kenmore</td><td>WA</td><td>UA000000103324983</td></tr><tr><td>850.5</td><td>1975-01-18T07:52:53.185+0000</td><td>1975-01-18T07:52:50.485+0000</td><td>Somersworth</td><td>NH</td><td>UA000000103291367</td></tr><tr><td>850.5</td><td>1975-01-18T13:02:06.075+0000</td><td>1975-01-18T13:01:22.963+0000</td><td>Tulsa</td><td>OK</td><td>UA000000103339934</td></tr><tr><td>850.5</td><td>1975-01-18T13:29:04.792+0000</td><td>1975-01-18T13:27:41.335+0000</td><td>West Jordan</td><td>UT</td><td>UA000000103266484</td></tr><tr><td>850.5</td><td>1975-01-18T14:41:04.146+0000</td><td>1975-01-18T14:40:55.038+0000</td><td>New York</td><td>NY</td><td>UA000000103335590</td></tr><tr><td>850.5</td><td>1975-01-18T12:11:53.660+0000</td><td>1975-01-18T12:11:51.885+0000</td><td>Duluth</td><td>GA</td><td>UA000000103316393</td></tr><tr><td>850.5</td><td>1975-01-18T12:20:55.473+0000</td><td>1975-01-18T12:20:35.464+0000</td><td>Westlake</td><td>LA</td><td>UA000000103316412</td></tr><tr><td>850.5</td><td>1975-01-18T11:01:43.289+0000</td><td>1975-01-18T11:01:34.299+0000</td><td>Albuquerque</td><td>NM</td><td>UA000000103272469</td></tr><tr><td>850.5</td><td>1975-01-18T13:14:45.702+0000</td><td>1975-01-18T13:14:43.792+0000</td><td>Washington</td><td>DC</td><td>UA000000103291579</td></tr><tr><td>850.5</td><td>1975-01-18T09:58:54.704+0000</td><td>1975-01-18T09:58:52.056+0000</td><td>Las Vegas</td><td>NV</td><td>UA000000103264131</td></tr></tbody></table>Showing the first 1000 rows.</div>"
      ]
     },
     "metadata": {
      "application/vnd.databricks.v1+output": {
       "addedWidgets": {},
       "aggData": [],
       "aggError": "",
       "aggOverflow": false,
       "aggSchema": [],
       "aggSeriesLimitReached": false,
       "aggType": "",
       "arguments": {},
       "columnCustomDisplayInfos": {},
       "data": [
        [
         921.6,
         "1975-01-19T13:55:33.395+0000",
         "1975-01-19T13:55:33.177+0000",
         "Jackson",
         "MS",
         "UA000000106026086"
        ],
        [
         921.6,
         "1975-01-19T10:50:08.371+0000",
         "1975-01-19T10:50:00.516+0000",
         "Anaheim",
         "CA",
         "UA000000105988205"
        ],
        [
         921.6,
         "1975-01-19T08:09:51.224+0000",
         "1975-01-19T08:08:19.269+0000",
         "Phoenix",
         "AZ",
         "UA000000105469152"
        ],
        [
         921.6,
         "1975-01-19T07:58:18.606+0000",
         "1975-01-19T07:57:17.998+0000",
         "Humble",
         "TX",
         "UA000000105541469"
        ],
        [
         921.6,
         "1975-01-18T14:12:07.925+0000",
         "1975-01-18T14:12:07.725+0000",
         "Elgin",
         "IL",
         "UA000000103622157"
        ],
        [
         921.6,
         "1975-01-18T20:14:01.109+0000",
         "1975-01-18T20:13:16.891+0000",
         "Palm Desert",
         "CA",
         "UA000000103592339"
        ],
        [
         921.6,
         "1975-01-19T00:31:51.832+0000",
         "1975-01-19T00:30:23.613+0000",
         "Brigham City",
         "UT",
         "UA000000104436573"
        ],
        [
         921.6,
         "1975-01-18T23:57:34.542+0000",
         "1975-01-18T23:55:48.474+0000",
         "Idaho Falls",
         "ID",
         "UA000000104410746"
        ],
        [
         921.6,
         "1975-01-19T02:27:39.255+0000",
         "1975-01-19T02:26:46.138+0000",
         "Magnolia",
         "AR",
         "UA000000104663815"
        ],
        [
         921.6,
         "1975-01-19T02:34:07.220+0000",
         "1975-01-19T02:32:14.952+0000",
         "New York",
         "NY",
         "UA000000104847413"
        ],
        [
         921.6,
         "1975-01-18T11:27:09.622+0000",
         "1975-01-18T11:26:36.042+0000",
         "Fort Worth",
         "TX",
         "UA000000103157371"
        ],
        [
         921.6,
         "1975-01-18T08:57:40.188+0000",
         "1975-01-18T08:57:24.116+0000",
         "Fullerton",
         "CA",
         "UA000000103170661"
        ],
        [
         921.6,
         "1975-01-18T15:43:15.341+0000",
         "1975-01-18T15:43:12.447+0000",
         "Perry",
         "GA",
         "UA000000103779973"
        ],
        [
         921.6,
         "1975-01-18T20:33:37.921+0000",
         "1975-01-18T20:31:15.907+0000",
         "Corpus Christi",
         "TX",
         "UA000000104241294"
        ],
        [
         921.6,
         "1975-01-19T09:08:59.466+0000",
         "1975-01-19T09:07:24.047+0000",
         "Greensboro",
         "NC",
         "UA000000105640765"
        ],
        [
         921.6,
         "1975-01-18T12:17:29.455+0000",
         "1975-01-18T12:17:28.183+0000",
         "Sioux Falls",
         "SD",
         "UA000000103870428"
        ],
        [
         921.6,
         "1975-01-19T05:09:03.026+0000",
         "1975-01-19T05:08:56.918+0000",
         "Garden Grove",
         "CA",
         "UA000000104981693"
        ],
        [
         921.6,
         "1975-01-18T22:27:48.143+0000",
         "1975-01-18T22:27:32.423+0000",
         "Mesa",
         "AZ",
         "UA000000104060861"
        ],
        [
         921.6,
         "1975-01-19T04:10:26.192+0000",
         "1975-01-19T04:10:19.664+0000",
         "Denver",
         "CO",
         "UA000000105115879"
        ],
        [
         921.6,
         "1975-01-18T18:40:53.544+0000",
         "1975-01-18T18:40:52.346+0000",
         "Grand Forks",
         "ND",
         "UA000000104071949"
        ],
        [
         921.6,
         "1975-01-18T19:18:09.470+0000",
         "1975-01-18T19:18:08.953+0000",
         "Philadelphia",
         "PA",
         "UA000000104134824"
        ],
        [
         921.6,
         "1975-01-18T14:51:02.758+0000",
         "1975-01-18T14:50:25.967+0000",
         "North Richland Hills",
         "TX",
         "UA000000103429342"
        ],
        [
         921.6,
         "1975-01-18T14:47:30.373+0000",
         "1975-01-18T14:47:25.307+0000",
         "Boise City",
         "ID",
         "UA000000103935684"
        ],
        [
         921.6,
         "1975-01-18T13:58:35.330+0000",
         "1975-01-18T13:58:25.572+0000",
         "Las Vegas",
         "NV",
         "UA000000103658234"
        ],
        [
         921.6,
         "1975-01-19T06:03:34.109+0000",
         "1975-01-19T06:03:32.947+0000",
         "California City",
         "CA",
         "UA000000104989512"
        ],
        [
         921.6,
         "1975-01-18T08:05:48.415+0000",
         "1975-01-18T08:05:35.503+0000",
         "Oklahoma City",
         "OK",
         "UA000000102724679"
        ],
        [
         921.6,
         "1975-01-18T06:56:10.526+0000",
         "1975-01-18T06:56:08.211+0000",
         "Knoxville",
         "TN",
         "UA000000102689629"
        ],
        [
         921.6,
         "1975-01-18T11:03:37.990+0000",
         "1975-01-18T11:03:30.458+0000",
         "Conroe",
         "TX",
         "UA000000103545789"
        ],
        [
         921.6,
         "1975-01-19T06:39:11.894+0000",
         "1975-01-19T06:37:32.053+0000",
         "DuPont",
         "WA",
         "UA000000105396270"
        ],
        [
         921.6,
         "1975-01-19T07:57:37.968+0000",
         "1975-01-19T07:57:35.349+0000",
         "New Hope",
         "MN",
         "UA000000105413152"
        ],
        [
         921.6,
         "1975-01-19T10:48:38.179+0000",
         "1975-01-19T10:46:39.544+0000",
         "Mesa",
         "AZ",
         "UA000000105889669"
        ],
        [
         921.6,
         "1975-01-19T05:48:51.019+0000",
         "1975-01-19T05:48:33.984+0000",
         "Seattle",
         "WA",
         "UA000000105150753"
        ],
        [
         921.6,
         "1975-01-19T09:30:43.276+0000",
         "1975-01-19T09:30:32.837+0000",
         "New York",
         "NY",
         "UA000000105331120"
        ],
        [
         921.6,
         "1975-01-18T09:27:56.783+0000",
         "1975-01-18T09:27:56.419+0000",
         "Buda",
         "TX",
         "UA000000102585718"
        ],
        [
         921.6,
         "1975-01-19T01:53:30.334+0000",
         "1975-01-19T01:53:29.632+0000",
         "Mountain View",
         "CA",
         "UA000000104668493"
        ],
        [
         921.6,
         "1975-01-19T00:51:53.471+0000",
         "1975-01-19T00:51:48.641+0000",
         "Des Moines",
         "IA",
         "UA000000104884999"
        ],
        [
         921.6,
         "1975-01-18T21:02:47.677+0000",
         "1975-01-18T21:02:42.431+0000",
         "Murphy",
         "TX",
         "UA000000104188752"
        ],
        [
         921.6,
         "1975-01-18T19:34:44.607+0000",
         "1975-01-18T19:34:31.168+0000",
         "Webster Groves",
         "MO",
         "UA000000104048868"
        ],
        [
         921.6,
         "1975-01-18T17:04:00.775+0000",
         "1975-01-18T17:04:00.396+0000",
         "Napa",
         "CA",
         "UA000000104027938"
        ],
        [
         921.6,
         "1975-01-18T15:35:03.162+0000",
         "1975-01-18T15:35:01.903+0000",
         "Center Line",
         "MI",
         "UA000000103245317"
        ],
        [
         921.6,
         "1975-01-18T14:02:31.684+0000",
         "1975-01-18T14:02:27.285+0000",
         "Vacaville",
         "CA",
         "UA000000103226548"
        ],
        [
         921.6,
         "1975-01-18T13:14:19.788+0000",
         "1975-01-18T13:14:15.266+0000",
         "Chandler",
         "AZ",
         "UA000000103384349"
        ],
        [
         921.6,
         "1975-01-18T17:28:44.054+0000",
         "1975-01-18T17:28:42.168+0000",
         "Houston",
         "TX",
         "UA000000103664730"
        ],
        [
         921.6,
         "1975-01-19T17:55:44.207+0000",
         "1975-01-19T17:55:38.299+0000",
         "Fresno",
         "CA",
         "UA000000106682461"
        ],
        [
         921.6,
         "1975-01-19T15:40:27.054+0000",
         "1975-01-19T15:38:51.474+0000",
         "Glendale",
         "AZ",
         "UA000000105925376"
        ],
        [
         921.6,
         "1975-01-19T10:53:25.087+0000",
         "1975-01-19T10:53:21.434+0000",
         "Meriden",
         "CT",
         "UA000000105947678"
        ],
        [
         921.6,
         "1975-01-19T14:06:14.521+0000",
         "1975-01-19T14:06:12.412+0000",
         "Collinsville",
         "IL",
         "UA000000105153963"
        ],
        [
         921.6,
         "1975-01-18T19:01:39.276+0000",
         "1975-01-18T19:01:33.865+0000",
         "Milwaukee",
         "WI",
         "UA000000104620499"
        ],
        [
         921.6,
         "1975-01-19T14:10:03.451+0000",
         "1975-01-19T14:09:55.304+0000",
         "San Francisco",
         "CA",
         "UA000000106159259"
        ],
        [
         921.6,
         "1975-01-19T12:03:03.318+0000",
         "1975-01-19T12:01:03.797+0000",
         "Lynn",
         "MA",
         "UA000000106176826"
        ],
        [
         921.6,
         "1975-01-18T13:19:14.857+0000",
         "1975-01-18T13:15:55.747+0000",
         "Collinsville",
         "OK",
         "UA000000103241876"
        ],
        [
         921.6,
         "1975-01-19T11:17:10.264+0000",
         "1975-01-19T11:13:50.192+0000",
         "Fort Worth",
         "TX",
         "UA000000105854576"
        ],
        [
         921.6,
         "1975-01-18T22:12:56.238+0000",
         "1975-01-18T22:12:46.295+0000",
         "Lewisville",
         "TX",
         "UA000000104108810"
        ],
        [
         921.6,
         "1975-01-18T07:25:56.705+0000",
         "1975-01-18T07:24:31.678+0000",
         "Memphis",
         "TN",
         "UA000000103029691"
        ],
        [
         921.6,
         "1975-01-18T21:45:54.178+0000",
         "1975-01-18T21:43:57.032+0000",
         "Hoisington",
         "KS",
         "UA000000104305128"
        ],
        [
         921.6,
         "1975-01-18T10:52:06.492+0000",
         "1975-01-18T10:51:22.503+0000",
         "Reading",
         "PA",
         "UA000000103512742"
        ],
        [
         921.6,
         "1975-01-18T13:53:41.134+0000",
         "1975-01-18T13:53:37.663+0000",
         "Atwater",
         "CA",
         "UA000000103511923"
        ],
        [
         921.6,
         "1975-01-19T17:40:58.020+0000",
         "1975-01-19T17:40:48.556+0000",
         "Canton",
         "OH",
         "UA000000106609443"
        ],
        [
         921.6,
         "1975-01-19T12:21:55.478+0000",
         "1975-01-19T12:21:01.870+0000",
         "Reno",
         "NV",
         "UA000000106051705"
        ],
        [
         921.6,
         "1975-01-18T16:29:28.293+0000",
         "1975-01-18T16:29:14.296+0000",
         "Olathe",
         "KS",
         "UA000000103623408"
        ],
        [
         921.6,
         "1975-01-18T18:22:11.546+0000",
         "1975-01-18T18:21:37.596+0000",
         "Baton Rouge",
         "LA",
         "UA000000103969465"
        ],
        [
         921.6,
         "1975-01-18T21:27:09.671+0000",
         "1975-01-18T21:26:58.340+0000",
         "Los Angeles",
         "CA",
         "UA000000103966771"
        ],
        [
         921.6,
         "1975-01-18T15:19:10.605+0000",
         "1975-01-18T15:18:55.860+0000",
         "Charleston",
         "IL",
         "UA000000103771157"
        ],
        [
         921.6,
         "1975-01-19T12:39:17.665+0000",
         "1975-01-19T12:38:16.418+0000",
         "Atlanta",
         "GA",
         "UA000000105805854"
        ],
        [
         921.6,
         "1975-01-18T23:08:12.814+0000",
         "1975-01-18T23:04:41.017+0000",
         "Floresville",
         "TX",
         "UA000000104499580"
        ],
        [
         921.6,
         "1975-01-19T15:40:05.839+0000",
         "1975-01-19T15:37:37.159+0000",
         "Beaumont",
         "TX",
         "UA000000106313083"
        ],
        [
         921.6,
         "1975-01-19T15:24:59.220+0000",
         "1975-01-19T15:24:32.808+0000",
         "Mountain Home",
         "AR",
         "UA000000106483407"
        ],
        [
         921.6,
         "1975-01-19T17:08:15.893+0000",
         "1975-01-19T17:07:42.053+0000",
         "New York",
         "NY",
         "UA000000106542042"
        ],
        [
         921.6,
         "1975-01-18T15:02:57.152+0000",
         "1975-01-18T15:02:55.067+0000",
         "Pittsburg",
         "CA",
         "UA000000103911913"
        ],
        [
         921.6,
         "1975-01-18T20:45:58.870+0000",
         "1975-01-18T20:45:34.327+0000",
         "Tulsa",
         "OK",
         "UA000000103925254"
        ],
        [
         921.6,
         "1975-01-19T16:39:43.049+0000",
         "1975-01-19T16:39:28.029+0000",
         "Rogers",
         "MN",
         "UA000000106398171"
        ],
        [
         921.6,
         "1975-01-19T17:21:57.177+0000",
         "1975-01-19T17:21:06.990+0000",
         "Los Angeles",
         "CA",
         "UA000000106411029"
        ],
        [
         921.6,
         "1975-01-18T12:12:28.738+0000",
         "1975-01-18T12:11:44.886+0000",
         "Glendale",
         "CA",
         "UA000000103554470"
        ],
        [
         921.6,
         "1975-01-19T03:32:11.648+0000",
         "1975-01-19T03:31:26.441+0000",
         "San Jose",
         "CA",
         "UA000000105329090"
        ],
        [
         921.6,
         "1975-01-19T09:11:52.943+0000",
         "1975-01-19T09:11:52.719+0000",
         "Murray",
         "UT",
         "UA000000105289468"
        ],
        [
         921.6,
         "1975-01-18T12:21:38.687+0000",
         "1975-01-18T12:21:38.125+0000",
         "Taunton",
         "MA",
         "UA000000102793363"
        ],
        [
         921.6,
         "1975-01-19T09:27:09.278+0000",
         "1975-01-19T09:27:00.569+0000",
         "Austin",
         "TX",
         "UA000000106033641"
        ],
        [
         921.6,
         "1975-01-18T22:49:24.356+0000",
         "1975-01-18T22:48:54.635+0000",
         "Beaverton",
         "OR",
         "UA000000104781963"
        ],
        [
         921.6,
         "1975-01-18T23:50:45.940+0000",
         "1975-01-18T23:49:15.691+0000",
         "Statham",
         "GA",
         "UA000000104530268"
        ],
        [
         921.6,
         "1975-01-18T08:51:55.658+0000",
         "1975-01-18T08:51:54.255+0000",
         "Cupertino",
         "CA",
         "UA000000103218568"
        ],
        [
         921.6,
         "1975-01-18T15:31:49.996+0000",
         "1975-01-18T15:31:44.883+0000",
         "Renville",
         "MN",
         "UA000000103793620"
        ],
        [
         921.6,
         "1975-01-19T06:06:19.408+0000",
         "1975-01-19T06:05:20.450+0000",
         "Chaska",
         "MN",
         "UA000000105556714"
        ],
        [
         921.6,
         "1975-01-18T09:27:02.522+0000",
         "1975-01-18T09:26:44.438+0000",
         "Plattsmouth",
         "NE",
         "UA000000103606251"
        ],
        [
         921.6,
         "1975-01-18T17:26:58.131+0000",
         "1975-01-18T17:26:57.084+0000",
         "McMinnville",
         "OR",
         "UA000000103625377"
        ],
        [
         921.6,
         "1975-01-19T01:16:55.464+0000",
         "1975-01-19T01:16:39.911+0000",
         "Stow",
         "OH",
         "UA000000104834249"
        ],
        [
         921.6,
         "1975-01-19T04:13:57.863+0000",
         "1975-01-19T04:13:41.622+0000",
         "Horn Lake",
         "MS",
         "UA000000104863853"
        ],
        [
         921.6,
         "1975-01-19T06:23:27.972+0000",
         "1975-01-19T06:20:43.529+0000",
         "Beloit",
         "WI",
         "UA000000104925452"
        ],
        [
         921.6,
         "1975-01-19T01:22:25.104+0000",
         "1975-01-19T01:21:22.544+0000",
         "Mobile",
         "AL",
         "UA000000104539081"
        ],
        [
         921.6,
         "1975-01-18T13:18:31.741+0000",
         "1975-01-18T13:14:55.975+0000",
         "Hemet",
         "CA",
         "UA000000102922478"
        ],
        [
         921.6,
         "1975-01-18T07:06:02.194+0000",
         "1975-01-18T07:05:58.083+0000",
         "San Luis",
         "AZ",
         "UA000000102369222"
        ],
        [
         921.6,
         "1975-01-19T08:02:20.320+0000",
         "1975-01-19T08:02:18.844+0000",
         "Missouri City",
         "TX",
         "UA000000105596927"
        ],
        [
         921.6,
         "1975-01-19T07:12:20.141+0000",
         "1975-01-19T07:12:14.695+0000",
         "Austin",
         "TX",
         "UA000000105577373"
        ],
        [
         921.6,
         "1975-01-18T09:26:53.426+0000",
         "1975-01-18T09:26:52.689+0000",
         "New York",
         "NY",
         "UA000000102672525"
        ],
        [
         921.6,
         "1975-01-18T11:00:26.752+0000",
         "1975-01-18T10:59:01.472+0000",
         "Tucson",
         "AZ",
         "UA000000103280514"
        ],
        [
         921.6,
         "1975-01-18T08:08:48.546+0000",
         "1975-01-18T08:08:46.504+0000",
         "Warsaw",
         "IN",
         "UA000000103282183"
        ],
        [
         921.6,
         "1975-01-18T12:45:21.540+0000",
         "1975-01-18T12:45:12.624+0000",
         "Westlake",
         "OH",
         "UA000000103276447"
        ],
        [
         921.6,
         "1975-01-19T09:27:48.667+0000",
         "1975-01-19T09:26:26.083+0000",
         "Miami Beach",
         "FL",
         "UA000000105867193"
        ],
        [
         921.6,
         "1975-01-18T09:01:10.386+0000",
         "1975-01-18T08:58:46.296+0000",
         "Lumberton",
         "NC",
         "UA000000103028242"
        ],
        [
         921.6,
         "1975-01-18T12:28:05.513+0000",
         "1975-01-18T12:28:04.764+0000",
         "Sacramento",
         "CA",
         "UA000000103476882"
        ],
        [
         921.6,
         "1975-01-18T11:16:57.951+0000",
         "1975-01-18T11:12:57.467+0000",
         "East Orange",
         "NJ",
         "UA000000103469130"
        ],
        [
         921.6,
         "1975-01-18T11:28:44.009+0000",
         "1975-01-18T11:28:41.043+0000",
         "Pittsburgh",
         "PA",
         "UA000000103380206"
        ],
        [
         921.6,
         "1975-01-19T10:03:29.096+0000",
         "1975-01-19T09:59:57.319+0000",
         "Fort Worth",
         "TX",
         "UA000000105675461"
        ],
        [
         921.6,
         "1975-01-19T11:42:36.233+0000",
         "1975-01-19T11:42:31.389+0000",
         "Chetek",
         "WI",
         "UA000000105729816"
        ],
        [
         921.6,
         "1975-01-19T12:06:24.348+0000",
         "1975-01-19T12:06:16.624+0000",
         "Phoenix",
         "AZ",
         "UA000000105830858"
        ],
        [
         921.6,
         "1975-01-19T10:14:24.762+0000",
         "1975-01-19T10:14:24.299+0000",
         "Garden Grove",
         "CA",
         "UA000000105811602"
        ],
        [
         921.6,
         "1975-01-18T06:23:23.248+0000",
         "1975-01-18T06:20:46.565+0000",
         "Manhattan",
         "KS",
         "UA000000102583383"
        ],
        [
         921.6,
         "1975-01-19T00:05:39.243+0000",
         "1975-01-19T00:04:04.216+0000",
         "Champaign",
         "IL",
         "UA000000104724192"
        ],
        [
         921.6,
         "1975-01-19T03:53:14.779+0000",
         "1975-01-19T03:53:12.656+0000",
         "Round Rock",
         "TX",
         "UA000000104934883"
        ],
        [
         921.6,
         "1975-01-19T12:56:39.433+0000",
         "1975-01-19T12:56:35.294+0000",
         "Scottsdale",
         "AZ",
         "UA000000106073009"
        ],
        [
         921.6,
         "1975-01-19T18:07:17.212+0000",
         "1975-01-19T18:07:09.479+0000",
         "Milwaukee",
         "WI",
         "UA000000106308862"
        ],
        [
         921.6,
         "1975-01-19T10:20:58.803+0000",
         "1975-01-19T10:20:14.402+0000",
         "Los Angeles",
         "CA",
         "UA000000106409286"
        ],
        [
         921.6,
         "1975-01-19T16:25:27.243+0000",
         "1975-01-19T16:25:19.460+0000",
         "New York",
         "NY",
         "UA000000106417884"
        ],
        [
         921.6,
         "1975-01-19T16:51:22.899+0000",
         "1975-01-19T16:48:40.649+0000",
         "Garland",
         "TX",
         "UA000000106439424"
        ],
        [
         921.6,
         "1975-01-18T23:04:29.008+0000",
         "1975-01-18T23:04:08.763+0000",
         "Norwalk",
         "CA",
         "UA000000104103750"
        ],
        [
         921.6,
         "1975-01-18T18:31:31.094+0000",
         "1975-01-18T18:30:09.408+0000",
         "Davison",
         "MI",
         "UA000000104132321"
        ],
        [
         921.6,
         "1975-01-18T19:50:35.805+0000",
         "1975-01-18T19:50:23.545+0000",
         "San Bernardino",
         "CA",
         "UA000000104108345"
        ],
        [
         921.6,
         "1975-01-18T11:54:19.360+0000",
         "1975-01-18T11:52:08.562+0000",
         "Grand Prairie",
         "TX",
         "UA000000103307295"
        ],
        [
         921.6,
         "1975-01-18T20:24:30.050+0000",
         "1975-01-18T20:23:51.750+0000",
         "Montrose",
         "CO",
         "UA000000104563997"
        ],
        [
         921.6,
         "1975-01-18T13:56:01.484+0000",
         "1975-01-18T13:56:01.155+0000",
         "Anaheim",
         "CA",
         "UA000000103403467"
        ],
        [
         921.6,
         "1975-01-18T18:10:11.660+0000",
         "1975-01-18T18:10:11.002+0000",
         "Muskegon",
         "MI",
         "UA000000103661564"
        ],
        [
         921.6,
         "1975-01-18T20:11:03.677+0000",
         "1975-01-18T20:11:03.447+0000",
         "Santa Ana",
         "CA",
         "UA000000103731668"
        ],
        [
         921.6,
         "1975-01-18T05:59:15.600+0000",
         "1975-01-18T05:58:57.770+0000",
         "Santa Ana",
         "CA",
         "UA000000102632340"
        ],
        [
         921.6,
         "1975-01-19T00:58:09.712+0000",
         "1975-01-19T00:57:46.687+0000",
         "New York",
         "NY",
         "UA000000104757836"
        ],
        [
         921.6,
         "1975-01-19T04:41:36.634+0000",
         "1975-01-19T04:41:36.434+0000",
         "Danville",
         "VA",
         "UA000000104879136"
        ],
        [
         921.6,
         "1975-01-19T15:05:30.123+0000",
         "1975-01-19T15:04:40.478+0000",
         "Warwick",
         "RI",
         "UA000000106118114"
        ],
        [
         921.6,
         "1975-01-18T12:07:18.786+0000",
         "1975-01-18T12:07:02.176+0000",
         "Tucson",
         "AZ",
         "UA000000103226911"
        ],
        [
         921.6,
         "1975-01-18T17:13:21.444+0000",
         "1975-01-18T17:12:45.269+0000",
         "Gunnison",
         "CO",
         "UA000000103837327"
        ],
        [
         921.6,
         "1975-01-19T05:18:21.478+0000",
         "1975-01-19T05:18:21.137+0000",
         "Harrodsburg",
         "KY",
         "UA000000105297056"
        ],
        [
         921.6,
         "1975-01-19T11:23:54.928+0000",
         "1975-01-19T11:23:47.258+0000",
         "Redmond",
         "WA",
         "UA000000105684620"
        ],
        [
         921.6,
         "1975-01-19T05:48:05.860+0000",
         "1975-01-19T05:48:05.519+0000",
         "Corpus Christi",
         "TX",
         "UA000000105749304"
        ],
        [
         921.6,
         "1975-01-18T08:04:00.344+0000",
         "1975-01-18T08:03:55.567+0000",
         "Blue Springs",
         "MO",
         "UA000000102516924"
        ],
        [
         921.6,
         "1975-01-19T18:05:23.364+0000",
         "1975-01-19T18:02:32.020+0000",
         "Los Angeles",
         "CA",
         "UA000000106636223"
        ],
        [
         921.6,
         "1975-01-19T18:22:44.806+0000",
         "1975-01-19T18:22:40.670+0000",
         "New York",
         "NY",
         "UA000000106253360"
        ],
        [
         921.6,
         "1975-01-18T12:19:50.560+0000",
         "1975-01-18T12:19:42.222+0000",
         "Los Angeles",
         "CA",
         "UA000000103304657"
        ],
        [
         921.6,
         "1975-01-18T09:34:21.177+0000",
         "1975-01-18T09:34:12.107+0000",
         "Las Cruces",
         "NM",
         "UA000000103356385"
        ],
        [
         921.6,
         "1975-01-18T12:18:33.286+0000",
         "1975-01-18T12:18:33.073+0000",
         "Philadelphia",
         "PA",
         "UA000000103349487"
        ],
        [
         903.6,
         "1975-01-19T14:03:12.756+0000",
         "1975-01-19T14:03:08.493+0000",
         "New York",
         "NY",
         "UA000000105488893"
        ],
        [
         903.6,
         "1975-01-18T12:07:20.098+0000",
         "1975-01-18T12:04:19.683+0000",
         "San Antonio",
         "TX",
         "UA000000103560668"
        ],
        [
         903.6,
         "1975-01-18T08:26:02.134+0000",
         "1975-01-18T08:26:01.926+0000",
         "Fond du Lac",
         "WI",
         "UA000000102635801"
        ],
        [
         903.6,
         "1975-01-18T22:47:57.283+0000",
         "1975-01-18T22:46:54.911+0000",
         "Chattanooga",
         "TN",
         "UA000000104450106"
        ],
        [
         903.6,
         "1975-01-18T23:17:07.141+0000",
         "1975-01-18T23:17:03.175+0000",
         "Chicopee",
         "MA",
         "UA000000104675336"
        ],
        [
         903.6,
         "1975-01-18T22:36:50.047+0000",
         "1975-01-18T22:35:47.223+0000",
         "New York",
         "NY",
         "UA000000104720097"
        ],
        [
         903.6,
         "1975-01-19T00:34:21.509+0000",
         "1975-01-19T00:29:58.164+0000",
         "Panama City",
         "FL",
         "UA000000104812949"
        ],
        [
         903.6,
         "1975-01-19T05:13:30.554+0000",
         "1975-01-19T05:13:25.138+0000",
         "Eagan",
         "MN",
         "UA000000104789963"
        ],
        [
         903.6,
         "1975-01-18T23:12:43.025+0000",
         "1975-01-18T23:10:02.416+0000",
         "Topeka",
         "KS",
         "UA000000104809877"
        ],
        [
         903.6,
         "1975-01-19T01:41:55.451+0000",
         "1975-01-19T01:40:41.422+0000",
         "Columbia",
         "MO",
         "UA000000104942259"
        ],
        [
         903.6,
         "1975-01-18T19:36:26.952+0000",
         "1975-01-18T19:35:14.481+0000",
         "Bixby",
         "OK",
         "UA000000104501374"
        ],
        [
         903.6,
         "1975-01-18T21:43:38.798+0000",
         "1975-01-18T21:43:32.955+0000",
         "Moscow",
         "ID",
         "UA000000104550540"
        ],
        [
         903.6,
         "1975-01-18T07:40:57.310+0000",
         "1975-01-18T07:38:29.062+0000",
         "Winston-Salem",
         "NC",
         "UA000000102875828"
        ],
        [
         903.6,
         "1975-01-19T12:26:50.655+0000",
         "1975-01-19T12:26:45.579+0000",
         "Joliet",
         "IL",
         "UA000000106149718"
        ],
        [
         903.6,
         "1975-01-18T19:25:07.166+0000",
         "1975-01-18T19:24:40.529+0000",
         "Dallas",
         "TX",
         "UA000000103844313"
        ],
        [
         903.6,
         "1975-01-19T16:00:17.717+0000",
         "1975-01-19T16:00:15.262+0000",
         "Round Rock",
         "TX",
         "UA000000106262783"
        ],
        [
         903.6,
         "1975-01-19T17:52:04.703+0000",
         "1975-01-19T17:52:00.078+0000",
         "Houston",
         "TX",
         "UA000000106292475"
        ],
        [
         903.6,
         "1975-01-18T17:57:01.427+0000",
         "1975-01-18T17:55:56.470+0000",
         "Deltona",
         "FL",
         "UA000000104253735"
        ],
        [
         903.6,
         "1975-01-18T11:47:29.007+0000",
         "1975-01-18T11:47:25.243+0000",
         "New Orleans",
         "LA",
         "UA000000102985275"
        ],
        [
         903.6,
         "1975-01-18T18:13:39.233+0000",
         "1975-01-18T18:13:28.190+0000",
         "Hailey",
         "ID",
         "UA000000104301711"
        ],
        [
         903.6,
         "1975-01-18T16:30:43.319+0000",
         "1975-01-18T16:27:59.993+0000",
         "Seattle",
         "WA",
         "UA000000103537247"
        ],
        [
         903.6,
         "1975-01-19T06:40:42.429+0000",
         "1975-01-19T06:38:52.300+0000",
         "Fargo",
         "ND",
         "UA000000105404649"
        ],
        [
         903.6,
         "1975-01-19T13:21:19.294+0000",
         "1975-01-19T13:20:53.182+0000",
         "Commerce",
         "TX",
         "UA000000106403979"
        ],
        [
         903.6,
         "1975-01-18T14:09:34.823+0000",
         "1975-01-18T14:09:10.983+0000",
         "Sacramento",
         "CA",
         "UA000000103281759"
        ],
        [
         903.6,
         "1975-01-18T14:19:22.523+0000",
         "1975-01-18T14:19:18.354+0000",
         "Clarksburg",
         "WV",
         "UA000000103072937"
        ],
        [
         903.6,
         "1975-01-19T13:51:30.575+0000",
         "1975-01-19T13:51:23.812+0000",
         "Veneta",
         "OR",
         "UA000000105944070"
        ],
        [
         903.6,
         "1975-01-18T16:48:13.958+0000",
         "1975-01-18T16:47:06.266+0000",
         "Jacksonville",
         "FL",
         "UA000000103941289"
        ],
        [
         903.6,
         "1975-01-18T15:29:15.787+0000",
         "1975-01-18T15:28:22.353+0000",
         "Tuscaloosa",
         "AL",
         "UA000000103680015"
        ],
        [
         903.6,
         "1975-01-19T05:09:51.253+0000",
         "1975-01-19T05:07:55.528+0000",
         "Baker",
         "LA",
         "UA000000105034262"
        ],
        [
         903.6,
         "1975-01-19T06:02:35.260+0000",
         "1975-01-19T06:00:20.776+0000",
         "Lake City",
         "SC",
         "UA000000105032454"
        ],
        [
         903.6,
         "1975-01-18T07:26:25.542+0000",
         "1975-01-18T07:25:19.220+0000",
         "Arlington",
         "WA",
         "UA000000102754477"
        ],
        [
         903.6,
         "1975-01-18T08:30:22.394+0000",
         "1975-01-18T08:29:36.436+0000",
         "Thousand Oaks",
         "CA",
         "UA000000102756447"
        ],
        [
         903.6,
         "1975-01-19T07:12:58.785+0000",
         "1975-01-19T07:12:33.514+0000",
         "Calumet City",
         "IL",
         "UA000000105674384"
        ],
        [
         903.6,
         "1975-01-18T05:16:50.867+0000",
         "1975-01-18T05:16:35.487+0000",
         "Bettendorf",
         "IA",
         "UA000000102473007"
        ],
        [
         903.6,
         "1975-01-18T05:15:29.003+0000",
         "1975-01-18T05:15:27.718+0000",
         "Laredo",
         "TX",
         "UA000000102534928"
        ],
        [
         903.6,
         "1975-01-19T05:13:12.722+0000",
         "1975-01-19T05:11:29.591+0000",
         "Hartford",
         "CT",
         "UA000000105219072"
        ],
        [
         903.6,
         "1975-01-19T03:09:30.142+0000",
         "1975-01-19T03:08:24.315+0000",
         "Portland",
         "ME",
         "UA000000105164853"
        ],
        [
         903.6,
         "1975-01-18T18:18:34.403+0000",
         "1975-01-18T18:16:05.702+0000",
         "Charleston",
         "SC",
         "UA000000104133634"
        ],
        [
         903.6,
         "1975-01-19T06:36:59.856+0000",
         "1975-01-19T06:36:49.737+0000",
         "Downey",
         "CA",
         "UA000000105119187"
        ],
        [
         903.6,
         "1975-01-19T02:04:11.881+0000",
         "1975-01-19T02:03:23.834+0000",
         "Berwyn",
         "IL",
         "UA000000105057957"
        ],
        [
         903.6,
         "1975-01-19T01:20:44.461+0000",
         "1975-01-19T01:20:22.720+0000",
         "Concord",
         "CA",
         "UA000000104588528"
        ],
        [
         903.6,
         "1975-01-19T15:13:24.969+0000",
         "1975-01-19T15:13:17.684+0000",
         "St. Cloud",
         "MN",
         "UA000000106208810"
        ],
        [
         903.6,
         "1975-01-19T05:21:48.205+0000",
         "1975-01-19T05:21:33.370+0000",
         "Bellingham",
         "WA",
         "UA000000105242884"
        ],
        [
         903.6,
         "1975-01-19T05:16:49.294+0000",
         "1975-01-19T05:15:35.083+0000",
         "Shelby",
         "NC",
         "UA000000105247944"
        ],
        [
         903.6,
         "1975-01-19T07:52:38.613+0000",
         "1975-01-19T07:51:55.710+0000",
         "Missouri City",
         "TX",
         "UA000000105246170"
        ],
        [
         903.6,
         "1975-01-18T12:46:33.065+0000",
         "1975-01-18T12:46:10.984+0000",
         "Carver",
         "MN",
         "UA000000103373738"
        ],
        [
         903.6,
         "1975-01-18T14:00:39.755+0000",
         "1975-01-18T14:00:04.618+0000",
         "Caldwell",
         "ID",
         "UA000000103410830"
        ],
        [
         903.6,
         "1975-01-18T12:40:58.287+0000",
         "1975-01-18T12:40:56.343+0000",
         "Escondido",
         "CA",
         "UA000000103404758"
        ],
        [
         903.6,
         "1975-01-18T15:37:03.777+0000",
         "1975-01-18T15:35:25.923+0000",
         "Hayward",
         "CA",
         "UA000000103930388"
        ],
        [
         903.6,
         "1975-01-18T12:57:20.621+0000",
         "1975-01-18T12:57:13.905+0000",
         "Orlando",
         "FL",
         "UA000000103727856"
        ],
        [
         903.6,
         "1975-01-19T16:10:35.496+0000",
         "1975-01-19T16:10:26.695+0000",
         "Albuquerque",
         "NM",
         "UA000000106409267"
        ],
        [
         903.6,
         "1975-01-18T16:26:55.482+0000",
         "1975-01-18T16:26:51.642+0000",
         "Pittsburgh",
         "PA",
         "UA000000103546893"
        ],
        [
         903.6,
         "1975-01-18T12:46:13.944+0000",
         "1975-01-18T12:45:22.097+0000",
         "San Mateo",
         "CA",
         "UA000000103518519"
        ],
        [
         903.6,
         "1975-01-19T08:08:43.136+0000",
         "1975-01-19T08:06:11.155+0000",
         "Hillsboro",
         "KS",
         "UA000000105373153"
        ],
        [
         903.6,
         "1975-01-18T18:16:26.841+0000",
         "1975-01-18T18:16:24.550+0000",
         "New York",
         "NY",
         "UA000000103121298"
        ],
        [
         903.6,
         "1975-01-19T08:03:35.500+0000",
         "1975-01-19T08:03:10.664+0000",
         "Gainesville",
         "FL",
         "UA000000105101050"
        ],
        [
         903.6,
         "1975-01-19T01:24:15.932+0000",
         "1975-01-19T01:22:52.554+0000",
         "Quincy",
         "MA",
         "UA000000105069155"
        ],
        [
         903.6,
         "1975-01-19T04:08:59.640+0000",
         "1975-01-19T04:08:31.553+0000",
         "Woodland",
         "CA",
         "UA000000105077816"
        ],
        [
         903.6,
         "1975-01-19T11:12:09.616+0000",
         "1975-01-19T11:11:17.895+0000",
         "San Francisco",
         "CA",
         "UA000000106202259"
        ],
        [
         903.6,
         "1975-01-18T09:49:04.509+0000",
         "1975-01-18T09:49:03.415+0000",
         "Toledo",
         "OH",
         "UA000000102835822"
        ],
        [
         903.6,
         "1975-01-18T08:29:06.781+0000",
         "1975-01-18T08:29:02.453+0000",
         "Las Cruces",
         "NM",
         "UA000000102800687"
        ],
        [
         903.6,
         "1975-01-18T10:41:58.916+0000",
         "1975-01-18T10:41:09.183+0000",
         "Appleton",
         "WI",
         "UA000000102773801"
        ],
        [
         903.6,
         "1975-01-19T11:34:37.501+0000",
         "1975-01-19T11:34:12.342+0000",
         "Henderson",
         "NV",
         "UA000000105669435"
        ],
        [
         903.6,
         "1975-01-19T09:44:59.982+0000",
         "1975-01-19T09:44:59.782+0000",
         "Georgetown",
         "TX",
         "UA000000105788219"
        ],
        [
         903.6,
         "1975-01-19T13:21:56.139+0000",
         "1975-01-19T13:21:55.893+0000",
         "North Little Rock",
         "AR",
         "UA000000105846186"
        ],
        [
         903.6,
         "1975-01-18T07:35:32.962+0000",
         "1975-01-18T07:35:29.741+0000",
         "Chicago",
         "IL",
         "UA000000102577640"
        ],
        [
         903.6,
         "1975-01-18T20:27:23.948+0000",
         "1975-01-18T20:21:37.472+0000",
         "San Antonio",
         "TX",
         "UA000000104360523"
        ],
        [
         903.6,
         "1975-01-18T19:02:08.752+0000",
         "1975-01-18T19:01:51.388+0000",
         "Carson",
         "CA",
         "UA000000104367758"
        ],
        [
         903.6,
         "1975-01-18T21:38:54.582+0000",
         "1975-01-18T21:38:47.748+0000",
         "Tampa",
         "FL",
         "UA000000104376864"
        ],
        [
         903.6,
         "1975-01-19T17:59:59.366+0000",
         "1975-01-19T17:58:55.007+0000",
         "San Francisco",
         "CA",
         "UA000000106329480"
        ],
        [
         903.6,
         "1975-01-19T16:17:35.930+0000",
         "1975-01-19T16:17:34.829+0000",
         "Frisco",
         "TX",
         "UA000000106286518"
        ],
        [
         903.6,
         "1975-01-19T17:50:38.454+0000",
         "1975-01-19T17:49:02.098+0000",
         "Jacksonville",
         "FL",
         "UA000000106021683"
        ],
        [
         903.6,
         "1975-01-19T06:47:18.467+0000",
         "1975-01-19T06:47:11.891+0000",
         "San Francisco",
         "CA",
         "UA000000105962068"
        ],
        [
         903.6,
         "1975-01-18T17:11:54.401+0000",
         "1975-01-18T17:11:39.487+0000",
         "Smithville",
         "TX",
         "UA000000104019812"
        ],
        [
         903.6,
         "1975-01-18T17:01:38.354+0000",
         "1975-01-18T17:01:25.642+0000",
         "Dallas",
         "GA",
         "UA000000103808278"
        ],
        [
         903.6,
         "1975-01-18T06:40:03.828+0000",
         "1975-01-18T06:36:44.422+0000",
         "Fairborn",
         "OH",
         "UA000000102870599"
        ],
        [
         903.6,
         "1975-01-18T12:04:08.883+0000",
         "1975-01-18T12:04:05.367+0000",
         "Largo",
         "FL",
         "UA000000102935721"
        ],
        [
         903.6,
         "1975-01-18T15:12:42.694+0000",
         "1975-01-18T15:10:13.567+0000",
         "Overland Park",
         "KS",
         "UA000000103451775"
        ],
        [
         903.6,
         "1975-01-18T14:00:22.833+0000",
         "1975-01-18T14:00:17.461+0000",
         "Pine Bluff",
         "AR",
         "UA000000103686986"
        ],
        [
         903.6,
         "1975-01-19T14:40:40.757+0000",
         "1975-01-19T14:40:38.467+0000",
         "Salem",
         "IL",
         "UA000000106411494"
        ],
        [
         903.6,
         "1975-01-19T02:44:16.473+0000",
         "1975-01-19T02:43:44.335+0000",
         "Baton Rouge",
         "LA",
         "UA000000105011177"
        ],
        [
         903.6,
         "1975-01-19T02:24:15.319+0000",
         "1975-01-19T02:23:28.687+0000",
         "San Jose",
         "CA",
         "UA000000104988281"
        ],
        [
         903.6,
         "1975-01-18T23:45:48.085+0000",
         "1975-01-18T23:45:16.784+0000",
         "Tacoma",
         "WA",
         "UA000000105042310"
        ],
        [
         903.6,
         "1975-01-18T08:42:18.406+0000",
         "1975-01-18T08:40:18.841+0000",
         "Grand Forks",
         "ND",
         "UA000000102998351"
        ],
        [
         903.6,
         "1975-01-18T11:12:36.295+0000",
         "1975-01-18T11:11:41.020+0000",
         "Cupertino",
         "CA",
         "UA000000103025514"
        ],
        [
         903.6,
         "1975-01-18T18:27:42.552+0000",
         "1975-01-18T18:27:32.993+0000",
         "Waukesha",
         "WI",
         "UA000000103506055"
        ],
        [
         903.6,
         "1975-01-18T13:47:32.099+0000",
         "1975-01-18T13:43:16.383+0000",
         "New York",
         "NY",
         "UA000000103541525"
        ],
        [
         903.6,
         "1975-01-18T12:49:44.572+0000",
         "1975-01-18T12:49:11.969+0000",
         "Laurel",
         "MS",
         "UA000000103258773"
        ],
        [
         903.6,
         "1975-01-19T11:08:31.419+0000",
         "1975-01-19T11:08:10.623+0000",
         "Lake City",
         "SC",
         "UA000000105902208"
        ],
        [
         903.6,
         "1975-01-19T08:09:35.180+0000",
         "1975-01-19T08:08:53.662+0000",
         "Jackson",
         "TN",
         "UA000000105922297"
        ],
        [
         903.6,
         "1975-01-19T17:37:46.323+0000",
         "1975-01-19T17:34:27.042+0000",
         "Akron",
         "OH",
         "UA000000105946733"
        ],
        [
         903.6,
         "1975-01-19T11:25:34.862+0000",
         "1975-01-19T11:24:40.471+0000",
         "Kalamazoo",
         "MI",
         "UA000000105935216"
        ],
        [
         903.6,
         "1975-01-18T23:18:26.746+0000",
         "1975-01-18T23:16:57.260+0000",
         "Palm Beach Gardens",
         "FL",
         "UA000000104634477"
        ],
        [
         903.6,
         "1975-01-18T20:49:44.978+0000",
         "1975-01-18T20:49:38.865+0000",
         "Baltimore",
         "MD",
         "UA000000104626491"
        ],
        [
         903.6,
         "1975-01-19T06:36:59.756+0000",
         "1975-01-19T06:36:59.538+0000",
         "Peachtree Corners",
         "GA",
         "UA000000105343313"
        ],
        [
         903.6,
         "1975-01-19T07:21:42.834+0000",
         "1975-01-19T07:21:05.769+0000",
         "New Bedford",
         "MA",
         "UA000000105344290"
        ],
        [
         903.6,
         "1975-01-18T07:25:08.095+0000",
         "1975-01-18T07:22:48.160+0000",
         "Southbridge Town",
         "MA",
         "UA000000102816365"
        ],
        [
         903.6,
         "1975-01-18T08:15:39.287+0000",
         "1975-01-18T08:14:15.840+0000",
         "Wyandotte",
         "MI",
         "UA000000102799229"
        ],
        [
         903.6,
         "1975-01-19T12:37:40.856+0000",
         "1975-01-19T12:33:52.046+0000",
         "Hutchinson",
         "KS",
         "UA000000105676073"
        ],
        [
         903.6,
         "1975-01-19T10:01:06.714+0000",
         "1975-01-19T10:01:06.422+0000",
         "Dodge City",
         "KS",
         "UA000000105542872"
        ],
        [
         903.6,
         "1975-01-19T05:21:06.301+0000",
         "1975-01-19T05:21:02.018+0000",
         "Westminster",
         "MD",
         "UA000000105501513"
        ],
        [
         903.6,
         "1975-01-18T15:54:51.200+0000",
         "1975-01-18T15:54:48.131+0000",
         "Storm Lake",
         "IA",
         "UA000000103572955"
        ],
        [
         903.6,
         "1975-01-19T15:54:09.108+0000",
         "1975-01-19T15:54:01.189+0000",
         "New York",
         "NY",
         "UA000000106341866"
        ],
        [
         903.6,
         "1975-01-19T14:59:26.144+0000",
         "1975-01-19T14:57:16.900+0000",
         "Arvin",
         "CA",
         "UA000000106317355"
        ],
        [
         903.6,
         "1975-01-19T10:06:42.471+0000",
         "1975-01-19T10:05:38.046+0000",
         "Charlotte",
         "NC",
         "UA000000105784724"
        ],
        [
         903.6,
         "1975-01-19T00:28:10.869+0000",
         "1975-01-19T00:28:10.664+0000",
         "Fresno",
         "CA",
         "UA000000104457229"
        ],
        [
         903.6,
         "1975-01-19T00:36:52.525+0000",
         "1975-01-19T00:32:58.184+0000",
         "Riverbank",
         "CA",
         "UA000000104771831"
        ],
        [
         903.6,
         "1975-01-19T03:14:32.231+0000",
         "1975-01-19T03:13:39.789+0000",
         "El Paso",
         "TX",
         "UA000000104934922"
        ],
        [
         903.6,
         "1975-01-19T08:37:30.231+0000",
         "1975-01-19T08:37:19.423+0000",
         "Port St. Lucie",
         "FL",
         "UA000000105220493"
        ],
        [
         903.6,
         "1975-01-19T06:14:43.524+0000",
         "1975-01-19T06:13:06.374+0000",
         "Lacey",
         "WA",
         "UA000000105191701"
        ],
        [
         903.6,
         "1975-01-18T19:50:30.037+0000",
         "1975-01-18T19:49:51.032+0000",
         "Brockton",
         "MA",
         "UA000000104120748"
        ],
        [
         903.6,
         "1975-01-18T17:36:51.135+0000",
         "1975-01-18T17:32:58.721+0000",
         "Los Angeles",
         "CA",
         "UA000000103901275"
        ],
        [
         903.6,
         "1975-01-18T17:39:45.315+0000",
         "1975-01-18T17:39:19.663+0000",
         "Columbus",
         "OH",
         "UA000000103936675"
        ],
        [
         903.6,
         "1975-01-19T18:08:58.933+0000",
         "1975-01-19T18:08:55.487+0000",
         "Parma Heights",
         "OH",
         "UA000000106772311"
        ],
        [
         903.6,
         "1975-01-19T12:46:03.919+0000",
         "1975-01-19T12:46:02.643+0000",
         "Virginia Beach",
         "VA",
         "UA000000105639633"
        ],
        [
         903.6,
         "1975-01-19T16:46:36.458+0000",
         "1975-01-19T16:46:30.747+0000",
         "Markham",
         "IL",
         "UA000000105573845"
        ],
        [
         903.6,
         "1975-01-19T04:44:10.757+0000",
         "1975-01-19T04:43:58.571+0000",
         "Lakesite",
         "TN",
         "UA000000105019936"
        ],
        [
         903.6,
         "1975-01-18T07:41:32.991+0000",
         "1975-01-18T07:41:28.354+0000",
         "Houston",
         "TX",
         "UA000000102738412"
        ],
        [
         903.6,
         "1975-01-18T08:54:22.056+0000",
         "1975-01-18T08:52:46.423+0000",
         "Waterbury",
         "CT",
         "UA000000103026250"
        ],
        [
         903.6,
         "1975-01-18T10:10:13.323+0000",
         "1975-01-18T10:09:40.298+0000",
         "Northlake",
         "IL",
         "UA000000103023958"
        ],
        [
         903.6,
         "1975-01-18T22:59:15.060+0000",
         "1975-01-18T22:53:15.635+0000",
         "Dierks",
         "AR",
         "UA000000104353130"
        ],
        [
         903.6,
         "1975-01-18T16:41:47.987+0000",
         "1975-01-18T16:39:27.767+0000",
         "Los Angeles",
         "CA",
         "UA000000103495783"
        ],
        [
         903.6,
         "1975-01-19T07:41:15.910+0000",
         "1975-01-19T07:38:49.342+0000",
         "Mission Viejo",
         "CA",
         "UA000000105387325"
        ],
        [
         903.6,
         "1975-01-19T09:43:42.922+0000",
         "1975-01-19T09:43:07.294+0000",
         "Arnold",
         "MO",
         "UA000000105418717"
        ],
        [
         903.6,
         "1975-01-19T01:31:53.775+0000",
         "1975-01-19T01:31:05.038+0000",
         "Oklahoma City",
         "OK",
         "UA000000104637327"
        ],
        [
         903.6,
         "1975-01-19T12:48:09.416+0000",
         "1975-01-19T12:47:53.282+0000",
         "Barnstable Town",
         "MA",
         "UA000000105676581"
        ],
        [
         903.6,
         "1975-01-19T11:10:28.397+0000",
         "1975-01-19T11:06:20.444+0000",
         "New York",
         "NY",
         "UA000000105993891"
        ],
        [
         903.6,
         "1975-01-19T13:06:05.985+0000",
         "1975-01-19T13:02:29.119+0000",
         "Portland",
         "OR",
         "UA000000105463931"
        ],
        [
         903.6,
         "1975-01-19T08:45:40.383+0000",
         "1975-01-19T08:42:23.921+0000",
         "Pensacola",
         "FL",
         "UA000000105515499"
        ],
        [
         903.6,
         "1975-01-18T16:06:30.503+0000",
         "1975-01-18T16:04:32.820+0000",
         "Columbus",
         "GA",
         "UA000000103568054"
        ],
        [
         903.6,
         "1975-01-18T16:24:05.990+0000",
         "1975-01-18T16:23:27.123+0000",
         "Lehi",
         "UT",
         "UA000000103970164"
        ],
        [
         903.6,
         "1975-01-18T16:37:25.834+0000",
         "1975-01-18T16:37:22.175+0000",
         "Thousand Oaks",
         "CA",
         "UA000000104048402"
        ],
        [
         903.6,
         "1975-01-18T18:51:15.295+0000",
         "1975-01-18T18:48:59.997+0000",
         "Fontana",
         "CA",
         "UA000000103997708"
        ],
        [
         903.6,
         "1975-01-18T09:43:42.311+0000",
         "1975-01-18T09:39:20.770+0000",
         "Tucson",
         "AZ",
         "UA000000102891525"
        ],
        [
         903.6,
         "1975-01-19T13:40:58.542+0000",
         "1975-01-19T13:40:36.681+0000",
         "Dixon",
         "IL",
         "UA000000106148279"
        ],
        [
         903.6,
         "1975-01-19T13:56:04.979+0000",
         "1975-01-19T13:56:00.627+0000",
         "Heath",
         "TX",
         "UA000000106103149"
        ],
        [
         903.6,
         "1975-01-18T23:10:13.131+0000",
         "1975-01-18T23:08:01.751+0000",
         "New York",
         "NY",
         "UA000000104835202"
        ],
        [
         903.6,
         "1975-01-19T01:59:50.274+0000",
         "1975-01-19T01:59:27.463+0000",
         "Albuquerque",
         "NM",
         "UA000000104912045"
        ],
        [
         903.6,
         "1975-01-19T04:08:32.590+0000",
         "1975-01-19T04:07:47.047+0000",
         "Grosse Pointe Park",
         "MI",
         "UA000000104909065"
        ],
        [
         903.6,
         "1975-01-18T21:37:55.749+0000",
         "1975-01-18T21:34:04.713+0000",
         "Columbia City",
         "OR",
         "UA000000104238943"
        ],
        [
         903.6,
         "1975-01-18T22:21:12.084+0000",
         "1975-01-18T22:17:48.610+0000",
         "Chandler",
         "AZ",
         "UA000000104214934"
        ],
        [
         903.6,
         "1975-01-19T16:38:14.978+0000",
         "1975-01-19T16:37:39.375+0000",
         "Sandy",
         "UT",
         "UA000000106482549"
        ],
        [
         903.6,
         "1975-01-19T14:03:28.165+0000",
         "1975-01-19T14:02:14.066+0000",
         "Elkhorn",
         "WI",
         "UA000000105229790"
        ],
        [
         903.6,
         "1975-01-18T18:38:29.644+0000",
         "1975-01-18T18:38:09.456+0000",
         "Mission Viejo",
         "CA",
         "UA000000104136943"
        ],
        [
         903.6,
         "1975-01-18T20:26:16.620+0000",
         "1975-01-18T20:24:29.589+0000",
         "Alameda",
         "CA",
         "UA000000104064960"
        ],
        [
         903.6,
         "1975-01-18T15:09:47.316+0000",
         "1975-01-18T15:09:44.737+0000",
         "San Jose",
         "CA",
         "UA000000103382863"
        ],
        [
         903.6,
         "1975-01-18T17:35:18.517+0000",
         "1975-01-18T17:35:12.721+0000",
         "Monticello",
         "IL",
         "UA000000103953524"
        ],
        [
         903.6,
         "1975-01-19T05:32:04.458+0000",
         "1975-01-19T05:28:28.211+0000",
         "Hialeah Gardens",
         "FL",
         "UA000000105000980"
        ],
        [
         903.6,
         "1975-01-18T19:35:29.595+0000",
         "1975-01-18T19:35:25.548+0000",
         "Riverside",
         "CA",
         "UA000000104295899"
        ],
        [
         903.6,
         "1975-01-18T20:05:34.000+0000",
         "1975-01-18T20:04:59.889+0000",
         "San Antonio",
         "TX",
         "UA000000104356592"
        ],
        [
         903.6,
         "1975-01-19T09:01:11.285+0000",
         "1975-01-19T09:01:06.300+0000",
         "New York",
         "NY",
         "UA000000105861963"
        ],
        [
         903.6,
         "1975-01-19T01:17:46.037+0000",
         "1975-01-19T01:16:51.666+0000",
         "Aurora",
         "CO",
         "UA000000105069281"
        ],
        [
         903.6,
         "1975-01-19T05:31:39.192+0000",
         "1975-01-19T05:30:37.719+0000",
         "Charlotte",
         "NC",
         "UA000000105145392"
        ],
        [
         903.6,
         "1975-01-19T01:01:37.570+0000",
         "1975-01-19T01:01:16.559+0000",
         "Washington",
         "DC",
         "UA000000104567245"
        ],
        [
         903.6,
         "1975-01-18T21:16:37.377+0000",
         "1975-01-18T21:16:06.225+0000",
         "Austin",
         "TX",
         "UA000000104621614"
        ],
        [
         903.6,
         "1975-01-19T02:42:25.782+0000",
         "1975-01-19T02:41:00.158+0000",
         "Harrison",
         "AR",
         "UA000000104638866"
        ],
        [
         903.6,
         "1975-01-18T06:51:37.923+0000",
         "1975-01-18T06:49:24.535+0000",
         "Florence",
         "KY",
         "UA000000102765314"
        ],
        [
         903.6,
         "1975-01-19T09:19:54.749+0000",
         "1975-01-19T09:19:47.985+0000",
         "Salinas",
         "CA",
         "UA000000105698092"
        ],
        [
         903.6,
         "1975-01-19T15:07:16.289+0000",
         "1975-01-19T15:07:03.829+0000",
         "Havre de Grace",
         "MD",
         "UA000000106005378"
        ],
        [
         903.6,
         "1975-01-19T05:33:07.994+0000",
         "1975-01-19T05:32:56.822+0000",
         "Anaheim",
         "CA",
         "UA000000104744091"
        ],
        [
         903.6,
         "1975-01-19T00:33:08.558+0000",
         "1975-01-19T00:32:54.640+0000",
         "Vancouver",
         "WA",
         "UA000000104936956"
        ],
        [
         903.6,
         "1975-01-19T06:11:48.816+0000",
         "1975-01-19T06:11:39.736+0000",
         "New York",
         "NY",
         "UA000000104908866"
        ],
        [
         903.6,
         "1975-01-19T02:39:58.752+0000",
         "1975-01-19T02:39:58.435+0000",
         "Philadelphia",
         "PA",
         "UA000000104514646"
        ],
        [
         903.6,
         "1975-01-18T11:32:07.250+0000",
         "1975-01-18T11:31:52.398+0000",
         "Sacramento",
         "CA",
         "UA000000102924029"
        ],
        [
         903.6,
         "1975-01-19T16:58:09.642+0000",
         "1975-01-19T16:57:54.784+0000",
         "Hammond",
         "IN",
         "UA000000106090051"
        ],
        [
         903.6,
         "1975-01-18T08:25:30.439+0000",
         "1975-01-18T08:25:27.339+0000",
         "Glendale",
         "CA",
         "UA000000102442720"
        ],
        [
         903.6,
         "1975-01-18T12:27:59.768+0000",
         "1975-01-18T12:25:10.659+0000",
         "Newton",
         "MA",
         "UA000000103218303"
        ],
        [
         903.6,
         "1975-01-18T14:49:06.466+0000",
         "1975-01-18T14:49:05.853+0000",
         "Medford",
         "OR",
         "UA000000103652434"
        ],
        [
         903.6,
         "1975-01-19T08:53:19.682+0000",
         "1975-01-19T08:46:53.771+0000",
         "Phoenix",
         "AZ",
         "UA000000105771289"
        ],
        [
         903.6,
         "1975-01-18T07:16:07.828+0000",
         "1975-01-18T07:16:05.276+0000",
         "Erlanger",
         "KY",
         "UA000000102651095"
        ],
        [
         903.6,
         "1975-01-18T08:48:37.287+0000",
         "1975-01-18T08:47:54.038+0000",
         "Pinellas Park",
         "FL",
         "UA000000102623932"
        ],
        [
         903.6,
         "1975-01-18T23:03:43.060+0000",
         "1975-01-18T23:00:29.083+0000",
         "Chicago",
         "IL",
         "UA000000104498901"
        ],
        [
         903.6,
         "1975-01-18T06:34:42.959+0000",
         "1975-01-18T06:34:28.897+0000",
         "Manchester",
         "NH",
         "UA000000102404999"
        ],
        [
         903.6,
         "1975-01-18T23:43:19.660+0000",
         "1975-01-18T23:43:18.872+0000",
         "Bellevue",
         "WA",
         "UA000000104005363"
        ],
        [
         903.6,
         "1975-01-18T20:46:18.420+0000",
         "1975-01-18T20:46:02.302+0000",
         "Helotes",
         "TX",
         "UA000000103974819"
        ],
        [
         903.6,
         "1975-01-18T19:42:14.402+0000",
         "1975-01-18T19:42:10.897+0000",
         "Lubbock",
         "TX",
         "UA000000104000967"
        ],
        [
         903.6,
         "1975-01-18T15:11:12.176+0000",
         "1975-01-18T15:09:32.236+0000",
         "Pawhuska",
         "OK",
         "UA000000103823355"
        ],
        [
         903.6,
         "1975-01-18T15:38:37.427+0000",
         "1975-01-18T15:36:11.124+0000",
         "Seaford",
         "DE",
         "UA000000103759647"
        ],
        [
         903.6,
         "1975-01-19T16:44:05.773+0000",
         "1975-01-19T16:43:57.467+0000",
         "San Antonio",
         "TX",
         "UA000000106285717"
        ],
        [
         903.6,
         "1975-01-19T16:18:34.665+0000",
         "1975-01-19T16:18:31.103+0000",
         "Dallas",
         "TX",
         "UA000000106325354"
        ],
        [
         903.6,
         "1975-01-18T19:17:33.011+0000",
         "1975-01-18T19:16:20.603+0000",
         "Monticello",
         "KY",
         "UA000000104233499"
        ],
        [
         903.6,
         "1975-01-19T11:53:21.298+0000",
         "1975-01-19T11:52:27.174+0000",
         "Sarasota",
         "FL",
         "UA000000105571347"
        ],
        [
         903.6,
         "1975-01-19T05:51:24.761+0000",
         "1975-01-19T05:48:44.437+0000",
         "Sealy",
         "TX",
         "UA000000104986846"
        ],
        [
         903.6,
         "1975-01-19T03:56:10.523+0000",
         "1975-01-19T03:55:31.285+0000",
         "San Antonio",
         "TX",
         "UA000000105000840"
        ],
        [
         903.6,
         "1975-01-19T02:19:14.080+0000",
         "1975-01-19T02:18:11.571+0000",
         "Los Angeles",
         "CA",
         "UA000000105010592"
        ],
        [
         903.6,
         "1975-01-18T23:16:44.557+0000",
         "1975-01-18T23:16:36.743+0000",
         "Los Angeles",
         "CA",
         "UA000000105007299"
        ],
        [
         903.6,
         "1975-01-18T09:45:00.945+0000",
         "1975-01-18T09:44:54.820+0000",
         "Baltimore",
         "MD",
         "UA000000102751081"
        ],
        [
         903.6,
         "1975-01-18T07:40:20.201+0000",
         "1975-01-18T07:40:18.969+0000",
         "Wichita",
         "KS",
         "UA000000102703281"
        ],
        [
         903.6,
         "1975-01-19T10:00:19.067+0000",
         "1975-01-19T09:59:25.509+0000",
         "Holly Hill",
         "FL",
         "UA000000105871207"
        ],
        [
         903.6,
         "1975-01-19T13:02:15.622+0000",
         "1975-01-19T13:02:00.366+0000",
         "Baltimore",
         "MD",
         "UA000000105953283"
        ],
        [
         903.6,
         "1975-01-18T21:53:03.978+0000",
         "1975-01-18T21:49:08.219+0000",
         "Bakersfield",
         "CA",
         "UA000000104127392"
        ],
        [
         903.6,
         "1975-01-19T01:35:26.588+0000",
         "1975-01-19T01:35:20.375+0000",
         "Tampa",
         "FL",
         "UA000000104607066"
        ],
        [
         903.6,
         "1975-01-18T11:57:33.817+0000",
         "1975-01-18T11:56:33.647+0000",
         "El Paso",
         "TX",
         "UA000000103014535"
        ],
        [
         903.6,
         "1975-01-18T21:39:13.941+0000",
         "1975-01-18T21:38:49.701+0000",
         "Cape Coral",
         "FL",
         "UA000000104314859"
        ],
        [
         903.6,
         "1975-01-18T11:36:25.327+0000",
         "1975-01-18T11:36:08.664+0000",
         "Griffin",
         "GA",
         "UA000000103368370"
        ],
        [
         903.6,
         "1975-01-18T16:56:20.428+0000",
         "1975-01-18T16:56:00.097+0000",
         "Jacksonville",
         "NC",
         "UA000000103678918"
        ],
        [
         903.6,
         "1975-01-18T18:58:54.638+0000",
         "1975-01-18T18:57:30.150+0000",
         "Crisfield",
         "MD",
         "UA000000103732943"
        ],
        [
         903.6,
         "1975-01-19T12:24:32.746+0000",
         "1975-01-19T12:23:40.000+0000",
         "Ocala",
         "FL",
         "UA000000105275850"
        ],
        [
         903.6,
         "1975-01-18T08:45:37.221+0000",
         "1975-01-18T08:45:35.217+0000",
         "Byron",
         "MN",
         "UA000000102812024"
        ],
        [
         903.6,
         "1975-01-19T08:42:08.777+0000",
         "1975-01-19T08:40:31.808+0000",
         "Lafayette",
         "IN",
         "UA000000105701354"
        ],
        [
         903.6,
         "1975-01-19T14:53:54.000+0000",
         "1975-01-19T14:53:21.533+0000",
         "South Fulton",
         "GA",
         "UA000000105973369"
        ],
        [
         903.6,
         "1975-01-18T16:05:09.603+0000",
         "1975-01-18T16:05:09.178+0000",
         "Chicago",
         "IL",
         "UA000000103617864"
        ],
        [
         903.6,
         "1975-01-19T10:09:51.995+0000",
         "1975-01-19T10:09:23.833+0000",
         "Pasadena",
         "TX",
         "UA000000105784319"
        ],
        [
         903.6,
         "1975-01-19T12:42:25.198+0000",
         "1975-01-19T12:41:54.485+0000",
         "Boise City",
         "ID",
         "UA000000105790497"
        ],
        [
         903.6,
         "1975-01-18T21:39:16.187+0000",
         "1975-01-18T21:38:16.190+0000",
         "Ontario",
         "CA",
         "UA000000104449689"
        ],
        [
         903.6,
         "1975-01-18T23:34:59.555+0000",
         "1975-01-18T23:34:57.690+0000",
         "Bakersfield",
         "CA",
         "UA000000104389388"
        ],
        [
         903.6,
         "1975-01-19T01:11:20.343+0000",
         "1975-01-19T01:11:15.872+0000",
         "St. Petersburg",
         "FL",
         "UA000000104790051"
        ],
        [
         903.6,
         "1975-01-19T00:51:47.688+0000",
         "1975-01-19T00:51:33.004+0000",
         "Hillsboro",
         "OR",
         "UA000000104774249"
        ],
        [
         903.6,
         "1975-01-18T22:53:41.844+0000",
         "1975-01-18T22:53:33.897+0000",
         "Elk Grove",
         "CA",
         "UA000000104498539"
        ],
        [
         903.6,
         "1975-01-18T08:03:56.225+0000",
         "1975-01-18T08:03:45.514+0000",
         "Lewisville",
         "TX",
         "UA000000102893385"
        ],
        [
         903.6,
         "1975-01-18T10:08:42.576+0000",
         "1975-01-18T10:05:40.851+0000",
         "Gautier",
         "MS",
         "UA000000102942875"
        ],
        [
         903.6,
         "1975-01-19T11:27:27.946+0000",
         "1975-01-19T11:27:15.311+0000",
         "Oxnard",
         "CA",
         "UA000000106141385"
        ],
        [
         903.6,
         "1975-01-19T12:30:01.558+0000",
         "1975-01-19T12:29:34.324+0000",
         "Miami",
         "FL",
         "UA000000106099524"
        ],
        [
         903.6,
         "1975-01-18T06:11:49.819+0000",
         "1975-01-18T06:11:49.601+0000",
         "Hanford",
         "CA",
         "UA000000102435163"
        ],
        [
         903.6,
         "1975-01-18T22:18:50.385+0000",
         "1975-01-18T22:18:49.920+0000",
         "Lakewood",
         "CO",
         "UA000000103983452"
        ],
        [
         903.6,
         "1975-01-18T14:29:09.256+0000",
         "1975-01-18T14:27:50.611+0000",
         "Yuma",
         "AZ",
         "UA000000103176251"
        ],
        [
         903.6,
         "1975-01-18T12:48:07.848+0000",
         "1975-01-18T12:47:44.173+0000",
         "Jacksonville",
         "FL",
         "UA000000103220478"
        ],
        [
         903.6,
         "1975-01-19T17:32:58.318+0000",
         "1975-01-19T17:31:56.445+0000",
         "Laredo",
         "TX",
         "UA000000106437400"
        ],
        [
         903.6,
         "1975-01-19T11:43:13.136+0000",
         "1975-01-19T11:43:12.049+0000",
         "Durham",
         "NC",
         "UA000000106386916"
        ],
        [
         903.6,
         "1975-01-19T09:51:08.675+0000",
         "1975-01-19T09:50:10.236+0000",
         "Marion",
         "IA",
         "UA000000105595410"
        ],
        [
         903.6,
         "1975-01-19T09:14:03.690+0000",
         "1975-01-19T09:12:49.618+0000",
         "Greensboro",
         "NC",
         "UA000000105299802"
        ],
        [
         903.6,
         "1975-01-19T07:56:33.986+0000",
         "1975-01-19T07:56:33.211+0000",
         "Indianapolis",
         "IN",
         "UA000000105294370"
        ],
        [
         903.6,
         "1975-01-18T07:35:47.558+0000",
         "1975-01-18T07:35:28.398+0000",
         "Fitchburg",
         "MA",
         "UA000000102808579"
        ],
        [
         903.6,
         "1975-01-19T17:35:59.375+0000",
         "1975-01-19T17:35:29.271+0000",
         "Sheboygan Falls",
         "WI",
         "UA000000106543367"
        ],
        [
         903.6,
         "1975-01-19T12:10:06.700+0000",
         "1975-01-19T12:09:43.132+0000",
         "Kaplan",
         "LA",
         "UA000000105181745"
        ],
        [
         903.6,
         "1975-01-19T11:02:24.263+0000",
         "1975-01-19T11:02:13.044+0000",
         "Federal Way",
         "WA",
         "UA000000105188122"
        ],
        [
         903.6,
         "1975-01-18T19:28:47.664+0000",
         "1975-01-18T19:28:29.052+0000",
         "New York",
         "NY",
         "UA000000104150371"
        ],
        [
         903.6,
         "1975-01-18T10:18:21.100+0000",
         "1975-01-18T10:18:08.141+0000",
         "Cathedral City",
         "CA",
         "UA000000103105006"
        ],
        [
         903.6,
         "1975-01-19T15:09:51.536+0000",
         "1975-01-19T15:06:10.454+0000",
         "Greensboro",
         "NC",
         "UA000000105886504"
        ],
        [
         903.6,
         "1975-01-19T10:56:50.169+0000",
         "1975-01-19T10:56:34.602+0000",
         "El Dorado",
         "KS",
         "UA000000105940167"
        ],
        [
         903.6,
         "1975-01-19T11:17:06.586+0000",
         "1975-01-19T11:16:48.599+0000",
         "McFarland",
         "CA",
         "UA000000105127929"
        ],
        [
         903.6,
         "1975-01-19T00:40:55.286+0000",
         "1975-01-19T00:40:52.809+0000",
         "Tucker",
         "GA",
         "UA000000105150401"
        ],
        [
         903.6,
         "1975-01-19T12:05:43.029+0000",
         "1975-01-19T12:04:02.441+0000",
         "San Jose",
         "CA",
         "UA000000106164649"
        ],
        [
         903.6,
         "1975-01-18T13:51:22.645+0000",
         "1975-01-18T13:51:07.133+0000",
         "Punta Gorda",
         "FL",
         "UA000000103019282"
        ],
        [
         903.6,
         "1975-01-18T11:45:26.814+0000",
         "1975-01-18T11:44:21.304+0000",
         "Pembroke Pines",
         "FL",
         "UA000000103493450"
        ],
        [
         903.6,
         "1975-01-18T14:16:42.364+0000",
         "1975-01-18T14:15:44.619+0000",
         "Fresno",
         "CA",
         "UA000000103459095"
        ],
        [
         903.6,
         "1975-01-19T03:01:12.423+0000",
         "1975-01-19T03:01:03.432+0000",
         "Lauderhill",
         "FL",
         "UA000000105380179"
        ],
        [
         903.6,
         "1975-01-19T08:44:25.993+0000",
         "1975-01-19T08:44:24.865+0000",
         "Russellville",
         "AR",
         "UA000000105434011"
        ],
        [
         903.6,
         "1975-01-18T15:28:47.931+0000",
         "1975-01-18T15:27:31.996+0000",
         "Abilene",
         "TX",
         "UA000000103401786"
        ],
        [
         903.6,
         "1975-01-18T17:05:12.858+0000",
         "1975-01-18T17:05:11.710+0000",
         "St. Clair Shores",
         "MI",
         "UA000000103933926"
        ],
        [
         903.6,
         "1975-01-18T19:49:08.069+0000",
         "1975-01-18T19:49:04.846+0000",
         "East Point",
         "GA",
         "UA000000103755369"
        ],
        [
         903.6,
         "1975-01-18T15:49:58.395+0000",
         "1975-01-18T15:49:56.192+0000",
         "Henderson",
         "NV",
         "UA000000103751222"
        ],
        [
         903.6,
         "1975-01-18T16:50:09.599+0000",
         "1975-01-18T16:47:15.999+0000",
         "Smyrna",
         "GA",
         "UA000000103701153"
        ],
        [
         903.6,
         "1975-01-19T08:26:45.782+0000",
         "1975-01-19T08:26:06.604+0000",
         "Washington",
         "DC",
         "UA000000105544769"
        ],
        [
         903.6,
         "1975-01-18T16:54:07.897+0000",
         "1975-01-18T16:54:03.407+0000",
         "Wichita Falls",
         "TX",
         "UA000000103625186"
        ],
        [
         903.6,
         "1975-01-18T11:02:16.091+0000",
         "1975-01-18T11:01:59.713+0000",
         "Raleigh",
         "NC",
         "UA000000103573005"
        ],
        [
         903.6,
         "1975-01-18T09:39:21.717+0000",
         "1975-01-18T09:37:44.377+0000",
         "Portage",
         "IN",
         "UA000000102646246"
        ],
        [
         903.6,
         "1975-01-19T01:39:18.872+0000",
         "1975-01-19T01:35:59.646+0000",
         "Cloquet",
         "MN",
         "UA000000104688518"
        ],
        [
         903.6,
         "1975-01-19T00:38:38.187+0000",
         "1975-01-19T00:36:37.402+0000",
         "Lawrence",
         "KS",
         "UA000000104771633"
        ],
        [
         903.6,
         "1975-01-19T00:35:56.891+0000",
         "1975-01-19T00:35:17.206+0000",
         "Pembroke Pines",
         "FL",
         "UA000000104949080"
        ],
        [
         903.6,
         "1975-01-19T03:03:33.696+0000",
         "1975-01-19T03:02:20.924+0000",
         "Colwich",
         "KS",
         "UA000000104935078"
        ],
        [
         903.6,
         "1975-01-18T07:23:41.205+0000",
         "1975-01-18T07:23:34.560+0000",
         "Fremont",
         "CA",
         "UA000000102901691"
        ],
        [
         903.6,
         "1975-01-19T17:37:23.550+0000",
         "1975-01-19T17:36:36.193+0000",
         "Jacksonville",
         "OR",
         "UA000000106154771"
        ],
        [
         903.6,
         "1975-01-18T18:28:28.317+0000",
         "1975-01-18T18:28:24.604+0000",
         "King",
         "NC",
         "UA000000104021645"
        ],
        [
         903.6,
         "1975-01-18T10:57:06.304+0000",
         "1975-01-18T10:57:03.928+0000",
         "Memphis",
         "TN",
         "UA000000103211656"
        ],
        [
         903.6,
         "1975-01-18T15:36:34.168+0000",
         "1975-01-18T15:36:10.305+0000",
         "Aurora",
         "IL",
         "UA000000103255561"
        ],
        [
         903.6,
         "1975-01-18T10:01:26.668+0000",
         "1975-01-18T10:01:08.624+0000",
         "Warren",
         "OH",
         "UA000000103236746"
        ],
        [
         903.6,
         "1975-01-18T13:11:18.014+0000",
         "1975-01-18T13:11:16.557+0000",
         "Hammond",
         "IN",
         "UA000000103770398"
        ],
        [
         903.6,
         "1975-01-19T18:15:16.347+0000",
         "1975-01-19T18:12:23.758+0000",
         "Everett",
         "WA",
         "UA000000106304949"
        ],
        [
         903.6,
         "1975-01-18T23:51:16.544+0000",
         "1975-01-18T23:48:51.007+0000",
         "Westland",
         "MI",
         "UA000000105016841"
        ],
        [
         903.6,
         "1975-01-19T17:35:52.701+0000",
         "1975-01-19T17:34:57.454+0000",
         "Saratoga Springs",
         "UT",
         "UA000000106753757"
        ],
        [
         903.6,
         "1975-01-19T17:12:07.511+0000",
         "1975-01-19T17:12:00.798+0000",
         "Greensboro",
         "NC",
         "UA000000106707559"
        ],
        [
         903.6,
         "1975-01-18T07:33:39.577+0000",
         "1975-01-18T07:33:25.555+0000",
         "Walker",
         "MI",
         "UA000000102731603"
        ],
        [
         903.6,
         "1975-01-18T09:06:47.688+0000",
         "1975-01-18T09:06:25.716+0000",
         "Revere",
         "MA",
         "UA000000102690258"
        ],
        [
         903.6,
         "1975-01-18T09:48:08.030+0000",
         "1975-01-18T09:45:47.922+0000",
         "Buffalo",
         "NY",
         "UA000000102845533"
        ],
        [
         903.6,
         "1975-01-19T07:32:46.591+0000",
         "1975-01-19T07:32:46.245+0000",
         "Hercules",
         "CA",
         "UA000000105667831"
        ],
        [
         903.6,
         "1975-01-19T16:04:40.685+0000",
         "1975-01-19T16:03:25.824+0000",
         "Raleigh",
         "NC",
         "UA000000106417753"
        ],
        [
         903.6,
         "1975-01-19T10:18:31.839+0000",
         "1975-01-19T10:17:20.498+0000",
         "Bloomingdale",
         "GA",
         "UA000000105615335"
        ],
        [
         903.6,
         "1975-01-19T08:48:42.521+0000",
         "1975-01-19T08:47:40.052+0000",
         "College Station",
         "TX",
         "UA000000105655979"
        ],
        [
         903.6,
         "1975-01-19T11:46:52.323+0000",
         "1975-01-19T11:45:12.439+0000",
         "New York",
         "NY",
         "UA000000105558004"
        ],
        [
         903.6,
         "1975-01-18T10:57:48.960+0000",
         "1975-01-18T10:56:52.936+0000",
         "El Cajon",
         "CA",
         "UA000000102984345"
        ],
        [
         903.6,
         "1975-01-18T10:38:15.760+0000",
         "1975-01-18T10:38:15.503+0000",
         "Council Grove",
         "KS",
         "UA000000103504133"
        ],
        [
         903.6,
         "1975-01-18T12:45:33.353+0000",
         "1975-01-18T12:44:55.508+0000",
         "Caldwell",
         "ID",
         "UA000000103490330"
        ],
        [
         903.6,
         "1975-01-19T08:49:59.355+0000",
         "1975-01-19T08:45:43.622+0000",
         "Middletown",
         "OH",
         "UA000000105430912"
        ],
        [
         903.6,
         "1975-01-18T11:58:15.389+0000",
         "1975-01-18T11:58:07.552+0000",
         "Columbus",
         "OH",
         "UA000000103423358"
        ],
        [
         903.6,
         "1975-01-18T11:56:21.864+0000",
         "1975-01-18T11:55:59.584+0000",
         "Livonia",
         "MI",
         "UA000000103364451"
        ],
        [
         903.6,
         "1975-01-18T18:03:12.355+0000",
         "1975-01-18T18:02:41.195+0000",
         "Chula Vista",
         "CA",
         "UA000000103945245"
        ],
        [
         903.6,
         "1975-01-18T16:25:19.873+0000",
         "1975-01-18T16:24:40.931+0000",
         "Buffalo",
         "NY",
         "UA000000103721835"
        ],
        [
         903.6,
         "1975-01-18T15:41:42.164+0000",
         "1975-01-18T15:41:18.725+0000",
         "Taunton",
         "MA",
         "UA000000103666449"
        ],
        [
         903.6,
         "1975-01-18T15:46:46.198+0000",
         "1975-01-18T15:46:21.251+0000",
         "New York",
         "NY",
         "UA000000103678907"
        ],
        [
         903.6,
         "1975-01-18T14:11:53.938+0000",
         "1975-01-18T14:11:33.160+0000",
         "Fresno",
         "CA",
         "UA000000103687540"
        ],
        [
         903.6,
         "1975-01-19T17:46:52.610+0000",
         "1975-01-19T17:41:01.678+0000",
         "Lincoln",
         "IL",
         "UA000000106827362"
        ],
        [
         903.6,
         "1975-01-19T18:02:06.621+0000",
         "1975-01-19T18:02:06.132+0000",
         "New York",
         "NY",
         "UA000000106485859"
        ],
        [
         903.6,
         "1975-01-19T06:33:27.399+0000",
         "1975-01-19T06:31:53.284+0000",
         "Los Angeles",
         "CA",
         "UA000000105181511"
        ],
        [
         903.6,
         "1975-01-19T06:06:43.526+0000",
         "1975-01-19T06:06:41.922+0000",
         "Bothell",
         "WA",
         "UA000000105193431"
        ],
        [
         903.6,
         "1975-01-19T15:17:42.232+0000",
         "1975-01-19T15:17:40.796+0000",
         "West Columbia",
         "TX",
         "UA000000106256102"
        ],
        [
         903.6,
         "1975-01-18T12:51:53.571+0000",
         "1975-01-18T12:51:46.736+0000",
         "Hope",
         "AR",
         "UA000000103284142"
        ],
        [
         903.6,
         "1975-01-18T14:58:54.713+0000",
         "1975-01-18T14:58:54.251+0000",
         "Bellevue",
         "WA",
         "UA000000103279495"
        ],
        [
         903.6,
         "1975-01-18T11:07:02.452+0000",
         "1975-01-18T11:06:28.346+0000",
         "Las Cruces",
         "NM",
         "UA000000103282259"
        ],
        [
         903.6,
         "1975-01-18T10:19:29.112+0000",
         "1975-01-18T10:19:13.792+0000",
         "Caldwell",
         "ID",
         "UA000000103068539"
        ],
        [
         903.6,
         "1975-01-18T12:01:59.949+0000",
         "1975-01-18T12:01:59.529+0000",
         "Reynoldsburg",
         "OH",
         "UA000000103136818"
        ],
        [
         903.6,
         "1975-01-18T11:13:17.480+0000",
         "1975-01-18T11:12:52.408+0000",
         "Cleveland",
         "OH",
         "UA000000103146935"
        ],
        [
         903.6,
         "1975-01-19T11:09:24.738+0000",
         "1975-01-19T11:08:53.578+0000",
         "Rolla",
         "MO",
         "UA000000105953422"
        ],
        [
         850.5,
         "1975-01-19T13:05:53.547+0000",
         "1975-01-19T13:04:35.563+0000",
         "Spokane",
         "WA",
         "UA000000106042951"
        ],
        [
         850.5,
         "1975-01-19T14:55:35.780+0000",
         "1975-01-19T14:55:35.073+0000",
         "Puyallup",
         "WA",
         "UA000000105995983"
        ],
        [
         850.5,
         "1975-01-19T12:50:59.608+0000",
         "1975-01-19T12:50:54.090+0000",
         "Los Angeles",
         "CA",
         "UA000000106015143"
        ],
        [
         850.5,
         "1975-01-19T12:46:42.171+0000",
         "1975-01-19T12:45:55.893+0000",
         "San Antonio",
         "TX",
         "UA000000105972717"
        ],
        [
         850.5,
         "1975-01-19T13:19:42.265+0000",
         "1975-01-19T13:19:04.663+0000",
         "Des Moines",
         "IA",
         "UA000000105995350"
        ],
        [
         850.5,
         "1975-01-19T13:19:12.684+0000",
         "1975-01-19T13:19:03.990+0000",
         "Richmond",
         "VA",
         "UA000000105992934"
        ],
        [
         850.5,
         "1975-01-19T13:21:13.089+0000",
         "1975-01-19T13:20:58.345+0000",
         "Peru",
         "IL",
         "UA000000106008164"
        ],
        [
         850.5,
         "1975-01-19T12:25:48.768+0000",
         "1975-01-19T12:25:13.530+0000",
         "Little Elm",
         "TX",
         "UA000000106056393"
        ],
        [
         850.5,
         "1975-01-19T13:38:35.314+0000",
         "1975-01-19T13:37:33.200+0000",
         "Concord",
         "CA",
         "UA000000106019959"
        ],
        [
         850.5,
         "1975-01-19T09:31:33.504+0000",
         "1975-01-19T09:31:23.281+0000",
         "Charlotte",
         "NC",
         "UA000000105970823"
        ],
        [
         850.5,
         "1975-01-19T14:26:28.173+0000",
         "1975-01-19T14:26:11.726+0000",
         "Rowlett",
         "TX",
         "UA000000106044333"
        ],
        [
         850.5,
         "1975-01-19T13:48:11.276+0000",
         "1975-01-19T13:47:57.113+0000",
         "Edmonds",
         "WA",
         "UA000000105990986"
        ],
        [
         850.5,
         "1975-01-19T16:23:55.249+0000",
         "1975-01-19T16:23:44.897+0000",
         "Jacksonville",
         "FL",
         "UA000000105991459"
        ],
        [
         850.5,
         "1975-01-19T12:36:59.502+0000",
         "1975-01-19T12:36:59.194+0000",
         "Fayetteville",
         "NC",
         "UA000000106011569"
        ],
        [
         850.5,
         "1975-01-19T14:48:48.371+0000",
         "1975-01-19T14:47:02.067+0000",
         "Cape Coral",
         "FL",
         "UA000000105971106"
        ],
        [
         850.5,
         "1975-01-19T15:00:27.930+0000",
         "1975-01-19T14:59:57.630+0000",
         "Moreno Valley",
         "CA",
         "UA000000105957610"
        ],
        [
         850.5,
         "1975-01-19T09:10:45.381+0000",
         "1975-01-19T09:10:44.247+0000",
         "Phoenix",
         "AZ",
         "UA000000106011922"
        ],
        [
         850.5,
         "1975-01-19T14:33:01.315+0000",
         "1975-01-19T14:30:29.389+0000",
         "Shelby",
         "OH",
         "UA000000105983371"
        ],
        [
         850.5,
         "1975-01-19T12:33:22.601+0000",
         "1975-01-19T12:31:48.818+0000",
         "Bardstown",
         "KY",
         "UA000000106053927"
        ],
        [
         850.5,
         "1975-01-19T13:25:03.933+0000",
         "1975-01-19T13:24:18.666+0000",
         "Franklin",
         "TN",
         "UA000000105965354"
        ],
        [
         850.5,
         "1975-01-19T11:58:39.109+0000",
         "1975-01-19T11:56:12.922+0000",
         "Aledo",
         "TX",
         "UA000000105984618"
        ],
        [
         850.5,
         "1975-01-19T13:49:17.371+0000",
         "1975-01-19T13:46:40.168+0000",
         "Corona",
         "CA",
         "UA000000105983499"
        ],
        [
         850.5,
         "1975-01-19T15:33:01.922+0000",
         "1975-01-19T15:31:45.837+0000",
         "Phoenix",
         "AZ",
         "UA000000105993781"
        ],
        [
         850.5,
         "1975-01-19T13:43:30.925+0000",
         "1975-01-19T13:43:26.685+0000",
         "New York",
         "NY",
         "UA000000105969768"
        ],
        [
         850.5,
         "1975-01-19T16:12:22.183+0000",
         "1975-01-19T16:11:46.630+0000",
         "Haverhill",
         "MA",
         "UA000000106041445"
        ],
        [
         850.5,
         "1975-01-19T14:42:31.304+0000",
         "1975-01-19T14:40:50.577+0000",
         "Brockton",
         "MA",
         "UA000000106054448"
        ],
        [
         850.5,
         "1975-01-19T09:17:58.953+0000",
         "1975-01-19T09:17:57.791+0000",
         "Lawton",
         "OK",
         "UA000000106007780"
        ],
        [
         850.5,
         "1975-01-19T12:46:14.000+0000",
         "1975-01-19T12:45:43.794+0000",
         "Gering",
         "NE",
         "UA000000106047617"
        ],
        [
         850.5,
         "1975-01-19T13:51:27.997+0000",
         "1975-01-19T13:47:14.827+0000",
         "Pittsfield",
         "IL",
         "UA000000106047082"
        ],
        [
         850.5,
         "1975-01-19T12:03:09.205+0000",
         "1975-01-19T12:02:13.256+0000",
         "Plano",
         "TX",
         "UA000000106009306"
        ],
        [
         850.5,
         "1975-01-19T05:26:38.021+0000",
         "1975-01-19T05:25:05.535+0000",
         "Dearborn Heights",
         "MI",
         "UA000000105462036"
        ],
        [
         850.5,
         "1975-01-19T07:48:21.295+0000",
         "1975-01-19T07:48:03.187+0000",
         "Muncie",
         "IN",
         "UA000000105488266"
        ],
        [
         850.5,
         "1975-01-19T10:34:48.281+0000",
         "1975-01-19T10:34:47.558+0000",
         "Colton",
         "CA",
         "UA000000105529887"
        ],
        [
         850.5,
         "1975-01-19T10:33:14.253+0000",
         "1975-01-19T10:32:16.091+0000",
         "New York",
         "NY",
         "UA000000105511307"
        ],
        [
         850.5,
         "1975-01-19T06:49:48.732+0000",
         "1975-01-19T06:49:02.397+0000",
         "Agoura Hills",
         "CA",
         "UA000000105554014"
        ],
        [
         850.5,
         "1975-01-19T10:47:53.303+0000",
         "1975-01-19T10:47:46.177+0000",
         "Daytona Beach",
         "FL",
         "UA000000105555829"
        ],
        [
         850.5,
         "1975-01-19T08:33:33.667+0000",
         "1975-01-19T08:33:19.439+0000",
         "Naperville",
         "IL",
         "UA000000105488861"
        ],
        [
         850.5,
         "1975-01-19T08:37:40.120+0000",
         "1975-01-19T08:35:03.002+0000",
         "San Jose",
         "CA",
         "UA000000105551264"
        ],
        [
         850.5,
         "1975-01-19T10:18:07.373+0000",
         "1975-01-19T10:17:22.354+0000",
         "Johns Creek",
         "GA",
         "UA000000105486678"
        ],
        [
         850.5,
         "1975-01-19T08:15:50.458+0000",
         "1975-01-19T08:12:47.297+0000",
         "Elgin",
         "IL",
         "UA000000105519944"
        ],
        [
         850.5,
         "1975-01-19T07:41:40.932+0000",
         "1975-01-19T07:41:08.028+0000",
         "Cartersville",
         "GA",
         "UA000000105491012"
        ],
        [
         850.5,
         "1975-01-19T11:47:56.725+0000",
         "1975-01-19T11:46:36.078+0000",
         "El Paso",
         "TX",
         "UA000000105543762"
        ],
        [
         850.5,
         "1975-01-19T04:46:40.460+0000",
         "1975-01-19T04:46:14.691+0000",
         "Denver",
         "CO",
         "UA000000105496067"
        ],
        [
         850.5,
         "1975-01-19T10:32:04.048+0000",
         "1975-01-19T10:30:48.578+0000",
         "Fort Worth",
         "TX",
         "UA000000105527453"
        ],
        [
         850.5,
         "1975-01-19T06:01:42.363+0000",
         "1975-01-19T06:01:36.372+0000",
         "Marshall",
         "MO",
         "UA000000105465508"
        ],
        [
         850.5,
         "1975-01-19T06:03:26.882+0000",
         "1975-01-19T06:00:45.538+0000",
         "Cottleville",
         "MO",
         "UA000000105517492"
        ],
        [
         850.5,
         "1975-01-19T05:23:53.692+0000",
         "1975-01-19T05:22:23.089+0000",
         "Erie",
         "PA",
         "UA000000105462310"
        ],
        [
         850.5,
         "1975-01-19T11:26:15.300+0000",
         "1975-01-19T11:22:59.573+0000",
         "Richfield",
         "UT",
         "UA000000105523928"
        ],
        [
         850.5,
         "1975-01-19T05:17:20.174+0000",
         "1975-01-19T05:16:59.219+0000",
         "Tacoma",
         "WA",
         "UA000000105458951"
        ],
        [
         850.5,
         "1975-01-19T11:25:19.267+0000",
         "1975-01-19T11:25:05.135+0000",
         "King",
         "NC",
         "UA000000105551811"
        ],
        [
         850.5,
         "1975-01-19T07:21:13.868+0000",
         "1975-01-19T07:18:55.448+0000",
         "Oklahoma City",
         "OK",
         "UA000000105466403"
        ],
        [
         850.5,
         "1975-01-19T07:56:27.255+0000",
         "1975-01-19T07:56:12.158+0000",
         "Hillsboro",
         "OH",
         "UA000000105486677"
        ],
        [
         850.5,
         "1975-01-18T14:32:16.452+0000",
         "1975-01-18T14:28:52.063+0000",
         "Oviedo",
         "FL",
         "UA000000103564888"
        ],
        [
         850.5,
         "1975-01-18T16:39:30.705+0000",
         "1975-01-18T16:39:30.452+0000",
         "Oxnard",
         "CA",
         "UA000000103612018"
        ],
        [
         850.5,
         "1975-01-18T18:15:33.496+0000",
         "1975-01-18T18:14:36.923+0000",
         "Burbank",
         "CA",
         "UA000000103629776"
        ],
        [
         850.5,
         "1975-01-18T16:15:37.376+0000",
         "1975-01-18T16:15:36.320+0000",
         "Los Angeles",
         "CA",
         "UA000000103598859"
        ],
        [
         850.5,
         "1975-01-18T15:19:50.187+0000",
         "1975-01-18T15:19:23.030+0000",
         "Cambridge",
         "MA",
         "UA000000103583574"
        ],
        [
         850.5,
         "1975-01-18T11:15:07.414+0000",
         "1975-01-18T11:15:06.844+0000",
         "St. Louis",
         "MO",
         "UA000000103562744"
        ],
        [
         850.5,
         "1975-01-18T13:04:03.472+0000",
         "1975-01-18T13:04:02.274+0000",
         "Los Angeles",
         "CA",
         "UA000000103612470"
        ],
        [
         850.5,
         "1975-01-18T21:35:54.608+0000",
         "1975-01-18T21:35:38.702+0000",
         "Fort Wayne",
         "IN",
         "UA000000103627489"
        ],
        [
         850.5,
         "1975-01-18T15:23:21.145+0000",
         "1975-01-18T15:23:20.292+0000",
         "Folsom",
         "CA",
         "UA000000103604423"
        ],
        [
         850.5,
         "1975-01-18T18:45:53.092+0000",
         "1975-01-18T18:45:49.004+0000",
         "San Antonio",
         "TX",
         "UA000000103581676"
        ],
        [
         850.5,
         "1975-01-18T16:38:45.121+0000",
         "1975-01-18T16:37:30.593+0000",
         "Hampton",
         "VA",
         "UA000000103584766"
        ],
        [
         850.5,
         "1975-01-18T15:00:13.514+0000",
         "1975-01-18T14:59:53.406+0000",
         "Los Angeles",
         "CA",
         "UA000000103581188"
        ],
        [
         850.5,
         "1975-01-18T15:55:45.152+0000",
         "1975-01-18T15:55:24.944+0000",
         "Marion",
         "IA",
         "UA000000103599836"
        ],
        [
         850.5,
         "1975-01-18T17:15:38.153+0000",
         "1975-01-18T17:11:03.207+0000",
         "Brawley",
         "CA",
         "UA000000103605805"
        ],
        [
         850.5,
         "1975-01-18T17:39:43.629+0000",
         "1975-01-18T17:38:49.001+0000",
         "Apple Valley",
         "MN",
         "UA000000103599958"
        ],
        [
         850.5,
         "1975-01-18T12:55:37.673+0000",
         "1975-01-18T12:55:27.171+0000",
         "East Lansing",
         "MI",
         "UA000000103574192"
        ],
        [
         850.5,
         "1975-01-18T17:31:40.023+0000",
         "1975-01-18T17:30:53.525+0000",
         "Sanford",
         "FL",
         "UA000000103581910"
        ],
        [
         850.5,
         "1975-01-18T17:45:51.012+0000",
         "1975-01-18T17:44:05.504+0000",
         "Revere",
         "MA",
         "UA000000103557413"
        ],
        [
         850.5,
         "1975-01-18T17:08:57.653+0000",
         "1975-01-18T17:05:15.993+0000",
         "Palmdale",
         "CA",
         "UA000000103650991"
        ],
        [
         850.5,
         "1975-01-18T16:01:03.994+0000",
         "1975-01-18T16:00:46.520+0000",
         "Boise City",
         "ID",
         "UA000000103570862"
        ],
        [
         850.5,
         "1975-01-18T17:30:48.187+0000",
         "1975-01-18T17:29:55.759+0000",
         "New York",
         "NY",
         "UA000000103615206"
        ],
        [
         850.5,
         "1975-01-18T17:27:01.820+0000",
         "1975-01-18T17:26:57.930+0000",
         "Tukwila",
         "WA",
         "UA000000103619248"
        ],
        [
         850.5,
         "1975-01-18T15:03:23.145+0000",
         "1975-01-18T15:02:56.535+0000",
         "Pomona",
         "CA",
         "UA000000103656918"
        ],
        [
         850.5,
         "1975-01-18T17:11:04.084+0000",
         "1975-01-18T17:11:00.088+0000",
         "Dallas",
         "TX",
         "UA000000103609208"
        ],
        [
         850.5,
         "1975-01-18T15:36:52.574+0000",
         "1975-01-18T15:36:12.203+0000",
         "Prichard",
         "AL",
         "UA000000103598423"
        ],
        [
         850.5,
         "1975-01-18T16:18:42.169+0000",
         "1975-01-18T16:18:37.732+0000",
         "Portland",
         "OR",
         "UA000000103557886"
        ],
        [
         850.5,
         "1975-01-18T16:31:27.501+0000",
         "1975-01-18T16:31:25.508+0000",
         "New York",
         "NY",
         "UA000000103622160"
        ],
        [
         850.5,
         "1975-01-18T18:07:33.643+0000",
         "1975-01-18T18:07:18.701+0000",
         "Waxahachie",
         "TX",
         "UA000000103631933"
        ],
        [
         850.5,
         "1975-01-18T15:28:18.776+0000",
         "1975-01-18T15:27:59.020+0000",
         "Huntsville",
         "AL",
         "UA000000103626616"
        ],
        [
         850.5,
         "1975-01-18T15:52:14.489+0000",
         "1975-01-18T15:51:59.987+0000",
         "Glendale",
         "AZ",
         "UA000000103652161"
        ],
        [
         850.5,
         "1975-01-19T10:56:18.351+0000",
         "1975-01-19T10:55:39.289+0000",
         "Marion",
         "IN",
         "UA000000105757831"
        ],
        [
         850.5,
         "1975-01-19T10:29:42.821+0000",
         "1975-01-19T10:29:32.641+0000",
         "Colorado Springs",
         "CO",
         "UA000000105826383"
        ],
        [
         850.5,
         "1975-01-19T09:10:51.343+0000",
         "1975-01-19T09:10:43.530+0000",
         "Austin",
         "TX",
         "UA000000105762710"
        ],
        [
         850.5,
         "1975-01-19T13:21:17.617+0000",
         "1975-01-19T13:20:30.237+0000",
         "Fitchburg",
         "MA",
         "UA000000105809338"
        ],
        [
         850.5,
         "1975-01-19T13:09:36.867+0000",
         "1975-01-19T13:06:47.645+0000",
         "Edinburg",
         "TX",
         "UA000000105835400"
        ],
        [
         850.5,
         "1975-01-19T10:34:48.611+0000",
         "1975-01-19T10:33:08.325+0000",
         "Tucson",
         "AZ",
         "UA000000105850678"
        ],
        [
         850.5,
         "1975-01-19T08:01:31.986+0000",
         "1975-01-19T08:01:10.317+0000",
         "Victoria",
         "TX",
         "UA000000105771181"
        ],
        [
         850.5,
         "1975-01-19T06:36:01.746+0000",
         "1975-01-19T06:35:59.083+0000",
         "Los Angeles",
         "CA",
         "UA000000105771616"
        ],
        [
         850.5,
         "1975-01-19T09:54:48.171+0000",
         "1975-01-19T09:53:52.080+0000",
         "Arlington",
         "TX",
         "UA000000105834035"
        ],
        [
         850.5,
         "1975-01-19T11:31:27.184+0000",
         "1975-01-19T11:30:34.521+0000",
         "Greeley",
         "CO",
         "UA000000105805892"
        ],
        [
         850.5,
         "1975-01-19T13:35:59.095+0000",
         "1975-01-19T13:35:37.967+0000",
         "Henderson",
         "NV",
         "UA000000105776051"
        ],
        [
         850.5,
         "1975-01-19T10:47:37.092+0000",
         "1975-01-19T10:45:17.141+0000",
         "Wichita",
         "KS",
         "UA000000105808010"
        ],
        [
         850.5,
         "1975-01-19T10:10:25.548+0000",
         "1975-01-19T10:09:29.684+0000",
         "San Francisco",
         "CA",
         "UA000000105772773"
        ],
        [
         850.5,
         "1975-01-19T10:52:36.991+0000",
         "1975-01-19T10:52:04.436+0000",
         "Robins",
         "IA",
         "UA000000105810847"
        ],
        [
         850.5,
         "1975-01-19T10:02:12.550+0000",
         "1975-01-19T10:00:04.946+0000",
         "Muskogee",
         "OK",
         "UA000000105794348"
        ],
        [
         850.5,
         "1975-01-19T12:15:26.731+0000",
         "1975-01-19T12:15:25.949+0000",
         "Woonsocket",
         "RI",
         "UA000000105801477"
        ],
        [
         850.5,
         "1975-01-19T08:24:29.493+0000",
         "1975-01-19T08:24:29.292+0000",
         "Lauderdale Lakes",
         "FL",
         "UA000000105838088"
        ],
        [
         850.5,
         "1975-01-19T10:01:06.443+0000",
         "1975-01-19T10:01:06.101+0000",
         "Plymouth",
         "MN",
         "UA000000105784417"
        ],
        [
         850.5,
         "1975-01-19T12:42:37.997+0000",
         "1975-01-19T12:42:36.075+0000",
         "Charlotte",
         "NC",
         "UA000000105801451"
        ],
        [
         850.5,
         "1975-01-19T10:46:15.753+0000",
         "1975-01-19T10:43:59.419+0000",
         "New Cumberland",
         "WV",
         "UA000000105757395"
        ],
        [
         850.5,
         "1975-01-19T11:17:24.800+0000",
         "1975-01-19T11:17:15.831+0000",
         "LaGrange",
         "GA",
         "UA000000105831350"
        ],
        [
         850.5,
         "1975-01-19T11:25:07.156+0000",
         "1975-01-19T11:24:22.542+0000",
         "Ypsilanti",
         "MI",
         "UA000000105806467"
        ],
        [
         850.5,
         "1975-01-19T11:16:13.643+0000",
         "1975-01-19T11:14:47.182+0000",
         "Marietta",
         "OK",
         "UA000000105786267"
        ],
        [
         850.5,
         "1975-01-19T11:30:26.335+0000",
         "1975-01-19T11:30:15.202+0000",
         "Tampa",
         "FL",
         "UA000000105805911"
        ],
        [
         850.5,
         "1975-01-19T13:31:51.313+0000",
         "1975-01-19T13:31:51.068+0000",
         "Oakland",
         "CA",
         "UA000000105856136"
        ],
        [
         850.5,
         "1975-01-19T13:05:23.451+0000",
         "1975-01-19T12:59:39.209+0000",
         "Mentor",
         "OH",
         "UA000000105855131"
        ],
        [
         850.5,
         "1975-01-19T13:42:42.214+0000",
         "1975-01-19T13:42:31.659+0000",
         "Cedar Park",
         "TX",
         "UA000000105762861"
        ],
        [
         850.5,
         "1975-01-18T09:38:30.967+0000",
         "1975-01-18T09:36:38.910+0000",
         "Chicago",
         "IL",
         "UA000000102624956"
        ],
        [
         850.5,
         "1975-01-18T08:25:12.710+0000",
         "1975-01-18T08:23:27.736+0000",
         "Austin",
         "TX",
         "UA000000102609247"
        ],
        [
         850.5,
         "1975-01-18T07:34:02.883+0000",
         "1975-01-18T07:32:26.564+0000",
         "Eden Prairie",
         "MN",
         "UA000000102593261"
        ],
        [
         850.5,
         "1975-01-18T12:09:18.735+0000",
         "1975-01-18T12:09:08.812+0000",
         "Woodbury",
         "MN",
         "UA000000102614920"
        ],
        [
         850.5,
         "1975-01-18T10:26:40.584+0000",
         "1975-01-18T10:26:40.185+0000",
         "San Leandro",
         "CA",
         "UA000000102635495"
        ],
        [
         850.5,
         "1975-01-18T09:07:31.706+0000",
         "1975-01-18T09:06:17.680+0000",
         "Belle Fourche",
         "SD",
         "UA000000102563341"
        ],
        [
         850.5,
         "1975-01-18T05:50:55.251+0000",
         "1975-01-18T05:50:47.619+0000",
         "Steamboat Springs",
         "CO",
         "UA000000102567217"
        ],
        [
         850.5,
         "1975-01-18T07:45:03.855+0000",
         "1975-01-18T07:40:31.627+0000",
         "New Bedford",
         "MA",
         "UA000000102610827"
        ],
        [
         850.5,
         "1975-01-18T07:18:43.912+0000",
         "1975-01-18T07:18:00.652+0000",
         "Visalia",
         "CA",
         "UA000000102648684"
        ],
        [
         850.5,
         "1975-01-18T05:20:54.482+0000",
         "1975-01-18T05:18:50.550+0000",
         "State Center",
         "IA",
         "UA000000102596369"
        ],
        [
         850.5,
         "1975-01-18T06:35:04.942+0000",
         "1975-01-18T06:34:30.744+0000",
         "New York",
         "NY",
         "UA000000102630536"
        ],
        [
         850.5,
         "1975-01-18T05:12:00.557+0000",
         "1975-01-18T05:11:49.672+0000",
         "Denver",
         "CO",
         "UA000000102640893"
        ],
        [
         850.5,
         "1975-01-18T23:21:02.598+0000",
         "1975-01-18T23:18:48.774+0000",
         "Little Rock",
         "AR",
         "UA000000104438309"
        ],
        [
         850.5,
         "1975-01-18T23:00:26.811+0000",
         "1975-01-18T22:59:39.029+0000",
         "Banning",
         "CA",
         "UA000000104450995"
        ],
        [
         850.5,
         "1975-01-19T00:06:38.617+0000",
         "1975-01-19T00:05:45.591+0000",
         "Park Hills",
         "KY",
         "UA000000104409892"
        ],
        [
         850.5,
         "1975-01-19T00:26:18.352+0000",
         "1975-01-19T00:26:11.118+0000",
         "Los Angeles",
         "CA",
         "UA000000104429724"
        ],
        [
         850.5,
         "1975-01-18T21:16:56.503+0000",
         "1975-01-18T21:16:22.717+0000",
         "Irvine",
         "CA",
         "UA000000104364162"
        ],
        [
         850.5,
         "1975-01-18T23:09:41.516+0000",
         "1975-01-18T23:09:25.425+0000",
         "Jonesboro",
         "AR",
         "UA000000104373233"
        ],
        [
         850.5,
         "1975-01-18T19:13:35.176+0000",
         "1975-01-18T19:13:23.805+0000",
         "Oxford",
         "MS",
         "UA000000104376142"
        ],
        [
         850.5,
         "1975-01-18T20:47:00.292+0000",
         "1975-01-18T20:45:46.302+0000",
         "San Antonio",
         "TX",
         "UA000000104374527"
        ],
        [
         850.5,
         "1975-01-18T22:43:19.713+0000",
         "1975-01-18T22:43:17.789+0000",
         "Henderson",
         "NV",
         "UA000000104394281"
        ],
        [
         850.5,
         "1975-01-19T02:10:08.149+0000",
         "1975-01-19T02:09:42.620+0000",
         "Philadelphia",
         "PA",
         "UA000000104435328"
        ],
        [
         850.5,
         "1975-01-18T21:12:10.967+0000",
         "1975-01-18T21:09:34.864+0000",
         "Des Moines",
         "IA",
         "UA000000104416322"
        ],
        [
         850.5,
         "1975-01-18T21:42:12.983+0000",
         "1975-01-18T21:42:11.445+0000",
         "Palm Coast",
         "FL",
         "UA000000104410116"
        ],
        [
         850.5,
         "1975-01-18T20:19:13.997+0000",
         "1975-01-18T20:19:11.918+0000",
         "Sikeston",
         "MO",
         "UA000000104372404"
        ],
        [
         850.5,
         "1975-01-18T20:56:44.877+0000",
         "1975-01-18T20:53:29.521+0000",
         "Fort Worth",
         "TX",
         "UA000000104410358"
        ],
        [
         850.5,
         "1975-01-18T22:16:16.750+0000",
         "1975-01-18T22:16:16.036+0000",
         "Arkansas City",
         "KS",
         "UA000000104398120"
        ],
        [
         850.5,
         "1975-01-18T23:41:56.783+0000",
         "1975-01-18T23:40:10.144+0000",
         "Venice",
         "FL",
         "UA000000104432854"
        ],
        [
         850.5,
         "1975-01-18T18:25:58.254+0000",
         "1975-01-18T18:25:55.571+0000",
         "Bismarck",
         "ND",
         "UA000000104406840"
        ],
        [
         850.5,
         "1975-01-18T19:15:08.428+0000",
         "1975-01-18T19:13:15.514+0000",
         "St. Petersburg",
         "FL",
         "UA000000104383382"
        ],
        [
         850.5,
         "1975-01-18T20:00:43.009+0000",
         "1975-01-18T19:57:36.837+0000",
         "New York",
         "NY",
         "UA000000104394917"
        ],
        [
         850.5,
         "1975-01-18T19:21:10.384+0000",
         "1975-01-18T19:21:05.756+0000",
         "Los Angeles",
         "CA",
         "UA000000104412211"
        ],
        [
         850.5,
         "1975-01-18T21:13:05.673+0000",
         "1975-01-18T21:12:57.571+0000",
         "Dallas",
         "TX",
         "UA000000104363666"
        ],
        [
         850.5,
         "1975-01-18T21:34:30.035+0000",
         "1975-01-18T21:33:07.706+0000",
         "Columbus",
         "OH",
         "UA000000104363519"
        ],
        [
         850.5,
         "1975-01-18T18:01:41.111+0000",
         "1975-01-18T18:01:09.007+0000",
         "Kingston",
         "NY",
         "UA000000104442049"
        ],
        [
         850.5,
         "1975-01-18T22:06:56.931+0000",
         "1975-01-18T22:06:44.381+0000",
         "Phoenix",
         "AZ",
         "UA000000104384542"
        ],
        [
         850.5,
         "1975-01-18T21:36:52.132+0000",
         "1975-01-18T21:36:32.592+0000",
         "Nacogdoches",
         "TX",
         "UA000000104667030"
        ],
        [
         850.5,
         "1975-01-19T02:05:47.317+0000",
         "1975-01-19T02:05:21.066+0000",
         "Milwaukee",
         "WI",
         "UA000000104738910"
        ],
        [
         850.5,
         "1975-01-18T22:40:48.289+0000",
         "1975-01-18T22:40:46.615+0000",
         "St. George",
         "UT",
         "UA000000104661393"
        ],
        [
         850.5,
         "1975-01-18T21:24:46.892+0000",
         "1975-01-18T21:23:33.965+0000",
         "New York",
         "NY",
         "UA000000104675248"
        ],
        [
         850.5,
         "1975-01-19T01:53:44.569+0000",
         "1975-01-19T01:53:43.765+0000",
         "New York",
         "NY",
         "UA000000104661828"
        ],
        [
         850.5,
         "1975-01-18T22:59:45.150+0000",
         "1975-01-18T22:58:41.772+0000",
         "Phoenix",
         "AZ",
         "UA000000104659917"
        ],
        [
         850.5,
         "1975-01-18T21:22:00.803+0000",
         "1975-01-18T21:21:57.881+0000",
         "Baltimore",
         "MD",
         "UA000000104703632"
        ],
        [
         850.5,
         "1975-01-18T20:24:08.137+0000",
         "1975-01-18T20:23:48.450+0000",
         "Pomona",
         "CA",
         "UA000000104696845"
        ],
        [
         850.5,
         "1975-01-19T01:36:18.871+0000",
         "1975-01-19T01:35:22.069+0000",
         "Baltimore",
         "MD",
         "UA000000104713204"
        ],
        [
         850.5,
         "1975-01-19T04:20:33.680+0000",
         "1975-01-19T04:20:23.018+0000",
         "New York",
         "NY",
         "UA000000104750218"
        ],
        [
         850.5,
         "1975-01-18T21:46:43.360+0000",
         "1975-01-18T21:46:33.732+0000",
         "Lamesa",
         "TX",
         "UA000000104700933"
        ],
        [
         850.5,
         "1975-01-18T20:24:37.416+0000",
         "1975-01-18T20:24:34.947+0000",
         "Scottsdale",
         "AZ",
         "UA000000104725229"
        ],
        [
         850.5,
         "1975-01-18T21:24:21.522+0000",
         "1975-01-18T21:22:21.491+0000",
         "McKinney",
         "TX",
         "UA000000104715367"
        ],
        [
         850.5,
         "1975-01-19T01:34:05.693+0000",
         "1975-01-19T01:33:49.889+0000",
         "San Diego",
         "CA",
         "UA000000104745728"
        ],
        [
         850.5,
         "1975-01-18T21:54:34.339+0000",
         "1975-01-18T21:54:31.911+0000",
         "Cranston",
         "RI",
         "UA000000104670931"
        ],
        [
         850.5,
         "1975-01-18T23:16:43.042+0000",
         "1975-01-18T23:16:18.252+0000",
         "Pleasantville",
         "IA",
         "UA000000104695059"
        ],
        [
         850.5,
         "1975-01-19T01:03:08.495+0000",
         "1975-01-19T01:01:42.353+0000",
         "Glendale",
         "AZ",
         "UA000000104708132"
        ],
        [
         850.5,
         "1975-01-18T22:52:40.025+0000",
         "1975-01-18T22:52:33.350+0000",
         "Leominster",
         "MA",
         "UA000000104680873"
        ],
        [
         850.5,
         "1975-01-19T00:16:01.652+0000",
         "1975-01-19T00:15:20.062+0000",
         "Pleasant Hill",
         "MO",
         "UA000000104734315"
        ],
        [
         850.5,
         "1975-01-18T22:50:29.300+0000",
         "1975-01-18T22:50:28.491+0000",
         "San Diego",
         "CA",
         "UA000000104681582"
        ],
        [
         850.5,
         "1975-01-19T03:48:53.886+0000",
         "1975-01-19T03:46:17.325+0000",
         "Commerce City",
         "CO",
         "UA000000104673501"
        ],
        [
         850.5,
         "1975-01-18T21:50:25.841+0000",
         "1975-01-18T21:50:22.143+0000",
         "Pelham",
         "AL",
         "UA000000104725948"
        ],
        [
         850.5,
         "1975-01-19T04:20:06.852+0000",
         "1975-01-19T04:20:04.535+0000",
         "Philadelphia",
         "PA",
         "UA000000104713060"
        ],
        [
         850.5,
         "1975-01-19T04:55:14.001+0000",
         "1975-01-19T04:54:06.733+0000",
         "Highland Heights",
         "OH",
         "UA000000104830355"
        ],
        [
         850.5,
         "1975-01-19T04:56:31.711+0000",
         "1975-01-19T04:56:30.569+0000",
         "Mitchell",
         "IN",
         "UA000000104801113"
        ],
        [
         850.5,
         "1975-01-19T05:31:15.000+0000",
         "1975-01-19T05:31:12.644+0000",
         "Park Ridge",
         "IL",
         "UA000000104847555"
        ],
        [
         850.5,
         "1975-01-19T04:07:43.106+0000",
         "1975-01-19T04:05:55.848+0000",
         "Amarillo",
         "TX",
         "UA000000104805936"
        ],
        [
         850.5,
         "1975-01-19T03:04:37.244+0000",
         "1975-01-19T03:04:32.990+0000",
         "Miami",
         "FL",
         "UA000000104847017"
        ],
        [
         850.5,
         "1975-01-19T01:06:41.146+0000",
         "1975-01-19T01:05:49.118+0000",
         "Lorain",
         "OH",
         "UA000000104758560"
        ],
        [
         850.5,
         "1975-01-19T04:42:20.671+0000",
         "1975-01-19T04:41:58.790+0000",
         "Lima",
         "OH",
         "UA000000104847336"
        ],
        [
         850.5,
         "1975-01-19T00:01:32.051+0000",
         "1975-01-19T00:00:54.250+0000",
         "Texarkana",
         "TX",
         "UA000000104833158"
        ],
        [
         850.5,
         "1975-01-19T00:46:11.223+0000",
         "1975-01-19T00:39:40.282+0000",
         "Orem",
         "UT",
         "UA000000104841109"
        ],
        [
         850.5,
         "1975-01-18T21:50:30.001+0000",
         "1975-01-18T21:47:29.451+0000",
         "Victorville",
         "CA",
         "UA000000104761719"
        ],
        [
         850.5,
         "1975-01-19T01:14:12.393+0000",
         "1975-01-19T01:14:11.667+0000",
         "Yazoo City",
         "MS",
         "UA000000104787993"
        ],
        [
         850.5,
         "1975-01-19T00:54:19.576+0000",
         "1975-01-19T00:54:19.278+0000",
         "Natchitoches",
         "LA",
         "UA000000104848505"
        ],
        [
         850.5,
         "1975-01-19T03:39:05.616+0000",
         "1975-01-19T03:35:04.881+0000",
         "San Diego",
         "CA",
         "UA000000104837584"
        ],
        [
         850.5,
         "1975-01-19T02:04:33.865+0000",
         "1975-01-19T02:02:30.856+0000",
         "Watertown Town",
         "MA",
         "UA000000104822389"
        ],
        [
         850.5,
         "1975-01-18T21:42:23.318+0000",
         "1975-01-18T21:42:23.115+0000",
         "Rexburg",
         "ID",
         "UA000000104848371"
        ],
        [
         850.5,
         "1975-01-19T06:39:20.773+0000",
         "1975-01-19T06:39:18.168+0000",
         "Dodge City",
         "KS",
         "UA000000104775527"
        ],
        [
         850.5,
         "1975-01-19T00:59:51.109+0000",
         "1975-01-19T00:59:20.456+0000",
         "Corpus Christi",
         "TX",
         "UA000000104792290"
        ],
        [
         850.5,
         "1975-01-19T01:32:36.615+0000",
         "1975-01-19T01:31:00.788+0000",
         "Bakersfield",
         "CA",
         "UA000000104838791"
        ],
        [
         850.5,
         "1975-01-19T03:04:44.181+0000",
         "1975-01-19T03:04:41.198+0000",
         "Belmont",
         "CA",
         "UA000000104784790"
        ],
        [
         850.5,
         "1975-01-19T04:11:58.344+0000",
         "1975-01-19T04:09:47.935+0000",
         "Houston",
         "TX",
         "UA000000104841976"
        ],
        [
         850.5,
         "1975-01-19T01:47:53.626+0000",
         "1975-01-19T01:47:35.480+0000",
         "Wadsworth",
         "OH",
         "UA000000104831056"
        ],
        [
         850.5,
         "1975-01-19T02:20:40.843+0000",
         "1975-01-19T02:20:40.316+0000",
         "Thousand Oaks",
         "CA",
         "UA000000104831840"
        ],
        [
         850.5,
         "1975-01-18T23:18:07.416+0000",
         "1975-01-18T23:17:29.901+0000",
         "Burnsville",
         "MN",
         "UA000000104796884"
        ],
        [
         850.5,
         "1975-01-19T00:19:09.978+0000",
         "1975-01-19T00:19:09.611+0000",
         "Diamond Bar",
         "CA",
         "UA000000104768766"
        ],
        [
         850.5,
         "1975-01-19T03:32:38.725+0000",
         "1975-01-19T03:32:08.554+0000",
         "Orem",
         "UT",
         "UA000000104859676"
        ],
        [
         850.5,
         "1975-01-19T02:21:08.152+0000",
         "1975-01-19T02:21:07.532+0000",
         "New York",
         "NY",
         "UA000000104887354"
        ],
        [
         850.5,
         "1975-01-19T00:47:29.923+0000",
         "1975-01-19T00:47:18.708+0000",
         "San Francisco",
         "CA",
         "UA000000104870073"
        ],
        [
         850.5,
         "1975-01-19T03:01:02.190+0000",
         "1975-01-19T02:58:48.269+0000",
         "Delano",
         "CA",
         "UA000000104906837"
        ],
        [
         850.5,
         "1975-01-19T07:11:05.364+0000",
         "1975-01-19T07:10:11.539+0000",
         "Arlington",
         "TX",
         "UA000000104858532"
        ],
        [
         850.5,
         "1975-01-19T02:33:24.186+0000",
         "1975-01-19T02:32:55.195+0000",
         "Wilson",
         "NC",
         "UA000000104890873"
        ],
        [
         850.5,
         "1975-01-19T02:29:38.403+0000",
         "1975-01-19T02:28:57.077+0000",
         "Houston",
         "TX",
         "UA000000104879761"
        ],
        [
         850.5,
         "1975-01-19T04:58:12.759+0000",
         "1975-01-19T04:57:42.262+0000",
         "Paterson",
         "NJ",
         "UA000000104953176"
        ],
        [
         850.5,
         "1975-01-19T04:10:54.268+0000",
         "1975-01-19T04:10:26.471+0000",
         "Los Angeles",
         "CA",
         "UA000000104867027"
        ],
        [
         850.5,
         "1975-01-19T03:16:18.756+0000",
         "1975-01-19T03:12:34.438+0000",
         "Eldridge",
         "IA",
         "UA000000104860496"
        ],
        [
         850.5,
         "1975-01-19T03:34:18.966+0000",
         "1975-01-19T03:34:01.743+0000",
         "Winston-Salem",
         "NC",
         "UA000000104947837"
        ],
        [
         850.5,
         "1975-01-19T01:47:17.500+0000",
         "1975-01-19T01:47:02.462+0000",
         "Santa Rosa",
         "CA",
         "UA000000104923831"
        ],
        [
         850.5,
         "1975-01-19T02:58:59.378+0000",
         "1975-01-19T02:58:13.850+0000",
         "Bryan",
         "TX",
         "UA000000104879291"
        ],
        [
         850.5,
         "1975-01-19T02:28:44.628+0000",
         "1975-01-19T02:28:32.369+0000",
         "New York",
         "NY",
         "UA000000104880534"
        ],
        [
         850.5,
         "1975-01-19T01:58:00.340+0000",
         "1975-01-19T01:57:58.023+0000",
         "Spokane Valley",
         "WA",
         "UA000000104901682"
        ],
        [
         850.5,
         "1975-01-19T00:56:25.351+0000",
         "1975-01-19T00:55:47.507+0000",
         "Norwalk",
         "CT",
         "UA000000104863415"
        ],
        [
         850.5,
         "1975-01-19T04:57:01.038+0000",
         "1975-01-19T04:56:59.795+0000",
         "Chicago",
         "IL",
         "UA000000104876982"
        ],
        [
         850.5,
         "1975-01-19T04:24:59.031+0000",
         "1975-01-19T04:23:38.952+0000",
         "Houston",
         "TX",
         "UA000000104857790"
        ],
        [
         850.5,
         "1975-01-19T00:30:17.638+0000",
         "1975-01-19T00:30:03.978+0000",
         "Vicksburg",
         "MS",
         "UA000000104887856"
        ],
        [
         850.5,
         "1975-01-19T01:40:40.249+0000",
         "1975-01-19T01:38:54.327+0000",
         "Katy",
         "TX",
         "UA000000104875898"
        ],
        [
         850.5,
         "1975-01-18T23:37:31.917+0000",
         "1975-01-18T23:35:00.460+0000",
         "Covington",
         "TN",
         "UA000000104880295"
        ],
        [
         850.5,
         "1975-01-19T03:57:14.177+0000",
         "1975-01-19T03:56:58.120+0000",
         "Boise City",
         "ID",
         "UA000000104935549"
        ],
        [
         850.5,
         "1975-01-19T04:38:50.725+0000",
         "1975-01-19T04:38:50.475+0000",
         "Chicago",
         "IL",
         "UA000000104894995"
        ],
        [
         850.5,
         "1975-01-19T05:39:58.332+0000",
         "1975-01-19T05:39:47.166+0000",
         "Daly City",
         "CA",
         "UA000000104871534"
        ],
        [
         850.5,
         "1975-01-19T03:43:31.796+0000",
         "1975-01-19T03:41:51.648+0000",
         "Orlando",
         "FL",
         "UA000000104545090"
        ],
        [
         850.5,
         "1975-01-18T23:31:49.740+0000",
         "1975-01-18T23:30:44.571+0000",
         "New Albany",
         "IN",
         "UA000000104487446"
        ],
        [
         850.5,
         "1975-01-18T22:57:08.376+0000",
         "1975-01-18T22:54:38.242+0000",
         "Arvada",
         "CO",
         "UA000000104462360"
        ],
        [
         850.5,
         "1975-01-18T18:18:36.295+0000",
         "1975-01-18T18:16:23.771+0000",
         "Bowling Green",
         "KY",
         "UA000000104500920"
        ],
        [
         850.5,
         "1975-01-18T21:45:15.590+0000",
         "1975-01-18T21:44:28.900+0000",
         "Memphis",
         "TN",
         "UA000000104485719"
        ],
        [
         850.5,
         "1975-01-18T21:48:39.782+0000",
         "1975-01-18T21:48:39.482+0000",
         "Apple Valley",
         "MN",
         "UA000000104541963"
        ],
        [
         850.5,
         "1975-01-18T22:27:08.592+0000",
         "1975-01-18T22:25:36.007+0000",
         "Phoenix",
         "AZ",
         "UA000000104543002"
        ],
        [
         850.5,
         "1975-01-18T21:57:13.368+0000",
         "1975-01-18T21:57:03.072+0000",
         "Luverne",
         "AL",
         "UA000000104549858"
        ],
        [
         850.5,
         "1975-01-18T19:04:00.378+0000",
         "1975-01-18T19:02:55.024+0000",
         "Seattle",
         "WA",
         "UA000000104472799"
        ],
        [
         850.5,
         "1975-01-19T00:48:09.345+0000",
         "1975-01-19T00:47:51.560+0000",
         "Philadelphia",
         "PA",
         "UA000000104461492"
        ],
        [
         850.5,
         "1975-01-18T23:05:06.992+0000",
         "1975-01-18T23:05:00.454+0000",
         "Salinas",
         "CA",
         "UA000000104541204"
        ],
        [
         850.5,
         "1975-01-18T19:54:18.114+0000",
         "1975-01-18T19:53:39.556+0000",
         "Hayward",
         "CA",
         "UA000000104520047"
        ],
        [
         850.5,
         "1975-01-18T21:23:00.153+0000",
         "1975-01-18T21:20:47.608+0000",
         "South Ogden",
         "UT",
         "UA000000104474258"
        ],
        [
         850.5,
         "1975-01-18T23:05:06.950+0000",
         "1975-01-18T23:03:48.252+0000",
         "Virginia Beach",
         "VA",
         "UA000000104530587"
        ],
        [
         850.5,
         "1975-01-18T18:56:05.525+0000",
         "1975-01-18T18:56:03.745+0000",
         "Fresno",
         "CA",
         "UA000000104501624"
        ],
        [
         850.5,
         "1975-01-18T21:43:30.234+0000",
         "1975-01-18T21:43:30.004+0000",
         "Oakland",
         "CA",
         "UA000000104502316"
        ],
        [
         850.5,
         "1975-01-18T17:51:14.661+0000",
         "1975-01-18T17:48:18.317+0000",
         "Mount Holly",
         "NC",
         "UA000000104465506"
        ],
        [
         850.5,
         "1975-01-18T18:21:47.087+0000",
         "1975-01-18T18:21:13.806+0000",
         "Milwaukee",
         "WI",
         "UA000000104556963"
        ],
        [
         850.5,
         "1975-01-19T01:46:14.733+0000",
         "1975-01-19T01:45:16.524+0000",
         "Murray",
         "KY",
         "UA000000104524027"
        ],
        [
         850.5,
         "1975-01-19T01:17:25.787+0000",
         "1975-01-19T01:17:20.123+0000",
         "Odessa",
         "TX",
         "UA000000104530484"
        ],
        [
         850.5,
         "1975-01-18T23:31:41.363+0000",
         "1975-01-18T23:29:33.467+0000",
         "Garland",
         "TX",
         "UA000000104501758"
        ],
        [
         850.5,
         "1975-01-19T02:31:07.512+0000",
         "1975-01-19T02:30:52.603+0000",
         "Fontana",
         "CA",
         "UA000000104496708"
        ],
        [
         850.5,
         "1975-01-18T09:18:33.904+0000",
         "1975-01-18T09:16:34.121+0000",
         "Los Angeles",
         "CA",
         "UA000000102883075"
        ],
        [
         850.5,
         "1975-01-18T06:00:00.969+0000",
         "1975-01-18T05:56:17.473+0000",
         "Ashville",
         "AL",
         "UA000000102877802"
        ],
        [
         850.5,
         "1975-01-18T08:52:39.077+0000",
         "1975-01-18T08:52:01.446+0000",
         "Kansas City",
         "MO",
         "UA000000102887016"
        ],
        [
         850.5,
         "1975-01-18T08:12:33.139+0000",
         "1975-01-18T08:11:56.953+0000",
         "Mesa",
         "AZ",
         "UA000000102924088"
        ],
        [
         850.5,
         "1975-01-18T10:21:10.927+0000",
         "1975-01-18T10:21:09.498+0000",
         "New York",
         "NY",
         "UA000000102881952"
        ],
        [
         850.5,
         "1975-01-18T11:59:32.548+0000",
         "1975-01-18T11:55:54.676+0000",
         "Newman",
         "CA",
         "UA000000102880084"
        ],
        [
         850.5,
         "1975-01-18T09:55:24.042+0000",
         "1975-01-18T09:55:21.425+0000",
         "Minneapolis",
         "MN",
         "UA000000102928574"
        ],
        [
         850.5,
         "1975-01-18T10:58:16.096+0000",
         "1975-01-18T10:57:22.803+0000",
         "San Antonio",
         "TX",
         "UA000000102899591"
        ],
        [
         850.5,
         "1975-01-18T07:44:16.232+0000",
         "1975-01-18T07:44:15.061+0000",
         "Port St. Lucie",
         "FL",
         "UA000000102930444"
        ],
        [
         850.5,
         "1975-01-18T09:25:53.395+0000",
         "1975-01-18T09:23:45.762+0000",
         "Boston",
         "MA",
         "UA000000102861584"
        ],
        [
         850.5,
         "1975-01-18T12:27:31.257+0000",
         "1975-01-18T12:26:58.324+0000",
         "Hollywood",
         "FL",
         "UA000000102933885"
        ],
        [
         850.5,
         "1975-01-18T10:13:20.131+0000",
         "1975-01-18T10:12:15.645+0000",
         "Philadelphia",
         "PA",
         "UA000000102876014"
        ],
        [
         850.5,
         "1975-01-18T08:28:54.538+0000",
         "1975-01-18T08:28:25.963+0000",
         "Seward",
         "NE",
         "UA000000102897791"
        ],
        [
         850.5,
         "1975-01-18T07:01:29.646+0000",
         "1975-01-18T07:00:55.398+0000",
         "Charlotte",
         "NC",
         "UA000000102931615"
        ],
        [
         850.5,
         "1975-01-18T07:14:36.820+0000",
         "1975-01-18T07:11:53.884+0000",
         "Denver",
         "CO",
         "UA000000102910388"
        ],
        [
         850.5,
         "1975-01-18T09:55:10.988+0000",
         "1975-01-18T09:55:10.210+0000",
         "Rancho Palos Verdes",
         "CA",
         "UA000000102886520"
        ],
        [
         850.5,
         "1975-01-18T11:39:00.160+0000",
         "1975-01-18T11:38:53.338+0000",
         "Wausau",
         "WI",
         "UA000000102927913"
        ],
        [
         850.5,
         "1975-01-18T09:34:49.562+0000",
         "1975-01-18T09:34:29.316+0000",
         "East St. Louis",
         "IL",
         "UA000000102883774"
        ],
        [
         850.5,
         "1975-01-18T07:19:20.078+0000",
         "1975-01-18T07:17:47.440+0000",
         "Wheaton",
         "IL",
         "UA000000102924124"
        ],
        [
         850.5,
         "1975-01-19T14:12:52.062+0000",
         "1975-01-19T14:12:49.064+0000",
         "Fort Lauderdale",
         "FL",
         "UA000000106107402"
        ],
        [
         850.5,
         "1975-01-19T16:00:58.332+0000",
         "1975-01-19T15:57:32.488+0000",
         "Los Angeles",
         "CA",
         "UA000000106100692"
        ],
        [
         850.5,
         "1975-01-19T15:48:13.556+0000",
         "1975-01-19T15:47:57.588+0000",
         "Orange",
         "CA",
         "UA000000106074226"
        ],
        [
         850.5,
         "1975-01-19T13:39:27.785+0000",
         "1975-01-19T13:39:04.966+0000",
         "Dayton",
         "TN",
         "UA000000106145494"
        ],
        [
         850.5,
         "1975-01-19T09:52:29.680+0000",
         "1975-01-19T09:52:27.012+0000",
         "Green Bay",
         "WI",
         "UA000000106105256"
        ],
        [
         850.5,
         "1975-01-19T13:44:44.774+0000",
         "1975-01-19T13:44:28.253+0000",
         "Cochran",
         "GA",
         "UA000000106067609"
        ],
        [
         850.5,
         "1975-01-19T12:20:31.266+0000",
         "1975-01-19T12:18:22.439+0000",
         "Fort Collins",
         "CO",
         "UA000000106140593"
        ],
        [
         850.5,
         "1975-01-19T15:03:28.814+0000",
         "1975-01-19T15:03:05.237+0000",
         "Martinez",
         "CA",
         "UA000000106081430"
        ],
        [
         850.5,
         "1975-01-19T11:37:48.416+0000",
         "1975-01-19T11:37:47.324+0000",
         "Rowlett",
         "TX",
         "UA000000106057749"
        ],
        [
         850.5,
         "1975-01-19T17:02:11.032+0000",
         "1975-01-19T17:02:09.826+0000",
         "Cave Springs",
         "AR",
         "UA000000106119724"
        ],
        [
         850.5,
         "1975-01-19T10:55:31.977+0000",
         "1975-01-19T10:54:04.980+0000",
         "Lavonia",
         "GA",
         "UA000000106151048"
        ],
        [
         850.5,
         "1975-01-19T14:00:04.888+0000",
         "1975-01-19T14:00:04.358+0000",
         "Fresno",
         "CA",
         "UA000000106105303"
        ],
        [
         850.5,
         "1975-01-19T10:34:02.034+0000",
         "1975-01-19T10:33:19.948+0000",
         "Zumbrota",
         "MN",
         "UA000000106110981"
        ],
        [
         850.5,
         "1975-01-19T15:46:35.158+0000",
         "1975-01-19T15:46:22.849+0000",
         "Northfield",
         "NJ",
         "UA000000106127171"
        ],
        [
         850.5,
         "1975-01-19T17:30:47.791+0000",
         "1975-01-19T17:30:41.795+0000",
         "Milwaukee",
         "WI",
         "UA000000106115454"
        ],
        [
         850.5,
         "1975-01-19T15:37:47.126+0000",
         "1975-01-19T15:36:44.632+0000",
         "New York",
         "NY",
         "UA000000106059121"
        ],
        [
         850.5,
         "1975-01-19T14:22:11.009+0000",
         "1975-01-19T14:16:36.614+0000",
         "Lackawanna",
         "NY",
         "UA000000106150659"
        ],
        [
         850.5,
         "1975-01-19T15:09:47.132+0000",
         "1975-01-19T15:09:20.178+0000",
         "Round Rock",
         "TX",
         "UA000000106096806"
        ],
        [
         850.5,
         "1975-01-19T12:30:34.097+0000",
         "1975-01-19T12:30:07.986+0000",
         "Fort Collins",
         "CO",
         "UA000000106156919"
        ],
        [
         850.5,
         "1975-01-19T15:00:52.661+0000",
         "1975-01-19T15:00:31.523+0000",
         "Rockville",
         "MD",
         "UA000000106127785"
        ],
        [
         850.5,
         "1975-01-19T11:34:53.922+0000",
         "1975-01-19T11:34:11.299+0000",
         "Muskogee",
         "OK",
         "UA000000106065840"
        ],
        [
         850.5,
         "1975-01-19T14:35:03.478+0000",
         "1975-01-19T14:34:41.393+0000",
         "Detroit",
         "MI",
         "UA000000106075725"
        ],
        [
         850.5,
         "1975-01-19T14:35:27.063+0000",
         "1975-01-19T14:33:16.261+0000",
         "Alexandria",
         "VA",
         "UA000000106104180"
        ],
        [
         850.5,
         "1975-01-19T13:54:50.931+0000",
         "1975-01-19T13:51:05.406+0000",
         "Spring Grove",
         "MN",
         "UA000000106126042"
        ],
        [
         850.5,
         "1975-01-19T13:15:26.428+0000",
         "1975-01-19T13:15:00.898+0000",
         "Raleigh",
         "NC",
         "UA000000106142932"
        ],
        [
         850.5,
         "1975-01-19T13:29:09.871+0000",
         "1975-01-19T13:27:24.598+0000",
         "Minneapolis",
         "MN",
         "UA000000106153008"
        ],
        [
         850.5,
         "1975-01-19T14:27:54.387+0000",
         "1975-01-19T14:27:44.562+0000",
         "New York",
         "NY",
         "UA000000106063080"
        ],
        [
         850.5,
         "1975-01-19T14:55:28.209+0000",
         "1975-01-19T14:53:04.383+0000",
         "High Point",
         "NC",
         "UA000000106126087"
        ],
        [
         850.5,
         "1975-01-19T15:33:15.394+0000",
         "1975-01-19T15:32:48.185+0000",
         "El Paso",
         "TX",
         "UA000000106067369"
        ],
        [
         850.5,
         "1975-01-19T14:06:47.031+0000",
         "1975-01-19T14:04:36.423+0000",
         "Berkeley",
         "CA",
         "UA000000106109205"
        ],
        [
         850.5,
         "1975-01-19T14:28:37.832+0000",
         "1975-01-19T14:28:37.581+0000",
         "Richmond",
         "VA",
         "UA000000106111877"
        ],
        [
         850.5,
         "1975-01-18T07:30:44.621+0000",
         "1975-01-18T07:30:40.895+0000",
         "Healdsburg",
         "CA",
         "UA000000102419548"
        ],
        [
         850.5,
         "1975-01-18T08:26:20.071+0000",
         "1975-01-18T08:26:08.094+0000",
         "New York",
         "NY",
         "UA000000102370501"
        ],
        [
         850.5,
         "1975-01-18T09:33:00.739+0000",
         "1975-01-18T09:32:37.501+0000",
         "Groves",
         "TX",
         "UA000000102376233"
        ],
        [
         850.5,
         "1975-01-18T06:31:45.376+0000",
         "1975-01-18T06:29:36.309+0000",
         "Los Angeles",
         "CA",
         "UA000000102447679"
        ],
        [
         850.5,
         "1975-01-18T05:52:20.317+0000",
         "1975-01-18T05:51:46.740+0000",
         "Kansas City",
         "MO",
         "UA000000102368633"
        ],
        [
         850.5,
         "1975-01-18T07:36:41.769+0000",
         "1975-01-18T07:36:33.042+0000",
         "Canton",
         "GA",
         "UA000000102383673"
        ],
        [
         850.5,
         "1975-01-18T05:59:18.895+0000",
         "1975-01-18T05:58:32.847+0000",
         "Rancho Cucamonga",
         "CA",
         "UA000000102406310"
        ],
        [
         850.5,
         "1975-01-18T07:47:24.448+0000",
         "1975-01-18T07:45:26.945+0000",
         "Clarkston",
         "GA",
         "UA000000102427102"
        ],
        [
         850.5,
         "1975-01-19T18:18:01.559+0000",
         "1975-01-19T18:16:09.252+0000",
         "South Gate",
         "CA",
         "UA000000107022450"
        ],
        [
         850.5,
         "1975-01-19T17:24:39.128+0000",
         "1975-01-19T17:23:57.991+0000",
         "Houston",
         "TX",
         "UA000000107006298"
        ],
        [
         850.5,
         "1975-01-19T17:42:57.477+0000",
         "1975-01-19T17:42:14.520+0000",
         "Jefferson City",
         "MO",
         "UA000000106970596"
        ],
        [
         850.5,
         "1975-01-18T15:36:02.413+0000",
         "1975-01-18T15:36:01.580+0000",
         "Fort Worth",
         "TX",
         "UA000000103965710"
        ],
        [
         850.5,
         "1975-01-18T15:41:09.598+0000",
         "1975-01-18T15:41:05.495+0000",
         "Layton",
         "UT",
         "UA000000104049905"
        ],
        [
         850.5,
         "1975-01-18T22:15:26.314+0000",
         "1975-01-18T22:14:23.525+0000",
         "Cuyahoga Falls",
         "OH",
         "UA000000104005020"
        ],
        [
         850.5,
         "1975-01-18T17:34:18.668+0000",
         "1975-01-18T17:34:15.698+0000",
         "Hurricane",
         "UT",
         "UA000000103998326"
        ],
        [
         850.5,
         "1975-01-18T22:33:17.311+0000",
         "1975-01-18T22:33:14.595+0000",
         "Janesville",
         "WI",
         "UA000000103985685"
        ],
        [
         850.5,
         "1975-01-18T19:16:39.636+0000",
         "1975-01-18T19:16:28.390+0000",
         "Savannah",
         "GA",
         "UA000000104002458"
        ],
        [
         850.5,
         "1975-01-18T17:36:36.996+0000",
         "1975-01-18T17:36:36.484+0000",
         "New York",
         "NY",
         "UA000000104005482"
        ],
        [
         850.5,
         "1975-01-18T18:48:17.225+0000",
         "1975-01-18T18:48:13.706+0000",
         "Rockwall",
         "TX",
         "UA000000104048403"
        ],
        [
         850.5,
         "1975-01-18T19:21:24.817+0000",
         "1975-01-18T19:21:24.616+0000",
         "Green Bay",
         "WI",
         "UA000000103960789"
        ],
        [
         850.5,
         "1975-01-18T15:00:45.645+0000",
         "1975-01-18T15:00:27.341+0000",
         "Wayne",
         "MI",
         "UA000000103998861"
        ],
        [
         850.5,
         "1975-01-18T18:00:38.827+0000",
         "1975-01-18T18:00:27.760+0000",
         "Phoenix",
         "AZ",
         "UA000000104052674"
        ],
        [
         850.5,
         "1975-01-18T18:54:49.475+0000",
         "1975-01-18T18:52:56.415+0000",
         "Cupertino",
         "CA",
         "UA000000104025777"
        ],
        [
         850.5,
         "1975-01-18T15:45:56.139+0000",
         "1975-01-18T15:44:10.994+0000",
         "Portsmouth",
         "VA",
         "UA000000104036377"
        ],
        [
         850.5,
         "1975-01-18T17:52:37.768+0000",
         "1975-01-18T17:51:57.881+0000",
         "St. Peters",
         "MO",
         "UA000000103967973"
        ],
        [
         850.5,
         "1975-01-18T17:14:19.821+0000",
         "1975-01-18T17:13:59.921+0000",
         "Palos Heights",
         "IL",
         "UA000000103988640"
        ],
        [
         850.5,
         "1975-01-18T07:10:59.028+0000",
         "1975-01-18T07:10:35.861+0000",
         "Rochester Hills",
         "MI",
         "UA000000103207109"
        ],
        [
         850.5,
         "1975-01-18T08:17:14.082+0000",
         "1975-01-18T08:16:02.957+0000",
         "Mesa",
         "AZ",
         "UA000000103187125"
        ],
        [
         850.5,
         "1975-01-18T09:27:41.480+0000",
         "1975-01-18T09:27:22.732+0000",
         "Huntsville",
         "AL",
         "UA000000103241300"
        ],
        [
         850.5,
         "1975-01-18T12:23:37.846+0000",
         "1975-01-18T12:23:32.863+0000",
         "Fort Wayne",
         "IN",
         "UA000000103226938"
        ],
        [
         850.5,
         "1975-01-18T09:53:32.639+0000",
         "1975-01-18T09:53:25.491+0000",
         "Durham",
         "NC",
         "UA000000103195562"
        ],
        [
         850.5,
         "1975-01-18T12:41:09.630+0000",
         "1975-01-18T12:41:02.000+0000",
         "Charlotte",
         "NC",
         "UA000000103218268"
        ],
        [
         850.5,
         "1975-01-18T11:30:56.729+0000",
         "1975-01-18T11:30:54.833+0000",
         "Victoria",
         "TX",
         "UA000000103218260"
        ],
        [
         850.5,
         "1975-01-18T12:26:51.499+0000",
         "1975-01-18T12:26:40.437+0000",
         "Macomb",
         "IL",
         "UA000000103180304"
        ],
        [
         850.5,
         "1975-01-18T11:20:51.403+0000",
         "1975-01-18T11:19:56.782+0000",
         "Los Angeles",
         "CA",
         "UA000000103245002"
        ],
        [
         850.5,
         "1975-01-18T08:16:38.762+0000",
         "1975-01-18T08:15:10.853+0000",
         "New York",
         "NY",
         "UA000000103170841"
        ],
        [
         850.5,
         "1975-01-18T08:29:07.918+0000",
         "1975-01-18T08:26:51.973+0000",
         "Raleigh",
         "NC",
         "UA000000103229536"
        ],
        [
         850.5,
         "1975-01-18T10:37:05.606+0000",
         "1975-01-18T10:35:30.679+0000",
         "Phoenix",
         "AZ",
         "UA000000103210291"
        ],
        [
         850.5,
         "1975-01-18T10:32:08.573+0000",
         "1975-01-18T10:30:04.308+0000",
         "St. Louis",
         "MO",
         "UA000000103172885"
        ],
        [
         850.5,
         "1975-01-18T10:39:03.549+0000",
         "1975-01-18T10:38:21.571+0000",
         "Duluth",
         "MN",
         "UA000000103230830"
        ],
        [
         850.5,
         "1975-01-18T14:04:34.401+0000",
         "1975-01-18T14:01:57.630+0000",
         "Niceville",
         "FL",
         "UA000000103188626"
        ],
        [
         850.5,
         "1975-01-18T10:05:31.183+0000",
         "1975-01-18T10:04:35.746+0000",
         "St. Marys",
         "OH",
         "UA000000103198273"
        ],
        [
         850.5,
         "1975-01-18T07:07:31.321+0000",
         "1975-01-18T07:06:48.991+0000",
         "Pomona",
         "CA",
         "UA000000103162350"
        ],
        [
         850.5,
         "1975-01-18T10:38:29.220+0000",
         "1975-01-18T10:38:05.245+0000",
         "Cedar Rapids",
         "IA",
         "UA000000103183174"
        ],
        [
         850.5,
         "1975-01-18T11:21:44.167+0000",
         "1975-01-18T11:21:43.809+0000",
         "Huntington Park",
         "CA",
         "UA000000103178283"
        ],
        [
         850.5,
         "1975-01-18T14:36:42.987+0000",
         "1975-01-18T14:29:54.286+0000",
         "North Bonneville",
         "WA",
         "UA000000103218145"
        ],
        [
         850.5,
         "1975-01-18T05:18:53.058+0000",
         "1975-01-18T05:18:42.799+0000",
         "Frisco",
         "TX",
         "UA000000103176055"
        ],
        [
         850.5,
         "1975-01-18T12:01:31.814+0000",
         "1975-01-18T11:59:55.840+0000",
         "Corsicana",
         "TX",
         "UA000000103193152"
        ],
        [
         850.5,
         "1975-01-18T06:30:53.278+0000",
         "1975-01-18T06:30:52.728+0000",
         "Sandwich",
         "IL",
         "UA000000103238213"
        ],
        [
         850.5,
         "1975-01-18T10:50:42.600+0000",
         "1975-01-18T10:50:40.531+0000",
         "Elgin",
         "IL",
         "UA000000103184128"
        ],
        [
         850.5,
         "1975-01-18T11:13:08.132+0000",
         "1975-01-18T11:12:17.367+0000",
         "Alvin",
         "TX",
         "UA000000103219185"
        ],
        [
         850.5,
         "1975-01-18T12:59:48.458+0000",
         "1975-01-18T12:58:20.181+0000",
         "New York",
         "NY",
         "UA000000103241607"
        ],
        [
         850.5,
         "1975-01-18T15:51:04.453+0000",
         "1975-01-18T15:51:03.926+0000",
         "New York",
         "NY",
         "UA000000103849385"
        ],
        [
         850.5,
         "1975-01-18T18:30:36.078+0000",
         "1975-01-18T18:29:30.381+0000",
         "Port Jervis",
         "NY",
         "UA000000103766084"
        ],
        [
         850.5,
         "1975-01-18T17:11:26.681+0000",
         "1975-01-18T17:09:41.892+0000",
         "Lakewood",
         "OH",
         "UA000000103765162"
        ],
        [
         850.5,
         "1975-01-18T11:39:51.167+0000",
         "1975-01-18T11:36:21.221+0000",
         "Simi Valley",
         "CA",
         "UA000000103819185"
        ],
        [
         850.5,
         "1975-01-18T16:29:22.087+0000",
         "1975-01-18T16:28:36.574+0000",
         "Boulder",
         "CO",
         "UA000000103814307"
        ],
        [
         850.5,
         "1975-01-18T19:39:24.840+0000",
         "1975-01-18T19:39:23.753+0000",
         "Lyndhurst",
         "OH",
         "UA000000103821220"
        ],
        [
         850.5,
         "1975-01-18T15:22:54.406+0000",
         "1975-01-18T15:22:43.250+0000",
         "Allen Park",
         "MI",
         "UA000000103844399"
        ],
        [
         850.5,
         "1975-01-18T15:06:08.234+0000",
         "1975-01-18T15:06:00.878+0000",
         "Hawthorne",
         "CA",
         "UA000000103777728"
        ],
        [
         850.5,
         "1975-01-18T15:08:42.097+0000",
         "1975-01-18T15:08:41.863+0000",
         "Escondido",
         "CA",
         "UA000000103770360"
        ],
        [
         850.5,
         "1975-01-18T16:08:31.633+0000",
         "1975-01-18T16:07:48.016+0000",
         "Austin",
         "TX",
         "UA000000103811657"
        ],
        [
         850.5,
         "1975-01-18T15:23:02.670+0000",
         "1975-01-18T15:21:21.311+0000",
         "Willows",
         "CA",
         "UA000000103804940"
        ],
        [
         850.5,
         "1975-01-18T11:23:49.117+0000",
         "1975-01-18T11:20:48.549+0000",
         "Petaluma",
         "CA",
         "UA000000103849879"
        ],
        [
         850.5,
         "1975-01-18T17:02:40.565+0000",
         "1975-01-18T17:02:39.716+0000",
         "Canyon Lake",
         "CA",
         "UA000000103845243"
        ],
        [
         850.5,
         "1975-01-18T15:37:13.941+0000",
         "1975-01-18T15:36:54.152+0000",
         "Portland",
         "OR",
         "UA000000103795106"
        ],
        [
         850.5,
         "1975-01-18T17:24:47.126+0000",
         "1975-01-18T17:24:46.269+0000",
         "Marion",
         "OH",
         "UA000000103789649"
        ],
        [
         850.5,
         "1975-01-18T15:57:45.123+0000",
         "1975-01-18T15:56:17.603+0000",
         "La Palma",
         "CA",
         "UA000000103803340"
        ],
        [
         850.5,
         "1975-01-18T16:51:38.220+0000",
         "1975-01-18T16:51:00.635+0000",
         "Troy",
         "AL",
         "UA000000103762678"
        ],
        [
         850.5,
         "1975-01-18T15:58:35.059+0000",
         "1975-01-18T15:58:34.777+0000",
         "Salem",
         "OR",
         "UA000000103835484"
        ],
        [
         850.5,
         "1975-01-18T14:57:38.570+0000",
         "1975-01-18T14:57:17.477+0000",
         "Austin",
         "TX",
         "UA000000103784271"
        ],
        [
         850.5,
         "1975-01-18T23:46:28.482+0000",
         "1975-01-18T23:46:11.263+0000",
         "Visalia",
         "CA",
         "UA000000103797618"
        ],
        [
         850.5,
         "1975-01-18T11:39:48.522+0000",
         "1975-01-18T11:39:47.848+0000",
         "El Paso",
         "TX",
         "UA000000103792542"
        ],
        [
         850.5,
         "1975-01-18T17:59:35.281+0000",
         "1975-01-18T17:58:56.070+0000",
         "Rice Lake",
         "WI",
         "UA000000103820458"
        ],
        [
         850.5,
         "1975-01-18T13:24:24.302+0000",
         "1975-01-18T13:24:24.102+0000",
         "Olathe",
         "KS",
         "UA000000103802055"
        ],
        [
         850.5,
         "1975-01-18T17:02:31.324+0000",
         "1975-01-18T17:01:41.335+0000",
         "Chelsea",
         "MI",
         "UA000000103803217"
        ],
        [
         850.5,
         "1975-01-18T20:21:06.882+0000",
         "1975-01-18T20:19:48.876+0000",
         "Stillwater",
         "OK",
         "UA000000103837878"
        ],
        [
         850.5,
         "1975-01-18T15:07:55.247+0000",
         "1975-01-18T15:07:54.196+0000",
         "Hialeah",
         "FL",
         "UA000000103820001"
        ],
        [
         850.5,
         "1975-01-18T15:30:50.964+0000",
         "1975-01-18T15:30:47.608+0000",
         "Phoenix",
         "AZ",
         "UA000000103843019"
        ],
        [
         850.5,
         "1975-01-18T16:38:01.768+0000",
         "1975-01-18T16:38:00.257+0000",
         "Chicago",
         "IL",
         "UA000000103818971"
        ],
        [
         850.5,
         "1975-01-18T16:23:18.290+0000",
         "1975-01-18T16:19:37.477+0000",
         "Peekskill",
         "NY",
         "UA000000103795199"
        ],
        [
         850.5,
         "1975-01-19T13:45:40.329+0000",
         "1975-01-19T13:45:06.894+0000",
         "Carrollton",
         "TX",
         "UA000000106356811"
        ],
        [
         850.5,
         "1975-01-19T17:59:32.195+0000",
         "1975-01-19T17:56:21.947+0000",
         "Detroit",
         "MI",
         "UA000000106284577"
        ],
        [
         850.5,
         "1975-01-19T17:36:43.539+0000",
         "1975-01-19T17:35:00.112+0000",
         "Miami",
         "FL",
         "UA000000106295877"
        ],
        [
         850.5,
         "1975-01-19T17:44:11.919+0000",
         "1975-01-19T17:43:34.393+0000",
         "New York",
         "NY",
         "UA000000106316249"
        ],
        [
         850.5,
         "1975-01-19T17:02:09.881+0000",
         "1975-01-19T17:01:56.256+0000",
         "Princeton",
         "TX",
         "UA000000106310357"
        ],
        [
         850.5,
         "1975-01-19T16:41:31.500+0000",
         "1975-01-19T16:41:03.608+0000",
         "Barnwell",
         "SC",
         "UA000000106292436"
        ],
        [
         850.5,
         "1975-01-19T13:18:45.382+0000",
         "1975-01-19T13:18:43.561+0000",
         "Carlsbad",
         "CA",
         "UA000000106305002"
        ],
        [
         850.5,
         "1975-01-19T16:37:12.490+0000",
         "1975-01-19T16:36:39.233+0000",
         "Kewanee",
         "IL",
         "UA000000106259038"
        ],
        [
         850.5,
         "1975-01-19T15:49:41.237+0000",
         "1975-01-19T15:48:15.212+0000",
         "Englewood",
         "NJ",
         "UA000000106338427"
        ],
        [
         850.5,
         "1975-01-19T13:55:37.562+0000",
         "1975-01-19T13:55:37.001+0000",
         "Jackson",
         "MS",
         "UA000000106354312"
        ],
        [
         850.5,
         "1975-01-19T16:10:28.057+0000",
         "1975-01-19T16:06:11.577+0000",
         "Yazoo City",
         "MS",
         "UA000000106320370"
        ],
        [
         850.5,
         "1975-01-19T14:21:02.850+0000",
         "1975-01-19T14:20:39.600+0000",
         "Missoula",
         "MT",
         "UA000000106333443"
        ],
        [
         850.5,
         "1975-01-19T15:30:39.857+0000",
         "1975-01-19T15:30:34.812+0000",
         "Ankeny",
         "IA",
         "UA000000106341897"
        ],
        [
         850.5,
         "1975-01-19T14:57:29.896+0000",
         "1975-01-19T14:57:24.519+0000",
         "Austin",
         "TX",
         "UA000000106336665"
        ],
        [
         850.5,
         "1975-01-19T15:29:24.311+0000",
         "1975-01-19T15:28:52.829+0000",
         "Marysville",
         "CA",
         "UA000000106274626"
        ],
        [
         850.5,
         "1975-01-19T14:02:24.523+0000",
         "1975-01-19T14:00:53.057+0000",
         "Atlanta",
         "GA",
         "UA000000106354405"
        ],
        [
         850.5,
         "1975-01-19T13:23:55.502+0000",
         "1975-01-19T13:23:21.869+0000",
         "Troutdale",
         "OR",
         "UA000000106307184"
        ],
        [
         850.5,
         "1975-01-19T11:42:14.939+0000",
         "1975-01-19T11:41:48.867+0000",
         "Upland",
         "CA",
         "UA000000106306680"
        ],
        [
         850.5,
         "1975-01-19T14:17:23.862+0000",
         "1975-01-19T14:16:48.259+0000",
         "Sacramento",
         "CA",
         "UA000000106274240"
        ],
        [
         850.5,
         "1975-01-19T14:43:12.863+0000",
         "1975-01-19T14:40:12.099+0000",
         "San Diego",
         "CA",
         "UA000000106322613"
        ],
        [
         850.5,
         "1975-01-19T11:25:21.179+0000",
         "1975-01-19T11:24:27.033+0000",
         "Salinas",
         "CA",
         "UA000000106301009"
        ],
        [
         850.5,
         "1975-01-19T17:36:08.036+0000",
         "1975-01-19T17:35:28.430+0000",
         "Iron River",
         "MI",
         "UA000000106293835"
        ],
        [
         850.5,
         "1975-01-19T13:48:51.536+0000",
         "1975-01-19T13:47:34.944+0000",
         "Grand Rapids",
         "MI",
         "UA000000106298448"
        ],
        [
         850.5,
         "1975-01-19T17:38:52.491+0000",
         "1975-01-19T17:37:42.087+0000",
         "Bremerton",
         "WA",
         "UA000000106271970"
        ],
        [
         850.5,
         "1975-01-19T08:02:23.431+0000",
         "1975-01-19T08:00:58.225+0000",
         "Bossier City",
         "LA",
         "UA000000106299513"
        ],
        [
         850.5,
         "1975-01-19T13:01:06.689+0000",
         "1975-01-19T13:00:55.546+0000",
         "Keene",
         "NH",
         "UA000000106261216"
        ],
        [
         850.5,
         "1975-01-19T17:51:59.403+0000",
         "1975-01-19T17:50:51.013+0000",
         "Derby",
         "KS",
         "UA000000106279682"
        ],
        [
         850.5,
         "1975-01-19T16:09:17.857+0000",
         "1975-01-19T16:08:31.986+0000",
         "Anaheim",
         "CA",
         "UA000000106273905"
        ],
        [
         850.5,
         "1975-01-19T17:24:20.673+0000",
         "1975-01-19T17:24:16.533+0000",
         "Iowa City",
         "IA",
         "UA000000106298411"
        ],
        [
         850.5,
         "1975-01-19T16:59:30.846+0000",
         "1975-01-19T16:58:56.987+0000",
         "Everman",
         "TX",
         "UA000000106330758"
        ],
        [
         850.5,
         "1975-01-19T16:50:40.478+0000",
         "1975-01-19T16:47:10.235+0000",
         "Lynnwood",
         "WA",
         "UA000000106273330"
        ],
        [
         850.5,
         "1975-01-19T14:18:37.723+0000",
         "1975-01-19T14:18:20.113+0000",
         "Azle",
         "TX",
         "UA000000106267332"
        ],
        [
         850.5,
         "1975-01-19T15:01:38.236+0000",
         "1975-01-19T15:01:36.922+0000",
         "Waterbury",
         "CT",
         "UA000000106348144"
        ],
        [
         850.5,
         "1975-01-19T17:51:22.546+0000",
         "1975-01-19T17:49:55.200+0000",
         "Dallas",
         "TX",
         "UA000000106325087"
        ],
        [
         850.5,
         "1975-01-18T19:53:03.182+0000",
         "1975-01-18T19:51:32.433+0000",
         "Lockport",
         "NY",
         "UA000000104190443"
        ],
        [
         850.5,
         "1975-01-18T19:47:48.699+0000",
         "1975-01-18T19:47:02.095+0000",
         "Coppell",
         "TX",
         "UA000000104206127"
        ],
        [
         850.5,
         "1975-01-18T19:11:40.012+0000",
         "1975-01-18T19:11:12.604+0000",
         "Surprise",
         "AZ",
         "UA000000104228147"
        ],
        [
         850.5,
         "1975-01-18T21:26:49.485+0000",
         "1975-01-18T21:26:43.309+0000",
         "Newark",
         "NJ",
         "UA000000104180727"
        ],
        [
         850.5,
         "1975-01-18T15:39:19.175+0000",
         "1975-01-18T15:38:46.324+0000",
         "Ulysses",
         "KS",
         "UA000000104237811"
        ],
        [
         850.5,
         "1975-01-18T21:26:17.531+0000",
         "1975-01-18T21:26:14.972+0000",
         "Sterling Heights",
         "MI",
         "UA000000104253284"
        ],
        [
         850.5,
         "1975-01-18T22:47:12.449+0000",
         "1975-01-18T22:46:47.774+0000",
         "Albuquerque",
         "NM",
         "UA000000104167869"
        ],
        [
         850.5,
         "1975-01-18T19:24:12.773+0000",
         "1975-01-18T19:23:30.901+0000",
         "Forney",
         "TX",
         "UA000000104171332"
        ],
        [
         850.5,
         "1975-01-18T21:20:29.331+0000",
         "1975-01-18T21:20:28.971+0000",
         "San Diego",
         "CA",
         "UA000000104252493"
        ],
        [
         850.5,
         "1975-01-18T21:18:51.946+0000",
         "1975-01-18T21:18:36.205+0000",
         "New York",
         "NY",
         "UA000000104196404"
        ],
        [
         850.5,
         "1975-01-18T18:57:25.993+0000",
         "1975-01-18T18:56:24.491+0000",
         "Monroe",
         "GA",
         "UA000000104202909"
        ],
        [
         850.5,
         "1975-01-18T20:45:00.137+0000",
         "1975-01-18T20:43:35.255+0000",
         "New York",
         "NY",
         "UA000000104198803"
        ],
        [
         850.5,
         "1975-01-18T20:01:09.859+0000",
         "1975-01-18T20:01:07.497+0000",
         "Pasadena",
         "TX",
         "UA000000104256628"
        ],
        [
         850.5,
         "1975-01-18T21:08:27.892+0000",
         "1975-01-18T21:07:13.051+0000",
         "Irving",
         "TX",
         "UA000000104229593"
        ],
        [
         850.5,
         "1975-01-18T23:42:24.929+0000",
         "1975-01-18T23:42:01.453+0000",
         "Daly City",
         "CA",
         "UA000000104254533"
        ],
        [
         850.5,
         "1975-01-18T22:16:18.500+0000",
         "1975-01-18T22:16:16.432+0000",
         "Wasilla",
         "AK",
         "UA000000104220996"
        ],
        [
         850.5,
         "1975-01-18T20:35:38.922+0000",
         "1975-01-18T20:35:19.730+0000",
         "New Hampton",
         "IA",
         "UA000000104210742"
        ],
        [
         850.5,
         "1975-01-18T23:56:57.085+0000",
         "1975-01-18T23:56:53.392+0000",
         "Radford",
         "VA",
         "UA000000104200051"
        ],
        [
         850.5,
         "1975-01-18T20:35:18.387+0000",
         "1975-01-18T20:35:18.130+0000",
         "Boynton Beach",
         "FL",
         "UA000000104202531"
        ],
        [
         850.5,
         "1975-01-18T19:41:36.210+0000",
         "1975-01-18T19:41:30.177+0000",
         "Phoenix",
         "AZ",
         "UA000000104166572"
        ],
        [
         850.5,
         "1975-01-18T16:30:42.615+0000",
         "1975-01-18T16:30:42.155+0000",
         "Chicago",
         "IL",
         "UA000000104179163"
        ],
        [
         850.5,
         "1975-01-18T19:08:00.136+0000",
         "1975-01-18T19:06:43.916+0000",
         "Columbia",
         "SC",
         "UA000000104159194"
        ],
        [
         850.5,
         "1975-01-18T17:50:28.516+0000",
         "1975-01-18T17:49:40.915+0000",
         "Blakely",
         "GA",
         "UA000000104218459"
        ],
        [
         850.5,
         "1975-01-18T19:47:43.880+0000",
         "1975-01-18T19:47:32.190+0000",
         "Elk Grove",
         "CA",
         "UA000000104239608"
        ],
        [
         850.5,
         "1975-01-18T18:04:23.927+0000",
         "1975-01-18T18:03:51.105+0000",
         "St. Louis",
         "MO",
         "UA000000104175810"
        ],
        [
         850.5,
         "1975-01-18T16:32:09.440+0000",
         "1975-01-18T16:31:51.735+0000",
         "Bowling Green",
         "OH",
         "UA000000104224087"
        ],
        [
         850.5,
         "1975-01-18T19:59:23.265+0000",
         "1975-01-18T19:58:31.939+0000",
         "Houston",
         "TX",
         "UA000000104256325"
        ],
        [
         850.5,
         "1975-01-18T18:51:58.131+0000",
         "1975-01-18T18:49:49.125+0000",
         "Chico",
         "CA",
         "UA000000104167354"
        ],
        [
         850.5,
         "1975-01-18T20:46:15.794+0000",
         "1975-01-18T20:45:25.251+0000",
         "Worthington Hills",
         "KY",
         "UA000000104196326"
        ],
        [
         850.5,
         "1975-01-18T18:40:41.598+0000",
         "1975-01-18T18:40:37.111+0000",
         "Jackson",
         "MS",
         "UA000000104227982"
        ],
        [
         850.5,
         "1975-01-18T14:29:57.804+0000",
         "1975-01-18T14:27:43.437+0000",
         "Portland",
         "OR",
         "UA000000104206099"
        ],
        [
         850.5,
         "1975-01-18T05:57:24.791+0000",
         "1975-01-18T05:57:15.876+0000",
         "Jersey City",
         "NJ",
         "UA000000103043498"
        ],
        [
         850.5,
         "1975-01-18T12:19:39.742+0000",
         "1975-01-18T12:19:37.585+0000",
         "Chicago",
         "IL",
         "UA000000103000635"
        ],
        [
         850.5,
         "1975-01-18T12:54:11.304+0000",
         "1975-01-18T12:54:02.739+0000",
         "North Charleston",
         "SC",
         "UA000000102974922"
        ],
        [
         850.5,
         "1975-01-18T08:33:44.041+0000",
         "1975-01-18T08:33:19.384+0000",
         "Tampa",
         "FL",
         "UA000000102972953"
        ],
        [
         850.5,
         "1975-01-18T09:59:06.030+0000",
         "1975-01-18T09:53:52.836+0000",
         "Cedar Park",
         "TX",
         "UA000000103018945"
        ],
        [
         850.5,
         "1975-01-18T12:45:38.853+0000",
         "1975-01-18T12:44:08.834+0000",
         "Minneapolis",
         "MN",
         "UA000000102967653"
        ],
        [
         850.5,
         "1975-01-18T08:26:52.521+0000",
         "1975-01-18T08:25:55.356+0000",
         "New Orleans",
         "LA",
         "UA000000102983538"
        ],
        [
         850.5,
         "1975-01-18T08:44:15.150+0000",
         "1975-01-18T08:44:14.542+0000",
         "San Diego",
         "CA",
         "UA000000102994456"
        ],
        [
         850.5,
         "1975-01-18T08:20:48.006+0000",
         "1975-01-18T08:20:40.897+0000",
         "Grand Prairie",
         "TX",
         "UA000000103013508"
        ],
        [
         850.5,
         "1975-01-18T13:15:00.596+0000",
         "1975-01-18T13:14:43.264+0000",
         "Tucson",
         "AZ",
         "UA000000103054660"
        ],
        [
         850.5,
         "1975-01-18T13:56:59.872+0000",
         "1975-01-18T13:56:18.825+0000",
         "Euless",
         "TX",
         "UA000000103010396"
        ],
        [
         850.5,
         "1975-01-18T11:46:25.944+0000",
         "1975-01-18T11:45:04.738+0000",
         "Newark",
         "DE",
         "UA000000102963241"
        ],
        [
         850.5,
         "1975-01-18T05:34:58.656+0000",
         "1975-01-18T05:33:53.190+0000",
         "Twentynine Palms",
         "CA",
         "UA000000103049693"
        ],
        [
         850.5,
         "1975-01-18T10:23:10.778+0000",
         "1975-01-18T10:23:05.777+0000",
         "Sparks",
         "NV",
         "UA000000103048091"
        ],
        [
         850.5,
         "1975-01-18T09:05:44.737+0000",
         "1975-01-18T09:05:38.044+0000",
         "Pinole",
         "CA",
         "UA000000103056600"
        ],
        [
         850.5,
         "1975-01-18T07:51:10.340+0000",
         "1975-01-18T07:49:30.437+0000",
         "Henderson",
         "NV",
         "UA000000103025669"
        ],
        [
         850.5,
         "1975-01-18T06:30:41.099+0000",
         "1975-01-18T06:30:39.351+0000",
         "Claremont",
         "CA",
         "UA000000103001120"
        ],
        [
         850.5,
         "1975-01-18T22:26:23.954+0000",
         "1975-01-18T22:23:23.075+0000",
         "New York",
         "NY",
         "UA000000104272475"
        ],
        [
         850.5,
         "1975-01-18T20:07:48.686+0000",
         "1975-01-18T20:06:58.674+0000",
         "Killeen",
         "TX",
         "UA000000104335540"
        ],
        [
         850.5,
         "1975-01-18T13:16:17.516+0000",
         "1975-01-18T13:16:12.087+0000",
         "New York",
         "NY",
         "UA000000104258627"
        ],
        [
         850.5,
         "1975-01-18T19:21:11.115+0000",
         "1975-01-18T19:21:02.275+0000",
         "Pico Rivera",
         "CA",
         "UA000000104317683"
        ],
        [
         850.5,
         "1975-01-18T21:38:32.618+0000",
         "1975-01-18T21:38:28.202+0000",
         "Round Rock",
         "TX",
         "UA000000104274011"
        ],
        [
         850.5,
         "1975-01-18T21:14:44.068+0000",
         "1975-01-18T21:13:53.606+0000",
         "Los Angeles",
         "CA",
         "UA000000104270890"
        ],
        [
         850.5,
         "1975-01-18T21:36:45.282+0000",
         "1975-01-18T21:34:55.595+0000",
         "San Francisco",
         "CA",
         "UA000000104284172"
        ],
        [
         850.5,
         "1975-01-18T23:12:21.718+0000",
         "1975-01-18T23:11:10.295+0000",
         "Warrior",
         "AL",
         "UA000000104270711"
        ],
        [
         850.5,
         "1975-01-18T21:37:18.990+0000",
         "1975-01-18T21:37:18.577+0000",
         "Bradenton",
         "FL",
         "UA000000104299691"
        ],
        [
         850.5,
         "1975-01-18T23:01:27.934+0000",
         "1975-01-18T23:01:15.658+0000",
         "Madison",
         "WI",
         "UA000000104353058"
        ],
        [
         850.5,
         "1975-01-18T17:13:28.796+0000",
         "1975-01-18T17:11:37.953+0000",
         "Grand Rapids",
         "MI",
         "UA000000104343386"
        ],
        [
         850.5,
         "1975-01-19T00:07:23.917+0000",
         "1975-01-19T00:07:22.899+0000",
         "New York",
         "NY",
         "UA000000104324555"
        ],
        [
         850.5,
         "1975-01-18T22:15:00.254+0000",
         "1975-01-18T22:14:49.428+0000",
         "Broomfield",
         "CO",
         "UA000000104285333"
        ],
        [
         850.5,
         "1975-01-19T00:02:48.648+0000",
         "1975-01-19T00:00:35.736+0000",
         "Indianapolis",
         "IN",
         "UA000000104302420"
        ],
        [
         850.5,
         "1975-01-19T02:30:52.578+0000",
         "1975-01-19T02:30:46.056+0000",
         "Glendale",
         "AZ",
         "UA000000104352837"
        ],
        [
         850.5,
         "1975-01-18T19:03:07.347+0000",
         "1975-01-18T19:00:03.965+0000",
         "Palmdale",
         "CA",
         "UA000000104305508"
        ],
        [
         850.5,
         "1975-01-18T20:44:29.865+0000",
         "1975-01-18T20:43:41.965+0000",
         "Roswell",
         "GA",
         "UA000000104351205"
        ],
        [
         850.5,
         "1975-01-18T19:13:09.845+0000",
         "1975-01-18T19:07:56.155+0000",
         "Beaumont",
         "CA",
         "UA000000104307967"
        ],
        [
         850.5,
         "1975-01-18T21:58:03.706+0000",
         "1975-01-18T21:57:53.804+0000",
         "Russell",
         "KS",
         "UA000000104326668"
        ],
        [
         850.5,
         "1975-01-18T17:58:40.098+0000",
         "1975-01-18T17:58:35.432+0000",
         "Cleveland",
         "OH",
         "UA000000104259398"
        ],
        [
         850.5,
         "1975-01-18T21:04:45.799+0000",
         "1975-01-18T21:04:39.062+0000",
         "Suffolk",
         "VA",
         "UA000000104315972"
        ],
        [
         850.5,
         "1975-01-18T18:06:23.636+0000",
         "1975-01-18T18:06:10.830+0000",
         "Fresno",
         "CA",
         "UA000000104343249"
        ],
        [
         850.5,
         "1975-01-18T18:42:12.945+0000",
         "1975-01-18T18:41:55.615+0000",
         "Milwaukee",
         "WI",
         "UA000000104319120"
        ],
        [
         850.5,
         "1975-01-18T21:00:30.911+0000",
         "1975-01-18T20:57:29.998+0000",
         "Gulfport",
         "MS",
         "UA000000104273782"
        ],
        [
         850.5,
         "1975-01-18T16:26:07.048+0000",
         "1975-01-18T16:25:45.580+0000",
         "Fontana",
         "CA",
         "UA000000103458121"
        ],
        [
         850.5,
         "1975-01-18T14:34:57.995+0000",
         "1975-01-18T14:34:49.407+0000",
         "Friendswood",
         "TX",
         "UA000000103490457"
        ],
        [
         850.5,
         "1975-01-18T14:33:27.018+0000",
         "1975-01-18T14:32:37.738+0000",
         "Isanti",
         "MN",
         "UA000000103538339"
        ],
        [
         850.5,
         "1975-01-18T14:59:13.507+0000",
         "1975-01-18T14:57:23.759+0000",
         "Rogers",
         "AR",
         "UA000000103521907"
        ],
        [
         850.5,
         "1975-01-18T08:32:48.426+0000",
         "1975-01-18T08:30:51.678+0000",
         "Chicago",
         "IL",
         "UA000000103523420"
        ],
        [
         850.5,
         "1975-01-18T15:35:00.670+0000",
         "1975-01-18T15:34:19.386+0000",
         "Frisco",
         "TX",
         "UA000000103514213"
        ],
        [
         850.5,
         "1975-01-18T07:35:41.323+0000",
         "1975-01-18T07:35:29.281+0000",
         "Houston",
         "TX",
         "UA000000103506194"
        ],
        [
         850.5,
         "1975-01-18T16:03:24.309+0000",
         "1975-01-18T16:01:29.467+0000",
         "Noblesville",
         "IN",
         "UA000000103516374"
        ],
        [
         850.5,
         "1975-01-18T12:17:00.223+0000",
         "1975-01-18T12:16:31.215+0000",
         "Temecula",
         "CA",
         "UA000000103554198"
        ],
        [
         850.5,
         "1975-01-18T10:20:38.432+0000",
         "1975-01-18T10:20:19.444+0000",
         "Raytown",
         "MO",
         "UA000000103538396"
        ],
        [
         850.5,
         "1975-01-18T14:00:53.794+0000",
         "1975-01-18T14:00:03.453+0000",
         "Tahlequah",
         "OK",
         "UA000000103461276"
        ],
        [
         850.5,
         "1975-01-18T12:46:52.612+0000",
         "1975-01-18T12:42:11.988+0000",
         "Jacksonville",
         "FL",
         "UA000000103476213"
        ],
        [
         850.5,
         "1975-01-18T16:39:20.107+0000",
         "1975-01-18T16:38:34.196+0000",
         "Amarillo",
         "TX",
         "UA000000103524073"
        ],
        [
         850.5,
         "1975-01-18T18:05:56.320+0000",
         "1975-01-18T18:05:54.541+0000",
         "Maplewood",
         "MO",
         "UA000000103520201"
        ],
        [
         850.5,
         "1975-01-18T17:00:11.750+0000",
         "1975-01-18T16:59:24.459+0000",
         "Duluth",
         "MN",
         "UA000000103508580"
        ],
        [
         850.5,
         "1975-01-18T13:03:42.841+0000",
         "1975-01-18T13:02:25.247+0000",
         "Hartford",
         "CT",
         "UA000000103498959"
        ],
        [
         850.5,
         "1975-01-18T19:56:21.932+0000",
         "1975-01-18T19:56:21.624+0000",
         "Columbus",
         "IN",
         "UA000000103486660"
        ],
        [
         850.5,
         "1975-01-18T16:15:47.359+0000",
         "1975-01-18T16:15:32.889+0000",
         "Springfield",
         "MO",
         "UA000000103533477"
        ],
        [
         850.5,
         "1975-01-18T10:12:38.463+0000",
         "1975-01-18T10:09:51.437+0000",
         "Eugene",
         "OR",
         "UA000000103475416"
        ],
        [
         850.5,
         "1975-01-18T09:39:18.075+0000",
         "1975-01-18T09:39:16.575+0000",
         "Oakley",
         "KS",
         "UA000000103537816"
        ],
        [
         850.5,
         "1975-01-18T16:07:38.443+0000",
         "1975-01-18T16:07:18.752+0000",
         "Blaine",
         "MN",
         "UA000000103524083"
        ],
        [
         850.5,
         "1975-01-18T20:09:28.265+0000",
         "1975-01-18T20:08:06.288+0000",
         "Monterey Park",
         "CA",
         "UA000000103463688"
        ],
        [
         850.5,
         "1975-01-18T09:43:49.314+0000",
         "1975-01-18T09:43:48.699+0000",
         "Provo",
         "UT",
         "UA000000103536010"
        ],
        [
         850.5,
         "1975-01-18T16:02:38.445+0000",
         "1975-01-18T16:02:38.133+0000",
         "Midland",
         "MI",
         "UA000000103477342"
        ],
        [
         850.5,
         "1975-01-18T14:49:30.385+0000",
         "1975-01-18T14:49:02.938+0000",
         "Sunrise",
         "FL",
         "UA000000103470292"
        ],
        [
         850.5,
         "1975-01-18T10:55:58.887+0000",
         "1975-01-18T10:55:16.419+0000",
         "Madison",
         "WI",
         "UA000000103479240"
        ],
        [
         850.5,
         "1975-01-18T14:10:16.490+0000",
         "1975-01-18T14:08:36.534+0000",
         "Greensboro",
         "NC",
         "UA000000103540640"
        ],
        [
         850.5,
         "1975-01-18T13:25:25.985+0000",
         "1975-01-18T13:24:51.613+0000",
         "Columbus",
         "OH",
         "UA000000103515535"
        ],
        [
         850.5,
         "1975-01-18T14:52:31.394+0000",
         "1975-01-18T14:52:24.579+0000",
         "Fort Collins",
         "CO",
         "UA000000103508889"
        ],
        [
         850.5,
         "1975-01-18T11:39:51.000+0000",
         "1975-01-18T11:39:49.491+0000",
         "Douglas",
         "WY",
         "UA000000103514820"
        ],
        [
         850.5,
         "1975-01-18T16:41:27.402+0000",
         "1975-01-18T16:41:15.604+0000",
         "New York",
         "NY",
         "UA000000103458474"
        ],
        [
         850.5,
         "1975-01-18T15:09:15.706+0000",
         "1975-01-18T15:07:56.267+0000",
         "Chicago",
         "IL",
         "UA000000103495744"
        ],
        [
         850.5,
         "1975-01-19T08:08:44.475+0000",
         "1975-01-19T08:07:58.196+0000",
         "Livonia",
         "MI",
         "UA000000105417424"
        ],
        [
         850.5,
         "1975-01-19T09:21:26.356+0000",
         "1975-01-19T09:21:21.749+0000",
         "Grand Prairie",
         "TX",
         "UA000000105454290"
        ],
        [
         850.5,
         "1975-01-19T05:26:35.749+0000",
         "1975-01-19T05:26:35.500+0000",
         "Chicago",
         "IL",
         "UA000000105436484"
        ],
        [
         850.5,
         "1975-01-19T05:04:01.266+0000",
         "1975-01-19T05:03:27.712+0000",
         "San Diego",
         "CA",
         "UA000000105358423"
        ],
        [
         850.5,
         "1975-01-19T05:32:28.380+0000",
         "1975-01-19T05:31:52.230+0000",
         "Shakopee",
         "MN",
         "UA000000105395934"
        ],
        [
         850.5,
         "1975-01-19T05:18:35.618+0000",
         "1975-01-19T05:18:33.385+0000",
         "Tucson",
         "AZ",
         "UA000000105448825"
        ],
        [
         850.5,
         "1975-01-19T04:09:50.840+0000",
         "1975-01-19T04:09:45.846+0000",
         "Gridley",
         "CA",
         "UA000000105443974"
        ],
        [
         850.5,
         "1975-01-19T10:27:13.375+0000",
         "1975-01-19T10:27:05.619+0000",
         "Anaheim",
         "CA",
         "UA000000105420890"
        ],
        [
         850.5,
         "1975-01-19T06:17:59.457+0000",
         "1975-01-19T06:16:11.363+0000",
         "Melrose",
         "MA",
         "UA000000105412885"
        ],
        [
         850.5,
         "1975-01-19T11:08:55.419+0000",
         "1975-01-19T11:08:08.109+0000",
         "Helena",
         "AL",
         "UA000000105444126"
        ],
        [
         850.5,
         "1975-01-19T10:42:13.696+0000",
         "1975-01-19T10:42:09.836+0000",
         "Visalia",
         "CA",
         "UA000000105416990"
        ],
        [
         850.5,
         "1975-01-19T06:28:44.802+0000",
         "1975-01-19T06:28:17.361+0000",
         "Waukegan",
         "IL",
         "UA000000105410458"
        ],
        [
         850.5,
         "1975-01-19T10:59:54.758+0000",
         "1975-01-19T10:59:02.107+0000",
         "Wichita",
         "KS",
         "UA000000105370685"
        ],
        [
         850.5,
         "1975-01-19T06:56:45.129+0000",
         "1975-01-19T06:56:33.521+0000",
         "Buffalo",
         "NY",
         "UA000000105399252"
        ],
        [
         850.5,
         "1975-01-19T06:01:22.236+0000",
         "1975-01-19T06:01:14.400+0000",
         "Thousand Oaks",
         "CA",
         "UA000000105435125"
        ],
        [
         850.5,
         "1975-01-19T14:28:25.134+0000",
         "1975-01-19T14:28:05.731+0000",
         "Irvine",
         "CA",
         "UA000000105449086"
        ],
        [
         850.5,
         "1975-01-19T17:12:04.884+0000",
         "1975-01-19T17:11:32.374+0000",
         "Chicago",
         "IL",
         "UA000000106362388"
        ],
        [
         850.5,
         "1975-01-19T15:56:13.445+0000",
         "1975-01-19T15:54:00.946+0000",
         "Clifton",
         "TN",
         "UA000000106359277"
        ],
        [
         850.5,
         "1975-01-19T15:25:04.893+0000",
         "1975-01-19T15:25:03.480+0000",
         "Cortez",
         "CO",
         "UA000000106397251"
        ],
        [
         850.5,
         "1975-01-19T15:13:04.021+0000",
         "1975-01-19T15:11:30.480+0000",
         "Sacramento",
         "CA",
         "UA000000106364991"
        ],
        [
         850.5,
         "1975-01-19T17:38:57.950+0000",
         "1975-01-19T17:37:03.675+0000",
         "Allen",
         "TX",
         "UA000000106374126"
        ],
        [
         850.5,
         "1975-01-19T13:12:54.495+0000",
         "1975-01-19T13:12:50.155+0000",
         "Jasper",
         "TX",
         "UA000000106396652"
        ],
        [
         850.5,
         "1975-01-19T13:38:45.306+0000",
         "1975-01-19T13:37:55.916+0000",
         "Chicago",
         "IL",
         "UA000000106443432"
        ],
        [
         850.5,
         "1975-01-19T14:16:52.981+0000",
         "1975-01-19T14:16:17.254+0000",
         "Clarksville",
         "TN",
         "UA000000106396342"
        ],
        [
         850.5,
         "1975-01-19T17:23:48.341+0000",
         "1975-01-19T17:20:48.864+0000",
         "New Haven",
         "CT",
         "UA000000106390490"
        ],
        [
         850.5,
         "1975-01-19T16:10:46.012+0000",
         "1975-01-19T16:10:09.591+0000",
         "Jersey City",
         "NJ",
         "UA000000106429628"
        ],
        [
         850.5,
         "1975-01-19T15:26:20.005+0000",
         "1975-01-19T15:24:35.429+0000",
         "Chowchilla",
         "CA",
         "UA000000106448122"
        ],
        [
         850.5,
         "1975-01-19T14:26:45.432+0000",
         "1975-01-19T14:25:36.815+0000",
         "Irving",
         "TX",
         "UA000000106410846"
        ],
        [
         850.5,
         "1975-01-19T16:04:04.133+0000",
         "1975-01-19T16:04:00.782+0000",
         "Asheville",
         "NC",
         "UA000000106397107"
        ],
        [
         850.5,
         "1975-01-19T17:24:18.383+0000",
         "1975-01-19T17:22:30.000+0000",
         "New York",
         "NY",
         "UA000000106412212"
        ],
        [
         850.5,
         "1975-01-19T13:12:41.129+0000",
         "1975-01-19T13:12:33.427+0000",
         "Mount Washington",
         "KY",
         "UA000000106418327"
        ],
        [
         850.5,
         "1975-01-19T18:02:45.126+0000",
         "1975-01-19T18:02:39.001+0000",
         "Derby",
         "CT",
         "UA000000106367944"
        ],
        [
         850.5,
         "1975-01-19T16:13:31.262+0000",
         "1975-01-19T16:13:06.050+0000",
         "Elgin",
         "OR",
         "UA000000106362743"
        ],
        [
         850.5,
         "1975-01-19T13:53:06.191+0000",
         "1975-01-19T13:53:03.063+0000",
         "Evansville",
         "IN",
         "UA000000106449157"
        ],
        [
         850.5,
         "1975-01-19T15:31:26.270+0000",
         "1975-01-19T15:30:44.694+0000",
         "Chino",
         "CA",
         "UA000000106405958"
        ],
        [
         850.5,
         "1975-01-19T16:38:17.158+0000",
         "1975-01-19T16:38:16.835+0000",
         "Oklahoma City",
         "OK",
         "UA000000106443637"
        ],
        [
         850.5,
         "1975-01-19T15:15:11.611+0000",
         "1975-01-19T15:15:01.502+0000",
         "Greenwood",
         "IN",
         "UA000000106390233"
        ],
        [
         850.5,
         "1975-01-19T07:29:45.418+0000",
         "1975-01-19T07:29:12.630+0000",
         "Hanford",
         "CA",
         "UA000000105602872"
        ],
        [
         850.5,
         "1975-01-19T10:07:05.630+0000",
         "1975-01-19T10:06:47.604+0000",
         "Miami",
         "FL",
         "UA000000105602385"
        ],
        [
         850.5,
         "1975-01-19T07:25:32.324+0000",
         "1975-01-19T07:23:53.482+0000",
         "Berea",
         "OH",
         "UA000000105625856"
        ],
        [
         850.5,
         "1975-01-19T10:43:03.971+0000",
         "1975-01-19T10:42:59.389+0000",
         "Cincinnati",
         "OH",
         "UA000000105581389"
        ],
        [
         850.5,
         "1975-01-19T08:03:03.515+0000",
         "1975-01-19T08:01:37.330+0000",
         "Hayward",
         "CA",
         "UA000000105596376"
        ],
        [
         850.5,
         "1975-01-19T05:09:31.328+0000",
         "1975-01-19T05:05:43.554+0000",
         "Dallas",
         "TX",
         "UA000000105609694"
        ],
        [
         850.5,
         "1975-01-19T09:32:49.818+0000",
         "1975-01-19T09:30:15.958+0000",
         "Avalon",
         "CA",
         "UA000000105629832"
        ],
        [
         850.5,
         "1975-01-19T10:49:54.800+0000",
         "1975-01-19T10:45:59.542+0000",
         "Los Angeles",
         "CA",
         "UA000000105559837"
        ],
        [
         850.5,
         "1975-01-19T14:38:35.940+0000",
         "1975-01-19T14:34:52.183+0000",
         "Phoenix",
         "AZ",
         "UA000000105650943"
        ],
        [
         850.5,
         "1975-01-19T07:19:31.916+0000",
         "1975-01-19T07:19:19.505+0000",
         "Los Angeles",
         "CA",
         "UA000000105604135"
        ],
        [
         850.5,
         "1975-01-19T03:36:38.882+0000",
         "1975-01-19T03:35:44.010+0000",
         "Alhambra",
         "CA",
         "UA000000105633720"
        ],
        [
         850.5,
         "1975-01-19T09:54:51.637+0000",
         "1975-01-19T09:50:34.424+0000",
         "Chester",
         "PA",
         "UA000000105611759"
        ],
        [
         850.5,
         "1975-01-19T09:49:12.955+0000",
         "1975-01-19T09:48:55.682+0000",
         "Covington",
         "LA",
         "UA000000105572898"
        ],
        [
         850.5,
         "1975-01-19T07:31:47.337+0000",
         "1975-01-19T07:31:47.076+0000",
         "Los Angeles",
         "CA",
         "UA000000105651769"
        ],
        [
         850.5,
         "1975-01-19T05:35:51.671+0000",
         "1975-01-19T05:35:50.819+0000",
         "Fairfield",
         "OH",
         "UA000000105614129"
        ],
        [
         850.5,
         "1975-01-19T07:50:41.751+0000",
         "1975-01-19T07:49:23.906+0000",
         "Camden",
         "NJ",
         "UA000000105606612"
        ],
        [
         850.5,
         "1975-01-18T12:50:22.302+0000",
         "1975-01-18T12:50:19.615+0000",
         "Winston-Salem",
         "NC",
         "UA000000103279776"
        ],
        [
         850.5,
         "1975-01-18T13:46:14.752+0000",
         "1975-01-18T13:39:43.868+0000",
         "Kenmore",
         "WA",
         "UA000000103324983"
        ],
        [
         850.5,
         "1975-01-18T07:52:53.185+0000",
         "1975-01-18T07:52:50.485+0000",
         "Somersworth",
         "NH",
         "UA000000103291367"
        ],
        [
         850.5,
         "1975-01-18T13:02:06.075+0000",
         "1975-01-18T13:01:22.963+0000",
         "Tulsa",
         "OK",
         "UA000000103339934"
        ],
        [
         850.5,
         "1975-01-18T13:29:04.792+0000",
         "1975-01-18T13:27:41.335+0000",
         "West Jordan",
         "UT",
         "UA000000103266484"
        ],
        [
         850.5,
         "1975-01-18T14:41:04.146+0000",
         "1975-01-18T14:40:55.038+0000",
         "New York",
         "NY",
         "UA000000103335590"
        ],
        [
         850.5,
         "1975-01-18T12:11:53.660+0000",
         "1975-01-18T12:11:51.885+0000",
         "Duluth",
         "GA",
         "UA000000103316393"
        ],
        [
         850.5,
         "1975-01-18T12:20:55.473+0000",
         "1975-01-18T12:20:35.464+0000",
         "Westlake",
         "LA",
         "UA000000103316412"
        ],
        [
         850.5,
         "1975-01-18T11:01:43.289+0000",
         "1975-01-18T11:01:34.299+0000",
         "Albuquerque",
         "NM",
         "UA000000103272469"
        ],
        [
         850.5,
         "1975-01-18T13:14:45.702+0000",
         "1975-01-18T13:14:43.792+0000",
         "Washington",
         "DC",
         "UA000000103291579"
        ],
        [
         850.5,
         "1975-01-18T09:58:54.704+0000",
         "1975-01-18T09:58:52.056+0000",
         "Las Vegas",
         "NV",
         "UA000000103264131"
        ]
       ],
       "datasetInfos": [],
       "dbfsResultPath": null,
       "isJsonSchema": true,
       "overflow": true,
       "plotOptions": {
        "customPlotOptions": {},
        "displayType": "table",
        "pivotAggregation": null,
        "pivotColumns": null,
        "xColumns": null,
        "yColumns": null
       },
       "removedWidgets": [],
       "schema": [
        {
         "metadata": "{}",
         "name": "purchases",
         "type": "\"double\""
        },
        {
         "metadata": "{}",
         "name": "eventDate",
         "type": "\"timestamp\""
        },
        {
         "metadata": "{}",
         "name": "previousEventDate",
         "type": "\"timestamp\""
        },
        {
         "metadata": "{}",
         "name": "city",
         "type": "\"string\""
        },
        {
         "metadata": "{}",
         "name": "state",
         "type": "\"string\""
        },
        {
         "metadata": "{}",
         "name": "userId",
         "type": "\"string\""
        }
       ],
       "type": "table"
      }
     },
     "output_type": "display_data"
    }
   ],
   "source": [
    "%sql\n",
    "SELECT * FROM purchaseEvents"
   ]
  },
  {
   "cell_type": "markdown",
   "metadata": {
    "application/vnd.databricks.v1+cell": {
     "inputWidgets": {},
     "nuid": "a343b1ff-8df8-4d0c-823a-ce782b6e8147",
     "showTitle": false,
     "title": ""
    }
   },
   "source": [
    "## Exercise 5: Count the records\n",
    "\n",
    "**Summary:** Count all the records in your new table. \n",
    "\n",
    "Steps to complete:\n",
    "* Write a `SELECT` statement that counts the records in `purchaseEvents`\n",
    "* **Answer the corresponding quiz question in Coursera**"
   ]
  },
  {
   "cell_type": "code",
   "execution_count": 0,
   "metadata": {
    "application/vnd.databricks.v1+cell": {
     "inputWidgets": {},
     "nuid": "064d1356-fcea-4baf-bd09-0f2a90b10c2e",
     "showTitle": false,
     "title": ""
    }
   },
   "outputs": [
    {
     "data": {
      "text/html": [
       "<style scoped>\n",
       "  .table-result-container {\n",
       "    max-height: 300px;\n",
       "    overflow: auto;\n",
       "  }\n",
       "  table, th, td {\n",
       "    border: 1px solid black;\n",
       "    border-collapse: collapse;\n",
       "  }\n",
       "  th, td {\n",
       "    padding: 5px;\n",
       "  }\n",
       "  th {\n",
       "    text-align: left;\n",
       "  }\n",
       "</style><div class='table-result-container'><table class='table-result'><thead style='background-color: white'><tr><th>count(1)</th></tr></thead><tbody><tr><td>180678</td></tr></tbody></table></div>"
      ]
     },
     "metadata": {
      "application/vnd.databricks.v1+output": {
       "addedWidgets": {},
       "aggData": [],
       "aggError": "",
       "aggOverflow": false,
       "aggSchema": [],
       "aggSeriesLimitReached": false,
       "aggType": "",
       "arguments": {},
       "columnCustomDisplayInfos": {},
       "data": [
        [
         180678
        ]
       ],
       "datasetInfos": [],
       "dbfsResultPath": null,
       "isJsonSchema": true,
       "overflow": false,
       "plotOptions": {
        "customPlotOptions": {},
        "displayType": "table",
        "pivotAggregation": null,
        "pivotColumns": null,
        "xColumns": null,
        "yColumns": null
       },
       "removedWidgets": [],
       "schema": [
        {
         "metadata": "{}",
         "name": "count(1)",
         "type": "\"long\""
        }
       ],
       "type": "table"
      }
     },
     "output_type": "display_data"
    }
   ],
   "source": [
    "%sql\n",
    "SELECT COUNT(*) FROM purchaseEvents"
   ]
  },
  {
   "cell_type": "markdown",
   "metadata": {
    "application/vnd.databricks.v1+cell": {
     "inputWidgets": {},
     "nuid": "62d4ddb8-04c2-4a9e-9077-86b9e2631f81",
     "showTitle": false,
     "title": ""
    }
   },
   "source": [
    "## Exercise 6: Find the location with the top purchase\n",
    "**Summary:** Write a query to produce the city and state where the top purchase amount originated. \n",
    "\n",
    "Steps to complete: \n",
    "* Write a query, sorted by `purchases`, that shows the city and state of the top purchase\n",
    "* **Answer the corresponding quiz question in Coursera**"
   ]
  },
  {
   "cell_type": "code",
   "execution_count": 0,
   "metadata": {
    "application/vnd.databricks.v1+cell": {
     "inputWidgets": {},
     "nuid": "72421d75-e671-4c3c-b50e-236b1933aee5",
     "showTitle": false,
     "title": ""
    }
   },
   "outputs": [
    {
     "data": {
      "text/html": [
       "<style scoped>\n",
       "  .table-result-container {\n",
       "    max-height: 300px;\n",
       "    overflow: auto;\n",
       "  }\n",
       "  table, th, td {\n",
       "    border: 1px solid black;\n",
       "    border-collapse: collapse;\n",
       "  }\n",
       "  th, td {\n",
       "    padding: 5px;\n",
       "  }\n",
       "  th {\n",
       "    text-align: left;\n",
       "  }\n",
       "</style><div class='table-result-container'><table class='table-result'><thead style='background-color: white'><tr><th>max(purchases)</th><th>city</th><th>state</th></tr></thead><tbody><tr><td>5830.0</td><td>Amarillo</td><td>TX</td></tr><tr><td>5485.0</td><td>Tampa</td><td>FL</td></tr><tr><td>5289.0</td><td>Buffalo</td><td>NY</td></tr></tbody></table></div>"
      ]
     },
     "metadata": {
      "application/vnd.databricks.v1+output": {
       "addedWidgets": {},
       "aggData": [],
       "aggError": "",
       "aggOverflow": false,
       "aggSchema": [],
       "aggSeriesLimitReached": false,
       "aggType": "",
       "arguments": {},
       "columnCustomDisplayInfos": {},
       "data": [
        [
         5830,
         "Amarillo",
         "TX"
        ],
        [
         5485,
         "Tampa",
         "FL"
        ],
        [
         5289,
         "Buffalo",
         "NY"
        ]
       ],
       "datasetInfos": [],
       "dbfsResultPath": null,
       "isJsonSchema": true,
       "overflow": false,
       "plotOptions": {
        "customPlotOptions": {},
        "displayType": "table",
        "pivotAggregation": null,
        "pivotColumns": null,
        "xColumns": null,
        "yColumns": null
       },
       "removedWidgets": [],
       "schema": [
        {
         "metadata": "{}",
         "name": "max(purchases)",
         "type": "\"double\""
        },
        {
         "metadata": "{}",
         "name": "city",
         "type": "\"string\""
        },
        {
         "metadata": "{}",
         "name": "state",
         "type": "\"string\""
        }
       ],
       "type": "table"
      }
     },
     "output_type": "display_data"
    }
   ],
   "source": [
    "%sql\n",
    "SELECT MAX(purchases), city, state\n",
    "FROM purchaseEvents\n",
    "GROUP BY city, state\n",
    "ORDER BY MAX(purchases) DESC\n",
    "LIMIT 3\n"
   ]
  },
  {
   "cell_type": "markdown",
   "metadata": {
    "application/vnd.databricks.v1+cell": {
     "inputWidgets": {},
     "nuid": "dfbae397-114b-414b-8e1f-604fb2cb2fc1",
     "showTitle": false,
     "title": ""
    }
   },
   "source": [
    "-sandbox\n",
    "## Challenge: Produce reports\n",
    "\n",
    "**Summary:** Use the `purchaseEvents` table to produce queries that explore purchase patterns in the table. Add visualizations to a dashboard to produce one comprehensive customer report.  \n",
    "\n",
    "Steps to complete: \n",
    "* Create visualizations to report on: \n",
    "  * total purchases by day of week\n",
    "  * average purchases by date of purchase\n",
    "  * total purchases by state\n",
    "  * Any other patterns you can find in the data\n",
    "* Join your table with the data at the path listed below to get list of customers with confirmed email addresses\n",
    "* **Answer the corresponding quiz question in Coursera**"
   ]
  },
  {
   "cell_type": "markdown",
   "metadata": {
    "application/vnd.databricks.v1+cell": {
     "inputWidgets": {},
     "nuid": "e071f24a-aee9-4caa-9007-d829cd2730ff",
     "showTitle": false,
     "title": ""
    }
   },
   "source": [
    "#### Total purchases by day of week"
   ]
  },
  {
   "cell_type": "code",
   "execution_count": 0,
   "metadata": {
    "application/vnd.databricks.v1+cell": {
     "inputWidgets": {},
     "nuid": "930a2768-2443-4626-b594-acfc986ca728",
     "showTitle": false,
     "title": ""
    }
   },
   "outputs": [
    {
     "data": {
      "text/html": [
       "<style scoped>\n",
       "  .table-result-container {\n",
       "    max-height: 300px;\n",
       "    overflow: auto;\n",
       "  }\n",
       "  table, th, td {\n",
       "    border: 1px solid black;\n",
       "    border-collapse: collapse;\n",
       "  }\n",
       "  th, td {\n",
       "    padding: 5px;\n",
       "  }\n",
       "  th {\n",
       "    text-align: left;\n",
       "  }\n",
       "</style><div class='table-result-container'><table class='table-result'><thead style='background-color: white'><tr><th>day</th><th>totalPurchases</th></tr></thead><tbody><tr><td>Sat</td><td>9.6895617E7</td></tr><tr><td>Sun</td><td>9.08474283E7</td></tr></tbody></table></div>"
      ]
     },
     "metadata": {
      "application/vnd.databricks.v1+output": {
       "addedWidgets": {},
       "aggData": [],
       "aggError": "",
       "aggOverflow": false,
       "aggSchema": [],
       "aggSeriesLimitReached": false,
       "aggType": "",
       "arguments": {},
       "columnCustomDisplayInfos": {},
       "data": [
        [
         "Sat",
         96895617
        ],
        [
         "Sun",
         90847428.3
        ]
       ],
       "datasetInfos": [],
       "dbfsResultPath": null,
       "isJsonSchema": true,
       "overflow": false,
       "plotOptions": {
        "customPlotOptions": {
         "areaChart": [
          {
           "key": "grouped",
           "value": true
          },
          {
           "key": "stacked",
           "value": false
          },
          {
           "key": "100_stacked",
           "value": false
          }
         ],
         "boxPlot": [],
         "histogram": [
          {
           "key": "bins",
           "value": "20"
          }
         ],
         "mapPlot": [],
         "pieChart": [
          {
           "key": "donut",
           "value": false
          }
         ],
         "plotlyBar": [
          {
           "key": "grouped",
           "value": true
          },
          {
           "key": "stacked",
           "value": false
          },
          {
           "key": "100_stacked",
           "value": false
          }
         ],
         "plotlyLine": [
          {
           "key": "yRange",
           "value": ""
          },
          {
           "key": "showPoints",
           "value": false
          },
          {
           "key": "logScale",
           "value": false
          }
         ],
         "quantilePlot": [],
         "scatterPlot": [
          {
           "key": "loess",
           "value": false
          },
          {
           "key": "bandwidth",
           "value": 0.3
          }
         ]
        },
        "displayType": "pieChart",
        "pivotAggregation": "sum",
        "pivotColumns": [],
        "xColumns": [
         "day"
        ],
        "yColumns": [
         "totalPurchases"
        ]
       },
       "removedWidgets": [],
       "schema": [
        {
         "metadata": "{}",
         "name": "day",
         "type": "\"string\""
        },
        {
         "metadata": "{}",
         "name": "totalPurchases",
         "type": "\"double\""
        }
       ],
       "type": "table"
      }
     },
     "output_type": "display_data"
    }
   ],
   "source": [
    "%sql\n",
    "SELECT\n",
    "  date_format(eventDate, \"E\") day,\n",
    "  ROUND(SUM(purchases),2) totalPurchases\n",
    "FROM\n",
    "  purchaseEvents\n",
    "  GROUP BY day\n",
    "  ORDER BY totalPurchases DESC"
   ]
  },
  {
   "cell_type": "markdown",
   "metadata": {
    "application/vnd.databricks.v1+cell": {
     "inputWidgets": {},
     "nuid": "965c4234-26df-4e79-8b8e-d6d8715ead59",
     "showTitle": false,
     "title": ""
    }
   },
   "source": [
    "From the plot above we only 2 days of week: Sun and Sat. On Saturdays we got purchases on 4% more (52%), then on Sundays (48%). \n",
    "\n",
    "\n",
    "\n",
    "\n",
    "#### Average purchases by date of purchase"
   ]
  },
  {
   "cell_type": "code",
   "execution_count": 0,
   "metadata": {
    "application/vnd.databricks.v1+cell": {
     "inputWidgets": {},
     "nuid": "2308b81a-16c4-4fce-846c-170302f58399",
     "showTitle": false,
     "title": ""
    }
   },
   "outputs": [
    {
     "data": {
      "text/html": [
       "<style scoped>\n",
       "  .table-result-container {\n",
       "    max-height: 300px;\n",
       "    overflow: auto;\n",
       "  }\n",
       "  table, th, td {\n",
       "    border: 1px solid black;\n",
       "    border-collapse: collapse;\n",
       "  }\n",
       "  th, td {\n",
       "    padding: 5px;\n",
       "  }\n",
       "  th {\n",
       "    text-align: left;\n",
       "  }\n",
       "</style><div class='table-result-container'><table class='table-result'><thead style='background-color: white'><tr><th>day</th><th>avgPurchases</th></tr></thead><tbody><tr><td>19-01-1975</td><td>1039.43</td></tr><tr><td>18-01-1975</td><td>1038.79</td></tr></tbody></table></div>"
      ]
     },
     "metadata": {
      "application/vnd.databricks.v1+output": {
       "addedWidgets": {},
       "aggData": [],
       "aggError": "",
       "aggOverflow": false,
       "aggSchema": [],
       "aggSeriesLimitReached": false,
       "aggType": "",
       "arguments": {},
       "columnCustomDisplayInfos": {},
       "data": [
        [
         "19-01-1975",
         1039.43
        ],
        [
         "18-01-1975",
         1038.79
        ]
       ],
       "datasetInfos": [],
       "dbfsResultPath": null,
       "isJsonSchema": true,
       "overflow": false,
       "plotOptions": {
        "customPlotOptions": {
         "pieChart": [
          {
           "key": "donut",
           "value": false
          }
         ]
        },
        "displayType": "pieChart",
        "pivotAggregation": "sum",
        "pivotColumns": [],
        "xColumns": [
         "day"
        ],
        "yColumns": [
         "avgPurchases"
        ]
       },
       "removedWidgets": [],
       "schema": [
        {
         "metadata": "{}",
         "name": "day",
         "type": "\"string\""
        },
        {
         "metadata": "{}",
         "name": "avgPurchases",
         "type": "\"double\""
        }
       ],
       "type": "table"
      }
     },
     "output_type": "display_data"
    }
   ],
   "source": [
    "%sql\n",
    "SELECT\n",
    "  date_format(eventDate, \"D-MM-yyyy\") day,\n",
    "  ROUND(AVG(purchases),2) avgPurchases\n",
    "FROM\n",
    "  purchaseEvents\n",
    "  GROUP BY day\n",
    "  ORDER BY avgPurchases DESC"
   ]
  },
  {
   "cell_type": "markdown",
   "metadata": {
    "application/vnd.databricks.v1+cell": {
     "inputWidgets": {},
     "nuid": "44633e3d-c68b-4fd0-86d3-b04e6f524e3c",
     "showTitle": false,
     "title": ""
    }
   },
   "source": [
    "In average we see, that in these 2 days on 18 and 19 of Janyary 1975 year, we got the same percentage of purchases 50%50"
   ]
  },
  {
   "cell_type": "markdown",
   "metadata": {
    "application/vnd.databricks.v1+cell": {
     "inputWidgets": {},
     "nuid": "45a716de-ef83-4acc-b1eb-c69bba2b0df1",
     "showTitle": false,
     "title": ""
    }
   },
   "source": [
    "#### Total purchases by state"
   ]
  },
  {
   "cell_type": "code",
   "execution_count": 0,
   "metadata": {
    "application/vnd.databricks.v1+cell": {
     "inputWidgets": {},
     "nuid": "637372a3-eb2a-4282-a864-881942516d0b",
     "showTitle": false,
     "title": ""
    }
   },
   "outputs": [
    {
     "data": {
      "text/html": [
       "<style scoped>\n",
       "  .table-result-container {\n",
       "    max-height: 300px;\n",
       "    overflow: auto;\n",
       "  }\n",
       "  table, th, td {\n",
       "    border: 1px solid black;\n",
       "    border-collapse: collapse;\n",
       "  }\n",
       "  th, td {\n",
       "    padding: 5px;\n",
       "  }\n",
       "  th {\n",
       "    text-align: left;\n",
       "  }\n",
       "</style><div class='table-result-container'><table class='table-result'><thead style='background-color: white'><tr><th>state</th><th>totalStatePurchases</th></tr></thead><tbody><tr><td>CA</td><td>3.40657909E7</td></tr><tr><td>TX</td><td>2.14288461E7</td></tr><tr><td>NY</td><td>1.1013716E7</td></tr><tr><td>FL</td><td>1.02343813E7</td></tr><tr><td>OH</td><td>7029893.5</td></tr><tr><td>IL</td><td>7015217.5</td></tr><tr><td>AZ</td><td>5294428.1</td></tr><tr><td>WA</td><td>5175375.3</td></tr><tr><td>MI</td><td>4929963.4</td></tr><tr><td>MN</td><td>4640197.7</td></tr><tr><td>NC</td><td>4355430.1</td></tr><tr><td>GA</td><td>4292803.8</td></tr><tr><td>MO</td><td>4150524.2</td></tr><tr><td>CO</td><td>3950792.7</td></tr><tr><td>IN</td><td>3873331.7</td></tr><tr><td>MA</td><td>3860097.4</td></tr><tr><td>WI</td><td>3271065.5</td></tr><tr><td>PA</td><td>3228608.0</td></tr><tr><td>TN</td><td>3092783.3</td></tr><tr><td>OR</td><td>2995221.4</td></tr><tr><td>UT</td><td>2915284.0</td></tr><tr><td>OK</td><td>2856595.1</td></tr><tr><td>AL</td><td>2773500.0</td></tr><tr><td>VA</td><td>2682962.1</td></tr><tr><td>KS</td><td>2460359.3</td></tr><tr><td>IA</td><td>2341482.5</td></tr><tr><td>NJ</td><td>2291651.0</td></tr><tr><td>AR</td><td>1984233.6</td></tr><tr><td>LA</td><td>1962983.8</td></tr><tr><td>NV</td><td>1696891.8</td></tr><tr><td>KY</td><td>1537664.2</td></tr><tr><td>NE</td><td>1453959.5</td></tr><tr><td>MS</td><td>1444250.3</td></tr><tr><td>SC</td><td>1385989.6</td></tr><tr><td>CT</td><td>1378260.3</td></tr><tr><td>NM</td><td>1327262.5</td></tr><tr><td>MD</td><td>1229884.7</td></tr><tr><td>ID</td><td>1170767.3</td></tr><tr><td>DC</td><td>695212.6</td></tr><tr><td>SD</td><td>570721.0</td></tr><tr><td>RI</td><td>558053.3</td></tr><tr><td>ND</td><td>547946.2</td></tr><tr><td>MT</td><td>507519.1</td></tr><tr><td>WV</td><td>462958.6</td></tr><tr><td>NH</td><td>450131.2</td></tr><tr><td>ME</td><td>392111.3</td></tr><tr><td>WY</td><td>335964.5</td></tr><tr><td>DE</td><td>172841.5</td></tr><tr><td>VT</td><td>133992.6</td></tr><tr><td>AK</td><td>123143.9</td></tr></tbody></table></div>"
      ]
     },
     "metadata": {
      "application/vnd.databricks.v1+output": {
       "addedWidgets": {},
       "aggData": [],
       "aggError": "",
       "aggOverflow": false,
       "aggSchema": [],
       "aggSeriesLimitReached": false,
       "aggType": "",
       "arguments": {},
       "columnCustomDisplayInfos": {},
       "data": [
        [
         "CA",
         34065790.9
        ],
        [
         "TX",
         21428846.1
        ],
        [
         "NY",
         11013716
        ],
        [
         "FL",
         10234381.3
        ],
        [
         "OH",
         7029893.5
        ],
        [
         "IL",
         7015217.5
        ],
        [
         "AZ",
         5294428.1
        ],
        [
         "WA",
         5175375.3
        ],
        [
         "MI",
         4929963.4
        ],
        [
         "MN",
         4640197.7
        ],
        [
         "NC",
         4355430.1
        ],
        [
         "GA",
         4292803.8
        ],
        [
         "MO",
         4150524.2
        ],
        [
         "CO",
         3950792.7
        ],
        [
         "IN",
         3873331.7
        ],
        [
         "MA",
         3860097.4
        ],
        [
         "WI",
         3271065.5
        ],
        [
         "PA",
         3228608
        ],
        [
         "TN",
         3092783.3
        ],
        [
         "OR",
         2995221.4
        ],
        [
         "UT",
         2915284
        ],
        [
         "OK",
         2856595.1
        ],
        [
         "AL",
         2773500
        ],
        [
         "VA",
         2682962.1
        ],
        [
         "KS",
         2460359.3
        ],
        [
         "IA",
         2341482.5
        ],
        [
         "NJ",
         2291651
        ],
        [
         "AR",
         1984233.6
        ],
        [
         "LA",
         1962983.8
        ],
        [
         "NV",
         1696891.8
        ],
        [
         "KY",
         1537664.2
        ],
        [
         "NE",
         1453959.5
        ],
        [
         "MS",
         1444250.3
        ],
        [
         "SC",
         1385989.6
        ],
        [
         "CT",
         1378260.3
        ],
        [
         "NM",
         1327262.5
        ],
        [
         "MD",
         1229884.7
        ],
        [
         "ID",
         1170767.3
        ],
        [
         "DC",
         695212.6
        ],
        [
         "SD",
         570721
        ],
        [
         "RI",
         558053.3
        ],
        [
         "ND",
         547946.2
        ],
        [
         "MT",
         507519.1
        ],
        [
         "WV",
         462958.6
        ],
        [
         "NH",
         450131.2
        ],
        [
         "ME",
         392111.3
        ],
        [
         "WY",
         335964.5
        ],
        [
         "DE",
         172841.5
        ],
        [
         "VT",
         133992.6
        ],
        [
         "AK",
         123143.9
        ]
       ],
       "datasetInfos": [],
       "dbfsResultPath": null,
       "isJsonSchema": true,
       "overflow": false,
       "plotOptions": {
        "customPlotOptions": {
         "plotlyBar": [
          {
           "key": "grouped",
           "value": true
          },
          {
           "key": "stacked",
           "value": false
          },
          {
           "key": "100_stacked",
           "value": false
          }
         ]
        },
        "displayType": "barChart",
        "pivotAggregation": "sum",
        "pivotColumns": [],
        "xColumns": [
         "state"
        ],
        "yColumns": [
         "totalStatePurchases"
        ]
       },
       "removedWidgets": [],
       "schema": [
        {
         "metadata": "{}",
         "name": "state",
         "type": "\"string\""
        },
        {
         "metadata": "{}",
         "name": "totalStatePurchases",
         "type": "\"double\""
        }
       ],
       "type": "table"
      }
     },
     "output_type": "display_data"
    }
   ],
   "source": [
    "%sql\n",
    "SELECT\n",
    "  state,\n",
    "  ROUND(SUM(purchases),2) totalStatePurchases\n",
    "FROM\n",
    "  purchaseEvents\n",
    "  GROUP BY state\n",
    "  ORDER BY totalStatePurchases DESC"
   ]
  },
  {
   "cell_type": "markdown",
   "metadata": {
    "application/vnd.databricks.v1+cell": {
     "inputWidgets": {},
     "nuid": "302c7a7e-0357-4c5d-84bd-145df407587c",
     "showTitle": false,
     "title": ""
    }
   },
   "source": [
    "On the plot above we see that the Top 3 leaders are: California (34M), Texas(21.4M) and New York (11M)\n",
    "The top 3 losers are: Delaware, Vermont and the last one is Alaska"
   ]
  },
  {
   "cell_type": "markdown",
   "metadata": {
    "application/vnd.databricks.v1+cell": {
     "inputWidgets": {},
     "nuid": "0086342d-8b42-4ebe-8741-862c8065e09d",
     "showTitle": false,
     "title": ""
    }
   },
   "source": [
    "#### Any other patterns you can find in the data"
   ]
  },
  {
   "cell_type": "code",
   "execution_count": 0,
   "metadata": {
    "application/vnd.databricks.v1+cell": {
     "inputWidgets": {},
     "nuid": "ae0073de-d5ac-42c9-b39e-81c5bbb594e6",
     "showTitle": false,
     "title": ""
    }
   },
   "outputs": [
    {
     "data": {
      "text/html": [
       "<style scoped>\n",
       "  .table-result-container {\n",
       "    max-height: 300px;\n",
       "    overflow: auto;\n",
       "  }\n",
       "  table, th, td {\n",
       "    border: 1px solid black;\n",
       "    border-collapse: collapse;\n",
       "  }\n",
       "  th, td {\n",
       "    padding: 5px;\n",
       "  }\n",
       "  th {\n",
       "    text-align: left;\n",
       "  }\n",
       "</style><div class='table-result-container'><table class='table-result'><thead style='background-color: white'><tr><th>numUniqUsers</th><th>totalStatePurchases</th><th>state</th></tr></thead><tbody><tr><td>32812</td><td>3.40657909E7</td><td>CA</td></tr><tr><td>20766</td><td>2.14288461E7</td><td>TX</td></tr><tr><td>10530</td><td>1.1013716E7</td><td>NY</td></tr><tr><td>9903</td><td>1.02343813E7</td><td>FL</td></tr><tr><td>6767</td><td>7029893.5</td><td>OH</td></tr><tr><td>6728</td><td>7015217.5</td><td>IL</td></tr><tr><td>5135</td><td>5294428.1</td><td>AZ</td></tr><tr><td>5003</td><td>5175375.3</td><td>WA</td></tr><tr><td>4747</td><td>4929963.4</td><td>MI</td></tr><tr><td>4447</td><td>4640197.7</td><td>MN</td></tr><tr><td>4159</td><td>4355430.1</td><td>NC</td></tr><tr><td>4075</td><td>4292803.8</td><td>GA</td></tr><tr><td>3965</td><td>4150524.2</td><td>MO</td></tr><tr><td>3807</td><td>3950792.7</td><td>CO</td></tr><tr><td>3744</td><td>3873331.7</td><td>IN</td></tr><tr><td>3717</td><td>3860097.4</td><td>MA</td></tr><tr><td>3141</td><td>3271065.5</td><td>WI</td></tr><tr><td>3088</td><td>3228608.0</td><td>PA</td></tr><tr><td>2933</td><td>3092783.3</td><td>TN</td></tr><tr><td>2856</td><td>2995221.4</td><td>OR</td></tr><tr><td>2819</td><td>2915284.0</td><td>UT</td></tr><tr><td>2729</td><td>2856595.1</td><td>OK</td></tr><tr><td>2667</td><td>2773500.0</td><td>AL</td></tr><tr><td>2610</td><td>2682962.1</td><td>VA</td></tr><tr><td>2341</td><td>2460359.3</td><td>KS</td></tr><tr><td>2259</td><td>2341482.5</td><td>IA</td></tr><tr><td>2208</td><td>2291651.0</td><td>NJ</td></tr><tr><td>1919</td><td>1984233.6</td><td>AR</td></tr><tr><td>1879</td><td>1962983.8</td><td>LA</td></tr><tr><td>1632</td><td>1696891.8</td><td>NV</td></tr><tr><td>1447</td><td>1537664.2</td><td>KY</td></tr><tr><td>1389</td><td>1453959.5</td><td>NE</td></tr><tr><td>1374</td><td>1444250.3</td><td>MS</td></tr><tr><td>1337</td><td>1385989.6</td><td>SC</td></tr><tr><td>1321</td><td>1378260.3</td><td>CT</td></tr><tr><td>1301</td><td>1327262.5</td><td>NM</td></tr><tr><td>1227</td><td>1229884.7</td><td>MD</td></tr><tr><td>1143</td><td>1170767.3</td><td>ID</td></tr><tr><td>677</td><td>695212.6</td><td>DC</td></tr><tr><td>534</td><td>570721.0</td><td>SD</td></tr><tr><td>535</td><td>558053.3</td><td>RI</td></tr><tr><td>536</td><td>547946.2</td><td>ND</td></tr><tr><td>484</td><td>507519.1</td><td>MT</td></tr><tr><td>456</td><td>462958.6</td><td>WV</td></tr><tr><td>431</td><td>450131.2</td><td>NH</td></tr><tr><td>374</td><td>392111.3</td><td>ME</td></tr><tr><td>327</td><td>335964.5</td><td>WY</td></tr><tr><td>163</td><td>172841.5</td><td>DE</td></tr><tr><td>120</td><td>133992.6</td><td>VT</td></tr><tr><td>116</td><td>123143.9</td><td>AK</td></tr></tbody></table></div>"
      ]
     },
     "metadata": {
      "application/vnd.databricks.v1+output": {
       "addedWidgets": {},
       "aggData": [],
       "aggError": "",
       "aggOverflow": false,
       "aggSchema": [],
       "aggSeriesLimitReached": false,
       "aggType": "",
       "arguments": {},
       "columnCustomDisplayInfos": {},
       "data": [
        [
         32812,
         34065790.9,
         "CA"
        ],
        [
         20766,
         21428846.1,
         "TX"
        ],
        [
         10530,
         11013716,
         "NY"
        ],
        [
         9903,
         10234381.3,
         "FL"
        ],
        [
         6767,
         7029893.5,
         "OH"
        ],
        [
         6728,
         7015217.5,
         "IL"
        ],
        [
         5135,
         5294428.1,
         "AZ"
        ],
        [
         5003,
         5175375.3,
         "WA"
        ],
        [
         4747,
         4929963.4,
         "MI"
        ],
        [
         4447,
         4640197.7,
         "MN"
        ],
        [
         4159,
         4355430.1,
         "NC"
        ],
        [
         4075,
         4292803.8,
         "GA"
        ],
        [
         3965,
         4150524.2,
         "MO"
        ],
        [
         3807,
         3950792.7,
         "CO"
        ],
        [
         3744,
         3873331.7,
         "IN"
        ],
        [
         3717,
         3860097.4,
         "MA"
        ],
        [
         3141,
         3271065.5,
         "WI"
        ],
        [
         3088,
         3228608,
         "PA"
        ],
        [
         2933,
         3092783.3,
         "TN"
        ],
        [
         2856,
         2995221.4,
         "OR"
        ],
        [
         2819,
         2915284,
         "UT"
        ],
        [
         2729,
         2856595.1,
         "OK"
        ],
        [
         2667,
         2773500,
         "AL"
        ],
        [
         2610,
         2682962.1,
         "VA"
        ],
        [
         2341,
         2460359.3,
         "KS"
        ],
        [
         2259,
         2341482.5,
         "IA"
        ],
        [
         2208,
         2291651,
         "NJ"
        ],
        [
         1919,
         1984233.6,
         "AR"
        ],
        [
         1879,
         1962983.8,
         "LA"
        ],
        [
         1632,
         1696891.8,
         "NV"
        ],
        [
         1447,
         1537664.2,
         "KY"
        ],
        [
         1389,
         1453959.5,
         "NE"
        ],
        [
         1374,
         1444250.3,
         "MS"
        ],
        [
         1337,
         1385989.6,
         "SC"
        ],
        [
         1321,
         1378260.3,
         "CT"
        ],
        [
         1301,
         1327262.5,
         "NM"
        ],
        [
         1227,
         1229884.7,
         "MD"
        ],
        [
         1143,
         1170767.3,
         "ID"
        ],
        [
         677,
         695212.6,
         "DC"
        ],
        [
         534,
         570721,
         "SD"
        ],
        [
         535,
         558053.3,
         "RI"
        ],
        [
         536,
         547946.2,
         "ND"
        ],
        [
         484,
         507519.1,
         "MT"
        ],
        [
         456,
         462958.6,
         "WV"
        ],
        [
         431,
         450131.2,
         "NH"
        ],
        [
         374,
         392111.3,
         "ME"
        ],
        [
         327,
         335964.5,
         "WY"
        ],
        [
         163,
         172841.5,
         "DE"
        ],
        [
         120,
         133992.6,
         "VT"
        ],
        [
         116,
         123143.9,
         "AK"
        ]
       ],
       "datasetInfos": [],
       "dbfsResultPath": null,
       "isJsonSchema": true,
       "overflow": false,
       "plotOptions": {
        "customPlotOptions": {},
        "displayType": "table",
        "pivotAggregation": null,
        "pivotColumns": null,
        "xColumns": null,
        "yColumns": null
       },
       "removedWidgets": [],
       "schema": [
        {
         "metadata": "{}",
         "name": "numUniqUsers",
         "type": "\"long\""
        },
        {
         "metadata": "{}",
         "name": "totalStatePurchases",
         "type": "\"double\""
        },
        {
         "metadata": "{}",
         "name": "state",
         "type": "\"string\""
        }
       ],
       "type": "table"
      }
     },
     "output_type": "display_data"
    }
   ],
   "source": [
    "%sql\n",
    "SELECT COUNT (userId) numUniqUsers, ROUND(SUM(purchases),2) totalStatePurchases, state\n",
    "FROM\n",
    "  purchaseEvents\n",
    "  GROUP BY state\n",
    "  ORDER BY totalStatePurchases DESC"
   ]
  },
  {
   "cell_type": "markdown",
   "metadata": {
    "application/vnd.databricks.v1+cell": {
     "inputWidgets": {},
     "nuid": "1e1acda8-d9de-47e5-b7b9-aec161a27d3e",
     "showTitle": false,
     "title": ""
    }
   },
   "source": [
    "From the table above we can see that there is a strong correlation between number of users in the state and amount of total state purchases: the more users - the bigger amount of total state purchases\n",
    "\n",
    "And here the plot to prove it:\n",
    "#### A total state purchases per user in each state"
   ]
  },
  {
   "cell_type": "code",
   "execution_count": 0,
   "metadata": {
    "application/vnd.databricks.v1+cell": {
     "inputWidgets": {},
     "nuid": "00796322-1737-4608-916e-12d6b3c4ac67",
     "showTitle": false,
     "title": ""
    }
   },
   "outputs": [
    {
     "data": {
      "text/html": [
       "<style scoped>\n",
       "  .table-result-container {\n",
       "    max-height: 300px;\n",
       "    overflow: auto;\n",
       "  }\n",
       "  table, th, td {\n",
       "    border: 1px solid black;\n",
       "    border-collapse: collapse;\n",
       "  }\n",
       "  th, td {\n",
       "    padding: 5px;\n",
       "  }\n",
       "  th {\n",
       "    text-align: left;\n",
       "  }\n",
       "</style><div class='table-result-container'><table class='table-result'><thead style='background-color: white'><tr><th>purchasesPerUser</th><th>numUsers</th><th>totalStatePurchases</th><th>state</th></tr></thead><tbody><tr><td>1038.21</td><td>32812</td><td>3.40657909E7</td><td>CA</td></tr><tr><td>1031.92</td><td>20766</td><td>2.14288461E7</td><td>TX</td></tr><tr><td>1045.94</td><td>10530</td><td>1.1013716E7</td><td>NY</td></tr><tr><td>1033.46</td><td>9903</td><td>1.02343813E7</td><td>FL</td></tr><tr><td>1038.85</td><td>6767</td><td>7029893.5</td><td>OH</td></tr><tr><td>1042.69</td><td>6728</td><td>7015217.5</td><td>IL</td></tr><tr><td>1031.05</td><td>5135</td><td>5294428.1</td><td>AZ</td></tr><tr><td>1034.45</td><td>5003</td><td>5175375.3</td><td>WA</td></tr><tr><td>1038.54</td><td>4747</td><td>4929963.4</td><td>MI</td></tr><tr><td>1043.44</td><td>4447</td><td>4640197.7</td><td>MN</td></tr><tr><td>1047.23</td><td>4159</td><td>4355430.1</td><td>NC</td></tr><tr><td>1053.45</td><td>4075</td><td>4292803.8</td><td>GA</td></tr><tr><td>1046.79</td><td>3965</td><td>4150524.2</td><td>MO</td></tr><tr><td>1037.77</td><td>3807</td><td>3950792.7</td><td>CO</td></tr><tr><td>1034.54</td><td>3744</td><td>3873331.7</td><td>IN</td></tr><tr><td>1038.5</td><td>3717</td><td>3860097.4</td><td>MA</td></tr><tr><td>1041.41</td><td>3141</td><td>3271065.5</td><td>WI</td></tr><tr><td>1045.53</td><td>3088</td><td>3228608.0</td><td>PA</td></tr><tr><td>1054.48</td><td>2933</td><td>3092783.3</td><td>TN</td></tr><tr><td>1048.75</td><td>2856</td><td>2995221.4</td><td>OR</td></tr><tr><td>1034.16</td><td>2819</td><td>2915284.0</td><td>UT</td></tr><tr><td>1046.76</td><td>2729</td><td>2856595.1</td><td>OK</td></tr><tr><td>1039.93</td><td>2667</td><td>2773500.0</td><td>AL</td></tr><tr><td>1027.95</td><td>2610</td><td>2682962.1</td><td>VA</td></tr><tr><td>1050.99</td><td>2341</td><td>2460359.3</td><td>KS</td></tr><tr><td>1036.51</td><td>2259</td><td>2341482.5</td><td>IA</td></tr><tr><td>1037.89</td><td>2208</td><td>2291651.0</td><td>NJ</td></tr><tr><td>1033.99</td><td>1919</td><td>1984233.6</td><td>AR</td></tr><tr><td>1044.7</td><td>1879</td><td>1962983.8</td><td>LA</td></tr><tr><td>1039.76</td><td>1632</td><td>1696891.8</td><td>NV</td></tr><tr><td>1062.66</td><td>1447</td><td>1537664.2</td><td>KY</td></tr><tr><td>1046.77</td><td>1389</td><td>1453959.5</td><td>NE</td></tr><tr><td>1051.13</td><td>1374</td><td>1444250.3</td><td>MS</td></tr><tr><td>1036.64</td><td>1337</td><td>1385989.6</td><td>SC</td></tr><tr><td>1043.35</td><td>1321</td><td>1378260.3</td><td>CT</td></tr><tr><td>1020.19</td><td>1301</td><td>1327262.5</td><td>NM</td></tr><tr><td>1002.35</td><td>1227</td><td>1229884.7</td><td>MD</td></tr><tr><td>1024.29</td><td>1143</td><td>1170767.3</td><td>ID</td></tr><tr><td>1026.9</td><td>677</td><td>695212.6</td><td>DC</td></tr><tr><td>1068.77</td><td>534</td><td>570721.0</td><td>SD</td></tr><tr><td>1043.09</td><td>535</td><td>558053.3</td><td>RI</td></tr><tr><td>1022.29</td><td>536</td><td>547946.2</td><td>ND</td></tr><tr><td>1048.59</td><td>484</td><td>507519.1</td><td>MT</td></tr><tr><td>1015.26</td><td>456</td><td>462958.6</td><td>WV</td></tr><tr><td>1044.39</td><td>431</td><td>450131.2</td><td>NH</td></tr><tr><td>1048.43</td><td>374</td><td>392111.3</td><td>ME</td></tr><tr><td>1027.41</td><td>327</td><td>335964.5</td><td>WY</td></tr><tr><td>1060.38</td><td>163</td><td>172841.5</td><td>DE</td></tr><tr><td>1116.6</td><td>120</td><td>133992.6</td><td>VT</td></tr><tr><td>1061.59</td><td>116</td><td>123143.9</td><td>AK</td></tr></tbody></table></div>"
      ]
     },
     "metadata": {
      "application/vnd.databricks.v1+output": {
       "addedWidgets": {},
       "aggData": [],
       "aggError": "",
       "aggOverflow": false,
       "aggSchema": [],
       "aggSeriesLimitReached": false,
       "aggType": "",
       "arguments": {},
       "columnCustomDisplayInfos": {},
       "data": [
        [
         1038.21,
         32812,
         34065790.9,
         "CA"
        ],
        [
         1031.92,
         20766,
         21428846.1,
         "TX"
        ],
        [
         1045.94,
         10530,
         11013716,
         "NY"
        ],
        [
         1033.46,
         9903,
         10234381.3,
         "FL"
        ],
        [
         1038.85,
         6767,
         7029893.5,
         "OH"
        ],
        [
         1042.69,
         6728,
         7015217.5,
         "IL"
        ],
        [
         1031.05,
         5135,
         5294428.1,
         "AZ"
        ],
        [
         1034.45,
         5003,
         5175375.3,
         "WA"
        ],
        [
         1038.54,
         4747,
         4929963.4,
         "MI"
        ],
        [
         1043.44,
         4447,
         4640197.7,
         "MN"
        ],
        [
         1047.23,
         4159,
         4355430.1,
         "NC"
        ],
        [
         1053.45,
         4075,
         4292803.8,
         "GA"
        ],
        [
         1046.79,
         3965,
         4150524.2,
         "MO"
        ],
        [
         1037.77,
         3807,
         3950792.7,
         "CO"
        ],
        [
         1034.54,
         3744,
         3873331.7,
         "IN"
        ],
        [
         1038.5,
         3717,
         3860097.4,
         "MA"
        ],
        [
         1041.41,
         3141,
         3271065.5,
         "WI"
        ],
        [
         1045.53,
         3088,
         3228608,
         "PA"
        ],
        [
         1054.48,
         2933,
         3092783.3,
         "TN"
        ],
        [
         1048.75,
         2856,
         2995221.4,
         "OR"
        ],
        [
         1034.16,
         2819,
         2915284,
         "UT"
        ],
        [
         1046.76,
         2729,
         2856595.1,
         "OK"
        ],
        [
         1039.93,
         2667,
         2773500,
         "AL"
        ],
        [
         1027.95,
         2610,
         2682962.1,
         "VA"
        ],
        [
         1050.99,
         2341,
         2460359.3,
         "KS"
        ],
        [
         1036.51,
         2259,
         2341482.5,
         "IA"
        ],
        [
         1037.89,
         2208,
         2291651,
         "NJ"
        ],
        [
         1033.99,
         1919,
         1984233.6,
         "AR"
        ],
        [
         1044.7,
         1879,
         1962983.8,
         "LA"
        ],
        [
         1039.76,
         1632,
         1696891.8,
         "NV"
        ],
        [
         1062.66,
         1447,
         1537664.2,
         "KY"
        ],
        [
         1046.77,
         1389,
         1453959.5,
         "NE"
        ],
        [
         1051.13,
         1374,
         1444250.3,
         "MS"
        ],
        [
         1036.64,
         1337,
         1385989.6,
         "SC"
        ],
        [
         1043.35,
         1321,
         1378260.3,
         "CT"
        ],
        [
         1020.19,
         1301,
         1327262.5,
         "NM"
        ],
        [
         1002.35,
         1227,
         1229884.7,
         "MD"
        ],
        [
         1024.29,
         1143,
         1170767.3,
         "ID"
        ],
        [
         1026.9,
         677,
         695212.6,
         "DC"
        ],
        [
         1068.77,
         534,
         570721,
         "SD"
        ],
        [
         1043.09,
         535,
         558053.3,
         "RI"
        ],
        [
         1022.29,
         536,
         547946.2,
         "ND"
        ],
        [
         1048.59,
         484,
         507519.1,
         "MT"
        ],
        [
         1015.26,
         456,
         462958.6,
         "WV"
        ],
        [
         1044.39,
         431,
         450131.2,
         "NH"
        ],
        [
         1048.43,
         374,
         392111.3,
         "ME"
        ],
        [
         1027.41,
         327,
         335964.5,
         "WY"
        ],
        [
         1060.38,
         163,
         172841.5,
         "DE"
        ],
        [
         1116.6,
         120,
         133992.6,
         "VT"
        ],
        [
         1061.59,
         116,
         123143.9,
         "AK"
        ]
       ],
       "datasetInfos": [],
       "dbfsResultPath": null,
       "isJsonSchema": true,
       "overflow": false,
       "plotOptions": {
        "customPlotOptions": {},
        "displayType": "barChart",
        "pivotAggregation": null,
        "pivotColumns": null,
        "xColumns": null,
        "yColumns": null
       },
       "removedWidgets": [],
       "schema": [
        {
         "metadata": "{}",
         "name": "purchasesPerUser",
         "type": "\"double\""
        },
        {
         "metadata": "{}",
         "name": "numUsers",
         "type": "\"long\""
        },
        {
         "metadata": "{}",
         "name": "totalStatePurchases",
         "type": "\"double\""
        },
        {
         "metadata": "{}",
         "name": "state",
         "type": "\"string\""
        }
       ],
       "type": "table"
      }
     },
     "output_type": "display_data"
    }
   ],
   "source": [
    "%sql\n",
    "SELECT \n",
    "  ROUND(SUM(purchases)/COUNT (userId),2) purchasesPerUser,\n",
    "  COUNT (userId) numUsers, \n",
    "  ROUND(SUM(purchases),2) totalStatePurchases, \n",
    "  state\n",
    "FROM\n",
    "  purchaseEvents\n",
    "  GROUP BY state\n",
    "  ORDER BY totalStatePurchases DESC"
   ]
  },
  {
   "cell_type": "markdown",
   "metadata": {
    "application/vnd.databricks.v1+cell": {
     "inputWidgets": {},
     "nuid": "d677aaeb-128e-4ce4-b20d-86177c860422",
     "showTitle": false,
     "title": ""
    }
   },
   "source": [
    "Well, this plot shows that purchases per user in each state in average are the same"
   ]
  },
  {
   "cell_type": "markdown",
   "metadata": {
    "application/vnd.databricks.v1+cell": {
     "inputWidgets": {},
     "nuid": "b300aece-95ff-4259-a826-53915137cf4d",
     "showTitle": false,
     "title": ""
    }
   },
   "source": [
    "#### Join your table with the data at the path listed below to get list of customers with confirmed email addresses\n",
    "\n",
    "<img alt=\"Side Note\" title=\"Side Note\" style=\"vertical-align: text-bottom; position: relative; height:1.75em; top:0.05em; transform:rotate(15deg)\" src=\"https://files.training.databricks.com/static/images/icon-note.webp\"/> Access the data that holds user email addresses. You can read the data from this path: `/mnt/training/ecommerce/users/users.parquet`"
   ]
  },
  {
   "cell_type": "markdown",
   "metadata": {
    "application/vnd.databricks.v1+cell": {
     "inputWidgets": {},
     "nuid": "8232bec4-704a-4685-85ce-a7d2012bbb97",
     "showTitle": false,
     "title": ""
    }
   },
   "source": [
    "#### At first we will read the data from the sourse link and will create the table"
   ]
  },
  {
   "cell_type": "code",
   "execution_count": 0,
   "metadata": {
    "application/vnd.databricks.v1+cell": {
     "inputWidgets": {},
     "nuid": "8737449f-be24-4c8e-9495-73e12a509116",
     "showTitle": false,
     "title": ""
    }
   },
   "outputs": [
    {
     "data": {
      "text/html": [
       "<style scoped>\n",
       "  .table-result-container {\n",
       "    max-height: 300px;\n",
       "    overflow: auto;\n",
       "  }\n",
       "  table, th, td {\n",
       "    border: 1px solid black;\n",
       "    border-collapse: collapse;\n",
       "  }\n",
       "  th, td {\n",
       "    padding: 5px;\n",
       "  }\n",
       "  th {\n",
       "    text-align: left;\n",
       "  }\n",
       "</style><div class='table-result-container'><table class='table-result'><thead style='background-color: white'><tr></tr></thead><tbody></tbody></table></div>"
      ]
     },
     "metadata": {
      "application/vnd.databricks.v1+output": {
       "addedWidgets": {},
       "aggData": [],
       "aggError": "",
       "aggOverflow": false,
       "aggSchema": [],
       "aggSeriesLimitReached": false,
       "aggType": "",
       "arguments": {},
       "columnCustomDisplayInfos": {},
       "data": [],
       "datasetInfos": [],
       "dbfsResultPath": null,
       "isJsonSchema": true,
       "overflow": false,
       "plotOptions": {
        "customPlotOptions": {},
        "displayType": "table",
        "pivotAggregation": null,
        "pivotColumns": null,
        "xColumns": null,
        "yColumns": null
       },
       "removedWidgets": [],
       "schema": [],
       "type": "table"
      }
     },
     "output_type": "display_data"
    }
   ],
   "source": [
    "%sql\n",
    "DROP TABLE IF EXISTS emailAddresses;\n",
    "CREATE TABLE emailAddresses\n",
    "USING parquet\n",
    "OPTIONS (\n",
    "PATH \"/mnt/training/ecommerce/users/users.parquet\",\n",
    "header \"true\")"
   ]
  },
  {
   "cell_type": "markdown",
   "metadata": {
    "application/vnd.databricks.v1+cell": {
     "inputWidgets": {},
     "nuid": "e8ca6884-c65f-4641-b407-ffab6e8a5e3d",
     "showTitle": false,
     "title": ""
    }
   },
   "source": [
    "#### Let's see what kind of data we have in the new table:"
   ]
  },
  {
   "cell_type": "code",
   "execution_count": 0,
   "metadata": {
    "application/vnd.databricks.v1+cell": {
     "inputWidgets": {},
     "nuid": "1d47465f-0396-47ca-b84c-15f0b5305280",
     "showTitle": false,
     "title": ""
    }
   },
   "outputs": [
    {
     "data": {
      "text/html": [
       "<style scoped>\n",
       "  .table-result-container {\n",
       "    max-height: 300px;\n",
       "    overflow: auto;\n",
       "  }\n",
       "  table, th, td {\n",
       "    border: 1px solid black;\n",
       "    border-collapse: collapse;\n",
       "  }\n",
       "  th, td {\n",
       "    padding: 5px;\n",
       "  }\n",
       "  th {\n",
       "    text-align: left;\n",
       "  }\n",
       "</style><div class='table-result-container'><table class='table-result'><thead style='background-color: white'><tr><th>col_name</th><th>data_type</th><th>comment</th></tr></thead><tbody><tr><td>user_id</td><td>string</td><td>null</td></tr><tr><td>user_first_touch_timestamp</td><td>bigint</td><td>null</td></tr><tr><td>email</td><td>string</td><td>null</td></tr><tr><td></td><td></td><td></td></tr><tr><td># Detailed Table Information</td><td></td><td></td></tr><tr><td>Database</td><td>default</td><td></td></tr><tr><td>Table</td><td>emailaddresses</td><td></td></tr><tr><td>Owner</td><td>root</td><td></td></tr><tr><td>Created Time</td><td>Sat Dec 05 15:04:34 UTC 2020</td><td></td></tr><tr><td>Last Access</td><td>UNKNOWN</td><td></td></tr><tr><td>Created By</td><td>Spark 3.0.1</td><td></td></tr><tr><td>Type</td><td>EXTERNAL</td><td></td></tr><tr><td>Provider</td><td>parquet</td><td></td></tr><tr><td>Location</td><td>dbfs:/mnt/training/ecommerce/users/users.parquet</td><td></td></tr><tr><td>Serde Library</td><td>org.apache.hadoop.hive.ql.io.parquet.serde.ParquetHiveSerDe</td><td></td></tr><tr><td>InputFormat</td><td>org.apache.hadoop.hive.ql.io.parquet.MapredParquetInputFormat</td><td></td></tr><tr><td>OutputFormat</td><td>org.apache.hadoop.hive.ql.io.parquet.MapredParquetOutputFormat</td><td></td></tr><tr><td>Storage Properties</td><td>[header=true]</td><td></td></tr></tbody></table></div>"
      ]
     },
     "metadata": {
      "application/vnd.databricks.v1+output": {
       "addedWidgets": {},
       "aggData": [],
       "aggError": "",
       "aggOverflow": false,
       "aggSchema": [],
       "aggSeriesLimitReached": false,
       "aggType": "",
       "arguments": {},
       "columnCustomDisplayInfos": {},
       "data": [
        [
         "user_id",
         "string",
         null
        ],
        [
         "user_first_touch_timestamp",
         "bigint",
         null
        ],
        [
         "email",
         "string",
         null
        ],
        [
         "",
         "",
         ""
        ],
        [
         "# Detailed Table Information",
         "",
         ""
        ],
        [
         "Database",
         "default",
         ""
        ],
        [
         "Table",
         "emailaddresses",
         ""
        ],
        [
         "Owner",
         "root",
         ""
        ],
        [
         "Created Time",
         "Sat Dec 05 15:04:34 UTC 2020",
         ""
        ],
        [
         "Last Access",
         "UNKNOWN",
         ""
        ],
        [
         "Created By",
         "Spark 3.0.1",
         ""
        ],
        [
         "Type",
         "EXTERNAL",
         ""
        ],
        [
         "Provider",
         "parquet",
         ""
        ],
        [
         "Location",
         "dbfs:/mnt/training/ecommerce/users/users.parquet",
         ""
        ],
        [
         "Serde Library",
         "org.apache.hadoop.hive.ql.io.parquet.serde.ParquetHiveSerDe",
         ""
        ],
        [
         "InputFormat",
         "org.apache.hadoop.hive.ql.io.parquet.MapredParquetInputFormat",
         ""
        ],
        [
         "OutputFormat",
         "org.apache.hadoop.hive.ql.io.parquet.MapredParquetOutputFormat",
         ""
        ],
        [
         "Storage Properties",
         "[header=true]",
         ""
        ]
       ],
       "datasetInfos": [],
       "dbfsResultPath": null,
       "isJsonSchema": true,
       "overflow": false,
       "plotOptions": {
        "customPlotOptions": {},
        "displayType": "table",
        "pivotAggregation": null,
        "pivotColumns": null,
        "xColumns": null,
        "yColumns": null
       },
       "removedWidgets": [],
       "schema": [
        {
         "metadata": "{\"comment\":\"name of the column\"}",
         "name": "col_name",
         "type": "\"string\""
        },
        {
         "metadata": "{\"comment\":\"data type of the column\"}",
         "name": "data_type",
         "type": "\"string\""
        },
        {
         "metadata": "{\"comment\":\"comment of the column\"}",
         "name": "comment",
         "type": "\"string\""
        }
       ],
       "type": "table"
      }
     },
     "output_type": "display_data"
    }
   ],
   "source": [
    "%sql\n",
    "DESCRIBE EXTENDED emailAddresses;"
   ]
  },
  {
   "cell_type": "markdown",
   "metadata": {
    "application/vnd.databricks.v1+cell": {
     "inputWidgets": {},
     "nuid": "753f5473-87f9-4072-abbe-f8b24c408003",
     "showTitle": false,
     "title": ""
    }
   },
   "source": [
    "Let's check \n",
    "##### length of table `emailAddresses`:"
   ]
  },
  {
   "cell_type": "code",
   "execution_count": 0,
   "metadata": {
    "application/vnd.databricks.v1+cell": {
     "inputWidgets": {},
     "nuid": "efcc1c99-6269-41c0-9f24-2658b99be219",
     "showTitle": false,
     "title": ""
    }
   },
   "outputs": [
    {
     "data": {
      "text/html": [
       "<style scoped>\n",
       "  .table-result-container {\n",
       "    max-height: 300px;\n",
       "    overflow: auto;\n",
       "  }\n",
       "  table, th, td {\n",
       "    border: 1px solid black;\n",
       "    border-collapse: collapse;\n",
       "  }\n",
       "  th, td {\n",
       "    padding: 5px;\n",
       "  }\n",
       "  th {\n",
       "    text-align: left;\n",
       "  }\n",
       "</style><div class='table-result-container'><table class='table-result'><thead style='background-color: white'><tr><th>count(email)</th></tr></thead><tbody><tr><td>782749</td></tr></tbody></table></div>"
      ]
     },
     "metadata": {
      "application/vnd.databricks.v1+output": {
       "addedWidgets": {},
       "aggData": [],
       "aggError": "",
       "aggOverflow": false,
       "aggSchema": [],
       "aggSeriesLimitReached": false,
       "aggType": "",
       "arguments": {},
       "columnCustomDisplayInfos": {},
       "data": [
        [
         782749
        ]
       ],
       "datasetInfos": [],
       "dbfsResultPath": null,
       "isJsonSchema": true,
       "overflow": false,
       "plotOptions": {
        "customPlotOptions": {},
        "displayType": "table",
        "pivotAggregation": null,
        "pivotColumns": null,
        "xColumns": null,
        "yColumns": null
       },
       "removedWidgets": [],
       "schema": [
        {
         "metadata": "{}",
         "name": "count(email)",
         "type": "\"long\""
        }
       ],
       "type": "table"
      }
     },
     "output_type": "display_data"
    }
   ],
   "source": [
    "%sql\n",
    "SELECT COUNT(email) \n",
    "FROM  emailAddresses\n",
    "WHERE email IS NOT null;"
   ]
  },
  {
   "cell_type": "markdown",
   "metadata": {
    "application/vnd.databricks.v1+cell": {
     "inputWidgets": {},
     "nuid": "07883669-5fcb-41ff-b482-6a1b1cb8ac15",
     "showTitle": false,
     "title": ""
    }
   },
   "source": [
    "##### count of user id from `emailAddresses` table"
   ]
  },
  {
   "cell_type": "code",
   "execution_count": 0,
   "metadata": {
    "application/vnd.databricks.v1+cell": {
     "inputWidgets": {},
     "nuid": "d2e640fb-247a-4eaa-9e69-063c05c40687",
     "showTitle": false,
     "title": ""
    }
   },
   "outputs": [
    {
     "data": {
      "text/html": [
       "<style scoped>\n",
       "  .table-result-container {\n",
       "    max-height: 300px;\n",
       "    overflow: auto;\n",
       "  }\n",
       "  table, th, td {\n",
       "    border: 1px solid black;\n",
       "    border-collapse: collapse;\n",
       "  }\n",
       "  th, td {\n",
       "    padding: 5px;\n",
       "  }\n",
       "  th {\n",
       "    text-align: left;\n",
       "  }\n",
       "</style><div class='table-result-container'><table class='table-result'><thead style='background-color: white'><tr><th>count(user_id)</th></tr></thead><tbody><tr><td>5025947</td></tr></tbody></table></div>"
      ]
     },
     "metadata": {
      "application/vnd.databricks.v1+output": {
       "addedWidgets": {},
       "aggData": [],
       "aggError": "",
       "aggOverflow": false,
       "aggSchema": [],
       "aggSeriesLimitReached": false,
       "aggType": "",
       "arguments": {},
       "columnCustomDisplayInfos": {},
       "data": [
        [
         5025947
        ]
       ],
       "datasetInfos": [],
       "dbfsResultPath": null,
       "isJsonSchema": true,
       "overflow": false,
       "plotOptions": {
        "customPlotOptions": {},
        "displayType": "table",
        "pivotAggregation": null,
        "pivotColumns": null,
        "xColumns": null,
        "yColumns": null
       },
       "removedWidgets": [],
       "schema": [
        {
         "metadata": "{}",
         "name": "count(user_id)",
         "type": "\"long\""
        }
       ],
       "type": "table"
      }
     },
     "output_type": "display_data"
    }
   ],
   "source": [
    "%sql\n",
    "SELECT  \n",
    "COUNT(user_id )\n",
    "FROM  emailAddresses;\n"
   ]
  },
  {
   "cell_type": "markdown",
   "metadata": {
    "application/vnd.databricks.v1+cell": {
     "inputWidgets": {},
     "nuid": "293032e5-955f-4098-b314-c7e04c167433",
     "showTitle": false,
     "title": ""
    }
   },
   "source": [
    "##### count of user id from `purchaseEvents` table"
   ]
  },
  {
   "cell_type": "code",
   "execution_count": 0,
   "metadata": {
    "application/vnd.databricks.v1+cell": {
     "inputWidgets": {},
     "nuid": "4f8a8e22-6032-4187-abc3-db360e496bab",
     "showTitle": false,
     "title": ""
    }
   },
   "outputs": [
    {
     "data": {
      "text/html": [
       "<style scoped>\n",
       "  .table-result-container {\n",
       "    max-height: 300px;\n",
       "    overflow: auto;\n",
       "  }\n",
       "  table, th, td {\n",
       "    border: 1px solid black;\n",
       "    border-collapse: collapse;\n",
       "  }\n",
       "  th, td {\n",
       "    padding: 5px;\n",
       "  }\n",
       "  th {\n",
       "    text-align: left;\n",
       "  }\n",
       "</style><div class='table-result-container'><table class='table-result'><thead style='background-color: white'><tr><th>count(userId)</th></tr></thead><tbody><tr><td>180678</td></tr></tbody></table></div>"
      ]
     },
     "metadata": {
      "application/vnd.databricks.v1+output": {
       "addedWidgets": {},
       "aggData": [],
       "aggError": "",
       "aggOverflow": false,
       "aggSchema": [],
       "aggSeriesLimitReached": false,
       "aggType": "",
       "arguments": {},
       "columnCustomDisplayInfos": {},
       "data": [
        [
         180678
        ]
       ],
       "datasetInfos": [],
       "dbfsResultPath": null,
       "isJsonSchema": true,
       "overflow": false,
       "plotOptions": {
        "customPlotOptions": {},
        "displayType": "table",
        "pivotAggregation": null,
        "pivotColumns": null,
        "xColumns": null,
        "yColumns": null
       },
       "removedWidgets": [],
       "schema": [
        {
         "metadata": "{}",
         "name": "count(userId)",
         "type": "\"long\""
        }
       ],
       "type": "table"
      }
     },
     "output_type": "display_data"
    }
   ],
   "source": [
    "%sql\n",
    "SELECT COUNT(userId)\n",
    "FROM purchaseEvents"
   ]
  },
  {
   "cell_type": "markdown",
   "metadata": {
    "application/vnd.databricks.v1+cell": {
     "inputWidgets": {},
     "nuid": "cd089736-a755-46b7-8f67-da4d0a801b9e",
     "showTitle": false,
     "title": ""
    }
   },
   "source": [
    "Lengh of tables is different, thus we will use right Join\n",
    "\n",
    "\n",
    "Now we will merge 2 tables on userId with email column"
   ]
  },
  {
   "cell_type": "code",
   "execution_count": 0,
   "metadata": {
    "application/vnd.databricks.v1+cell": {
     "inputWidgets": {},
     "nuid": "082701a9-42ef-4c8b-aebf-5f6714ea2492",
     "showTitle": false,
     "title": ""
    }
   },
   "outputs": [
    {
     "data": {
      "text/html": [
       "<style scoped>\n",
       "  .table-result-container {\n",
       "    max-height: 300px;\n",
       "    overflow: auto;\n",
       "  }\n",
       "  table, th, td {\n",
       "    border: 1px solid black;\n",
       "    border-collapse: collapse;\n",
       "  }\n",
       "  th, td {\n",
       "    padding: 5px;\n",
       "  }\n",
       "  th {\n",
       "    text-align: left;\n",
       "  }\n",
       "</style><div class='table-result-container'><table class='table-result'><thead style='background-color: white'><tr></tr></thead><tbody></tbody></table></div>"
      ]
     },
     "metadata": {
      "application/vnd.databricks.v1+output": {
       "addedWidgets": {},
       "aggData": [],
       "aggError": "",
       "aggOverflow": false,
       "aggSchema": [],
       "aggSeriesLimitReached": false,
       "aggType": "",
       "arguments": {},
       "columnCustomDisplayInfos": {},
       "data": [],
       "datasetInfos": [],
       "dbfsResultPath": null,
       "isJsonSchema": true,
       "overflow": false,
       "plotOptions": {
        "customPlotOptions": {},
        "displayType": "table",
        "pivotAggregation": null,
        "pivotColumns": null,
        "xColumns": null,
        "yColumns": null
       },
       "removedWidgets": [],
       "schema": [],
       "type": "table"
      }
     },
     "output_type": "display_data"
    }
   ],
   "source": [
    "%sql\n",
    "DROP TABLE IF EXISTS withEmails;\n",
    "CREATE TABLE withEmails\n",
    "AS\n",
    "  SELECT \n",
    "  eventDate,\n",
    "  previousEventDate,\n",
    "  city,\n",
    "  state,\n",
    "  purchases, \n",
    "  userId,\n",
    "  email\n",
    "  FROM emailAddresses \n",
    "  RIGHT JOIN purchaseEvents \n",
    "  ON purchaseEvents.userId = emailAddresses.user_id\n",
    "  \n",
    "  "
   ]
  },
  {
   "cell_type": "markdown",
   "metadata": {
    "application/vnd.databricks.v1+cell": {
     "inputWidgets": {},
     "nuid": "32f4864c-551c-48d3-80b2-a3f7a176ed6b",
     "showTitle": false,
     "title": ""
    }
   },
   "source": [
    "##### The last check what we got: as we can see below, the column with emails is filled correct"
   ]
  },
  {
   "cell_type": "code",
   "execution_count": 0,
   "metadata": {
    "application/vnd.databricks.v1+cell": {
     "inputWidgets": {},
     "nuid": "59b5fc77-8362-47c9-a8c7-3a149b8e6b10",
     "showTitle": false,
     "title": ""
    }
   },
   "outputs": [
    {
     "data": {
      "text/html": [
       "<style scoped>\n",
       "  .table-result-container {\n",
       "    max-height: 300px;\n",
       "    overflow: auto;\n",
       "  }\n",
       "  table, th, td {\n",
       "    border: 1px solid black;\n",
       "    border-collapse: collapse;\n",
       "  }\n",
       "  th, td {\n",
       "    padding: 5px;\n",
       "  }\n",
       "  th {\n",
       "    text-align: left;\n",
       "  }\n",
       "</style><div class='table-result-container'><table class='table-result'><thead style='background-color: white'><tr><th>eventDate</th><th>previousEventDate</th><th>city</th><th>state</th><th>purchases</th><th>userId</th><th>email</th></tr></thead><tbody><tr><td>1975-01-18T06:46:46.619+0000</td><td>1975-01-18T06:44:37.492+0000</td><td>Bloomington</td><td>IN</td><td>1525.5</td><td>UA000000102361456</td><td>dramos@davis.info</td></tr><tr><td>1975-01-18T08:14:09.079+0000</td><td>1975-01-18T08:13:57.676+0000</td><td>Torrance</td><td>CA</td><td>940.5</td><td>UA000000102367094</td><td>ztran@hotmail.com</td></tr><tr><td>1975-01-18T07:59:58.169+0000</td><td>1975-01-18T07:59:19.763+0000</td><td>Lewisville</td><td>TX</td><td>1525.5</td><td>UA000000102368506</td><td>ncraig@byrd.net</td></tr><tr><td>1975-01-18T07:20:38.609+0000</td><td>1975-01-18T07:18:41.030+0000</td><td>Redding</td><td>CA</td><td>1075.5</td><td>UA000000102369818</td><td>justinpeterson@wang.net</td></tr><tr><td>1975-01-18T06:13:22.356+0000</td><td>1975-01-18T06:07:56.466+0000</td><td>Beaumont</td><td>TX</td><td>1075.5</td><td>UA000000102370013</td><td>lopezjulia@yahoo.com</td></tr><tr><td>1975-01-18T05:37:54.151+0000</td><td>1975-01-18T05:35:53.642+0000</td><td>Florida City</td><td>FL</td><td>1075.5</td><td>UA000000102376220</td><td>nnelson@rodriguez.org</td></tr><tr><td>1975-01-18T06:15:46.592+0000</td><td>1975-01-18T06:15:18.701+0000</td><td>Tacoma</td><td>WA</td><td>940.5</td><td>UA000000102380918</td><td>moniquemacdonald@bradley-manning.com</td></tr><tr><td>1975-01-18T06:18:33.656+0000</td><td>1975-01-18T06:18:14.439+0000</td><td>Rochester Hills</td><td>MI</td><td>107.10000000000001</td><td>UA000000102382462</td><td>lisa01@frank.biz</td></tr><tr><td>1975-01-18T05:28:52.648+0000</td><td>1975-01-18T05:28:47.547+0000</td><td>Hermosa Beach</td><td>CA</td><td>850.5</td><td>UA000000102385149</td><td>zachary30@holland.com</td></tr><tr><td>1975-01-18T09:23:11.788+0000</td><td>1975-01-18T09:22:02.811+0000</td><td>Waxahachie</td><td>TX</td><td>850.5</td><td>UA000000102387080</td><td>angelabarker@gmail.com</td></tr><tr><td>1975-01-18T05:44:41.996+0000</td><td>1975-01-18T05:43:58.499+0000</td><td>Shakopee</td><td>MN</td><td>1075.5</td><td>UA000000102391372</td><td>brittney05@moore.org</td></tr><tr><td>1975-01-18T05:32:02.235+0000</td><td>1975-01-18T05:31:38.707+0000</td><td>Kirbyville</td><td>TX</td><td>1615.5</td><td>UA000000102396461</td><td>brandon28@gmail.com</td></tr><tr><td>1975-01-18T06:30:06.155+0000</td><td>1975-01-18T06:29:55.123+0000</td><td>Houston</td><td>TX</td><td>535.5</td><td>UA000000102398473</td><td>cassandra3569@yahoo.com</td></tr><tr><td>1975-01-18T07:01:20.543+0000</td><td>1975-01-18T07:00:23.355+0000</td><td>Bellingham</td><td>WA</td><td>535.5</td><td>UA000000102399830</td><td>reidstanley@walker.biz</td></tr><tr><td>1975-01-18T06:05:19.044+0000</td><td>1975-01-18T06:05:17.758+0000</td><td>New York</td><td>NY</td><td>535.5</td><td>UA000000102399968</td><td>brandonhoward@oconnor.net</td></tr><tr><td>1975-01-18T06:44:18.822+0000</td><td>1975-01-18T06:44:18.169+0000</td><td>Clermont</td><td>FL</td><td>940.5</td><td>UA000000102403537</td><td>wsellers@campos-parker.com</td></tr><tr><td>1975-01-18T06:50:08.396+0000</td><td>1975-01-18T06:49:20.117+0000</td><td>Chicago</td><td>IL</td><td>985.5</td><td>UA000000102404065</td><td>khill@yahoo.com</td></tr><tr><td>1975-01-18T06:04:47.034+0000</td><td>1975-01-18T06:04:39.025+0000</td><td>Jacksonville</td><td>FL</td><td>1525.5</td><td>UA000000102413010</td><td>michaelwalters@yahoo.com</td></tr><tr><td>1975-01-18T06:37:23.052+0000</td><td>1975-01-18T06:37:22.798+0000</td><td>Sulphur</td><td>OK</td><td>535.5</td><td>UA000000102416968</td><td>buckstacey@frazier.com</td></tr><tr><td>1975-01-18T06:43:49.140+0000</td><td>1975-01-18T06:42:40.301+0000</td><td>Fort Worth</td><td>TX</td><td>1075.5</td><td>UA000000102423557</td><td>tneal@mcfarland.info</td></tr><tr><td>1975-01-18T06:48:57.980+0000</td><td>1975-01-18T06:47:25.108+0000</td><td>Camden</td><td>NJ</td><td>107.10000000000001</td><td>UA000000102434875</td><td>blanchardalexander@adams.com</td></tr><tr><td>1975-01-18T06:03:14.604+0000</td><td>1975-01-18T06:03:07.109+0000</td><td>Richland</td><td>MS</td><td>606.6</td><td>UA000000102436921</td><td>navarromelissa@reeves-berry.info</td></tr><tr><td>1975-01-18T06:11:59.969+0000</td><td>1975-01-18T06:11:24.165+0000</td><td>Los Angeles</td><td>CA</td><td>535.5</td><td>UA000000102439111</td><td>aprilnguyen@howell-duran.com</td></tr><tr><td>1975-01-18T07:33:22.031+0000</td><td>1975-01-18T07:31:05.311+0000</td><td>Lima</td><td>OH</td><td>940.5</td><td>UA000000102439346</td><td>boothrebecca@gmail.com</td></tr><tr><td>1975-01-18T05:16:29.298+0000</td><td>1975-01-18T05:16:28.776+0000</td><td>High Point</td><td>NC</td><td>1615.5</td><td>UA000000102440526</td><td>zdavidson@colon-clark.com</td></tr><tr><td>1975-01-18T06:02:13.135+0000</td><td>1975-01-18T06:01:47.677+0000</td><td>New Orleans</td><td>LA</td><td>850.5</td><td>UA000000102441118</td><td>ghanna@garcia.com</td></tr><tr><td>1975-01-18T09:41:02.700+0000</td><td>1975-01-18T09:41:01.406+0000</td><td>Long Beach</td><td>CA</td><td>940.5</td><td>UA000000102441930</td><td>iyang@yahoo.com</td></tr><tr><td>1975-01-18T09:06:56.039+0000</td><td>1975-01-18T09:06:37.883+0000</td><td>Grand Forks</td><td>ND</td><td>1476.0</td><td>UA000000102442724</td><td>whitney36@hayes-griffith.info</td></tr><tr><td>1975-01-18T06:34:21.395+0000</td><td>1975-01-18T06:34:11.896+0000</td><td>New Baltimore</td><td>MI</td><td>940.5</td><td>UA000000102448693</td><td>rbaker@valdez-vargas.com</td></tr><tr><td>1975-01-18T07:53:26.943+0000</td><td>1975-01-18T07:52:53.889+0000</td><td>Memphis</td><td>TN</td><td>535.5</td><td>UA000000102449054</td><td>nguyendiana@wilson.info</td></tr><tr><td>1975-01-18T05:30:36.927+0000</td><td>1975-01-18T05:25:26.894+0000</td><td>Dover</td><td>DE</td><td>2871.0</td><td>UA000000102451466</td><td>mcdonaldryan@hotmail.com</td></tr><tr><td>1975-01-18T09:38:19.906+0000</td><td>1975-01-18T09:36:45.450+0000</td><td>Burlington</td><td>VT</td><td>2871.0</td><td>UA000000102453056</td><td>llewis@johnson.com</td></tr><tr><td>1975-01-18T05:50:51.459+0000</td><td>1975-01-18T05:50:31.530+0000</td><td>Harrisburg</td><td>PA</td><td>985.5</td><td>UA000000102456593</td><td>rmurray@hall.net</td></tr><tr><td>1975-01-18T05:16:00.960+0000</td><td>1975-01-18T05:14:57.059+0000</td><td>Mound</td><td>MN</td><td>535.5</td><td>UA000000102460682</td><td>janicetucker@hernandez.biz</td></tr><tr><td>1975-01-18T05:50:22.542+0000</td><td>1975-01-18T05:49:04.925+0000</td><td>Elizabeth</td><td>NJ</td><td>535.5</td><td>UA000000102462424</td><td>jonathonbeasley@johnson.org</td></tr><tr><td>1975-01-18T08:04:41.816+0000</td><td>1975-01-18T08:03:23.319+0000</td><td>Burlingame</td><td>CA</td><td>940.5</td><td>UA000000102465733</td><td>mercadoandrew@riley-key.com</td></tr><tr><td>1975-01-18T07:41:46.477+0000</td><td>1975-01-18T07:38:50.297+0000</td><td>North Canton</td><td>OH</td><td>985.5</td><td>UA000000102468790</td><td>peterwilliams@holmes-gonzalez.com</td></tr><tr><td>1975-01-18T06:40:44.671+0000</td><td>1975-01-18T06:40:42.235+0000</td><td>Redlands</td><td>CA</td><td>107.10000000000001</td><td>UA000000102469436</td><td>barbaragraves@powell.com</td></tr><tr><td>1975-01-18T08:20:35.918+0000</td><td>1975-01-18T08:20:35.531+0000</td><td>Columbus</td><td>OH</td><td>1525.5</td><td>UA000000102469763</td><td>scollins@little.org</td></tr><tr><td>1975-01-18T07:34:37.935+0000</td><td>1975-01-18T07:34:34.613+0000</td><td>Waco</td><td>TX</td><td>1075.5</td><td>UA000000102470389</td><td>boydwilliam@lawrence.net</td></tr><tr><td>1975-01-18T06:40:33.352+0000</td><td>1975-01-18T06:39:29.959+0000</td><td>Oceanside</td><td>CA</td><td>1075.5</td><td>UA000000102470546</td><td>nicholsrobert@ramirez-woods.com</td></tr><tr><td>1975-01-18T05:19:33.288+0000</td><td>1975-01-18T05:18:50.240+0000</td><td>Seymour</td><td>IN</td><td>985.5</td><td>UA000000102470674</td><td>cynthiavega@hotmail.com</td></tr><tr><td>1975-01-18T06:10:36.608+0000</td><td>1975-01-18T06:10:35.245+0000</td><td>Conway</td><td>SC</td><td>1075.5</td><td>UA000000102471394</td><td>nicholas70@fisher-jackson.com</td></tr><tr><td>1975-01-18T07:30:47.262+0000</td><td>1975-01-18T07:27:18.330+0000</td><td>Escondido</td><td>CA</td><td>940.5</td><td>UA000000102477732</td><td>marcus81@gmail.com</td></tr><tr><td>1975-01-18T06:46:07.049+0000</td><td>1975-01-18T06:46:01.159+0000</td><td>Washington</td><td>UT</td><td>985.5</td><td>UA000000102480807</td><td>vanessaavila@moore.net</td></tr><tr><td>1975-01-18T07:16:25.614+0000</td><td>1975-01-18T07:16:19.897+0000</td><td>Carlton</td><td>OR</td><td>1075.5</td><td>UA000000102484531</td><td>riley43@johnson-velez.com</td></tr><tr><td>1975-01-18T05:52:57.746+0000</td><td>1975-01-18T05:52:00.838+0000</td><td>Houston</td><td>TX</td><td>535.5</td><td>UA000000102488149</td><td>bdavis@washington.com</td></tr><tr><td>1975-01-18T06:09:22.965+0000</td><td>1975-01-18T06:09:00.338+0000</td><td>Grants Pass</td><td>OR</td><td>1218.6</td><td>UA000000102488219</td><td>millsbrian@lewis-cox.com</td></tr><tr><td>1975-01-18T07:16:53.122+0000</td><td>1975-01-18T07:16:51.891+0000</td><td>Lodi</td><td>CA</td><td>940.5</td><td>UA000000102489368</td><td>dsanchez@bowen.info</td></tr><tr><td>1975-01-18T07:56:18.849+0000</td><td>1975-01-18T07:56:18.360+0000</td><td>Riviera Beach</td><td>FL</td><td>940.5</td><td>UA000000102492548</td><td>robertscott67@hotmail.com</td></tr><tr><td>1975-01-18T06:54:13.786+0000</td><td>1975-01-18T06:53:56.442+0000</td><td>Shawano</td><td>WI</td><td>535.5</td><td>UA000000102503453</td><td>lisawilliams@pena.com</td></tr><tr><td>1975-01-18T05:40:07.647+0000</td><td>1975-01-18T05:39:54.189+0000</td><td>Waukegan</td><td>IL</td><td>1075.5</td><td>UA000000102504835</td><td>johnny36@evans-mendoza.net</td></tr><tr><td>1975-01-18T06:00:19.045+0000</td><td>1975-01-18T06:00:17.874+0000</td><td>Romulus</td><td>MI</td><td>850.5</td><td>UA000000102511026</td><td>gschmidt36@gmail.com</td></tr><tr><td>1975-01-18T05:39:23.012+0000</td><td>1975-01-18T05:37:50.778+0000</td><td>Lake Jackson</td><td>TX</td><td>1615.5</td><td>UA000000102511043</td><td>michelle45@gmail.com</td></tr><tr><td>1975-01-18T06:03:40.762+0000</td><td>1975-01-18T06:02:14.666+0000</td><td>West Chicago</td><td>IL</td><td>2151.0</td><td>UA000000102512716</td><td>michael0995@gmail.com</td></tr><tr><td>1975-01-18T05:20:53.008+0000</td><td>1975-01-18T05:20:50.577+0000</td><td>San Jose</td><td>CA</td><td>850.5</td><td>UA000000102513747</td><td>cassie75@hammond-lopez.com</td></tr><tr><td>1975-01-18T06:53:37.813+0000</td><td>1975-01-18T06:51:41.417+0000</td><td>Newport</td><td>KY</td><td>535.5</td><td>UA000000102519124</td><td>kathleen33@rodriguez.info</td></tr><tr><td>1975-01-18T06:17:02.118+0000</td><td>1975-01-18T06:14:10.850+0000</td><td>St. Joseph</td><td>MO</td><td>993.6</td><td>UA000000102527111</td><td>angelaramirez@hotmail.com</td></tr><tr><td>1975-01-18T05:15:38.350+0000</td><td>1975-01-18T05:15:29.564+0000</td><td>Wilmington</td><td>NC</td><td>1075.5</td><td>UA000000102529776</td><td>vhayes@hotmail.com</td></tr><tr><td>1975-01-18T06:06:24.217+0000</td><td>1975-01-18T06:05:52.005+0000</td><td>Fort Collins</td><td>CO</td><td>1615.5</td><td>UA000000102531537</td><td>davidcarpenter4@gmail.com</td></tr><tr><td>1975-01-18T05:50:57.594+0000</td><td>1975-01-18T05:48:23.967+0000</td><td>Pittsburg</td><td>CA</td><td>940.5</td><td>UA000000102531573</td><td>jorge02@hotmail.com</td></tr><tr><td>1975-01-18T05:29:12.550+0000</td><td>1975-01-18T05:26:23.182+0000</td><td>New York</td><td>NY</td><td>1011.6</td><td>UA000000102535567</td><td>kristine80@chavez.com</td></tr><tr><td>1975-01-18T08:15:29.849+0000</td><td>1975-01-18T08:15:28.165+0000</td><td>Driggs</td><td>ID</td><td>1525.5</td><td>UA000000102535902</td><td>zacharylopez@gmail.com</td></tr><tr><td>1975-01-18T05:19:17.883+0000</td><td>1975-01-18T05:18:40.035+0000</td><td>San Antonio</td><td>TX</td><td>588.6</td><td>UA000000102536517</td><td>katiehartman@yahoo.com</td></tr><tr><td>1975-01-18T07:16:48.883+0000</td><td>1975-01-18T07:16:43.333+0000</td><td>Norman</td><td>OK</td><td>1525.5</td><td>UA000000102540758</td><td>juliagordon@hotmail.com</td></tr><tr><td>1975-01-18T05:45:45.558+0000</td><td>1975-01-18T05:45:42.732+0000</td><td>Palm Springs</td><td>CA</td><td>535.5</td><td>UA000000102542340</td><td>irose@blevins.com</td></tr><tr><td>1975-01-18T07:40:42.533+0000</td><td>1975-01-18T07:40:42.198+0000</td><td>New York</td><td>NY</td><td>535.5</td><td>UA000000102543252</td><td>smithelijah@gmail.com</td></tr><tr><td>1975-01-18T07:12:56.847+0000</td><td>1975-01-18T07:09:33.589+0000</td><td>Lafayette</td><td>LA</td><td>940.5</td><td>UA000000102543900</td><td>sanchezjohn@smith-short.com</td></tr><tr><td>1975-01-18T06:47:45.195+0000</td><td>1975-01-18T06:47:24.955+0000</td><td>Memphis</td><td>TN</td><td>850.5</td><td>UA000000102544562</td><td>annahoffman@gmail.com</td></tr><tr><td>1975-01-18T07:02:34.757+0000</td><td>1975-01-18T07:00:20.248+0000</td><td>Lee's Summit</td><td>MO</td><td>940.5</td><td>UA000000102545336</td><td>kiddrobert@li.com</td></tr><tr><td>1975-01-18T08:44:30.479+0000</td><td>1975-01-18T08:44:12.489+0000</td><td>Fort Smith</td><td>AR</td><td>940.5</td><td>UA000000102546071</td><td>webbderek@hotmail.com</td></tr><tr><td>1975-01-18T06:56:45.935+0000</td><td>1975-01-18T06:56:45.694+0000</td><td>Wichita</td><td>KS</td><td>1615.5</td><td>UA000000102549257</td><td>sshepherd@zhang-miranda.com</td></tr><tr><td>1975-01-18T09:45:34.034+0000</td><td>1975-01-18T09:45:23.058+0000</td><td>Reno</td><td>NV</td><td>1075.5</td><td>UA000000102552047</td><td>barbara68@yahoo.com</td></tr><tr><td>1975-01-18T07:10:46.498+0000</td><td>1975-01-18T07:09:39.949+0000</td><td>North Little Rock</td><td>AR</td><td>535.5</td><td>UA000000102553447</td><td>christy39@ramos.com</td></tr><tr><td>1975-01-18T08:11:07.223+0000</td><td>1975-01-18T08:11:07.011+0000</td><td>Miramar</td><td>FL</td><td>1525.5</td><td>UA000000102554489</td><td>lisa92@hutchinson.org</td></tr><tr><td>1975-01-18T06:48:59.381+0000</td><td>1975-01-18T06:48:37.973+0000</td><td>Salem</td><td>VA</td><td>2556.0</td><td>UA000000102554936</td><td>lauracosta@lynn-wright.org</td></tr><tr><td>1975-01-18T10:25:12.173+0000</td><td>1975-01-18T10:24:50.632+0000</td><td>Tallahassee</td><td>FL</td><td>940.5</td><td>UA000000102554989</td><td>farrelljoseph63@yahoo.com</td></tr><tr><td>1975-01-18T07:03:12.254+0000</td><td>1975-01-18T07:02:03.486+0000</td><td>New Braunfels</td><td>TX</td><td>1971.0</td><td>UA000000102558688</td><td>susan60@adkins.com</td></tr><tr><td>1975-01-18T07:49:47.972+0000</td><td>1975-01-18T07:49:42.720+0000</td><td>New York</td><td>NY</td><td>1615.5</td><td>UA000000102559947</td><td>hdodson@stephenson.org</td></tr><tr><td>1975-01-18T06:13:55.595+0000</td><td>1975-01-18T06:11:50.384+0000</td><td>West Jordan</td><td>UT</td><td>940.5</td><td>UA000000102562188</td><td>anna09@baker.com</td></tr><tr><td>1975-01-18T08:14:44.953+0000</td><td>1975-01-18T08:12:52.310+0000</td><td>Rochester Hills</td><td>MI</td><td>940.5</td><td>UA000000102562642</td><td>belinda05@guzman.com</td></tr><tr><td>1975-01-18T07:49:03.464+0000</td><td>1975-01-18T07:47:19.021+0000</td><td>West Springfield Town</td><td>MA</td><td>1075.5</td><td>UA000000102565145</td><td>jerrypetty@nicholson-klein.com</td></tr><tr><td>1975-01-18T08:41:33.661+0000</td><td>1975-01-18T08:40:09.529+0000</td><td>St. Louis Park</td><td>MN</td><td>2016.0</td><td>UA000000102568821</td><td>xrosario@yahoo.com</td></tr><tr><td>1975-01-18T05:38:36.741+0000</td><td>1975-01-18T05:37:20.660+0000</td><td>Bremerton</td><td>WA</td><td>1525.5</td><td>UA000000102570793</td><td>gregoryaustin@tate.com</td></tr><tr><td>1975-01-18T05:16:45.110+0000</td><td>1975-01-18T05:15:37.966+0000</td><td>Mission Viejo</td><td>CA</td><td>1146.6</td><td>UA000000102570937</td><td>srodriguez@sandoval-kelly.com</td></tr><tr><td>1975-01-18T08:46:17.525+0000</td><td>1975-01-18T08:45:39.782+0000</td><td>Fort Worth</td><td>TX</td><td>940.5</td><td>UA000000102577882</td><td>xhaney@page.com</td></tr><tr><td>1975-01-18T08:56:58.874+0000</td><td>1975-01-18T08:56:57.645+0000</td><td>Cullman</td><td>AL</td><td>940.5</td><td>UA000000102580776</td><td>vincentstewart@martinez-vazquez.net</td></tr><tr><td>1975-01-18T06:08:55.208+0000</td><td>1975-01-18T06:06:44.147+0000</td><td>Chesapeake</td><td>VA</td><td>940.5</td><td>UA000000102580800</td><td>angelabrown@robertson.com</td></tr><tr><td>1975-01-18T06:32:49.568+0000</td><td>1975-01-18T06:31:38.042+0000</td><td>Little Rock</td><td>AR</td><td>850.5</td><td>UA000000102581505</td><td>mercedeshenson@madden-jones.com</td></tr><tr><td>1975-01-18T08:31:51.222+0000</td><td>1975-01-18T08:30:24.704+0000</td><td>Tulsa</td><td>OK</td><td>1075.5</td><td>UA000000102582229</td><td>michelemyers@parker.com</td></tr><tr><td>1975-01-18T09:10:31.137+0000</td><td>1975-01-18T09:10:17.943+0000</td><td>Winston-Salem</td><td>NC</td><td>1075.5</td><td>UA000000102585724</td><td>parkerjeremy@gmail.com</td></tr><tr><td>1975-01-18T07:36:34.000+0000</td><td>1975-01-18T07:36:33.669+0000</td><td>Knoxville</td><td>TN</td><td>535.5</td><td>UA000000102586845</td><td>fherrera@hernandez-williams.com</td></tr><tr><td>1975-01-18T05:54:29.472+0000</td><td>1975-01-18T05:54:24.580+0000</td><td>LaFayette</td><td>GA</td><td>535.5</td><td>UA000000102588848</td><td>adkinskeith@yahoo.com</td></tr><tr><td>1975-01-18T07:40:27.356+0000</td><td>1975-01-18T07:39:00.582+0000</td><td>Rochester</td><td>MN</td><td>535.5</td><td>UA000000102589527</td><td>anna74@lee.com</td></tr><tr><td>1975-01-18T06:28:22.935+0000</td><td>1975-01-18T06:27:44.755+0000</td><td>South Milwaukee</td><td>WI</td><td>940.5</td><td>UA000000102589795</td><td>perezjoel@barber.com</td></tr><tr><td>1975-01-18T07:03:54.869+0000</td><td>1975-01-18T07:03:31.174+0000</td><td>Yelm</td><td>WA</td><td>71.10000000000001</td><td>UA000000102590151</td><td>smiththomas@shaffer.com</td></tr><tr><td>1975-01-18T08:36:35.465+0000</td><td>1975-01-18T08:36:07.513+0000</td><td>Lancaster</td><td>PA</td><td>535.5</td><td>UA000000102592817</td><td>christopherkaufman@kirk-scott.biz</td></tr><tr><td>1975-01-18T09:46:07.911+0000</td><td>1975-01-18T09:45:45.938+0000</td><td>Fitchburg</td><td>MA</td><td>940.5</td><td>UA000000102593764</td><td>natalie92@gmail.com</td></tr><tr><td>1975-01-18T11:17:20.027+0000</td><td>1975-01-18T11:16:33.942+0000</td><td>Milwaukee</td><td>WI</td><td>535.5</td><td>UA000000102605164</td><td>qchang22@hotmail.com</td></tr><tr><td>1975-01-18T06:17:43.002+0000</td><td>1975-01-18T06:17:34.598+0000</td><td>Pearland</td><td>TX</td><td>940.5</td><td>UA000000102605544</td><td>dvelazquez@gmail.com</td></tr><tr><td>1975-01-18T10:02:14.421+0000</td><td>1975-01-18T10:00:51.740+0000</td><td>Saratoga Springs</td><td>NY</td><td>535.5</td><td>UA000000102606737</td><td>umccullough69@yahoo.com</td></tr><tr><td>1975-01-18T08:10:45.935+0000</td><td>1975-01-18T08:10:36.880+0000</td><td>Lebanon</td><td>MO</td><td>1902.6</td><td>UA000000102607848</td><td>cynthiajohnson44@hotmail.com</td></tr><tr><td>1975-01-18T06:43:55.864+0000</td><td>1975-01-18T06:43:51.995+0000</td><td>Atlanta</td><td>GA</td><td>1075.5</td><td>UA000000102608016</td><td>eric7117@hotmail.com</td></tr><tr><td>1975-01-18T08:03:59.785+0000</td><td>1975-01-18T07:59:15.485+0000</td><td>Jennings</td><td>LA</td><td>1615.5</td><td>UA000000102610673</td><td>amanda9686@gmail.com</td></tr><tr><td>1975-01-18T06:35:39.363+0000</td><td>1975-01-18T06:35:35.468+0000</td><td>Richardson</td><td>TX</td><td>850.5</td><td>UA000000102610966</td><td>parkerjesus@gmail.com</td></tr><tr><td>1975-01-18T09:14:41.089+0000</td><td>1975-01-18T09:14:39.405+0000</td><td>Anna</td><td>TX</td><td>940.5</td><td>UA000000102611023</td><td>millerrhonda77@hotmail.com</td></tr><tr><td>1975-01-18T08:01:30.744+0000</td><td>1975-01-18T08:00:11.932+0000</td><td>Toledo</td><td>OH</td><td>850.5</td><td>UA000000102612096</td><td>pottercraig@walter.com</td></tr><tr><td>1975-01-18T07:24:37.733+0000</td><td>1975-01-18T07:24:35.338+0000</td><td>Amarillo</td><td>TX</td><td>535.5</td><td>UA000000102612974</td><td>lisa69@gmail.com</td></tr><tr><td>1975-01-18T09:29:11.732+0000</td><td>1975-01-18T09:28:15.030+0000</td><td>New York</td><td>NY</td><td>985.5</td><td>UA000000102613664</td><td>donnamiller@fitzpatrick-gonzalez.org</td></tr><tr><td>1975-01-18T05:12:11.805+0000</td><td>1975-01-18T05:11:53.603+0000</td><td>Portland</td><td>OR</td><td>940.5</td><td>UA000000102613703</td><td>currylisa@hotmail.com</td></tr><tr><td>1975-01-18T06:36:18.595+0000</td><td>1975-01-18T06:35:50.372+0000</td><td>Richardson</td><td>TX</td><td>940.5</td><td>UA000000102616024</td><td>edwardbender@gmail.com</td></tr><tr><td>1975-01-18T06:07:07.173+0000</td><td>1975-01-18T06:07:03.156+0000</td><td>Loveland</td><td>CO</td><td>535.5</td><td>UA000000102616102</td><td>halehaley@wilson.com</td></tr><tr><td>1975-01-18T05:59:44.379+0000</td><td>1975-01-18T05:58:19.804+0000</td><td>Las Vegas</td><td>NV</td><td>535.5</td><td>UA000000102617175</td><td>jose03@camacho.com</td></tr><tr><td>1975-01-18T14:19:44.479+0000</td><td>1975-01-18T14:14:27.699+0000</td><td>Aurora</td><td>CO</td><td>1011.6</td><td>UA000000102622741</td><td>paulamason@hotmail.com</td></tr><tr><td>1975-01-18T07:01:16.121+0000</td><td>1975-01-18T07:00:54.413+0000</td><td>Murray</td><td>UT</td><td>53.1</td><td>UA000000102623280</td><td>imeyer3@gmail.com</td></tr><tr><td>1975-01-18T09:45:36.509+0000</td><td>1975-01-18T09:45:05.077+0000</td><td>Los Angeles</td><td>CA</td><td>535.5</td><td>UA000000102623305</td><td>joseph4140@yahoo.com</td></tr><tr><td>1975-01-18T07:57:36.294+0000</td><td>1975-01-18T07:57:32.458+0000</td><td>Baton Rouge</td><td>LA</td><td>1047.6</td><td>UA000000102623577</td><td>smithsamuel9@yahoo.com</td></tr><tr><td>1975-01-18T06:21:58.659+0000</td><td>1975-01-18T06:21:53.342+0000</td><td>Los Angeles</td><td>CA</td><td>535.5</td><td>UA000000102624876</td><td>marialove@lane.com</td></tr><tr><td>1975-01-18T08:19:48.846+0000</td><td>1975-01-18T08:19:29.849+0000</td><td>Los Angeles</td><td>CA</td><td>940.5</td><td>UA000000102625000</td><td>jasminewright@gomez.com</td></tr><tr><td>1975-01-18T06:28:46.356+0000</td><td>1975-01-18T06:28:18.747+0000</td><td>Denver</td><td>CO</td><td>940.5</td><td>UA000000102625115</td><td>ryanrasmussen@gmail.com</td></tr><tr><td>1975-01-18T05:32:00.921+0000</td><td>1975-01-18T05:28:43.432+0000</td><td>New Bedford</td><td>MA</td><td>1075.5</td><td>UA000000102626668</td><td>vdawson40@gmail.com</td></tr><tr><td>1975-01-18T08:33:10.562+0000</td><td>1975-01-18T08:32:16.302+0000</td><td>Palm Springs</td><td>CA</td><td>535.5</td><td>UA000000102626873</td><td>bradley45@gmail.com</td></tr><tr><td>1975-01-18T05:20:37.891+0000</td><td>1975-01-18T05:20:26.921+0000</td><td>Little Elm</td><td>TX</td><td>850.5</td><td>UA000000102629898</td><td>deborah78@davis.com</td></tr><tr><td>1975-01-18T08:57:12.794+0000</td><td>1975-01-18T08:57:10.786+0000</td><td>Costa Mesa</td><td>CA</td><td>1075.5</td><td>UA000000102629956</td><td>amy8918@hotmail.com</td></tr><tr><td>1975-01-18T05:18:37.764+0000</td><td>1975-01-18T05:17:42.827+0000</td><td>Denver</td><td>CO</td><td>993.6</td><td>UA000000102637727</td><td>ericpeterson@figueroa.com</td></tr><tr><td>1975-01-18T10:09:40.469+0000</td><td>1975-01-18T10:08:12.324+0000</td><td>Columbia</td><td>SC</td><td>850.5</td><td>UA000000102639129</td><td>judith54@hotmail.com</td></tr><tr><td>1975-01-18T08:18:23.934+0000</td><td>1975-01-18T08:18:22.192+0000</td><td>Lakewood</td><td>CO</td><td>535.5</td><td>UA000000102641419</td><td>sneal@price.com</td></tr><tr><td>1975-01-18T10:38:50.216+0000</td><td>1975-01-18T10:38:32.925+0000</td><td>Memphis</td><td>TN</td><td>1075.5</td><td>UA000000102642404</td><td>john5964@gmail.com</td></tr><tr><td>1975-01-18T05:14:17.108+0000</td><td>1975-01-18T05:14:16.335+0000</td><td>Gaithersburg</td><td>MD</td><td>940.5</td><td>UA000000102642711</td><td>vincentnovak@turner.info</td></tr><tr><td>1975-01-18T07:57:41.170+0000</td><td>1975-01-18T07:57:38.525+0000</td><td>New York</td><td>NY</td><td>850.5</td><td>UA000000102645760</td><td>ijohnson@rodriguez.com</td></tr><tr><td>1975-01-18T09:01:00.347+0000</td><td>1975-01-18T09:00:17.939+0000</td><td>Pittsburgh</td><td>PA</td><td>1075.5</td><td>UA000000102646789</td><td>patriciamurphy68@yahoo.com</td></tr><tr><td>1975-01-18T06:25:26.699+0000</td><td>1975-01-18T06:25:21.491+0000</td><td>Mobile</td><td>AL</td><td>1795.5</td><td>UA000000102647856</td><td>amandathomas23@yahoo.com</td></tr><tr><td>1975-01-18T07:42:54.493+0000</td><td>1975-01-18T07:42:52.430+0000</td><td>Olton</td><td>TX</td><td>535.5</td><td>UA000000102648664</td><td>jaime81@torres.com</td></tr><tr><td>1975-01-18T10:08:21.227+0000</td><td>1975-01-18T10:08:16.961+0000</td><td>Columbus</td><td>OH</td><td>940.5</td><td>UA000000102649375</td><td>christopher98@santana-hernandez.com</td></tr><tr><td>1975-01-18T05:42:50.434+0000</td><td>1975-01-18T05:39:55.516+0000</td><td>Los Angeles</td><td>CA</td><td>850.5</td><td>UA000000102650292</td><td>georgehernandez@yahoo.com</td></tr><tr><td>1975-01-18T05:46:36.394+0000</td><td>1975-01-18T05:46:04.800+0000</td><td>Charlotte</td><td>NC</td><td>1075.5</td><td>UA000000102650949</td><td>martinscott@diaz.com</td></tr><tr><td>1975-01-18T07:35:36.076+0000</td><td>1975-01-18T07:35:05.126+0000</td><td>Springfield</td><td>MA</td><td>1611.0</td><td>UA000000102658161</td><td>smithjanice79@hotmail.com</td></tr><tr><td>1975-01-18T06:33:07.545+0000</td><td>1975-01-18T06:32:50.004+0000</td><td>O'Fallon</td><td>MO</td><td>2114.1</td><td>UA000000102658419</td><td>melissacox@johnson.org</td></tr><tr><td>1975-01-18T10:44:13.986+0000</td><td>1975-01-18T10:43:19.305+0000</td><td>Fruitland</td><td>ID</td><td>1525.5</td><td>UA000000102659324</td><td>lisa54@robertson.org</td></tr><tr><td>1975-01-18T07:47:02.992+0000</td><td>1975-01-18T07:46:27.583+0000</td><td>Norwalk</td><td>CT</td><td>1075.5</td><td>UA000000102662516</td><td>danielsbob@rivera-williams.com</td></tr><tr><td>1975-01-18T06:43:11.955+0000</td><td>1975-01-18T06:42:00.035+0000</td><td>Kentwood</td><td>MI</td><td>940.5</td><td>UA000000102662737</td><td>tayloramanda73@gmail.com</td></tr><tr><td>1975-01-18T08:09:23.430+0000</td><td>1975-01-18T08:08:26.090+0000</td><td>Rocky Mount</td><td>NC</td><td>535.5</td><td>UA000000102663175</td><td>thompsontonya56@hotmail.com</td></tr><tr><td>1975-01-18T06:55:00.892+0000</td><td>1975-01-18T06:52:13.908+0000</td><td>New York</td><td>NY</td><td>1615.5</td><td>UA000000102663249</td><td>prattbryan@gmail.com</td></tr><tr><td>1975-01-18T05:16:13.355+0000</td><td>1975-01-18T05:15:09.164+0000</td><td>New Orleans</td><td>LA</td><td>850.5</td><td>UA000000102665598</td><td>samanthabennett@cain.biz</td></tr><tr><td>1975-01-18T05:43:21.478+0000</td><td>1975-01-18T05:43:07.715+0000</td><td>Warren</td><td>OH</td><td>642.6</td><td>UA000000102666565</td><td>christopherweaver83@gmail.com</td></tr><tr><td>1975-01-18T06:54:02.176+0000</td><td>1975-01-18T06:53:37.005+0000</td><td>Glendale</td><td>AZ</td><td>535.5</td><td>UA000000102670390</td><td>jessicamiller94@hotmail.com</td></tr><tr><td>1975-01-18T06:23:58.615+0000</td><td>1975-01-18T06:23:56.698+0000</td><td>Overland Park</td><td>KS</td><td>985.5</td><td>UA000000102671791</td><td>hawkinsrachel@payne-cox.info</td></tr><tr><td>1975-01-18T09:54:29.102+0000</td><td>1975-01-18T09:54:23.087+0000</td><td>San Carlos</td><td>CA</td><td>850.5</td><td>UA000000102672269</td><td>lutzheather@yahoo.com</td></tr><tr><td>1975-01-18T12:28:03.449+0000</td><td>1975-01-18T12:26:56.429+0000</td><td>Oakland</td><td>CA</td><td>2016.0</td><td>UA000000102674088</td><td>ogarcia@hernandez.biz</td></tr><tr><td>1975-01-18T08:41:56.575+0000</td><td>1975-01-18T08:41:37.047+0000</td><td>Washington</td><td>UT</td><td>940.5</td><td>UA000000102675634</td><td>robertwilliams14@yahoo.com</td></tr><tr><td>1975-01-18T09:10:07.040+0000</td><td>1975-01-18T09:08:36.040+0000</td><td>New York</td><td>NY</td><td>940.5</td><td>UA000000102678173</td><td>jessica18@hayes.com</td></tr><tr><td>1975-01-18T08:05:44.501+0000</td><td>1975-01-18T08:05:35.353+0000</td><td>Fresno</td><td>CA</td><td>1038.6</td><td>UA000000102682350</td><td>cheryl87@hobbs-davis.com</td></tr><tr><td>1975-01-18T06:04:45.276+0000</td><td>1975-01-18T06:04:43.077+0000</td><td>San Diego</td><td>CA</td><td>1615.5</td><td>UA000000102685310</td><td>fowlerstacey@hernandez-moore.org</td></tr><tr><td>1975-01-18T07:52:26.808+0000</td><td>1975-01-18T07:52:23.824+0000</td><td>Laguna Woods</td><td>CA</td><td>1075.5</td><td>UA000000102686323</td><td>ysmith@wallace.com</td></tr><tr><td>1975-01-18T06:59:49.466+0000</td><td>1975-01-18T06:59:48.989+0000</td><td>Irvine</td><td>CA</td><td>1615.5</td><td>UA000000102686537</td><td>kellybarr@arroyo.com</td></tr><tr><td>1975-01-18T06:42:13.918+0000</td><td>1975-01-18T06:42:10.612+0000</td><td>El Dorado</td><td>KS</td><td>985.5</td><td>UA000000102686965</td><td>mistygarrett@moore.com</td></tr><tr><td>1975-01-18T07:06:59.056+0000</td><td>1975-01-18T07:06:29.938+0000</td><td>West Bend</td><td>WI</td><td>1615.5</td><td>UA000000102687205</td><td>patriciawilson@murphy.com</td></tr><tr><td>1975-01-18T07:03:40.183+0000</td><td>1975-01-18T07:01:57.998+0000</td><td>Blaine</td><td>MN</td><td>71.10000000000001</td><td>UA000000102688777</td><td>price33@gmail.com</td></tr><tr><td>1975-01-18T08:05:20.409+0000</td><td>1975-01-18T08:04:53.560+0000</td><td>Bullhead City</td><td>AZ</td><td>985.5</td><td>UA000000102690421</td><td>josephkathleen@gmail.com</td></tr><tr><td>1975-01-18T09:18:41.287+0000</td><td>1975-01-18T09:18:40.573+0000</td><td>Los Angeles</td><td>CA</td><td>1075.5</td><td>UA000000102690563</td><td>thomasbarrera@hotmail.com</td></tr><tr><td>1975-01-18T07:36:10.172+0000</td><td>1975-01-18T07:36:05.033+0000</td><td>Bowling Green</td><td>KY</td><td>588.6</td><td>UA000000102691524</td><td>jacobfox@yahoo.com</td></tr><tr><td>1975-01-18T10:54:24.854+0000</td><td>1975-01-18T10:51:50.814+0000</td><td>New Smyrna Beach</td><td>FL</td><td>1795.5</td><td>UA000000102692187</td><td>handerson@crawford.com</td></tr><tr><td>1975-01-18T08:49:36.608+0000</td><td>1975-01-18T08:48:55.091+0000</td><td>Huntington</td><td>WV</td><td>1075.5</td><td>UA000000102692593</td><td>hayestimothy18@gmail.com</td></tr><tr><td>1975-01-18T06:01:06.111+0000</td><td>1975-01-18T06:00:47.456+0000</td><td>San Antonio</td><td>TX</td><td>985.5</td><td>UA000000102694560</td><td>tamaragallagher@cook.biz</td></tr><tr><td>1975-01-18T05:31:38.241+0000</td><td>1975-01-18T05:31:04.824+0000</td><td>Baytown</td><td>TX</td><td>588.6</td><td>UA000000102698318</td><td>susan92@king.com</td></tr><tr><td>1975-01-18T07:49:39.404+0000</td><td>1975-01-18T07:49:24.284+0000</td><td>Vallejo</td><td>CA</td><td>1615.5</td><td>UA000000102698524</td><td>agarcia@nelson-white.info</td></tr><tr><td>1975-01-18T10:10:39.146+0000</td><td>1975-01-18T10:10:36.045+0000</td><td>Victoria</td><td>TX</td><td>1128.6</td><td>UA000000102698709</td><td>laneana@nelson.com</td></tr><tr><td>1975-01-18T08:43:49.034+0000</td><td>1975-01-18T08:43:21.041+0000</td><td>Frisco</td><td>TX</td><td>535.5</td><td>UA000000102698881</td><td>waltersrobert@watts.info</td></tr><tr><td>1975-01-18T06:51:26.438+0000</td><td>1975-01-18T06:50:18.692+0000</td><td>Mesa</td><td>AZ</td><td>1075.5</td><td>UA000000102700317</td><td>joneszachary14@gmail.com</td></tr><tr><td>1975-01-18T05:44:50.239+0000</td><td>1975-01-18T05:44:37.298+0000</td><td>Perry</td><td>OK</td><td>2601.0</td><td>UA000000102700345</td><td>kmontgomery@watkins.com</td></tr><tr><td>1975-01-18T07:30:00.290+0000</td><td>1975-01-18T07:29:47.318+0000</td><td>North Ogden</td><td>UT</td><td>53.1</td><td>UA000000102702284</td><td>erodriguez@hotmail.com</td></tr><tr><td>1975-01-18T07:31:14.649+0000</td><td>1975-01-18T07:31:02.472+0000</td><td>Monterey Park</td><td>CA</td><td>535.5</td><td>UA000000102702950</td><td>darrell40@yahoo.com</td></tr><tr><td>1975-01-18T05:44:34.377+0000</td><td>1975-01-18T05:43:46.794+0000</td><td>La Puente</td><td>CA</td><td>1075.5</td><td>UA000000102703041</td><td>esparzaheather@gmail.com</td></tr><tr><td>1975-01-18T09:14:25.400+0000</td><td>1975-01-18T09:13:32.398+0000</td><td>National City</td><td>CA</td><td>940.5</td><td>UA000000102703085</td><td>shelbycastillo@delgado-thomas.net</td></tr><tr><td>1975-01-18T05:28:57.746+0000</td><td>1975-01-18T05:23:18.855+0000</td><td>Southgate</td><td>MI</td><td>1615.5</td><td>UA000000102703674</td><td>louis48@gmail.com</td></tr><tr><td>1975-01-18T05:42:48.339+0000</td><td>1975-01-18T05:42:30.259+0000</td><td>Galion</td><td>OH</td><td>1749.6</td><td>UA000000102704955</td><td>carly04@hotmail.com</td></tr><tr><td>1975-01-18T06:59:42.271+0000</td><td>1975-01-18T06:58:41.828+0000</td><td>Fort Worth</td><td>TX</td><td>1075.5</td><td>UA000000102704995</td><td>mwolf@hotmail.com</td></tr><tr><td>1975-01-18T07:41:29.620+0000</td><td>1975-01-18T07:41:22.805+0000</td><td>Fayetteville</td><td>NC</td><td>850.5</td><td>UA000000102705023</td><td>aterry@yahoo.com</td></tr><tr><td>1975-01-18T10:42:37.936+0000</td><td>1975-01-18T10:41:56.998+0000</td><td>DeBary</td><td>FL</td><td>606.6</td><td>UA000000102707645</td><td>nancy11@williams-woodward.com</td></tr><tr><td>1975-01-18T07:40:54.745+0000</td><td>1975-01-18T07:40:53.950+0000</td><td>Monterey</td><td>CA</td><td>850.5</td><td>UA000000102709532</td><td>jacobspamela@matthews-hall.info</td></tr><tr><td>1975-01-18T05:39:15.361+0000</td><td>1975-01-18T05:36:54.721+0000</td><td>Woodland</td><td>CA</td><td>535.5</td><td>UA000000102709959</td><td>kgarza73@hotmail.com</td></tr><tr><td>1975-01-18T08:38:01.859+0000</td><td>1975-01-18T08:36:26.750+0000</td><td>Fall River</td><td>MA</td><td>1075.5</td><td>UA000000102710424</td><td>steinjames@hotmail.com</td></tr><tr><td>1975-01-18T08:07:21.439+0000</td><td>1975-01-18T08:06:13.367+0000</td><td>Hammond</td><td>IN</td><td>850.5</td><td>UA000000102710809</td><td>cbest@rhodes.net</td></tr><tr><td>1975-01-18T07:31:24.483+0000</td><td>1975-01-18T07:31:05.498+0000</td><td>St. Louis</td><td>MI</td><td>940.5</td><td>UA000000102711995</td><td>kyleavila@perkins.com</td></tr><tr><td>1975-01-18T09:41:22.146+0000</td><td>1975-01-18T09:40:30.011+0000</td><td>Pueblo</td><td>CO</td><td>53.1</td><td>UA000000102713083</td><td>curtis06@ritter.biz</td></tr><tr><td>1975-01-18T06:49:55.575+0000</td><td>1975-01-18T06:49:52.047+0000</td><td>Caribou</td><td>ME</td><td>1795.5</td><td>UA000000102713136</td><td>sarah3294@yahoo.com</td></tr><tr><td>1975-01-18T05:26:44.641+0000</td><td>1975-01-18T05:26:42.597+0000</td><td>Thornton</td><td>CO</td><td>535.5</td><td>UA000000102713374</td><td>kaufmanleah@anderson.com</td></tr><tr><td>1975-01-18T06:03:12.305+0000</td><td>1975-01-18T05:59:50.569+0000</td><td>Philadelphia</td><td>PA</td><td>1075.5</td><td>UA000000102713399</td><td>sylvia83@bailey.org</td></tr><tr><td>1975-01-18T09:14:16.169+0000</td><td>1975-01-18T09:14:13.821+0000</td><td>Sandy Springs</td><td>GA</td><td>1615.5</td><td>UA000000102716479</td><td>brianscott@sanders-jones.net</td></tr><tr><td>1975-01-18T05:56:15.442+0000</td><td>1975-01-18T05:56:10.413+0000</td><td>High Point</td><td>NC</td><td>1075.5</td><td>UA000000102716560</td><td>jennifer8285@gmail.com</td></tr><tr><td>1975-01-18T07:49:40.761+0000</td><td>1975-01-18T07:49:39.453+0000</td><td>Rochester Hills</td><td>MI</td><td>940.5</td><td>UA000000102716778</td><td>timbarnes@davis-davis.com</td></tr><tr><td>1975-01-18T08:12:17.158+0000</td><td>1975-01-18T08:10:20.268+0000</td><td>Crystal Lake</td><td>IL</td><td>1615.5</td><td>UA000000102717968</td><td>nicole86@washington.com</td></tr><tr><td>1975-01-18T11:26:20.567+0000</td><td>1975-01-18T11:23:16.813+0000</td><td>Gladstone</td><td>MO</td><td>940.5</td><td>UA000000102718892</td><td>claytoncoleman@davis-zimmerman.com</td></tr><tr><td>1975-01-18T06:03:46.974+0000</td><td>1975-01-18T06:03:45.098+0000</td><td>Columbus</td><td>OH</td><td>850.5</td><td>UA000000102719771</td><td>jfisher@yahoo.com</td></tr><tr><td>1975-01-18T09:43:57.515+0000</td><td>1975-01-18T09:43:14.933+0000</td><td>Rancho Cordova</td><td>CA</td><td>2151.0</td><td>UA000000102722269</td><td>iwalters@adams.com</td></tr><tr><td>1975-01-18T10:04:41.360+0000</td><td>1975-01-18T10:04:32.738+0000</td><td>Manhattan</td><td>KS</td><td>940.5</td><td>UA000000102722512</td><td>joshua8757@gmail.com</td></tr><tr><td>1975-01-18T06:22:02.230+0000</td><td>1975-01-18T06:21:57.891+0000</td><td>Kansas City</td><td>KS</td><td>850.5</td><td>UA000000102723939</td><td>fgonzalez@duncan.com</td></tr><tr><td>1975-01-18T05:18:41.400+0000</td><td>1975-01-18T05:16:59.519+0000</td><td>Morgan Hill</td><td>CA</td><td>1795.5</td><td>UA000000102725236</td><td>robert52@delgado.com</td></tr><tr><td>1975-01-18T07:12:39.542+0000</td><td>1975-01-18T07:08:46.145+0000</td><td>New York</td><td>NY</td><td>535.5</td><td>UA000000102726965</td><td>hlopez60@gmail.com</td></tr><tr><td>1975-01-18T05:34:32.494+0000</td><td>1975-01-18T05:33:48.136+0000</td><td>Rome</td><td>GA</td><td>1075.5</td><td>UA000000102727633</td><td>diazjustin33@yahoo.com</td></tr><tr><td>1975-01-18T07:10:37.667+0000</td><td>1975-01-18T07:10:36.899+0000</td><td>Urbana</td><td>IL</td><td>940.5</td><td>UA000000102729319</td><td>bspencer@hotmail.com</td></tr><tr><td>1975-01-18T06:51:21.640+0000</td><td>1975-01-18T06:47:08.204+0000</td><td>Columbus</td><td>OH</td><td>940.5</td><td>UA000000102730413</td><td>jennapatterson@gmail.com</td></tr><tr><td>1975-01-18T08:47:20.229+0000</td><td>1975-01-18T08:47:17.575+0000</td><td>New York</td><td>NY</td><td>1075.5</td><td>UA000000102732224</td><td>nchurch@gmail.com</td></tr><tr><td>1975-01-18T07:35:27.819+0000</td><td>1975-01-18T07:35:07.533+0000</td><td>Dayton</td><td>OH</td><td>53.1</td><td>UA000000102732474</td><td>steventaylor@patterson.org</td></tr><tr><td>1975-01-18T08:28:11.808+0000</td><td>1975-01-18T08:28:08.656+0000</td><td>Dickson</td><td>TN</td><td>1075.5</td><td>UA000000102733786</td><td>gallowayscott@marquez-sullivan.com</td></tr><tr><td>1975-01-18T07:36:48.130+0000</td><td>1975-01-18T07:36:07.817+0000</td><td>Aiken</td><td>SC</td><td>535.5</td><td>UA000000102734603</td><td>debbie01@hotmail.com</td></tr><tr><td>1975-01-18T12:16:04.709+0000</td><td>1975-01-18T12:15:02.266+0000</td><td>Gulf Shores</td><td>AL</td><td>535.5</td><td>UA000000102734740</td><td>jonesjasmine@eaton.biz</td></tr><tr><td>1975-01-18T06:58:45.316+0000</td><td>1975-01-18T06:58:04.898+0000</td><td>St. Louis</td><td>MO</td><td>535.5</td><td>UA000000102734950</td><td>hudsonveronica@perry.info</td></tr><tr><td>1975-01-18T05:20:49.540+0000</td><td>1975-01-18T05:20:21.746+0000</td><td>Portland</td><td>OR</td><td>1791.0</td><td>UA000000102738568</td><td>bcolon@gmail.com</td></tr><tr><td>1975-01-18T06:46:21.343+0000</td><td>1975-01-18T06:45:59.663+0000</td><td>Boulder</td><td>CO</td><td>535.5</td><td>UA000000102739455</td><td>freemanalan@hotmail.com</td></tr><tr><td>1975-01-18T05:33:47.579+0000</td><td>1975-01-18T05:33:46.706+0000</td><td>West Plains</td><td>MO</td><td>940.5</td><td>UA000000102741003</td><td>snowmaria@green-rodriguez.info</td></tr><tr><td>1975-01-18T05:42:40.791+0000</td><td>1975-01-18T05:42:38.150+0000</td><td>Miami</td><td>FL</td><td>535.5</td><td>UA000000102741868</td><td>william57@mann.com</td></tr><tr><td>1975-01-18T09:07:10.200+0000</td><td>1975-01-18T09:06:56.850+0000</td><td>Decatur</td><td>AR</td><td>535.5</td><td>UA000000102741957</td><td>justin06@yahoo.com</td></tr><tr><td>1975-01-18T06:02:02.398+0000</td><td>1975-01-18T06:02:01.125+0000</td><td>San Diego</td><td>CA</td><td>850.5</td><td>UA000000102743002</td><td>jlin@gmail.com</td></tr><tr><td>1975-01-18T07:52:33.103+0000</td><td>1975-01-18T07:52:25.758+0000</td><td>Des Moines</td><td>WA</td><td>985.5</td><td>UA000000102743127</td><td>aduncan@russell.net</td></tr><tr><td>1975-01-18T06:16:42.552+0000</td><td>1975-01-18T06:14:40.733+0000</td><td>New York</td><td>NY</td><td>940.5</td><td>UA000000102744280</td><td>teresa26@pittman.com</td></tr><tr><td>1975-01-18T10:53:45.332+0000</td><td>1975-01-18T10:53:45.132+0000</td><td>Mercedes</td><td>TX</td><td>940.5</td><td>UA000000102744999</td><td>morrisjames@skinner.com</td></tr><tr><td>1975-01-18T08:22:55.342+0000</td><td>1975-01-18T08:22:53.324+0000</td><td>Santa Clara</td><td>CA</td><td>53.1</td><td>UA000000102745963</td><td>joseph7091@hotmail.com</td></tr><tr><td>1975-01-18T10:04:57.718+0000</td><td>1975-01-18T10:04:56.861+0000</td><td>DeKalb</td><td>IL</td><td>535.5</td><td>UA000000102746280</td><td>parkerleslie@luna-molina.biz</td></tr><tr><td>1975-01-18T06:04:14.568+0000</td><td>1975-01-18T06:04:14.352+0000</td><td>Lake Forest</td><td>CA</td><td>1124.1</td><td>UA000000102747376</td><td>hailey32@gmail.com</td></tr><tr><td>1975-01-18T08:48:06.442+0000</td><td>1975-01-18T08:48:01.968+0000</td><td>Moreno Valley</td><td>CA</td><td>940.5</td><td>UA000000102747721</td><td>hernandezraymond23@hotmail.com</td></tr><tr><td>1975-01-18T10:51:33.881+0000</td><td>1975-01-18T10:48:09.818+0000</td><td>Jackson</td><td>MS</td><td>1071.0</td><td>UA000000102748432</td><td>emilymoore@strickland-rodriguez.com</td></tr><tr><td>1975-01-18T06:44:13.596+0000</td><td>1975-01-18T06:44:11.156+0000</td><td>Ontario</td><td>CA</td><td>2069.1</td><td>UA000000102749916</td><td>scottbanks@martinez.com</td></tr><tr><td>1975-01-18T07:12:49.003+0000</td><td>1975-01-18T07:10:59.990+0000</td><td>North Charleston</td><td>SC</td><td>1386.0</td><td>UA000000102750373</td><td>andrea53@compton.biz</td></tr><tr><td>1975-01-18T11:33:36.527+0000</td><td>1975-01-18T11:33:27.318+0000</td><td>Greenfield</td><td>WI</td><td>535.5</td><td>UA000000102751606</td><td>stephanie3332@yahoo.com</td></tr><tr><td>1975-01-18T08:20:49.330+0000</td><td>1975-01-18T08:19:42.236+0000</td><td>Colorado Springs</td><td>CO</td><td>1795.5</td><td>UA000000102751947</td><td>xthompson61@hotmail.com</td></tr><tr><td>1975-01-18T06:33:56.197+0000</td><td>1975-01-18T06:33:46.690+0000</td><td>New York</td><td>NY</td><td>850.5</td><td>UA000000102752544</td><td>estradajoseph@jones.com</td></tr><tr><td>1975-01-18T07:26:25.542+0000</td><td>1975-01-18T07:25:19.220+0000</td><td>Arlington</td><td>WA</td><td>903.6</td><td>UA000000102754477</td><td>kclay@carter-owens.com</td></tr><tr><td>1975-01-18T07:48:53.141+0000</td><td>1975-01-18T07:48:37.186+0000</td><td>St. Louis</td><td>MO</td><td>993.6</td><td>UA000000102756284</td><td>jhart19@hotmail.com</td></tr><tr><td>1975-01-18T10:25:58.432+0000</td><td>1975-01-18T10:25:41.063+0000</td><td>Spring Hill</td><td>TN</td><td>850.5</td><td>UA000000102756531</td><td>contrerasjennifer45@hotmail.com</td></tr><tr><td>1975-01-18T09:34:06.958+0000</td><td>1975-01-18T09:33:52.426+0000</td><td>New York</td><td>NY</td><td>1075.5</td><td>UA000000102757118</td><td>roybrooks@miranda.com</td></tr><tr><td>1975-01-18T08:58:44.340+0000</td><td>1975-01-18T08:58:33.839+0000</td><td>Newark</td><td>NJ</td><td>1146.6</td><td>UA000000102757795</td><td>lindsey21@yahoo.com</td></tr><tr><td>1975-01-18T07:53:27.169+0000</td><td>1975-01-18T07:53:25.015+0000</td><td>New York</td><td>NY</td><td>1218.6</td><td>UA000000102758192</td><td>johnsoncolin@gonzales-meyer.org</td></tr><tr><td>1975-01-18T09:54:40.767+0000</td><td>1975-01-18T09:53:45.425+0000</td><td>Dublin</td><td>CA</td><td>940.5</td><td>UA000000102760640</td><td>james7971@gmail.com</td></tr><tr><td>1975-01-18T07:28:08.674+0000</td><td>1975-01-18T07:27:34.668+0000</td><td>Parkland</td><td>FL</td><td>1075.5</td><td>UA000000102761349</td><td>toddhopkins@yahoo.com</td></tr><tr><td>1975-01-18T05:34:35.576+0000</td><td>1975-01-18T05:34:34.292+0000</td><td>Pascagoula</td><td>MS</td><td>985.5</td><td>UA000000102762487</td><td>brownpaige@lewis.com</td></tr><tr><td>1975-01-18T11:01:31.038+0000</td><td>1975-01-18T11:00:52.539+0000</td><td>Pasadena</td><td>TX</td><td>940.5</td><td>UA000000102765177</td><td>turnercorey@dickerson-lowe.biz</td></tr><tr><td>1975-01-18T07:58:15.983+0000</td><td>1975-01-18T07:58:01.540+0000</td><td>Circleville</td><td>OH</td><td>1578.6</td><td>UA000000102768235</td><td>tonyaharvey@gmail.com</td></tr><tr><td>1975-01-18T08:04:12.043+0000</td><td>1975-01-18T08:03:44.560+0000</td><td>New York</td><td>NY</td><td>940.5</td><td>UA000000102768441</td><td>vcastillo@rivera.com</td></tr><tr><td>1975-01-18T08:24:41.377+0000</td><td>1975-01-18T08:24:23.869+0000</td><td>Cheyenne</td><td>WY</td><td>1615.5</td><td>UA000000102770016</td><td>nicole6768@gmail.com</td></tr><tr><td>1975-01-18T06:23:59.132+0000</td><td>1975-01-18T06:22:50.909+0000</td><td>La Puente</td><td>CA</td><td>535.5</td><td>UA000000102770981</td><td>smiththeodore@bass-moore.biz</td></tr><tr><td>1975-01-18T08:14:03.013+0000</td><td>1975-01-18T08:14:02.173+0000</td><td>Pembroke Pines</td><td>FL</td><td>535.5</td><td>UA000000102771109</td><td>lisa425@gmail.com</td></tr><tr><td>1975-01-18T10:41:58.916+0000</td><td>1975-01-18T10:41:09.183+0000</td><td>Appleton</td><td>WI</td><td>903.6</td><td>UA000000102773801</td><td>valerierodriguez@edwards-chang.com</td></tr><tr><td>1975-01-18T10:41:49.520+0000</td><td>1975-01-18T10:41:31.278+0000</td><td>Seymour</td><td>IN</td><td>1071.0</td><td>UA000000102775384</td><td>ronald88@schultz.biz</td></tr><tr><td>1975-01-18T06:26:01.934+0000</td><td>1975-01-18T06:25:40.484+0000</td><td>Paragould</td><td>AR</td><td>940.5</td><td>UA000000102779924</td><td>johnstondanny@yahoo.com</td></tr><tr><td>1975-01-18T06:13:30.362+0000</td><td>1975-01-18T06:13:12.071+0000</td><td>Gardena</td><td>CA</td><td>985.5</td><td>UA000000102780133</td><td>maynardemily@hotmail.com</td></tr><tr><td>1975-01-18T06:45:47.022+0000</td><td>1975-01-18T06:45:46.619+0000</td><td>Dardanelle</td><td>AR</td><td>535.5</td><td>UA000000102781113</td><td>mistypowell@lawson.info</td></tr><tr><td>1975-01-18T06:22:32.448+0000</td><td>1975-01-18T06:17:10.849+0000</td><td>Perryville</td><td>MO</td><td>1521.0</td><td>UA000000102781895</td><td>chapmanroberta@hotmail.com</td></tr><tr><td>1975-01-18T06:28:05.096+0000</td><td>1975-01-18T06:26:16.171+0000</td><td>Watsonville</td><td>CA</td><td>1615.5</td><td>UA000000102783111</td><td>jessica23@sims.com</td></tr><tr><td>1975-01-18T12:22:32.764+0000</td><td>1975-01-18T12:22:30.046+0000</td><td>Palm Coast</td><td>FL</td><td>985.5</td><td>UA000000102784390</td><td>oliverivan@howard.com</td></tr><tr><td>1975-01-18T06:10:07.775+0000</td><td>1975-01-18T06:10:04.610+0000</td><td>Denver</td><td>CO</td><td>940.5</td><td>UA000000102786107</td><td>gonzalezjoshua@hotmail.com</td></tr><tr><td>1975-01-18T07:40:01.039+0000</td><td>1975-01-18T07:39:03.318+0000</td><td>San Antonio</td><td>TX</td><td>535.5</td><td>UA000000102786505</td><td>castrodrew@williams-fernandez.net</td></tr><tr><td>1975-01-18T07:47:21.583+0000</td><td>1975-01-18T07:47:20.154+0000</td><td>Corvallis</td><td>OR</td><td>940.5</td><td>UA000000102786616</td><td>jennifer29@taylor-johnson.net</td></tr><tr><td>1975-01-18T10:55:22.090+0000</td><td>1975-01-18T10:55:21.752+0000</td><td>Oklahoma City</td><td>OK</td><td>1075.5</td><td>UA000000102789024</td><td>perryandrew@arnold.com</td></tr><tr><td>1975-01-18T06:39:36.839+0000</td><td>1975-01-18T06:39:06.015+0000</td><td>Cadillac</td><td>MI</td><td>1615.5</td><td>UA000000102789399</td><td>mercadobryan@boyer-collins.com</td></tr><tr><td>1975-01-18T08:05:25.287+0000</td><td>1975-01-18T08:05:24.914+0000</td><td>Los Angeles</td><td>CA</td><td>985.5</td><td>UA000000102789660</td><td>moorewilliam42@yahoo.com</td></tr><tr><td>1975-01-18T05:45:34.472+0000</td><td>1975-01-18T05:45:21.884+0000</td><td>Sunrise</td><td>FL</td><td>535.5</td><td>UA000000102790537</td><td>ismith21@gmail.com</td></tr><tr><td>1975-01-18T09:57:20.890+0000</td><td>1975-01-18T09:56:13.325+0000</td><td>Arlington</td><td>TX</td><td>1075.5</td><td>UA000000102791628</td><td>krystalhooper@carpenter-huang.info</td></tr><tr><td>1975-01-18T08:03:03.882+0000</td><td>1975-01-18T07:58:06.981+0000</td><td>North Chicago</td><td>IL</td><td>940.5</td><td>UA000000102791937</td><td>xgoodwin@yahoo.com</td></tr><tr><td>1975-01-18T07:53:57.321+0000</td><td>1975-01-18T07:53:31.291+0000</td><td>Paterson</td><td>NJ</td><td>535.5</td><td>UA000000102793913</td><td>tiffanybrown@gmail.com</td></tr><tr><td>1975-01-18T06:11:47.421+0000</td><td>1975-01-18T06:11:11.919+0000</td><td>Bountiful</td><td>UT</td><td>940.5</td><td>UA000000102795101</td><td>melanieolson@hotmail.com</td></tr><tr><td>1975-01-18T11:40:16.170+0000</td><td>1975-01-18T11:40:15.600+0000</td><td>Shreveport</td><td>LA</td><td>1615.5</td><td>UA000000102797206</td><td>randall41@gmail.com</td></tr><tr><td>1975-01-18T07:51:31.160+0000</td><td>1975-01-18T07:51:20.981+0000</td><td>Monterey Park</td><td>CA</td><td>985.5</td><td>UA000000102797582</td><td>brian67@snyder.biz</td></tr><tr><td>1975-01-18T08:44:01.716+0000</td><td>1975-01-18T08:43:54.889+0000</td><td>Alice</td><td>TX</td><td>1615.5</td><td>UA000000102797987</td><td>michelle5840@hotmail.com</td></tr><tr><td>1975-01-18T11:22:48.245+0000</td><td>1975-01-18T11:22:43.058+0000</td><td>New York</td><td>NY</td><td>535.5</td><td>UA000000102798257</td><td>nhayes@cummings-cole.org</td></tr><tr><td>1975-01-18T09:48:16.746+0000</td><td>1975-01-18T09:48:12.459+0000</td><td>La Habra</td><td>CA</td><td>535.5</td><td>UA000000102799223</td><td>mbrown@lee.info</td></tr><tr><td>1975-01-18T06:52:39.537+0000</td><td>1975-01-18T06:52:34.700+0000</td><td>Hudson</td><td>OH</td><td>535.5</td><td>UA000000102801091</td><td>alee@keith.org</td></tr><tr><td>1975-01-18T08:23:15.633+0000</td><td>1975-01-18T08:22:54.800+0000</td><td>Clifton</td><td>NJ</td><td>535.5</td><td>UA000000102802899</td><td>higginsbryan@gmail.com</td></tr><tr><td>1975-01-18T11:30:49.432+0000</td><td>1975-01-18T11:28:50.010+0000</td><td>Riverdale</td><td>GA</td><td>850.5</td><td>UA000000102803124</td><td>nicholas85@riley.org</td></tr><tr><td>1975-01-18T08:26:55.458+0000</td><td>1975-01-18T08:24:24.007+0000</td><td>Seguin</td><td>TX</td><td>535.5</td><td>UA000000102804319</td><td>vbrown@tran.com</td></tr><tr><td>1975-01-18T06:52:05.904+0000</td><td>1975-01-18T06:51:55.416+0000</td><td>Phoenix</td><td>AZ</td><td>1075.5</td><td>UA000000102806080</td><td>curtiserica@hotmail.com</td></tr><tr><td>1975-01-18T08:08:17.968+0000</td><td>1975-01-18T08:05:05.086+0000</td><td>Westminster</td><td>CO</td><td>1075.5</td><td>UA000000102806104</td><td>anncarson@gmail.com</td></tr><tr><td>1975-01-18T12:57:31.023+0000</td><td>1975-01-18T12:57:26.447+0000</td><td>Vacaville</td><td>CA</td><td>1075.5</td><td>UA000000102806798</td><td>landryjoseph@gonzalez.net</td></tr><tr><td>1975-01-18T07:24:17.549+0000</td><td>1975-01-18T07:23:34.350+0000</td><td>Chicago</td><td>IL</td><td>1075.5</td><td>UA000000102809261</td><td>scott9410@gmail.com</td></tr><tr><td>1975-01-18T06:19:23.075+0000</td><td>1975-01-18T06:19:05.851+0000</td><td>St. Paul</td><td>MN</td><td>940.5</td><td>UA000000102810155</td><td>teresa07@sullivan.info</td></tr><tr><td>1975-01-18T07:57:24.071+0000</td><td>1975-01-18T07:55:38.716+0000</td><td>Bowling Green</td><td>KY</td><td>940.5</td><td>UA000000102811753</td><td>floreslucas@larson.info</td></tr><tr><td>1975-01-18T10:55:17.958+0000</td><td>1975-01-18T10:55:16.008+0000</td><td>Lawrence</td><td>IN</td><td>940.5</td><td>UA000000102812549</td><td>michaelowen@hotmail.com</td></tr><tr><td>1975-01-18T07:57:57.217+0000</td><td>1975-01-18T07:57:54.577+0000</td><td>Farmington</td><td>NM</td><td>850.5</td><td>UA000000102814329</td><td>caseysteele@gmail.com</td></tr><tr><td>1975-01-18T11:31:08.813+0000</td><td>1975-01-18T11:28:52.130+0000</td><td>St. Clair Shores</td><td>MI</td><td>1795.5</td><td>UA000000102815098</td><td>amanda41@robinson.com</td></tr><tr><td>1975-01-18T09:16:20.185+0000</td><td>1975-01-18T09:11:13.839+0000</td><td>Fayetteville</td><td>NC</td><td>993.6</td><td>UA000000102815688</td><td>jasoncarter89@hotmail.com</td></tr><tr><td>1975-01-18T12:51:15.014+0000</td><td>1975-01-18T12:50:36.865+0000</td><td>Auburn Hills</td><td>MI</td><td>940.5</td><td>UA000000102816152</td><td>qbrock83@yahoo.com</td></tr><tr><td>1975-01-18T11:52:54.932+0000</td><td>1975-01-18T11:50:29.024+0000</td><td>San Antonio</td><td>TX</td><td>1075.5</td><td>UA000000102816978</td><td>johnpowell@harrison.net</td></tr><tr><td>1975-01-18T07:03:47.627+0000</td><td>1975-01-18T07:03:22.843+0000</td><td>New York</td><td>NY</td><td>535.5</td><td>UA000000102818771</td><td>daniel86@hotmail.com</td></tr><tr><td>1975-01-18T10:55:28.589+0000</td><td>1975-01-18T10:54:55.940+0000</td><td>El Paso</td><td>TX</td><td>2506.5</td><td>UA000000102819117</td><td>karenolson@yahoo.com</td></tr><tr><td>1975-01-18T11:12:30.953+0000</td><td>1975-01-18T11:12:03.382+0000</td><td>Joliet</td><td>IL</td><td>535.5</td><td>UA000000102819417</td><td>dudleyjennifer@conley.biz</td></tr><tr><td>1975-01-18T07:47:54.280+0000</td><td>1975-01-18T07:47:53.197+0000</td><td>Los Angeles</td><td>CA</td><td>1071.0</td><td>UA000000102821468</td><td>justin4371@gmail.com</td></tr><tr><td>1975-01-18T09:19:16.653+0000</td><td>1975-01-18T09:18:11.856+0000</td><td>Virginia Beach</td><td>VA</td><td>1848.6</td><td>UA000000102822935</td><td>ftorres82@hotmail.com</td></tr><tr><td>1975-01-18T09:31:20.123+0000</td><td>1975-01-18T09:31:19.281+0000</td><td>New York</td><td>NY</td><td>1071.0</td><td>UA000000102823054</td><td>pward@yahoo.com</td></tr><tr><td>1975-01-18T07:28:31.844+0000</td><td>1975-01-18T07:28:28.237+0000</td><td>Jordan</td><td>MN</td><td>940.5</td><td>UA000000102823474</td><td>williecardenas@hotmail.com</td></tr><tr><td>1975-01-18T11:03:34.571+0000</td><td>1975-01-18T11:02:03.680+0000</td><td>Irving</td><td>TX</td><td>53.1</td><td>UA000000102823675</td><td>jerryedwards@li.com</td></tr><tr><td>1975-01-18T08:21:35.310+0000</td><td>1975-01-18T08:21:27.911+0000</td><td>South Ogden</td><td>UT</td><td>940.5</td><td>UA000000102827849</td><td>travis41@yahoo.com</td></tr><tr><td>1975-01-18T12:59:00.415+0000</td><td>1975-01-18T12:58:59.181+0000</td><td>Gresham</td><td>OR</td><td>985.5</td><td>UA000000102828656</td><td>shannonramos@woods.com</td></tr><tr><td>1975-01-18T05:17:06.374+0000</td><td>1975-01-18T05:17:04.495+0000</td><td>Indianapolis</td><td>IN</td><td>2016.0</td><td>UA000000102829289</td><td>stacygardner@hotmail.com</td></tr><tr><td>1975-01-18T11:41:35.623+0000</td><td>1975-01-18T11:40:50.008+0000</td><td>Kankakee</td><td>IL</td><td>940.5</td><td>UA000000102830602</td><td>stacykhan@jones.org</td></tr><tr><td>1975-01-18T07:47:51.228+0000</td><td>1975-01-18T07:47:39.871+0000</td><td>Kansas City</td><td>KS</td><td>850.5</td><td>UA000000102830982</td><td>anthonymoreno@hardy-jackson.info</td></tr><tr><td>1975-01-18T08:34:25.151+0000</td><td>1975-01-18T08:34:14.224+0000</td><td>Philadelphia</td><td>PA</td><td>850.5</td><td>UA000000102832205</td><td>sandra32@yahoo.com</td></tr><tr><td>1975-01-18T12:25:42.560+0000</td><td>1975-01-18T12:25:40.083+0000</td><td>Medford</td><td>MA</td><td>1075.5</td><td>UA000000102834928</td><td>jfrancis@yahoo.com</td></tr><tr><td>1975-01-18T05:58:06.946+0000</td><td>1975-01-18T05:56:18.699+0000</td><td>New York</td><td>NY</td><td>850.5</td><td>UA000000102838920</td><td>kenneth20@hotmail.com</td></tr><tr><td>1975-01-18T07:12:21.827+0000</td><td>1975-01-18T07:10:14.673+0000</td><td>Tucson</td><td>AZ</td><td>53.1</td><td>UA000000102841041</td><td>zdunn@ramos.com</td></tr><tr><td>1975-01-18T10:34:27.767+0000</td><td>1975-01-18T10:34:27.383+0000</td><td>Clarksdale</td><td>MS</td><td>940.5</td><td>UA000000102842516</td><td>cswanson@tucker-freeman.info</td></tr><tr><td>1975-01-18T07:19:01.847+0000</td><td>1975-01-18T07:18:51.349+0000</td><td>Long Beach</td><td>CA</td><td>1615.5</td><td>UA000000102844687</td><td>robert19@galloway.com</td></tr><tr><td>1975-01-18T10:45:39.830+0000</td><td>1975-01-18T10:44:44.366+0000</td><td>Cameron</td><td>MO</td><td>1075.5</td><td>UA000000102846929</td><td>frank91@vasquez-fowler.com</td></tr><tr><td>1975-01-18T06:52:51.067+0000</td><td>1975-01-18T06:52:50.765+0000</td><td>Stonecrest</td><td>GA</td><td>535.5</td><td>UA000000102847348</td><td>michele87@kirk-barrett.com</td></tr><tr><td>1975-01-18T16:04:01.352+0000</td><td>1975-01-18T16:03:17.921+0000</td><td>Indianapolis</td><td>IN</td><td>1075.5</td><td>UA000000102852028</td><td>goliver76@yahoo.com</td></tr><tr><td>1975-01-18T05:33:29.940+0000</td><td>1975-01-18T05:33:24.847+0000</td><td>Jasper</td><td>AL</td><td>850.5</td><td>UA000000102853413</td><td>johnwest@baker-molina.com</td></tr><tr><td>1975-01-18T09:10:15.307+0000</td><td>1975-01-18T09:10:08.180+0000</td><td>Daytona Beach</td><td>FL</td><td>1075.5</td><td>UA000000102853424</td><td>rrobbins42@gmail.com</td></tr><tr><td>1975-01-18T10:29:32.794+0000</td><td>1975-01-18T10:29:32.592+0000</td><td>Clinton</td><td>MS</td><td>1075.5</td><td>UA000000102854239</td><td>hernandezjoseph38@hotmail.com</td></tr><tr><td>1975-01-18T10:01:48.093+0000</td><td>1975-01-18T10:00:54.075+0000</td><td>Virginia Beach</td><td>VA</td><td>1615.5</td><td>UA000000102854401</td><td>kpugh@gmail.com</td></tr><tr><td>1975-01-18T10:22:57.451+0000</td><td>1975-01-18T10:22:46.495+0000</td><td>New York</td><td>NY</td><td>940.5</td><td>UA000000102854470</td><td>petergarcia@yahoo.com</td></tr><tr><td>1975-01-18T07:42:19.285+0000</td><td>1975-01-18T07:42:18.803+0000</td><td>Tallahassee</td><td>FL</td><td>985.5</td><td>UA000000102854917</td><td>parkssandra@johnson.com</td></tr><tr><td>1975-01-18T10:58:35.613+0000</td><td>1975-01-18T10:58:33.083+0000</td><td>Thousand Oaks</td><td>CA</td><td>1476.0</td><td>UA000000102855409</td><td>beckythompson@gmail.com</td></tr><tr><td>1975-01-18T09:25:33.315+0000</td><td>1975-01-18T09:24:54.692+0000</td><td>Clinton</td><td>OK</td><td>850.5</td><td>UA000000102856477</td><td>rittersara@sherman.biz</td></tr><tr><td>1975-01-18T08:06:54.699+0000</td><td>1975-01-18T08:06:25.057+0000</td><td>Menlo Park</td><td>CA</td><td>1525.5</td><td>UA000000102856617</td><td>ycurry64@gmail.com</td></tr><tr><td>1975-01-18T07:57:44.845+0000</td><td>1975-01-18T07:56:25.854+0000</td><td>Pine Bluff</td><td>AR</td><td>1075.5</td><td>UA000000102856809</td><td>williammercado@hotmail.com</td></tr><tr><td>1975-01-18T11:18:15.117+0000</td><td>1975-01-18T11:15:49.012+0000</td><td>Kearney</td><td>MO</td><td>940.5</td><td>UA000000102857418</td><td>etaylor@diaz.com</td></tr><tr><td>1975-01-18T11:09:12.101+0000</td><td>1975-01-18T11:07:27.010+0000</td><td>Marion</td><td>IN</td><td>1075.5</td><td>UA000000102857422</td><td>flin@alexander.com</td></tr><tr><td>1975-01-18T10:03:19.156+0000</td><td>1975-01-18T10:02:52.870+0000</td><td>D'Iberville</td><td>MS</td><td>535.5</td><td>UA000000102857424</td><td>nortongary@cook.biz</td></tr><tr><td>1975-01-18T10:29:13.676+0000</td><td>1975-01-18T10:27:56.891+0000</td><td>Nash</td><td>TX</td><td>535.5</td><td>UA000000102857641</td><td>jenkinsstephanie@hotmail.com</td></tr><tr><td>1975-01-18T09:25:53.395+0000</td><td>1975-01-18T09:23:45.762+0000</td><td>Boston</td><td>MA</td><td>850.5</td><td>UA000000102861584</td><td>whouston@hotmail.com</td></tr><tr><td>1975-01-18T10:43:20.286+0000</td><td>1975-01-18T10:42:22.383+0000</td><td>Burlington</td><td>NC</td><td>940.5</td><td>UA000000102862671</td><td>campbellterri@gmail.com</td></tr><tr><td>1975-01-18T07:54:55.581+0000</td><td>1975-01-18T07:52:13.828+0000</td><td>Canton</td><td>GA</td><td>535.5</td><td>UA000000102862830</td><td>amy2278@yahoo.com</td></tr><tr><td>1975-01-18T08:01:06.936+0000</td><td>1975-01-18T08:01:05.851+0000</td><td>Shelby</td><td>OH</td><td>1075.5</td><td>UA000000102863346</td><td>stevenbarker@yahoo.com</td></tr><tr><td>1975-01-18T12:20:35.322+0000</td><td>1975-01-18T12:20:16.613+0000</td><td>Poway</td><td>CA</td><td>535.5</td><td>UA000000102863612</td><td>peter27@gmail.com</td></tr><tr><td>1975-01-18T06:14:51.122+0000</td><td>1975-01-18T06:13:22.939+0000</td><td>Missoula</td><td>MT</td><td>1075.5</td><td>UA000000102863792</td><td>danielledavid@garcia.com</td></tr><tr><td>1975-01-18T11:26:45.931+0000</td><td>1975-01-18T11:26:10.716+0000</td><td>Fargo</td><td>ND</td><td>940.5</td><td>UA000000102864694</td><td>jillianbraun@yahoo.com</td></tr><tr><td>1975-01-18T10:40:27.562+0000</td><td>1975-01-18T10:40:19.445+0000</td><td>Cedar Hill</td><td>TX</td><td>535.5</td><td>UA000000102865096</td><td>edward86@gonzalez.com</td></tr><tr><td>1975-01-18T09:27:33.763+0000</td><td>1975-01-18T09:26:36.530+0000</td><td>Burbank</td><td>CA</td><td>1075.5</td><td>UA000000102866798</td><td>gdavis41@yahoo.com</td></tr><tr><td>1975-01-18T06:10:23.192+0000</td><td>1975-01-18T06:10:14.333+0000</td><td>Warren</td><td>MI</td><td>940.5</td><td>UA000000102866925</td><td>jonesthomas@johnson-newman.com</td></tr><tr><td>1975-01-18T06:51:35.857+0000</td><td>1975-01-18T06:51:23.610+0000</td><td>Jacksonville</td><td>FL</td><td>1722.6</td><td>UA000000102867606</td><td>beth30@hotmail.com</td></tr><tr><td>1975-01-18T08:04:12.280+0000</td><td>1975-01-18T08:03:09.060+0000</td><td>Milford</td><td>CT</td><td>850.5</td><td>UA000000102867643</td><td>ashley39@watts-moreno.com</td></tr><tr><td>1975-01-18T13:38:49.913+0000</td><td>1975-01-18T13:38:36.567+0000</td><td>Champlin</td><td>MN</td><td>1615.5</td><td>UA000000102868688</td><td>kari26@massey.org</td></tr><tr><td>1975-01-18T10:17:54.072+0000</td><td>1975-01-18T10:17:26.194+0000</td><td>Boston</td><td>MA</td><td>940.5</td><td>UA000000102870400</td><td>jeremy41@johnson.com</td></tr><tr><td>1975-01-18T06:14:26.095+0000</td><td>1975-01-18T06:12:17.819+0000</td><td>New York</td><td>NY</td><td>2654.1</td><td>UA000000102870641</td><td>amartin70@hotmail.com</td></tr><tr><td>1975-01-18T13:20:19.150+0000</td><td>1975-01-18T13:20:10.979+0000</td><td>Cleveland</td><td>OH</td><td>535.5</td><td>UA000000102870886</td><td>crodgers@smith.com</td></tr><tr><td>1975-01-18T11:08:11.294+0000</td><td>1975-01-18T11:08:10.573+0000</td><td>Shreveport</td><td>LA</td><td>985.5</td><td>UA000000102870949</td><td>eaguilar@rhodes.com</td></tr><tr><td>1975-01-18T09:47:15.239+0000</td><td>1975-01-18T09:46:52.495+0000</td><td>Chicago</td><td>IL</td><td>535.5</td><td>UA000000102873199</td><td>shawcory@yahoo.com</td></tr><tr><td>1975-01-18T10:58:57.950+0000</td><td>1975-01-18T10:58:57.685+0000</td><td>Memphis</td><td>TN</td><td>850.5</td><td>UA000000102873834</td><td>johnstonsavannah@gmail.com</td></tr><tr><td>1975-01-18T07:37:23.673+0000</td><td>1975-01-18T07:36:25.941+0000</td><td>Melbourne</td><td>FL</td><td>1075.5</td><td>UA000000102874892</td><td>ochoajose@gmail.com</td></tr><tr><td>1975-01-18T10:10:24.944+0000</td><td>1975-01-18T10:10:20.225+0000</td><td>Sandusky</td><td>OH</td><td>535.5</td><td>UA000000102874943</td><td>pmiller@guzman-williams.org</td></tr><tr><td>1975-01-18T06:25:22.422+0000</td><td>1975-01-18T06:25:22.121+0000</td><td>Manchester</td><td>NH</td><td>1476.0</td><td>UA000000102876216</td><td>joseph97@peterson-garcia.com</td></tr><tr><td>1975-01-18T10:23:10.739+0000</td><td>1975-01-18T10:22:53.869+0000</td><td>New York</td><td>NY</td><td>535.5</td><td>UA000000102876732</td><td>phillip70@welch.org</td></tr><tr><td>1975-01-18T11:54:38.697+0000</td><td>1975-01-18T11:53:37.627+0000</td><td>Richmond</td><td>CA</td><td>1795.5</td><td>UA000000102878223</td><td>cedwards@white.com</td></tr><tr><td>1975-01-18T07:53:49.531+0000</td><td>1975-01-18T07:53:26.341+0000</td><td>Tacoma</td><td>WA</td><td>535.5</td><td>UA000000102879972</td><td>davidkelley@morgan-davis.com</td></tr><tr><td>1975-01-18T09:03:03.892+0000</td><td>1975-01-18T09:02:21.386+0000</td><td>Pequot Lakes</td><td>MN</td><td>1047.6</td><td>UA000000102882627</td><td>rothnathan@henry-johnson.com</td></tr><tr><td>1975-01-18T08:18:07.010+0000</td><td>1975-01-18T08:14:04.424+0000</td><td>St. Marys</td><td>OH</td><td>1615.5</td><td>UA000000102884864</td><td>johnsanders@gmail.com</td></tr><tr><td>1975-01-18T10:15:29.974+0000</td><td>1975-01-18T10:14:51.439+0000</td><td>Maple Grove</td><td>MN</td><td>850.5</td><td>UA000000102887079</td><td>newtonolivia@fisher.com</td></tr><tr><td>1975-01-18T10:19:38.836+0000</td><td>1975-01-18T10:19:28.467+0000</td><td>Atlanta</td><td>GA</td><td>53.1</td><td>UA000000102887752</td><td>jblevins@hotmail.com</td></tr><tr><td>1975-01-18T08:21:09.825+0000</td><td>1975-01-18T08:21:03.392+0000</td><td>Stockton</td><td>CA</td><td>1075.5</td><td>UA000000102889908</td><td>mweaver@brown.com</td></tr><tr><td>1975-01-18T08:52:14.453+0000</td><td>1975-01-18T08:50:34.848+0000</td><td>Norfolk</td><td>VA</td><td>1795.5</td><td>UA000000102891520</td><td>gary00@hotmail.com</td></tr><tr><td>1975-01-18T05:59:39.405+0000</td><td>1975-01-18T05:59:14.472+0000</td><td>Jersey City</td><td>NJ</td><td>3046.5</td><td>UA000000102892234</td><td>danielgeorge@navarro.com</td></tr><tr><td>1975-01-18T07:31:37.071+0000</td><td>1975-01-18T07:30:47.325+0000</td><td>Tucson</td><td>AZ</td><td>940.5</td><td>UA000000102893974</td><td>ronnie50@castillo.com</td></tr><tr><td>1975-01-18T10:38:04.727+0000</td><td>1975-01-18T10:37:41.226+0000</td><td>Lafayette</td><td>LA</td><td>107.10000000000001</td><td>UA000000102894162</td><td>abrooks@hotmail.com</td></tr><tr><td>1975-01-18T08:59:21.176+0000</td><td>1975-01-18T08:58:40.586+0000</td><td>Laredo</td><td>TX</td><td>1611.0</td><td>UA000000102894885</td><td>bwilliams@kent.com</td></tr><tr><td>1975-01-18T06:51:01.842+0000</td><td>1975-01-18T06:50:45.060+0000</td><td>Cairo</td><td>GA</td><td>940.5</td><td>UA000000102895417</td><td>gravesbrenda@walker-price.com</td></tr><tr><td>1975-01-18T09:16:04.458+0000</td><td>1975-01-18T09:16:02.540+0000</td><td>Asheville</td><td>NC</td><td>850.5</td><td>UA000000102895426</td><td>hkaufman@harris-gaines.org</td></tr><tr><td>1975-01-18T09:56:40.050+0000</td><td>1975-01-18T09:55:45.172+0000</td><td>Flint</td><td>MI</td><td>940.5</td><td>UA000000102895439</td><td>sriddle@oneill.com</td></tr><tr><td>1975-01-18T06:08:45.565+0000</td><td>1975-01-18T06:08:30.043+0000</td><td>Philadelphia</td><td>PA</td><td>1038.6</td><td>UA000000102895641</td><td>nmiller54@hotmail.com</td></tr><tr><td>1975-01-18T05:28:42.277+0000</td><td>1975-01-18T05:26:15.414+0000</td><td>Lowell</td><td>MA</td><td>535.5</td><td>UA000000102895646</td><td>raymondlewis@hotmail.com</td></tr><tr><td>1975-01-18T06:24:09.284+0000</td><td>1975-01-18T06:24:07.229+0000</td><td>San Clemente</td><td>CA</td><td>535.5</td><td>UA000000102896213</td><td>carlos02@hotmail.com</td></tr><tr><td>1975-01-18T06:20:00.105+0000</td><td>1975-01-18T06:19:56.749+0000</td><td>Fremont</td><td>CA</td><td>1075.5</td><td>UA000000102896857</td><td>williamsjessica@yahoo.com</td></tr><tr><td>1975-01-18T10:22:34.659+0000</td><td>1975-01-18T10:22:28.911+0000</td><td>Durham</td><td>NC</td><td>1075.5</td><td>UA000000102897995</td><td>robert68@hayes.net</td></tr><tr><td>1975-01-18T07:46:48.464+0000</td><td>1975-01-18T07:46:47.309+0000</td><td>Lawrence</td><td>MA</td><td>985.5</td><td>UA000000102898332</td><td>haneystephen@moore.com</td></tr><tr><td>1975-01-18T10:42:12.827+0000</td><td>1975-01-18T10:40:47.034+0000</td><td>Racine</td><td>WI</td><td>1795.5</td><td>UA000000102899604</td><td>charles0493@gmail.com</td></tr><tr><td>1975-01-18T06:11:33.685+0000</td><td>1975-01-18T06:11:33.465+0000</td><td>Detroit</td><td>MI</td><td>940.5</td><td>UA000000102899621</td><td>kristindean@hotmail.com</td></tr><tr><td>1975-01-18T08:02:21.731+0000</td><td>1975-01-18T08:02:19.332+0000</td><td>Seattle</td><td>WA</td><td>535.5</td><td>UA000000102900969</td><td>stephanie52@miller-walker.biz</td></tr><tr><td>1975-01-18T07:38:22.843+0000</td><td>1975-01-18T07:35:59.846+0000</td><td>Lynden</td><td>WA</td><td>535.5</td><td>UA000000102902652</td><td>dsimpson@cole.biz</td></tr><tr><td>1975-01-18T08:30:57.611+0000</td><td>1975-01-18T08:30:31.750+0000</td><td>Palmdale</td><td>CA</td><td>1075.5</td><td>UA000000102902670</td><td>nvazquez@gmail.com</td></tr><tr><td>1975-01-18T07:14:37.933+0000</td><td>1975-01-18T07:14:33.229+0000</td><td>Eureka</td><td>MO</td><td>1075.5</td><td>UA000000102903945</td><td>carlos12@yahoo.com</td></tr><tr><td>1975-01-18T09:29:33.296+0000</td><td>1975-01-18T09:28:57.039+0000</td><td>Wilsonville</td><td>OR</td><td>535.5</td><td>UA000000102904568</td><td>sblevins42@yahoo.com</td></tr><tr><td>1975-01-18T10:42:53.959+0000</td><td>1975-01-18T10:42:52.425+0000</td><td>Lake Charles</td><td>LA</td><td>3001.5</td><td>UA000000102905206</td><td>lewismark@gmail.com</td></tr><tr><td>1975-01-18T11:33:20.211+0000</td><td>1975-01-18T11:33:16.887+0000</td><td>Clermont</td><td>FL</td><td>850.5</td><td>UA000000102907286</td><td>carrieochoa@nguyen-robinson.com</td></tr><tr><td>1975-01-18T12:50:42.935+0000</td><td>1975-01-18T12:50:33.811+0000</td><td>Fishers</td><td>IN</td><td>985.5</td><td>UA000000102907669</td><td>carl37@gmail.com</td></tr><tr><td>1975-01-18T12:09:56.078+0000</td><td>1975-01-18T12:09:53.149+0000</td><td>Lower Burrell</td><td>PA</td><td>940.5</td><td>UA000000102908995</td><td>johnbrown@harvey.com</td></tr><tr><td>1975-01-18T08:21:55.953+0000</td><td>1975-01-18T08:21:53.584+0000</td><td>Twentynine Palms</td><td>CA</td><td>1075.5</td><td>UA000000102909334</td><td>vanessacampos@hotmail.com</td></tr><tr><td>1975-01-18T12:50:57.735+0000</td><td>1975-01-18T12:49:08.673+0000</td><td>Marks</td><td>MS</td><td>940.5</td><td>UA000000102912731</td><td>jeremy6997@gmail.com</td></tr><tr><td>1975-01-18T08:01:08.269+0000</td><td>1975-01-18T08:00:34.208+0000</td><td>Alexander City</td><td>AL</td><td>1075.5</td><td>UA000000102913756</td><td>jeremy14@hotmail.com</td></tr><tr><td>1975-01-18T06:24:43.012+0000</td><td>1975-01-18T06:24:34.805+0000</td><td>San Francisco</td><td>CA</td><td>107.10000000000001</td><td>UA000000102914590</td><td>anthonydoyle@duffy.com</td></tr><tr><td>1975-01-18T13:34:29.961+0000</td><td>1975-01-18T13:33:17.852+0000</td><td>Medford</td><td>MA</td><td>940.5</td><td>UA000000102915547</td><td>cynthia72@gmail.com</td></tr><tr><td>1975-01-18T09:05:46.450+0000</td><td>1975-01-18T08:57:29.933+0000</td><td>New York</td><td>NY</td><td>850.5</td><td>UA000000102916745</td><td>raymondknapp@oconnor.info</td></tr><tr><td>1975-01-18T10:16:12.366+0000</td><td>1975-01-18T10:13:33.502+0000</td><td>Sherrill</td><td>NY</td><td>850.5</td><td>UA000000102916868</td><td>jjohnson58@hotmail.com</td></tr><tr><td>1975-01-18T13:47:09.249+0000</td><td>1975-01-18T13:46:41.315+0000</td><td>Baker</td><td>LA</td><td>940.5</td><td>UA000000102916935</td><td>aliciapena@caldwell.com</td></tr><tr><td>1975-01-18T09:05:20.593+0000</td><td>1975-01-18T09:01:30.940+0000</td><td>Sunnyvale</td><td>CA</td><td>1075.5</td><td>UA000000102917345</td><td>morrisnicholas@sanchez-hall.com</td></tr><tr><td>1975-01-18T10:28:00.049+0000</td><td>1975-01-18T10:27:51.783+0000</td><td>Crossville</td><td>TN</td><td>1182.6</td><td>UA000000102917671</td><td>marie39@coleman.biz</td></tr><tr><td>1975-01-18T07:42:20.907+0000</td><td>1975-01-18T07:42:07.001+0000</td><td>Fort Worth</td><td>TX</td><td>850.5</td><td>UA000000102918583</td><td>dawn32@smith-zamora.com</td></tr><tr><td>1975-01-18T10:11:59.478+0000</td><td>1975-01-18T10:11:13.804+0000</td><td>Columbus</td><td>OH</td><td>985.5</td><td>UA000000102918917</td><td>kimberly60@yahoo.com</td></tr><tr><td>1975-01-18T08:05:10.492+0000</td><td>1975-01-18T08:03:21.891+0000</td><td>Goodyear</td><td>AZ</td><td>940.5</td><td>UA000000102921676</td><td>xburns@hotmail.com</td></tr><tr><td>1975-01-18T10:07:59.967+0000</td><td>1975-01-18T10:07:34.002+0000</td><td>Knoxville</td><td>TN</td><td>1146.6</td><td>UA000000102923274</td><td>zhines@wilson.biz</td></tr><tr><td>1975-01-18T07:19:20.078+0000</td><td>1975-01-18T07:17:47.440+0000</td><td>Wheaton</td><td>IL</td><td>850.5</td><td>UA000000102924124</td><td>boyercarol@yahoo.com</td></tr><tr><td>1975-01-18T06:18:12.103+0000</td><td>1975-01-18T06:15:56.871+0000</td><td>Vine Grove</td><td>KY</td><td>1075.5</td><td>UA000000102924225</td><td>murillolaurie@gmail.com</td></tr><tr><td>1975-01-18T06:13:53.054+0000</td><td>1975-01-18T06:13:06.265+0000</td><td>Menifee</td><td>CA</td><td>1075.5</td><td>UA000000102925675</td><td>christineflynn@gmail.com</td></tr><tr><td>1975-01-18T06:34:37.370+0000</td><td>1975-01-18T06:33:40.581+0000</td><td>Fontana</td><td>CA</td><td>1182.6</td><td>UA000000102926463</td><td>rossjennifer@olsen-boyd.com</td></tr><tr><td>1975-01-18T11:07:38.125+0000</td><td>1975-01-18T11:06:47.278+0000</td><td>Hurricane</td><td>UT</td><td>993.6</td><td>UA000000102926708</td><td>christopher1491@gmail.com</td></tr><tr><td>1975-01-18T07:13:20.525+0000</td><td>1975-01-18T07:11:03.697+0000</td><td>New York</td><td>NY</td><td>1615.5</td><td>UA000000102927368</td><td>michael1561@yahoo.com</td></tr><tr><td>1975-01-18T08:40:24.263+0000</td><td>1975-01-18T08:39:27.404+0000</td><td>Inman</td><td>SC</td><td>1075.5</td><td>UA000000102928628</td><td>mooredustin@yahoo.com</td></tr><tr><td>1975-01-18T10:07:25.577+0000</td><td>1975-01-18T10:06:39.757+0000</td><td>Los Angeles</td><td>CA</td><td>1075.5</td><td>UA000000102931183</td><td>wadeheather@hotmail.com</td></tr><tr><td>1975-01-18T13:09:06.139+0000</td><td>1975-01-18T13:09:01.142+0000</td><td>Dallas</td><td>TX</td><td>940.5</td><td>UA000000102931417</td><td>andrew4644@gmail.com</td></tr><tr><td>1975-01-18T08:40:13.915+0000</td><td>1975-01-18T08:39:51.195+0000</td><td>Cape Coral</td><td>FL</td><td>940.5</td><td>UA000000102933185</td><td>john02@vasquez.com</td></tr><tr><td>1975-01-18T07:39:16.565+0000</td><td>1975-01-18T07:39:10.648+0000</td><td>Sacramento</td><td>CA</td><td>1615.5</td><td>UA000000102933543</td><td>mcarson8@hotmail.com</td></tr><tr><td>1975-01-18T09:24:55.581+0000</td><td>1975-01-18T09:23:31.333+0000</td><td>Martins Ferry</td><td>OH</td><td>1075.5</td><td>UA000000102935147</td><td>upena@gmail.com</td></tr><tr><td>1975-01-18T12:54:59.130+0000</td><td>1975-01-18T12:54:58.189+0000</td><td>Stanton</td><td>CA</td><td>1075.5</td><td>UA000000102935626</td><td>ebrady@johnson.biz</td></tr><tr><td>1975-01-18T06:33:29.825+0000</td><td>1975-01-18T06:32:25.949+0000</td><td>Burlington</td><td>VT</td><td>940.5</td><td>UA000000102935822</td><td>nicholas58@martin.com</td></tr><tr><td>1975-01-18T07:10:31.333+0000</td><td>1975-01-18T07:10:30.417+0000</td><td>Greensboro</td><td>NC</td><td>535.5</td><td>UA000000102936354</td><td>darleneknight@hotmail.com</td></tr><tr><td>1975-01-18T09:14:40.530+0000</td><td>1975-01-18T09:14:26.077+0000</td><td>Woodland Park</td><td>CO</td><td>1525.5</td><td>UA000000102936866</td><td>bradshawjessica@gmail.com</td></tr><tr><td>1975-01-18T07:37:50.159+0000</td><td>1975-01-18T07:37:03.910+0000</td><td>Montgomery</td><td>WV</td><td>1795.5</td><td>UA000000102938028</td><td>bryan82@vance.com</td></tr><tr><td>1975-01-18T08:50:58.506+0000</td><td>1975-01-18T08:50:03.434+0000</td><td>Renton</td><td>WA</td><td>1075.5</td><td>UA000000102939952</td><td>maryvega@martin.info</td></tr><tr><td>1975-01-18T10:35:09.647+0000</td><td>1975-01-18T10:32:35.408+0000</td><td>Chula Vista</td><td>CA</td><td>535.5</td><td>UA000000102940691</td><td>amcguire@hotmail.com</td></tr><tr><td>1975-01-18T06:13:23.891+0000</td><td>1975-01-18T06:10:04.174+0000</td><td>Jackson</td><td>MS</td><td>985.5</td><td>UA000000102942075</td><td>ashleygarcia@ramirez.com</td></tr><tr><td>1975-01-18T06:13:36.054+0000</td><td>1975-01-18T06:13:15.500+0000</td><td>Sultan</td><td>WA</td><td>1075.5</td><td>UA000000102947000</td><td>robinsonbethany@jones.org</td></tr><tr><td>1975-01-18T08:10:00.381+0000</td><td>1975-01-18T08:09:58.243+0000</td><td>St. Paul</td><td>MN</td><td>1615.5</td><td>UA000000102947646</td><td>debraadams@little.biz</td></tr><tr><td>1975-01-18T09:44:46.303+0000</td><td>1975-01-18T09:44:44.241+0000</td><td>Detroit</td><td>MI</td><td>1795.5</td><td>UA000000102948322</td><td>scottbean@lynch.info</td></tr><tr><td>1975-01-18T08:32:55.582+0000</td><td>1975-01-18T08:32:54.794+0000</td><td>New York</td><td>NY</td><td>1615.5</td><td>UA000000102950091</td><td>pamela49@nelson.com</td></tr><tr><td>1975-01-18T05:14:44.063+0000</td><td>1975-01-18T05:14:01.083+0000</td><td>Columbia</td><td>MO</td><td>940.5</td><td>UA000000102951312</td><td>xperez@thomas.biz</td></tr><tr><td>1975-01-18T09:49:51.655+0000</td><td>1975-01-18T09:48:39.220+0000</td><td>Minden</td><td>LA</td><td>1386.0</td><td>UA000000102952132</td><td>wharrington@cox.biz</td></tr><tr><td>1975-01-18T05:44:00.220+0000</td><td>1975-01-18T05:42:28.429+0000</td><td>Rowlett</td><td>TX</td><td>850.5</td><td>UA000000102952462</td><td>steven65@yahoo.com</td></tr><tr><td>1975-01-18T09:36:32.807+0000</td><td>1975-01-18T09:36:31.595+0000</td><td>San Antonio</td><td>TX</td><td>1075.5</td><td>UA000000102952547</td><td>thayes@lopez.net</td></tr><tr><td>1975-01-18T11:39:36.125+0000</td><td>1975-01-18T11:36:25.871+0000</td><td>San Antonio</td><td>TX</td><td>1615.5</td><td>UA000000102952550</td><td>pattonjames85@yahoo.com</td></tr><tr><td>1975-01-18T06:01:41.073+0000</td><td>1975-01-18T05:58:26.786+0000</td><td>Medford</td><td>MA</td><td>1075.5</td><td>UA000000102952953</td><td>hilllindsey@yahoo.com</td></tr><tr><td>1975-01-18T12:56:06.643+0000</td><td>1975-01-18T12:56:05.900+0000</td><td>Sunnyvale</td><td>CA</td><td>1791.0</td><td>UA000000102954371</td><td>courtney76@tucker.com</td></tr><tr><td>1975-01-18T09:57:41.180+0000</td><td>1975-01-18T09:55:48.655+0000</td><td>Harriman</td><td>TN</td><td>850.5</td><td>UA000000102955241</td><td>gmayo@carter-cunningham.com</td></tr><tr><td>1975-01-18T10:52:54.600+0000</td><td>1975-01-18T10:51:28.639+0000</td><td>Lowell</td><td>MA</td><td>1075.5</td><td>UA000000102955388</td><td>manuelthomas@rodriguez.com</td></tr><tr><td>1975-01-18T06:11:02.975+0000</td><td>1975-01-18T06:10:26.601+0000</td><td>Arlington</td><td>TX</td><td>1075.5</td><td>UA000000102956032</td><td>terriobrien@morgan-harper.org</td></tr><tr><td>1975-01-18T06:38:13.775+0000</td><td>1975-01-18T06:37:40.345+0000</td><td>Plano</td><td>TX</td><td>535.5</td><td>UA000000102956665</td><td>vbell@alexander-thomas.info</td></tr><tr><td>1975-01-18T10:01:26.929+0000</td><td>1975-01-18T10:01:12.655+0000</td><td>Cudahy</td><td>CA</td><td>985.5</td><td>UA000000102961059</td><td>medinacalvin@yahoo.com</td></tr><tr><td>1975-01-18T08:21:34.669+0000</td><td>1975-01-18T08:21:12.844+0000</td><td>Villa Hills</td><td>KY</td><td>535.5</td><td>UA000000102961081</td><td>hendersonsusan@hotmail.com</td></tr><tr><td>1975-01-18T12:13:03.146+0000</td><td>1975-01-18T12:12:34.717+0000</td><td>Shreveport</td><td>LA</td><td>1075.5</td><td>UA000000102961991</td><td>mcdonaldapril@yahoo.com</td></tr><tr><td>1975-01-18T08:55:03.283+0000</td><td>1975-01-18T08:55:02.141+0000</td><td>Galesburg</td><td>IL</td><td>53.1</td><td>UA000000102962670</td><td>mcbridemichael@hill-evans.com</td></tr><tr><td>1975-01-18T08:02:49.235+0000</td><td>1975-01-18T08:02:18.389+0000</td><td>Portland</td><td>OR</td><td>1615.5</td><td>UA000000102963317</td><td>crossdarren@yahoo.com</td></tr><tr><td>1975-01-18T07:50:55.565+0000</td><td>1975-01-18T07:50:51.453+0000</td><td>Kokomo</td><td>IN</td><td>71.10000000000001</td><td>UA000000102964101</td><td>xsmith4@yahoo.com</td></tr><tr><td>1975-01-18T10:17:26.306+0000</td><td>1975-01-18T10:17:24.062+0000</td><td>Phoenix</td><td>AZ</td><td>1615.5</td><td>UA000000102965198</td><td>denise51@jackson.com</td></tr><tr><td>1975-01-18T09:09:11.852+0000</td><td>1975-01-18T09:08:51.440+0000</td><td>New York</td><td>NY</td><td>642.6</td><td>UA000000102965529</td><td>alewis@petty.com</td></tr><tr><td>1975-01-18T10:48:02.936+0000</td><td>1975-01-18T10:46:41.041+0000</td><td>Syracuse</td><td>NY</td><td>1615.5</td><td>UA000000102966092</td><td>qhanson@zimmerman.com</td></tr><tr><td>1975-01-18T09:06:32.256+0000</td><td>1975-01-18T09:06:04.835+0000</td><td>Newark</td><td>NJ</td><td>850.5</td><td>UA000000102968949</td><td>bradley90@hotmail.com</td></tr><tr><td>1975-01-18T07:59:24.803+0000</td><td>1975-01-18T07:58:12.182+0000</td><td>Lewisville</td><td>TX</td><td>535.5</td><td>UA000000102970653</td><td>hvillanueva@yahoo.com</td></tr><tr><td>1975-01-18T08:06:26.081+0000</td><td>1975-01-18T08:06:21.338+0000</td><td>Houston</td><td>TX</td><td>535.5</td><td>UA000000102971744</td><td>hornjames@yahoo.com</td></tr><tr><td>1975-01-18T08:33:44.041+0000</td><td>1975-01-18T08:33:19.384+0000</td><td>Tampa</td><td>FL</td><td>850.5</td><td>UA000000102972953</td><td>jbrown@pierce.biz</td></tr><tr><td>1975-01-18T11:22:15.190+0000</td><td>1975-01-18T11:21:47.224+0000</td><td>Buffalo</td><td>NY</td><td>940.5</td><td>UA000000102973682</td><td>prodgers@taylor-calderon.net</td></tr><tr><td>1975-01-18T07:12:15.398+0000</td><td>1975-01-18T07:12:12.840+0000</td><td>El Centro</td><td>CA</td><td>940.5</td><td>UA000000102973731</td><td>jacob5265@hotmail.com</td></tr><tr><td>1975-01-18T06:44:32.463+0000</td><td>1975-01-18T06:42:37.967+0000</td><td>Fort Collins</td><td>CO</td><td>1075.5</td><td>UA000000102974561</td><td>david55@williams-mills.biz</td></tr><tr><td>1975-01-18T08:58:05.574+0000</td><td>1975-01-18T08:54:29.934+0000</td><td>Horicon</td><td>WI</td><td>1128.6</td><td>UA000000102974993</td><td>lisa1035@gmail.com</td></tr><tr><td>1975-01-18T09:16:59.242+0000</td><td>1975-01-18T09:16:58.978+0000</td><td>Los Angeles</td><td>CA</td><td>1075.5</td><td>UA000000102975452</td><td>kristina27@burgess.com</td></tr><tr><td>1975-01-18T10:06:14.352+0000</td><td>1975-01-18T10:03:30.258+0000</td><td>Chula Vista</td><td>CA</td><td>940.5</td><td>UA000000102977345</td><td>tiffany38@hernandez-johnson.com</td></tr><tr><td>1975-01-18T12:52:11.265+0000</td><td>1975-01-18T12:51:06.674+0000</td><td>Glendale</td><td>AZ</td><td>535.5</td><td>UA000000102977436</td><td>reeddustin@perry-baker.com</td></tr><tr><td>1975-01-18T09:46:58.802+0000</td><td>1975-01-18T09:37:26.964+0000</td><td>Cleveland</td><td>OH</td><td>940.5</td><td>UA000000102978293</td><td>thomasmckinney@yahoo.com</td></tr><tr><td>1975-01-18T07:39:06.035+0000</td><td>1975-01-18T07:33:42.226+0000</td><td>Stillwater</td><td>OK</td><td>1075.5</td><td>UA000000102978897</td><td>xchurch@foster.com</td></tr><tr><td>1975-01-18T07:29:35.623+0000</td><td>1975-01-18T07:28:41.823+0000</td><td>Hamtramck</td><td>MI</td><td>1615.5</td><td>UA000000102979854</td><td>jessicawagner@lane.com</td></tr><tr><td>1975-01-18T05:21:23.791+0000</td><td>1975-01-18T05:21:03.659+0000</td><td>Cape Coral</td><td>FL</td><td>940.5</td><td>UA000000102981336</td><td>leah45@gmail.com</td></tr><tr><td>1975-01-18T11:35:40.194+0000</td><td>1975-01-18T11:35:38.533+0000</td><td>Lancaster</td><td>CA</td><td>1075.5</td><td>UA000000102982945</td><td>robertking@diaz.com</td></tr><tr><td>1975-01-18T11:29:19.277+0000</td><td>1975-01-18T11:24:39.662+0000</td><td>Powell</td><td>OH</td><td>940.5</td><td>UA000000102983856</td><td>jenkinsannette@gmail.com</td></tr><tr><td>1975-01-18T08:37:19.445+0000</td><td>1975-01-18T08:37:13.260+0000</td><td>Tonawanda</td><td>NY</td><td>535.5</td><td>UA000000102983911</td><td>william2830@yahoo.com</td></tr><tr><td>1975-01-18T14:29:19.813+0000</td><td>1975-01-18T14:28:58.396+0000</td><td>Alexandria</td><td>LA</td><td>2016.0</td><td>UA000000102986483</td><td>tylerwolf@simpson.com</td></tr><tr><td>1975-01-18T05:49:19.561+0000</td><td>1975-01-18T05:49:16.726+0000</td><td>Newark</td><td>CA</td><td>940.5</td><td>UA000000102987073</td><td>woodsphilip@davis-gray.biz</td></tr><tr><td>1975-01-18T07:01:07.304+0000</td><td>1975-01-18T07:00:23.140+0000</td><td>Dardanelle</td><td>AR</td><td>940.5</td><td>UA000000102988899</td><td>ywebb@gmail.com</td></tr><tr><td>1975-01-18T10:37:26.183+0000</td><td>1975-01-18T10:37:25.858+0000</td><td>Austin</td><td>TX</td><td>1075.5</td><td>UA000000102989369</td><td>danielsmith@hays.com</td></tr><tr><td>1975-01-18T12:26:24.057+0000</td><td>1975-01-18T12:26:16.073+0000</td><td>Webb City</td><td>MO</td><td>850.5</td><td>UA000000102990192</td><td>kimberlyrhodes@yahoo.com</td></tr><tr><td>1975-01-18T05:22:02.468+0000</td><td>1975-01-18T05:20:42.496+0000</td><td>Southlake</td><td>TX</td><td>850.5</td><td>UA000000102992577</td><td>brose@norris.net</td></tr><tr><td>1975-01-18T10:44:35.897+0000</td><td>1975-01-18T10:42:30.314+0000</td><td>Alexandria</td><td>VA</td><td>1795.5</td><td>UA000000102994490</td><td>david71@barrera.com</td></tr><tr><td>1975-01-18T10:40:02.188+0000</td><td>1975-01-18T10:39:17.663+0000</td><td>Milton</td><td>WA</td><td>535.5</td><td>UA000000102994568</td><td>brendaali@yahoo.com</td></tr><tr><td>1975-01-18T11:21:35.468+0000</td><td>1975-01-18T11:20:06.854+0000</td><td>Lakeland</td><td>FL</td><td>535.5</td><td>UA000000102996917</td><td>jacob70@medina.com</td></tr><tr><td>1975-01-18T12:19:39.742+0000</td><td>1975-01-18T12:19:37.585+0000</td><td>Chicago</td><td>IL</td><td>850.5</td><td>UA000000103000635</td><td>lauren7470@hotmail.com</td></tr><tr><td>1975-01-18T09:42:04.372+0000</td><td>1975-01-18T09:41:42.055+0000</td><td>Charlotte</td><td>NC</td><td>1075.5</td><td>UA000000103002171</td><td>tammypierce@hotmail.com</td></tr><tr><td>1975-01-18T10:00:47.288+0000</td><td>1975-01-18T09:54:40.149+0000</td><td>Montebello</td><td>CA</td><td>1075.5</td><td>UA000000103002966</td><td>nwarren@mitchell.com</td></tr><tr><td>1975-01-18T09:16:25.491+0000</td><td>1975-01-18T09:16:07.583+0000</td><td>Anaheim</td><td>CA</td><td>1926.0</td><td>UA000000103003221</td><td>ycastro@yahoo.com</td></tr><tr><td>1975-01-18T08:19:58.212+0000</td><td>1975-01-18T08:19:29.719+0000</td><td>Madison</td><td>MS</td><td>985.5</td><td>UA000000103003293</td><td>whiteheather@banks.biz</td></tr><tr><td>1975-01-18T15:33:22.382+0000</td><td>1975-01-18T15:32:31.001+0000</td><td>Millville</td><td>NJ</td><td>535.5</td><td>UA000000103008448</td><td>fporter@gmail.com</td></tr><tr><td>1975-01-18T10:23:23.693+0000</td><td>1975-01-18T10:23:10.477+0000</td><td>Winona</td><td>MN</td><td>1578.6</td><td>UA000000103009447</td><td>bmata@haas.biz</td></tr><tr><td>1975-01-18T12:07:45.316+0000</td><td>1975-01-18T12:06:12.384+0000</td><td>New York</td><td>NY</td><td>535.5</td><td>UA000000103010741</td><td>tammyrichardson@burnett-mercado.com</td></tr><tr><td>1975-01-18T08:06:47.177+0000</td><td>1975-01-18T08:06:45.835+0000</td><td>Dayton</td><td>OH</td><td>1075.5</td><td>UA000000103012697</td><td>trevinofernando@gmail.com</td></tr><tr><td>1975-01-18T12:53:51.601+0000</td><td>1975-01-18T12:53:24.138+0000</td><td>Los Angeles</td><td>CA</td><td>985.5</td><td>UA000000103013192</td><td>jasonhooper@murillo.com</td></tr><tr><td>1975-01-18T07:58:12.126+0000</td><td>1975-01-18T07:55:59.653+0000</td><td>Northlake</td><td>IL</td><td>535.5</td><td>UA000000103016305</td><td>cheryllewis88@yahoo.com</td></tr><tr><td>1975-01-18T11:47:29.374+0000</td><td>1975-01-18T11:47:27.071+0000</td><td>Concord</td><td>CA</td><td>940.5</td><td>UA000000103017961</td><td>timothyrogers@bailey-anderson.com</td></tr><tr><td>1975-01-18T10:28:10.031+0000</td><td>1975-01-18T10:28:02.864+0000</td><td>Batesville</td><td>AR</td><td>1075.5</td><td>UA000000103018506</td><td>stephenstimothy@yahoo.com</td></tr><tr><td>1975-01-18T08:38:27.860+0000</td><td>1975-01-18T08:34:39.338+0000</td><td>Livermore</td><td>CA</td><td>1525.5</td><td>UA000000103019108</td><td>cameronjasmine@gmail.com</td></tr><tr><td>1975-01-18T07:08:15.323+0000</td><td>1975-01-18T07:07:24.432+0000</td><td>Whitehall</td><td>OH</td><td>985.5</td><td>UA000000103019565</td><td>angelicathomas@gmail.com</td></tr><tr><td>1975-01-18T07:58:31.013+0000</td><td>1975-01-18T07:58:30.792+0000</td><td>Long Beach</td><td>MS</td><td>985.5</td><td>UA000000103020972</td><td>nromero@rodriguez.org</td></tr><tr><td>1975-01-18T06:44:20.183+0000</td><td>1975-01-18T06:43:23.957+0000</td><td>Chico</td><td>CA</td><td>940.5</td><td>UA000000103021865</td><td>hernandezrichard71@gmail.com</td></tr><tr><td>1975-01-18T12:57:02.948+0000</td><td>1975-01-18T12:56:54.479+0000</td><td>Rockford</td><td>IL</td><td>940.5</td><td>UA000000103022824</td><td>davidmartin@mitchell.biz</td></tr><tr><td>1975-01-18T12:11:17.122+0000</td><td>1975-01-18T12:10:37.677+0000</td><td>Oakland</td><td>CA</td><td>985.5</td><td>UA000000103023154</td><td>ryan068@hotmail.com</td></tr><tr><td>1975-01-18T10:30:36.291+0000</td><td>1975-01-18T10:29:13.304+0000</td><td>East Providence</td><td>RI</td><td>850.5</td><td>UA000000103023706</td><td>sherri25@johnson-martinez.net</td></tr><tr><td>1975-01-18T05:56:07.903+0000</td><td>1975-01-18T05:54:15.990+0000</td><td>New Orleans</td><td>LA</td><td>535.5</td><td>UA000000103024146</td><td>owoods@yahoo.com</td></tr><tr><td>1975-01-18T11:29:47.269+0000</td><td>1975-01-18T11:29:45.152+0000</td><td>Naperville</td><td>IL</td><td>535.5</td><td>UA000000103024439</td><td>leroy25@larsen.org</td></tr><tr><td>1975-01-18T08:08:34.766+0000</td><td>1975-01-18T08:04:46.997+0000</td><td>New York</td><td>NY</td><td>535.5</td><td>UA000000103025253</td><td>edward8413@gmail.com</td></tr><tr><td>1975-01-18T12:28:18.413+0000</td><td>1975-01-18T12:28:18.211+0000</td><td>Memphis</td><td>TN</td><td>1615.5</td><td>UA000000103025325</td><td>jmoreno63@yahoo.com</td></tr><tr><td>1975-01-18T10:07:54.925+0000</td><td>1975-01-18T10:07:22.740+0000</td><td>Simpsonville</td><td>SC</td><td>1075.5</td><td>UA000000103025804</td><td>melissa1731@hotmail.com</td></tr><tr><td>1975-01-18T10:16:55.469+0000</td><td>1975-01-18T10:16:43.759+0000</td><td>Chattanooga</td><td>TN</td><td>1525.5</td><td>UA000000103026767</td><td>brownstacey@le-snow.com</td></tr><tr><td>1975-01-18T10:11:38.603+0000</td><td>1975-01-18T10:11:06.773+0000</td><td>Buffalo</td><td>NY</td><td>1075.5</td><td>UA000000103030892</td><td>isantos@hotmail.com</td></tr><tr><td>1975-01-18T06:05:22.522+0000</td><td>1975-01-18T06:04:24.927+0000</td><td>Lawton</td><td>OK</td><td>2871.0</td><td>UA000000103030972</td><td>kathleenhanson@hotmail.com</td></tr><tr><td>1975-01-18T07:35:16.225+0000</td><td>1975-01-18T07:33:45.996+0000</td><td>Virginia Beach</td><td>VA</td><td>940.5</td><td>UA000000103031292</td><td>sarah44@martin.org</td></tr><tr><td>1975-01-18T07:26:13.821+0000</td><td>1975-01-18T07:25:40.388+0000</td><td>Phoenix</td><td>AZ</td><td>535.5</td><td>UA000000103031758</td><td>qmosley@gmail.com</td></tr><tr><td>1975-01-18T06:19:31.003+0000</td><td>1975-01-18T06:19:09.756+0000</td><td>Little Rock</td><td>AR</td><td>1075.5</td><td>UA000000103033752</td><td>allenwilson@gmail.com</td></tr><tr><td>1975-01-18T14:15:43.087+0000</td><td>1975-01-18T14:15:13.194+0000</td><td>Alabaster</td><td>AL</td><td>1795.5</td><td>UA000000103034132</td><td>paula35@hotmail.com</td></tr><tr><td>1975-01-18T09:49:37.001+0000</td><td>1975-01-18T09:48:10.401+0000</td><td>Orlando</td><td>FL</td><td>940.5</td><td>UA000000103034431</td><td>allen15@gmail.com</td></tr><tr><td>1975-01-18T10:56:24.110+0000</td><td>1975-01-18T10:48:24.977+0000</td><td>Sterling Heights</td><td>MI</td><td>850.5</td><td>UA000000103035188</td><td>hullsarah@roberts.org</td></tr><tr><td>1975-01-18T10:30:58.003+0000</td><td>1975-01-18T10:30:39.255+0000</td><td>Marion</td><td>IA</td><td>940.5</td><td>UA000000103036956</td><td>amandaharvey@olson.org</td></tr><tr><td>1975-01-18T11:02:25.145+0000</td><td>1975-01-18T11:02:19.948+0000</td><td>Geneva</td><td>OH</td><td>850.5</td><td>UA000000103036958</td><td>hernandezkevin@lewis-patel.com</td></tr><tr><td>1975-01-18T14:45:33.529+0000</td><td>1975-01-18T14:44:59.994+0000</td><td>Cedar City</td><td>UT</td><td>143.1</td><td>UA000000103037588</td><td>walshmichael60@yahoo.com</td></tr><tr><td>1975-01-18T12:36:15.785+0000</td><td>1975-01-18T12:35:13.114+0000</td><td>Chicago</td><td>IL</td><td>535.5</td><td>UA000000103037781</td><td>martineztamara@mitchell.info</td></tr><tr><td>1975-01-18T08:54:39.342+0000</td><td>1975-01-18T08:52:46.000+0000</td><td>Chico</td><td>CA</td><td>1071.0</td><td>UA000000103039583</td><td>laura25@hotmail.com</td></tr><tr><td>1975-01-18T07:42:21.445+0000</td><td>1975-01-18T07:41:34.905+0000</td><td>Wellford</td><td>SC</td><td>535.5</td><td>UA000000103041557</td><td>mking@barrett.com</td></tr><tr><td>1975-01-18T09:40:46.020+0000</td><td>1975-01-18T09:40:14.406+0000</td><td>Roswell</td><td>GA</td><td>1795.5</td><td>UA000000103042049</td><td>wendy34@jennings-espinoza.com</td></tr><tr><td>1975-01-18T09:04:42.654+0000</td><td>1975-01-18T09:04:14.322+0000</td><td>Holland</td><td>MI</td><td>850.5</td><td>UA000000103042096</td><td>hollandjeffrey@miller.com</td></tr><tr><td>1975-01-18T07:37:56.696+0000</td><td>1975-01-18T07:37:47.423+0000</td><td>Riverside</td><td>CA</td><td>535.5</td><td>UA000000103042569</td><td>james19@wong.com</td></tr><tr><td>1975-01-18T10:36:48.417+0000</td><td>1975-01-18T10:36:07.970+0000</td><td>Chandler</td><td>AZ</td><td>850.5</td><td>UA000000103042708</td><td>philip53@white.com</td></tr><tr><td>1975-01-18T12:02:59.490+0000</td><td>1975-01-18T12:02:29.348+0000</td><td>New York</td><td>NY</td><td>850.5</td><td>UA000000103042972</td><td>atorres98@hotmail.com</td></tr><tr><td>1975-01-18T09:40:21.004+0000</td><td>1975-01-18T09:38:17.486+0000</td><td>Velva</td><td>ND</td><td>940.5</td><td>UA000000103043025</td><td>charles69@lam.net</td></tr><tr><td>1975-01-18T05:48:55.686+0000</td><td>1975-01-18T05:47:43.948+0000</td><td>Chino Hills</td><td>CA</td><td>1386.0</td><td>UA000000103043710</td><td>shannon87@shepard.com</td></tr><tr><td>1975-01-18T06:37:46.082+0000</td><td>1975-01-18T06:36:59.662+0000</td><td>Wetumpka</td><td>AL</td><td>535.5</td><td>UA000000103044869</td><td>george8929@hotmail.com</td></tr><tr><td>1975-01-18T08:43:07.972+0000</td><td>1975-01-18T08:43:06.650+0000</td><td>York</td><td>PA</td><td>1075.5</td><td>UA000000103044937</td><td>garciaadrian@cain-greer.com</td></tr><tr><td>1975-01-18T09:38:00.963+0000</td><td>1975-01-18T09:37:35.668+0000</td><td>Rochester</td><td>MN</td><td>1075.5</td><td>UA000000103045000</td><td>llucas@hotmail.com</td></tr><tr><td>1975-01-18T06:57:00.332+0000</td><td>1975-01-18T06:54:38.703+0000</td><td>Cypress</td><td>CA</td><td>535.5</td><td>UA000000103045224</td><td>carlos36@yahoo.com</td></tr><tr><td>1975-01-18T08:27:15.756+0000</td><td>1975-01-18T08:26:41.893+0000</td><td>Murrieta</td><td>CA</td><td>588.6</td><td>UA000000103046430</td><td>katie42@hotmail.com</td></tr><tr><td>1975-01-18T07:57:12.600+0000</td><td>1975-01-18T07:56:44.100+0000</td><td>New York</td><td>NY</td><td>1525.5</td><td>UA000000103046720</td><td>imarshall@lowe-williams.com</td></tr><tr><td>1975-01-18T07:17:16.747+0000</td><td>1975-01-18T07:17:13.102+0000</td><td>Fairfield</td><td>CA</td><td>940.5</td><td>UA000000103047157</td><td>wmercer@gmail.com</td></tr><tr><td>1975-01-18T09:25:42.450+0000</td><td>1975-01-18T09:25:35.054+0000</td><td>New York</td><td>NY</td><td>535.5</td><td>UA000000103047367</td><td>james8481@hotmail.com</td></tr><tr><td>1975-01-18T11:26:40.610+0000</td><td>1975-01-18T11:26:32.602+0000</td><td>Richmond</td><td>CA</td><td>985.5</td><td>UA000000103047798</td><td>hollysmith@davis.com</td></tr><tr><td>1975-01-18T08:40:53.958+0000</td><td>1975-01-18T08:40:21.749+0000</td><td>Franklin</td><td>WI</td><td>1075.5</td><td>UA000000103048411</td><td>lawrencekristin@hotmail.com</td></tr><tr><td>1975-01-18T05:48:27.666+0000</td><td>1975-01-18T05:48:22.474+0000</td><td>Connell</td><td>WA</td><td>535.5</td><td>UA000000103048573</td><td>jameshancock@grant-rodriguez.net</td></tr><tr><td>1975-01-18T10:43:50.647+0000</td><td>1975-01-18T10:43:33.996+0000</td><td>Pine Bluff</td><td>AR</td><td>1668.6</td><td>UA000000103049211</td><td>lisa44@whitney.com</td></tr><tr><td>1975-01-18T10:44:34.549+0000</td><td>1975-01-18T10:44:22.785+0000</td><td>Reedley</td><td>CA</td><td>850.5</td><td>UA000000103050473</td><td>lanemary@hotmail.com</td></tr><tr><td>1975-01-18T11:08:02.572+0000</td><td>1975-01-18T11:07:35.039+0000</td><td>Covina</td><td>CA</td><td>1525.5</td><td>UA000000103051706</td><td>nmartinez@oneal.com</td></tr><tr><td>1975-01-18T12:05:41.269+0000</td><td>1975-01-18T12:05:27.294+0000</td><td>Portland</td><td>ME</td><td>940.5</td><td>UA000000103052684</td><td>williamsmatthew@snyder-lucas.com</td></tr><tr><td>1975-01-18T09:29:59.986+0000</td><td>1975-01-18T09:29:13.497+0000</td><td>Lackawanna</td><td>NY</td><td>1795.5</td><td>UA000000103052702</td><td>marshalltaylor@yahoo.com</td></tr><tr><td>1975-01-18T10:52:27.095+0000</td><td>1975-01-18T10:52:06.515+0000</td><td>Los Angeles</td><td>CA</td><td>53.1</td><td>UA000000103056459</td><td>gsherman@walsh-acosta.com</td></tr><tr><td>1975-01-18T12:09:12.027+0000</td><td>1975-01-18T12:09:01.039+0000</td><td>Tuscaloosa</td><td>AL</td><td>850.5</td><td>UA000000103057666</td><td>osantana@yahoo.com</td></tr><tr><td>1975-01-18T13:23:14.520+0000</td><td>1975-01-18T13:23:03.504+0000</td><td>West Memphis</td><td>AR</td><td>850.5</td><td>UA000000103059519</td><td>johnmoran@ford.com</td></tr><tr><td>1975-01-18T06:38:20.285+0000</td><td>1975-01-18T06:38:01.206+0000</td><td>Farmington Hills</td><td>MI</td><td>1075.5</td><td>UA000000103060006</td><td>natalie7274@hotmail.com</td></tr><tr><td>1975-01-18T09:08:19.142+0000</td><td>1975-01-18T09:08:18.382+0000</td><td>San Diego</td><td>CA</td><td>850.5</td><td>UA000000103061931</td><td>gonzalezkristen@hotmail.com</td></tr><tr><td>1975-01-18T12:53:33.908+0000</td><td>1975-01-18T12:53:31.857+0000</td><td>Takoma Park</td><td>MD</td><td>940.5</td><td>UA000000103062217</td><td>matthew6039@hotmail.com</td></tr><tr><td>1975-01-18T10:31:54.015+0000</td><td>1975-01-18T10:31:44.277+0000</td><td>Miami</td><td>FL</td><td>535.5</td><td>UA000000103062502</td><td>kcole@anderson-burke.com</td></tr><tr><td>1975-01-18T08:53:58.298+0000</td><td>1975-01-18T08:53:13.363+0000</td><td>Gastonia</td><td>NC</td><td>940.5</td><td>UA000000103062808</td><td>jhoffman@kennedy.com</td></tr><tr><td>1975-01-18T10:21:44.182+0000</td><td>1975-01-18T10:20:54.583+0000</td><td>Springville</td><td>UT</td><td>535.5</td><td>UA000000103063546</td><td>evan95@miller.biz</td></tr><tr><td>1975-01-18T12:01:10.568+0000</td><td>1975-01-18T12:00:49.862+0000</td><td>La Ca�ada Flintridge</td><td>CA</td><td>850.5</td><td>UA000000103063694</td><td>philiptate@yahoo.com</td></tr><tr><td>1975-01-18T09:26:48.855+0000</td><td>1975-01-18T09:24:56.206+0000</td><td>Riverside</td><td>CA</td><td>535.5</td><td>UA000000103065505</td><td>patriciamorgan@buck.info</td></tr><tr><td>1975-01-18T08:15:32.178+0000</td><td>1975-01-18T08:14:55.125+0000</td><td>New York</td><td>NY</td><td>940.5</td><td>UA000000103067312</td><td>joycehall@blake.com</td></tr><tr><td>1975-01-18T10:02:39.341+0000</td><td>1975-01-18T10:01:10.573+0000</td><td>Alhambra</td><td>CA</td><td>2069.1</td><td>UA000000103067472</td><td>iortiz@hughes.com</td></tr><tr><td>1975-01-18T08:13:41.732+0000</td><td>1975-01-18T08:12:51.011+0000</td><td>Denver</td><td>CO</td><td>850.5</td><td>UA000000103068091</td><td>tlewis@smith-johnson.com</td></tr><tr><td>1975-01-18T09:54:13.361+0000</td><td>1975-01-18T09:53:49.949+0000</td><td>Harrisonburg</td><td>VA</td><td>535.5</td><td>UA000000103068101</td><td>klinecindy@gmail.com</td></tr><tr><td>1975-01-18T11:40:04.796+0000</td><td>1975-01-18T11:39:15.197+0000</td><td>Fayetteville</td><td>AR</td><td>940.5</td><td>UA000000103068431</td><td>sdavidson38@yahoo.com</td></tr><tr><td>1975-01-18T12:29:58.581+0000</td><td>1975-01-18T12:29:57.197+0000</td><td>SeaTac</td><td>WA</td><td>2798.1</td><td>UA000000103068617</td><td>dvaldez@ross.biz</td></tr><tr><td>1975-01-18T09:26:24.598+0000</td><td>1975-01-18T09:25:57.050+0000</td><td>Ansonia</td><td>CT</td><td>850.5</td><td>UA000000103070354</td><td>batesjuan@hotmail.com</td></tr><tr><td>1975-01-18T09:32:20.290+0000</td><td>1975-01-18T09:31:53.097+0000</td><td>Morgan</td><td>GA</td><td>1218.6</td><td>UA000000103072117</td><td>rsantos@gmail.com</td></tr><tr><td>1975-01-18T10:15:24.907+0000</td><td>1975-01-18T10:15:14.282+0000</td><td>Maitland</td><td>FL</td><td>1075.5</td><td>UA000000103072494</td><td>jose01@yahoo.com</td></tr><tr><td>1975-01-18T13:28:18.490+0000</td><td>1975-01-18T13:28:15.100+0000</td><td>San Jose</td><td>CA</td><td>535.5</td><td>UA000000103072526</td><td>qsmith55@gmail.com</td></tr><tr><td>1975-01-18T08:44:18.194+0000</td><td>1975-01-18T08:44:12.622+0000</td><td>Corpus Christi</td><td>TX</td><td>985.5</td><td>UA000000103073078</td><td>jennifer3882@yahoo.com</td></tr><tr><td>1975-01-18T09:02:45.149+0000</td><td>1975-01-18T09:02:35.989+0000</td><td>Perry</td><td>IA</td><td>535.5</td><td>UA000000103073991</td><td>scook@ware.com</td></tr><tr><td>1975-01-18T08:04:39.635+0000</td><td>1975-01-18T08:04:38.800+0000</td><td>Newport News</td><td>VA</td><td>940.5</td><td>UA000000103074767</td><td>emilymalone@casey-webster.com</td></tr><tr><td>1975-01-18T09:43:37.004+0000</td><td>1975-01-18T09:43:03.699+0000</td><td>Dearborn Heights</td><td>MI</td><td>535.5</td><td>UA000000103075256</td><td>wcallahan@scott-gutierrez.info</td></tr><tr><td>1975-01-18T12:43:53.368+0000</td><td>1975-01-18T12:43:47.800+0000</td><td>Torrance</td><td>CA</td><td>1795.5</td><td>UA000000103075812</td><td>juan39@alvarado.com</td></tr><tr><td>1975-01-18T12:35:21.286+0000</td><td>1975-01-18T12:34:49.758+0000</td><td>Glendale</td><td>AZ</td><td>1795.5</td><td>UA000000103077492</td><td>debra7280@hotmail.com</td></tr><tr><td>1975-01-18T11:24:24.031+0000</td><td>1975-01-18T11:24:23.414+0000</td><td>Hayti</td><td>MO</td><td>940.5</td><td>UA000000103079626</td><td>hallcaitlyn@harper.com</td></tr><tr><td>1975-01-18T10:41:36.818+0000</td><td>1975-01-18T10:41:29.979+0000</td><td>Ashburn</td><td>GA</td><td>850.5</td><td>UA000000103080355</td><td>johnsoncharles39@yahoo.com</td></tr><tr><td>1975-01-18T09:59:32.798+0000</td><td>1975-01-18T09:58:48.905+0000</td><td>Chicago</td><td>IL</td><td>993.6</td><td>UA000000103081901</td><td>longvictoria@sims.com</td></tr><tr><td>1975-01-18T07:10:20.704+0000</td><td>1975-01-18T07:10:18.484+0000</td><td>New Franklin</td><td>OH</td><td>535.5</td><td>UA000000103082769</td><td>claudiapayne@yahoo.com</td></tr><tr><td>1975-01-18T11:56:30.030+0000</td><td>1975-01-18T11:55:58.409+0000</td><td>Irvine</td><td>CA</td><td>850.5</td><td>UA000000103084145</td><td>robert7053@gmail.com</td></tr><tr><td>1975-01-18T06:25:58.357+0000</td><td>1975-01-18T06:25:27.470+0000</td><td>Memphis</td><td>TN</td><td>1606.5</td><td>UA000000103084677</td><td>jeffreyray@mitchell.com</td></tr><tr><td>1975-01-18T13:09:17.256+0000</td><td>1975-01-18T13:09:13.846+0000</td><td>Hardin</td><td>MT</td><td>535.5</td><td>UA000000103084713</td><td>joshuamiller69@yahoo.com</td></tr><tr><td>1975-01-18T15:19:42.480+0000</td><td>1975-01-18T15:18:18.399+0000</td><td>San Diego</td><td>CA</td><td>940.5</td><td>UA000000103086648</td><td>mullinstiffany@bates.com</td></tr><tr><td>1975-01-18T07:48:00.073+0000</td><td>1975-01-18T07:47:57.539+0000</td><td>Los Angeles</td><td>CA</td><td>940.5</td><td>UA000000103086749</td><td>cunninghamlauren@yahoo.com</td></tr><tr><td>1975-01-18T08:14:28.587+0000</td><td>1975-01-18T08:14:28.361+0000</td><td>Chicago</td><td>IL</td><td>1836.0</td><td>UA000000103087256</td><td>carolenglish@kim-garza.com</td></tr><tr><td>1975-01-18T08:16:52.947+0000</td><td>1975-01-18T08:11:10.044+0000</td><td>Fremont</td><td>CA</td><td>850.5</td><td>UA000000103088659</td><td>robert36@hotmail.com</td></tr><tr><td>1975-01-18T11:34:59.489+0000</td><td>1975-01-18T11:34:59.193+0000</td><td>New Brunswick</td><td>NJ</td><td>2016.0</td><td>UA000000103088824</td><td>christinachang@yahoo.com</td></tr><tr><td>1975-01-18T12:10:55.638+0000</td><td>1975-01-18T12:10:53.444+0000</td><td>Dania Beach</td><td>FL</td><td>993.6</td><td>UA000000103090130</td><td>cpeterson@hotmail.com</td></tr><tr><td>1975-01-18T08:49:12.204+0000</td><td>1975-01-18T08:48:49.929+0000</td><td>Hermosa Beach</td><td>CA</td><td>850.5</td><td>UA000000103090236</td><td>jeromemcpherson@hotmail.com</td></tr><tr><td>1975-01-18T11:09:57.572+0000</td><td>1975-01-18T11:07:58.700+0000</td><td>Corpus Christi</td><td>TX</td><td>1525.5</td><td>UA000000103092069</td><td>aparker@yahoo.com</td></tr><tr><td>1975-01-18T11:11:11.742+0000</td><td>1975-01-18T11:11:06.229+0000</td><td>Santa Barbara</td><td>CA</td><td>940.5</td><td>UA000000103092189</td><td>idickerson@gmail.com</td></tr><tr><td>1975-01-18T11:20:47.950+0000</td><td>1975-01-18T11:20:32.983+0000</td><td>Oklahoma City</td><td>OK</td><td>940.5</td><td>UA000000103095016</td><td>pamelamayer@leonard.biz</td></tr><tr><td>1975-01-18T08:57:08.544+0000</td><td>1975-01-18T08:57:04.910+0000</td><td>Anaheim</td><td>CA</td><td>940.5</td><td>UA000000103095725</td><td>tsanchez@jackson.com</td></tr><tr><td>1975-01-18T06:20:38.677+0000</td><td>1975-01-18T06:19:32.160+0000</td><td>Monticello</td><td>IN</td><td>535.5</td><td>UA000000103097122</td><td>claytonpham@hotmail.com</td></tr><tr><td>1975-01-18T09:30:15.935+0000</td><td>1975-01-18T09:29:39.347+0000</td><td>Dixon</td><td>CA</td><td>1615.5</td><td>UA000000103097330</td><td>mariawilson@coleman.com</td></tr><tr><td>1975-01-18T11:55:29.908+0000</td><td>1975-01-18T11:55:26.940+0000</td><td>Milwaukee</td><td>WI</td><td>985.5</td><td>UA000000103097557</td><td>rachel59@chavez-munoz.com</td></tr><tr><td>1975-01-18T14:51:25.458+0000</td><td>1975-01-18T14:51:24.406+0000</td><td>Cincinnati</td><td>OH</td><td>1075.5</td><td>UA000000103098348</td><td>hgutierrez39@yahoo.com</td></tr><tr><td>1975-01-18T09:52:33.367+0000</td><td>1975-01-18T09:52:30.614+0000</td><td>Albuquerque</td><td>NM</td><td>940.5</td><td>UA000000103098350</td><td>ericamartin39@yahoo.com</td></tr><tr><td>1975-01-18T11:05:24.408+0000</td><td>1975-01-18T11:05:09.058+0000</td><td>Union City</td><td>NJ</td><td>850.5</td><td>UA000000103099710</td><td>robertjackson@gray.org</td></tr><tr><td>1975-01-18T14:00:37.503+0000</td><td>1975-01-18T14:00:16.371+0000</td><td>Del City</td><td>OK</td><td>1525.5</td><td>UA000000103100098</td><td>gregorybrooks@yahoo.com</td></tr><tr><td>1975-01-18T07:27:05.523+0000</td><td>1975-01-18T07:27:05.307+0000</td><td>San Antonio</td><td>TX</td><td>53.1</td><td>UA000000103100381</td><td>terrelljames@ellis.com</td></tr><tr><td>1975-01-18T13:59:09.484+0000</td><td>1975-01-18T13:59:02.146+0000</td><td>Newark</td><td>NJ</td><td>850.5</td><td>UA000000103100433</td><td>jjenkins25@yahoo.com</td></tr><tr><td>1975-01-18T09:47:37.034+0000</td><td>1975-01-18T09:47:27.531+0000</td><td>New York</td><td>NY</td><td>1075.5</td><td>UA000000103100549</td><td>john26@taylor.com</td></tr><tr><td>1975-01-18T12:58:16.632+0000</td><td>1975-01-18T12:55:15.868+0000</td><td>Norwich</td><td>CT</td><td>535.5</td><td>UA000000103101007</td><td>emilymurphy@hotmail.com</td></tr><tr><td>1975-01-18T13:41:30.504+0000</td><td>1975-01-18T13:41:09.257+0000</td><td>Downey</td><td>CA</td><td>850.5</td><td>UA000000103101505</td><td>henry30@smith.com</td></tr><tr><td>1975-01-18T11:09:39.536+0000</td><td>1975-01-18T11:08:27.108+0000</td><td>Tucson</td><td>AZ</td><td>1075.5</td><td>UA000000103105277</td><td>michelle56@moore-larson.com</td></tr><tr><td>1975-01-18T06:42:02.382+0000</td><td>1975-01-18T06:41:27.680+0000</td><td>Chicago</td><td>IL</td><td>850.5</td><td>UA000000103105429</td><td>kbaker@moreno.com</td></tr><tr><td>1975-01-18T09:26:13.242+0000</td><td>1975-01-18T09:25:53.781+0000</td><td>Reno</td><td>NV</td><td>107.10000000000001</td><td>UA000000103105963</td><td>kward11@gmail.com</td></tr><tr><td>1975-01-18T12:37:18.198+0000</td><td>1975-01-18T12:35:20.051+0000</td><td>Reno</td><td>NV</td><td>850.5</td><td>UA000000103108292</td><td>amy60@carr.com</td></tr><tr><td>1975-01-18T10:36:27.063+0000</td><td>1975-01-18T10:36:19.620+0000</td><td>West Palm Beach</td><td>FL</td><td>1795.5</td><td>UA000000103109921</td><td>denise72@hotmail.com</td></tr><tr><td>1975-01-18T10:47:30.373+0000</td><td>1975-01-18T10:47:04.418+0000</td><td>Wood Dale</td><td>IL</td><td>1075.5</td><td>UA000000103110880</td><td>hunterpittman@porter.net</td></tr><tr><td>1975-01-18T15:05:51.249+0000</td><td>1975-01-18T15:05:47.789+0000</td><td>New York</td><td>NY</td><td>535.5</td><td>UA000000103111400</td><td>mitchellangela@gmail.com</td></tr><tr><td>1975-01-18T08:48:47.006+0000</td><td>1975-01-18T08:48:46.128+0000</td><td>Michigan City</td><td>IN</td><td>940.5</td><td>UA000000103114618</td><td>staceystephens@bowen.info</td></tr><tr><td>1975-01-18T12:55:38.678+0000</td><td>1975-01-18T12:53:27.722+0000</td><td>Des Moines</td><td>IA</td><td>535.5</td><td>UA000000103115527</td><td>stephanie480@hotmail.com</td></tr><tr><td>1975-01-18T11:58:29.452+0000</td><td>1975-01-18T11:57:46.991+0000</td><td>Los Angeles</td><td>CA</td><td>940.5</td><td>UA000000103115586</td><td>yball@gmail.com</td></tr><tr><td>1975-01-18T09:28:39.328+0000</td><td>1975-01-18T09:28:09.481+0000</td><td>Clinton</td><td>NC</td><td>1615.5</td><td>UA000000103116462</td><td>slowe50@yahoo.com</td></tr><tr><td>1975-01-18T11:06:08.399+0000</td><td>1975-01-18T11:03:38.823+0000</td><td>New York</td><td>NY</td><td>940.5</td><td>UA000000103117291</td><td>allisonnixon@haynes-roberts.info</td></tr><tr><td>1975-01-18T10:10:07.599+0000</td><td>1975-01-18T10:09:36.230+0000</td><td>Stockton</td><td>CA</td><td>985.5</td><td>UA000000103117434</td><td>wfox73@hotmail.com</td></tr><tr><td>1975-01-18T14:08:23.980+0000</td><td>1975-01-18T14:05:09.906+0000</td><td>Missoula</td><td>MT</td><td>535.5</td><td>UA000000103117930</td><td>brendankirk@bird.net</td></tr><tr><td>1975-01-18T10:08:38.081+0000</td><td>1975-01-18T10:08:18.704+0000</td><td>Goshen</td><td>IN</td><td>678.6</td><td>UA000000103118468</td><td>christopher1974@yahoo.com</td></tr><tr><td>1975-01-18T08:49:01.381+0000</td><td>1975-01-18T08:47:28.261+0000</td><td>Cape Coral</td><td>FL</td><td>1075.5</td><td>UA000000103119372</td><td>michellewright22@yahoo.com</td></tr><tr><td>1975-01-18T09:38:38.543+0000</td><td>1975-01-18T09:38:31.256+0000</td><td>Fresno</td><td>CA</td><td>1476.0</td><td>UA000000103119757</td><td>stephanie1669@gmail.com</td></tr><tr><td>1975-01-18T10:20:12.067+0000</td><td>1975-01-18T10:19:59.062+0000</td><td>North Little Rock</td><td>AR</td><td>535.5</td><td>UA000000103121682</td><td>fosteralan@ryan.net</td></tr><tr><td>1975-01-18T11:56:40.155+0000</td><td>1975-01-18T11:56:22.156+0000</td><td>Fort Wayne</td><td>IN</td><td>2204.1</td><td>UA000000103124111</td><td>nalvarez@day.net</td></tr><tr><td>1975-01-18T08:11:37.108+0000</td><td>1975-01-18T08:11:36.846+0000</td><td>Fort Pierce</td><td>FL</td><td>1075.5</td><td>UA000000103125575</td><td>lfranco@marks-mason.com</td></tr><tr><td>1975-01-18T07:11:56.699+0000</td><td>1975-01-18T07:09:47.989+0000</td><td>Janesville</td><td>WI</td><td>940.5</td><td>UA000000103126323</td><td>donna09@yahoo.com</td></tr><tr><td>1975-01-18T11:38:11.059+0000</td><td>1975-01-18T11:38:09.085+0000</td><td>Jersey City</td><td>NJ</td><td>1795.5</td><td>UA000000103127684</td><td>jacksondavid@mills-brown.com</td></tr><tr><td>1975-01-18T09:14:08.613+0000</td><td>1975-01-18T09:13:22.785+0000</td><td>Forest Park</td><td>GA</td><td>2151.0</td><td>UA000000103127731</td><td>greenchristine@yahoo.com</td></tr><tr><td>1975-01-18T10:33:14.530+0000</td><td>1975-01-18T10:33:01.030+0000</td><td>New York</td><td>NY</td><td>940.5</td><td>UA000000103129246</td><td>anthony70@chapman.com</td></tr><tr><td>1975-01-18T13:14:11.369+0000</td><td>1975-01-18T13:12:18.376+0000</td><td>Kennewick</td><td>WA</td><td>1075.5</td><td>UA000000103129295</td><td>vallen@boone.org</td></tr><tr><td>1975-01-18T10:48:28.507+0000</td><td>1975-01-18T10:47:50.915+0000</td><td>Rockford</td><td>IL</td><td>1075.5</td><td>UA000000103130420</td><td>sarah86@miller.com</td></tr><tr><td>1975-01-18T10:30:19.153+0000</td><td>1975-01-18T10:27:42.875+0000</td><td>Coppell</td><td>TX</td><td>1075.5</td><td>UA000000103130451</td><td>mullinsjessica@griffin-mccarty.com</td></tr><tr><td>1975-01-18T11:28:39.705+0000</td><td>1975-01-18T11:27:59.985+0000</td><td>Melbourne</td><td>FL</td><td>535.5</td><td>UA000000103131159</td><td>craigjoseph@hernandez.com</td></tr><tr><td>1975-01-18T11:42:20.750+0000</td><td>1975-01-18T11:42:04.434+0000</td><td>Antioch</td><td>CA</td><td>535.5</td><td>UA000000103131527</td><td>robersonsarah@chandler-garcia.info</td></tr><tr><td>1975-01-18T11:57:52.602+0000</td><td>1975-01-18T11:57:12.964+0000</td><td>Houston</td><td>TX</td><td>53.1</td><td>UA000000103131875</td><td>timothybrooks@gmail.com</td></tr><tr><td>1975-01-18T12:42:50.202+0000</td><td>1975-01-18T12:42:26.875+0000</td><td>Clifton</td><td>NJ</td><td>940.5</td><td>UA000000103132667</td><td>bautistadeborah@collins.net</td></tr><tr><td>1975-01-18T12:07:34.703+0000</td><td>1975-01-18T12:07:34.470+0000</td><td>Chesapeake</td><td>VA</td><td>1178.1</td><td>UA000000103132926</td><td>jacobsonandrew@gmail.com</td></tr><tr><td>1975-01-18T10:00:35.893+0000</td><td>1975-01-18T10:00:26.131+0000</td><td>Worcester</td><td>MA</td><td>985.5</td><td>UA000000103133612</td><td>pkim75@gmail.com</td></tr><tr><td>1975-01-18T15:34:43.515+0000</td><td>1975-01-18T15:34:42.849+0000</td><td>Decatur</td><td>IN</td><td>535.5</td><td>UA000000103134422</td><td>hoganpamela@butler.com</td></tr><tr><td>1975-01-18T15:49:32.356+0000</td><td>1975-01-18T15:49:30.895+0000</td><td>Austin</td><td>TX</td><td>1128.6</td><td>UA000000103134906</td><td>cynthiacox@hotmail.com</td></tr><tr><td>1975-01-18T08:56:05.805+0000</td><td>1975-01-18T08:56:05.268+0000</td><td>Corona</td><td>CA</td><td>985.5</td><td>UA000000103136148</td><td>jacksonvickie@foley-jenkins.org</td></tr><tr><td>1975-01-18T12:08:12.559+0000</td><td>1975-01-18T12:08:05.968+0000</td><td>La Porte</td><td>TX</td><td>940.5</td><td>UA000000103136347</td><td>jeffreytucker@gmail.com</td></tr><tr><td>1975-01-18T08:37:03.134+0000</td><td>1975-01-18T08:36:52.065+0000</td><td>Baltimore</td><td>MD</td><td>1075.5</td><td>UA000000103136773</td><td>kimberlygarrett@yahoo.com</td></tr><tr><td>1975-01-18T11:35:27.907+0000</td><td>1975-01-18T11:34:03.579+0000</td><td>Santa Ana</td><td>CA</td><td>850.5</td><td>UA000000103137490</td><td>ashleymyers@rose-luna.com</td></tr><tr><td>1975-01-18T08:09:38.326+0000</td><td>1975-01-18T08:08:42.092+0000</td><td>Akron</td><td>OH</td><td>1075.5</td><td>UA000000103137864</td><td>brandon87@hayes.biz</td></tr><tr><td>1975-01-18T09:59:34.565+0000</td><td>1975-01-18T09:59:32.164+0000</td><td>Dickinson</td><td>ND</td><td>535.5</td><td>UA000000103140434</td><td>william54@butler.com</td></tr><tr><td>1975-01-18T11:29:49.292+0000</td><td>1975-01-18T11:28:43.122+0000</td><td>Ravenswood</td><td>WV</td><td>1668.6</td><td>UA000000103143189</td><td>anne77@russell-evans.info</td></tr><tr><td>1975-01-18T06:48:02.837+0000</td><td>1975-01-18T06:45:12.938+0000</td><td>Muncie</td><td>IN</td><td>850.5</td><td>UA000000103143491</td><td>millermichael@chen.com</td></tr><tr><td>1975-01-18T08:02:40.739+0000</td><td>1975-01-18T08:01:54.830+0000</td><td>Rio Rancho</td><td>NM</td><td>1075.5</td><td>UA000000103143555</td><td>jameskirk@hotmail.com</td></tr><tr><td>1975-01-18T11:38:50.297+0000</td><td>1975-01-18T11:37:23.904+0000</td><td>Flagstaff</td><td>AZ</td><td>850.5</td><td>UA000000103144651</td><td>yatesjose@turner.com</td></tr><tr><td>1975-01-18T12:01:12.825+0000</td><td>1975-01-18T11:59:20.827+0000</td><td>Schenectady</td><td>NY</td><td>940.5</td><td>UA000000103145412</td><td>pruittjennifer@yahoo.com</td></tr><tr><td>1975-01-18T10:12:04.356+0000</td><td>1975-01-18T10:11:09.785+0000</td><td>Chicago</td><td>IL</td><td>1075.5</td><td>UA000000103149007</td><td>makaylaramos@gmail.com</td></tr><tr><td>1975-01-18T10:10:11.802+0000</td><td>1975-01-18T10:08:21.680+0000</td><td>Palmer Town</td><td>MA</td><td>940.5</td><td>UA000000103149559</td><td>kwalker@roman.com</td></tr><tr><td>1975-01-18T12:30:55.335+0000</td><td>1975-01-18T12:30:54.542+0000</td><td>Wauseon</td><td>OH</td><td>535.5</td><td>UA000000103149903</td><td>kpope@gonzalez.com</td></tr><tr><td>1975-01-18T10:34:26.966+0000</td><td>1975-01-18T10:34:26.755+0000</td><td>Pasco</td><td>WA</td><td>985.5</td><td>UA000000103150676</td><td>ecook@hotmail.com</td></tr><tr><td>1975-01-18T10:39:55.252+0000</td><td>1975-01-18T10:37:35.543+0000</td><td>New Philadelphia</td><td>OH</td><td>53.1</td><td>UA000000103150755</td><td>westlisa@harding.com</td></tr><tr><td>1975-01-18T11:14:25.711+0000</td><td>1975-01-18T11:14:06.778+0000</td><td>McCamey</td><td>TX</td><td>940.5</td><td>UA000000103152113</td><td>wweiss@horton-cooper.info</td></tr><tr><td>1975-01-18T10:50:42.180+0000</td><td>1975-01-18T10:49:42.218+0000</td><td>North Las Vegas</td><td>NV</td><td>535.5</td><td>UA000000103153297</td><td>scook56@hotmail.com</td></tr><tr><td>1975-01-18T12:45:19.930+0000</td><td>1975-01-18T12:44:55.085+0000</td><td>New Franklin</td><td>OH</td><td>535.5</td><td>UA000000103154604</td><td>pmartinez@johnson.biz</td></tr><tr><td>1975-01-18T09:52:14.740+0000</td><td>1975-01-18T09:52:06.393+0000</td><td>Poughkeepsie</td><td>NY</td><td>940.5</td><td>UA000000103155071</td><td>janicedecker@hotmail.com</td></tr><tr><td>1975-01-18T13:46:47.857+0000</td><td>1975-01-18T13:46:09.625+0000</td><td>South Jordan</td><td>UT</td><td>940.5</td><td>UA000000103156689</td><td>christineporter@coleman.com</td></tr><tr><td>1975-01-18T10:48:51.575+0000</td><td>1975-01-18T10:48:51.329+0000</td><td>Calhoun</td><td>GA</td><td>588.6</td><td>UA000000103156835</td><td>hawkinskimberly@rivera.com</td></tr><tr><td>1975-01-18T10:47:58.272+0000</td><td>1975-01-18T10:47:45.463+0000</td><td>New York</td><td>NY</td><td>940.5</td><td>UA000000103157158</td><td>lcardenas@hotmail.com</td></tr><tr><td>1975-01-18T14:25:50.926+0000</td><td>1975-01-18T14:25:49.708+0000</td><td>Paterson</td><td>NJ</td><td>940.5</td><td>UA000000103158006</td><td>brownjeffrey@yahoo.com</td></tr><tr><td>1975-01-18T08:39:32.194+0000</td><td>1975-01-18T08:39:08.211+0000</td><td>Springfield</td><td>OH</td><td>535.5</td><td>UA000000103158942</td><td>edward16@yahoo.com</td></tr><tr><td>1975-01-18T15:59:35.062+0000</td><td>1975-01-18T15:55:18.282+0000</td><td>Detroit</td><td>MI</td><td>940.5</td><td>UA000000103159628</td><td>zking66@yahoo.com</td></tr><tr><td>1975-01-18T08:19:20.984+0000</td><td>1975-01-18T08:19:20.258+0000</td><td>Oklahoma City</td><td>OK</td><td>1075.5</td><td>UA000000103161291</td><td>jvelez65@gmail.com</td></tr><tr><td>1975-01-18T09:45:32.255+0000</td><td>1975-01-18T09:44:20.826+0000</td><td>Coppell</td><td>TX</td><td>940.5</td><td>UA000000103162743</td><td>xjohnson70@yahoo.com</td></tr><tr><td>1975-01-18T13:36:13.125+0000</td><td>1975-01-18T13:36:05.621+0000</td><td>Fruitland Park</td><td>FL</td><td>850.5</td><td>UA000000103163213</td><td>taylorjustin60@gmail.com</td></tr><tr><td>1975-01-18T10:02:47.922+0000</td><td>1975-01-18T10:00:35.171+0000</td><td>Springfield</td><td>MA</td><td>850.5</td><td>UA000000103163587</td><td>shelbyholmes@everett-rodriguez.com</td></tr><tr><td>1975-01-18T09:15:23.729+0000</td><td>1975-01-18T09:15:14.877+0000</td><td>Mission Viejo</td><td>CA</td><td>53.1</td><td>UA000000103163889</td><td>david9122@gmail.com</td></tr><tr><td>1975-01-18T11:22:16.377+0000</td><td>1975-01-18T11:21:22.134+0000</td><td>Hickory</td><td>NC</td><td>1075.5</td><td>UA000000103165153</td><td>morgansantos@gmail.com</td></tr><tr><td>1975-01-18T10:17:47.148+0000</td><td>1975-01-18T10:17:25.352+0000</td><td>Bellevue</td><td>WA</td><td>1615.5</td><td>UA000000103165175</td><td>fernandezamanda@yahoo.com</td></tr><tr><td>1975-01-18T11:34:49.619+0000</td><td>1975-01-18T11:32:00.676+0000</td><td>Portage</td><td>MI</td><td>535.5</td><td>UA000000103166627</td><td>bquinn@gmail.com</td></tr><tr><td>1975-01-18T12:56:32.414+0000</td><td>1975-01-18T12:54:19.722+0000</td><td>New York</td><td>NY</td><td>1075.5</td><td>UA000000103166801</td><td>campbellnicholas@gmail.com</td></tr><tr><td>1975-01-18T12:19:15.953+0000</td><td>1975-01-18T12:19:10.901+0000</td><td>Alameda</td><td>CA</td><td>1128.6</td><td>UA000000103167418</td><td>wobrien@cardenas.com</td></tr><tr><td>1975-01-18T11:06:58.897+0000</td><td>1975-01-18T11:05:22.908+0000</td><td>Detroit</td><td>MI</td><td>940.5</td><td>UA000000103168075</td><td>jonathancoleman@gmail.com</td></tr><tr><td>1975-01-18T12:11:06.362+0000</td><td>1975-01-18T12:11:06.132+0000</td><td>Manteca</td><td>CA</td><td>985.5</td><td>UA000000103168399</td><td>dianahowell@hotmail.com</td></tr><tr><td>1975-01-18T06:23:12.214+0000</td><td>1975-01-18T06:22:23.001+0000</td><td>Burkburnett</td><td>TX</td><td>53.1</td><td>UA000000103169189</td><td>rose19@yahoo.com</td></tr><tr><td>1975-01-18T09:03:12.853+0000</td><td>1975-01-18T09:03:01.566+0000</td><td>Memphis</td><td>TN</td><td>850.5</td><td>UA000000103170518</td><td>nolanjeremy@manning-kim.com</td></tr><tr><td>1975-01-18T08:57:40.188+0000</td><td>1975-01-18T08:57:24.116+0000</td><td>Fullerton</td><td>CA</td><td>921.6</td><td>UA000000103170661</td><td>derek21@taylor-mcknight.com</td></tr><tr><td>1975-01-18T09:48:11.720+0000</td><td>1975-01-18T09:44:23.434+0000</td><td>Coshocton</td><td>OH</td><td>1075.5</td><td>UA000000103170884</td><td>greencarrie@hotmail.com</td></tr><tr><td>1975-01-18T06:30:42.367+0000</td><td>1975-01-18T06:29:00.478+0000</td><td>Norcross</td><td>GA</td><td>1075.5</td><td>UA000000103171794</td><td>sean2518@gmail.com</td></tr><tr><td>1975-01-18T10:55:04.091+0000</td><td>1975-01-18T10:53:28.122+0000</td><td>Phoenix</td><td>AZ</td><td>1075.5</td><td>UA000000103173168</td><td>millerjeanne@gmail.com</td></tr><tr><td>1975-01-18T09:45:44.360+0000</td><td>1975-01-18T09:45:39.033+0000</td><td>Tampa</td><td>FL</td><td>1615.5</td><td>UA000000103174092</td><td>dbooth@yahoo.com</td></tr><tr><td>1975-01-18T08:51:59.115+0000</td><td>1975-01-18T08:50:26.770+0000</td><td>Tucker</td><td>GA</td><td>985.5</td><td>UA000000103174585</td><td>joanna83@weber-carrillo.com</td></tr><tr><td>1975-01-18T10:18:40.082+0000</td><td>1975-01-18T10:18:39.562+0000</td><td>Folly Beach</td><td>SC</td><td>1075.5</td><td>UA000000103174656</td><td>pricebrian@adams.com</td></tr><tr><td>1975-01-18T09:55:13.063+0000</td><td>1975-01-18T09:55:10.482+0000</td><td>Minneota</td><td>MN</td><td>1075.5</td><td>UA000000103178098</td><td>williamsonjonathan@weber-davidson.com</td></tr><tr><td>1975-01-18T15:58:34.201+0000</td><td>1975-01-18T15:58:20.111+0000</td><td>Philadelphia</td><td>PA</td><td>588.6</td><td>UA000000103178156</td><td>lperez@price.com</td></tr><tr><td>1975-01-18T10:07:55.055+0000</td><td>1975-01-18T10:07:53.710+0000</td><td>Appleton</td><td>WI</td><td>985.5</td><td>UA000000103178714</td><td>vanessathomas83@yahoo.com</td></tr><tr><td>1975-01-18T14:24:41.635+0000</td><td>1975-01-18T14:23:26.317+0000</td><td>Houston</td><td>TX</td><td>2646.0</td><td>UA000000103181011</td><td>cervanteskarla@ferguson.org</td></tr><tr><td>1975-01-18T05:54:35.757+0000</td><td>1975-01-18T05:54:33.501+0000</td><td>Waco</td><td>TX</td><td>940.5</td><td>UA000000103181222</td><td>robert5455@gmail.com</td></tr><tr><td>1975-01-18T15:35:25.057+0000</td><td>1975-01-18T15:32:58.947+0000</td><td>Washington</td><td>DC</td><td>1075.5</td><td>UA000000103183156</td><td>brownpamela@young.com</td></tr><tr><td>1975-01-18T13:38:47.366+0000</td><td>1975-01-18T13:38:37.395+0000</td><td>Agawam Town</td><td>MA</td><td>1075.5</td><td>UA000000103183410</td><td>jenniferharris@hotmail.com</td></tr><tr><td>1975-01-18T11:59:32.575+0000</td><td>1975-01-18T11:57:30.303+0000</td><td>Brunswick</td><td>GA</td><td>850.5</td><td>UA000000103184546</td><td>ryanlong@gmail.com</td></tr><tr><td>1975-01-18T13:58:49.536+0000</td><td>1975-01-18T13:58:28.798+0000</td><td>Knoxville</td><td>TN</td><td>1075.5</td><td>UA000000103186021</td><td>raymond36@gmail.com</td></tr><tr><td>1975-01-18T09:10:30.379+0000</td><td>1975-01-18T09:10:28.630+0000</td><td>Lancaster</td><td>PA</td><td>535.5</td><td>UA000000103186087</td><td>michaelhernandez@sharp.com</td></tr><tr><td>1975-01-18T05:26:48.529+0000</td><td>1975-01-18T05:24:16.498+0000</td><td>Costa Mesa</td><td>CA</td><td>71.10000000000001</td><td>UA000000103186861</td><td>glopez@richard-reed.com</td></tr><tr><td>1975-01-18T10:21:14.611+0000</td><td>1975-01-18T10:21:04.694+0000</td><td>Raleigh</td><td>NC</td><td>1881.0</td><td>UA000000103187887</td><td>patriciagregory@gmail.com</td></tr><tr><td>1975-01-18T09:27:19.800+0000</td><td>1975-01-18T09:26:52.852+0000</td><td>Sartell</td><td>MN</td><td>985.5</td><td>UA000000103189790</td><td>youngscott@smith.com</td></tr><tr><td>1975-01-18T10:51:16.451+0000</td><td>1975-01-18T10:50:30.764+0000</td><td>Tucson</td><td>AZ</td><td>940.5</td><td>UA000000103190031</td><td>jcooper44@yahoo.com</td></tr><tr><td>1975-01-18T11:00:21.315+0000</td><td>1975-01-18T10:59:12.280+0000</td><td>Scottsdale</td><td>AZ</td><td>940.5</td><td>UA000000103190146</td><td>egamble@yahoo.com</td></tr><tr><td>1975-01-18T13:23:37.613+0000</td><td>1975-01-18T13:23:19.552+0000</td><td>Albuquerque</td><td>NM</td><td>1615.5</td><td>UA000000103192359</td><td>sandersjulie@martin.net</td></tr><tr><td>1975-01-18T08:22:09.750+0000</td><td>1975-01-18T08:21:05.697+0000</td><td>Sanford</td><td>FL</td><td>985.5</td><td>UA000000103195749</td><td>garciajohn@gmail.com</td></tr><tr><td>1975-01-18T10:24:36.393+0000</td><td>1975-01-18T10:20:17.232+0000</td><td>New York</td><td>NY</td><td>850.5</td><td>UA000000103196718</td><td>maydavid@jones.info</td></tr><tr><td>1975-01-18T12:32:58.960+0000</td><td>1975-01-18T12:30:01.906+0000</td><td>Gary</td><td>IN</td><td>850.5</td><td>UA000000103197147</td><td>richardruiz@dunlap.info</td></tr><tr><td>1975-01-18T11:41:47.730+0000</td><td>1975-01-18T11:41:39.977+0000</td><td>Bicknell</td><td>IN</td><td>1525.5</td><td>UA000000103197224</td><td>mayoandrew@henderson.biz</td></tr><tr><td>1975-01-18T10:55:24.860+0000</td><td>1975-01-18T10:55:24.659+0000</td><td>Anaheim</td><td>CA</td><td>588.6</td><td>UA000000103197608</td><td>cainmatthew@rodriguez.biz</td></tr><tr><td>1975-01-18T13:29:05.891+0000</td><td>1975-01-18T13:29:04.484+0000</td><td>Huntsville</td><td>AL</td><td>535.5</td><td>UA000000103198301</td><td>richard0383@yahoo.com</td></tr><tr><td>1975-01-18T12:38:24.319+0000</td><td>1975-01-18T12:38:21.751+0000</td><td>Hollywood</td><td>FL</td><td>535.5</td><td>UA000000103199742</td><td>fthompson@phillips.com</td></tr><tr><td>1975-01-18T12:01:46.291+0000</td><td>1975-01-18T12:00:06.801+0000</td><td>Wichita Falls</td><td>TX</td><td>940.5</td><td>UA000000103200198</td><td>pkirby@hotmail.com</td></tr><tr><td>1975-01-18T10:35:21.304+0000</td><td>1975-01-18T10:30:20.400+0000</td><td>Boston</td><td>MA</td><td>940.5</td><td>UA000000103203330</td><td>hherrera@rios.net</td></tr><tr><td>1975-01-18T07:01:55.270+0000</td><td>1975-01-18T07:01:29.451+0000</td><td>Charlotte</td><td>NC</td><td>1075.5</td><td>UA000000103203844</td><td>jerry08@hotmail.com</td></tr><tr><td>1975-01-18T12:31:41.110+0000</td><td>1975-01-18T12:31:34.438+0000</td><td>San Antonio</td><td>TX</td><td>940.5</td><td>UA000000103203937</td><td>taylorlauren43@gmail.com</td></tr><tr><td>1975-01-18T13:32:11.781+0000</td><td>1975-01-18T13:30:35.452+0000</td><td>Royse City</td><td>TX</td><td>535.5</td><td>UA000000103204104</td><td>jesserussell@good.com</td></tr><tr><td>1975-01-18T13:22:19.167+0000</td><td>1975-01-18T13:22:06.749+0000</td><td>Apopka</td><td>FL</td><td>1071.0</td><td>UA000000103207174</td><td>jamesward@brady.com</td></tr><tr><td>1975-01-18T12:02:43.855+0000</td><td>1975-01-18T12:02:39.926+0000</td><td>Santa Clarita</td><td>CA</td><td>535.5</td><td>UA000000103207305</td><td>dhudson@brown.info</td></tr><tr><td>1975-01-18T11:38:20.054+0000</td><td>1975-01-18T11:37:40.350+0000</td><td>Weslaco</td><td>TX</td><td>940.5</td><td>UA000000103208542</td><td>kathy22@hotmail.com</td></tr><tr><td>1975-01-18T16:29:25.869+0000</td><td>1975-01-18T16:28:16.719+0000</td><td>Albert Lea</td><td>MN</td><td>850.5</td><td>UA000000103208840</td><td>ashley10@martinez.biz</td></tr><tr><td>1975-01-18T13:06:12.525+0000</td><td>1975-01-18T13:06:09.412+0000</td><td>Columbus</td><td>OH</td><td>107.10000000000001</td><td>UA000000103210477</td><td>richardsoncarolyn@lindsey.com</td></tr><tr><td>1975-01-18T12:13:20.686+0000</td><td>1975-01-18T12:13:16.457+0000</td><td>Kansas City</td><td>MO</td><td>535.5</td><td>UA000000103211351</td><td>maurice83@rodriguez.com</td></tr><tr><td>1975-01-18T13:42:33.871+0000</td><td>1975-01-18T13:42:08.937+0000</td><td>Prairie View</td><td>TX</td><td>1611.0</td><td>UA000000103217112</td><td>lmiller@fisher.com</td></tr><tr><td>1975-01-18T13:17:54.784+0000</td><td>1975-01-18T13:16:52.240+0000</td><td>Phoenix</td><td>AZ</td><td>850.5</td><td>UA000000103217503</td><td>stownsend@gmail.com</td></tr><tr><td>1975-01-18T07:56:44.227+0000</td><td>1975-01-18T07:55:13.882+0000</td><td>North St. Paul</td><td>MN</td><td>1075.5</td><td>UA000000103218273</td><td>lfloyd@page-dougherty.com</td></tr><tr><td>1975-01-18T08:51:55.658+0000</td><td>1975-01-18T08:51:54.255+0000</td><td>Cupertino</td><td>CA</td><td>921.6</td><td>UA000000103218568</td><td>qbanks@watson.info</td></tr><tr><td>1975-01-18T10:21:23.115+0000</td><td>1975-01-18T10:20:03.921+0000</td><td>Roswell</td><td>GA</td><td>850.5</td><td>UA000000103220505</td><td>ebarr@rogers.com</td></tr><tr><td>1975-01-18T10:45:03.923+0000</td><td>1975-01-18T10:44:51.718+0000</td><td>New York</td><td>NY</td><td>535.5</td><td>UA000000103220953</td><td>xhuynh16@gmail.com</td></tr><tr><td>1975-01-18T12:07:36.083+0000</td><td>1975-01-18T12:04:00.871+0000</td><td>Miami Springs</td><td>FL</td><td>535.5</td><td>UA000000103221087</td><td>piercedavid@hotmail.com</td></tr><tr><td>1975-01-18T17:34:49.897+0000</td><td>1975-01-18T17:34:46.070+0000</td><td>Braintree Town</td><td>MA</td><td>535.5</td><td>UA000000103221621</td><td>tjohnston@patton-smith.com</td></tr><tr><td>1975-01-18T13:57:30.453+0000</td><td>1975-01-18T13:57:17.662+0000</td><td>Forest Grove</td><td>OR</td><td>1971.0</td><td>UA000000103221688</td><td>catherine29@hotmail.com</td></tr><tr><td>1975-01-18T09:05:18.093+0000</td><td>1975-01-18T09:03:33.723+0000</td><td>Oceanside</td><td>CA</td><td>850.5</td><td>UA000000103222357</td><td>scottbrown@yahoo.com</td></tr><tr><td>1975-01-18T11:24:36.479+0000</td><td>1975-01-18T11:24:27.415+0000</td><td>Portland</td><td>OR</td><td>1075.5</td><td>UA000000103222448</td><td>hklein@hotmail.com</td></tr><tr><td>1975-01-18T11:54:35.232+0000</td><td>1975-01-18T11:54:32.289+0000</td><td>New York</td><td>NY</td><td>940.5</td><td>UA000000103222594</td><td>jcampbell@chavez-robertson.biz</td></tr><tr><td>1975-01-18T14:25:06.319+0000</td><td>1975-01-18T14:24:38.630+0000</td><td>Broken Arrow</td><td>OK</td><td>535.5</td><td>UA000000103223525</td><td>jmiller@wright-humphrey.com</td></tr><tr><td>1975-01-18T09:18:35.660+0000</td><td>1975-01-18T09:18:00.630+0000</td><td>New York</td><td>NY</td><td>1525.5</td><td>UA000000103226248</td><td>medinalauren90@hotmail.com</td></tr><tr><td>1975-01-18T08:45:29.704+0000</td><td>1975-01-18T08:45:29.256+0000</td><td>Westfield</td><td>MA</td><td>1615.5</td><td>UA000000103226607</td><td>glassdanielle@yahoo.com</td></tr><tr><td>1975-01-18T13:48:36.578+0000</td><td>1975-01-18T13:48:21.896+0000</td><td>Moreno Valley</td><td>CA</td><td>1047.6</td><td>UA000000103226791</td><td>chelsea02@finley.biz</td></tr><tr><td>1975-01-18T13:50:43.888+0000</td><td>1975-01-18T13:50:40.768+0000</td><td>Kokomo</td><td>IN</td><td>1075.5</td><td>UA000000103228407</td><td>sarahlove@hotmail.com</td></tr><tr><td>1975-01-18T11:15:18.755+0000</td><td>1975-01-18T11:12:43.657+0000</td><td>Seattle</td><td>WA</td><td>940.5</td><td>UA000000103228536</td><td>blakeangel@pierce.org</td></tr><tr><td>1975-01-18T11:03:22.563+0000</td><td>1975-01-18T11:03:19.558+0000</td><td>Austin</td><td>TX</td><td>1075.5</td><td>UA000000103231544</td><td>lisagardner@gmail.com</td></tr><tr><td>1975-01-18T09:13:32.392+0000</td><td>1975-01-18T09:10:41.850+0000</td><td>Orlando</td><td>FL</td><td>535.5</td><td>UA000000103232173</td><td>austin0688@gmail.com</td></tr><tr><td>1975-01-18T08:09:43.979+0000</td><td>1975-01-18T08:09:42.721+0000</td><td>St. Paul</td><td>MN</td><td>1075.5</td><td>UA000000103232287</td><td>blee38@williams.com</td></tr><tr><td>1975-01-18T07:13:22.277+0000</td><td>1975-01-18T07:13:18.312+0000</td><td>Houston</td><td>TX</td><td>850.5</td><td>UA000000103233681</td><td>davenportjay@hotmail.com</td></tr><tr><td>1975-01-18T15:07:24.033+0000</td><td>1975-01-18T15:06:24.648+0000</td><td>New York</td><td>NY</td><td>850.5</td><td>UA000000103233904</td><td>jennifer96@contreras-jackson.net</td></tr><tr><td>1975-01-18T09:31:06.726+0000</td><td>1975-01-18T09:30:14.148+0000</td><td>San Antonio</td><td>TX</td><td>2736.0</td><td>UA000000103234502</td><td>flowerschristine@dominguez-smith.com</td></tr><tr><td>1975-01-18T11:58:51.236+0000</td><td>1975-01-18T11:58:21.145+0000</td><td>El Paso</td><td>TX</td><td>940.5</td><td>UA000000103235498</td><td>harrisdiane@gmail.com</td></tr><tr><td>1975-01-18T12:29:58.380+0000</td><td>1975-01-18T12:29:07.599+0000</td><td>New York</td><td>NY</td><td>985.5</td><td>UA000000103236155</td><td>deborahbrown@lane.com</td></tr><tr><td>1975-01-18T14:21:36.965+0000</td><td>1975-01-18T14:21:00.580+0000</td><td>Lakeland</td><td>TN</td><td>940.5</td><td>UA000000103236761</td><td>april85@gmail.com</td></tr><tr><td>1975-01-18T13:10:01.213+0000</td><td>1975-01-18T13:09:31.469+0000</td><td>National City</td><td>CA</td><td>940.5</td><td>UA000000103237092</td><td>susanflores@carr.com</td></tr><tr><td>1975-01-18T15:23:28.280+0000</td><td>1975-01-18T15:22:59.886+0000</td><td>Cedar City</td><td>UT</td><td>850.5</td><td>UA000000103237751</td><td>ggarcia2@leon.com</td></tr><tr><td>1975-01-18T10:59:54.134+0000</td><td>1975-01-18T10:57:18.641+0000</td><td>Lafayette</td><td>LA</td><td>535.5</td><td>UA000000103239760</td><td>lewismorgan@serrano.info</td></tr><tr><td>1975-01-18T09:00:41.501+0000</td><td>1975-01-18T08:59:34.120+0000</td><td>Foster City</td><td>CA</td><td>940.5</td><td>UA000000103241322</td><td>kgibson5@yahoo.com</td></tr><tr><td>1975-01-18T13:13:40.569+0000</td><td>1975-01-18T13:12:52.592+0000</td><td>San Diego</td><td>CA</td><td>940.5</td><td>UA000000103242065</td><td>mary15@turner.info</td></tr><tr><td>1975-01-18T10:35:57.903+0000</td><td>1975-01-18T10:35:30.983+0000</td><td>Westlake</td><td>OH</td><td>1071.0</td><td>UA000000103242864</td><td>perezbrian@martin.com</td></tr><tr><td>1975-01-18T13:20:44.412+0000</td><td>1975-01-18T13:20:14.500+0000</td><td>Fremont</td><td>CA</td><td>1075.5</td><td>UA000000103242959</td><td>palexander@barnes.com</td></tr><tr><td>1975-01-18T09:46:44.836+0000</td><td>1975-01-18T09:46:39.811+0000</td><td>Council Bluffs</td><td>IA</td><td>535.5</td><td>UA000000103243630</td><td>uhernandez17@hotmail.com</td></tr><tr><td>1975-01-18T10:52:14.880+0000</td><td>1975-01-18T10:52:10.046+0000</td><td>Yorba Linda</td><td>CA</td><td>940.5</td><td>UA000000103243916</td><td>eflores@yahoo.com</td></tr><tr><td>1975-01-18T06:05:47.787+0000</td><td>1975-01-18T06:02:19.581+0000</td><td>Warren</td><td>MI</td><td>940.5</td><td>UA000000103244090</td><td>whoward17@hotmail.com</td></tr><tr><td>1975-01-18T11:25:31.072+0000</td><td>1975-01-18T11:25:29.669+0000</td><td>Atlantic City</td><td>NJ</td><td>1075.5</td><td>UA000000103244412</td><td>lunachristine@arnold-franco.net</td></tr><tr><td>1975-01-18T15:39:01.157+0000</td><td>1975-01-18T15:38:23.674+0000</td><td>Great Falls</td><td>MT</td><td>1075.5</td><td>UA000000103244486</td><td>jessica5039@gmail.com</td></tr><tr><td>1975-01-18T09:46:38.309+0000</td><td>1975-01-18T09:46:33.845+0000</td><td>Tuscaloosa</td><td>AL</td><td>940.5</td><td>UA000000103244699</td><td>dawndean@yahoo.com</td></tr><tr><td>1975-01-18T06:03:31.111+0000</td><td>1975-01-18T06:03:30.888+0000</td><td>Los Angeles</td><td>CA</td><td>535.5</td><td>UA000000103245736</td><td>smorrison@edwards.com</td></tr><tr><td>1975-01-18T13:05:12.267+0000</td><td>1975-01-18T13:05:12.037+0000</td><td>Bristol</td><td>TN</td><td>940.5</td><td>UA000000103245972</td><td>adamdaniels@thornton.com</td></tr><tr><td>1975-01-18T08:00:26.306+0000</td><td>1975-01-18T07:56:27.888+0000</td><td>Carson</td><td>CA</td><td>850.5</td><td>UA000000103246562</td><td>hollymendoza@peters.info</td></tr><tr><td>1975-01-18T09:47:26.750+0000</td><td>1975-01-18T09:47:10.870+0000</td><td>Atlanta</td><td>GA</td><td>985.5</td><td>UA000000103248266</td><td>swansondillon@sullivan.com</td></tr><tr><td>1975-01-18T08:44:12.976+0000</td><td>1975-01-18T08:44:09.265+0000</td><td>Mayer</td><td>MN</td><td>850.5</td><td>UA000000103248647</td><td>harrismartha@noble.org</td></tr><tr><td>1975-01-18T10:24:26.730+0000</td><td>1975-01-18T10:23:37.724+0000</td><td>Virginia Beach</td><td>VA</td><td>940.5</td><td>UA000000103249888</td><td>velezsamantha@diaz.org</td></tr><tr><td>1975-01-18T12:24:37.061+0000</td><td>1975-01-18T12:24:12.772+0000</td><td>Port Arthur</td><td>TX</td><td>940.5</td><td>UA000000103250098</td><td>michael77@gutierrez.com</td></tr><tr><td>1975-01-18T16:34:48.390+0000</td><td>1975-01-18T16:34:39.681+0000</td><td>Syracuse</td><td>UT</td><td>850.5</td><td>UA000000103251723</td><td>jessicacastillo@gmail.com</td></tr><tr><td>1975-01-18T09:18:38.750+0000</td><td>1975-01-18T09:18:37.584+0000</td><td>Jacksonville</td><td>FL</td><td>1795.5</td><td>UA000000103253173</td><td>kristin74@hotmail.com</td></tr><tr><td>1975-01-18T10:53:09.029+0000</td><td>1975-01-18T10:52:38.317+0000</td><td>Creswell</td><td>OR</td><td>850.5</td><td>UA000000103254917</td><td>jared49@gmail.com</td></tr><tr><td>1975-01-18T16:18:31.050+0000</td><td>1975-01-18T16:18:30.577+0000</td><td>St. Paul</td><td>MN</td><td>1075.5</td><td>UA000000103256943</td><td>smitheric@conway.info</td></tr><tr><td>1975-01-18T10:25:51.012+0000</td><td>1975-01-18T10:25:37.552+0000</td><td>Garland</td><td>TX</td><td>2736.0</td><td>UA000000103257111</td><td>fyoung55@yahoo.com</td></tr><tr><td>1975-01-18T13:28:33.788+0000</td><td>1975-01-18T13:26:39.888+0000</td><td>Indianapolis</td><td>IN</td><td>588.6</td><td>UA000000103257714</td><td>theresa95@calhoun.info</td></tr><tr><td>1975-01-18T06:18:15.454+0000</td><td>1975-01-18T06:18:14.577+0000</td><td>Santa Barbara</td><td>CA</td><td>850.5</td><td>UA000000103258358</td><td>lisawilliams58@yahoo.com</td></tr><tr><td>1975-01-18T12:32:13.894+0000</td><td>1975-01-18T12:31:33.869+0000</td><td>Memphis</td><td>TN</td><td>850.5</td><td>UA000000103258683</td><td>danielskevin@yahoo.com</td></tr><tr><td>1975-01-18T14:01:30.466+0000</td><td>1975-01-18T13:59:40.503+0000</td><td>Nevada</td><td>TX</td><td>535.5</td><td>UA000000103258842</td><td>gilberterin@franklin.com</td></tr><tr><td>1975-01-18T10:54:00.940+0000</td><td>1975-01-18T10:53:16.847+0000</td><td>Bloomington</td><td>IL</td><td>535.5</td><td>UA000000103258942</td><td>cdelgado@stewart.com</td></tr><tr><td>1975-01-18T13:09:00.360+0000</td><td>1975-01-18T13:08:37.818+0000</td><td>Rutland</td><td>VT</td><td>940.5</td><td>UA000000103260525</td><td>jason18@mcknight-williams.com</td></tr><tr><td>1975-01-18T05:22:07.890+0000</td><td>1975-01-18T05:22:07.524+0000</td><td>Celina</td><td>TX</td><td>1386.0</td><td>UA000000103260677</td><td>edward00@jones-smith.com</td></tr><tr><td>1975-01-18T07:39:05.453+0000</td><td>1975-01-18T07:39:04.496+0000</td><td>Peoria</td><td>AZ</td><td>850.5</td><td>UA000000103261916</td><td>emily9343@yahoo.com</td></tr><tr><td>1975-01-18T14:18:04.250+0000</td><td>1975-01-18T14:18:04.002+0000</td><td>Manning</td><td>SC</td><td>535.5</td><td>UA000000103262502</td><td>dmarks17@gmail.com</td></tr><tr><td>1975-01-18T12:52:13.799+0000</td><td>1975-01-18T12:52:12.475+0000</td><td>Detroit</td><td>MI</td><td>850.5</td><td>UA000000103262771</td><td>gordoncharles@gmail.com</td></tr><tr><td>1975-01-18T09:35:19.295+0000</td><td>1975-01-18T09:33:01.755+0000</td><td>San Diego</td><td>CA</td><td>940.5</td><td>UA000000103263061</td><td>joserobertson@payne-rogers.com</td></tr><tr><td>1975-01-18T09:24:16.000+0000</td><td>1975-01-18T09:24:14.608+0000</td><td>Novi</td><td>MI</td><td>3001.5</td><td>UA000000103263540</td><td>kingjoel@gmail.com</td></tr><tr><td>1975-01-18T13:56:28.223+0000</td><td>1975-01-18T13:56:10.901+0000</td><td>San Angelo</td><td>TX</td><td>1795.5</td><td>UA000000103264489</td><td>michaelmunoz@medina.biz</td></tr><tr><td>1975-01-18T12:21:23.244+0000</td><td>1975-01-18T12:19:36.443+0000</td><td>San Antonio</td><td>TX</td><td>940.5</td><td>UA000000103264711</td><td>leeann@richardson.com</td></tr><tr><td>1975-01-18T10:35:54.207+0000</td><td>1975-01-18T10:35:45.403+0000</td><td>Maitland</td><td>FL</td><td>1075.5</td><td>UA000000103264949</td><td>watsonalexandra@flowers-hart.net</td></tr><tr><td>1975-01-18T08:14:27.354+0000</td><td>1975-01-18T08:12:59.401+0000</td><td>Dunn</td><td>NC</td><td>940.5</td><td>UA000000103265727</td><td>brownryan@gmail.com</td></tr><tr><td>1975-01-18T13:03:36.043+0000</td><td>1975-01-18T13:03:33.744+0000</td><td>Lansing</td><td>MI</td><td>71.10000000000001</td><td>UA000000103265933</td><td>contrerassean@montgomery.org</td></tr><tr><td>1975-01-18T13:08:39.907+0000</td><td>1975-01-18T13:08:07.230+0000</td><td>Chino</td><td>CA</td><td>940.5</td><td>UA000000103266886</td><td>xwilkins@yahoo.com</td></tr><tr><td>1975-01-18T11:45:18.970+0000</td><td>1975-01-18T11:42:38.674+0000</td><td>Richmond</td><td>IN</td><td>940.5</td><td>UA000000103267407</td><td>jamesjohnson@gmail.com</td></tr><tr><td>1975-01-18T07:30:32.902+0000</td><td>1975-01-18T07:30:12.629+0000</td><td>Gulf Shores</td><td>AL</td><td>1011.6</td><td>UA000000103269627</td><td>wcopeland@gmail.com</td></tr><tr><td>1975-01-18T10:54:53.453+0000</td><td>1975-01-18T10:54:50.604+0000</td><td>San Francisco</td><td>CA</td><td>850.5</td><td>UA000000103270595</td><td>courtney74@hotmail.com</td></tr><tr><td>1975-01-18T11:12:10.068+0000</td><td>1975-01-18T11:09:31.748+0000</td><td>Milwaukee</td><td>WI</td><td>985.5</td><td>UA000000103271971</td><td>victorstone@wilson.com</td></tr><tr><td>1975-01-18T14:13:45.487+0000</td><td>1975-01-18T14:13:43.015+0000</td><td>Granite Falls</td><td>WA</td><td>71.10000000000001</td><td>UA000000103272381</td><td>thompsontiffany@perry.com</td></tr><tr><td>1975-01-18T08:43:56.905+0000</td><td>1975-01-18T08:43:54.422+0000</td><td>Moody</td><td>AL</td><td>940.5</td><td>UA000000103272496</td><td>wagnernicholas@hotmail.com</td></tr><tr><td>1975-01-18T16:42:37.395+0000</td><td>1975-01-18T16:38:39.824+0000</td><td>North Ogden</td><td>UT</td><td>535.5</td><td>UA000000103272524</td><td>suzanne92@carrillo-wallace.info</td></tr><tr><td>1975-01-18T13:20:20.430+0000</td><td>1975-01-18T13:19:17.416+0000</td><td>Sunny Isles Beach</td><td>FL</td><td>940.5</td><td>UA000000103272843</td><td>reneeburton@carson.com</td></tr><tr><td>1975-01-18T11:57:20.424+0000</td><td>1975-01-18T11:56:29.837+0000</td><td>Mansfield</td><td>TX</td><td>985.5</td><td>UA000000103273755</td><td>uwheeler@rivas.com</td></tr><tr><td>1975-01-18T14:38:50.535+0000</td><td>1975-01-18T14:37:16.884+0000</td><td>Westland</td><td>MI</td><td>1615.5</td><td>UA000000103273887</td><td>ashley477@hotmail.com</td></tr><tr><td>1975-01-18T13:44:50.951+0000</td><td>1975-01-18T13:44:50.748+0000</td><td>Rowlett</td><td>TX</td><td>1902.6</td><td>UA000000103274574</td><td>megan25@todd.com</td></tr><tr><td>1975-01-18T14:35:00.129+0000</td><td>1975-01-18T14:34:45.329+0000</td><td>Kettering</td><td>OH</td><td>1615.5</td><td>UA000000103274582</td><td>marksmith@brewer-pena.com</td></tr><tr><td>1975-01-18T13:33:25.485+0000</td><td>1975-01-18T13:33:07.516+0000</td><td>Phoenix</td><td>AZ</td><td>1525.5</td><td>UA000000103274665</td><td>natalierogers@gmail.com</td></tr><tr><td>1975-01-18T12:37:26.701+0000</td><td>1975-01-18T12:35:51.007+0000</td><td>Washington</td><td>DC</td><td>993.6</td><td>UA000000103277321</td><td>ysilva@gmail.com</td></tr><tr><td>1975-01-18T15:53:00.555+0000</td><td>1975-01-18T15:52:57.188+0000</td><td>Grapevine</td><td>TX</td><td>940.5</td><td>UA000000103279610</td><td>monicameyer@mitchell.com</td></tr><tr><td>1975-01-18T10:57:02.824+0000</td><td>1975-01-18T10:55:35.353+0000</td><td>Longview</td><td>TX</td><td>535.5</td><td>UA000000103279932</td><td>uschmidt@hotmail.com</td></tr><tr><td>1975-01-18T09:24:47.321+0000</td><td>1975-01-18T09:23:59.819+0000</td><td>Longmont</td><td>CO</td><td>535.5</td><td>UA000000103281241</td><td>berrychristopher@sanchez.com</td></tr><tr><td>1975-01-18T09:32:32.578+0000</td><td>1975-01-18T09:32:21.930+0000</td><td>Durham</td><td>NC</td><td>535.5</td><td>UA000000103281483</td><td>websterdanielle@curtis.com</td></tr><tr><td>1975-01-18T12:07:15.260+0000</td><td>1975-01-18T12:07:07.822+0000</td><td>El Cajon</td><td>CA</td><td>985.5</td><td>UA000000103282442</td><td>tonyvargas@hotmail.com</td></tr><tr><td>1975-01-18T12:35:42.365+0000</td><td>1975-01-18T12:35:39.511+0000</td><td>San Diego</td><td>CA</td><td>850.5</td><td>UA000000103282900</td><td>richardclark@gmail.com</td></tr><tr><td>1975-01-18T09:42:35.990+0000</td><td>1975-01-18T09:42:26.076+0000</td><td>Boston</td><td>MA</td><td>940.5</td><td>UA000000103283739</td><td>parrishcandice@yahoo.com</td></tr><tr><td>1975-01-18T13:25:58.044+0000</td><td>1975-01-18T13:23:48.479+0000</td><td>Quincy</td><td>MA</td><td>940.5</td><td>UA000000103283990</td><td>fjohnson@price.com</td></tr><tr><td>1975-01-18T08:59:28.317+0000</td><td>1975-01-18T08:59:23.217+0000</td><td>Cudahy</td><td>WI</td><td>535.5</td><td>UA000000103284833</td><td>myersanita@torres.com</td></tr><tr><td>1975-01-18T16:39:52.476+0000</td><td>1975-01-18T16:38:41.819+0000</td><td>Washington</td><td>DC</td><td>940.5</td><td>UA000000103284918</td><td>waynebowen@rangel.com</td></tr><tr><td>1975-01-18T09:31:28.144+0000</td><td>1975-01-18T09:29:55.621+0000</td><td>Wichita</td><td>KS</td><td>940.5</td><td>UA000000103284920</td><td>cthomas@mckinney.com</td></tr><tr><td>1975-01-18T12:03:27.889+0000</td><td>1975-01-18T12:03:14.921+0000</td><td>Georgetown</td><td>SC</td><td>1075.5</td><td>UA000000103284971</td><td>ray18@yahoo.com</td></tr><tr><td>1975-01-18T14:17:09.081+0000</td><td>1975-01-18T14:16:42.540+0000</td><td>Aurora</td><td>IL</td><td>535.5</td><td>UA000000103285131</td><td>nicholasreyes@franco.net</td></tr><tr><td>1975-01-18T09:55:53.658+0000</td><td>1975-01-18T09:55:18.450+0000</td><td>Greenwood</td><td>IN</td><td>1795.5</td><td>UA000000103285893</td><td>bwilliams@yahoo.com</td></tr><tr><td>1975-01-18T11:41:44.622+0000</td><td>1975-01-18T11:40:34.323+0000</td><td>Washington</td><td>IN</td><td>850.5</td><td>UA000000103286160</td><td>westjohn@sawyer-kline.com</td></tr><tr><td>1975-01-18T10:58:09.367+0000</td><td>1975-01-18T10:58:02.157+0000</td><td>Wauwatosa</td><td>WI</td><td>535.5</td><td>UA000000103287698</td><td>lauren40@wood-kaiser.org</td></tr><tr><td>1975-01-18T09:41:32.544+0000</td><td>1975-01-18T09:41:21.060+0000</td><td>New York</td><td>NY</td><td>850.5</td><td>UA000000103288141</td><td>howejames@hotmail.com</td></tr><tr><td>1975-01-18T10:44:42.194+0000</td><td>1975-01-18T10:43:57.027+0000</td><td>Pontiac</td><td>MI</td><td>535.5</td><td>UA000000103288852</td><td>elizabetholson@adams-lam.com</td></tr><tr><td>1975-01-18T12:32:17.202+0000</td><td>1975-01-18T12:28:10.074+0000</td><td>Montrose</td><td>CO</td><td>588.6</td><td>UA000000103289332</td><td>powersrenee@hotmail.com</td></tr><tr><td>1975-01-18T11:56:21.728+0000</td><td>1975-01-18T11:55:58.896+0000</td><td>Murfreesboro</td><td>TN</td><td>850.5</td><td>UA000000103289524</td><td>paul01@gmail.com</td></tr><tr><td>1975-01-18T12:56:34.351+0000</td><td>1975-01-18T12:55:33.942+0000</td><td>Palmdale</td><td>CA</td><td>1071.0</td><td>UA000000103289556</td><td>henry77@hotmail.com</td></tr><tr><td>1975-01-18T15:59:35.333+0000</td><td>1975-01-18T15:58:23.869+0000</td><td>Loma Linda</td><td>CA</td><td>1182.6</td><td>UA000000103289611</td><td>nelsonchristopher@madden.com</td></tr><tr><td>1975-01-18T10:37:32.278+0000</td><td>1975-01-18T10:36:24.396+0000</td><td>Dallas</td><td>TX</td><td>535.5</td><td>UA000000103290498</td><td>barrerachristopher@rodriguez.com</td></tr><tr><td>1975-01-18T12:35:54.418+0000</td><td>1975-01-18T12:33:20.334+0000</td><td>Kent</td><td>WA</td><td>535.5</td><td>UA000000103292288</td><td>waynegray@parker.net</td></tr><tr><td>1975-01-18T13:13:41.308+0000</td><td>1975-01-18T13:09:58.809+0000</td><td>Fort Walton Beach</td><td>FL</td><td>940.5</td><td>UA000000103293448</td><td>danieljones@powell.biz</td></tr><tr><td>1975-01-18T11:49:48.050+0000</td><td>1975-01-18T11:49:21.279+0000</td><td>Newark</td><td>NJ</td><td>1075.5</td><td>UA000000103294693</td><td>karen5910@yahoo.com</td></tr><tr><td>1975-01-18T12:56:07.150+0000</td><td>1975-01-18T12:55:43.224+0000</td><td>Philadelphia</td><td>PA</td><td>1075.5</td><td>UA000000103294944</td><td>marciaprice@lucas-roberts.info</td></tr><tr><td>1975-01-18T08:27:00.159+0000</td><td>1975-01-18T08:26:54.526+0000</td><td>Glendora</td><td>CA</td><td>535.5</td><td>UA000000103295791</td><td>kentronald@gmail.com</td></tr><tr><td>1975-01-18T11:05:19.387+0000</td><td>1975-01-18T11:05:18.523+0000</td><td>Cottonwood Heights</td><td>UT</td><td>535.5</td><td>UA000000103296167</td><td>kylejohnson76@hotmail.com</td></tr><tr><td>1975-01-18T17:35:58.843+0000</td><td>1975-01-18T17:35:52.458+0000</td><td>Spearfish</td><td>SD</td><td>1611.0</td><td>UA000000103298013</td><td>npena@gmail.com</td></tr><tr><td>1975-01-18T07:33:28.731+0000</td><td>1975-01-18T07:33:28.290+0000</td><td>New York</td><td>NY</td><td>940.5</td><td>UA000000103298039</td><td>angelajohnson33@gmail.com</td></tr><tr><td>1975-01-18T09:04:24.085+0000</td><td>1975-01-18T09:03:53.085+0000</td><td>Fort Wayne</td><td>IN</td><td>850.5</td><td>UA000000103298211</td><td>zbrowning@hotmail.com</td></tr><tr><td>1975-01-18T14:18:31.078+0000</td><td>1975-01-18T14:17:23.763+0000</td><td>Carlsbad</td><td>CA</td><td>940.5</td><td>UA000000103299023</td><td>duncanadrian@yahoo.com</td></tr><tr><td>1975-01-18T11:14:42.911+0000</td><td>1975-01-18T11:12:48.385+0000</td><td>Fort Lauderdale</td><td>FL</td><td>850.5</td><td>UA000000103299350</td><td>tanner37@maldonado.com</td></tr><tr><td>1975-01-18T13:39:52.412+0000</td><td>1975-01-18T13:38:05.214+0000</td><td>Marina</td><td>CA</td><td>1075.5</td><td>UA000000103300677</td><td>kristinaharrison@torres.com</td></tr><tr><td>1975-01-18T09:05:37.110+0000</td><td>1975-01-18T09:04:57.033+0000</td><td>Indianapolis</td><td>IN</td><td>1075.5</td><td>UA000000103301133</td><td>jhayden6@hotmail.com</td></tr><tr><td>1975-01-18T16:06:48.521+0000</td><td>1975-01-18T16:06:44.809+0000</td><td>Jersey City</td><td>NJ</td><td>642.6</td><td>UA000000103301221</td><td>ronaldjones@hotmail.com</td></tr><tr><td>1975-01-18T11:28:36.708+0000</td><td>1975-01-18T11:28:34.802+0000</td><td>Hamilton</td><td>MT</td><td>1075.5</td><td>UA000000103302069</td><td>lhenry@lewis-lambert.com</td></tr><tr><td>1975-01-18T14:39:09.015+0000</td><td>1975-01-18T14:39:03.036+0000</td><td>Fort Thomas</td><td>KY</td><td>535.5</td><td>UA000000103305674</td><td>walkerjill@hotmail.com</td></tr><tr><td>1975-01-18T12:35:44.894+0000</td><td>1975-01-18T12:35:00.874+0000</td><td>Brooklyn</td><td>OH</td><td>535.5</td><td>UA000000103305905</td><td>holmespaul@reeves-roberts.com</td></tr><tr><td>1975-01-18T09:54:08.238+0000</td><td>1975-01-18T09:54:05.491+0000</td><td>Aurora</td><td>CO</td><td>1075.5</td><td>UA000000103306005</td><td>jadedavis@valdez-price.org</td></tr><tr><td>1975-01-18T12:05:19.061+0000</td><td>1975-01-18T12:05:18.589+0000</td><td>Lewiston</td><td>ME</td><td>1615.5</td><td>UA000000103306616</td><td>qhoward@wilson.info</td></tr><tr><td>1975-01-18T09:06:52.114+0000</td><td>1975-01-18T09:06:51.890+0000</td><td>Fredericksburg</td><td>TX</td><td>1971.0</td><td>UA000000103306959</td><td>huntkimberly@gmail.com</td></tr><tr><td>1975-01-18T09:59:51.866+0000</td><td>1975-01-18T09:59:51.253+0000</td><td>Port St. Lucie</td><td>FL</td><td>535.5</td><td>UA000000103307038</td><td>vaughnnicholas@gmail.com</td></tr><tr><td>1975-01-18T08:53:05.344+0000</td><td>1975-01-18T08:50:20.951+0000</td><td>Aurora</td><td>CO</td><td>850.5</td><td>UA000000103307688</td><td>tommy55@martinez.com</td></tr><tr><td>1975-01-18T12:28:01.585+0000</td><td>1975-01-18T12:26:51.807+0000</td><td>Bridgeton</td><td>NJ</td><td>1615.5</td><td>UA000000103308234</td><td>vjones16@gmail.com</td></tr><tr><td>1975-01-18T13:42:55.836+0000</td><td>1975-01-18T13:42:46.253+0000</td><td>Donalsonville</td><td>GA</td><td>1075.5</td><td>UA000000103308308</td><td>austinrice@byrd-bass.com</td></tr><tr><td>1975-01-18T13:13:19.902+0000</td><td>1975-01-18T13:11:10.718+0000</td><td>Jacksonville</td><td>FL</td><td>535.5</td><td>UA000000103309137</td><td>daltonhowell@park.com</td></tr><tr><td>1975-01-18T10:46:13.430+0000</td><td>1975-01-18T10:43:55.857+0000</td><td>South Gate</td><td>CA</td><td>535.5</td><td>UA000000103309521</td><td>sandra9565@gmail.com</td></tr><tr><td>1975-01-18T09:08:15.368+0000</td><td>1975-01-18T09:06:34.460+0000</td><td>Mankato</td><td>MN</td><td>940.5</td><td>UA000000103310095</td><td>frankrobert@huerta-butler.com</td></tr><tr><td>1975-01-18T07:48:47.449+0000</td><td>1975-01-18T07:46:25.429+0000</td><td>Bakersfield</td><td>CA</td><td>1128.6</td><td>UA000000103310209</td><td>johnmoore37@yahoo.com</td></tr><tr><td>1975-01-18T09:59:25.255+0000</td><td>1975-01-18T09:58:14.469+0000</td><td>Aurora</td><td>IL</td><td>535.5</td><td>UA000000103310297</td><td>carrillojason@hotmail.com</td></tr><tr><td>1975-01-18T13:54:45.061+0000</td><td>1975-01-18T13:51:08.470+0000</td><td>Craig</td><td>CO</td><td>850.5</td><td>UA000000103310778</td><td>jaybrown@frost.com</td></tr><tr><td>1975-01-18T12:20:05.592+0000</td><td>1975-01-18T12:20:04.421+0000</td><td>College Station</td><td>TX</td><td>850.5</td><td>UA000000103310960</td><td>hernandezrebekah@ward-mcdowell.com</td></tr><tr><td>1975-01-18T10:03:34.917+0000</td><td>1975-01-18T10:02:59.243+0000</td><td>Charlestown</td><td>IN</td><td>1075.5</td><td>UA000000103311049</td><td>courtneysanford@yahoo.com</td></tr><tr><td>1975-01-18T11:23:26.209+0000</td><td>1975-01-18T11:23:25.819+0000</td><td>Charlotte</td><td>NC</td><td>535.5</td><td>UA000000103311221</td><td>charles4424@gmail.com</td></tr><tr><td>1975-01-18T11:03:01.688+0000</td><td>1975-01-18T11:01:53.674+0000</td><td>Sunnyvale</td><td>CA</td><td>143.1</td><td>UA000000103312123</td><td>donna9730@yahoo.com</td></tr><tr><td>1975-01-18T14:07:47.080+0000</td><td>1975-01-18T14:07:46.876+0000</td><td>New York</td><td>NY</td><td>53.1</td><td>UA000000103312327</td><td>joann52@yahoo.com</td></tr><tr><td>1975-01-18T05:14:50.344+0000</td><td>1975-01-18T05:14:26.874+0000</td><td>North Charleston</td><td>SC</td><td>1045.0</td><td>UA000000103313845</td><td>curtisrachel@yahoo.com</td></tr><tr><td>1975-01-18T11:30:34.711+0000</td><td>1975-01-18T11:29:06.738+0000</td><td>Burleson</td><td>TX</td><td>143.1</td><td>UA000000103314180</td><td>richardsonthomas@hotmail.com</td></tr><tr><td>1975-01-18T12:00:34.236+0000</td><td>1975-01-18T12:00:29.369+0000</td><td>New York</td><td>NY</td><td>1075.5</td><td>UA000000103314821</td><td>gomezdavid@cobb.com</td></tr><tr><td>1975-01-18T05:23:31.444+0000</td><td>1975-01-18T05:23:27.243+0000</td><td>Sausalito</td><td>CA</td><td>1195.0</td><td>UA000000103315213</td><td>uwallace@roberts.info</td></tr><tr><td>1975-01-18T05:24:36.560+0000</td><td>1975-01-18T05:23:36.648+0000</td><td>Savannah</td><td>GA</td><td>1195.0</td><td>UA000000103315389</td><td>owencody@glass-cruz.com</td></tr><tr><td>1975-01-18T11:48:27.539+0000</td><td>1975-01-18T11:48:26.288+0000</td><td>Anderson</td><td>IN</td><td>1075.5</td><td>UA000000103316247</td><td>kylejackson@hotmail.com</td></tr><tr><td>1975-01-18T05:37:51.989+0000</td><td>1975-01-18T05:36:43.817+0000</td><td>Centennial</td><td>CO</td><td>1045.0</td><td>UA000000103317678</td><td>ojones@donaldson-mann.com</td></tr><tr><td>1975-01-18T05:38:54.826+0000</td><td>1975-01-18T05:38:09.815+0000</td><td>Tamarac</td><td>FL</td><td>1195.0</td><td>UA000000103317898</td><td>nfrederick96@hotmail.com</td></tr><tr><td>1975-01-18T05:39:35.053+0000</td><td>1975-01-18T05:39:29.916+0000</td><td>Las Vegas</td><td>NV</td><td>59.0</td><td>UA000000103317936</td><td>adam17@santos.biz</td></tr><tr><td>1975-01-18T13:56:16.264+0000</td><td>1975-01-18T13:56:12.671+0000</td><td>Vacaville</td><td>CA</td><td>1075.5</td><td>UA000000103318215</td><td>patricksteven@hotmail.com</td></tr><tr><td>1975-01-18T05:39:45.847+0000</td><td>1975-01-18T05:38:05.103+0000</td><td>Madison</td><td>WI</td><td>1195.0</td><td>UA000000103319005</td><td>emily74@cowan.com</td></tr><tr><td>1975-01-18T05:39:39.813+0000</td><td>1975-01-18T05:39:32.872+0000</td><td>Ingleside</td><td>TX</td><td>1695.0</td><td>UA000000103319597</td><td>mcdanielmichael@yahoo.com</td></tr><tr><td>1975-01-18T05:41:59.043+0000</td><td>1975-01-18T05:41:55.072+0000</td><td>San Diego</td><td>CA</td><td>1045.0</td><td>UA000000103320214</td><td>thomasjessica@hotmail.com</td></tr><tr><td>1975-01-18T05:44:42.127+0000</td><td>1975-01-18T05:44:17.193+0000</td><td>Sandy Springs</td><td>GA</td><td>945.0</td><td>UA000000103320253</td><td>jillian76@hotmail.com</td></tr><tr><td>1975-01-18T05:41:36.742+0000</td><td>1975-01-18T05:41:05.438+0000</td><td>Chicago</td><td>IL</td><td>595.0</td><td>UA000000103320289</td><td>smithheather69@gmail.com</td></tr><tr><td>1975-01-18T05:45:03.608+0000</td><td>1975-01-18T05:45:00.024+0000</td><td>Amarillo</td><td>TX</td><td>595.0</td><td>UA000000103320314</td><td>jonesmatthew24@hotmail.com</td></tr><tr><td>1975-01-18T11:31:49.492+0000</td><td>1975-01-18T11:31:48.955+0000</td><td>Gresham</td><td>OR</td><td>1075.5</td><td>UA000000103320420</td><td>zmiles@allen-berry.biz</td></tr><tr><td>1975-01-18T11:42:47.684+0000</td><td>1975-01-18T11:39:54.589+0000</td><td>Jacksonville</td><td>FL</td><td>940.5</td><td>UA000000103320539</td><td>carterdouglas@thomas-barajas.com</td></tr><tr><td>1975-01-18T05:42:37.311+0000</td><td>1975-01-18T05:42:31.475+0000</td><td>Alexandria</td><td>VA</td><td>1795.0</td><td>UA000000103321013</td><td>eking49@hotmail.com</td></tr><tr><td>1975-01-18T05:51:00.427+0000</td><td>1975-01-18T05:43:21.537+0000</td><td>Anaheim</td><td>CA</td><td>1254.0</td><td>UA000000103321071</td><td>jimmyrodgers@gmail.com</td></tr><tr><td>1975-01-18T19:04:05.267+0000</td><td>1975-01-18T19:03:39.400+0000</td><td>Fontana</td><td>CA</td><td>1615.5</td><td>UA000000103321556</td><td>huntmichael@yahoo.com</td></tr><tr><td>1975-01-18T13:04:48.278+0000</td><td>1975-01-18T13:04:40.567+0000</td><td>Milwaukee</td><td>WI</td><td>642.6</td><td>UA000000103321824</td><td>kara49@hotmail.com</td></tr><tr><td>1975-01-18T05:45:33.773+0000</td><td>1975-01-18T05:45:20.572+0000</td><td>Boca Raton</td><td>FL</td><td>595.0</td><td>UA000000103321867</td><td>gboyer@hotmail.com</td></tr><tr><td>1975-01-18T13:49:55.600+0000</td><td>1975-01-18T13:48:50.999+0000</td><td>Parlier</td><td>CA</td><td>1795.5</td><td>UA000000103322174</td><td>hinesamanda@berg-griffin.org</td></tr><tr><td>1975-01-18T11:49:01.238+0000</td><td>1975-01-18T11:48:56.748+0000</td><td>Los Angeles</td><td>CA</td><td>940.5</td><td>UA000000103322271</td><td>ybrown82@hotmail.com</td></tr><tr><td>1975-01-18T05:48:01.167+0000</td><td>1975-01-18T05:47:27.940+0000</td><td>Wilmington</td><td>NC</td><td>1045.0</td><td>UA000000103322347</td><td>dfrazier@knox.net</td></tr><tr><td>1975-01-18T05:46:21.856+0000</td><td>1975-01-18T05:44:34.256+0000</td><td>Pasadena</td><td>TX</td><td>1195.0</td><td>UA000000103322657</td><td>catherineadams@yahoo.com</td></tr><tr><td>1975-01-18T05:43:27.362+0000</td><td>1975-01-18T05:43:25.716+0000</td><td>Providence</td><td>RI</td><td>1195.0</td><td>UA000000103322744</td><td>haneyroberto@murray.com</td></tr><tr><td>1975-01-18T05:45:29.560+0000</td><td>1975-01-18T05:45:03.579+0000</td><td>South Weber</td><td>UT</td><td>595.0</td><td>UA000000103323304</td><td>warrenmurray@hendrix.biz</td></tr><tr><td>1975-01-18T12:10:18.798+0000</td><td>1975-01-18T12:09:35.260+0000</td><td>Des Moines</td><td>IA</td><td>1075.5</td><td>UA000000103323322</td><td>melissaroman@clarke-bennett.org</td></tr><tr><td>1975-01-18T05:48:32.212+0000</td><td>1975-01-18T05:47:30.837+0000</td><td>League City</td><td>TX</td><td>1195.0</td><td>UA000000103323356</td><td>ryanhurst@gmail.com</td></tr><tr><td>1975-01-18T05:49:21.958+0000</td><td>1975-01-18T05:49:21.723+0000</td><td>Roy</td><td>UT</td><td>79.0</td><td>UA000000103324189</td><td>jennifer91@taylor.com</td></tr><tr><td>1975-01-18T05:49:34.053+0000</td><td>1975-01-18T05:48:27.574+0000</td><td>Phoenix</td><td>AZ</td><td>1995.0</td><td>UA000000103324450</td><td>perrykevin@gmail.com</td></tr><tr><td>1975-01-18T08:13:58.271+0000</td><td>1975-01-18T08:11:36.265+0000</td><td>Rexburg</td><td>ID</td><td>850.5</td><td>UA000000103324503</td><td>weaverjessica@yahoo.com</td></tr><tr><td>1975-01-18T05:48:39.205+0000</td><td>1975-01-18T05:48:38.790+0000</td><td>Milpitas</td><td>CA</td><td>59.0</td><td>UA000000103324584</td><td>seananderson@atkinson.com</td></tr><tr><td>1975-01-18T05:57:38.023+0000</td><td>1975-01-18T05:54:48.900+0000</td><td>Los Angeles</td><td>CA</td><td>945.0</td><td>UA000000103324750</td><td>deanmunoz@yahoo.com</td></tr><tr><td>1975-01-18T13:03:58.482+0000</td><td>1975-01-18T13:03:53.482+0000</td><td>New York</td><td>NY</td><td>1615.5</td><td>UA000000103325640</td><td>lauren7362@gmail.com</td></tr><tr><td>1975-01-18T05:52:14.892+0000</td><td>1975-01-18T05:51:17.605+0000</td><td>Pasadena</td><td>TX</td><td>1195.0</td><td>UA000000103325708</td><td>barbarasaunders@taylor.org</td></tr><tr><td>1975-01-18T15:01:15.103+0000</td><td>1975-01-18T15:00:11.505+0000</td><td>Loogootee</td><td>IN</td><td>850.5</td><td>UA000000103325990</td><td>april34@oliver.com</td></tr><tr><td>1975-01-18T05:52:26.375+0000</td><td>1975-01-18T05:51:49.204+0000</td><td>Craig</td><td>CO</td><td>595.0</td><td>UA000000103326068</td><td>gilespaul@gmail.com</td></tr><tr><td>1975-01-18T13:54:28.509+0000</td><td>1975-01-18T13:54:23.539+0000</td><td>Okanogan</td><td>WA</td><td>535.5</td><td>UA000000103326385</td><td>nancy60@mccormick-haley.com</td></tr><tr><td>1975-01-18T11:50:21.617+0000</td><td>1975-01-18T11:49:09.716+0000</td><td>West Valley City</td><td>UT</td><td>940.5</td><td>UA000000103327061</td><td>dreynolds@ponce.org</td></tr><tr><td>1975-01-18T05:55:43.365+0000</td><td>1975-01-18T05:54:54.073+0000</td><td>Talladega</td><td>AL</td><td>1045.0</td><td>UA000000103327096</td><td>jasonramirez@yahoo.com</td></tr><tr><td>1975-01-18T10:44:17.143+0000</td><td>1975-01-18T10:44:16.928+0000</td><td>Kansas City</td><td>KS</td><td>1075.5</td><td>UA000000103327135</td><td>christopheralvarez32@yahoo.com</td></tr><tr><td>1975-01-18T05:48:31.370+0000</td><td>1975-01-18T05:48:30.695+0000</td><td>Escondido</td><td>CA</td><td>945.0</td><td>UA000000103327251</td><td>ngilbert@lee-willis.com</td></tr><tr><td>1975-01-18T19:24:15.212+0000</td><td>1975-01-18T19:23:48.571+0000</td><td>Houston</td><td>TX</td><td>53.1</td><td>UA000000103327452</td><td>johnsoncindy33@hotmail.com</td></tr><tr><td>1975-01-18T17:02:32.831+0000</td><td>1975-01-18T17:01:36.183+0000</td><td>Birmingham</td><td>AL</td><td>1075.5</td><td>UA000000103327666</td><td>kristinawilliams@yahoo.com</td></tr><tr><td>1975-01-18T05:54:05.084+0000</td><td>1975-01-18T05:53:03.751+0000</td><td>Midwest City</td><td>OK</td><td>1195.0</td><td>UA000000103327907</td><td>patrick3952@hotmail.com</td></tr><tr><td>1975-01-18T05:52:53.707+0000</td><td>1975-01-18T05:52:38.798+0000</td><td>Sandy Springs</td><td>GA</td><td>1695.0</td><td>UA000000103328103</td><td>danielle20@green-whitaker.com</td></tr><tr><td>1975-01-18T15:40:31.783+0000</td><td>1975-01-18T15:40:30.386+0000</td><td>Ozark</td><td>MO</td><td>940.5</td><td>UA000000103328313</td><td>wboyer@hotmail.com</td></tr><tr><td>1975-01-18T05:50:20.392+0000</td><td>1975-01-18T05:50:19.997+0000</td><td>Redding</td><td>CA</td><td>1045.0</td><td>UA000000103328370</td><td>zsanders46@hotmail.com</td></tr><tr><td>1975-01-18T05:58:37.407+0000</td><td>1975-01-18T05:58:31.189+0000</td><td>Parma</td><td>OH</td><td>1795.0</td><td>UA000000103328665</td><td>wilsonchris@hotmail.com</td></tr><tr><td>1975-01-18T14:23:47.453+0000</td><td>1975-01-18T14:23:03.045+0000</td><td>Hoover</td><td>AL</td><td>535.5</td><td>UA000000103329005</td><td>henrydavid@davis.net</td></tr><tr><td>1975-01-18T05:57:21.634+0000</td><td>1975-01-18T05:57:19.457+0000</td><td>Nashua</td><td>NH</td><td>1045.0</td><td>UA000000103329619</td><td>manuel06@contreras.com</td></tr><tr><td>1975-01-18T11:54:29.647+0000</td><td>1975-01-18T11:54:26.263+0000</td><td>Glendale</td><td>CA</td><td>1615.5</td><td>UA000000103329755</td><td>millerpamela@ward-williams.net</td></tr><tr><td>1975-01-18T05:56:56.118+0000</td><td>1975-01-18T05:56:53.659+0000</td><td>Brownsville</td><td>TX</td><td>1095.0</td><td>UA000000103330244</td><td>blackkevin@hotmail.com</td></tr><tr><td>1975-01-18T05:59:33.166+0000</td><td>1975-01-18T05:59:07.322+0000</td><td>Austin</td><td>TX</td><td>595.0</td><td>UA000000103330590</td><td>ytrevino61@yahoo.com</td></tr><tr><td>1975-01-18T05:52:14.011+0000</td><td>1975-01-18T05:51:38.079+0000</td><td>Chicago</td><td>IL</td><td>595.0</td><td>UA000000103330712</td><td>leslie60@yahoo.com</td></tr><tr><td>1975-01-18T10:33:26.449+0000</td><td>1975-01-18T10:33:09.763+0000</td><td>Chico</td><td>CA</td><td>940.5</td><td>UA000000103331457</td><td>spage@fowler.com</td></tr><tr><td>1975-01-18T12:18:36.496+0000</td><td>1975-01-18T12:18:19.217+0000</td><td>Alamo</td><td>TX</td><td>1071.0</td><td>UA000000103331566</td><td>allison2288@hotmail.com</td></tr><tr><td>1975-01-18T13:26:11.094+0000</td><td>1975-01-18T13:24:31.198+0000</td><td>Palos Hills</td><td>IL</td><td>985.5</td><td>UA000000103331568</td><td>nataliemurphy@yahoo.com</td></tr><tr><td>1975-01-18T14:30:40.030+0000</td><td>1975-01-18T14:27:45.816+0000</td><td>Lafayette</td><td>IN</td><td>993.6</td><td>UA000000103331658</td><td>hectorsmith@hotmail.com</td></tr><tr><td>1975-01-18T17:35:22.915+0000</td><td>1975-01-18T17:35:08.755+0000</td><td>Lufkin</td><td>TX</td><td>940.5</td><td>UA000000103332754</td><td>osawyer@yahoo.com</td></tr><tr><td>1975-01-18T16:10:07.712+0000</td><td>1975-01-18T16:10:07.209+0000</td><td>Seattle</td><td>WA</td><td>1795.5</td><td>UA000000103332969</td><td>jennifer6031@gmail.com</td></tr><tr><td>1975-01-18T05:59:27.894+0000</td><td>1975-01-18T05:57:40.306+0000</td><td>Fayetteville</td><td>NC</td><td>1004.0</td><td>UA000000103333023</td><td>roberthernandez95@hotmail.com</td></tr><tr><td>1975-01-18T05:56:23.284+0000</td><td>1975-01-18T05:56:14.804+0000</td><td>Santa Monica</td><td>CA</td><td>945.0</td><td>UA000000103333103</td><td>maria58@yahoo.com</td></tr><tr><td>1975-01-18T05:57:20.555+0000</td><td>1975-01-18T05:57:13.384+0000</td><td>Philadelphia</td><td>PA</td><td>595.0</td><td>UA000000103333239</td><td>connerhannah@lee.net</td></tr><tr><td>1975-01-18T16:06:00.602+0000</td><td>1975-01-18T16:05:53.016+0000</td><td>Philadelphia</td><td>PA</td><td>535.5</td><td>UA000000103333300</td><td>johnlee@patrick.info</td></tr><tr><td>1975-01-18T11:57:24.669+0000</td><td>1975-01-18T11:53:27.946+0000</td><td>Pompano Beach</td><td>FL</td><td>53.1</td><td>UA000000103333584</td><td>nelsonkaren@stanley-hernandez.biz</td></tr><tr><td>1975-01-18T05:55:28.220+0000</td><td>1975-01-18T05:55:25.128+0000</td><td>Denver</td><td>CO</td><td>1695.0</td><td>UA000000103333858</td><td>tina8268@hotmail.com</td></tr><tr><td>1975-01-18T18:01:58.847+0000</td><td>1975-01-18T17:58:44.574+0000</td><td>Oklahoma City</td><td>OK</td><td>1075.5</td><td>UA000000103334029</td><td>davisrobert@day-jackson.net</td></tr><tr><td>1975-01-18T05:58:16.715+0000</td><td>1975-01-18T05:57:31.085+0000</td><td>Spokane</td><td>WA</td><td>1045.0</td><td>UA000000103334259</td><td>martinezsally@williams.com</td></tr><tr><td>1975-01-18T16:28:41.856+0000</td><td>1975-01-18T16:28:31.229+0000</td><td>Scranton</td><td>PA</td><td>535.5</td><td>UA000000103334402</td><td>jason67@gmail.com</td></tr><tr><td>1975-01-18T14:21:40.519+0000</td><td>1975-01-18T14:21:33.163+0000</td><td>Roswell</td><td>GA</td><td>850.5</td><td>UA000000103334497</td><td>jedwards@moody.net</td></tr><tr><td>1975-01-18T13:20:40.929+0000</td><td>1975-01-18T13:19:04.457+0000</td><td>Rochester</td><td>NY</td><td>850.5</td><td>UA000000103336187</td><td>ronnieblankenship@yahoo.com</td></tr><tr><td>1975-01-18T05:58:46.285+0000</td><td>1975-01-18T05:58:30.104+0000</td><td>El Paso</td><td>TX</td><td>1045.0</td><td>UA000000103337255</td><td>patelalyssa@gmail.com</td></tr><tr><td>1975-01-18T05:58:01.985+0000</td><td>1975-01-18T05:56:50.846+0000</td><td>Charleston</td><td>IL</td><td>595.0</td><td>UA000000103337847</td><td>jacksonyvette@barton.net</td></tr><tr><td>1975-01-18T06:01:09.049+0000</td><td>1975-01-18T05:59:24.081+0000</td><td>Holdenville</td><td>OK</td><td>1095.0</td><td>UA000000103337996</td><td>singhteresa@jones-phillips.org</td></tr><tr><td>1975-01-18T16:02:53.130+0000</td><td>1975-01-18T16:02:41.213+0000</td><td>Lubbock</td><td>TX</td><td>1525.5</td><td>UA000000103338931</td><td>whitedouglas@hotmail.com</td></tr><tr><td>1975-01-18T14:45:14.076+0000</td><td>1975-01-18T14:45:13.722+0000</td><td>Medford</td><td>OR</td><td>985.5</td><td>UA000000103339095</td><td>pgomez47@gmail.com</td></tr><tr><td>1975-01-18T06:04:13.009+0000</td><td>1975-01-18T06:04:02.829+0000</td><td>Quincy</td><td>MA</td><td>595.0</td><td>UA000000103339183</td><td>alexandra26@hotmail.com</td></tr><tr><td>1975-01-18T06:05:32.962+0000</td><td>1975-01-18T06:03:13.831+0000</td><td>Lynwood</td><td>CA</td><td>1354.0</td><td>UA000000103339190</td><td>jonescynthia@gmail.com</td></tr><tr><td>1975-01-18T13:32:09.246+0000</td><td>1975-01-18T13:31:32.589+0000</td><td>Flint</td><td>MI</td><td>1075.5</td><td>UA000000103339317</td><td>wwilson@hotmail.com</td></tr><tr><td>1975-01-18T06:08:03.756+0000</td><td>1975-01-18T06:06:27.384+0000</td><td>Oxnard</td><td>CA</td><td>1004.0</td><td>UA000000103339405</td><td>mayellen@reynolds.com</td></tr><tr><td>1975-01-18T12:37:36.450+0000</td><td>1975-01-18T12:36:58.192+0000</td><td>Aurora</td><td>IL</td><td>535.5</td><td>UA000000103340449</td><td>brenda98@walker-brooks.com</td></tr><tr><td>1975-01-18T12:29:24.052+0000</td><td>1975-01-18T12:27:44.435+0000</td><td>Berkeley</td><td>CA</td><td>71.10000000000001</td><td>UA000000103340783</td><td>underwoodelijah@gmail.com</td></tr><tr><td>1975-01-18T06:13:53.385+0000</td><td>1975-01-18T06:11:57.232+0000</td><td>Moreno Valley</td><td>CA</td><td>59.0</td><td>UA000000103341064</td><td>twilliams@bailey.com</td></tr><tr><td>1975-01-18T06:03:42.560+0000</td><td>1975-01-18T06:03:41.260+0000</td><td>Jersey City</td><td>NJ</td><td>1045.0</td><td>UA000000103341182</td><td>wolfjason@hotmail.com</td></tr><tr><td>1975-01-18T20:05:22.418+0000</td><td>1975-01-18T20:05:21.042+0000</td><td>St. Paul</td><td>MN</td><td>535.5</td><td>UA000000103341321</td><td>jeremycox@yahoo.com</td></tr><tr><td>1975-01-18T14:06:55.369+0000</td><td>1975-01-18T14:06:34.958+0000</td><td>Conroe</td><td>TX</td><td>940.5</td><td>UA000000103341795</td><td>johnsontodd@sullivan.org</td></tr><tr><td>1975-01-18T14:58:49.864+0000</td><td>1975-01-18T14:54:27.810+0000</td><td>Oakland</td><td>CA</td><td>1128.6</td><td>UA000000103342020</td><td>petersanchez@russell.com</td></tr><tr><td>1975-01-18T13:51:25.726+0000</td><td>1975-01-18T13:50:12.947+0000</td><td>Livonia</td><td>MI</td><td>850.5</td><td>UA000000103342343</td><td>sarahwilliams@miller.org</td></tr><tr><td>1975-01-18T06:07:42.249+0000</td><td>1975-01-18T06:02:03.039+0000</td><td>Beloit</td><td>WI</td><td>1045.0</td><td>UA000000103342384</td><td>williamsmith78@gmail.com</td></tr><tr><td>1975-01-18T06:03:31.331+0000</td><td>1975-01-18T06:03:12.696+0000</td><td>Muncie</td><td>IN</td><td>945.0</td><td>UA000000103343314</td><td>lynnrodriguez98@hotmail.com</td></tr><tr><td>1975-01-18T10:03:34.739+0000</td><td>1975-01-18T10:00:30.952+0000</td><td>Mendota</td><td>CA</td><td>940.5</td><td>UA000000103343527</td><td>walterramirez@gmail.com</td></tr><tr><td>1975-01-18T14:06:24.167+0000</td><td>1975-01-18T14:05:36.035+0000</td><td>Beaumont</td><td>CA</td><td>940.5</td><td>UA000000103343793</td><td>christinagibson96@yahoo.com</td></tr><tr><td>1975-01-18T06:05:57.948+0000</td><td>1975-01-18T06:05:56.772+0000</td><td>Denver</td><td>CO</td><td>1195.0</td><td>UA000000103344116</td><td>tspears@solomon-santos.info</td></tr><tr><td>1975-01-18T06:16:08.243+0000</td><td>1975-01-18T06:13:13.665+0000</td><td>Philadelphia</td><td>PA</td><td>1095.0</td><td>UA000000103345376</td><td>mdiaz51@hotmail.com</td></tr><tr><td>1975-01-18T12:27:28.879+0000</td><td>1975-01-18T12:26:32.437+0000</td><td>Bridgeton</td><td>NJ</td><td>2061.0</td><td>UA000000103345393</td><td>valeriewoods@hotmail.com</td></tr><tr><td>1975-01-18T13:40:56.416+0000</td><td>1975-01-18T13:39:49.957+0000</td><td>Tucson</td><td>AZ</td><td>940.5</td><td>UA000000103345566</td><td>trevor83@hotmail.com</td></tr><tr><td>1975-01-18T06:07:14.733+0000</td><td>1975-01-18T06:07:06.263+0000</td><td>Missouri City</td><td>TX</td><td>1095.0</td><td>UA000000103345620</td><td>allenmolina@yahoo.com</td></tr><tr><td>1975-01-18T06:04:32.340+0000</td><td>1975-01-18T06:04:13.907+0000</td><td>Madison</td><td>AL</td><td>945.0</td><td>UA000000103345774</td><td>monicataylor@hotmail.com</td></tr><tr><td>1975-01-18T09:39:46.413+0000</td><td>1975-01-18T09:38:04.898+0000</td><td>Texarkana</td><td>TX</td><td>940.5</td><td>UA000000103345827</td><td>brownnathan@wagner-young.com</td></tr><tr><td>1975-01-18T06:06:48.381+0000</td><td>1975-01-18T06:05:45.152+0000</td><td>Fremont</td><td>NE</td><td>1695.0</td><td>UA000000103345904</td><td>ujohnson@hall-chang.net</td></tr><tr><td>1975-01-18T14:37:15.892+0000</td><td>1975-01-18T14:37:13.828+0000</td><td>Long Beach</td><td>CA</td><td>1881.0</td><td>UA000000103345989</td><td>jdunn87@gmail.com</td></tr><tr><td>1975-01-18T06:05:14.760+0000</td><td>1975-01-18T06:04:35.802+0000</td><td>Lancaster</td><td>SC</td><td>1195.0</td><td>UA000000103347187</td><td>beckerjoanna@yahoo.com</td></tr><tr><td>1975-01-18T06:07:02.963+0000</td><td>1975-01-18T06:04:29.670+0000</td><td>Havana</td><td>IL</td><td>1695.0</td><td>UA000000103347953</td><td>kennethscott@vaughn.biz</td></tr><tr><td>1975-01-18T06:10:30.137+0000</td><td>1975-01-18T06:10:27.109+0000</td><td>Davenport</td><td>IA</td><td>595.0</td><td>UA000000103348095</td><td>iphillips91@gmail.com</td></tr><tr><td>1975-01-18T06:02:41.145+0000</td><td>1975-01-18T06:02:08.700+0000</td><td>Los Angeles</td><td>CA</td><td>595.0</td><td>UA000000103348802</td><td>millseduardo@dyer.com</td></tr><tr><td>1975-01-18T06:03:34.980+0000</td><td>1975-01-18T06:03:05.280+0000</td><td>South El Monte</td><td>CA</td><td>1045.0</td><td>UA000000103348908</td><td>villanuevarebecca@nicholson.com</td></tr><tr><td>1975-01-18T10:09:09.994+0000</td><td>1975-01-18T10:06:29.708+0000</td><td>Sparks</td><td>NV</td><td>1128.6</td><td>UA000000103349673</td><td>patrickfoster@sparks.com</td></tr><tr><td>1975-01-18T13:08:05.095+0000</td><td>1975-01-18T13:04:36.886+0000</td><td>Houston</td><td>TX</td><td>535.5</td><td>UA000000103350757</td><td>qjones@johnson.biz</td></tr><tr><td>1975-01-18T06:08:48.485+0000</td><td>1975-01-18T06:08:47.371+0000</td><td>Port Wentworth</td><td>GA</td><td>595.0</td><td>UA000000103350794</td><td>aaronrandolph@gmail.com</td></tr><tr><td>1975-01-18T06:07:26.457+0000</td><td>1975-01-18T06:07:24.453+0000</td><td>Ferndale</td><td>WA</td><td>595.0</td><td>UA000000103352799</td><td>ogonzalez29@yahoo.com</td></tr><tr><td>1975-01-18T06:07:15.473+0000</td><td>1975-01-18T06:06:21.058+0000</td><td>International Falls</td><td>MN</td><td>1045.0</td><td>UA000000103352837</td><td>williamsbrian92@hotmail.com</td></tr><tr><td>1975-01-18T06:13:58.575+0000</td><td>1975-01-18T06:13:49.553+0000</td><td>Yuma</td><td>AZ</td><td>1995.0</td><td>UA000000103353457</td><td>scott88@mendoza-arnold.com</td></tr><tr><td>1975-01-18T11:49:04.099+0000</td><td>1975-01-18T11:48:56.863+0000</td><td>La Habra</td><td>CA</td><td>1525.5</td><td>UA000000103353965</td><td>joseph15@bradshaw-williams.org</td></tr><tr><td>1975-01-18T06:12:58.577+0000</td><td>1975-01-18T06:11:41.353+0000</td><td>Baton Rouge</td><td>LA</td><td>1045.0</td><td>UA000000103354592</td><td>leetyler@mosley.com</td></tr><tr><td>1975-01-18T16:48:32.203+0000</td><td>1975-01-18T16:48:26.131+0000</td><td>Chicago</td><td>IL</td><td>1075.5</td><td>UA000000103355132</td><td>samuel22@gonzales.com</td></tr><tr><td>1975-01-18T16:31:29.577+0000</td><td>1975-01-18T16:31:29.368+0000</td><td>Wyoming</td><td>MI</td><td>957.6</td><td>UA000000103355151</td><td>blackburnalexis@martinez.com</td></tr><tr><td>1975-01-18T14:04:17.710+0000</td><td>1975-01-18T14:02:16.794+0000</td><td>Vista</td><td>CA</td><td>850.5</td><td>UA000000103355283</td><td>todd43@lopez.com</td></tr><tr><td>1975-01-18T06:10:32.333+0000</td><td>1975-01-18T06:10:31.537+0000</td><td>Seattle</td><td>WA</td><td>595.0</td><td>UA000000103355452</td><td>kcox12@hotmail.com</td></tr><tr><td>1975-01-18T09:34:21.177+0000</td><td>1975-01-18T09:34:12.107+0000</td><td>Las Cruces</td><td>NM</td><td>921.6</td><td>UA000000103356385</td><td>angela90@gmail.com</td></tr><tr><td>1975-01-18T06:11:27.469+0000</td><td>1975-01-18T06:11:23.909+0000</td><td>Fayetteville</td><td>NC</td><td>119.0</td><td>UA000000103356544</td><td>randall94@hotmail.com</td></tr><tr><td>1975-01-18T06:08:25.943+0000</td><td>1975-01-18T06:05:43.835+0000</td><td>East Orange</td><td>NJ</td><td>595.0</td><td>UA000000103356604</td><td>debbie12@anderson-lee.com</td></tr><tr><td>1975-01-18T16:43:02.973+0000</td><td>1975-01-18T16:42:31.327+0000</td><td>Detroit</td><td>MI</td><td>850.5</td><td>UA000000103357201</td><td>wangjennifer@schmidt.net</td></tr><tr><td>1975-01-18T06:12:13.211+0000</td><td>1975-01-18T06:12:12.925+0000</td><td>Lake Oswego</td><td>OR</td><td>1045.0</td><td>UA000000103357391</td><td>websternicole@hotmail.com</td></tr><tr><td>1975-01-18T06:11:07.607+0000</td><td>1975-01-18T06:11:06.867+0000</td><td>South Daytona</td><td>FL</td><td>595.0</td><td>UA000000103357652</td><td>christinamitchell@page-hall.com</td></tr><tr><td>1975-01-18T13:01:38.309+0000</td><td>1975-01-18T12:55:37.053+0000</td><td>Texarkana</td><td>AR</td><td>535.5</td><td>UA000000103358181</td><td>cjimenez@best-jones.net</td></tr><tr><td>1975-01-18T06:08:06.791+0000</td><td>1975-01-18T06:08:06.323+0000</td><td>Fairmont</td><td>WV</td><td>1045.0</td><td>UA000000103358273</td><td>ramosbonnie@yahoo.com</td></tr><tr><td>1975-01-18T06:20:45.031+0000</td><td>1975-01-18T06:20:11.228+0000</td><td>Anaheim</td><td>CA</td><td>1095.0</td><td>UA000000103359237</td><td>gcortez7@gmail.com</td></tr><tr><td>1975-01-18T06:10:25.341+0000</td><td>1975-01-18T06:09:56.763+0000</td><td>Rancho Cordova</td><td>CA</td><td>2319.0</td><td>UA000000103359241</td><td>sparker53@yahoo.com</td></tr><tr><td>1975-01-18T06:07:30.397+0000</td><td>1975-01-18T06:06:54.930+0000</td><td>Martin</td><td>TN</td><td>1795.0</td><td>UA000000103359318</td><td>ferrellandre@levy.com</td></tr><tr><td>1975-01-18T06:14:00.816+0000</td><td>1975-01-18T06:13:57.041+0000</td><td>Myrtle Beach</td><td>SC</td><td>945.0</td><td>UA000000103359337</td><td>kevin7942@yahoo.com</td></tr><tr><td>1975-01-18T06:10:54.692+0000</td><td>1975-01-18T06:10:52.001+0000</td><td>Burnet</td><td>TX</td><td>945.0</td><td>UA000000103359665</td><td>rsweeney@roberts.com</td></tr><tr><td>1975-01-18T13:01:12.756+0000</td><td>1975-01-18T13:01:12.469+0000</td><td>Shenandoah</td><td>IA</td><td>985.5</td><td>UA000000103360414</td><td>theresasawyer@good.com</td></tr><tr><td>1975-01-18T10:44:47.240+0000</td><td>1975-01-18T10:44:39.806+0000</td><td>Friendswood</td><td>TX</td><td>850.5</td><td>UA000000103360816</td><td>gdixon77@yahoo.com</td></tr><tr><td>1975-01-18T06:15:29.532+0000</td><td>1975-01-18T06:14:06.911+0000</td><td>Sacramento</td><td>CA</td><td>1064.0</td><td>UA000000103361049</td><td>umorgan@thomas.com</td></tr><tr><td>1975-01-18T06:18:15.091+0000</td><td>1975-01-18T06:17:49.992+0000</td><td>New York</td><td>NY</td><td>1995.0</td><td>UA000000103361625</td><td>julia66@yahoo.com</td></tr><tr><td>1975-01-18T06:11:01.040+0000</td><td>1975-01-18T06:10:51.744+0000</td><td>El Paso</td><td>TX</td><td>1045.0</td><td>UA000000103361732</td><td>louisrush@mclean-werner.com</td></tr><tr><td>1975-01-18T09:26:04.982+0000</td><td>1975-01-18T09:20:51.960+0000</td><td>North Richland Hills</td><td>TX</td><td>535.5</td><td>UA000000103361867</td><td>angela1864@yahoo.com</td></tr><tr><td>1975-01-18T06:13:19.846+0000</td><td>1975-01-18T06:12:36.010+0000</td><td>Munising</td><td>MI</td><td>1195.0</td><td>UA000000103361895</td><td>bmartinez54@hotmail.com</td></tr><tr><td>1975-01-18T14:47:32.111+0000</td><td>1975-01-18T14:47:31.875+0000</td><td>Chicago</td><td>IL</td><td>606.6</td><td>UA000000103361973</td><td>millerjames29@gmail.com</td></tr><tr><td>1975-01-18T06:12:32.991+0000</td><td>1975-01-18T06:11:58.736+0000</td><td>Dallas</td><td>TX</td><td>1045.0</td><td>UA000000103362502</td><td>longmichael@wilson.com</td></tr><tr><td>1975-01-18T06:10:47.495+0000</td><td>1975-01-18T06:10:32.325+0000</td><td>Everett</td><td>WA</td><td>595.0</td><td>UA000000103362748</td><td>robbinsgregory@gmail.com</td></tr><tr><td>1975-01-18T13:19:46.955+0000</td><td>1975-01-18T13:15:08.840+0000</td><td>New York</td><td>NY</td><td>1075.5</td><td>UA000000103363253</td><td>fklein69@yahoo.com</td></tr><tr><td>1975-01-18T06:13:16.317+0000</td><td>1975-01-18T06:11:44.095+0000</td><td>Phoenix</td><td>AZ</td><td>1095.0</td><td>UA000000103363500</td><td>jacobsonjeffrey@gutierrez-brooks.com</td></tr><tr><td>1975-01-18T06:12:45.847+0000</td><td>1975-01-18T06:12:11.049+0000</td><td>Staunton</td><td>IL</td><td>1995.0</td><td>UA000000103363786</td><td>gmercer@yahoo.com</td></tr><tr><td>1975-01-18T11:42:48.572+0000</td><td>1975-01-18T11:42:45.817+0000</td><td>Naples</td><td>FL</td><td>850.5</td><td>UA000000103364485</td><td>gordonduran@hunter.com</td></tr><tr><td>1975-01-18T06:10:36.653+0000</td><td>1975-01-18T06:10:33.255+0000</td><td>Huber Heights</td><td>OH</td><td>1795.0</td><td>UA000000103364579</td><td>tonyfields@allen.com</td></tr><tr><td>1975-01-18T06:14:49.087+0000</td><td>1975-01-18T06:14:02.082+0000</td><td>New York</td><td>NY</td><td>1104.0</td><td>UA000000103364908</td><td>lesliemiller@hotmail.com</td></tr><tr><td>1975-01-18T12:53:36.045+0000</td><td>1975-01-18T12:53:06.027+0000</td><td>Alexandria</td><td>VA</td><td>535.5</td><td>UA000000103365112</td><td>drivers@taylor-wright.org</td></tr><tr><td>1975-01-18T06:15:20.878+0000</td><td>1975-01-18T06:15:16.906+0000</td><td>Joliet</td><td>IL</td><td>1095.0</td><td>UA000000103367111</td><td>mpark@flynn.com</td></tr><tr><td>1975-01-18T06:13:31.882+0000</td><td>1975-01-18T06:12:39.763+0000</td><td>Los Angeles</td><td>CA</td><td>1045.0</td><td>UA000000103367339</td><td>bbutler@yahoo.com</td></tr><tr><td>1975-01-18T06:10:45.428+0000</td><td>1975-01-18T06:08:03.808+0000</td><td>Filer</td><td>ID</td><td>595.0</td><td>UA000000103367382</td><td>ericrogers@scott.biz</td></tr><tr><td>1975-01-18T15:25:30.600+0000</td><td>1975-01-18T15:25:17.950+0000</td><td>New York</td><td>NY</td><td>1075.5</td><td>UA000000103367715</td><td>davisbeth@yahoo.com</td></tr><tr><td>1975-01-18T06:14:36.117+0000</td><td>1975-01-18T06:14:20.314+0000</td><td>Ramsey</td><td>MN</td><td>1045.0</td><td>UA000000103368198</td><td>nelsonconnie@hotmail.com</td></tr><tr><td>1975-01-18T06:13:06.540+0000</td><td>1975-01-18T06:12:31.163+0000</td><td>Bountiful</td><td>UT</td><td>1095.0</td><td>UA000000103368742</td><td>kenneth1554@hotmail.com</td></tr><tr><td>1975-01-18T12:47:16.050+0000</td><td>1975-01-18T12:47:01.276+0000</td><td>Grand Junction</td><td>CO</td><td>1615.5</td><td>UA000000103368922</td><td>stephaniemitchell@hotmail.com</td></tr><tr><td>1975-01-18T13:06:40.034+0000</td><td>1975-01-18T13:06:29.511+0000</td><td>Titusville</td><td>FL</td><td>535.5</td><td>UA000000103369245</td><td>kevin944@yahoo.com</td></tr><tr><td>1975-01-18T06:16:36.100+0000</td><td>1975-01-18T06:13:19.351+0000</td><td>Chandler</td><td>AZ</td><td>1195.0</td><td>UA000000103369448</td><td>allenshepard@gmail.com</td></tr><tr><td>1975-01-18T06:18:14.485+0000</td><td>1975-01-18T06:18:13.874+0000</td><td>Providence</td><td>RI</td><td>1045.0</td><td>UA000000103369672</td><td>johnsonjames@dunn.com</td></tr><tr><td>1975-01-18T06:11:32.726+0000</td><td>1975-01-18T06:11:16.679+0000</td><td>Hialeah</td><td>FL</td><td>945.0</td><td>UA000000103370574</td><td>elizabeth81@yahoo.com</td></tr><tr><td>1975-01-18T10:53:07.926+0000</td><td>1975-01-18T10:53:07.106+0000</td><td>Hammond</td><td>IN</td><td>940.5</td><td>UA000000103371633</td><td>davidnolan@yahoo.com</td></tr></tbody></table>Showing the first 1000 rows.</div>"
      ]
     },
     "metadata": {
      "application/vnd.databricks.v1+output": {
       "addedWidgets": {},
       "aggData": [],
       "aggError": "",
       "aggOverflow": false,
       "aggSchema": [],
       "aggSeriesLimitReached": false,
       "aggType": "",
       "arguments": {},
       "columnCustomDisplayInfos": {},
       "data": [
        [
         "1975-01-18T06:46:46.619+0000",
         "1975-01-18T06:44:37.492+0000",
         "Bloomington",
         "IN",
         1525.5,
         "UA000000102361456",
         "dramos@davis.info"
        ],
        [
         "1975-01-18T08:14:09.079+0000",
         "1975-01-18T08:13:57.676+0000",
         "Torrance",
         "CA",
         940.5,
         "UA000000102367094",
         "ztran@hotmail.com"
        ],
        [
         "1975-01-18T07:59:58.169+0000",
         "1975-01-18T07:59:19.763+0000",
         "Lewisville",
         "TX",
         1525.5,
         "UA000000102368506",
         "ncraig@byrd.net"
        ],
        [
         "1975-01-18T07:20:38.609+0000",
         "1975-01-18T07:18:41.030+0000",
         "Redding",
         "CA",
         1075.5,
         "UA000000102369818",
         "justinpeterson@wang.net"
        ],
        [
         "1975-01-18T06:13:22.356+0000",
         "1975-01-18T06:07:56.466+0000",
         "Beaumont",
         "TX",
         1075.5,
         "UA000000102370013",
         "lopezjulia@yahoo.com"
        ],
        [
         "1975-01-18T05:37:54.151+0000",
         "1975-01-18T05:35:53.642+0000",
         "Florida City",
         "FL",
         1075.5,
         "UA000000102376220",
         "nnelson@rodriguez.org"
        ],
        [
         "1975-01-18T06:15:46.592+0000",
         "1975-01-18T06:15:18.701+0000",
         "Tacoma",
         "WA",
         940.5,
         "UA000000102380918",
         "moniquemacdonald@bradley-manning.com"
        ],
        [
         "1975-01-18T06:18:33.656+0000",
         "1975-01-18T06:18:14.439+0000",
         "Rochester Hills",
         "MI",
         107.10000000000001,
         "UA000000102382462",
         "lisa01@frank.biz"
        ],
        [
         "1975-01-18T05:28:52.648+0000",
         "1975-01-18T05:28:47.547+0000",
         "Hermosa Beach",
         "CA",
         850.5,
         "UA000000102385149",
         "zachary30@holland.com"
        ],
        [
         "1975-01-18T09:23:11.788+0000",
         "1975-01-18T09:22:02.811+0000",
         "Waxahachie",
         "TX",
         850.5,
         "UA000000102387080",
         "angelabarker@gmail.com"
        ],
        [
         "1975-01-18T05:44:41.996+0000",
         "1975-01-18T05:43:58.499+0000",
         "Shakopee",
         "MN",
         1075.5,
         "UA000000102391372",
         "brittney05@moore.org"
        ],
        [
         "1975-01-18T05:32:02.235+0000",
         "1975-01-18T05:31:38.707+0000",
         "Kirbyville",
         "TX",
         1615.5,
         "UA000000102396461",
         "brandon28@gmail.com"
        ],
        [
         "1975-01-18T06:30:06.155+0000",
         "1975-01-18T06:29:55.123+0000",
         "Houston",
         "TX",
         535.5,
         "UA000000102398473",
         "cassandra3569@yahoo.com"
        ],
        [
         "1975-01-18T07:01:20.543+0000",
         "1975-01-18T07:00:23.355+0000",
         "Bellingham",
         "WA",
         535.5,
         "UA000000102399830",
         "reidstanley@walker.biz"
        ],
        [
         "1975-01-18T06:05:19.044+0000",
         "1975-01-18T06:05:17.758+0000",
         "New York",
         "NY",
         535.5,
         "UA000000102399968",
         "brandonhoward@oconnor.net"
        ],
        [
         "1975-01-18T06:44:18.822+0000",
         "1975-01-18T06:44:18.169+0000",
         "Clermont",
         "FL",
         940.5,
         "UA000000102403537",
         "wsellers@campos-parker.com"
        ],
        [
         "1975-01-18T06:50:08.396+0000",
         "1975-01-18T06:49:20.117+0000",
         "Chicago",
         "IL",
         985.5,
         "UA000000102404065",
         "khill@yahoo.com"
        ],
        [
         "1975-01-18T06:04:47.034+0000",
         "1975-01-18T06:04:39.025+0000",
         "Jacksonville",
         "FL",
         1525.5,
         "UA000000102413010",
         "michaelwalters@yahoo.com"
        ],
        [
         "1975-01-18T06:37:23.052+0000",
         "1975-01-18T06:37:22.798+0000",
         "Sulphur",
         "OK",
         535.5,
         "UA000000102416968",
         "buckstacey@frazier.com"
        ],
        [
         "1975-01-18T06:43:49.140+0000",
         "1975-01-18T06:42:40.301+0000",
         "Fort Worth",
         "TX",
         1075.5,
         "UA000000102423557",
         "tneal@mcfarland.info"
        ],
        [
         "1975-01-18T06:48:57.980+0000",
         "1975-01-18T06:47:25.108+0000",
         "Camden",
         "NJ",
         107.10000000000001,
         "UA000000102434875",
         "blanchardalexander@adams.com"
        ],
        [
         "1975-01-18T06:03:14.604+0000",
         "1975-01-18T06:03:07.109+0000",
         "Richland",
         "MS",
         606.6,
         "UA000000102436921",
         "navarromelissa@reeves-berry.info"
        ],
        [
         "1975-01-18T06:11:59.969+0000",
         "1975-01-18T06:11:24.165+0000",
         "Los Angeles",
         "CA",
         535.5,
         "UA000000102439111",
         "aprilnguyen@howell-duran.com"
        ],
        [
         "1975-01-18T07:33:22.031+0000",
         "1975-01-18T07:31:05.311+0000",
         "Lima",
         "OH",
         940.5,
         "UA000000102439346",
         "boothrebecca@gmail.com"
        ],
        [
         "1975-01-18T05:16:29.298+0000",
         "1975-01-18T05:16:28.776+0000",
         "High Point",
         "NC",
         1615.5,
         "UA000000102440526",
         "zdavidson@colon-clark.com"
        ],
        [
         "1975-01-18T06:02:13.135+0000",
         "1975-01-18T06:01:47.677+0000",
         "New Orleans",
         "LA",
         850.5,
         "UA000000102441118",
         "ghanna@garcia.com"
        ],
        [
         "1975-01-18T09:41:02.700+0000",
         "1975-01-18T09:41:01.406+0000",
         "Long Beach",
         "CA",
         940.5,
         "UA000000102441930",
         "iyang@yahoo.com"
        ],
        [
         "1975-01-18T09:06:56.039+0000",
         "1975-01-18T09:06:37.883+0000",
         "Grand Forks",
         "ND",
         1476,
         "UA000000102442724",
         "whitney36@hayes-griffith.info"
        ],
        [
         "1975-01-18T06:34:21.395+0000",
         "1975-01-18T06:34:11.896+0000",
         "New Baltimore",
         "MI",
         940.5,
         "UA000000102448693",
         "rbaker@valdez-vargas.com"
        ],
        [
         "1975-01-18T07:53:26.943+0000",
         "1975-01-18T07:52:53.889+0000",
         "Memphis",
         "TN",
         535.5,
         "UA000000102449054",
         "nguyendiana@wilson.info"
        ],
        [
         "1975-01-18T05:30:36.927+0000",
         "1975-01-18T05:25:26.894+0000",
         "Dover",
         "DE",
         2871,
         "UA000000102451466",
         "mcdonaldryan@hotmail.com"
        ],
        [
         "1975-01-18T09:38:19.906+0000",
         "1975-01-18T09:36:45.450+0000",
         "Burlington",
         "VT",
         2871,
         "UA000000102453056",
         "llewis@johnson.com"
        ],
        [
         "1975-01-18T05:50:51.459+0000",
         "1975-01-18T05:50:31.530+0000",
         "Harrisburg",
         "PA",
         985.5,
         "UA000000102456593",
         "rmurray@hall.net"
        ],
        [
         "1975-01-18T05:16:00.960+0000",
         "1975-01-18T05:14:57.059+0000",
         "Mound",
         "MN",
         535.5,
         "UA000000102460682",
         "janicetucker@hernandez.biz"
        ],
        [
         "1975-01-18T05:50:22.542+0000",
         "1975-01-18T05:49:04.925+0000",
         "Elizabeth",
         "NJ",
         535.5,
         "UA000000102462424",
         "jonathonbeasley@johnson.org"
        ],
        [
         "1975-01-18T08:04:41.816+0000",
         "1975-01-18T08:03:23.319+0000",
         "Burlingame",
         "CA",
         940.5,
         "UA000000102465733",
         "mercadoandrew@riley-key.com"
        ],
        [
         "1975-01-18T07:41:46.477+0000",
         "1975-01-18T07:38:50.297+0000",
         "North Canton",
         "OH",
         985.5,
         "UA000000102468790",
         "peterwilliams@holmes-gonzalez.com"
        ],
        [
         "1975-01-18T06:40:44.671+0000",
         "1975-01-18T06:40:42.235+0000",
         "Redlands",
         "CA",
         107.10000000000001,
         "UA000000102469436",
         "barbaragraves@powell.com"
        ],
        [
         "1975-01-18T08:20:35.918+0000",
         "1975-01-18T08:20:35.531+0000",
         "Columbus",
         "OH",
         1525.5,
         "UA000000102469763",
         "scollins@little.org"
        ],
        [
         "1975-01-18T07:34:37.935+0000",
         "1975-01-18T07:34:34.613+0000",
         "Waco",
         "TX",
         1075.5,
         "UA000000102470389",
         "boydwilliam@lawrence.net"
        ],
        [
         "1975-01-18T06:40:33.352+0000",
         "1975-01-18T06:39:29.959+0000",
         "Oceanside",
         "CA",
         1075.5,
         "UA000000102470546",
         "nicholsrobert@ramirez-woods.com"
        ],
        [
         "1975-01-18T05:19:33.288+0000",
         "1975-01-18T05:18:50.240+0000",
         "Seymour",
         "IN",
         985.5,
         "UA000000102470674",
         "cynthiavega@hotmail.com"
        ],
        [
         "1975-01-18T06:10:36.608+0000",
         "1975-01-18T06:10:35.245+0000",
         "Conway",
         "SC",
         1075.5,
         "UA000000102471394",
         "nicholas70@fisher-jackson.com"
        ],
        [
         "1975-01-18T07:30:47.262+0000",
         "1975-01-18T07:27:18.330+0000",
         "Escondido",
         "CA",
         940.5,
         "UA000000102477732",
         "marcus81@gmail.com"
        ],
        [
         "1975-01-18T06:46:07.049+0000",
         "1975-01-18T06:46:01.159+0000",
         "Washington",
         "UT",
         985.5,
         "UA000000102480807",
         "vanessaavila@moore.net"
        ],
        [
         "1975-01-18T07:16:25.614+0000",
         "1975-01-18T07:16:19.897+0000",
         "Carlton",
         "OR",
         1075.5,
         "UA000000102484531",
         "riley43@johnson-velez.com"
        ],
        [
         "1975-01-18T05:52:57.746+0000",
         "1975-01-18T05:52:00.838+0000",
         "Houston",
         "TX",
         535.5,
         "UA000000102488149",
         "bdavis@washington.com"
        ],
        [
         "1975-01-18T06:09:22.965+0000",
         "1975-01-18T06:09:00.338+0000",
         "Grants Pass",
         "OR",
         1218.6,
         "UA000000102488219",
         "millsbrian@lewis-cox.com"
        ],
        [
         "1975-01-18T07:16:53.122+0000",
         "1975-01-18T07:16:51.891+0000",
         "Lodi",
         "CA",
         940.5,
         "UA000000102489368",
         "dsanchez@bowen.info"
        ],
        [
         "1975-01-18T07:56:18.849+0000",
         "1975-01-18T07:56:18.360+0000",
         "Riviera Beach",
         "FL",
         940.5,
         "UA000000102492548",
         "robertscott67@hotmail.com"
        ],
        [
         "1975-01-18T06:54:13.786+0000",
         "1975-01-18T06:53:56.442+0000",
         "Shawano",
         "WI",
         535.5,
         "UA000000102503453",
         "lisawilliams@pena.com"
        ],
        [
         "1975-01-18T05:40:07.647+0000",
         "1975-01-18T05:39:54.189+0000",
         "Waukegan",
         "IL",
         1075.5,
         "UA000000102504835",
         "johnny36@evans-mendoza.net"
        ],
        [
         "1975-01-18T06:00:19.045+0000",
         "1975-01-18T06:00:17.874+0000",
         "Romulus",
         "MI",
         850.5,
         "UA000000102511026",
         "gschmidt36@gmail.com"
        ],
        [
         "1975-01-18T05:39:23.012+0000",
         "1975-01-18T05:37:50.778+0000",
         "Lake Jackson",
         "TX",
         1615.5,
         "UA000000102511043",
         "michelle45@gmail.com"
        ],
        [
         "1975-01-18T06:03:40.762+0000",
         "1975-01-18T06:02:14.666+0000",
         "West Chicago",
         "IL",
         2151,
         "UA000000102512716",
         "michael0995@gmail.com"
        ],
        [
         "1975-01-18T05:20:53.008+0000",
         "1975-01-18T05:20:50.577+0000",
         "San Jose",
         "CA",
         850.5,
         "UA000000102513747",
         "cassie75@hammond-lopez.com"
        ],
        [
         "1975-01-18T06:53:37.813+0000",
         "1975-01-18T06:51:41.417+0000",
         "Newport",
         "KY",
         535.5,
         "UA000000102519124",
         "kathleen33@rodriguez.info"
        ],
        [
         "1975-01-18T06:17:02.118+0000",
         "1975-01-18T06:14:10.850+0000",
         "St. Joseph",
         "MO",
         993.6,
         "UA000000102527111",
         "angelaramirez@hotmail.com"
        ],
        [
         "1975-01-18T05:15:38.350+0000",
         "1975-01-18T05:15:29.564+0000",
         "Wilmington",
         "NC",
         1075.5,
         "UA000000102529776",
         "vhayes@hotmail.com"
        ],
        [
         "1975-01-18T06:06:24.217+0000",
         "1975-01-18T06:05:52.005+0000",
         "Fort Collins",
         "CO",
         1615.5,
         "UA000000102531537",
         "davidcarpenter4@gmail.com"
        ],
        [
         "1975-01-18T05:50:57.594+0000",
         "1975-01-18T05:48:23.967+0000",
         "Pittsburg",
         "CA",
         940.5,
         "UA000000102531573",
         "jorge02@hotmail.com"
        ],
        [
         "1975-01-18T05:29:12.550+0000",
         "1975-01-18T05:26:23.182+0000",
         "New York",
         "NY",
         1011.6,
         "UA000000102535567",
         "kristine80@chavez.com"
        ],
        [
         "1975-01-18T08:15:29.849+0000",
         "1975-01-18T08:15:28.165+0000",
         "Driggs",
         "ID",
         1525.5,
         "UA000000102535902",
         "zacharylopez@gmail.com"
        ],
        [
         "1975-01-18T05:19:17.883+0000",
         "1975-01-18T05:18:40.035+0000",
         "San Antonio",
         "TX",
         588.6,
         "UA000000102536517",
         "katiehartman@yahoo.com"
        ],
        [
         "1975-01-18T07:16:48.883+0000",
         "1975-01-18T07:16:43.333+0000",
         "Norman",
         "OK",
         1525.5,
         "UA000000102540758",
         "juliagordon@hotmail.com"
        ],
        [
         "1975-01-18T05:45:45.558+0000",
         "1975-01-18T05:45:42.732+0000",
         "Palm Springs",
         "CA",
         535.5,
         "UA000000102542340",
         "irose@blevins.com"
        ],
        [
         "1975-01-18T07:40:42.533+0000",
         "1975-01-18T07:40:42.198+0000",
         "New York",
         "NY",
         535.5,
         "UA000000102543252",
         "smithelijah@gmail.com"
        ],
        [
         "1975-01-18T07:12:56.847+0000",
         "1975-01-18T07:09:33.589+0000",
         "Lafayette",
         "LA",
         940.5,
         "UA000000102543900",
         "sanchezjohn@smith-short.com"
        ],
        [
         "1975-01-18T06:47:45.195+0000",
         "1975-01-18T06:47:24.955+0000",
         "Memphis",
         "TN",
         850.5,
         "UA000000102544562",
         "annahoffman@gmail.com"
        ],
        [
         "1975-01-18T07:02:34.757+0000",
         "1975-01-18T07:00:20.248+0000",
         "Lee's Summit",
         "MO",
         940.5,
         "UA000000102545336",
         "kiddrobert@li.com"
        ],
        [
         "1975-01-18T08:44:30.479+0000",
         "1975-01-18T08:44:12.489+0000",
         "Fort Smith",
         "AR",
         940.5,
         "UA000000102546071",
         "webbderek@hotmail.com"
        ],
        [
         "1975-01-18T06:56:45.935+0000",
         "1975-01-18T06:56:45.694+0000",
         "Wichita",
         "KS",
         1615.5,
         "UA000000102549257",
         "sshepherd@zhang-miranda.com"
        ],
        [
         "1975-01-18T09:45:34.034+0000",
         "1975-01-18T09:45:23.058+0000",
         "Reno",
         "NV",
         1075.5,
         "UA000000102552047",
         "barbara68@yahoo.com"
        ],
        [
         "1975-01-18T07:10:46.498+0000",
         "1975-01-18T07:09:39.949+0000",
         "North Little Rock",
         "AR",
         535.5,
         "UA000000102553447",
         "christy39@ramos.com"
        ],
        [
         "1975-01-18T08:11:07.223+0000",
         "1975-01-18T08:11:07.011+0000",
         "Miramar",
         "FL",
         1525.5,
         "UA000000102554489",
         "lisa92@hutchinson.org"
        ],
        [
         "1975-01-18T06:48:59.381+0000",
         "1975-01-18T06:48:37.973+0000",
         "Salem",
         "VA",
         2556,
         "UA000000102554936",
         "lauracosta@lynn-wright.org"
        ],
        [
         "1975-01-18T10:25:12.173+0000",
         "1975-01-18T10:24:50.632+0000",
         "Tallahassee",
         "FL",
         940.5,
         "UA000000102554989",
         "farrelljoseph63@yahoo.com"
        ],
        [
         "1975-01-18T07:03:12.254+0000",
         "1975-01-18T07:02:03.486+0000",
         "New Braunfels",
         "TX",
         1971,
         "UA000000102558688",
         "susan60@adkins.com"
        ],
        [
         "1975-01-18T07:49:47.972+0000",
         "1975-01-18T07:49:42.720+0000",
         "New York",
         "NY",
         1615.5,
         "UA000000102559947",
         "hdodson@stephenson.org"
        ],
        [
         "1975-01-18T06:13:55.595+0000",
         "1975-01-18T06:11:50.384+0000",
         "West Jordan",
         "UT",
         940.5,
         "UA000000102562188",
         "anna09@baker.com"
        ],
        [
         "1975-01-18T08:14:44.953+0000",
         "1975-01-18T08:12:52.310+0000",
         "Rochester Hills",
         "MI",
         940.5,
         "UA000000102562642",
         "belinda05@guzman.com"
        ],
        [
         "1975-01-18T07:49:03.464+0000",
         "1975-01-18T07:47:19.021+0000",
         "West Springfield Town",
         "MA",
         1075.5,
         "UA000000102565145",
         "jerrypetty@nicholson-klein.com"
        ],
        [
         "1975-01-18T08:41:33.661+0000",
         "1975-01-18T08:40:09.529+0000",
         "St. Louis Park",
         "MN",
         2016,
         "UA000000102568821",
         "xrosario@yahoo.com"
        ],
        [
         "1975-01-18T05:38:36.741+0000",
         "1975-01-18T05:37:20.660+0000",
         "Bremerton",
         "WA",
         1525.5,
         "UA000000102570793",
         "gregoryaustin@tate.com"
        ],
        [
         "1975-01-18T05:16:45.110+0000",
         "1975-01-18T05:15:37.966+0000",
         "Mission Viejo",
         "CA",
         1146.6,
         "UA000000102570937",
         "srodriguez@sandoval-kelly.com"
        ],
        [
         "1975-01-18T08:46:17.525+0000",
         "1975-01-18T08:45:39.782+0000",
         "Fort Worth",
         "TX",
         940.5,
         "UA000000102577882",
         "xhaney@page.com"
        ],
        [
         "1975-01-18T08:56:58.874+0000",
         "1975-01-18T08:56:57.645+0000",
         "Cullman",
         "AL",
         940.5,
         "UA000000102580776",
         "vincentstewart@martinez-vazquez.net"
        ],
        [
         "1975-01-18T06:08:55.208+0000",
         "1975-01-18T06:06:44.147+0000",
         "Chesapeake",
         "VA",
         940.5,
         "UA000000102580800",
         "angelabrown@robertson.com"
        ],
        [
         "1975-01-18T06:32:49.568+0000",
         "1975-01-18T06:31:38.042+0000",
         "Little Rock",
         "AR",
         850.5,
         "UA000000102581505",
         "mercedeshenson@madden-jones.com"
        ],
        [
         "1975-01-18T08:31:51.222+0000",
         "1975-01-18T08:30:24.704+0000",
         "Tulsa",
         "OK",
         1075.5,
         "UA000000102582229",
         "michelemyers@parker.com"
        ],
        [
         "1975-01-18T09:10:31.137+0000",
         "1975-01-18T09:10:17.943+0000",
         "Winston-Salem",
         "NC",
         1075.5,
         "UA000000102585724",
         "parkerjeremy@gmail.com"
        ],
        [
         "1975-01-18T07:36:34.000+0000",
         "1975-01-18T07:36:33.669+0000",
         "Knoxville",
         "TN",
         535.5,
         "UA000000102586845",
         "fherrera@hernandez-williams.com"
        ],
        [
         "1975-01-18T05:54:29.472+0000",
         "1975-01-18T05:54:24.580+0000",
         "LaFayette",
         "GA",
         535.5,
         "UA000000102588848",
         "adkinskeith@yahoo.com"
        ],
        [
         "1975-01-18T07:40:27.356+0000",
         "1975-01-18T07:39:00.582+0000",
         "Rochester",
         "MN",
         535.5,
         "UA000000102589527",
         "anna74@lee.com"
        ],
        [
         "1975-01-18T06:28:22.935+0000",
         "1975-01-18T06:27:44.755+0000",
         "South Milwaukee",
         "WI",
         940.5,
         "UA000000102589795",
         "perezjoel@barber.com"
        ],
        [
         "1975-01-18T07:03:54.869+0000",
         "1975-01-18T07:03:31.174+0000",
         "Yelm",
         "WA",
         71.10000000000001,
         "UA000000102590151",
         "smiththomas@shaffer.com"
        ],
        [
         "1975-01-18T08:36:35.465+0000",
         "1975-01-18T08:36:07.513+0000",
         "Lancaster",
         "PA",
         535.5,
         "UA000000102592817",
         "christopherkaufman@kirk-scott.biz"
        ],
        [
         "1975-01-18T09:46:07.911+0000",
         "1975-01-18T09:45:45.938+0000",
         "Fitchburg",
         "MA",
         940.5,
         "UA000000102593764",
         "natalie92@gmail.com"
        ],
        [
         "1975-01-18T11:17:20.027+0000",
         "1975-01-18T11:16:33.942+0000",
         "Milwaukee",
         "WI",
         535.5,
         "UA000000102605164",
         "qchang22@hotmail.com"
        ],
        [
         "1975-01-18T06:17:43.002+0000",
         "1975-01-18T06:17:34.598+0000",
         "Pearland",
         "TX",
         940.5,
         "UA000000102605544",
         "dvelazquez@gmail.com"
        ],
        [
         "1975-01-18T10:02:14.421+0000",
         "1975-01-18T10:00:51.740+0000",
         "Saratoga Springs",
         "NY",
         535.5,
         "UA000000102606737",
         "umccullough69@yahoo.com"
        ],
        [
         "1975-01-18T08:10:45.935+0000",
         "1975-01-18T08:10:36.880+0000",
         "Lebanon",
         "MO",
         1902.6,
         "UA000000102607848",
         "cynthiajohnson44@hotmail.com"
        ],
        [
         "1975-01-18T06:43:55.864+0000",
         "1975-01-18T06:43:51.995+0000",
         "Atlanta",
         "GA",
         1075.5,
         "UA000000102608016",
         "eric7117@hotmail.com"
        ],
        [
         "1975-01-18T08:03:59.785+0000",
         "1975-01-18T07:59:15.485+0000",
         "Jennings",
         "LA",
         1615.5,
         "UA000000102610673",
         "amanda9686@gmail.com"
        ],
        [
         "1975-01-18T06:35:39.363+0000",
         "1975-01-18T06:35:35.468+0000",
         "Richardson",
         "TX",
         850.5,
         "UA000000102610966",
         "parkerjesus@gmail.com"
        ],
        [
         "1975-01-18T09:14:41.089+0000",
         "1975-01-18T09:14:39.405+0000",
         "Anna",
         "TX",
         940.5,
         "UA000000102611023",
         "millerrhonda77@hotmail.com"
        ],
        [
         "1975-01-18T08:01:30.744+0000",
         "1975-01-18T08:00:11.932+0000",
         "Toledo",
         "OH",
         850.5,
         "UA000000102612096",
         "pottercraig@walter.com"
        ],
        [
         "1975-01-18T07:24:37.733+0000",
         "1975-01-18T07:24:35.338+0000",
         "Amarillo",
         "TX",
         535.5,
         "UA000000102612974",
         "lisa69@gmail.com"
        ],
        [
         "1975-01-18T09:29:11.732+0000",
         "1975-01-18T09:28:15.030+0000",
         "New York",
         "NY",
         985.5,
         "UA000000102613664",
         "donnamiller@fitzpatrick-gonzalez.org"
        ],
        [
         "1975-01-18T05:12:11.805+0000",
         "1975-01-18T05:11:53.603+0000",
         "Portland",
         "OR",
         940.5,
         "UA000000102613703",
         "currylisa@hotmail.com"
        ],
        [
         "1975-01-18T06:36:18.595+0000",
         "1975-01-18T06:35:50.372+0000",
         "Richardson",
         "TX",
         940.5,
         "UA000000102616024",
         "edwardbender@gmail.com"
        ],
        [
         "1975-01-18T06:07:07.173+0000",
         "1975-01-18T06:07:03.156+0000",
         "Loveland",
         "CO",
         535.5,
         "UA000000102616102",
         "halehaley@wilson.com"
        ],
        [
         "1975-01-18T05:59:44.379+0000",
         "1975-01-18T05:58:19.804+0000",
         "Las Vegas",
         "NV",
         535.5,
         "UA000000102617175",
         "jose03@camacho.com"
        ],
        [
         "1975-01-18T14:19:44.479+0000",
         "1975-01-18T14:14:27.699+0000",
         "Aurora",
         "CO",
         1011.6,
         "UA000000102622741",
         "paulamason@hotmail.com"
        ],
        [
         "1975-01-18T07:01:16.121+0000",
         "1975-01-18T07:00:54.413+0000",
         "Murray",
         "UT",
         53.1,
         "UA000000102623280",
         "imeyer3@gmail.com"
        ],
        [
         "1975-01-18T09:45:36.509+0000",
         "1975-01-18T09:45:05.077+0000",
         "Los Angeles",
         "CA",
         535.5,
         "UA000000102623305",
         "joseph4140@yahoo.com"
        ],
        [
         "1975-01-18T07:57:36.294+0000",
         "1975-01-18T07:57:32.458+0000",
         "Baton Rouge",
         "LA",
         1047.6,
         "UA000000102623577",
         "smithsamuel9@yahoo.com"
        ],
        [
         "1975-01-18T06:21:58.659+0000",
         "1975-01-18T06:21:53.342+0000",
         "Los Angeles",
         "CA",
         535.5,
         "UA000000102624876",
         "marialove@lane.com"
        ],
        [
         "1975-01-18T08:19:48.846+0000",
         "1975-01-18T08:19:29.849+0000",
         "Los Angeles",
         "CA",
         940.5,
         "UA000000102625000",
         "jasminewright@gomez.com"
        ],
        [
         "1975-01-18T06:28:46.356+0000",
         "1975-01-18T06:28:18.747+0000",
         "Denver",
         "CO",
         940.5,
         "UA000000102625115",
         "ryanrasmussen@gmail.com"
        ],
        [
         "1975-01-18T05:32:00.921+0000",
         "1975-01-18T05:28:43.432+0000",
         "New Bedford",
         "MA",
         1075.5,
         "UA000000102626668",
         "vdawson40@gmail.com"
        ],
        [
         "1975-01-18T08:33:10.562+0000",
         "1975-01-18T08:32:16.302+0000",
         "Palm Springs",
         "CA",
         535.5,
         "UA000000102626873",
         "bradley45@gmail.com"
        ],
        [
         "1975-01-18T05:20:37.891+0000",
         "1975-01-18T05:20:26.921+0000",
         "Little Elm",
         "TX",
         850.5,
         "UA000000102629898",
         "deborah78@davis.com"
        ],
        [
         "1975-01-18T08:57:12.794+0000",
         "1975-01-18T08:57:10.786+0000",
         "Costa Mesa",
         "CA",
         1075.5,
         "UA000000102629956",
         "amy8918@hotmail.com"
        ],
        [
         "1975-01-18T05:18:37.764+0000",
         "1975-01-18T05:17:42.827+0000",
         "Denver",
         "CO",
         993.6,
         "UA000000102637727",
         "ericpeterson@figueroa.com"
        ],
        [
         "1975-01-18T10:09:40.469+0000",
         "1975-01-18T10:08:12.324+0000",
         "Columbia",
         "SC",
         850.5,
         "UA000000102639129",
         "judith54@hotmail.com"
        ],
        [
         "1975-01-18T08:18:23.934+0000",
         "1975-01-18T08:18:22.192+0000",
         "Lakewood",
         "CO",
         535.5,
         "UA000000102641419",
         "sneal@price.com"
        ],
        [
         "1975-01-18T10:38:50.216+0000",
         "1975-01-18T10:38:32.925+0000",
         "Memphis",
         "TN",
         1075.5,
         "UA000000102642404",
         "john5964@gmail.com"
        ],
        [
         "1975-01-18T05:14:17.108+0000",
         "1975-01-18T05:14:16.335+0000",
         "Gaithersburg",
         "MD",
         940.5,
         "UA000000102642711",
         "vincentnovak@turner.info"
        ],
        [
         "1975-01-18T07:57:41.170+0000",
         "1975-01-18T07:57:38.525+0000",
         "New York",
         "NY",
         850.5,
         "UA000000102645760",
         "ijohnson@rodriguez.com"
        ],
        [
         "1975-01-18T09:01:00.347+0000",
         "1975-01-18T09:00:17.939+0000",
         "Pittsburgh",
         "PA",
         1075.5,
         "UA000000102646789",
         "patriciamurphy68@yahoo.com"
        ],
        [
         "1975-01-18T06:25:26.699+0000",
         "1975-01-18T06:25:21.491+0000",
         "Mobile",
         "AL",
         1795.5,
         "UA000000102647856",
         "amandathomas23@yahoo.com"
        ],
        [
         "1975-01-18T07:42:54.493+0000",
         "1975-01-18T07:42:52.430+0000",
         "Olton",
         "TX",
         535.5,
         "UA000000102648664",
         "jaime81@torres.com"
        ],
        [
         "1975-01-18T10:08:21.227+0000",
         "1975-01-18T10:08:16.961+0000",
         "Columbus",
         "OH",
         940.5,
         "UA000000102649375",
         "christopher98@santana-hernandez.com"
        ],
        [
         "1975-01-18T05:42:50.434+0000",
         "1975-01-18T05:39:55.516+0000",
         "Los Angeles",
         "CA",
         850.5,
         "UA000000102650292",
         "georgehernandez@yahoo.com"
        ],
        [
         "1975-01-18T05:46:36.394+0000",
         "1975-01-18T05:46:04.800+0000",
         "Charlotte",
         "NC",
         1075.5,
         "UA000000102650949",
         "martinscott@diaz.com"
        ],
        [
         "1975-01-18T07:35:36.076+0000",
         "1975-01-18T07:35:05.126+0000",
         "Springfield",
         "MA",
         1611,
         "UA000000102658161",
         "smithjanice79@hotmail.com"
        ],
        [
         "1975-01-18T06:33:07.545+0000",
         "1975-01-18T06:32:50.004+0000",
         "O'Fallon",
         "MO",
         2114.1,
         "UA000000102658419",
         "melissacox@johnson.org"
        ],
        [
         "1975-01-18T10:44:13.986+0000",
         "1975-01-18T10:43:19.305+0000",
         "Fruitland",
         "ID",
         1525.5,
         "UA000000102659324",
         "lisa54@robertson.org"
        ],
        [
         "1975-01-18T07:47:02.992+0000",
         "1975-01-18T07:46:27.583+0000",
         "Norwalk",
         "CT",
         1075.5,
         "UA000000102662516",
         "danielsbob@rivera-williams.com"
        ],
        [
         "1975-01-18T06:43:11.955+0000",
         "1975-01-18T06:42:00.035+0000",
         "Kentwood",
         "MI",
         940.5,
         "UA000000102662737",
         "tayloramanda73@gmail.com"
        ],
        [
         "1975-01-18T08:09:23.430+0000",
         "1975-01-18T08:08:26.090+0000",
         "Rocky Mount",
         "NC",
         535.5,
         "UA000000102663175",
         "thompsontonya56@hotmail.com"
        ],
        [
         "1975-01-18T06:55:00.892+0000",
         "1975-01-18T06:52:13.908+0000",
         "New York",
         "NY",
         1615.5,
         "UA000000102663249",
         "prattbryan@gmail.com"
        ],
        [
         "1975-01-18T05:16:13.355+0000",
         "1975-01-18T05:15:09.164+0000",
         "New Orleans",
         "LA",
         850.5,
         "UA000000102665598",
         "samanthabennett@cain.biz"
        ],
        [
         "1975-01-18T05:43:21.478+0000",
         "1975-01-18T05:43:07.715+0000",
         "Warren",
         "OH",
         642.6,
         "UA000000102666565",
         "christopherweaver83@gmail.com"
        ],
        [
         "1975-01-18T06:54:02.176+0000",
         "1975-01-18T06:53:37.005+0000",
         "Glendale",
         "AZ",
         535.5,
         "UA000000102670390",
         "jessicamiller94@hotmail.com"
        ],
        [
         "1975-01-18T06:23:58.615+0000",
         "1975-01-18T06:23:56.698+0000",
         "Overland Park",
         "KS",
         985.5,
         "UA000000102671791",
         "hawkinsrachel@payne-cox.info"
        ],
        [
         "1975-01-18T09:54:29.102+0000",
         "1975-01-18T09:54:23.087+0000",
         "San Carlos",
         "CA",
         850.5,
         "UA000000102672269",
         "lutzheather@yahoo.com"
        ],
        [
         "1975-01-18T12:28:03.449+0000",
         "1975-01-18T12:26:56.429+0000",
         "Oakland",
         "CA",
         2016,
         "UA000000102674088",
         "ogarcia@hernandez.biz"
        ],
        [
         "1975-01-18T08:41:56.575+0000",
         "1975-01-18T08:41:37.047+0000",
         "Washington",
         "UT",
         940.5,
         "UA000000102675634",
         "robertwilliams14@yahoo.com"
        ],
        [
         "1975-01-18T09:10:07.040+0000",
         "1975-01-18T09:08:36.040+0000",
         "New York",
         "NY",
         940.5,
         "UA000000102678173",
         "jessica18@hayes.com"
        ],
        [
         "1975-01-18T08:05:44.501+0000",
         "1975-01-18T08:05:35.353+0000",
         "Fresno",
         "CA",
         1038.6,
         "UA000000102682350",
         "cheryl87@hobbs-davis.com"
        ],
        [
         "1975-01-18T06:04:45.276+0000",
         "1975-01-18T06:04:43.077+0000",
         "San Diego",
         "CA",
         1615.5,
         "UA000000102685310",
         "fowlerstacey@hernandez-moore.org"
        ],
        [
         "1975-01-18T07:52:26.808+0000",
         "1975-01-18T07:52:23.824+0000",
         "Laguna Woods",
         "CA",
         1075.5,
         "UA000000102686323",
         "ysmith@wallace.com"
        ],
        [
         "1975-01-18T06:59:49.466+0000",
         "1975-01-18T06:59:48.989+0000",
         "Irvine",
         "CA",
         1615.5,
         "UA000000102686537",
         "kellybarr@arroyo.com"
        ],
        [
         "1975-01-18T06:42:13.918+0000",
         "1975-01-18T06:42:10.612+0000",
         "El Dorado",
         "KS",
         985.5,
         "UA000000102686965",
         "mistygarrett@moore.com"
        ],
        [
         "1975-01-18T07:06:59.056+0000",
         "1975-01-18T07:06:29.938+0000",
         "West Bend",
         "WI",
         1615.5,
         "UA000000102687205",
         "patriciawilson@murphy.com"
        ],
        [
         "1975-01-18T07:03:40.183+0000",
         "1975-01-18T07:01:57.998+0000",
         "Blaine",
         "MN",
         71.10000000000001,
         "UA000000102688777",
         "price33@gmail.com"
        ],
        [
         "1975-01-18T08:05:20.409+0000",
         "1975-01-18T08:04:53.560+0000",
         "Bullhead City",
         "AZ",
         985.5,
         "UA000000102690421",
         "josephkathleen@gmail.com"
        ],
        [
         "1975-01-18T09:18:41.287+0000",
         "1975-01-18T09:18:40.573+0000",
         "Los Angeles",
         "CA",
         1075.5,
         "UA000000102690563",
         "thomasbarrera@hotmail.com"
        ],
        [
         "1975-01-18T07:36:10.172+0000",
         "1975-01-18T07:36:05.033+0000",
         "Bowling Green",
         "KY",
         588.6,
         "UA000000102691524",
         "jacobfox@yahoo.com"
        ],
        [
         "1975-01-18T10:54:24.854+0000",
         "1975-01-18T10:51:50.814+0000",
         "New Smyrna Beach",
         "FL",
         1795.5,
         "UA000000102692187",
         "handerson@crawford.com"
        ],
        [
         "1975-01-18T08:49:36.608+0000",
         "1975-01-18T08:48:55.091+0000",
         "Huntington",
         "WV",
         1075.5,
         "UA000000102692593",
         "hayestimothy18@gmail.com"
        ],
        [
         "1975-01-18T06:01:06.111+0000",
         "1975-01-18T06:00:47.456+0000",
         "San Antonio",
         "TX",
         985.5,
         "UA000000102694560",
         "tamaragallagher@cook.biz"
        ],
        [
         "1975-01-18T05:31:38.241+0000",
         "1975-01-18T05:31:04.824+0000",
         "Baytown",
         "TX",
         588.6,
         "UA000000102698318",
         "susan92@king.com"
        ],
        [
         "1975-01-18T07:49:39.404+0000",
         "1975-01-18T07:49:24.284+0000",
         "Vallejo",
         "CA",
         1615.5,
         "UA000000102698524",
         "agarcia@nelson-white.info"
        ],
        [
         "1975-01-18T10:10:39.146+0000",
         "1975-01-18T10:10:36.045+0000",
         "Victoria",
         "TX",
         1128.6,
         "UA000000102698709",
         "laneana@nelson.com"
        ],
        [
         "1975-01-18T08:43:49.034+0000",
         "1975-01-18T08:43:21.041+0000",
         "Frisco",
         "TX",
         535.5,
         "UA000000102698881",
         "waltersrobert@watts.info"
        ],
        [
         "1975-01-18T06:51:26.438+0000",
         "1975-01-18T06:50:18.692+0000",
         "Mesa",
         "AZ",
         1075.5,
         "UA000000102700317",
         "joneszachary14@gmail.com"
        ],
        [
         "1975-01-18T05:44:50.239+0000",
         "1975-01-18T05:44:37.298+0000",
         "Perry",
         "OK",
         2601,
         "UA000000102700345",
         "kmontgomery@watkins.com"
        ],
        [
         "1975-01-18T07:30:00.290+0000",
         "1975-01-18T07:29:47.318+0000",
         "North Ogden",
         "UT",
         53.1,
         "UA000000102702284",
         "erodriguez@hotmail.com"
        ],
        [
         "1975-01-18T07:31:14.649+0000",
         "1975-01-18T07:31:02.472+0000",
         "Monterey Park",
         "CA",
         535.5,
         "UA000000102702950",
         "darrell40@yahoo.com"
        ],
        [
         "1975-01-18T05:44:34.377+0000",
         "1975-01-18T05:43:46.794+0000",
         "La Puente",
         "CA",
         1075.5,
         "UA000000102703041",
         "esparzaheather@gmail.com"
        ],
        [
         "1975-01-18T09:14:25.400+0000",
         "1975-01-18T09:13:32.398+0000",
         "National City",
         "CA",
         940.5,
         "UA000000102703085",
         "shelbycastillo@delgado-thomas.net"
        ],
        [
         "1975-01-18T05:28:57.746+0000",
         "1975-01-18T05:23:18.855+0000",
         "Southgate",
         "MI",
         1615.5,
         "UA000000102703674",
         "louis48@gmail.com"
        ],
        [
         "1975-01-18T05:42:48.339+0000",
         "1975-01-18T05:42:30.259+0000",
         "Galion",
         "OH",
         1749.6,
         "UA000000102704955",
         "carly04@hotmail.com"
        ],
        [
         "1975-01-18T06:59:42.271+0000",
         "1975-01-18T06:58:41.828+0000",
         "Fort Worth",
         "TX",
         1075.5,
         "UA000000102704995",
         "mwolf@hotmail.com"
        ],
        [
         "1975-01-18T07:41:29.620+0000",
         "1975-01-18T07:41:22.805+0000",
         "Fayetteville",
         "NC",
         850.5,
         "UA000000102705023",
         "aterry@yahoo.com"
        ],
        [
         "1975-01-18T10:42:37.936+0000",
         "1975-01-18T10:41:56.998+0000",
         "DeBary",
         "FL",
         606.6,
         "UA000000102707645",
         "nancy11@williams-woodward.com"
        ],
        [
         "1975-01-18T07:40:54.745+0000",
         "1975-01-18T07:40:53.950+0000",
         "Monterey",
         "CA",
         850.5,
         "UA000000102709532",
         "jacobspamela@matthews-hall.info"
        ],
        [
         "1975-01-18T05:39:15.361+0000",
         "1975-01-18T05:36:54.721+0000",
         "Woodland",
         "CA",
         535.5,
         "UA000000102709959",
         "kgarza73@hotmail.com"
        ],
        [
         "1975-01-18T08:38:01.859+0000",
         "1975-01-18T08:36:26.750+0000",
         "Fall River",
         "MA",
         1075.5,
         "UA000000102710424",
         "steinjames@hotmail.com"
        ],
        [
         "1975-01-18T08:07:21.439+0000",
         "1975-01-18T08:06:13.367+0000",
         "Hammond",
         "IN",
         850.5,
         "UA000000102710809",
         "cbest@rhodes.net"
        ],
        [
         "1975-01-18T07:31:24.483+0000",
         "1975-01-18T07:31:05.498+0000",
         "St. Louis",
         "MI",
         940.5,
         "UA000000102711995",
         "kyleavila@perkins.com"
        ],
        [
         "1975-01-18T09:41:22.146+0000",
         "1975-01-18T09:40:30.011+0000",
         "Pueblo",
         "CO",
         53.1,
         "UA000000102713083",
         "curtis06@ritter.biz"
        ],
        [
         "1975-01-18T06:49:55.575+0000",
         "1975-01-18T06:49:52.047+0000",
         "Caribou",
         "ME",
         1795.5,
         "UA000000102713136",
         "sarah3294@yahoo.com"
        ],
        [
         "1975-01-18T05:26:44.641+0000",
         "1975-01-18T05:26:42.597+0000",
         "Thornton",
         "CO",
         535.5,
         "UA000000102713374",
         "kaufmanleah@anderson.com"
        ],
        [
         "1975-01-18T06:03:12.305+0000",
         "1975-01-18T05:59:50.569+0000",
         "Philadelphia",
         "PA",
         1075.5,
         "UA000000102713399",
         "sylvia83@bailey.org"
        ],
        [
         "1975-01-18T09:14:16.169+0000",
         "1975-01-18T09:14:13.821+0000",
         "Sandy Springs",
         "GA",
         1615.5,
         "UA000000102716479",
         "brianscott@sanders-jones.net"
        ],
        [
         "1975-01-18T05:56:15.442+0000",
         "1975-01-18T05:56:10.413+0000",
         "High Point",
         "NC",
         1075.5,
         "UA000000102716560",
         "jennifer8285@gmail.com"
        ],
        [
         "1975-01-18T07:49:40.761+0000",
         "1975-01-18T07:49:39.453+0000",
         "Rochester Hills",
         "MI",
         940.5,
         "UA000000102716778",
         "timbarnes@davis-davis.com"
        ],
        [
         "1975-01-18T08:12:17.158+0000",
         "1975-01-18T08:10:20.268+0000",
         "Crystal Lake",
         "IL",
         1615.5,
         "UA000000102717968",
         "nicole86@washington.com"
        ],
        [
         "1975-01-18T11:26:20.567+0000",
         "1975-01-18T11:23:16.813+0000",
         "Gladstone",
         "MO",
         940.5,
         "UA000000102718892",
         "claytoncoleman@davis-zimmerman.com"
        ],
        [
         "1975-01-18T06:03:46.974+0000",
         "1975-01-18T06:03:45.098+0000",
         "Columbus",
         "OH",
         850.5,
         "UA000000102719771",
         "jfisher@yahoo.com"
        ],
        [
         "1975-01-18T09:43:57.515+0000",
         "1975-01-18T09:43:14.933+0000",
         "Rancho Cordova",
         "CA",
         2151,
         "UA000000102722269",
         "iwalters@adams.com"
        ],
        [
         "1975-01-18T10:04:41.360+0000",
         "1975-01-18T10:04:32.738+0000",
         "Manhattan",
         "KS",
         940.5,
         "UA000000102722512",
         "joshua8757@gmail.com"
        ],
        [
         "1975-01-18T06:22:02.230+0000",
         "1975-01-18T06:21:57.891+0000",
         "Kansas City",
         "KS",
         850.5,
         "UA000000102723939",
         "fgonzalez@duncan.com"
        ],
        [
         "1975-01-18T05:18:41.400+0000",
         "1975-01-18T05:16:59.519+0000",
         "Morgan Hill",
         "CA",
         1795.5,
         "UA000000102725236",
         "robert52@delgado.com"
        ],
        [
         "1975-01-18T07:12:39.542+0000",
         "1975-01-18T07:08:46.145+0000",
         "New York",
         "NY",
         535.5,
         "UA000000102726965",
         "hlopez60@gmail.com"
        ],
        [
         "1975-01-18T05:34:32.494+0000",
         "1975-01-18T05:33:48.136+0000",
         "Rome",
         "GA",
         1075.5,
         "UA000000102727633",
         "diazjustin33@yahoo.com"
        ],
        [
         "1975-01-18T07:10:37.667+0000",
         "1975-01-18T07:10:36.899+0000",
         "Urbana",
         "IL",
         940.5,
         "UA000000102729319",
         "bspencer@hotmail.com"
        ],
        [
         "1975-01-18T06:51:21.640+0000",
         "1975-01-18T06:47:08.204+0000",
         "Columbus",
         "OH",
         940.5,
         "UA000000102730413",
         "jennapatterson@gmail.com"
        ],
        [
         "1975-01-18T08:47:20.229+0000",
         "1975-01-18T08:47:17.575+0000",
         "New York",
         "NY",
         1075.5,
         "UA000000102732224",
         "nchurch@gmail.com"
        ],
        [
         "1975-01-18T07:35:27.819+0000",
         "1975-01-18T07:35:07.533+0000",
         "Dayton",
         "OH",
         53.1,
         "UA000000102732474",
         "steventaylor@patterson.org"
        ],
        [
         "1975-01-18T08:28:11.808+0000",
         "1975-01-18T08:28:08.656+0000",
         "Dickson",
         "TN",
         1075.5,
         "UA000000102733786",
         "gallowayscott@marquez-sullivan.com"
        ],
        [
         "1975-01-18T07:36:48.130+0000",
         "1975-01-18T07:36:07.817+0000",
         "Aiken",
         "SC",
         535.5,
         "UA000000102734603",
         "debbie01@hotmail.com"
        ],
        [
         "1975-01-18T12:16:04.709+0000",
         "1975-01-18T12:15:02.266+0000",
         "Gulf Shores",
         "AL",
         535.5,
         "UA000000102734740",
         "jonesjasmine@eaton.biz"
        ],
        [
         "1975-01-18T06:58:45.316+0000",
         "1975-01-18T06:58:04.898+0000",
         "St. Louis",
         "MO",
         535.5,
         "UA000000102734950",
         "hudsonveronica@perry.info"
        ],
        [
         "1975-01-18T05:20:49.540+0000",
         "1975-01-18T05:20:21.746+0000",
         "Portland",
         "OR",
         1791,
         "UA000000102738568",
         "bcolon@gmail.com"
        ],
        [
         "1975-01-18T06:46:21.343+0000",
         "1975-01-18T06:45:59.663+0000",
         "Boulder",
         "CO",
         535.5,
         "UA000000102739455",
         "freemanalan@hotmail.com"
        ],
        [
         "1975-01-18T05:33:47.579+0000",
         "1975-01-18T05:33:46.706+0000",
         "West Plains",
         "MO",
         940.5,
         "UA000000102741003",
         "snowmaria@green-rodriguez.info"
        ],
        [
         "1975-01-18T05:42:40.791+0000",
         "1975-01-18T05:42:38.150+0000",
         "Miami",
         "FL",
         535.5,
         "UA000000102741868",
         "william57@mann.com"
        ],
        [
         "1975-01-18T09:07:10.200+0000",
         "1975-01-18T09:06:56.850+0000",
         "Decatur",
         "AR",
         535.5,
         "UA000000102741957",
         "justin06@yahoo.com"
        ],
        [
         "1975-01-18T06:02:02.398+0000",
         "1975-01-18T06:02:01.125+0000",
         "San Diego",
         "CA",
         850.5,
         "UA000000102743002",
         "jlin@gmail.com"
        ],
        [
         "1975-01-18T07:52:33.103+0000",
         "1975-01-18T07:52:25.758+0000",
         "Des Moines",
         "WA",
         985.5,
         "UA000000102743127",
         "aduncan@russell.net"
        ],
        [
         "1975-01-18T06:16:42.552+0000",
         "1975-01-18T06:14:40.733+0000",
         "New York",
         "NY",
         940.5,
         "UA000000102744280",
         "teresa26@pittman.com"
        ],
        [
         "1975-01-18T10:53:45.332+0000",
         "1975-01-18T10:53:45.132+0000",
         "Mercedes",
         "TX",
         940.5,
         "UA000000102744999",
         "morrisjames@skinner.com"
        ],
        [
         "1975-01-18T08:22:55.342+0000",
         "1975-01-18T08:22:53.324+0000",
         "Santa Clara",
         "CA",
         53.1,
         "UA000000102745963",
         "joseph7091@hotmail.com"
        ],
        [
         "1975-01-18T10:04:57.718+0000",
         "1975-01-18T10:04:56.861+0000",
         "DeKalb",
         "IL",
         535.5,
         "UA000000102746280",
         "parkerleslie@luna-molina.biz"
        ],
        [
         "1975-01-18T06:04:14.568+0000",
         "1975-01-18T06:04:14.352+0000",
         "Lake Forest",
         "CA",
         1124.1,
         "UA000000102747376",
         "hailey32@gmail.com"
        ],
        [
         "1975-01-18T08:48:06.442+0000",
         "1975-01-18T08:48:01.968+0000",
         "Moreno Valley",
         "CA",
         940.5,
         "UA000000102747721",
         "hernandezraymond23@hotmail.com"
        ],
        [
         "1975-01-18T10:51:33.881+0000",
         "1975-01-18T10:48:09.818+0000",
         "Jackson",
         "MS",
         1071,
         "UA000000102748432",
         "emilymoore@strickland-rodriguez.com"
        ],
        [
         "1975-01-18T06:44:13.596+0000",
         "1975-01-18T06:44:11.156+0000",
         "Ontario",
         "CA",
         2069.1,
         "UA000000102749916",
         "scottbanks@martinez.com"
        ],
        [
         "1975-01-18T07:12:49.003+0000",
         "1975-01-18T07:10:59.990+0000",
         "North Charleston",
         "SC",
         1386,
         "UA000000102750373",
         "andrea53@compton.biz"
        ],
        [
         "1975-01-18T11:33:36.527+0000",
         "1975-01-18T11:33:27.318+0000",
         "Greenfield",
         "WI",
         535.5,
         "UA000000102751606",
         "stephanie3332@yahoo.com"
        ],
        [
         "1975-01-18T08:20:49.330+0000",
         "1975-01-18T08:19:42.236+0000",
         "Colorado Springs",
         "CO",
         1795.5,
         "UA000000102751947",
         "xthompson61@hotmail.com"
        ],
        [
         "1975-01-18T06:33:56.197+0000",
         "1975-01-18T06:33:46.690+0000",
         "New York",
         "NY",
         850.5,
         "UA000000102752544",
         "estradajoseph@jones.com"
        ],
        [
         "1975-01-18T07:26:25.542+0000",
         "1975-01-18T07:25:19.220+0000",
         "Arlington",
         "WA",
         903.6,
         "UA000000102754477",
         "kclay@carter-owens.com"
        ],
        [
         "1975-01-18T07:48:53.141+0000",
         "1975-01-18T07:48:37.186+0000",
         "St. Louis",
         "MO",
         993.6,
         "UA000000102756284",
         "jhart19@hotmail.com"
        ],
        [
         "1975-01-18T10:25:58.432+0000",
         "1975-01-18T10:25:41.063+0000",
         "Spring Hill",
         "TN",
         850.5,
         "UA000000102756531",
         "contrerasjennifer45@hotmail.com"
        ],
        [
         "1975-01-18T09:34:06.958+0000",
         "1975-01-18T09:33:52.426+0000",
         "New York",
         "NY",
         1075.5,
         "UA000000102757118",
         "roybrooks@miranda.com"
        ],
        [
         "1975-01-18T08:58:44.340+0000",
         "1975-01-18T08:58:33.839+0000",
         "Newark",
         "NJ",
         1146.6,
         "UA000000102757795",
         "lindsey21@yahoo.com"
        ],
        [
         "1975-01-18T07:53:27.169+0000",
         "1975-01-18T07:53:25.015+0000",
         "New York",
         "NY",
         1218.6,
         "UA000000102758192",
         "johnsoncolin@gonzales-meyer.org"
        ],
        [
         "1975-01-18T09:54:40.767+0000",
         "1975-01-18T09:53:45.425+0000",
         "Dublin",
         "CA",
         940.5,
         "UA000000102760640",
         "james7971@gmail.com"
        ],
        [
         "1975-01-18T07:28:08.674+0000",
         "1975-01-18T07:27:34.668+0000",
         "Parkland",
         "FL",
         1075.5,
         "UA000000102761349",
         "toddhopkins@yahoo.com"
        ],
        [
         "1975-01-18T05:34:35.576+0000",
         "1975-01-18T05:34:34.292+0000",
         "Pascagoula",
         "MS",
         985.5,
         "UA000000102762487",
         "brownpaige@lewis.com"
        ],
        [
         "1975-01-18T11:01:31.038+0000",
         "1975-01-18T11:00:52.539+0000",
         "Pasadena",
         "TX",
         940.5,
         "UA000000102765177",
         "turnercorey@dickerson-lowe.biz"
        ],
        [
         "1975-01-18T07:58:15.983+0000",
         "1975-01-18T07:58:01.540+0000",
         "Circleville",
         "OH",
         1578.6,
         "UA000000102768235",
         "tonyaharvey@gmail.com"
        ],
        [
         "1975-01-18T08:04:12.043+0000",
         "1975-01-18T08:03:44.560+0000",
         "New York",
         "NY",
         940.5,
         "UA000000102768441",
         "vcastillo@rivera.com"
        ],
        [
         "1975-01-18T08:24:41.377+0000",
         "1975-01-18T08:24:23.869+0000",
         "Cheyenne",
         "WY",
         1615.5,
         "UA000000102770016",
         "nicole6768@gmail.com"
        ],
        [
         "1975-01-18T06:23:59.132+0000",
         "1975-01-18T06:22:50.909+0000",
         "La Puente",
         "CA",
         535.5,
         "UA000000102770981",
         "smiththeodore@bass-moore.biz"
        ],
        [
         "1975-01-18T08:14:03.013+0000",
         "1975-01-18T08:14:02.173+0000",
         "Pembroke Pines",
         "FL",
         535.5,
         "UA000000102771109",
         "lisa425@gmail.com"
        ],
        [
         "1975-01-18T10:41:58.916+0000",
         "1975-01-18T10:41:09.183+0000",
         "Appleton",
         "WI",
         903.6,
         "UA000000102773801",
         "valerierodriguez@edwards-chang.com"
        ],
        [
         "1975-01-18T10:41:49.520+0000",
         "1975-01-18T10:41:31.278+0000",
         "Seymour",
         "IN",
         1071,
         "UA000000102775384",
         "ronald88@schultz.biz"
        ],
        [
         "1975-01-18T06:26:01.934+0000",
         "1975-01-18T06:25:40.484+0000",
         "Paragould",
         "AR",
         940.5,
         "UA000000102779924",
         "johnstondanny@yahoo.com"
        ],
        [
         "1975-01-18T06:13:30.362+0000",
         "1975-01-18T06:13:12.071+0000",
         "Gardena",
         "CA",
         985.5,
         "UA000000102780133",
         "maynardemily@hotmail.com"
        ],
        [
         "1975-01-18T06:45:47.022+0000",
         "1975-01-18T06:45:46.619+0000",
         "Dardanelle",
         "AR",
         535.5,
         "UA000000102781113",
         "mistypowell@lawson.info"
        ],
        [
         "1975-01-18T06:22:32.448+0000",
         "1975-01-18T06:17:10.849+0000",
         "Perryville",
         "MO",
         1521,
         "UA000000102781895",
         "chapmanroberta@hotmail.com"
        ],
        [
         "1975-01-18T06:28:05.096+0000",
         "1975-01-18T06:26:16.171+0000",
         "Watsonville",
         "CA",
         1615.5,
         "UA000000102783111",
         "jessica23@sims.com"
        ],
        [
         "1975-01-18T12:22:32.764+0000",
         "1975-01-18T12:22:30.046+0000",
         "Palm Coast",
         "FL",
         985.5,
         "UA000000102784390",
         "oliverivan@howard.com"
        ],
        [
         "1975-01-18T06:10:07.775+0000",
         "1975-01-18T06:10:04.610+0000",
         "Denver",
         "CO",
         940.5,
         "UA000000102786107",
         "gonzalezjoshua@hotmail.com"
        ],
        [
         "1975-01-18T07:40:01.039+0000",
         "1975-01-18T07:39:03.318+0000",
         "San Antonio",
         "TX",
         535.5,
         "UA000000102786505",
         "castrodrew@williams-fernandez.net"
        ],
        [
         "1975-01-18T07:47:21.583+0000",
         "1975-01-18T07:47:20.154+0000",
         "Corvallis",
         "OR",
         940.5,
         "UA000000102786616",
         "jennifer29@taylor-johnson.net"
        ],
        [
         "1975-01-18T10:55:22.090+0000",
         "1975-01-18T10:55:21.752+0000",
         "Oklahoma City",
         "OK",
         1075.5,
         "UA000000102789024",
         "perryandrew@arnold.com"
        ],
        [
         "1975-01-18T06:39:36.839+0000",
         "1975-01-18T06:39:06.015+0000",
         "Cadillac",
         "MI",
         1615.5,
         "UA000000102789399",
         "mercadobryan@boyer-collins.com"
        ],
        [
         "1975-01-18T08:05:25.287+0000",
         "1975-01-18T08:05:24.914+0000",
         "Los Angeles",
         "CA",
         985.5,
         "UA000000102789660",
         "moorewilliam42@yahoo.com"
        ],
        [
         "1975-01-18T05:45:34.472+0000",
         "1975-01-18T05:45:21.884+0000",
         "Sunrise",
         "FL",
         535.5,
         "UA000000102790537",
         "ismith21@gmail.com"
        ],
        [
         "1975-01-18T09:57:20.890+0000",
         "1975-01-18T09:56:13.325+0000",
         "Arlington",
         "TX",
         1075.5,
         "UA000000102791628",
         "krystalhooper@carpenter-huang.info"
        ],
        [
         "1975-01-18T08:03:03.882+0000",
         "1975-01-18T07:58:06.981+0000",
         "North Chicago",
         "IL",
         940.5,
         "UA000000102791937",
         "xgoodwin@yahoo.com"
        ],
        [
         "1975-01-18T07:53:57.321+0000",
         "1975-01-18T07:53:31.291+0000",
         "Paterson",
         "NJ",
         535.5,
         "UA000000102793913",
         "tiffanybrown@gmail.com"
        ],
        [
         "1975-01-18T06:11:47.421+0000",
         "1975-01-18T06:11:11.919+0000",
         "Bountiful",
         "UT",
         940.5,
         "UA000000102795101",
         "melanieolson@hotmail.com"
        ],
        [
         "1975-01-18T11:40:16.170+0000",
         "1975-01-18T11:40:15.600+0000",
         "Shreveport",
         "LA",
         1615.5,
         "UA000000102797206",
         "randall41@gmail.com"
        ],
        [
         "1975-01-18T07:51:31.160+0000",
         "1975-01-18T07:51:20.981+0000",
         "Monterey Park",
         "CA",
         985.5,
         "UA000000102797582",
         "brian67@snyder.biz"
        ],
        [
         "1975-01-18T08:44:01.716+0000",
         "1975-01-18T08:43:54.889+0000",
         "Alice",
         "TX",
         1615.5,
         "UA000000102797987",
         "michelle5840@hotmail.com"
        ],
        [
         "1975-01-18T11:22:48.245+0000",
         "1975-01-18T11:22:43.058+0000",
         "New York",
         "NY",
         535.5,
         "UA000000102798257",
         "nhayes@cummings-cole.org"
        ],
        [
         "1975-01-18T09:48:16.746+0000",
         "1975-01-18T09:48:12.459+0000",
         "La Habra",
         "CA",
         535.5,
         "UA000000102799223",
         "mbrown@lee.info"
        ],
        [
         "1975-01-18T06:52:39.537+0000",
         "1975-01-18T06:52:34.700+0000",
         "Hudson",
         "OH",
         535.5,
         "UA000000102801091",
         "alee@keith.org"
        ],
        [
         "1975-01-18T08:23:15.633+0000",
         "1975-01-18T08:22:54.800+0000",
         "Clifton",
         "NJ",
         535.5,
         "UA000000102802899",
         "higginsbryan@gmail.com"
        ],
        [
         "1975-01-18T11:30:49.432+0000",
         "1975-01-18T11:28:50.010+0000",
         "Riverdale",
         "GA",
         850.5,
         "UA000000102803124",
         "nicholas85@riley.org"
        ],
        [
         "1975-01-18T08:26:55.458+0000",
         "1975-01-18T08:24:24.007+0000",
         "Seguin",
         "TX",
         535.5,
         "UA000000102804319",
         "vbrown@tran.com"
        ],
        [
         "1975-01-18T06:52:05.904+0000",
         "1975-01-18T06:51:55.416+0000",
         "Phoenix",
         "AZ",
         1075.5,
         "UA000000102806080",
         "curtiserica@hotmail.com"
        ],
        [
         "1975-01-18T08:08:17.968+0000",
         "1975-01-18T08:05:05.086+0000",
         "Westminster",
         "CO",
         1075.5,
         "UA000000102806104",
         "anncarson@gmail.com"
        ],
        [
         "1975-01-18T12:57:31.023+0000",
         "1975-01-18T12:57:26.447+0000",
         "Vacaville",
         "CA",
         1075.5,
         "UA000000102806798",
         "landryjoseph@gonzalez.net"
        ],
        [
         "1975-01-18T07:24:17.549+0000",
         "1975-01-18T07:23:34.350+0000",
         "Chicago",
         "IL",
         1075.5,
         "UA000000102809261",
         "scott9410@gmail.com"
        ],
        [
         "1975-01-18T06:19:23.075+0000",
         "1975-01-18T06:19:05.851+0000",
         "St. Paul",
         "MN",
         940.5,
         "UA000000102810155",
         "teresa07@sullivan.info"
        ],
        [
         "1975-01-18T07:57:24.071+0000",
         "1975-01-18T07:55:38.716+0000",
         "Bowling Green",
         "KY",
         940.5,
         "UA000000102811753",
         "floreslucas@larson.info"
        ],
        [
         "1975-01-18T10:55:17.958+0000",
         "1975-01-18T10:55:16.008+0000",
         "Lawrence",
         "IN",
         940.5,
         "UA000000102812549",
         "michaelowen@hotmail.com"
        ],
        [
         "1975-01-18T07:57:57.217+0000",
         "1975-01-18T07:57:54.577+0000",
         "Farmington",
         "NM",
         850.5,
         "UA000000102814329",
         "caseysteele@gmail.com"
        ],
        [
         "1975-01-18T11:31:08.813+0000",
         "1975-01-18T11:28:52.130+0000",
         "St. Clair Shores",
         "MI",
         1795.5,
         "UA000000102815098",
         "amanda41@robinson.com"
        ],
        [
         "1975-01-18T09:16:20.185+0000",
         "1975-01-18T09:11:13.839+0000",
         "Fayetteville",
         "NC",
         993.6,
         "UA000000102815688",
         "jasoncarter89@hotmail.com"
        ],
        [
         "1975-01-18T12:51:15.014+0000",
         "1975-01-18T12:50:36.865+0000",
         "Auburn Hills",
         "MI",
         940.5,
         "UA000000102816152",
         "qbrock83@yahoo.com"
        ],
        [
         "1975-01-18T11:52:54.932+0000",
         "1975-01-18T11:50:29.024+0000",
         "San Antonio",
         "TX",
         1075.5,
         "UA000000102816978",
         "johnpowell@harrison.net"
        ],
        [
         "1975-01-18T07:03:47.627+0000",
         "1975-01-18T07:03:22.843+0000",
         "New York",
         "NY",
         535.5,
         "UA000000102818771",
         "daniel86@hotmail.com"
        ],
        [
         "1975-01-18T10:55:28.589+0000",
         "1975-01-18T10:54:55.940+0000",
         "El Paso",
         "TX",
         2506.5,
         "UA000000102819117",
         "karenolson@yahoo.com"
        ],
        [
         "1975-01-18T11:12:30.953+0000",
         "1975-01-18T11:12:03.382+0000",
         "Joliet",
         "IL",
         535.5,
         "UA000000102819417",
         "dudleyjennifer@conley.biz"
        ],
        [
         "1975-01-18T07:47:54.280+0000",
         "1975-01-18T07:47:53.197+0000",
         "Los Angeles",
         "CA",
         1071,
         "UA000000102821468",
         "justin4371@gmail.com"
        ],
        [
         "1975-01-18T09:19:16.653+0000",
         "1975-01-18T09:18:11.856+0000",
         "Virginia Beach",
         "VA",
         1848.6,
         "UA000000102822935",
         "ftorres82@hotmail.com"
        ],
        [
         "1975-01-18T09:31:20.123+0000",
         "1975-01-18T09:31:19.281+0000",
         "New York",
         "NY",
         1071,
         "UA000000102823054",
         "pward@yahoo.com"
        ],
        [
         "1975-01-18T07:28:31.844+0000",
         "1975-01-18T07:28:28.237+0000",
         "Jordan",
         "MN",
         940.5,
         "UA000000102823474",
         "williecardenas@hotmail.com"
        ],
        [
         "1975-01-18T11:03:34.571+0000",
         "1975-01-18T11:02:03.680+0000",
         "Irving",
         "TX",
         53.1,
         "UA000000102823675",
         "jerryedwards@li.com"
        ],
        [
         "1975-01-18T08:21:35.310+0000",
         "1975-01-18T08:21:27.911+0000",
         "South Ogden",
         "UT",
         940.5,
         "UA000000102827849",
         "travis41@yahoo.com"
        ],
        [
         "1975-01-18T12:59:00.415+0000",
         "1975-01-18T12:58:59.181+0000",
         "Gresham",
         "OR",
         985.5,
         "UA000000102828656",
         "shannonramos@woods.com"
        ],
        [
         "1975-01-18T05:17:06.374+0000",
         "1975-01-18T05:17:04.495+0000",
         "Indianapolis",
         "IN",
         2016,
         "UA000000102829289",
         "stacygardner@hotmail.com"
        ],
        [
         "1975-01-18T11:41:35.623+0000",
         "1975-01-18T11:40:50.008+0000",
         "Kankakee",
         "IL",
         940.5,
         "UA000000102830602",
         "stacykhan@jones.org"
        ],
        [
         "1975-01-18T07:47:51.228+0000",
         "1975-01-18T07:47:39.871+0000",
         "Kansas City",
         "KS",
         850.5,
         "UA000000102830982",
         "anthonymoreno@hardy-jackson.info"
        ],
        [
         "1975-01-18T08:34:25.151+0000",
         "1975-01-18T08:34:14.224+0000",
         "Philadelphia",
         "PA",
         850.5,
         "UA000000102832205",
         "sandra32@yahoo.com"
        ],
        [
         "1975-01-18T12:25:42.560+0000",
         "1975-01-18T12:25:40.083+0000",
         "Medford",
         "MA",
         1075.5,
         "UA000000102834928",
         "jfrancis@yahoo.com"
        ],
        [
         "1975-01-18T05:58:06.946+0000",
         "1975-01-18T05:56:18.699+0000",
         "New York",
         "NY",
         850.5,
         "UA000000102838920",
         "kenneth20@hotmail.com"
        ],
        [
         "1975-01-18T07:12:21.827+0000",
         "1975-01-18T07:10:14.673+0000",
         "Tucson",
         "AZ",
         53.1,
         "UA000000102841041",
         "zdunn@ramos.com"
        ],
        [
         "1975-01-18T10:34:27.767+0000",
         "1975-01-18T10:34:27.383+0000",
         "Clarksdale",
         "MS",
         940.5,
         "UA000000102842516",
         "cswanson@tucker-freeman.info"
        ],
        [
         "1975-01-18T07:19:01.847+0000",
         "1975-01-18T07:18:51.349+0000",
         "Long Beach",
         "CA",
         1615.5,
         "UA000000102844687",
         "robert19@galloway.com"
        ],
        [
         "1975-01-18T10:45:39.830+0000",
         "1975-01-18T10:44:44.366+0000",
         "Cameron",
         "MO",
         1075.5,
         "UA000000102846929",
         "frank91@vasquez-fowler.com"
        ],
        [
         "1975-01-18T06:52:51.067+0000",
         "1975-01-18T06:52:50.765+0000",
         "Stonecrest",
         "GA",
         535.5,
         "UA000000102847348",
         "michele87@kirk-barrett.com"
        ],
        [
         "1975-01-18T16:04:01.352+0000",
         "1975-01-18T16:03:17.921+0000",
         "Indianapolis",
         "IN",
         1075.5,
         "UA000000102852028",
         "goliver76@yahoo.com"
        ],
        [
         "1975-01-18T05:33:29.940+0000",
         "1975-01-18T05:33:24.847+0000",
         "Jasper",
         "AL",
         850.5,
         "UA000000102853413",
         "johnwest@baker-molina.com"
        ],
        [
         "1975-01-18T09:10:15.307+0000",
         "1975-01-18T09:10:08.180+0000",
         "Daytona Beach",
         "FL",
         1075.5,
         "UA000000102853424",
         "rrobbins42@gmail.com"
        ],
        [
         "1975-01-18T10:29:32.794+0000",
         "1975-01-18T10:29:32.592+0000",
         "Clinton",
         "MS",
         1075.5,
         "UA000000102854239",
         "hernandezjoseph38@hotmail.com"
        ],
        [
         "1975-01-18T10:01:48.093+0000",
         "1975-01-18T10:00:54.075+0000",
         "Virginia Beach",
         "VA",
         1615.5,
         "UA000000102854401",
         "kpugh@gmail.com"
        ],
        [
         "1975-01-18T10:22:57.451+0000",
         "1975-01-18T10:22:46.495+0000",
         "New York",
         "NY",
         940.5,
         "UA000000102854470",
         "petergarcia@yahoo.com"
        ],
        [
         "1975-01-18T07:42:19.285+0000",
         "1975-01-18T07:42:18.803+0000",
         "Tallahassee",
         "FL",
         985.5,
         "UA000000102854917",
         "parkssandra@johnson.com"
        ],
        [
         "1975-01-18T10:58:35.613+0000",
         "1975-01-18T10:58:33.083+0000",
         "Thousand Oaks",
         "CA",
         1476,
         "UA000000102855409",
         "beckythompson@gmail.com"
        ],
        [
         "1975-01-18T09:25:33.315+0000",
         "1975-01-18T09:24:54.692+0000",
         "Clinton",
         "OK",
         850.5,
         "UA000000102856477",
         "rittersara@sherman.biz"
        ],
        [
         "1975-01-18T08:06:54.699+0000",
         "1975-01-18T08:06:25.057+0000",
         "Menlo Park",
         "CA",
         1525.5,
         "UA000000102856617",
         "ycurry64@gmail.com"
        ],
        [
         "1975-01-18T07:57:44.845+0000",
         "1975-01-18T07:56:25.854+0000",
         "Pine Bluff",
         "AR",
         1075.5,
         "UA000000102856809",
         "williammercado@hotmail.com"
        ],
        [
         "1975-01-18T11:18:15.117+0000",
         "1975-01-18T11:15:49.012+0000",
         "Kearney",
         "MO",
         940.5,
         "UA000000102857418",
         "etaylor@diaz.com"
        ],
        [
         "1975-01-18T11:09:12.101+0000",
         "1975-01-18T11:07:27.010+0000",
         "Marion",
         "IN",
         1075.5,
         "UA000000102857422",
         "flin@alexander.com"
        ],
        [
         "1975-01-18T10:03:19.156+0000",
         "1975-01-18T10:02:52.870+0000",
         "D'Iberville",
         "MS",
         535.5,
         "UA000000102857424",
         "nortongary@cook.biz"
        ],
        [
         "1975-01-18T10:29:13.676+0000",
         "1975-01-18T10:27:56.891+0000",
         "Nash",
         "TX",
         535.5,
         "UA000000102857641",
         "jenkinsstephanie@hotmail.com"
        ],
        [
         "1975-01-18T09:25:53.395+0000",
         "1975-01-18T09:23:45.762+0000",
         "Boston",
         "MA",
         850.5,
         "UA000000102861584",
         "whouston@hotmail.com"
        ],
        [
         "1975-01-18T10:43:20.286+0000",
         "1975-01-18T10:42:22.383+0000",
         "Burlington",
         "NC",
         940.5,
         "UA000000102862671",
         "campbellterri@gmail.com"
        ],
        [
         "1975-01-18T07:54:55.581+0000",
         "1975-01-18T07:52:13.828+0000",
         "Canton",
         "GA",
         535.5,
         "UA000000102862830",
         "amy2278@yahoo.com"
        ],
        [
         "1975-01-18T08:01:06.936+0000",
         "1975-01-18T08:01:05.851+0000",
         "Shelby",
         "OH",
         1075.5,
         "UA000000102863346",
         "stevenbarker@yahoo.com"
        ],
        [
         "1975-01-18T12:20:35.322+0000",
         "1975-01-18T12:20:16.613+0000",
         "Poway",
         "CA",
         535.5,
         "UA000000102863612",
         "peter27@gmail.com"
        ],
        [
         "1975-01-18T06:14:51.122+0000",
         "1975-01-18T06:13:22.939+0000",
         "Missoula",
         "MT",
         1075.5,
         "UA000000102863792",
         "danielledavid@garcia.com"
        ],
        [
         "1975-01-18T11:26:45.931+0000",
         "1975-01-18T11:26:10.716+0000",
         "Fargo",
         "ND",
         940.5,
         "UA000000102864694",
         "jillianbraun@yahoo.com"
        ],
        [
         "1975-01-18T10:40:27.562+0000",
         "1975-01-18T10:40:19.445+0000",
         "Cedar Hill",
         "TX",
         535.5,
         "UA000000102865096",
         "edward86@gonzalez.com"
        ],
        [
         "1975-01-18T09:27:33.763+0000",
         "1975-01-18T09:26:36.530+0000",
         "Burbank",
         "CA",
         1075.5,
         "UA000000102866798",
         "gdavis41@yahoo.com"
        ],
        [
         "1975-01-18T06:10:23.192+0000",
         "1975-01-18T06:10:14.333+0000",
         "Warren",
         "MI",
         940.5,
         "UA000000102866925",
         "jonesthomas@johnson-newman.com"
        ],
        [
         "1975-01-18T06:51:35.857+0000",
         "1975-01-18T06:51:23.610+0000",
         "Jacksonville",
         "FL",
         1722.6,
         "UA000000102867606",
         "beth30@hotmail.com"
        ],
        [
         "1975-01-18T08:04:12.280+0000",
         "1975-01-18T08:03:09.060+0000",
         "Milford",
         "CT",
         850.5,
         "UA000000102867643",
         "ashley39@watts-moreno.com"
        ],
        [
         "1975-01-18T13:38:49.913+0000",
         "1975-01-18T13:38:36.567+0000",
         "Champlin",
         "MN",
         1615.5,
         "UA000000102868688",
         "kari26@massey.org"
        ],
        [
         "1975-01-18T10:17:54.072+0000",
         "1975-01-18T10:17:26.194+0000",
         "Boston",
         "MA",
         940.5,
         "UA000000102870400",
         "jeremy41@johnson.com"
        ],
        [
         "1975-01-18T06:14:26.095+0000",
         "1975-01-18T06:12:17.819+0000",
         "New York",
         "NY",
         2654.1,
         "UA000000102870641",
         "amartin70@hotmail.com"
        ],
        [
         "1975-01-18T13:20:19.150+0000",
         "1975-01-18T13:20:10.979+0000",
         "Cleveland",
         "OH",
         535.5,
         "UA000000102870886",
         "crodgers@smith.com"
        ],
        [
         "1975-01-18T11:08:11.294+0000",
         "1975-01-18T11:08:10.573+0000",
         "Shreveport",
         "LA",
         985.5,
         "UA000000102870949",
         "eaguilar@rhodes.com"
        ],
        [
         "1975-01-18T09:47:15.239+0000",
         "1975-01-18T09:46:52.495+0000",
         "Chicago",
         "IL",
         535.5,
         "UA000000102873199",
         "shawcory@yahoo.com"
        ],
        [
         "1975-01-18T10:58:57.950+0000",
         "1975-01-18T10:58:57.685+0000",
         "Memphis",
         "TN",
         850.5,
         "UA000000102873834",
         "johnstonsavannah@gmail.com"
        ],
        [
         "1975-01-18T07:37:23.673+0000",
         "1975-01-18T07:36:25.941+0000",
         "Melbourne",
         "FL",
         1075.5,
         "UA000000102874892",
         "ochoajose@gmail.com"
        ],
        [
         "1975-01-18T10:10:24.944+0000",
         "1975-01-18T10:10:20.225+0000",
         "Sandusky",
         "OH",
         535.5,
         "UA000000102874943",
         "pmiller@guzman-williams.org"
        ],
        [
         "1975-01-18T06:25:22.422+0000",
         "1975-01-18T06:25:22.121+0000",
         "Manchester",
         "NH",
         1476,
         "UA000000102876216",
         "joseph97@peterson-garcia.com"
        ],
        [
         "1975-01-18T10:23:10.739+0000",
         "1975-01-18T10:22:53.869+0000",
         "New York",
         "NY",
         535.5,
         "UA000000102876732",
         "phillip70@welch.org"
        ],
        [
         "1975-01-18T11:54:38.697+0000",
         "1975-01-18T11:53:37.627+0000",
         "Richmond",
         "CA",
         1795.5,
         "UA000000102878223",
         "cedwards@white.com"
        ],
        [
         "1975-01-18T07:53:49.531+0000",
         "1975-01-18T07:53:26.341+0000",
         "Tacoma",
         "WA",
         535.5,
         "UA000000102879972",
         "davidkelley@morgan-davis.com"
        ],
        [
         "1975-01-18T09:03:03.892+0000",
         "1975-01-18T09:02:21.386+0000",
         "Pequot Lakes",
         "MN",
         1047.6,
         "UA000000102882627",
         "rothnathan@henry-johnson.com"
        ],
        [
         "1975-01-18T08:18:07.010+0000",
         "1975-01-18T08:14:04.424+0000",
         "St. Marys",
         "OH",
         1615.5,
         "UA000000102884864",
         "johnsanders@gmail.com"
        ],
        [
         "1975-01-18T10:15:29.974+0000",
         "1975-01-18T10:14:51.439+0000",
         "Maple Grove",
         "MN",
         850.5,
         "UA000000102887079",
         "newtonolivia@fisher.com"
        ],
        [
         "1975-01-18T10:19:38.836+0000",
         "1975-01-18T10:19:28.467+0000",
         "Atlanta",
         "GA",
         53.1,
         "UA000000102887752",
         "jblevins@hotmail.com"
        ],
        [
         "1975-01-18T08:21:09.825+0000",
         "1975-01-18T08:21:03.392+0000",
         "Stockton",
         "CA",
         1075.5,
         "UA000000102889908",
         "mweaver@brown.com"
        ],
        [
         "1975-01-18T08:52:14.453+0000",
         "1975-01-18T08:50:34.848+0000",
         "Norfolk",
         "VA",
         1795.5,
         "UA000000102891520",
         "gary00@hotmail.com"
        ],
        [
         "1975-01-18T05:59:39.405+0000",
         "1975-01-18T05:59:14.472+0000",
         "Jersey City",
         "NJ",
         3046.5,
         "UA000000102892234",
         "danielgeorge@navarro.com"
        ],
        [
         "1975-01-18T07:31:37.071+0000",
         "1975-01-18T07:30:47.325+0000",
         "Tucson",
         "AZ",
         940.5,
         "UA000000102893974",
         "ronnie50@castillo.com"
        ],
        [
         "1975-01-18T10:38:04.727+0000",
         "1975-01-18T10:37:41.226+0000",
         "Lafayette",
         "LA",
         107.10000000000001,
         "UA000000102894162",
         "abrooks@hotmail.com"
        ],
        [
         "1975-01-18T08:59:21.176+0000",
         "1975-01-18T08:58:40.586+0000",
         "Laredo",
         "TX",
         1611,
         "UA000000102894885",
         "bwilliams@kent.com"
        ],
        [
         "1975-01-18T06:51:01.842+0000",
         "1975-01-18T06:50:45.060+0000",
         "Cairo",
         "GA",
         940.5,
         "UA000000102895417",
         "gravesbrenda@walker-price.com"
        ],
        [
         "1975-01-18T09:16:04.458+0000",
         "1975-01-18T09:16:02.540+0000",
         "Asheville",
         "NC",
         850.5,
         "UA000000102895426",
         "hkaufman@harris-gaines.org"
        ],
        [
         "1975-01-18T09:56:40.050+0000",
         "1975-01-18T09:55:45.172+0000",
         "Flint",
         "MI",
         940.5,
         "UA000000102895439",
         "sriddle@oneill.com"
        ],
        [
         "1975-01-18T06:08:45.565+0000",
         "1975-01-18T06:08:30.043+0000",
         "Philadelphia",
         "PA",
         1038.6,
         "UA000000102895641",
         "nmiller54@hotmail.com"
        ],
        [
         "1975-01-18T05:28:42.277+0000",
         "1975-01-18T05:26:15.414+0000",
         "Lowell",
         "MA",
         535.5,
         "UA000000102895646",
         "raymondlewis@hotmail.com"
        ],
        [
         "1975-01-18T06:24:09.284+0000",
         "1975-01-18T06:24:07.229+0000",
         "San Clemente",
         "CA",
         535.5,
         "UA000000102896213",
         "carlos02@hotmail.com"
        ],
        [
         "1975-01-18T06:20:00.105+0000",
         "1975-01-18T06:19:56.749+0000",
         "Fremont",
         "CA",
         1075.5,
         "UA000000102896857",
         "williamsjessica@yahoo.com"
        ],
        [
         "1975-01-18T10:22:34.659+0000",
         "1975-01-18T10:22:28.911+0000",
         "Durham",
         "NC",
         1075.5,
         "UA000000102897995",
         "robert68@hayes.net"
        ],
        [
         "1975-01-18T07:46:48.464+0000",
         "1975-01-18T07:46:47.309+0000",
         "Lawrence",
         "MA",
         985.5,
         "UA000000102898332",
         "haneystephen@moore.com"
        ],
        [
         "1975-01-18T10:42:12.827+0000",
         "1975-01-18T10:40:47.034+0000",
         "Racine",
         "WI",
         1795.5,
         "UA000000102899604",
         "charles0493@gmail.com"
        ],
        [
         "1975-01-18T06:11:33.685+0000",
         "1975-01-18T06:11:33.465+0000",
         "Detroit",
         "MI",
         940.5,
         "UA000000102899621",
         "kristindean@hotmail.com"
        ],
        [
         "1975-01-18T08:02:21.731+0000",
         "1975-01-18T08:02:19.332+0000",
         "Seattle",
         "WA",
         535.5,
         "UA000000102900969",
         "stephanie52@miller-walker.biz"
        ],
        [
         "1975-01-18T07:38:22.843+0000",
         "1975-01-18T07:35:59.846+0000",
         "Lynden",
         "WA",
         535.5,
         "UA000000102902652",
         "dsimpson@cole.biz"
        ],
        [
         "1975-01-18T08:30:57.611+0000",
         "1975-01-18T08:30:31.750+0000",
         "Palmdale",
         "CA",
         1075.5,
         "UA000000102902670",
         "nvazquez@gmail.com"
        ],
        [
         "1975-01-18T07:14:37.933+0000",
         "1975-01-18T07:14:33.229+0000",
         "Eureka",
         "MO",
         1075.5,
         "UA000000102903945",
         "carlos12@yahoo.com"
        ],
        [
         "1975-01-18T09:29:33.296+0000",
         "1975-01-18T09:28:57.039+0000",
         "Wilsonville",
         "OR",
         535.5,
         "UA000000102904568",
         "sblevins42@yahoo.com"
        ],
        [
         "1975-01-18T10:42:53.959+0000",
         "1975-01-18T10:42:52.425+0000",
         "Lake Charles",
         "LA",
         3001.5,
         "UA000000102905206",
         "lewismark@gmail.com"
        ],
        [
         "1975-01-18T11:33:20.211+0000",
         "1975-01-18T11:33:16.887+0000",
         "Clermont",
         "FL",
         850.5,
         "UA000000102907286",
         "carrieochoa@nguyen-robinson.com"
        ],
        [
         "1975-01-18T12:50:42.935+0000",
         "1975-01-18T12:50:33.811+0000",
         "Fishers",
         "IN",
         985.5,
         "UA000000102907669",
         "carl37@gmail.com"
        ],
        [
         "1975-01-18T12:09:56.078+0000",
         "1975-01-18T12:09:53.149+0000",
         "Lower Burrell",
         "PA",
         940.5,
         "UA000000102908995",
         "johnbrown@harvey.com"
        ],
        [
         "1975-01-18T08:21:55.953+0000",
         "1975-01-18T08:21:53.584+0000",
         "Twentynine Palms",
         "CA",
         1075.5,
         "UA000000102909334",
         "vanessacampos@hotmail.com"
        ],
        [
         "1975-01-18T12:50:57.735+0000",
         "1975-01-18T12:49:08.673+0000",
         "Marks",
         "MS",
         940.5,
         "UA000000102912731",
         "jeremy6997@gmail.com"
        ],
        [
         "1975-01-18T08:01:08.269+0000",
         "1975-01-18T08:00:34.208+0000",
         "Alexander City",
         "AL",
         1075.5,
         "UA000000102913756",
         "jeremy14@hotmail.com"
        ],
        [
         "1975-01-18T06:24:43.012+0000",
         "1975-01-18T06:24:34.805+0000",
         "San Francisco",
         "CA",
         107.10000000000001,
         "UA000000102914590",
         "anthonydoyle@duffy.com"
        ],
        [
         "1975-01-18T13:34:29.961+0000",
         "1975-01-18T13:33:17.852+0000",
         "Medford",
         "MA",
         940.5,
         "UA000000102915547",
         "cynthia72@gmail.com"
        ],
        [
         "1975-01-18T09:05:46.450+0000",
         "1975-01-18T08:57:29.933+0000",
         "New York",
         "NY",
         850.5,
         "UA000000102916745",
         "raymondknapp@oconnor.info"
        ],
        [
         "1975-01-18T10:16:12.366+0000",
         "1975-01-18T10:13:33.502+0000",
         "Sherrill",
         "NY",
         850.5,
         "UA000000102916868",
         "jjohnson58@hotmail.com"
        ],
        [
         "1975-01-18T13:47:09.249+0000",
         "1975-01-18T13:46:41.315+0000",
         "Baker",
         "LA",
         940.5,
         "UA000000102916935",
         "aliciapena@caldwell.com"
        ],
        [
         "1975-01-18T09:05:20.593+0000",
         "1975-01-18T09:01:30.940+0000",
         "Sunnyvale",
         "CA",
         1075.5,
         "UA000000102917345",
         "morrisnicholas@sanchez-hall.com"
        ],
        [
         "1975-01-18T10:28:00.049+0000",
         "1975-01-18T10:27:51.783+0000",
         "Crossville",
         "TN",
         1182.6,
         "UA000000102917671",
         "marie39@coleman.biz"
        ],
        [
         "1975-01-18T07:42:20.907+0000",
         "1975-01-18T07:42:07.001+0000",
         "Fort Worth",
         "TX",
         850.5,
         "UA000000102918583",
         "dawn32@smith-zamora.com"
        ],
        [
         "1975-01-18T10:11:59.478+0000",
         "1975-01-18T10:11:13.804+0000",
         "Columbus",
         "OH",
         985.5,
         "UA000000102918917",
         "kimberly60@yahoo.com"
        ],
        [
         "1975-01-18T08:05:10.492+0000",
         "1975-01-18T08:03:21.891+0000",
         "Goodyear",
         "AZ",
         940.5,
         "UA000000102921676",
         "xburns@hotmail.com"
        ],
        [
         "1975-01-18T10:07:59.967+0000",
         "1975-01-18T10:07:34.002+0000",
         "Knoxville",
         "TN",
         1146.6,
         "UA000000102923274",
         "zhines@wilson.biz"
        ],
        [
         "1975-01-18T07:19:20.078+0000",
         "1975-01-18T07:17:47.440+0000",
         "Wheaton",
         "IL",
         850.5,
         "UA000000102924124",
         "boyercarol@yahoo.com"
        ],
        [
         "1975-01-18T06:18:12.103+0000",
         "1975-01-18T06:15:56.871+0000",
         "Vine Grove",
         "KY",
         1075.5,
         "UA000000102924225",
         "murillolaurie@gmail.com"
        ],
        [
         "1975-01-18T06:13:53.054+0000",
         "1975-01-18T06:13:06.265+0000",
         "Menifee",
         "CA",
         1075.5,
         "UA000000102925675",
         "christineflynn@gmail.com"
        ],
        [
         "1975-01-18T06:34:37.370+0000",
         "1975-01-18T06:33:40.581+0000",
         "Fontana",
         "CA",
         1182.6,
         "UA000000102926463",
         "rossjennifer@olsen-boyd.com"
        ],
        [
         "1975-01-18T11:07:38.125+0000",
         "1975-01-18T11:06:47.278+0000",
         "Hurricane",
         "UT",
         993.6,
         "UA000000102926708",
         "christopher1491@gmail.com"
        ],
        [
         "1975-01-18T07:13:20.525+0000",
         "1975-01-18T07:11:03.697+0000",
         "New York",
         "NY",
         1615.5,
         "UA000000102927368",
         "michael1561@yahoo.com"
        ],
        [
         "1975-01-18T08:40:24.263+0000",
         "1975-01-18T08:39:27.404+0000",
         "Inman",
         "SC",
         1075.5,
         "UA000000102928628",
         "mooredustin@yahoo.com"
        ],
        [
         "1975-01-18T10:07:25.577+0000",
         "1975-01-18T10:06:39.757+0000",
         "Los Angeles",
         "CA",
         1075.5,
         "UA000000102931183",
         "wadeheather@hotmail.com"
        ],
        [
         "1975-01-18T13:09:06.139+0000",
         "1975-01-18T13:09:01.142+0000",
         "Dallas",
         "TX",
         940.5,
         "UA000000102931417",
         "andrew4644@gmail.com"
        ],
        [
         "1975-01-18T08:40:13.915+0000",
         "1975-01-18T08:39:51.195+0000",
         "Cape Coral",
         "FL",
         940.5,
         "UA000000102933185",
         "john02@vasquez.com"
        ],
        [
         "1975-01-18T07:39:16.565+0000",
         "1975-01-18T07:39:10.648+0000",
         "Sacramento",
         "CA",
         1615.5,
         "UA000000102933543",
         "mcarson8@hotmail.com"
        ],
        [
         "1975-01-18T09:24:55.581+0000",
         "1975-01-18T09:23:31.333+0000",
         "Martins Ferry",
         "OH",
         1075.5,
         "UA000000102935147",
         "upena@gmail.com"
        ],
        [
         "1975-01-18T12:54:59.130+0000",
         "1975-01-18T12:54:58.189+0000",
         "Stanton",
         "CA",
         1075.5,
         "UA000000102935626",
         "ebrady@johnson.biz"
        ],
        [
         "1975-01-18T06:33:29.825+0000",
         "1975-01-18T06:32:25.949+0000",
         "Burlington",
         "VT",
         940.5,
         "UA000000102935822",
         "nicholas58@martin.com"
        ],
        [
         "1975-01-18T07:10:31.333+0000",
         "1975-01-18T07:10:30.417+0000",
         "Greensboro",
         "NC",
         535.5,
         "UA000000102936354",
         "darleneknight@hotmail.com"
        ],
        [
         "1975-01-18T09:14:40.530+0000",
         "1975-01-18T09:14:26.077+0000",
         "Woodland Park",
         "CO",
         1525.5,
         "UA000000102936866",
         "bradshawjessica@gmail.com"
        ],
        [
         "1975-01-18T07:37:50.159+0000",
         "1975-01-18T07:37:03.910+0000",
         "Montgomery",
         "WV",
         1795.5,
         "UA000000102938028",
         "bryan82@vance.com"
        ],
        [
         "1975-01-18T08:50:58.506+0000",
         "1975-01-18T08:50:03.434+0000",
         "Renton",
         "WA",
         1075.5,
         "UA000000102939952",
         "maryvega@martin.info"
        ],
        [
         "1975-01-18T10:35:09.647+0000",
         "1975-01-18T10:32:35.408+0000",
         "Chula Vista",
         "CA",
         535.5,
         "UA000000102940691",
         "amcguire@hotmail.com"
        ],
        [
         "1975-01-18T06:13:23.891+0000",
         "1975-01-18T06:10:04.174+0000",
         "Jackson",
         "MS",
         985.5,
         "UA000000102942075",
         "ashleygarcia@ramirez.com"
        ],
        [
         "1975-01-18T06:13:36.054+0000",
         "1975-01-18T06:13:15.500+0000",
         "Sultan",
         "WA",
         1075.5,
         "UA000000102947000",
         "robinsonbethany@jones.org"
        ],
        [
         "1975-01-18T08:10:00.381+0000",
         "1975-01-18T08:09:58.243+0000",
         "St. Paul",
         "MN",
         1615.5,
         "UA000000102947646",
         "debraadams@little.biz"
        ],
        [
         "1975-01-18T09:44:46.303+0000",
         "1975-01-18T09:44:44.241+0000",
         "Detroit",
         "MI",
         1795.5,
         "UA000000102948322",
         "scottbean@lynch.info"
        ],
        [
         "1975-01-18T08:32:55.582+0000",
         "1975-01-18T08:32:54.794+0000",
         "New York",
         "NY",
         1615.5,
         "UA000000102950091",
         "pamela49@nelson.com"
        ],
        [
         "1975-01-18T05:14:44.063+0000",
         "1975-01-18T05:14:01.083+0000",
         "Columbia",
         "MO",
         940.5,
         "UA000000102951312",
         "xperez@thomas.biz"
        ],
        [
         "1975-01-18T09:49:51.655+0000",
         "1975-01-18T09:48:39.220+0000",
         "Minden",
         "LA",
         1386,
         "UA000000102952132",
         "wharrington@cox.biz"
        ],
        [
         "1975-01-18T05:44:00.220+0000",
         "1975-01-18T05:42:28.429+0000",
         "Rowlett",
         "TX",
         850.5,
         "UA000000102952462",
         "steven65@yahoo.com"
        ],
        [
         "1975-01-18T09:36:32.807+0000",
         "1975-01-18T09:36:31.595+0000",
         "San Antonio",
         "TX",
         1075.5,
         "UA000000102952547",
         "thayes@lopez.net"
        ],
        [
         "1975-01-18T11:39:36.125+0000",
         "1975-01-18T11:36:25.871+0000",
         "San Antonio",
         "TX",
         1615.5,
         "UA000000102952550",
         "pattonjames85@yahoo.com"
        ],
        [
         "1975-01-18T06:01:41.073+0000",
         "1975-01-18T05:58:26.786+0000",
         "Medford",
         "MA",
         1075.5,
         "UA000000102952953",
         "hilllindsey@yahoo.com"
        ],
        [
         "1975-01-18T12:56:06.643+0000",
         "1975-01-18T12:56:05.900+0000",
         "Sunnyvale",
         "CA",
         1791,
         "UA000000102954371",
         "courtney76@tucker.com"
        ],
        [
         "1975-01-18T09:57:41.180+0000",
         "1975-01-18T09:55:48.655+0000",
         "Harriman",
         "TN",
         850.5,
         "UA000000102955241",
         "gmayo@carter-cunningham.com"
        ],
        [
         "1975-01-18T10:52:54.600+0000",
         "1975-01-18T10:51:28.639+0000",
         "Lowell",
         "MA",
         1075.5,
         "UA000000102955388",
         "manuelthomas@rodriguez.com"
        ],
        [
         "1975-01-18T06:11:02.975+0000",
         "1975-01-18T06:10:26.601+0000",
         "Arlington",
         "TX",
         1075.5,
         "UA000000102956032",
         "terriobrien@morgan-harper.org"
        ],
        [
         "1975-01-18T06:38:13.775+0000",
         "1975-01-18T06:37:40.345+0000",
         "Plano",
         "TX",
         535.5,
         "UA000000102956665",
         "vbell@alexander-thomas.info"
        ],
        [
         "1975-01-18T10:01:26.929+0000",
         "1975-01-18T10:01:12.655+0000",
         "Cudahy",
         "CA",
         985.5,
         "UA000000102961059",
         "medinacalvin@yahoo.com"
        ],
        [
         "1975-01-18T08:21:34.669+0000",
         "1975-01-18T08:21:12.844+0000",
         "Villa Hills",
         "KY",
         535.5,
         "UA000000102961081",
         "hendersonsusan@hotmail.com"
        ],
        [
         "1975-01-18T12:13:03.146+0000",
         "1975-01-18T12:12:34.717+0000",
         "Shreveport",
         "LA",
         1075.5,
         "UA000000102961991",
         "mcdonaldapril@yahoo.com"
        ],
        [
         "1975-01-18T08:55:03.283+0000",
         "1975-01-18T08:55:02.141+0000",
         "Galesburg",
         "IL",
         53.1,
         "UA000000102962670",
         "mcbridemichael@hill-evans.com"
        ],
        [
         "1975-01-18T08:02:49.235+0000",
         "1975-01-18T08:02:18.389+0000",
         "Portland",
         "OR",
         1615.5,
         "UA000000102963317",
         "crossdarren@yahoo.com"
        ],
        [
         "1975-01-18T07:50:55.565+0000",
         "1975-01-18T07:50:51.453+0000",
         "Kokomo",
         "IN",
         71.10000000000001,
         "UA000000102964101",
         "xsmith4@yahoo.com"
        ],
        [
         "1975-01-18T10:17:26.306+0000",
         "1975-01-18T10:17:24.062+0000",
         "Phoenix",
         "AZ",
         1615.5,
         "UA000000102965198",
         "denise51@jackson.com"
        ],
        [
         "1975-01-18T09:09:11.852+0000",
         "1975-01-18T09:08:51.440+0000",
         "New York",
         "NY",
         642.6,
         "UA000000102965529",
         "alewis@petty.com"
        ],
        [
         "1975-01-18T10:48:02.936+0000",
         "1975-01-18T10:46:41.041+0000",
         "Syracuse",
         "NY",
         1615.5,
         "UA000000102966092",
         "qhanson@zimmerman.com"
        ],
        [
         "1975-01-18T09:06:32.256+0000",
         "1975-01-18T09:06:04.835+0000",
         "Newark",
         "NJ",
         850.5,
         "UA000000102968949",
         "bradley90@hotmail.com"
        ],
        [
         "1975-01-18T07:59:24.803+0000",
         "1975-01-18T07:58:12.182+0000",
         "Lewisville",
         "TX",
         535.5,
         "UA000000102970653",
         "hvillanueva@yahoo.com"
        ],
        [
         "1975-01-18T08:06:26.081+0000",
         "1975-01-18T08:06:21.338+0000",
         "Houston",
         "TX",
         535.5,
         "UA000000102971744",
         "hornjames@yahoo.com"
        ],
        [
         "1975-01-18T08:33:44.041+0000",
         "1975-01-18T08:33:19.384+0000",
         "Tampa",
         "FL",
         850.5,
         "UA000000102972953",
         "jbrown@pierce.biz"
        ],
        [
         "1975-01-18T11:22:15.190+0000",
         "1975-01-18T11:21:47.224+0000",
         "Buffalo",
         "NY",
         940.5,
         "UA000000102973682",
         "prodgers@taylor-calderon.net"
        ],
        [
         "1975-01-18T07:12:15.398+0000",
         "1975-01-18T07:12:12.840+0000",
         "El Centro",
         "CA",
         940.5,
         "UA000000102973731",
         "jacob5265@hotmail.com"
        ],
        [
         "1975-01-18T06:44:32.463+0000",
         "1975-01-18T06:42:37.967+0000",
         "Fort Collins",
         "CO",
         1075.5,
         "UA000000102974561",
         "david55@williams-mills.biz"
        ],
        [
         "1975-01-18T08:58:05.574+0000",
         "1975-01-18T08:54:29.934+0000",
         "Horicon",
         "WI",
         1128.6,
         "UA000000102974993",
         "lisa1035@gmail.com"
        ],
        [
         "1975-01-18T09:16:59.242+0000",
         "1975-01-18T09:16:58.978+0000",
         "Los Angeles",
         "CA",
         1075.5,
         "UA000000102975452",
         "kristina27@burgess.com"
        ],
        [
         "1975-01-18T10:06:14.352+0000",
         "1975-01-18T10:03:30.258+0000",
         "Chula Vista",
         "CA",
         940.5,
         "UA000000102977345",
         "tiffany38@hernandez-johnson.com"
        ],
        [
         "1975-01-18T12:52:11.265+0000",
         "1975-01-18T12:51:06.674+0000",
         "Glendale",
         "AZ",
         535.5,
         "UA000000102977436",
         "reeddustin@perry-baker.com"
        ],
        [
         "1975-01-18T09:46:58.802+0000",
         "1975-01-18T09:37:26.964+0000",
         "Cleveland",
         "OH",
         940.5,
         "UA000000102978293",
         "thomasmckinney@yahoo.com"
        ],
        [
         "1975-01-18T07:39:06.035+0000",
         "1975-01-18T07:33:42.226+0000",
         "Stillwater",
         "OK",
         1075.5,
         "UA000000102978897",
         "xchurch@foster.com"
        ],
        [
         "1975-01-18T07:29:35.623+0000",
         "1975-01-18T07:28:41.823+0000",
         "Hamtramck",
         "MI",
         1615.5,
         "UA000000102979854",
         "jessicawagner@lane.com"
        ],
        [
         "1975-01-18T05:21:23.791+0000",
         "1975-01-18T05:21:03.659+0000",
         "Cape Coral",
         "FL",
         940.5,
         "UA000000102981336",
         "leah45@gmail.com"
        ],
        [
         "1975-01-18T11:35:40.194+0000",
         "1975-01-18T11:35:38.533+0000",
         "Lancaster",
         "CA",
         1075.5,
         "UA000000102982945",
         "robertking@diaz.com"
        ],
        [
         "1975-01-18T11:29:19.277+0000",
         "1975-01-18T11:24:39.662+0000",
         "Powell",
         "OH",
         940.5,
         "UA000000102983856",
         "jenkinsannette@gmail.com"
        ],
        [
         "1975-01-18T08:37:19.445+0000",
         "1975-01-18T08:37:13.260+0000",
         "Tonawanda",
         "NY",
         535.5,
         "UA000000102983911",
         "william2830@yahoo.com"
        ],
        [
         "1975-01-18T14:29:19.813+0000",
         "1975-01-18T14:28:58.396+0000",
         "Alexandria",
         "LA",
         2016,
         "UA000000102986483",
         "tylerwolf@simpson.com"
        ],
        [
         "1975-01-18T05:49:19.561+0000",
         "1975-01-18T05:49:16.726+0000",
         "Newark",
         "CA",
         940.5,
         "UA000000102987073",
         "woodsphilip@davis-gray.biz"
        ],
        [
         "1975-01-18T07:01:07.304+0000",
         "1975-01-18T07:00:23.140+0000",
         "Dardanelle",
         "AR",
         940.5,
         "UA000000102988899",
         "ywebb@gmail.com"
        ],
        [
         "1975-01-18T10:37:26.183+0000",
         "1975-01-18T10:37:25.858+0000",
         "Austin",
         "TX",
         1075.5,
         "UA000000102989369",
         "danielsmith@hays.com"
        ],
        [
         "1975-01-18T12:26:24.057+0000",
         "1975-01-18T12:26:16.073+0000",
         "Webb City",
         "MO",
         850.5,
         "UA000000102990192",
         "kimberlyrhodes@yahoo.com"
        ],
        [
         "1975-01-18T05:22:02.468+0000",
         "1975-01-18T05:20:42.496+0000",
         "Southlake",
         "TX",
         850.5,
         "UA000000102992577",
         "brose@norris.net"
        ],
        [
         "1975-01-18T10:44:35.897+0000",
         "1975-01-18T10:42:30.314+0000",
         "Alexandria",
         "VA",
         1795.5,
         "UA000000102994490",
         "david71@barrera.com"
        ],
        [
         "1975-01-18T10:40:02.188+0000",
         "1975-01-18T10:39:17.663+0000",
         "Milton",
         "WA",
         535.5,
         "UA000000102994568",
         "brendaali@yahoo.com"
        ],
        [
         "1975-01-18T11:21:35.468+0000",
         "1975-01-18T11:20:06.854+0000",
         "Lakeland",
         "FL",
         535.5,
         "UA000000102996917",
         "jacob70@medina.com"
        ],
        [
         "1975-01-18T12:19:39.742+0000",
         "1975-01-18T12:19:37.585+0000",
         "Chicago",
         "IL",
         850.5,
         "UA000000103000635",
         "lauren7470@hotmail.com"
        ],
        [
         "1975-01-18T09:42:04.372+0000",
         "1975-01-18T09:41:42.055+0000",
         "Charlotte",
         "NC",
         1075.5,
         "UA000000103002171",
         "tammypierce@hotmail.com"
        ],
        [
         "1975-01-18T10:00:47.288+0000",
         "1975-01-18T09:54:40.149+0000",
         "Montebello",
         "CA",
         1075.5,
         "UA000000103002966",
         "nwarren@mitchell.com"
        ],
        [
         "1975-01-18T09:16:25.491+0000",
         "1975-01-18T09:16:07.583+0000",
         "Anaheim",
         "CA",
         1926,
         "UA000000103003221",
         "ycastro@yahoo.com"
        ],
        [
         "1975-01-18T08:19:58.212+0000",
         "1975-01-18T08:19:29.719+0000",
         "Madison",
         "MS",
         985.5,
         "UA000000103003293",
         "whiteheather@banks.biz"
        ],
        [
         "1975-01-18T15:33:22.382+0000",
         "1975-01-18T15:32:31.001+0000",
         "Millville",
         "NJ",
         535.5,
         "UA000000103008448",
         "fporter@gmail.com"
        ],
        [
         "1975-01-18T10:23:23.693+0000",
         "1975-01-18T10:23:10.477+0000",
         "Winona",
         "MN",
         1578.6,
         "UA000000103009447",
         "bmata@haas.biz"
        ],
        [
         "1975-01-18T12:07:45.316+0000",
         "1975-01-18T12:06:12.384+0000",
         "New York",
         "NY",
         535.5,
         "UA000000103010741",
         "tammyrichardson@burnett-mercado.com"
        ],
        [
         "1975-01-18T08:06:47.177+0000",
         "1975-01-18T08:06:45.835+0000",
         "Dayton",
         "OH",
         1075.5,
         "UA000000103012697",
         "trevinofernando@gmail.com"
        ],
        [
         "1975-01-18T12:53:51.601+0000",
         "1975-01-18T12:53:24.138+0000",
         "Los Angeles",
         "CA",
         985.5,
         "UA000000103013192",
         "jasonhooper@murillo.com"
        ],
        [
         "1975-01-18T07:58:12.126+0000",
         "1975-01-18T07:55:59.653+0000",
         "Northlake",
         "IL",
         535.5,
         "UA000000103016305",
         "cheryllewis88@yahoo.com"
        ],
        [
         "1975-01-18T11:47:29.374+0000",
         "1975-01-18T11:47:27.071+0000",
         "Concord",
         "CA",
         940.5,
         "UA000000103017961",
         "timothyrogers@bailey-anderson.com"
        ],
        [
         "1975-01-18T10:28:10.031+0000",
         "1975-01-18T10:28:02.864+0000",
         "Batesville",
         "AR",
         1075.5,
         "UA000000103018506",
         "stephenstimothy@yahoo.com"
        ],
        [
         "1975-01-18T08:38:27.860+0000",
         "1975-01-18T08:34:39.338+0000",
         "Livermore",
         "CA",
         1525.5,
         "UA000000103019108",
         "cameronjasmine@gmail.com"
        ],
        [
         "1975-01-18T07:08:15.323+0000",
         "1975-01-18T07:07:24.432+0000",
         "Whitehall",
         "OH",
         985.5,
         "UA000000103019565",
         "angelicathomas@gmail.com"
        ],
        [
         "1975-01-18T07:58:31.013+0000",
         "1975-01-18T07:58:30.792+0000",
         "Long Beach",
         "MS",
         985.5,
         "UA000000103020972",
         "nromero@rodriguez.org"
        ],
        [
         "1975-01-18T06:44:20.183+0000",
         "1975-01-18T06:43:23.957+0000",
         "Chico",
         "CA",
         940.5,
         "UA000000103021865",
         "hernandezrichard71@gmail.com"
        ],
        [
         "1975-01-18T12:57:02.948+0000",
         "1975-01-18T12:56:54.479+0000",
         "Rockford",
         "IL",
         940.5,
         "UA000000103022824",
         "davidmartin@mitchell.biz"
        ],
        [
         "1975-01-18T12:11:17.122+0000",
         "1975-01-18T12:10:37.677+0000",
         "Oakland",
         "CA",
         985.5,
         "UA000000103023154",
         "ryan068@hotmail.com"
        ],
        [
         "1975-01-18T10:30:36.291+0000",
         "1975-01-18T10:29:13.304+0000",
         "East Providence",
         "RI",
         850.5,
         "UA000000103023706",
         "sherri25@johnson-martinez.net"
        ],
        [
         "1975-01-18T05:56:07.903+0000",
         "1975-01-18T05:54:15.990+0000",
         "New Orleans",
         "LA",
         535.5,
         "UA000000103024146",
         "owoods@yahoo.com"
        ],
        [
         "1975-01-18T11:29:47.269+0000",
         "1975-01-18T11:29:45.152+0000",
         "Naperville",
         "IL",
         535.5,
         "UA000000103024439",
         "leroy25@larsen.org"
        ],
        [
         "1975-01-18T08:08:34.766+0000",
         "1975-01-18T08:04:46.997+0000",
         "New York",
         "NY",
         535.5,
         "UA000000103025253",
         "edward8413@gmail.com"
        ],
        [
         "1975-01-18T12:28:18.413+0000",
         "1975-01-18T12:28:18.211+0000",
         "Memphis",
         "TN",
         1615.5,
         "UA000000103025325",
         "jmoreno63@yahoo.com"
        ],
        [
         "1975-01-18T10:07:54.925+0000",
         "1975-01-18T10:07:22.740+0000",
         "Simpsonville",
         "SC",
         1075.5,
         "UA000000103025804",
         "melissa1731@hotmail.com"
        ],
        [
         "1975-01-18T10:16:55.469+0000",
         "1975-01-18T10:16:43.759+0000",
         "Chattanooga",
         "TN",
         1525.5,
         "UA000000103026767",
         "brownstacey@le-snow.com"
        ],
        [
         "1975-01-18T10:11:38.603+0000",
         "1975-01-18T10:11:06.773+0000",
         "Buffalo",
         "NY",
         1075.5,
         "UA000000103030892",
         "isantos@hotmail.com"
        ],
        [
         "1975-01-18T06:05:22.522+0000",
         "1975-01-18T06:04:24.927+0000",
         "Lawton",
         "OK",
         2871,
         "UA000000103030972",
         "kathleenhanson@hotmail.com"
        ],
        [
         "1975-01-18T07:35:16.225+0000",
         "1975-01-18T07:33:45.996+0000",
         "Virginia Beach",
         "VA",
         940.5,
         "UA000000103031292",
         "sarah44@martin.org"
        ],
        [
         "1975-01-18T07:26:13.821+0000",
         "1975-01-18T07:25:40.388+0000",
         "Phoenix",
         "AZ",
         535.5,
         "UA000000103031758",
         "qmosley@gmail.com"
        ],
        [
         "1975-01-18T06:19:31.003+0000",
         "1975-01-18T06:19:09.756+0000",
         "Little Rock",
         "AR",
         1075.5,
         "UA000000103033752",
         "allenwilson@gmail.com"
        ],
        [
         "1975-01-18T14:15:43.087+0000",
         "1975-01-18T14:15:13.194+0000",
         "Alabaster",
         "AL",
         1795.5,
         "UA000000103034132",
         "paula35@hotmail.com"
        ],
        [
         "1975-01-18T09:49:37.001+0000",
         "1975-01-18T09:48:10.401+0000",
         "Orlando",
         "FL",
         940.5,
         "UA000000103034431",
         "allen15@gmail.com"
        ],
        [
         "1975-01-18T10:56:24.110+0000",
         "1975-01-18T10:48:24.977+0000",
         "Sterling Heights",
         "MI",
         850.5,
         "UA000000103035188",
         "hullsarah@roberts.org"
        ],
        [
         "1975-01-18T10:30:58.003+0000",
         "1975-01-18T10:30:39.255+0000",
         "Marion",
         "IA",
         940.5,
         "UA000000103036956",
         "amandaharvey@olson.org"
        ],
        [
         "1975-01-18T11:02:25.145+0000",
         "1975-01-18T11:02:19.948+0000",
         "Geneva",
         "OH",
         850.5,
         "UA000000103036958",
         "hernandezkevin@lewis-patel.com"
        ],
        [
         "1975-01-18T14:45:33.529+0000",
         "1975-01-18T14:44:59.994+0000",
         "Cedar City",
         "UT",
         143.1,
         "UA000000103037588",
         "walshmichael60@yahoo.com"
        ],
        [
         "1975-01-18T12:36:15.785+0000",
         "1975-01-18T12:35:13.114+0000",
         "Chicago",
         "IL",
         535.5,
         "UA000000103037781",
         "martineztamara@mitchell.info"
        ],
        [
         "1975-01-18T08:54:39.342+0000",
         "1975-01-18T08:52:46.000+0000",
         "Chico",
         "CA",
         1071,
         "UA000000103039583",
         "laura25@hotmail.com"
        ],
        [
         "1975-01-18T07:42:21.445+0000",
         "1975-01-18T07:41:34.905+0000",
         "Wellford",
         "SC",
         535.5,
         "UA000000103041557",
         "mking@barrett.com"
        ],
        [
         "1975-01-18T09:40:46.020+0000",
         "1975-01-18T09:40:14.406+0000",
         "Roswell",
         "GA",
         1795.5,
         "UA000000103042049",
         "wendy34@jennings-espinoza.com"
        ],
        [
         "1975-01-18T09:04:42.654+0000",
         "1975-01-18T09:04:14.322+0000",
         "Holland",
         "MI",
         850.5,
         "UA000000103042096",
         "hollandjeffrey@miller.com"
        ],
        [
         "1975-01-18T07:37:56.696+0000",
         "1975-01-18T07:37:47.423+0000",
         "Riverside",
         "CA",
         535.5,
         "UA000000103042569",
         "james19@wong.com"
        ],
        [
         "1975-01-18T10:36:48.417+0000",
         "1975-01-18T10:36:07.970+0000",
         "Chandler",
         "AZ",
         850.5,
         "UA000000103042708",
         "philip53@white.com"
        ],
        [
         "1975-01-18T12:02:59.490+0000",
         "1975-01-18T12:02:29.348+0000",
         "New York",
         "NY",
         850.5,
         "UA000000103042972",
         "atorres98@hotmail.com"
        ],
        [
         "1975-01-18T09:40:21.004+0000",
         "1975-01-18T09:38:17.486+0000",
         "Velva",
         "ND",
         940.5,
         "UA000000103043025",
         "charles69@lam.net"
        ],
        [
         "1975-01-18T05:48:55.686+0000",
         "1975-01-18T05:47:43.948+0000",
         "Chino Hills",
         "CA",
         1386,
         "UA000000103043710",
         "shannon87@shepard.com"
        ],
        [
         "1975-01-18T06:37:46.082+0000",
         "1975-01-18T06:36:59.662+0000",
         "Wetumpka",
         "AL",
         535.5,
         "UA000000103044869",
         "george8929@hotmail.com"
        ],
        [
         "1975-01-18T08:43:07.972+0000",
         "1975-01-18T08:43:06.650+0000",
         "York",
         "PA",
         1075.5,
         "UA000000103044937",
         "garciaadrian@cain-greer.com"
        ],
        [
         "1975-01-18T09:38:00.963+0000",
         "1975-01-18T09:37:35.668+0000",
         "Rochester",
         "MN",
         1075.5,
         "UA000000103045000",
         "llucas@hotmail.com"
        ],
        [
         "1975-01-18T06:57:00.332+0000",
         "1975-01-18T06:54:38.703+0000",
         "Cypress",
         "CA",
         535.5,
         "UA000000103045224",
         "carlos36@yahoo.com"
        ],
        [
         "1975-01-18T08:27:15.756+0000",
         "1975-01-18T08:26:41.893+0000",
         "Murrieta",
         "CA",
         588.6,
         "UA000000103046430",
         "katie42@hotmail.com"
        ],
        [
         "1975-01-18T07:57:12.600+0000",
         "1975-01-18T07:56:44.100+0000",
         "New York",
         "NY",
         1525.5,
         "UA000000103046720",
         "imarshall@lowe-williams.com"
        ],
        [
         "1975-01-18T07:17:16.747+0000",
         "1975-01-18T07:17:13.102+0000",
         "Fairfield",
         "CA",
         940.5,
         "UA000000103047157",
         "wmercer@gmail.com"
        ],
        [
         "1975-01-18T09:25:42.450+0000",
         "1975-01-18T09:25:35.054+0000",
         "New York",
         "NY",
         535.5,
         "UA000000103047367",
         "james8481@hotmail.com"
        ],
        [
         "1975-01-18T11:26:40.610+0000",
         "1975-01-18T11:26:32.602+0000",
         "Richmond",
         "CA",
         985.5,
         "UA000000103047798",
         "hollysmith@davis.com"
        ],
        [
         "1975-01-18T08:40:53.958+0000",
         "1975-01-18T08:40:21.749+0000",
         "Franklin",
         "WI",
         1075.5,
         "UA000000103048411",
         "lawrencekristin@hotmail.com"
        ],
        [
         "1975-01-18T05:48:27.666+0000",
         "1975-01-18T05:48:22.474+0000",
         "Connell",
         "WA",
         535.5,
         "UA000000103048573",
         "jameshancock@grant-rodriguez.net"
        ],
        [
         "1975-01-18T10:43:50.647+0000",
         "1975-01-18T10:43:33.996+0000",
         "Pine Bluff",
         "AR",
         1668.6,
         "UA000000103049211",
         "lisa44@whitney.com"
        ],
        [
         "1975-01-18T10:44:34.549+0000",
         "1975-01-18T10:44:22.785+0000",
         "Reedley",
         "CA",
         850.5,
         "UA000000103050473",
         "lanemary@hotmail.com"
        ],
        [
         "1975-01-18T11:08:02.572+0000",
         "1975-01-18T11:07:35.039+0000",
         "Covina",
         "CA",
         1525.5,
         "UA000000103051706",
         "nmartinez@oneal.com"
        ],
        [
         "1975-01-18T12:05:41.269+0000",
         "1975-01-18T12:05:27.294+0000",
         "Portland",
         "ME",
         940.5,
         "UA000000103052684",
         "williamsmatthew@snyder-lucas.com"
        ],
        [
         "1975-01-18T09:29:59.986+0000",
         "1975-01-18T09:29:13.497+0000",
         "Lackawanna",
         "NY",
         1795.5,
         "UA000000103052702",
         "marshalltaylor@yahoo.com"
        ],
        [
         "1975-01-18T10:52:27.095+0000",
         "1975-01-18T10:52:06.515+0000",
         "Los Angeles",
         "CA",
         53.1,
         "UA000000103056459",
         "gsherman@walsh-acosta.com"
        ],
        [
         "1975-01-18T12:09:12.027+0000",
         "1975-01-18T12:09:01.039+0000",
         "Tuscaloosa",
         "AL",
         850.5,
         "UA000000103057666",
         "osantana@yahoo.com"
        ],
        [
         "1975-01-18T13:23:14.520+0000",
         "1975-01-18T13:23:03.504+0000",
         "West Memphis",
         "AR",
         850.5,
         "UA000000103059519",
         "johnmoran@ford.com"
        ],
        [
         "1975-01-18T06:38:20.285+0000",
         "1975-01-18T06:38:01.206+0000",
         "Farmington Hills",
         "MI",
         1075.5,
         "UA000000103060006",
         "natalie7274@hotmail.com"
        ],
        [
         "1975-01-18T09:08:19.142+0000",
         "1975-01-18T09:08:18.382+0000",
         "San Diego",
         "CA",
         850.5,
         "UA000000103061931",
         "gonzalezkristen@hotmail.com"
        ],
        [
         "1975-01-18T12:53:33.908+0000",
         "1975-01-18T12:53:31.857+0000",
         "Takoma Park",
         "MD",
         940.5,
         "UA000000103062217",
         "matthew6039@hotmail.com"
        ],
        [
         "1975-01-18T10:31:54.015+0000",
         "1975-01-18T10:31:44.277+0000",
         "Miami",
         "FL",
         535.5,
         "UA000000103062502",
         "kcole@anderson-burke.com"
        ],
        [
         "1975-01-18T08:53:58.298+0000",
         "1975-01-18T08:53:13.363+0000",
         "Gastonia",
         "NC",
         940.5,
         "UA000000103062808",
         "jhoffman@kennedy.com"
        ],
        [
         "1975-01-18T10:21:44.182+0000",
         "1975-01-18T10:20:54.583+0000",
         "Springville",
         "UT",
         535.5,
         "UA000000103063546",
         "evan95@miller.biz"
        ],
        [
         "1975-01-18T12:01:10.568+0000",
         "1975-01-18T12:00:49.862+0000",
         "La Ca�ada Flintridge",
         "CA",
         850.5,
         "UA000000103063694",
         "philiptate@yahoo.com"
        ],
        [
         "1975-01-18T09:26:48.855+0000",
         "1975-01-18T09:24:56.206+0000",
         "Riverside",
         "CA",
         535.5,
         "UA000000103065505",
         "patriciamorgan@buck.info"
        ],
        [
         "1975-01-18T08:15:32.178+0000",
         "1975-01-18T08:14:55.125+0000",
         "New York",
         "NY",
         940.5,
         "UA000000103067312",
         "joycehall@blake.com"
        ],
        [
         "1975-01-18T10:02:39.341+0000",
         "1975-01-18T10:01:10.573+0000",
         "Alhambra",
         "CA",
         2069.1,
         "UA000000103067472",
         "iortiz@hughes.com"
        ],
        [
         "1975-01-18T08:13:41.732+0000",
         "1975-01-18T08:12:51.011+0000",
         "Denver",
         "CO",
         850.5,
         "UA000000103068091",
         "tlewis@smith-johnson.com"
        ],
        [
         "1975-01-18T09:54:13.361+0000",
         "1975-01-18T09:53:49.949+0000",
         "Harrisonburg",
         "VA",
         535.5,
         "UA000000103068101",
         "klinecindy@gmail.com"
        ],
        [
         "1975-01-18T11:40:04.796+0000",
         "1975-01-18T11:39:15.197+0000",
         "Fayetteville",
         "AR",
         940.5,
         "UA000000103068431",
         "sdavidson38@yahoo.com"
        ],
        [
         "1975-01-18T12:29:58.581+0000",
         "1975-01-18T12:29:57.197+0000",
         "SeaTac",
         "WA",
         2798.1,
         "UA000000103068617",
         "dvaldez@ross.biz"
        ],
        [
         "1975-01-18T09:26:24.598+0000",
         "1975-01-18T09:25:57.050+0000",
         "Ansonia",
         "CT",
         850.5,
         "UA000000103070354",
         "batesjuan@hotmail.com"
        ],
        [
         "1975-01-18T09:32:20.290+0000",
         "1975-01-18T09:31:53.097+0000",
         "Morgan",
         "GA",
         1218.6,
         "UA000000103072117",
         "rsantos@gmail.com"
        ],
        [
         "1975-01-18T10:15:24.907+0000",
         "1975-01-18T10:15:14.282+0000",
         "Maitland",
         "FL",
         1075.5,
         "UA000000103072494",
         "jose01@yahoo.com"
        ],
        [
         "1975-01-18T13:28:18.490+0000",
         "1975-01-18T13:28:15.100+0000",
         "San Jose",
         "CA",
         535.5,
         "UA000000103072526",
         "qsmith55@gmail.com"
        ],
        [
         "1975-01-18T08:44:18.194+0000",
         "1975-01-18T08:44:12.622+0000",
         "Corpus Christi",
         "TX",
         985.5,
         "UA000000103073078",
         "jennifer3882@yahoo.com"
        ],
        [
         "1975-01-18T09:02:45.149+0000",
         "1975-01-18T09:02:35.989+0000",
         "Perry",
         "IA",
         535.5,
         "UA000000103073991",
         "scook@ware.com"
        ],
        [
         "1975-01-18T08:04:39.635+0000",
         "1975-01-18T08:04:38.800+0000",
         "Newport News",
         "VA",
         940.5,
         "UA000000103074767",
         "emilymalone@casey-webster.com"
        ],
        [
         "1975-01-18T09:43:37.004+0000",
         "1975-01-18T09:43:03.699+0000",
         "Dearborn Heights",
         "MI",
         535.5,
         "UA000000103075256",
         "wcallahan@scott-gutierrez.info"
        ],
        [
         "1975-01-18T12:43:53.368+0000",
         "1975-01-18T12:43:47.800+0000",
         "Torrance",
         "CA",
         1795.5,
         "UA000000103075812",
         "juan39@alvarado.com"
        ],
        [
         "1975-01-18T12:35:21.286+0000",
         "1975-01-18T12:34:49.758+0000",
         "Glendale",
         "AZ",
         1795.5,
         "UA000000103077492",
         "debra7280@hotmail.com"
        ],
        [
         "1975-01-18T11:24:24.031+0000",
         "1975-01-18T11:24:23.414+0000",
         "Hayti",
         "MO",
         940.5,
         "UA000000103079626",
         "hallcaitlyn@harper.com"
        ],
        [
         "1975-01-18T10:41:36.818+0000",
         "1975-01-18T10:41:29.979+0000",
         "Ashburn",
         "GA",
         850.5,
         "UA000000103080355",
         "johnsoncharles39@yahoo.com"
        ],
        [
         "1975-01-18T09:59:32.798+0000",
         "1975-01-18T09:58:48.905+0000",
         "Chicago",
         "IL",
         993.6,
         "UA000000103081901",
         "longvictoria@sims.com"
        ],
        [
         "1975-01-18T07:10:20.704+0000",
         "1975-01-18T07:10:18.484+0000",
         "New Franklin",
         "OH",
         535.5,
         "UA000000103082769",
         "claudiapayne@yahoo.com"
        ],
        [
         "1975-01-18T11:56:30.030+0000",
         "1975-01-18T11:55:58.409+0000",
         "Irvine",
         "CA",
         850.5,
         "UA000000103084145",
         "robert7053@gmail.com"
        ],
        [
         "1975-01-18T06:25:58.357+0000",
         "1975-01-18T06:25:27.470+0000",
         "Memphis",
         "TN",
         1606.5,
         "UA000000103084677",
         "jeffreyray@mitchell.com"
        ],
        [
         "1975-01-18T13:09:17.256+0000",
         "1975-01-18T13:09:13.846+0000",
         "Hardin",
         "MT",
         535.5,
         "UA000000103084713",
         "joshuamiller69@yahoo.com"
        ],
        [
         "1975-01-18T15:19:42.480+0000",
         "1975-01-18T15:18:18.399+0000",
         "San Diego",
         "CA",
         940.5,
         "UA000000103086648",
         "mullinstiffany@bates.com"
        ],
        [
         "1975-01-18T07:48:00.073+0000",
         "1975-01-18T07:47:57.539+0000",
         "Los Angeles",
         "CA",
         940.5,
         "UA000000103086749",
         "cunninghamlauren@yahoo.com"
        ],
        [
         "1975-01-18T08:14:28.587+0000",
         "1975-01-18T08:14:28.361+0000",
         "Chicago",
         "IL",
         1836,
         "UA000000103087256",
         "carolenglish@kim-garza.com"
        ],
        [
         "1975-01-18T08:16:52.947+0000",
         "1975-01-18T08:11:10.044+0000",
         "Fremont",
         "CA",
         850.5,
         "UA000000103088659",
         "robert36@hotmail.com"
        ],
        [
         "1975-01-18T11:34:59.489+0000",
         "1975-01-18T11:34:59.193+0000",
         "New Brunswick",
         "NJ",
         2016,
         "UA000000103088824",
         "christinachang@yahoo.com"
        ],
        [
         "1975-01-18T12:10:55.638+0000",
         "1975-01-18T12:10:53.444+0000",
         "Dania Beach",
         "FL",
         993.6,
         "UA000000103090130",
         "cpeterson@hotmail.com"
        ],
        [
         "1975-01-18T08:49:12.204+0000",
         "1975-01-18T08:48:49.929+0000",
         "Hermosa Beach",
         "CA",
         850.5,
         "UA000000103090236",
         "jeromemcpherson@hotmail.com"
        ],
        [
         "1975-01-18T11:09:57.572+0000",
         "1975-01-18T11:07:58.700+0000",
         "Corpus Christi",
         "TX",
         1525.5,
         "UA000000103092069",
         "aparker@yahoo.com"
        ],
        [
         "1975-01-18T11:11:11.742+0000",
         "1975-01-18T11:11:06.229+0000",
         "Santa Barbara",
         "CA",
         940.5,
         "UA000000103092189",
         "idickerson@gmail.com"
        ],
        [
         "1975-01-18T11:20:47.950+0000",
         "1975-01-18T11:20:32.983+0000",
         "Oklahoma City",
         "OK",
         940.5,
         "UA000000103095016",
         "pamelamayer@leonard.biz"
        ],
        [
         "1975-01-18T08:57:08.544+0000",
         "1975-01-18T08:57:04.910+0000",
         "Anaheim",
         "CA",
         940.5,
         "UA000000103095725",
         "tsanchez@jackson.com"
        ],
        [
         "1975-01-18T06:20:38.677+0000",
         "1975-01-18T06:19:32.160+0000",
         "Monticello",
         "IN",
         535.5,
         "UA000000103097122",
         "claytonpham@hotmail.com"
        ],
        [
         "1975-01-18T09:30:15.935+0000",
         "1975-01-18T09:29:39.347+0000",
         "Dixon",
         "CA",
         1615.5,
         "UA000000103097330",
         "mariawilson@coleman.com"
        ],
        [
         "1975-01-18T11:55:29.908+0000",
         "1975-01-18T11:55:26.940+0000",
         "Milwaukee",
         "WI",
         985.5,
         "UA000000103097557",
         "rachel59@chavez-munoz.com"
        ],
        [
         "1975-01-18T14:51:25.458+0000",
         "1975-01-18T14:51:24.406+0000",
         "Cincinnati",
         "OH",
         1075.5,
         "UA000000103098348",
         "hgutierrez39@yahoo.com"
        ],
        [
         "1975-01-18T09:52:33.367+0000",
         "1975-01-18T09:52:30.614+0000",
         "Albuquerque",
         "NM",
         940.5,
         "UA000000103098350",
         "ericamartin39@yahoo.com"
        ],
        [
         "1975-01-18T11:05:24.408+0000",
         "1975-01-18T11:05:09.058+0000",
         "Union City",
         "NJ",
         850.5,
         "UA000000103099710",
         "robertjackson@gray.org"
        ],
        [
         "1975-01-18T14:00:37.503+0000",
         "1975-01-18T14:00:16.371+0000",
         "Del City",
         "OK",
         1525.5,
         "UA000000103100098",
         "gregorybrooks@yahoo.com"
        ],
        [
         "1975-01-18T07:27:05.523+0000",
         "1975-01-18T07:27:05.307+0000",
         "San Antonio",
         "TX",
         53.1,
         "UA000000103100381",
         "terrelljames@ellis.com"
        ],
        [
         "1975-01-18T13:59:09.484+0000",
         "1975-01-18T13:59:02.146+0000",
         "Newark",
         "NJ",
         850.5,
         "UA000000103100433",
         "jjenkins25@yahoo.com"
        ],
        [
         "1975-01-18T09:47:37.034+0000",
         "1975-01-18T09:47:27.531+0000",
         "New York",
         "NY",
         1075.5,
         "UA000000103100549",
         "john26@taylor.com"
        ],
        [
         "1975-01-18T12:58:16.632+0000",
         "1975-01-18T12:55:15.868+0000",
         "Norwich",
         "CT",
         535.5,
         "UA000000103101007",
         "emilymurphy@hotmail.com"
        ],
        [
         "1975-01-18T13:41:30.504+0000",
         "1975-01-18T13:41:09.257+0000",
         "Downey",
         "CA",
         850.5,
         "UA000000103101505",
         "henry30@smith.com"
        ],
        [
         "1975-01-18T11:09:39.536+0000",
         "1975-01-18T11:08:27.108+0000",
         "Tucson",
         "AZ",
         1075.5,
         "UA000000103105277",
         "michelle56@moore-larson.com"
        ],
        [
         "1975-01-18T06:42:02.382+0000",
         "1975-01-18T06:41:27.680+0000",
         "Chicago",
         "IL",
         850.5,
         "UA000000103105429",
         "kbaker@moreno.com"
        ],
        [
         "1975-01-18T09:26:13.242+0000",
         "1975-01-18T09:25:53.781+0000",
         "Reno",
         "NV",
         107.10000000000001,
         "UA000000103105963",
         "kward11@gmail.com"
        ],
        [
         "1975-01-18T12:37:18.198+0000",
         "1975-01-18T12:35:20.051+0000",
         "Reno",
         "NV",
         850.5,
         "UA000000103108292",
         "amy60@carr.com"
        ],
        [
         "1975-01-18T10:36:27.063+0000",
         "1975-01-18T10:36:19.620+0000",
         "West Palm Beach",
         "FL",
         1795.5,
         "UA000000103109921",
         "denise72@hotmail.com"
        ],
        [
         "1975-01-18T10:47:30.373+0000",
         "1975-01-18T10:47:04.418+0000",
         "Wood Dale",
         "IL",
         1075.5,
         "UA000000103110880",
         "hunterpittman@porter.net"
        ],
        [
         "1975-01-18T15:05:51.249+0000",
         "1975-01-18T15:05:47.789+0000",
         "New York",
         "NY",
         535.5,
         "UA000000103111400",
         "mitchellangela@gmail.com"
        ],
        [
         "1975-01-18T08:48:47.006+0000",
         "1975-01-18T08:48:46.128+0000",
         "Michigan City",
         "IN",
         940.5,
         "UA000000103114618",
         "staceystephens@bowen.info"
        ],
        [
         "1975-01-18T12:55:38.678+0000",
         "1975-01-18T12:53:27.722+0000",
         "Des Moines",
         "IA",
         535.5,
         "UA000000103115527",
         "stephanie480@hotmail.com"
        ],
        [
         "1975-01-18T11:58:29.452+0000",
         "1975-01-18T11:57:46.991+0000",
         "Los Angeles",
         "CA",
         940.5,
         "UA000000103115586",
         "yball@gmail.com"
        ],
        [
         "1975-01-18T09:28:39.328+0000",
         "1975-01-18T09:28:09.481+0000",
         "Clinton",
         "NC",
         1615.5,
         "UA000000103116462",
         "slowe50@yahoo.com"
        ],
        [
         "1975-01-18T11:06:08.399+0000",
         "1975-01-18T11:03:38.823+0000",
         "New York",
         "NY",
         940.5,
         "UA000000103117291",
         "allisonnixon@haynes-roberts.info"
        ],
        [
         "1975-01-18T10:10:07.599+0000",
         "1975-01-18T10:09:36.230+0000",
         "Stockton",
         "CA",
         985.5,
         "UA000000103117434",
         "wfox73@hotmail.com"
        ],
        [
         "1975-01-18T14:08:23.980+0000",
         "1975-01-18T14:05:09.906+0000",
         "Missoula",
         "MT",
         535.5,
         "UA000000103117930",
         "brendankirk@bird.net"
        ],
        [
         "1975-01-18T10:08:38.081+0000",
         "1975-01-18T10:08:18.704+0000",
         "Goshen",
         "IN",
         678.6,
         "UA000000103118468",
         "christopher1974@yahoo.com"
        ],
        [
         "1975-01-18T08:49:01.381+0000",
         "1975-01-18T08:47:28.261+0000",
         "Cape Coral",
         "FL",
         1075.5,
         "UA000000103119372",
         "michellewright22@yahoo.com"
        ],
        [
         "1975-01-18T09:38:38.543+0000",
         "1975-01-18T09:38:31.256+0000",
         "Fresno",
         "CA",
         1476,
         "UA000000103119757",
         "stephanie1669@gmail.com"
        ],
        [
         "1975-01-18T10:20:12.067+0000",
         "1975-01-18T10:19:59.062+0000",
         "North Little Rock",
         "AR",
         535.5,
         "UA000000103121682",
         "fosteralan@ryan.net"
        ],
        [
         "1975-01-18T11:56:40.155+0000",
         "1975-01-18T11:56:22.156+0000",
         "Fort Wayne",
         "IN",
         2204.1,
         "UA000000103124111",
         "nalvarez@day.net"
        ],
        [
         "1975-01-18T08:11:37.108+0000",
         "1975-01-18T08:11:36.846+0000",
         "Fort Pierce",
         "FL",
         1075.5,
         "UA000000103125575",
         "lfranco@marks-mason.com"
        ],
        [
         "1975-01-18T07:11:56.699+0000",
         "1975-01-18T07:09:47.989+0000",
         "Janesville",
         "WI",
         940.5,
         "UA000000103126323",
         "donna09@yahoo.com"
        ],
        [
         "1975-01-18T11:38:11.059+0000",
         "1975-01-18T11:38:09.085+0000",
         "Jersey City",
         "NJ",
         1795.5,
         "UA000000103127684",
         "jacksondavid@mills-brown.com"
        ],
        [
         "1975-01-18T09:14:08.613+0000",
         "1975-01-18T09:13:22.785+0000",
         "Forest Park",
         "GA",
         2151,
         "UA000000103127731",
         "greenchristine@yahoo.com"
        ],
        [
         "1975-01-18T10:33:14.530+0000",
         "1975-01-18T10:33:01.030+0000",
         "New York",
         "NY",
         940.5,
         "UA000000103129246",
         "anthony70@chapman.com"
        ],
        [
         "1975-01-18T13:14:11.369+0000",
         "1975-01-18T13:12:18.376+0000",
         "Kennewick",
         "WA",
         1075.5,
         "UA000000103129295",
         "vallen@boone.org"
        ],
        [
         "1975-01-18T10:48:28.507+0000",
         "1975-01-18T10:47:50.915+0000",
         "Rockford",
         "IL",
         1075.5,
         "UA000000103130420",
         "sarah86@miller.com"
        ],
        [
         "1975-01-18T10:30:19.153+0000",
         "1975-01-18T10:27:42.875+0000",
         "Coppell",
         "TX",
         1075.5,
         "UA000000103130451",
         "mullinsjessica@griffin-mccarty.com"
        ],
        [
         "1975-01-18T11:28:39.705+0000",
         "1975-01-18T11:27:59.985+0000",
         "Melbourne",
         "FL",
         535.5,
         "UA000000103131159",
         "craigjoseph@hernandez.com"
        ],
        [
         "1975-01-18T11:42:20.750+0000",
         "1975-01-18T11:42:04.434+0000",
         "Antioch",
         "CA",
         535.5,
         "UA000000103131527",
         "robersonsarah@chandler-garcia.info"
        ],
        [
         "1975-01-18T11:57:52.602+0000",
         "1975-01-18T11:57:12.964+0000",
         "Houston",
         "TX",
         53.1,
         "UA000000103131875",
         "timothybrooks@gmail.com"
        ],
        [
         "1975-01-18T12:42:50.202+0000",
         "1975-01-18T12:42:26.875+0000",
         "Clifton",
         "NJ",
         940.5,
         "UA000000103132667",
         "bautistadeborah@collins.net"
        ],
        [
         "1975-01-18T12:07:34.703+0000",
         "1975-01-18T12:07:34.470+0000",
         "Chesapeake",
         "VA",
         1178.1,
         "UA000000103132926",
         "jacobsonandrew@gmail.com"
        ],
        [
         "1975-01-18T10:00:35.893+0000",
         "1975-01-18T10:00:26.131+0000",
         "Worcester",
         "MA",
         985.5,
         "UA000000103133612",
         "pkim75@gmail.com"
        ],
        [
         "1975-01-18T15:34:43.515+0000",
         "1975-01-18T15:34:42.849+0000",
         "Decatur",
         "IN",
         535.5,
         "UA000000103134422",
         "hoganpamela@butler.com"
        ],
        [
         "1975-01-18T15:49:32.356+0000",
         "1975-01-18T15:49:30.895+0000",
         "Austin",
         "TX",
         1128.6,
         "UA000000103134906",
         "cynthiacox@hotmail.com"
        ],
        [
         "1975-01-18T08:56:05.805+0000",
         "1975-01-18T08:56:05.268+0000",
         "Corona",
         "CA",
         985.5,
         "UA000000103136148",
         "jacksonvickie@foley-jenkins.org"
        ],
        [
         "1975-01-18T12:08:12.559+0000",
         "1975-01-18T12:08:05.968+0000",
         "La Porte",
         "TX",
         940.5,
         "UA000000103136347",
         "jeffreytucker@gmail.com"
        ],
        [
         "1975-01-18T08:37:03.134+0000",
         "1975-01-18T08:36:52.065+0000",
         "Baltimore",
         "MD",
         1075.5,
         "UA000000103136773",
         "kimberlygarrett@yahoo.com"
        ],
        [
         "1975-01-18T11:35:27.907+0000",
         "1975-01-18T11:34:03.579+0000",
         "Santa Ana",
         "CA",
         850.5,
         "UA000000103137490",
         "ashleymyers@rose-luna.com"
        ],
        [
         "1975-01-18T08:09:38.326+0000",
         "1975-01-18T08:08:42.092+0000",
         "Akron",
         "OH",
         1075.5,
         "UA000000103137864",
         "brandon87@hayes.biz"
        ],
        [
         "1975-01-18T09:59:34.565+0000",
         "1975-01-18T09:59:32.164+0000",
         "Dickinson",
         "ND",
         535.5,
         "UA000000103140434",
         "william54@butler.com"
        ],
        [
         "1975-01-18T11:29:49.292+0000",
         "1975-01-18T11:28:43.122+0000",
         "Ravenswood",
         "WV",
         1668.6,
         "UA000000103143189",
         "anne77@russell-evans.info"
        ],
        [
         "1975-01-18T06:48:02.837+0000",
         "1975-01-18T06:45:12.938+0000",
         "Muncie",
         "IN",
         850.5,
         "UA000000103143491",
         "millermichael@chen.com"
        ],
        [
         "1975-01-18T08:02:40.739+0000",
         "1975-01-18T08:01:54.830+0000",
         "Rio Rancho",
         "NM",
         1075.5,
         "UA000000103143555",
         "jameskirk@hotmail.com"
        ],
        [
         "1975-01-18T11:38:50.297+0000",
         "1975-01-18T11:37:23.904+0000",
         "Flagstaff",
         "AZ",
         850.5,
         "UA000000103144651",
         "yatesjose@turner.com"
        ],
        [
         "1975-01-18T12:01:12.825+0000",
         "1975-01-18T11:59:20.827+0000",
         "Schenectady",
         "NY",
         940.5,
         "UA000000103145412",
         "pruittjennifer@yahoo.com"
        ],
        [
         "1975-01-18T10:12:04.356+0000",
         "1975-01-18T10:11:09.785+0000",
         "Chicago",
         "IL",
         1075.5,
         "UA000000103149007",
         "makaylaramos@gmail.com"
        ],
        [
         "1975-01-18T10:10:11.802+0000",
         "1975-01-18T10:08:21.680+0000",
         "Palmer Town",
         "MA",
         940.5,
         "UA000000103149559",
         "kwalker@roman.com"
        ],
        [
         "1975-01-18T12:30:55.335+0000",
         "1975-01-18T12:30:54.542+0000",
         "Wauseon",
         "OH",
         535.5,
         "UA000000103149903",
         "kpope@gonzalez.com"
        ],
        [
         "1975-01-18T10:34:26.966+0000",
         "1975-01-18T10:34:26.755+0000",
         "Pasco",
         "WA",
         985.5,
         "UA000000103150676",
         "ecook@hotmail.com"
        ],
        [
         "1975-01-18T10:39:55.252+0000",
         "1975-01-18T10:37:35.543+0000",
         "New Philadelphia",
         "OH",
         53.1,
         "UA000000103150755",
         "westlisa@harding.com"
        ],
        [
         "1975-01-18T11:14:25.711+0000",
         "1975-01-18T11:14:06.778+0000",
         "McCamey",
         "TX",
         940.5,
         "UA000000103152113",
         "wweiss@horton-cooper.info"
        ],
        [
         "1975-01-18T10:50:42.180+0000",
         "1975-01-18T10:49:42.218+0000",
         "North Las Vegas",
         "NV",
         535.5,
         "UA000000103153297",
         "scook56@hotmail.com"
        ],
        [
         "1975-01-18T12:45:19.930+0000",
         "1975-01-18T12:44:55.085+0000",
         "New Franklin",
         "OH",
         535.5,
         "UA000000103154604",
         "pmartinez@johnson.biz"
        ],
        [
         "1975-01-18T09:52:14.740+0000",
         "1975-01-18T09:52:06.393+0000",
         "Poughkeepsie",
         "NY",
         940.5,
         "UA000000103155071",
         "janicedecker@hotmail.com"
        ],
        [
         "1975-01-18T13:46:47.857+0000",
         "1975-01-18T13:46:09.625+0000",
         "South Jordan",
         "UT",
         940.5,
         "UA000000103156689",
         "christineporter@coleman.com"
        ],
        [
         "1975-01-18T10:48:51.575+0000",
         "1975-01-18T10:48:51.329+0000",
         "Calhoun",
         "GA",
         588.6,
         "UA000000103156835",
         "hawkinskimberly@rivera.com"
        ],
        [
         "1975-01-18T10:47:58.272+0000",
         "1975-01-18T10:47:45.463+0000",
         "New York",
         "NY",
         940.5,
         "UA000000103157158",
         "lcardenas@hotmail.com"
        ],
        [
         "1975-01-18T14:25:50.926+0000",
         "1975-01-18T14:25:49.708+0000",
         "Paterson",
         "NJ",
         940.5,
         "UA000000103158006",
         "brownjeffrey@yahoo.com"
        ],
        [
         "1975-01-18T08:39:32.194+0000",
         "1975-01-18T08:39:08.211+0000",
         "Springfield",
         "OH",
         535.5,
         "UA000000103158942",
         "edward16@yahoo.com"
        ],
        [
         "1975-01-18T15:59:35.062+0000",
         "1975-01-18T15:55:18.282+0000",
         "Detroit",
         "MI",
         940.5,
         "UA000000103159628",
         "zking66@yahoo.com"
        ],
        [
         "1975-01-18T08:19:20.984+0000",
         "1975-01-18T08:19:20.258+0000",
         "Oklahoma City",
         "OK",
         1075.5,
         "UA000000103161291",
         "jvelez65@gmail.com"
        ],
        [
         "1975-01-18T09:45:32.255+0000",
         "1975-01-18T09:44:20.826+0000",
         "Coppell",
         "TX",
         940.5,
         "UA000000103162743",
         "xjohnson70@yahoo.com"
        ],
        [
         "1975-01-18T13:36:13.125+0000",
         "1975-01-18T13:36:05.621+0000",
         "Fruitland Park",
         "FL",
         850.5,
         "UA000000103163213",
         "taylorjustin60@gmail.com"
        ],
        [
         "1975-01-18T10:02:47.922+0000",
         "1975-01-18T10:00:35.171+0000",
         "Springfield",
         "MA",
         850.5,
         "UA000000103163587",
         "shelbyholmes@everett-rodriguez.com"
        ],
        [
         "1975-01-18T09:15:23.729+0000",
         "1975-01-18T09:15:14.877+0000",
         "Mission Viejo",
         "CA",
         53.1,
         "UA000000103163889",
         "david9122@gmail.com"
        ],
        [
         "1975-01-18T11:22:16.377+0000",
         "1975-01-18T11:21:22.134+0000",
         "Hickory",
         "NC",
         1075.5,
         "UA000000103165153",
         "morgansantos@gmail.com"
        ],
        [
         "1975-01-18T10:17:47.148+0000",
         "1975-01-18T10:17:25.352+0000",
         "Bellevue",
         "WA",
         1615.5,
         "UA000000103165175",
         "fernandezamanda@yahoo.com"
        ],
        [
         "1975-01-18T11:34:49.619+0000",
         "1975-01-18T11:32:00.676+0000",
         "Portage",
         "MI",
         535.5,
         "UA000000103166627",
         "bquinn@gmail.com"
        ],
        [
         "1975-01-18T12:56:32.414+0000",
         "1975-01-18T12:54:19.722+0000",
         "New York",
         "NY",
         1075.5,
         "UA000000103166801",
         "campbellnicholas@gmail.com"
        ],
        [
         "1975-01-18T12:19:15.953+0000",
         "1975-01-18T12:19:10.901+0000",
         "Alameda",
         "CA",
         1128.6,
         "UA000000103167418",
         "wobrien@cardenas.com"
        ],
        [
         "1975-01-18T11:06:58.897+0000",
         "1975-01-18T11:05:22.908+0000",
         "Detroit",
         "MI",
         940.5,
         "UA000000103168075",
         "jonathancoleman@gmail.com"
        ],
        [
         "1975-01-18T12:11:06.362+0000",
         "1975-01-18T12:11:06.132+0000",
         "Manteca",
         "CA",
         985.5,
         "UA000000103168399",
         "dianahowell@hotmail.com"
        ],
        [
         "1975-01-18T06:23:12.214+0000",
         "1975-01-18T06:22:23.001+0000",
         "Burkburnett",
         "TX",
         53.1,
         "UA000000103169189",
         "rose19@yahoo.com"
        ],
        [
         "1975-01-18T09:03:12.853+0000",
         "1975-01-18T09:03:01.566+0000",
         "Memphis",
         "TN",
         850.5,
         "UA000000103170518",
         "nolanjeremy@manning-kim.com"
        ],
        [
         "1975-01-18T08:57:40.188+0000",
         "1975-01-18T08:57:24.116+0000",
         "Fullerton",
         "CA",
         921.6,
         "UA000000103170661",
         "derek21@taylor-mcknight.com"
        ],
        [
         "1975-01-18T09:48:11.720+0000",
         "1975-01-18T09:44:23.434+0000",
         "Coshocton",
         "OH",
         1075.5,
         "UA000000103170884",
         "greencarrie@hotmail.com"
        ],
        [
         "1975-01-18T06:30:42.367+0000",
         "1975-01-18T06:29:00.478+0000",
         "Norcross",
         "GA",
         1075.5,
         "UA000000103171794",
         "sean2518@gmail.com"
        ],
        [
         "1975-01-18T10:55:04.091+0000",
         "1975-01-18T10:53:28.122+0000",
         "Phoenix",
         "AZ",
         1075.5,
         "UA000000103173168",
         "millerjeanne@gmail.com"
        ],
        [
         "1975-01-18T09:45:44.360+0000",
         "1975-01-18T09:45:39.033+0000",
         "Tampa",
         "FL",
         1615.5,
         "UA000000103174092",
         "dbooth@yahoo.com"
        ],
        [
         "1975-01-18T08:51:59.115+0000",
         "1975-01-18T08:50:26.770+0000",
         "Tucker",
         "GA",
         985.5,
         "UA000000103174585",
         "joanna83@weber-carrillo.com"
        ],
        [
         "1975-01-18T10:18:40.082+0000",
         "1975-01-18T10:18:39.562+0000",
         "Folly Beach",
         "SC",
         1075.5,
         "UA000000103174656",
         "pricebrian@adams.com"
        ],
        [
         "1975-01-18T09:55:13.063+0000",
         "1975-01-18T09:55:10.482+0000",
         "Minneota",
         "MN",
         1075.5,
         "UA000000103178098",
         "williamsonjonathan@weber-davidson.com"
        ],
        [
         "1975-01-18T15:58:34.201+0000",
         "1975-01-18T15:58:20.111+0000",
         "Philadelphia",
         "PA",
         588.6,
         "UA000000103178156",
         "lperez@price.com"
        ],
        [
         "1975-01-18T10:07:55.055+0000",
         "1975-01-18T10:07:53.710+0000",
         "Appleton",
         "WI",
         985.5,
         "UA000000103178714",
         "vanessathomas83@yahoo.com"
        ],
        [
         "1975-01-18T14:24:41.635+0000",
         "1975-01-18T14:23:26.317+0000",
         "Houston",
         "TX",
         2646,
         "UA000000103181011",
         "cervanteskarla@ferguson.org"
        ],
        [
         "1975-01-18T05:54:35.757+0000",
         "1975-01-18T05:54:33.501+0000",
         "Waco",
         "TX",
         940.5,
         "UA000000103181222",
         "robert5455@gmail.com"
        ],
        [
         "1975-01-18T15:35:25.057+0000",
         "1975-01-18T15:32:58.947+0000",
         "Washington",
         "DC",
         1075.5,
         "UA000000103183156",
         "brownpamela@young.com"
        ],
        [
         "1975-01-18T13:38:47.366+0000",
         "1975-01-18T13:38:37.395+0000",
         "Agawam Town",
         "MA",
         1075.5,
         "UA000000103183410",
         "jenniferharris@hotmail.com"
        ],
        [
         "1975-01-18T11:59:32.575+0000",
         "1975-01-18T11:57:30.303+0000",
         "Brunswick",
         "GA",
         850.5,
         "UA000000103184546",
         "ryanlong@gmail.com"
        ],
        [
         "1975-01-18T13:58:49.536+0000",
         "1975-01-18T13:58:28.798+0000",
         "Knoxville",
         "TN",
         1075.5,
         "UA000000103186021",
         "raymond36@gmail.com"
        ],
        [
         "1975-01-18T09:10:30.379+0000",
         "1975-01-18T09:10:28.630+0000",
         "Lancaster",
         "PA",
         535.5,
         "UA000000103186087",
         "michaelhernandez@sharp.com"
        ],
        [
         "1975-01-18T05:26:48.529+0000",
         "1975-01-18T05:24:16.498+0000",
         "Costa Mesa",
         "CA",
         71.10000000000001,
         "UA000000103186861",
         "glopez@richard-reed.com"
        ],
        [
         "1975-01-18T10:21:14.611+0000",
         "1975-01-18T10:21:04.694+0000",
         "Raleigh",
         "NC",
         1881,
         "UA000000103187887",
         "patriciagregory@gmail.com"
        ],
        [
         "1975-01-18T09:27:19.800+0000",
         "1975-01-18T09:26:52.852+0000",
         "Sartell",
         "MN",
         985.5,
         "UA000000103189790",
         "youngscott@smith.com"
        ],
        [
         "1975-01-18T10:51:16.451+0000",
         "1975-01-18T10:50:30.764+0000",
         "Tucson",
         "AZ",
         940.5,
         "UA000000103190031",
         "jcooper44@yahoo.com"
        ],
        [
         "1975-01-18T11:00:21.315+0000",
         "1975-01-18T10:59:12.280+0000",
         "Scottsdale",
         "AZ",
         940.5,
         "UA000000103190146",
         "egamble@yahoo.com"
        ],
        [
         "1975-01-18T13:23:37.613+0000",
         "1975-01-18T13:23:19.552+0000",
         "Albuquerque",
         "NM",
         1615.5,
         "UA000000103192359",
         "sandersjulie@martin.net"
        ],
        [
         "1975-01-18T08:22:09.750+0000",
         "1975-01-18T08:21:05.697+0000",
         "Sanford",
         "FL",
         985.5,
         "UA000000103195749",
         "garciajohn@gmail.com"
        ],
        [
         "1975-01-18T10:24:36.393+0000",
         "1975-01-18T10:20:17.232+0000",
         "New York",
         "NY",
         850.5,
         "UA000000103196718",
         "maydavid@jones.info"
        ],
        [
         "1975-01-18T12:32:58.960+0000",
         "1975-01-18T12:30:01.906+0000",
         "Gary",
         "IN",
         850.5,
         "UA000000103197147",
         "richardruiz@dunlap.info"
        ],
        [
         "1975-01-18T11:41:47.730+0000",
         "1975-01-18T11:41:39.977+0000",
         "Bicknell",
         "IN",
         1525.5,
         "UA000000103197224",
         "mayoandrew@henderson.biz"
        ],
        [
         "1975-01-18T10:55:24.860+0000",
         "1975-01-18T10:55:24.659+0000",
         "Anaheim",
         "CA",
         588.6,
         "UA000000103197608",
         "cainmatthew@rodriguez.biz"
        ],
        [
         "1975-01-18T13:29:05.891+0000",
         "1975-01-18T13:29:04.484+0000",
         "Huntsville",
         "AL",
         535.5,
         "UA000000103198301",
         "richard0383@yahoo.com"
        ],
        [
         "1975-01-18T12:38:24.319+0000",
         "1975-01-18T12:38:21.751+0000",
         "Hollywood",
         "FL",
         535.5,
         "UA000000103199742",
         "fthompson@phillips.com"
        ],
        [
         "1975-01-18T12:01:46.291+0000",
         "1975-01-18T12:00:06.801+0000",
         "Wichita Falls",
         "TX",
         940.5,
         "UA000000103200198",
         "pkirby@hotmail.com"
        ],
        [
         "1975-01-18T10:35:21.304+0000",
         "1975-01-18T10:30:20.400+0000",
         "Boston",
         "MA",
         940.5,
         "UA000000103203330",
         "hherrera@rios.net"
        ],
        [
         "1975-01-18T07:01:55.270+0000",
         "1975-01-18T07:01:29.451+0000",
         "Charlotte",
         "NC",
         1075.5,
         "UA000000103203844",
         "jerry08@hotmail.com"
        ],
        [
         "1975-01-18T12:31:41.110+0000",
         "1975-01-18T12:31:34.438+0000",
         "San Antonio",
         "TX",
         940.5,
         "UA000000103203937",
         "taylorlauren43@gmail.com"
        ],
        [
         "1975-01-18T13:32:11.781+0000",
         "1975-01-18T13:30:35.452+0000",
         "Royse City",
         "TX",
         535.5,
         "UA000000103204104",
         "jesserussell@good.com"
        ],
        [
         "1975-01-18T13:22:19.167+0000",
         "1975-01-18T13:22:06.749+0000",
         "Apopka",
         "FL",
         1071,
         "UA000000103207174",
         "jamesward@brady.com"
        ],
        [
         "1975-01-18T12:02:43.855+0000",
         "1975-01-18T12:02:39.926+0000",
         "Santa Clarita",
         "CA",
         535.5,
         "UA000000103207305",
         "dhudson@brown.info"
        ],
        [
         "1975-01-18T11:38:20.054+0000",
         "1975-01-18T11:37:40.350+0000",
         "Weslaco",
         "TX",
         940.5,
         "UA000000103208542",
         "kathy22@hotmail.com"
        ],
        [
         "1975-01-18T16:29:25.869+0000",
         "1975-01-18T16:28:16.719+0000",
         "Albert Lea",
         "MN",
         850.5,
         "UA000000103208840",
         "ashley10@martinez.biz"
        ],
        [
         "1975-01-18T13:06:12.525+0000",
         "1975-01-18T13:06:09.412+0000",
         "Columbus",
         "OH",
         107.10000000000001,
         "UA000000103210477",
         "richardsoncarolyn@lindsey.com"
        ],
        [
         "1975-01-18T12:13:20.686+0000",
         "1975-01-18T12:13:16.457+0000",
         "Kansas City",
         "MO",
         535.5,
         "UA000000103211351",
         "maurice83@rodriguez.com"
        ],
        [
         "1975-01-18T13:42:33.871+0000",
         "1975-01-18T13:42:08.937+0000",
         "Prairie View",
         "TX",
         1611,
         "UA000000103217112",
         "lmiller@fisher.com"
        ],
        [
         "1975-01-18T13:17:54.784+0000",
         "1975-01-18T13:16:52.240+0000",
         "Phoenix",
         "AZ",
         850.5,
         "UA000000103217503",
         "stownsend@gmail.com"
        ],
        [
         "1975-01-18T07:56:44.227+0000",
         "1975-01-18T07:55:13.882+0000",
         "North St. Paul",
         "MN",
         1075.5,
         "UA000000103218273",
         "lfloyd@page-dougherty.com"
        ],
        [
         "1975-01-18T08:51:55.658+0000",
         "1975-01-18T08:51:54.255+0000",
         "Cupertino",
         "CA",
         921.6,
         "UA000000103218568",
         "qbanks@watson.info"
        ],
        [
         "1975-01-18T10:21:23.115+0000",
         "1975-01-18T10:20:03.921+0000",
         "Roswell",
         "GA",
         850.5,
         "UA000000103220505",
         "ebarr@rogers.com"
        ],
        [
         "1975-01-18T10:45:03.923+0000",
         "1975-01-18T10:44:51.718+0000",
         "New York",
         "NY",
         535.5,
         "UA000000103220953",
         "xhuynh16@gmail.com"
        ],
        [
         "1975-01-18T12:07:36.083+0000",
         "1975-01-18T12:04:00.871+0000",
         "Miami Springs",
         "FL",
         535.5,
         "UA000000103221087",
         "piercedavid@hotmail.com"
        ],
        [
         "1975-01-18T17:34:49.897+0000",
         "1975-01-18T17:34:46.070+0000",
         "Braintree Town",
         "MA",
         535.5,
         "UA000000103221621",
         "tjohnston@patton-smith.com"
        ],
        [
         "1975-01-18T13:57:30.453+0000",
         "1975-01-18T13:57:17.662+0000",
         "Forest Grove",
         "OR",
         1971,
         "UA000000103221688",
         "catherine29@hotmail.com"
        ],
        [
         "1975-01-18T09:05:18.093+0000",
         "1975-01-18T09:03:33.723+0000",
         "Oceanside",
         "CA",
         850.5,
         "UA000000103222357",
         "scottbrown@yahoo.com"
        ],
        [
         "1975-01-18T11:24:36.479+0000",
         "1975-01-18T11:24:27.415+0000",
         "Portland",
         "OR",
         1075.5,
         "UA000000103222448",
         "hklein@hotmail.com"
        ],
        [
         "1975-01-18T11:54:35.232+0000",
         "1975-01-18T11:54:32.289+0000",
         "New York",
         "NY",
         940.5,
         "UA000000103222594",
         "jcampbell@chavez-robertson.biz"
        ],
        [
         "1975-01-18T14:25:06.319+0000",
         "1975-01-18T14:24:38.630+0000",
         "Broken Arrow",
         "OK",
         535.5,
         "UA000000103223525",
         "jmiller@wright-humphrey.com"
        ],
        [
         "1975-01-18T09:18:35.660+0000",
         "1975-01-18T09:18:00.630+0000",
         "New York",
         "NY",
         1525.5,
         "UA000000103226248",
         "medinalauren90@hotmail.com"
        ],
        [
         "1975-01-18T08:45:29.704+0000",
         "1975-01-18T08:45:29.256+0000",
         "Westfield",
         "MA",
         1615.5,
         "UA000000103226607",
         "glassdanielle@yahoo.com"
        ],
        [
         "1975-01-18T13:48:36.578+0000",
         "1975-01-18T13:48:21.896+0000",
         "Moreno Valley",
         "CA",
         1047.6,
         "UA000000103226791",
         "chelsea02@finley.biz"
        ],
        [
         "1975-01-18T13:50:43.888+0000",
         "1975-01-18T13:50:40.768+0000",
         "Kokomo",
         "IN",
         1075.5,
         "UA000000103228407",
         "sarahlove@hotmail.com"
        ],
        [
         "1975-01-18T11:15:18.755+0000",
         "1975-01-18T11:12:43.657+0000",
         "Seattle",
         "WA",
         940.5,
         "UA000000103228536",
         "blakeangel@pierce.org"
        ],
        [
         "1975-01-18T11:03:22.563+0000",
         "1975-01-18T11:03:19.558+0000",
         "Austin",
         "TX",
         1075.5,
         "UA000000103231544",
         "lisagardner@gmail.com"
        ],
        [
         "1975-01-18T09:13:32.392+0000",
         "1975-01-18T09:10:41.850+0000",
         "Orlando",
         "FL",
         535.5,
         "UA000000103232173",
         "austin0688@gmail.com"
        ],
        [
         "1975-01-18T08:09:43.979+0000",
         "1975-01-18T08:09:42.721+0000",
         "St. Paul",
         "MN",
         1075.5,
         "UA000000103232287",
         "blee38@williams.com"
        ],
        [
         "1975-01-18T07:13:22.277+0000",
         "1975-01-18T07:13:18.312+0000",
         "Houston",
         "TX",
         850.5,
         "UA000000103233681",
         "davenportjay@hotmail.com"
        ],
        [
         "1975-01-18T15:07:24.033+0000",
         "1975-01-18T15:06:24.648+0000",
         "New York",
         "NY",
         850.5,
         "UA000000103233904",
         "jennifer96@contreras-jackson.net"
        ],
        [
         "1975-01-18T09:31:06.726+0000",
         "1975-01-18T09:30:14.148+0000",
         "San Antonio",
         "TX",
         2736,
         "UA000000103234502",
         "flowerschristine@dominguez-smith.com"
        ],
        [
         "1975-01-18T11:58:51.236+0000",
         "1975-01-18T11:58:21.145+0000",
         "El Paso",
         "TX",
         940.5,
         "UA000000103235498",
         "harrisdiane@gmail.com"
        ],
        [
         "1975-01-18T12:29:58.380+0000",
         "1975-01-18T12:29:07.599+0000",
         "New York",
         "NY",
         985.5,
         "UA000000103236155",
         "deborahbrown@lane.com"
        ],
        [
         "1975-01-18T14:21:36.965+0000",
         "1975-01-18T14:21:00.580+0000",
         "Lakeland",
         "TN",
         940.5,
         "UA000000103236761",
         "april85@gmail.com"
        ],
        [
         "1975-01-18T13:10:01.213+0000",
         "1975-01-18T13:09:31.469+0000",
         "National City",
         "CA",
         940.5,
         "UA000000103237092",
         "susanflores@carr.com"
        ],
        [
         "1975-01-18T15:23:28.280+0000",
         "1975-01-18T15:22:59.886+0000",
         "Cedar City",
         "UT",
         850.5,
         "UA000000103237751",
         "ggarcia2@leon.com"
        ],
        [
         "1975-01-18T10:59:54.134+0000",
         "1975-01-18T10:57:18.641+0000",
         "Lafayette",
         "LA",
         535.5,
         "UA000000103239760",
         "lewismorgan@serrano.info"
        ],
        [
         "1975-01-18T09:00:41.501+0000",
         "1975-01-18T08:59:34.120+0000",
         "Foster City",
         "CA",
         940.5,
         "UA000000103241322",
         "kgibson5@yahoo.com"
        ],
        [
         "1975-01-18T13:13:40.569+0000",
         "1975-01-18T13:12:52.592+0000",
         "San Diego",
         "CA",
         940.5,
         "UA000000103242065",
         "mary15@turner.info"
        ],
        [
         "1975-01-18T10:35:57.903+0000",
         "1975-01-18T10:35:30.983+0000",
         "Westlake",
         "OH",
         1071,
         "UA000000103242864",
         "perezbrian@martin.com"
        ],
        [
         "1975-01-18T13:20:44.412+0000",
         "1975-01-18T13:20:14.500+0000",
         "Fremont",
         "CA",
         1075.5,
         "UA000000103242959",
         "palexander@barnes.com"
        ],
        [
         "1975-01-18T09:46:44.836+0000",
         "1975-01-18T09:46:39.811+0000",
         "Council Bluffs",
         "IA",
         535.5,
         "UA000000103243630",
         "uhernandez17@hotmail.com"
        ],
        [
         "1975-01-18T10:52:14.880+0000",
         "1975-01-18T10:52:10.046+0000",
         "Yorba Linda",
         "CA",
         940.5,
         "UA000000103243916",
         "eflores@yahoo.com"
        ],
        [
         "1975-01-18T06:05:47.787+0000",
         "1975-01-18T06:02:19.581+0000",
         "Warren",
         "MI",
         940.5,
         "UA000000103244090",
         "whoward17@hotmail.com"
        ],
        [
         "1975-01-18T11:25:31.072+0000",
         "1975-01-18T11:25:29.669+0000",
         "Atlantic City",
         "NJ",
         1075.5,
         "UA000000103244412",
         "lunachristine@arnold-franco.net"
        ],
        [
         "1975-01-18T15:39:01.157+0000",
         "1975-01-18T15:38:23.674+0000",
         "Great Falls",
         "MT",
         1075.5,
         "UA000000103244486",
         "jessica5039@gmail.com"
        ],
        [
         "1975-01-18T09:46:38.309+0000",
         "1975-01-18T09:46:33.845+0000",
         "Tuscaloosa",
         "AL",
         940.5,
         "UA000000103244699",
         "dawndean@yahoo.com"
        ],
        [
         "1975-01-18T06:03:31.111+0000",
         "1975-01-18T06:03:30.888+0000",
         "Los Angeles",
         "CA",
         535.5,
         "UA000000103245736",
         "smorrison@edwards.com"
        ],
        [
         "1975-01-18T13:05:12.267+0000",
         "1975-01-18T13:05:12.037+0000",
         "Bristol",
         "TN",
         940.5,
         "UA000000103245972",
         "adamdaniels@thornton.com"
        ],
        [
         "1975-01-18T08:00:26.306+0000",
         "1975-01-18T07:56:27.888+0000",
         "Carson",
         "CA",
         850.5,
         "UA000000103246562",
         "hollymendoza@peters.info"
        ],
        [
         "1975-01-18T09:47:26.750+0000",
         "1975-01-18T09:47:10.870+0000",
         "Atlanta",
         "GA",
         985.5,
         "UA000000103248266",
         "swansondillon@sullivan.com"
        ],
        [
         "1975-01-18T08:44:12.976+0000",
         "1975-01-18T08:44:09.265+0000",
         "Mayer",
         "MN",
         850.5,
         "UA000000103248647",
         "harrismartha@noble.org"
        ],
        [
         "1975-01-18T10:24:26.730+0000",
         "1975-01-18T10:23:37.724+0000",
         "Virginia Beach",
         "VA",
         940.5,
         "UA000000103249888",
         "velezsamantha@diaz.org"
        ],
        [
         "1975-01-18T12:24:37.061+0000",
         "1975-01-18T12:24:12.772+0000",
         "Port Arthur",
         "TX",
         940.5,
         "UA000000103250098",
         "michael77@gutierrez.com"
        ],
        [
         "1975-01-18T16:34:48.390+0000",
         "1975-01-18T16:34:39.681+0000",
         "Syracuse",
         "UT",
         850.5,
         "UA000000103251723",
         "jessicacastillo@gmail.com"
        ],
        [
         "1975-01-18T09:18:38.750+0000",
         "1975-01-18T09:18:37.584+0000",
         "Jacksonville",
         "FL",
         1795.5,
         "UA000000103253173",
         "kristin74@hotmail.com"
        ],
        [
         "1975-01-18T10:53:09.029+0000",
         "1975-01-18T10:52:38.317+0000",
         "Creswell",
         "OR",
         850.5,
         "UA000000103254917",
         "jared49@gmail.com"
        ],
        [
         "1975-01-18T16:18:31.050+0000",
         "1975-01-18T16:18:30.577+0000",
         "St. Paul",
         "MN",
         1075.5,
         "UA000000103256943",
         "smitheric@conway.info"
        ],
        [
         "1975-01-18T10:25:51.012+0000",
         "1975-01-18T10:25:37.552+0000",
         "Garland",
         "TX",
         2736,
         "UA000000103257111",
         "fyoung55@yahoo.com"
        ],
        [
         "1975-01-18T13:28:33.788+0000",
         "1975-01-18T13:26:39.888+0000",
         "Indianapolis",
         "IN",
         588.6,
         "UA000000103257714",
         "theresa95@calhoun.info"
        ],
        [
         "1975-01-18T06:18:15.454+0000",
         "1975-01-18T06:18:14.577+0000",
         "Santa Barbara",
         "CA",
         850.5,
         "UA000000103258358",
         "lisawilliams58@yahoo.com"
        ],
        [
         "1975-01-18T12:32:13.894+0000",
         "1975-01-18T12:31:33.869+0000",
         "Memphis",
         "TN",
         850.5,
         "UA000000103258683",
         "danielskevin@yahoo.com"
        ],
        [
         "1975-01-18T14:01:30.466+0000",
         "1975-01-18T13:59:40.503+0000",
         "Nevada",
         "TX",
         535.5,
         "UA000000103258842",
         "gilberterin@franklin.com"
        ],
        [
         "1975-01-18T10:54:00.940+0000",
         "1975-01-18T10:53:16.847+0000",
         "Bloomington",
         "IL",
         535.5,
         "UA000000103258942",
         "cdelgado@stewart.com"
        ],
        [
         "1975-01-18T13:09:00.360+0000",
         "1975-01-18T13:08:37.818+0000",
         "Rutland",
         "VT",
         940.5,
         "UA000000103260525",
         "jason18@mcknight-williams.com"
        ],
        [
         "1975-01-18T05:22:07.890+0000",
         "1975-01-18T05:22:07.524+0000",
         "Celina",
         "TX",
         1386,
         "UA000000103260677",
         "edward00@jones-smith.com"
        ],
        [
         "1975-01-18T07:39:05.453+0000",
         "1975-01-18T07:39:04.496+0000",
         "Peoria",
         "AZ",
         850.5,
         "UA000000103261916",
         "emily9343@yahoo.com"
        ],
        [
         "1975-01-18T14:18:04.250+0000",
         "1975-01-18T14:18:04.002+0000",
         "Manning",
         "SC",
         535.5,
         "UA000000103262502",
         "dmarks17@gmail.com"
        ],
        [
         "1975-01-18T12:52:13.799+0000",
         "1975-01-18T12:52:12.475+0000",
         "Detroit",
         "MI",
         850.5,
         "UA000000103262771",
         "gordoncharles@gmail.com"
        ],
        [
         "1975-01-18T09:35:19.295+0000",
         "1975-01-18T09:33:01.755+0000",
         "San Diego",
         "CA",
         940.5,
         "UA000000103263061",
         "joserobertson@payne-rogers.com"
        ],
        [
         "1975-01-18T09:24:16.000+0000",
         "1975-01-18T09:24:14.608+0000",
         "Novi",
         "MI",
         3001.5,
         "UA000000103263540",
         "kingjoel@gmail.com"
        ],
        [
         "1975-01-18T13:56:28.223+0000",
         "1975-01-18T13:56:10.901+0000",
         "San Angelo",
         "TX",
         1795.5,
         "UA000000103264489",
         "michaelmunoz@medina.biz"
        ],
        [
         "1975-01-18T12:21:23.244+0000",
         "1975-01-18T12:19:36.443+0000",
         "San Antonio",
         "TX",
         940.5,
         "UA000000103264711",
         "leeann@richardson.com"
        ],
        [
         "1975-01-18T10:35:54.207+0000",
         "1975-01-18T10:35:45.403+0000",
         "Maitland",
         "FL",
         1075.5,
         "UA000000103264949",
         "watsonalexandra@flowers-hart.net"
        ],
        [
         "1975-01-18T08:14:27.354+0000",
         "1975-01-18T08:12:59.401+0000",
         "Dunn",
         "NC",
         940.5,
         "UA000000103265727",
         "brownryan@gmail.com"
        ],
        [
         "1975-01-18T13:03:36.043+0000",
         "1975-01-18T13:03:33.744+0000",
         "Lansing",
         "MI",
         71.10000000000001,
         "UA000000103265933",
         "contrerassean@montgomery.org"
        ],
        [
         "1975-01-18T13:08:39.907+0000",
         "1975-01-18T13:08:07.230+0000",
         "Chino",
         "CA",
         940.5,
         "UA000000103266886",
         "xwilkins@yahoo.com"
        ],
        [
         "1975-01-18T11:45:18.970+0000",
         "1975-01-18T11:42:38.674+0000",
         "Richmond",
         "IN",
         940.5,
         "UA000000103267407",
         "jamesjohnson@gmail.com"
        ],
        [
         "1975-01-18T07:30:32.902+0000",
         "1975-01-18T07:30:12.629+0000",
         "Gulf Shores",
         "AL",
         1011.6,
         "UA000000103269627",
         "wcopeland@gmail.com"
        ],
        [
         "1975-01-18T10:54:53.453+0000",
         "1975-01-18T10:54:50.604+0000",
         "San Francisco",
         "CA",
         850.5,
         "UA000000103270595",
         "courtney74@hotmail.com"
        ],
        [
         "1975-01-18T11:12:10.068+0000",
         "1975-01-18T11:09:31.748+0000",
         "Milwaukee",
         "WI",
         985.5,
         "UA000000103271971",
         "victorstone@wilson.com"
        ],
        [
         "1975-01-18T14:13:45.487+0000",
         "1975-01-18T14:13:43.015+0000",
         "Granite Falls",
         "WA",
         71.10000000000001,
         "UA000000103272381",
         "thompsontiffany@perry.com"
        ],
        [
         "1975-01-18T08:43:56.905+0000",
         "1975-01-18T08:43:54.422+0000",
         "Moody",
         "AL",
         940.5,
         "UA000000103272496",
         "wagnernicholas@hotmail.com"
        ],
        [
         "1975-01-18T16:42:37.395+0000",
         "1975-01-18T16:38:39.824+0000",
         "North Ogden",
         "UT",
         535.5,
         "UA000000103272524",
         "suzanne92@carrillo-wallace.info"
        ],
        [
         "1975-01-18T13:20:20.430+0000",
         "1975-01-18T13:19:17.416+0000",
         "Sunny Isles Beach",
         "FL",
         940.5,
         "UA000000103272843",
         "reneeburton@carson.com"
        ],
        [
         "1975-01-18T11:57:20.424+0000",
         "1975-01-18T11:56:29.837+0000",
         "Mansfield",
         "TX",
         985.5,
         "UA000000103273755",
         "uwheeler@rivas.com"
        ],
        [
         "1975-01-18T14:38:50.535+0000",
         "1975-01-18T14:37:16.884+0000",
         "Westland",
         "MI",
         1615.5,
         "UA000000103273887",
         "ashley477@hotmail.com"
        ],
        [
         "1975-01-18T13:44:50.951+0000",
         "1975-01-18T13:44:50.748+0000",
         "Rowlett",
         "TX",
         1902.6,
         "UA000000103274574",
         "megan25@todd.com"
        ],
        [
         "1975-01-18T14:35:00.129+0000",
         "1975-01-18T14:34:45.329+0000",
         "Kettering",
         "OH",
         1615.5,
         "UA000000103274582",
         "marksmith@brewer-pena.com"
        ],
        [
         "1975-01-18T13:33:25.485+0000",
         "1975-01-18T13:33:07.516+0000",
         "Phoenix",
         "AZ",
         1525.5,
         "UA000000103274665",
         "natalierogers@gmail.com"
        ],
        [
         "1975-01-18T12:37:26.701+0000",
         "1975-01-18T12:35:51.007+0000",
         "Washington",
         "DC",
         993.6,
         "UA000000103277321",
         "ysilva@gmail.com"
        ],
        [
         "1975-01-18T15:53:00.555+0000",
         "1975-01-18T15:52:57.188+0000",
         "Grapevine",
         "TX",
         940.5,
         "UA000000103279610",
         "monicameyer@mitchell.com"
        ],
        [
         "1975-01-18T10:57:02.824+0000",
         "1975-01-18T10:55:35.353+0000",
         "Longview",
         "TX",
         535.5,
         "UA000000103279932",
         "uschmidt@hotmail.com"
        ],
        [
         "1975-01-18T09:24:47.321+0000",
         "1975-01-18T09:23:59.819+0000",
         "Longmont",
         "CO",
         535.5,
         "UA000000103281241",
         "berrychristopher@sanchez.com"
        ],
        [
         "1975-01-18T09:32:32.578+0000",
         "1975-01-18T09:32:21.930+0000",
         "Durham",
         "NC",
         535.5,
         "UA000000103281483",
         "websterdanielle@curtis.com"
        ],
        [
         "1975-01-18T12:07:15.260+0000",
         "1975-01-18T12:07:07.822+0000",
         "El Cajon",
         "CA",
         985.5,
         "UA000000103282442",
         "tonyvargas@hotmail.com"
        ],
        [
         "1975-01-18T12:35:42.365+0000",
         "1975-01-18T12:35:39.511+0000",
         "San Diego",
         "CA",
         850.5,
         "UA000000103282900",
         "richardclark@gmail.com"
        ],
        [
         "1975-01-18T09:42:35.990+0000",
         "1975-01-18T09:42:26.076+0000",
         "Boston",
         "MA",
         940.5,
         "UA000000103283739",
         "parrishcandice@yahoo.com"
        ],
        [
         "1975-01-18T13:25:58.044+0000",
         "1975-01-18T13:23:48.479+0000",
         "Quincy",
         "MA",
         940.5,
         "UA000000103283990",
         "fjohnson@price.com"
        ],
        [
         "1975-01-18T08:59:28.317+0000",
         "1975-01-18T08:59:23.217+0000",
         "Cudahy",
         "WI",
         535.5,
         "UA000000103284833",
         "myersanita@torres.com"
        ],
        [
         "1975-01-18T16:39:52.476+0000",
         "1975-01-18T16:38:41.819+0000",
         "Washington",
         "DC",
         940.5,
         "UA000000103284918",
         "waynebowen@rangel.com"
        ],
        [
         "1975-01-18T09:31:28.144+0000",
         "1975-01-18T09:29:55.621+0000",
         "Wichita",
         "KS",
         940.5,
         "UA000000103284920",
         "cthomas@mckinney.com"
        ],
        [
         "1975-01-18T12:03:27.889+0000",
         "1975-01-18T12:03:14.921+0000",
         "Georgetown",
         "SC",
         1075.5,
         "UA000000103284971",
         "ray18@yahoo.com"
        ],
        [
         "1975-01-18T14:17:09.081+0000",
         "1975-01-18T14:16:42.540+0000",
         "Aurora",
         "IL",
         535.5,
         "UA000000103285131",
         "nicholasreyes@franco.net"
        ],
        [
         "1975-01-18T09:55:53.658+0000",
         "1975-01-18T09:55:18.450+0000",
         "Greenwood",
         "IN",
         1795.5,
         "UA000000103285893",
         "bwilliams@yahoo.com"
        ],
        [
         "1975-01-18T11:41:44.622+0000",
         "1975-01-18T11:40:34.323+0000",
         "Washington",
         "IN",
         850.5,
         "UA000000103286160",
         "westjohn@sawyer-kline.com"
        ],
        [
         "1975-01-18T10:58:09.367+0000",
         "1975-01-18T10:58:02.157+0000",
         "Wauwatosa",
         "WI",
         535.5,
         "UA000000103287698",
         "lauren40@wood-kaiser.org"
        ],
        [
         "1975-01-18T09:41:32.544+0000",
         "1975-01-18T09:41:21.060+0000",
         "New York",
         "NY",
         850.5,
         "UA000000103288141",
         "howejames@hotmail.com"
        ],
        [
         "1975-01-18T10:44:42.194+0000",
         "1975-01-18T10:43:57.027+0000",
         "Pontiac",
         "MI",
         535.5,
         "UA000000103288852",
         "elizabetholson@adams-lam.com"
        ],
        [
         "1975-01-18T12:32:17.202+0000",
         "1975-01-18T12:28:10.074+0000",
         "Montrose",
         "CO",
         588.6,
         "UA000000103289332",
         "powersrenee@hotmail.com"
        ],
        [
         "1975-01-18T11:56:21.728+0000",
         "1975-01-18T11:55:58.896+0000",
         "Murfreesboro",
         "TN",
         850.5,
         "UA000000103289524",
         "paul01@gmail.com"
        ],
        [
         "1975-01-18T12:56:34.351+0000",
         "1975-01-18T12:55:33.942+0000",
         "Palmdale",
         "CA",
         1071,
         "UA000000103289556",
         "henry77@hotmail.com"
        ],
        [
         "1975-01-18T15:59:35.333+0000",
         "1975-01-18T15:58:23.869+0000",
         "Loma Linda",
         "CA",
         1182.6,
         "UA000000103289611",
         "nelsonchristopher@madden.com"
        ],
        [
         "1975-01-18T10:37:32.278+0000",
         "1975-01-18T10:36:24.396+0000",
         "Dallas",
         "TX",
         535.5,
         "UA000000103290498",
         "barrerachristopher@rodriguez.com"
        ],
        [
         "1975-01-18T12:35:54.418+0000",
         "1975-01-18T12:33:20.334+0000",
         "Kent",
         "WA",
         535.5,
         "UA000000103292288",
         "waynegray@parker.net"
        ],
        [
         "1975-01-18T13:13:41.308+0000",
         "1975-01-18T13:09:58.809+0000",
         "Fort Walton Beach",
         "FL",
         940.5,
         "UA000000103293448",
         "danieljones@powell.biz"
        ],
        [
         "1975-01-18T11:49:48.050+0000",
         "1975-01-18T11:49:21.279+0000",
         "Newark",
         "NJ",
         1075.5,
         "UA000000103294693",
         "karen5910@yahoo.com"
        ],
        [
         "1975-01-18T12:56:07.150+0000",
         "1975-01-18T12:55:43.224+0000",
         "Philadelphia",
         "PA",
         1075.5,
         "UA000000103294944",
         "marciaprice@lucas-roberts.info"
        ],
        [
         "1975-01-18T08:27:00.159+0000",
         "1975-01-18T08:26:54.526+0000",
         "Glendora",
         "CA",
         535.5,
         "UA000000103295791",
         "kentronald@gmail.com"
        ],
        [
         "1975-01-18T11:05:19.387+0000",
         "1975-01-18T11:05:18.523+0000",
         "Cottonwood Heights",
         "UT",
         535.5,
         "UA000000103296167",
         "kylejohnson76@hotmail.com"
        ],
        [
         "1975-01-18T17:35:58.843+0000",
         "1975-01-18T17:35:52.458+0000",
         "Spearfish",
         "SD",
         1611,
         "UA000000103298013",
         "npena@gmail.com"
        ],
        [
         "1975-01-18T07:33:28.731+0000",
         "1975-01-18T07:33:28.290+0000",
         "New York",
         "NY",
         940.5,
         "UA000000103298039",
         "angelajohnson33@gmail.com"
        ],
        [
         "1975-01-18T09:04:24.085+0000",
         "1975-01-18T09:03:53.085+0000",
         "Fort Wayne",
         "IN",
         850.5,
         "UA000000103298211",
         "zbrowning@hotmail.com"
        ],
        [
         "1975-01-18T14:18:31.078+0000",
         "1975-01-18T14:17:23.763+0000",
         "Carlsbad",
         "CA",
         940.5,
         "UA000000103299023",
         "duncanadrian@yahoo.com"
        ],
        [
         "1975-01-18T11:14:42.911+0000",
         "1975-01-18T11:12:48.385+0000",
         "Fort Lauderdale",
         "FL",
         850.5,
         "UA000000103299350",
         "tanner37@maldonado.com"
        ],
        [
         "1975-01-18T13:39:52.412+0000",
         "1975-01-18T13:38:05.214+0000",
         "Marina",
         "CA",
         1075.5,
         "UA000000103300677",
         "kristinaharrison@torres.com"
        ],
        [
         "1975-01-18T09:05:37.110+0000",
         "1975-01-18T09:04:57.033+0000",
         "Indianapolis",
         "IN",
         1075.5,
         "UA000000103301133",
         "jhayden6@hotmail.com"
        ],
        [
         "1975-01-18T16:06:48.521+0000",
         "1975-01-18T16:06:44.809+0000",
         "Jersey City",
         "NJ",
         642.6,
         "UA000000103301221",
         "ronaldjones@hotmail.com"
        ],
        [
         "1975-01-18T11:28:36.708+0000",
         "1975-01-18T11:28:34.802+0000",
         "Hamilton",
         "MT",
         1075.5,
         "UA000000103302069",
         "lhenry@lewis-lambert.com"
        ],
        [
         "1975-01-18T14:39:09.015+0000",
         "1975-01-18T14:39:03.036+0000",
         "Fort Thomas",
         "KY",
         535.5,
         "UA000000103305674",
         "walkerjill@hotmail.com"
        ],
        [
         "1975-01-18T12:35:44.894+0000",
         "1975-01-18T12:35:00.874+0000",
         "Brooklyn",
         "OH",
         535.5,
         "UA000000103305905",
         "holmespaul@reeves-roberts.com"
        ],
        [
         "1975-01-18T09:54:08.238+0000",
         "1975-01-18T09:54:05.491+0000",
         "Aurora",
         "CO",
         1075.5,
         "UA000000103306005",
         "jadedavis@valdez-price.org"
        ],
        [
         "1975-01-18T12:05:19.061+0000",
         "1975-01-18T12:05:18.589+0000",
         "Lewiston",
         "ME",
         1615.5,
         "UA000000103306616",
         "qhoward@wilson.info"
        ],
        [
         "1975-01-18T09:06:52.114+0000",
         "1975-01-18T09:06:51.890+0000",
         "Fredericksburg",
         "TX",
         1971,
         "UA000000103306959",
         "huntkimberly@gmail.com"
        ],
        [
         "1975-01-18T09:59:51.866+0000",
         "1975-01-18T09:59:51.253+0000",
         "Port St. Lucie",
         "FL",
         535.5,
         "UA000000103307038",
         "vaughnnicholas@gmail.com"
        ],
        [
         "1975-01-18T08:53:05.344+0000",
         "1975-01-18T08:50:20.951+0000",
         "Aurora",
         "CO",
         850.5,
         "UA000000103307688",
         "tommy55@martinez.com"
        ],
        [
         "1975-01-18T12:28:01.585+0000",
         "1975-01-18T12:26:51.807+0000",
         "Bridgeton",
         "NJ",
         1615.5,
         "UA000000103308234",
         "vjones16@gmail.com"
        ],
        [
         "1975-01-18T13:42:55.836+0000",
         "1975-01-18T13:42:46.253+0000",
         "Donalsonville",
         "GA",
         1075.5,
         "UA000000103308308",
         "austinrice@byrd-bass.com"
        ],
        [
         "1975-01-18T13:13:19.902+0000",
         "1975-01-18T13:11:10.718+0000",
         "Jacksonville",
         "FL",
         535.5,
         "UA000000103309137",
         "daltonhowell@park.com"
        ],
        [
         "1975-01-18T10:46:13.430+0000",
         "1975-01-18T10:43:55.857+0000",
         "South Gate",
         "CA",
         535.5,
         "UA000000103309521",
         "sandra9565@gmail.com"
        ],
        [
         "1975-01-18T09:08:15.368+0000",
         "1975-01-18T09:06:34.460+0000",
         "Mankato",
         "MN",
         940.5,
         "UA000000103310095",
         "frankrobert@huerta-butler.com"
        ],
        [
         "1975-01-18T07:48:47.449+0000",
         "1975-01-18T07:46:25.429+0000",
         "Bakersfield",
         "CA",
         1128.6,
         "UA000000103310209",
         "johnmoore37@yahoo.com"
        ],
        [
         "1975-01-18T09:59:25.255+0000",
         "1975-01-18T09:58:14.469+0000",
         "Aurora",
         "IL",
         535.5,
         "UA000000103310297",
         "carrillojason@hotmail.com"
        ],
        [
         "1975-01-18T13:54:45.061+0000",
         "1975-01-18T13:51:08.470+0000",
         "Craig",
         "CO",
         850.5,
         "UA000000103310778",
         "jaybrown@frost.com"
        ],
        [
         "1975-01-18T12:20:05.592+0000",
         "1975-01-18T12:20:04.421+0000",
         "College Station",
         "TX",
         850.5,
         "UA000000103310960",
         "hernandezrebekah@ward-mcdowell.com"
        ],
        [
         "1975-01-18T10:03:34.917+0000",
         "1975-01-18T10:02:59.243+0000",
         "Charlestown",
         "IN",
         1075.5,
         "UA000000103311049",
         "courtneysanford@yahoo.com"
        ],
        [
         "1975-01-18T11:23:26.209+0000",
         "1975-01-18T11:23:25.819+0000",
         "Charlotte",
         "NC",
         535.5,
         "UA000000103311221",
         "charles4424@gmail.com"
        ],
        [
         "1975-01-18T11:03:01.688+0000",
         "1975-01-18T11:01:53.674+0000",
         "Sunnyvale",
         "CA",
         143.1,
         "UA000000103312123",
         "donna9730@yahoo.com"
        ],
        [
         "1975-01-18T14:07:47.080+0000",
         "1975-01-18T14:07:46.876+0000",
         "New York",
         "NY",
         53.1,
         "UA000000103312327",
         "joann52@yahoo.com"
        ],
        [
         "1975-01-18T05:14:50.344+0000",
         "1975-01-18T05:14:26.874+0000",
         "North Charleston",
         "SC",
         1045,
         "UA000000103313845",
         "curtisrachel@yahoo.com"
        ],
        [
         "1975-01-18T11:30:34.711+0000",
         "1975-01-18T11:29:06.738+0000",
         "Burleson",
         "TX",
         143.1,
         "UA000000103314180",
         "richardsonthomas@hotmail.com"
        ],
        [
         "1975-01-18T12:00:34.236+0000",
         "1975-01-18T12:00:29.369+0000",
         "New York",
         "NY",
         1075.5,
         "UA000000103314821",
         "gomezdavid@cobb.com"
        ],
        [
         "1975-01-18T05:23:31.444+0000",
         "1975-01-18T05:23:27.243+0000",
         "Sausalito",
         "CA",
         1195,
         "UA000000103315213",
         "uwallace@roberts.info"
        ],
        [
         "1975-01-18T05:24:36.560+0000",
         "1975-01-18T05:23:36.648+0000",
         "Savannah",
         "GA",
         1195,
         "UA000000103315389",
         "owencody@glass-cruz.com"
        ],
        [
         "1975-01-18T11:48:27.539+0000",
         "1975-01-18T11:48:26.288+0000",
         "Anderson",
         "IN",
         1075.5,
         "UA000000103316247",
         "kylejackson@hotmail.com"
        ],
        [
         "1975-01-18T05:37:51.989+0000",
         "1975-01-18T05:36:43.817+0000",
         "Centennial",
         "CO",
         1045,
         "UA000000103317678",
         "ojones@donaldson-mann.com"
        ],
        [
         "1975-01-18T05:38:54.826+0000",
         "1975-01-18T05:38:09.815+0000",
         "Tamarac",
         "FL",
         1195,
         "UA000000103317898",
         "nfrederick96@hotmail.com"
        ],
        [
         "1975-01-18T05:39:35.053+0000",
         "1975-01-18T05:39:29.916+0000",
         "Las Vegas",
         "NV",
         59,
         "UA000000103317936",
         "adam17@santos.biz"
        ],
        [
         "1975-01-18T13:56:16.264+0000",
         "1975-01-18T13:56:12.671+0000",
         "Vacaville",
         "CA",
         1075.5,
         "UA000000103318215",
         "patricksteven@hotmail.com"
        ],
        [
         "1975-01-18T05:39:45.847+0000",
         "1975-01-18T05:38:05.103+0000",
         "Madison",
         "WI",
         1195,
         "UA000000103319005",
         "emily74@cowan.com"
        ],
        [
         "1975-01-18T05:39:39.813+0000",
         "1975-01-18T05:39:32.872+0000",
         "Ingleside",
         "TX",
         1695,
         "UA000000103319597",
         "mcdanielmichael@yahoo.com"
        ],
        [
         "1975-01-18T05:41:59.043+0000",
         "1975-01-18T05:41:55.072+0000",
         "San Diego",
         "CA",
         1045,
         "UA000000103320214",
         "thomasjessica@hotmail.com"
        ],
        [
         "1975-01-18T05:44:42.127+0000",
         "1975-01-18T05:44:17.193+0000",
         "Sandy Springs",
         "GA",
         945,
         "UA000000103320253",
         "jillian76@hotmail.com"
        ],
        [
         "1975-01-18T05:41:36.742+0000",
         "1975-01-18T05:41:05.438+0000",
         "Chicago",
         "IL",
         595,
         "UA000000103320289",
         "smithheather69@gmail.com"
        ],
        [
         "1975-01-18T05:45:03.608+0000",
         "1975-01-18T05:45:00.024+0000",
         "Amarillo",
         "TX",
         595,
         "UA000000103320314",
         "jonesmatthew24@hotmail.com"
        ],
        [
         "1975-01-18T11:31:49.492+0000",
         "1975-01-18T11:31:48.955+0000",
         "Gresham",
         "OR",
         1075.5,
         "UA000000103320420",
         "zmiles@allen-berry.biz"
        ],
        [
         "1975-01-18T11:42:47.684+0000",
         "1975-01-18T11:39:54.589+0000",
         "Jacksonville",
         "FL",
         940.5,
         "UA000000103320539",
         "carterdouglas@thomas-barajas.com"
        ],
        [
         "1975-01-18T05:42:37.311+0000",
         "1975-01-18T05:42:31.475+0000",
         "Alexandria",
         "VA",
         1795,
         "UA000000103321013",
         "eking49@hotmail.com"
        ],
        [
         "1975-01-18T05:51:00.427+0000",
         "1975-01-18T05:43:21.537+0000",
         "Anaheim",
         "CA",
         1254,
         "UA000000103321071",
         "jimmyrodgers@gmail.com"
        ],
        [
         "1975-01-18T19:04:05.267+0000",
         "1975-01-18T19:03:39.400+0000",
         "Fontana",
         "CA",
         1615.5,
         "UA000000103321556",
         "huntmichael@yahoo.com"
        ],
        [
         "1975-01-18T13:04:48.278+0000",
         "1975-01-18T13:04:40.567+0000",
         "Milwaukee",
         "WI",
         642.6,
         "UA000000103321824",
         "kara49@hotmail.com"
        ],
        [
         "1975-01-18T05:45:33.773+0000",
         "1975-01-18T05:45:20.572+0000",
         "Boca Raton",
         "FL",
         595,
         "UA000000103321867",
         "gboyer@hotmail.com"
        ],
        [
         "1975-01-18T13:49:55.600+0000",
         "1975-01-18T13:48:50.999+0000",
         "Parlier",
         "CA",
         1795.5,
         "UA000000103322174",
         "hinesamanda@berg-griffin.org"
        ],
        [
         "1975-01-18T11:49:01.238+0000",
         "1975-01-18T11:48:56.748+0000",
         "Los Angeles",
         "CA",
         940.5,
         "UA000000103322271",
         "ybrown82@hotmail.com"
        ],
        [
         "1975-01-18T05:48:01.167+0000",
         "1975-01-18T05:47:27.940+0000",
         "Wilmington",
         "NC",
         1045,
         "UA000000103322347",
         "dfrazier@knox.net"
        ],
        [
         "1975-01-18T05:46:21.856+0000",
         "1975-01-18T05:44:34.256+0000",
         "Pasadena",
         "TX",
         1195,
         "UA000000103322657",
         "catherineadams@yahoo.com"
        ],
        [
         "1975-01-18T05:43:27.362+0000",
         "1975-01-18T05:43:25.716+0000",
         "Providence",
         "RI",
         1195,
         "UA000000103322744",
         "haneyroberto@murray.com"
        ],
        [
         "1975-01-18T05:45:29.560+0000",
         "1975-01-18T05:45:03.579+0000",
         "South Weber",
         "UT",
         595,
         "UA000000103323304",
         "warrenmurray@hendrix.biz"
        ],
        [
         "1975-01-18T12:10:18.798+0000",
         "1975-01-18T12:09:35.260+0000",
         "Des Moines",
         "IA",
         1075.5,
         "UA000000103323322",
         "melissaroman@clarke-bennett.org"
        ],
        [
         "1975-01-18T05:48:32.212+0000",
         "1975-01-18T05:47:30.837+0000",
         "League City",
         "TX",
         1195,
         "UA000000103323356",
         "ryanhurst@gmail.com"
        ],
        [
         "1975-01-18T05:49:21.958+0000",
         "1975-01-18T05:49:21.723+0000",
         "Roy",
         "UT",
         79,
         "UA000000103324189",
         "jennifer91@taylor.com"
        ],
        [
         "1975-01-18T05:49:34.053+0000",
         "1975-01-18T05:48:27.574+0000",
         "Phoenix",
         "AZ",
         1995,
         "UA000000103324450",
         "perrykevin@gmail.com"
        ],
        [
         "1975-01-18T08:13:58.271+0000",
         "1975-01-18T08:11:36.265+0000",
         "Rexburg",
         "ID",
         850.5,
         "UA000000103324503",
         "weaverjessica@yahoo.com"
        ],
        [
         "1975-01-18T05:48:39.205+0000",
         "1975-01-18T05:48:38.790+0000",
         "Milpitas",
         "CA",
         59,
         "UA000000103324584",
         "seananderson@atkinson.com"
        ],
        [
         "1975-01-18T05:57:38.023+0000",
         "1975-01-18T05:54:48.900+0000",
         "Los Angeles",
         "CA",
         945,
         "UA000000103324750",
         "deanmunoz@yahoo.com"
        ],
        [
         "1975-01-18T13:03:58.482+0000",
         "1975-01-18T13:03:53.482+0000",
         "New York",
         "NY",
         1615.5,
         "UA000000103325640",
         "lauren7362@gmail.com"
        ],
        [
         "1975-01-18T05:52:14.892+0000",
         "1975-01-18T05:51:17.605+0000",
         "Pasadena",
         "TX",
         1195,
         "UA000000103325708",
         "barbarasaunders@taylor.org"
        ],
        [
         "1975-01-18T15:01:15.103+0000",
         "1975-01-18T15:00:11.505+0000",
         "Loogootee",
         "IN",
         850.5,
         "UA000000103325990",
         "april34@oliver.com"
        ],
        [
         "1975-01-18T05:52:26.375+0000",
         "1975-01-18T05:51:49.204+0000",
         "Craig",
         "CO",
         595,
         "UA000000103326068",
         "gilespaul@gmail.com"
        ],
        [
         "1975-01-18T13:54:28.509+0000",
         "1975-01-18T13:54:23.539+0000",
         "Okanogan",
         "WA",
         535.5,
         "UA000000103326385",
         "nancy60@mccormick-haley.com"
        ],
        [
         "1975-01-18T11:50:21.617+0000",
         "1975-01-18T11:49:09.716+0000",
         "West Valley City",
         "UT",
         940.5,
         "UA000000103327061",
         "dreynolds@ponce.org"
        ],
        [
         "1975-01-18T05:55:43.365+0000",
         "1975-01-18T05:54:54.073+0000",
         "Talladega",
         "AL",
         1045,
         "UA000000103327096",
         "jasonramirez@yahoo.com"
        ],
        [
         "1975-01-18T10:44:17.143+0000",
         "1975-01-18T10:44:16.928+0000",
         "Kansas City",
         "KS",
         1075.5,
         "UA000000103327135",
         "christopheralvarez32@yahoo.com"
        ],
        [
         "1975-01-18T05:48:31.370+0000",
         "1975-01-18T05:48:30.695+0000",
         "Escondido",
         "CA",
         945,
         "UA000000103327251",
         "ngilbert@lee-willis.com"
        ],
        [
         "1975-01-18T19:24:15.212+0000",
         "1975-01-18T19:23:48.571+0000",
         "Houston",
         "TX",
         53.1,
         "UA000000103327452",
         "johnsoncindy33@hotmail.com"
        ],
        [
         "1975-01-18T17:02:32.831+0000",
         "1975-01-18T17:01:36.183+0000",
         "Birmingham",
         "AL",
         1075.5,
         "UA000000103327666",
         "kristinawilliams@yahoo.com"
        ],
        [
         "1975-01-18T05:54:05.084+0000",
         "1975-01-18T05:53:03.751+0000",
         "Midwest City",
         "OK",
         1195,
         "UA000000103327907",
         "patrick3952@hotmail.com"
        ],
        [
         "1975-01-18T05:52:53.707+0000",
         "1975-01-18T05:52:38.798+0000",
         "Sandy Springs",
         "GA",
         1695,
         "UA000000103328103",
         "danielle20@green-whitaker.com"
        ],
        [
         "1975-01-18T15:40:31.783+0000",
         "1975-01-18T15:40:30.386+0000",
         "Ozark",
         "MO",
         940.5,
         "UA000000103328313",
         "wboyer@hotmail.com"
        ],
        [
         "1975-01-18T05:50:20.392+0000",
         "1975-01-18T05:50:19.997+0000",
         "Redding",
         "CA",
         1045,
         "UA000000103328370",
         "zsanders46@hotmail.com"
        ],
        [
         "1975-01-18T05:58:37.407+0000",
         "1975-01-18T05:58:31.189+0000",
         "Parma",
         "OH",
         1795,
         "UA000000103328665",
         "wilsonchris@hotmail.com"
        ],
        [
         "1975-01-18T14:23:47.453+0000",
         "1975-01-18T14:23:03.045+0000",
         "Hoover",
         "AL",
         535.5,
         "UA000000103329005",
         "henrydavid@davis.net"
        ],
        [
         "1975-01-18T05:57:21.634+0000",
         "1975-01-18T05:57:19.457+0000",
         "Nashua",
         "NH",
         1045,
         "UA000000103329619",
         "manuel06@contreras.com"
        ],
        [
         "1975-01-18T11:54:29.647+0000",
         "1975-01-18T11:54:26.263+0000",
         "Glendale",
         "CA",
         1615.5,
         "UA000000103329755",
         "millerpamela@ward-williams.net"
        ],
        [
         "1975-01-18T05:56:56.118+0000",
         "1975-01-18T05:56:53.659+0000",
         "Brownsville",
         "TX",
         1095,
         "UA000000103330244",
         "blackkevin@hotmail.com"
        ],
        [
         "1975-01-18T05:59:33.166+0000",
         "1975-01-18T05:59:07.322+0000",
         "Austin",
         "TX",
         595,
         "UA000000103330590",
         "ytrevino61@yahoo.com"
        ],
        [
         "1975-01-18T05:52:14.011+0000",
         "1975-01-18T05:51:38.079+0000",
         "Chicago",
         "IL",
         595,
         "UA000000103330712",
         "leslie60@yahoo.com"
        ],
        [
         "1975-01-18T10:33:26.449+0000",
         "1975-01-18T10:33:09.763+0000",
         "Chico",
         "CA",
         940.5,
         "UA000000103331457",
         "spage@fowler.com"
        ],
        [
         "1975-01-18T12:18:36.496+0000",
         "1975-01-18T12:18:19.217+0000",
         "Alamo",
         "TX",
         1071,
         "UA000000103331566",
         "allison2288@hotmail.com"
        ],
        [
         "1975-01-18T13:26:11.094+0000",
         "1975-01-18T13:24:31.198+0000",
         "Palos Hills",
         "IL",
         985.5,
         "UA000000103331568",
         "nataliemurphy@yahoo.com"
        ],
        [
         "1975-01-18T14:30:40.030+0000",
         "1975-01-18T14:27:45.816+0000",
         "Lafayette",
         "IN",
         993.6,
         "UA000000103331658",
         "hectorsmith@hotmail.com"
        ],
        [
         "1975-01-18T17:35:22.915+0000",
         "1975-01-18T17:35:08.755+0000",
         "Lufkin",
         "TX",
         940.5,
         "UA000000103332754",
         "osawyer@yahoo.com"
        ],
        [
         "1975-01-18T16:10:07.712+0000",
         "1975-01-18T16:10:07.209+0000",
         "Seattle",
         "WA",
         1795.5,
         "UA000000103332969",
         "jennifer6031@gmail.com"
        ],
        [
         "1975-01-18T05:59:27.894+0000",
         "1975-01-18T05:57:40.306+0000",
         "Fayetteville",
         "NC",
         1004,
         "UA000000103333023",
         "roberthernandez95@hotmail.com"
        ],
        [
         "1975-01-18T05:56:23.284+0000",
         "1975-01-18T05:56:14.804+0000",
         "Santa Monica",
         "CA",
         945,
         "UA000000103333103",
         "maria58@yahoo.com"
        ],
        [
         "1975-01-18T05:57:20.555+0000",
         "1975-01-18T05:57:13.384+0000",
         "Philadelphia",
         "PA",
         595,
         "UA000000103333239",
         "connerhannah@lee.net"
        ],
        [
         "1975-01-18T16:06:00.602+0000",
         "1975-01-18T16:05:53.016+0000",
         "Philadelphia",
         "PA",
         535.5,
         "UA000000103333300",
         "johnlee@patrick.info"
        ],
        [
         "1975-01-18T11:57:24.669+0000",
         "1975-01-18T11:53:27.946+0000",
         "Pompano Beach",
         "FL",
         53.1,
         "UA000000103333584",
         "nelsonkaren@stanley-hernandez.biz"
        ],
        [
         "1975-01-18T05:55:28.220+0000",
         "1975-01-18T05:55:25.128+0000",
         "Denver",
         "CO",
         1695,
         "UA000000103333858",
         "tina8268@hotmail.com"
        ],
        [
         "1975-01-18T18:01:58.847+0000",
         "1975-01-18T17:58:44.574+0000",
         "Oklahoma City",
         "OK",
         1075.5,
         "UA000000103334029",
         "davisrobert@day-jackson.net"
        ],
        [
         "1975-01-18T05:58:16.715+0000",
         "1975-01-18T05:57:31.085+0000",
         "Spokane",
         "WA",
         1045,
         "UA000000103334259",
         "martinezsally@williams.com"
        ],
        [
         "1975-01-18T16:28:41.856+0000",
         "1975-01-18T16:28:31.229+0000",
         "Scranton",
         "PA",
         535.5,
         "UA000000103334402",
         "jason67@gmail.com"
        ],
        [
         "1975-01-18T14:21:40.519+0000",
         "1975-01-18T14:21:33.163+0000",
         "Roswell",
         "GA",
         850.5,
         "UA000000103334497",
         "jedwards@moody.net"
        ],
        [
         "1975-01-18T13:20:40.929+0000",
         "1975-01-18T13:19:04.457+0000",
         "Rochester",
         "NY",
         850.5,
         "UA000000103336187",
         "ronnieblankenship@yahoo.com"
        ],
        [
         "1975-01-18T05:58:46.285+0000",
         "1975-01-18T05:58:30.104+0000",
         "El Paso",
         "TX",
         1045,
         "UA000000103337255",
         "patelalyssa@gmail.com"
        ],
        [
         "1975-01-18T05:58:01.985+0000",
         "1975-01-18T05:56:50.846+0000",
         "Charleston",
         "IL",
         595,
         "UA000000103337847",
         "jacksonyvette@barton.net"
        ],
        [
         "1975-01-18T06:01:09.049+0000",
         "1975-01-18T05:59:24.081+0000",
         "Holdenville",
         "OK",
         1095,
         "UA000000103337996",
         "singhteresa@jones-phillips.org"
        ],
        [
         "1975-01-18T16:02:53.130+0000",
         "1975-01-18T16:02:41.213+0000",
         "Lubbock",
         "TX",
         1525.5,
         "UA000000103338931",
         "whitedouglas@hotmail.com"
        ],
        [
         "1975-01-18T14:45:14.076+0000",
         "1975-01-18T14:45:13.722+0000",
         "Medford",
         "OR",
         985.5,
         "UA000000103339095",
         "pgomez47@gmail.com"
        ],
        [
         "1975-01-18T06:04:13.009+0000",
         "1975-01-18T06:04:02.829+0000",
         "Quincy",
         "MA",
         595,
         "UA000000103339183",
         "alexandra26@hotmail.com"
        ],
        [
         "1975-01-18T06:05:32.962+0000",
         "1975-01-18T06:03:13.831+0000",
         "Lynwood",
         "CA",
         1354,
         "UA000000103339190",
         "jonescynthia@gmail.com"
        ],
        [
         "1975-01-18T13:32:09.246+0000",
         "1975-01-18T13:31:32.589+0000",
         "Flint",
         "MI",
         1075.5,
         "UA000000103339317",
         "wwilson@hotmail.com"
        ],
        [
         "1975-01-18T06:08:03.756+0000",
         "1975-01-18T06:06:27.384+0000",
         "Oxnard",
         "CA",
         1004,
         "UA000000103339405",
         "mayellen@reynolds.com"
        ],
        [
         "1975-01-18T12:37:36.450+0000",
         "1975-01-18T12:36:58.192+0000",
         "Aurora",
         "IL",
         535.5,
         "UA000000103340449",
         "brenda98@walker-brooks.com"
        ],
        [
         "1975-01-18T12:29:24.052+0000",
         "1975-01-18T12:27:44.435+0000",
         "Berkeley",
         "CA",
         71.10000000000001,
         "UA000000103340783",
         "underwoodelijah@gmail.com"
        ],
        [
         "1975-01-18T06:13:53.385+0000",
         "1975-01-18T06:11:57.232+0000",
         "Moreno Valley",
         "CA",
         59,
         "UA000000103341064",
         "twilliams@bailey.com"
        ],
        [
         "1975-01-18T06:03:42.560+0000",
         "1975-01-18T06:03:41.260+0000",
         "Jersey City",
         "NJ",
         1045,
         "UA000000103341182",
         "wolfjason@hotmail.com"
        ],
        [
         "1975-01-18T20:05:22.418+0000",
         "1975-01-18T20:05:21.042+0000",
         "St. Paul",
         "MN",
         535.5,
         "UA000000103341321",
         "jeremycox@yahoo.com"
        ],
        [
         "1975-01-18T14:06:55.369+0000",
         "1975-01-18T14:06:34.958+0000",
         "Conroe",
         "TX",
         940.5,
         "UA000000103341795",
         "johnsontodd@sullivan.org"
        ],
        [
         "1975-01-18T14:58:49.864+0000",
         "1975-01-18T14:54:27.810+0000",
         "Oakland",
         "CA",
         1128.6,
         "UA000000103342020",
         "petersanchez@russell.com"
        ],
        [
         "1975-01-18T13:51:25.726+0000",
         "1975-01-18T13:50:12.947+0000",
         "Livonia",
         "MI",
         850.5,
         "UA000000103342343",
         "sarahwilliams@miller.org"
        ],
        [
         "1975-01-18T06:07:42.249+0000",
         "1975-01-18T06:02:03.039+0000",
         "Beloit",
         "WI",
         1045,
         "UA000000103342384",
         "williamsmith78@gmail.com"
        ],
        [
         "1975-01-18T06:03:31.331+0000",
         "1975-01-18T06:03:12.696+0000",
         "Muncie",
         "IN",
         945,
         "UA000000103343314",
         "lynnrodriguez98@hotmail.com"
        ],
        [
         "1975-01-18T10:03:34.739+0000",
         "1975-01-18T10:00:30.952+0000",
         "Mendota",
         "CA",
         940.5,
         "UA000000103343527",
         "walterramirez@gmail.com"
        ],
        [
         "1975-01-18T14:06:24.167+0000",
         "1975-01-18T14:05:36.035+0000",
         "Beaumont",
         "CA",
         940.5,
         "UA000000103343793",
         "christinagibson96@yahoo.com"
        ],
        [
         "1975-01-18T06:05:57.948+0000",
         "1975-01-18T06:05:56.772+0000",
         "Denver",
         "CO",
         1195,
         "UA000000103344116",
         "tspears@solomon-santos.info"
        ],
        [
         "1975-01-18T06:16:08.243+0000",
         "1975-01-18T06:13:13.665+0000",
         "Philadelphia",
         "PA",
         1095,
         "UA000000103345376",
         "mdiaz51@hotmail.com"
        ],
        [
         "1975-01-18T12:27:28.879+0000",
         "1975-01-18T12:26:32.437+0000",
         "Bridgeton",
         "NJ",
         2061,
         "UA000000103345393",
         "valeriewoods@hotmail.com"
        ],
        [
         "1975-01-18T13:40:56.416+0000",
         "1975-01-18T13:39:49.957+0000",
         "Tucson",
         "AZ",
         940.5,
         "UA000000103345566",
         "trevor83@hotmail.com"
        ],
        [
         "1975-01-18T06:07:14.733+0000",
         "1975-01-18T06:07:06.263+0000",
         "Missouri City",
         "TX",
         1095,
         "UA000000103345620",
         "allenmolina@yahoo.com"
        ],
        [
         "1975-01-18T06:04:32.340+0000",
         "1975-01-18T06:04:13.907+0000",
         "Madison",
         "AL",
         945,
         "UA000000103345774",
         "monicataylor@hotmail.com"
        ],
        [
         "1975-01-18T09:39:46.413+0000",
         "1975-01-18T09:38:04.898+0000",
         "Texarkana",
         "TX",
         940.5,
         "UA000000103345827",
         "brownnathan@wagner-young.com"
        ],
        [
         "1975-01-18T06:06:48.381+0000",
         "1975-01-18T06:05:45.152+0000",
         "Fremont",
         "NE",
         1695,
         "UA000000103345904",
         "ujohnson@hall-chang.net"
        ],
        [
         "1975-01-18T14:37:15.892+0000",
         "1975-01-18T14:37:13.828+0000",
         "Long Beach",
         "CA",
         1881,
         "UA000000103345989",
         "jdunn87@gmail.com"
        ],
        [
         "1975-01-18T06:05:14.760+0000",
         "1975-01-18T06:04:35.802+0000",
         "Lancaster",
         "SC",
         1195,
         "UA000000103347187",
         "beckerjoanna@yahoo.com"
        ],
        [
         "1975-01-18T06:07:02.963+0000",
         "1975-01-18T06:04:29.670+0000",
         "Havana",
         "IL",
         1695,
         "UA000000103347953",
         "kennethscott@vaughn.biz"
        ],
        [
         "1975-01-18T06:10:30.137+0000",
         "1975-01-18T06:10:27.109+0000",
         "Davenport",
         "IA",
         595,
         "UA000000103348095",
         "iphillips91@gmail.com"
        ],
        [
         "1975-01-18T06:02:41.145+0000",
         "1975-01-18T06:02:08.700+0000",
         "Los Angeles",
         "CA",
         595,
         "UA000000103348802",
         "millseduardo@dyer.com"
        ],
        [
         "1975-01-18T06:03:34.980+0000",
         "1975-01-18T06:03:05.280+0000",
         "South El Monte",
         "CA",
         1045,
         "UA000000103348908",
         "villanuevarebecca@nicholson.com"
        ],
        [
         "1975-01-18T10:09:09.994+0000",
         "1975-01-18T10:06:29.708+0000",
         "Sparks",
         "NV",
         1128.6,
         "UA000000103349673",
         "patrickfoster@sparks.com"
        ],
        [
         "1975-01-18T13:08:05.095+0000",
         "1975-01-18T13:04:36.886+0000",
         "Houston",
         "TX",
         535.5,
         "UA000000103350757",
         "qjones@johnson.biz"
        ],
        [
         "1975-01-18T06:08:48.485+0000",
         "1975-01-18T06:08:47.371+0000",
         "Port Wentworth",
         "GA",
         595,
         "UA000000103350794",
         "aaronrandolph@gmail.com"
        ],
        [
         "1975-01-18T06:07:26.457+0000",
         "1975-01-18T06:07:24.453+0000",
         "Ferndale",
         "WA",
         595,
         "UA000000103352799",
         "ogonzalez29@yahoo.com"
        ],
        [
         "1975-01-18T06:07:15.473+0000",
         "1975-01-18T06:06:21.058+0000",
         "International Falls",
         "MN",
         1045,
         "UA000000103352837",
         "williamsbrian92@hotmail.com"
        ],
        [
         "1975-01-18T06:13:58.575+0000",
         "1975-01-18T06:13:49.553+0000",
         "Yuma",
         "AZ",
         1995,
         "UA000000103353457",
         "scott88@mendoza-arnold.com"
        ],
        [
         "1975-01-18T11:49:04.099+0000",
         "1975-01-18T11:48:56.863+0000",
         "La Habra",
         "CA",
         1525.5,
         "UA000000103353965",
         "joseph15@bradshaw-williams.org"
        ],
        [
         "1975-01-18T06:12:58.577+0000",
         "1975-01-18T06:11:41.353+0000",
         "Baton Rouge",
         "LA",
         1045,
         "UA000000103354592",
         "leetyler@mosley.com"
        ],
        [
         "1975-01-18T16:48:32.203+0000",
         "1975-01-18T16:48:26.131+0000",
         "Chicago",
         "IL",
         1075.5,
         "UA000000103355132",
         "samuel22@gonzales.com"
        ],
        [
         "1975-01-18T16:31:29.577+0000",
         "1975-01-18T16:31:29.368+0000",
         "Wyoming",
         "MI",
         957.6,
         "UA000000103355151",
         "blackburnalexis@martinez.com"
        ],
        [
         "1975-01-18T14:04:17.710+0000",
         "1975-01-18T14:02:16.794+0000",
         "Vista",
         "CA",
         850.5,
         "UA000000103355283",
         "todd43@lopez.com"
        ],
        [
         "1975-01-18T06:10:32.333+0000",
         "1975-01-18T06:10:31.537+0000",
         "Seattle",
         "WA",
         595,
         "UA000000103355452",
         "kcox12@hotmail.com"
        ],
        [
         "1975-01-18T09:34:21.177+0000",
         "1975-01-18T09:34:12.107+0000",
         "Las Cruces",
         "NM",
         921.6,
         "UA000000103356385",
         "angela90@gmail.com"
        ],
        [
         "1975-01-18T06:11:27.469+0000",
         "1975-01-18T06:11:23.909+0000",
         "Fayetteville",
         "NC",
         119,
         "UA000000103356544",
         "randall94@hotmail.com"
        ],
        [
         "1975-01-18T06:08:25.943+0000",
         "1975-01-18T06:05:43.835+0000",
         "East Orange",
         "NJ",
         595,
         "UA000000103356604",
         "debbie12@anderson-lee.com"
        ],
        [
         "1975-01-18T16:43:02.973+0000",
         "1975-01-18T16:42:31.327+0000",
         "Detroit",
         "MI",
         850.5,
         "UA000000103357201",
         "wangjennifer@schmidt.net"
        ],
        [
         "1975-01-18T06:12:13.211+0000",
         "1975-01-18T06:12:12.925+0000",
         "Lake Oswego",
         "OR",
         1045,
         "UA000000103357391",
         "websternicole@hotmail.com"
        ],
        [
         "1975-01-18T06:11:07.607+0000",
         "1975-01-18T06:11:06.867+0000",
         "South Daytona",
         "FL",
         595,
         "UA000000103357652",
         "christinamitchell@page-hall.com"
        ],
        [
         "1975-01-18T13:01:38.309+0000",
         "1975-01-18T12:55:37.053+0000",
         "Texarkana",
         "AR",
         535.5,
         "UA000000103358181",
         "cjimenez@best-jones.net"
        ],
        [
         "1975-01-18T06:08:06.791+0000",
         "1975-01-18T06:08:06.323+0000",
         "Fairmont",
         "WV",
         1045,
         "UA000000103358273",
         "ramosbonnie@yahoo.com"
        ],
        [
         "1975-01-18T06:20:45.031+0000",
         "1975-01-18T06:20:11.228+0000",
         "Anaheim",
         "CA",
         1095,
         "UA000000103359237",
         "gcortez7@gmail.com"
        ],
        [
         "1975-01-18T06:10:25.341+0000",
         "1975-01-18T06:09:56.763+0000",
         "Rancho Cordova",
         "CA",
         2319,
         "UA000000103359241",
         "sparker53@yahoo.com"
        ],
        [
         "1975-01-18T06:07:30.397+0000",
         "1975-01-18T06:06:54.930+0000",
         "Martin",
         "TN",
         1795,
         "UA000000103359318",
         "ferrellandre@levy.com"
        ],
        [
         "1975-01-18T06:14:00.816+0000",
         "1975-01-18T06:13:57.041+0000",
         "Myrtle Beach",
         "SC",
         945,
         "UA000000103359337",
         "kevin7942@yahoo.com"
        ],
        [
         "1975-01-18T06:10:54.692+0000",
         "1975-01-18T06:10:52.001+0000",
         "Burnet",
         "TX",
         945,
         "UA000000103359665",
         "rsweeney@roberts.com"
        ],
        [
         "1975-01-18T13:01:12.756+0000",
         "1975-01-18T13:01:12.469+0000",
         "Shenandoah",
         "IA",
         985.5,
         "UA000000103360414",
         "theresasawyer@good.com"
        ],
        [
         "1975-01-18T10:44:47.240+0000",
         "1975-01-18T10:44:39.806+0000",
         "Friendswood",
         "TX",
         850.5,
         "UA000000103360816",
         "gdixon77@yahoo.com"
        ],
        [
         "1975-01-18T06:15:29.532+0000",
         "1975-01-18T06:14:06.911+0000",
         "Sacramento",
         "CA",
         1064,
         "UA000000103361049",
         "umorgan@thomas.com"
        ],
        [
         "1975-01-18T06:18:15.091+0000",
         "1975-01-18T06:17:49.992+0000",
         "New York",
         "NY",
         1995,
         "UA000000103361625",
         "julia66@yahoo.com"
        ],
        [
         "1975-01-18T06:11:01.040+0000",
         "1975-01-18T06:10:51.744+0000",
         "El Paso",
         "TX",
         1045,
         "UA000000103361732",
         "louisrush@mclean-werner.com"
        ],
        [
         "1975-01-18T09:26:04.982+0000",
         "1975-01-18T09:20:51.960+0000",
         "North Richland Hills",
         "TX",
         535.5,
         "UA000000103361867",
         "angela1864@yahoo.com"
        ],
        [
         "1975-01-18T06:13:19.846+0000",
         "1975-01-18T06:12:36.010+0000",
         "Munising",
         "MI",
         1195,
         "UA000000103361895",
         "bmartinez54@hotmail.com"
        ],
        [
         "1975-01-18T14:47:32.111+0000",
         "1975-01-18T14:47:31.875+0000",
         "Chicago",
         "IL",
         606.6,
         "UA000000103361973",
         "millerjames29@gmail.com"
        ],
        [
         "1975-01-18T06:12:32.991+0000",
         "1975-01-18T06:11:58.736+0000",
         "Dallas",
         "TX",
         1045,
         "UA000000103362502",
         "longmichael@wilson.com"
        ],
        [
         "1975-01-18T06:10:47.495+0000",
         "1975-01-18T06:10:32.325+0000",
         "Everett",
         "WA",
         595,
         "UA000000103362748",
         "robbinsgregory@gmail.com"
        ],
        [
         "1975-01-18T13:19:46.955+0000",
         "1975-01-18T13:15:08.840+0000",
         "New York",
         "NY",
         1075.5,
         "UA000000103363253",
         "fklein69@yahoo.com"
        ],
        [
         "1975-01-18T06:13:16.317+0000",
         "1975-01-18T06:11:44.095+0000",
         "Phoenix",
         "AZ",
         1095,
         "UA000000103363500",
         "jacobsonjeffrey@gutierrez-brooks.com"
        ],
        [
         "1975-01-18T06:12:45.847+0000",
         "1975-01-18T06:12:11.049+0000",
         "Staunton",
         "IL",
         1995,
         "UA000000103363786",
         "gmercer@yahoo.com"
        ],
        [
         "1975-01-18T11:42:48.572+0000",
         "1975-01-18T11:42:45.817+0000",
         "Naples",
         "FL",
         850.5,
         "UA000000103364485",
         "gordonduran@hunter.com"
        ],
        [
         "1975-01-18T06:10:36.653+0000",
         "1975-01-18T06:10:33.255+0000",
         "Huber Heights",
         "OH",
         1795,
         "UA000000103364579",
         "tonyfields@allen.com"
        ],
        [
         "1975-01-18T06:14:49.087+0000",
         "1975-01-18T06:14:02.082+0000",
         "New York",
         "NY",
         1104,
         "UA000000103364908",
         "lesliemiller@hotmail.com"
        ],
        [
         "1975-01-18T12:53:36.045+0000",
         "1975-01-18T12:53:06.027+0000",
         "Alexandria",
         "VA",
         535.5,
         "UA000000103365112",
         "drivers@taylor-wright.org"
        ],
        [
         "1975-01-18T06:15:20.878+0000",
         "1975-01-18T06:15:16.906+0000",
         "Joliet",
         "IL",
         1095,
         "UA000000103367111",
         "mpark@flynn.com"
        ],
        [
         "1975-01-18T06:13:31.882+0000",
         "1975-01-18T06:12:39.763+0000",
         "Los Angeles",
         "CA",
         1045,
         "UA000000103367339",
         "bbutler@yahoo.com"
        ],
        [
         "1975-01-18T06:10:45.428+0000",
         "1975-01-18T06:08:03.808+0000",
         "Filer",
         "ID",
         595,
         "UA000000103367382",
         "ericrogers@scott.biz"
        ],
        [
         "1975-01-18T15:25:30.600+0000",
         "1975-01-18T15:25:17.950+0000",
         "New York",
         "NY",
         1075.5,
         "UA000000103367715",
         "davisbeth@yahoo.com"
        ],
        [
         "1975-01-18T06:14:36.117+0000",
         "1975-01-18T06:14:20.314+0000",
         "Ramsey",
         "MN",
         1045,
         "UA000000103368198",
         "nelsonconnie@hotmail.com"
        ],
        [
         "1975-01-18T06:13:06.540+0000",
         "1975-01-18T06:12:31.163+0000",
         "Bountiful",
         "UT",
         1095,
         "UA000000103368742",
         "kenneth1554@hotmail.com"
        ],
        [
         "1975-01-18T12:47:16.050+0000",
         "1975-01-18T12:47:01.276+0000",
         "Grand Junction",
         "CO",
         1615.5,
         "UA000000103368922",
         "stephaniemitchell@hotmail.com"
        ],
        [
         "1975-01-18T13:06:40.034+0000",
         "1975-01-18T13:06:29.511+0000",
         "Titusville",
         "FL",
         535.5,
         "UA000000103369245",
         "kevin944@yahoo.com"
        ],
        [
         "1975-01-18T06:16:36.100+0000",
         "1975-01-18T06:13:19.351+0000",
         "Chandler",
         "AZ",
         1195,
         "UA000000103369448",
         "allenshepard@gmail.com"
        ],
        [
         "1975-01-18T06:18:14.485+0000",
         "1975-01-18T06:18:13.874+0000",
         "Providence",
         "RI",
         1045,
         "UA000000103369672",
         "johnsonjames@dunn.com"
        ],
        [
         "1975-01-18T06:11:32.726+0000",
         "1975-01-18T06:11:16.679+0000",
         "Hialeah",
         "FL",
         945,
         "UA000000103370574",
         "elizabeth81@yahoo.com"
        ],
        [
         "1975-01-18T10:53:07.926+0000",
         "1975-01-18T10:53:07.106+0000",
         "Hammond",
         "IN",
         940.5,
         "UA000000103371633",
         "davidnolan@yahoo.com"
        ]
       ],
       "datasetInfos": [],
       "dbfsResultPath": null,
       "isJsonSchema": true,
       "overflow": true,
       "plotOptions": {
        "customPlotOptions": {},
        "displayType": "table",
        "pivotAggregation": null,
        "pivotColumns": null,
        "xColumns": null,
        "yColumns": null
       },
       "removedWidgets": [],
       "schema": [
        {
         "metadata": "{}",
         "name": "eventDate",
         "type": "\"timestamp\""
        },
        {
         "metadata": "{}",
         "name": "previousEventDate",
         "type": "\"timestamp\""
        },
        {
         "metadata": "{}",
         "name": "city",
         "type": "\"string\""
        },
        {
         "metadata": "{}",
         "name": "state",
         "type": "\"string\""
        },
        {
         "metadata": "{}",
         "name": "purchases",
         "type": "\"double\""
        },
        {
         "metadata": "{}",
         "name": "userId",
         "type": "\"string\""
        },
        {
         "metadata": "{}",
         "name": "email",
         "type": "\"string\""
        }
       ],
       "type": "table"
      }
     },
     "output_type": "display_data"
    }
   ],
   "source": [
    "%sql\n",
    "SELECT * FROM withEmails "
   ]
  },
  {
   "cell_type": "markdown",
   "metadata": {
    "application/vnd.databricks.v1+cell": {
     "inputWidgets": {},
     "nuid": "4ad29667-4200-460a-9952-7bbba4dde8aa",
     "showTitle": false,
     "title": ""
    }
   },
   "source": [
    "##### Do we have unique emails and ids:"
   ]
  },
  {
   "cell_type": "code",
   "execution_count": 0,
   "metadata": {
    "application/vnd.databricks.v1+cell": {
     "inputWidgets": {},
     "nuid": "e06987c6-c5b3-4458-b509-dc5c69fe03ff",
     "showTitle": false,
     "title": ""
    }
   },
   "outputs": [
    {
     "data": {
      "text/html": [
       "<style scoped>\n",
       "  .table-result-container {\n",
       "    max-height: 300px;\n",
       "    overflow: auto;\n",
       "  }\n",
       "  table, th, td {\n",
       "    border: 1px solid black;\n",
       "    border-collapse: collapse;\n",
       "  }\n",
       "  th, td {\n",
       "    padding: 5px;\n",
       "  }\n",
       "  th {\n",
       "    text-align: left;\n",
       "  }\n",
       "</style><div class='table-result-container'><table class='table-result'><thead style='background-color: white'><tr><th>count(DISTINCT email)</th><th>count(DISTINCT userId)</th></tr></thead><tbody><tr><td>180678</td><td>180678</td></tr></tbody></table></div>"
      ]
     },
     "metadata": {
      "application/vnd.databricks.v1+output": {
       "addedWidgets": {},
       "aggData": [],
       "aggError": "",
       "aggOverflow": false,
       "aggSchema": [],
       "aggSeriesLimitReached": false,
       "aggType": "",
       "arguments": {},
       "columnCustomDisplayInfos": {},
       "data": [
        [
         180678,
         180678
        ]
       ],
       "datasetInfos": [],
       "dbfsResultPath": null,
       "isJsonSchema": true,
       "overflow": false,
       "plotOptions": {
        "customPlotOptions": {},
        "displayType": "table",
        "pivotAggregation": null,
        "pivotColumns": null,
        "xColumns": null,
        "yColumns": null
       },
       "removedWidgets": [],
       "schema": [
        {
         "metadata": "{}",
         "name": "count(DISTINCT email)",
         "type": "\"long\""
        },
        {
         "metadata": "{}",
         "name": "count(DISTINCT userId)",
         "type": "\"long\""
        }
       ],
       "type": "table"
      }
     },
     "output_type": "display_data"
    }
   ],
   "source": [
    "%sql\n",
    "select count(distinct email), count(distinct userId) from withEmails"
   ]
  },
  {
   "cell_type": "code",
   "execution_count": 0,
   "metadata": {
    "application/vnd.databricks.v1+cell": {
     "inputWidgets": {},
     "nuid": "22c0ffcd-c3e5-4b62-a551-793c752105b2",
     "showTitle": false,
     "title": ""
    }
   },
   "outputs": [],
   "source": [
    "%run ../Includes/Classroom-Cleanup\n"
   ]
  },
  {
   "cell_type": "markdown",
   "metadata": {
    "application/vnd.databricks.v1+cell": {
     "inputWidgets": {},
     "nuid": "a982115c-0390-4167-8486-f5aac3639c6c",
     "showTitle": false,
     "title": ""
    }
   },
   "source": [
    "-sandbox\n",
    "&copy; 2020 Databricks, Inc. All rights reserved.<br/>\n",
    "Apache, Apache Spark, Spark and the Spark logo are trademarks of the <a href=\"http://www.apache.org/\">Apache Software Foundation</a>.<br/>\n",
    "<br/>\n",
    "<a href=\"https://databricks.com/privacy-policy\">Privacy Policy</a> | <a href=\"https://databricks.com/terms-of-use\">Terms of Use</a> | <a href=\"http://help.databricks.com/\">Support</a>"
   ]
  }
 ],
 "metadata": {
  "application/vnd.databricks.v1+notebook": {
   "dashboards": [],
   "language": "python",
   "notebookName": "5.3 Lab - Data Munging",
   "notebookOrigID": 3431324887126592,
   "widgets": {}
  },
  "kernelspec": {
   "display_name": "Python 3",
   "language": "python",
   "name": "python3"
  },
  "language_info": {
   "codemirror_mode": {
    "name": "ipython",
    "version": 3
   },
   "file_extension": ".py",
   "mimetype": "text/x-python",
   "name": "python",
   "nbconvert_exporter": "python",
   "pygments_lexer": "ipython3",
   "version": "3.8.3"
  }
 },
 "nbformat": 4,
 "nbformat_minor": 1
}
