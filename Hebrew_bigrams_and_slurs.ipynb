{
  "nbformat": 4,
  "nbformat_minor": 0,
  "metadata": {
    "colab": {
      "name": "Copy of Hebrew bigrams and slurs.ipynb",
      "private_outputs": true,
      "provenance": [],
      "collapsed_sections": [],
      "machine_shape": "hm",
      "include_colab_link": true
    },
    "kernelspec": {
      "name": "python3",
      "display_name": "Python 3"
    },
    "accelerator": "GPU"
  },
  "cells": [
    {
      "cell_type": "markdown",
      "metadata": {
        "id": "view-in-github",
        "colab_type": "text"
      },
      "source": [
        "<a href=\"https://colab.research.google.com/github/Galina-Blokh/data_analysts_specialization./blob/main/Hebrew_bigrams_and_slurs.ipynb\" target=\"_parent\"><img src=\"https://colab.research.google.com/assets/colab-badge.svg\" alt=\"Open In Colab\"/></a>"
      ]
    },
    {
      "cell_type": "code",
      "metadata": {
        "id": "71IibbarXjJb"
      },
      "source": [
        "!pip install umap-learn\n",
        "!pip install hdbscan\n",
        "!wget --no-check-certificate -nc https://drive.google.com/uc?id=1xZbnVEFVSS1zSQ6a9FH1-_GgDM3AH3wr -O mwevectors\n",
        "!wget --no-check-certificate -nc https://drive.google.com/uc?id=1OVMKK5RPhRPm5GxGunvFytnJktkc6yr9 -O mwevectors.vectors.npy\n",
        "!wget --no-check-certificate -nc https://drive.google.com/uc?id=1DRk-ziMGop5fIYdnq2yk6IBJOughW9_W -O mwevectors_filter_prefix\n",
        "!wget --no-check-certificate -nc https://drive.google.com/uc?id=1xP74-90nOfTjlABs3ntsWcfCt6syZEMJ -O mwevectors_filter_prefix.vectors.npy"
      ],
      "execution_count": null,
      "outputs": []
    },
    {
      "cell_type": "code",
      "metadata": {
        "id": "M_c6Q6H76ECc"
      },
      "source": [
        "from gensim.models import KeyedVectors\n",
        "wv_model_with_prefix = KeyedVectors.load('mwevectors')\n",
        "wv_model = KeyedVectors.load('mwevectors_filter_prefix')\n",
        "print(len(wv_model_with_prefix.index2word))\n",
        "print(len(wv_model.index2word))"
      ],
      "execution_count": null,
      "outputs": []
    },
    {
      "cell_type": "code",
      "metadata": {
        "id": "8bj2CMWaKrK6"
      },
      "source": [
        "print(wv_model.index2word[:15])"
      ],
      "execution_count": null,
      "outputs": []
    },
    {
      "cell_type": "code",
      "metadata": {
        "id": "ftzljiz9FOpR"
      },
      "source": [
        "import sklearn.cluster as cluster_algo\n",
        "import numpy as np\n",
        "\n",
        "def cluster_save(wv_model, n_clusters, limit=None):\n",
        "    words = wv_model.index2word\n",
        "    vectors = wv_model.vectors[:limit]\n",
        "\n",
        "    labels = cluster_algo.KMeans(n_clusters=n_clusters).fit_predict(vectors)\n",
        "    with open('clusters.txt', 'w', encoding='utf-8') as f:\n",
        "        for cluster in range(max(labels)+1):\n",
        "            if cluster in labels:\n",
        "                s = str(cluster) + ': '\n",
        "                for index in np.argwhere(labels == cluster):\n",
        "                    s += words[int(index)] + ', '\n",
        "                f.write(s+'\\n')\n",
        "                print(s)\n",
        "    return labels"
      ],
      "execution_count": null,
      "outputs": []
    },
    {
      "cell_type": "code",
      "metadata": {
        "id": "VF-zTIDfiuXx"
      },
      "source": [
        "clusters = cluster_save(wv_model, 10, limit=100)"
      ],
      "execution_count": null,
      "outputs": []
    },
    {
      "cell_type": "code",
      "metadata": {
        "id": "5hnYHDMO6Pij"
      },
      "source": [
        "import umap\n",
        "from matplotlib import pyplot as plt\n",
        "import matplotlib.cm as cm\n",
        "\n",
        "def umap_plot(wv_model, clusters=None, limit=None):\n",
        "    words = wv_model.index2word\n",
        "    vectors = wv_model.vectors[:limit]\n",
        "\n",
        "    umap_model = umap.UMAP(n_neighbors=15, random_state=42, metric='cosine')\n",
        "    low_dim = umap_model.fit_transform(vectors)\n",
        "    \n",
        "    plt.figure(figsize=(18, 18)) \n",
        "    for i, xy in enumerate(low_dim):\n",
        "        cmap = None\n",
        "        if clusters is not None and i<len(clusters):\n",
        "          cmap = cm.jet(clusters[i]/len(set(clusters[:limit])))\n",
        "        plt.scatter(*xy, color=cmap)\n",
        "        plt.annotate(words[i][::-1],\n",
        "                     xy=xy,\n",
        "                     xytext=(5, 2),\n",
        "                     textcoords='offset points',\n",
        "                     ha='right',\n",
        "                     va='bottom')\n",
        "    plt.show()\n",
        "    return low_dim\n",
        "    "
      ],
      "execution_count": null,
      "outputs": []
    },
    {
      "cell_type": "code",
      "metadata": {
        "id": "2njiKZOe7VIr"
      },
      "source": [
        "low_dim = umap_plot(wv_model, clusters, limit=100)"
      ],
      "execution_count": null,
      "outputs": []
    },
    {
      "cell_type": "markdown",
      "metadata": {
        "id": "w7hE8yJOqql_"
      },
      "source": [
        "###קטע מתוך השיר\n",
        "#\"אלחושך הפריעיה\"\n",
        "###מאת איל גרוס\n",
        "###מסרים שקיבלתי מצבא האריות של הצל\n",
        "###(בשינוי סדר)\n",
        "---\n",
        "#לא רק ל-יפרצופי זין\n",
        "#ול-ישמאלנים זין\n",
        "#ול-ישרמוטות שמאלנים\n",
        "#ול-יבני זונות שמאלנים מסריחים\n",
        "#ול-ימחבלים מסריחים\n",
        "#ול-ישרמוטות שמאלנים מסריחים וטיפשים\n",
        "#ול-יחתיכות דפוקים טיפשים\n",
        "#ול-יחתיכות קוקסינלים\n",
        "#ול-יחתיכות טמבלים\n",
        "#ול-יטמבלים אוהבי ערבים\n"
      ]
    },
    {
      "cell_type": "code",
      "metadata": {
        "id": "2zYGngSHkdaJ"
      },
      "source": [
        "bad_words = ['דפוק','טיפש','מסריח','זין']\n",
        "bad_bigrams = [w for w in wv_model.index2word if any(b in w for b in bad_words)]\n",
        "print(len(bad_bigrams))\n",
        "print(bad_bigrams)"
      ],
      "execution_count": null,
      "outputs": []
    },
    {
      "cell_type": "code",
      "metadata": {
        "id": "m7nwrVXVmr1n"
      },
      "source": [
        "bad_words = ['זונה','זונות','שרמוט','מזדיי','טמבל']\n",
        "bad_bigrams = [w for w in wv_model.index2word if any(b in w for b in bad_words)]\n",
        "print(len(bad_bigrams))\n",
        "print(bad_bigrams)"
      ],
      "execution_count": null,
      "outputs": []
    },
    {
      "cell_type": "code",
      "metadata": {
        "id": "rssTPpMdnCSU"
      },
      "source": [
        "print(bad_bigrams[0])\n",
        "wv_model.most_similar(bad_bigrams[0],topn=10)"
      ],
      "execution_count": null,
      "outputs": []
    },
    {
      "cell_type": "code",
      "metadata": {
        "id": "wl15XKIanXma"
      },
      "source": [
        "# using shared neighbors to get higher precision \n",
        "# https://imada.sdu.dk/~zimek/publications/SSDBM2010/SNN-SSDBM2010-preprint.pdf\n",
        "from collections import Counter\n",
        "more_bad = bad_bigrams.copy()\n",
        "for bad in bad_bigrams:\n",
        "  more_bad += [n[0] for n in wv_model.most_similar(bad, topn=10)]\n",
        "bad_candidates = Counter(more_bad)\n",
        "bad_candidates.most_common()"
      ],
      "execution_count": null,
      "outputs": []
    },
    {
      "cell_type": "code",
      "metadata": {
        "id": "iZSCWTT1oz35"
      },
      "source": [
        "new_bad = set([k for k,v in bad_candidates.items() if v>=4]+bad_bigrams)\n",
        "print(len(new_bad))\n",
        "print(new_bad)"
      ],
      "execution_count": null,
      "outputs": []
    },
    {
      "cell_type": "code",
      "metadata": {
        "id": "PHI0LqXbwpzr"
      },
      "source": [
        "print(new_bad-set(bad_bigrams))"
      ],
      "execution_count": null,
      "outputs": []
    },
    {
      "cell_type": "code",
      "metadata": {
        "id": "hlOflCNcvBv8"
      },
      "source": [
        "more_bad2 = [b for b in more_bad if b in new_bad]\n",
        "for bad in new_bad:\n",
        "  more_bad2 += [n[0] for n in wv_model.most_similar(bad, topn=10)]\n",
        "bad_candidates2 = Counter(more_bad2)\n",
        "bad_candidates2.most_common()"
      ],
      "execution_count": null,
      "outputs": []
    },
    {
      "cell_type": "code",
      "metadata": {
        "id": "cGgIjbSbwKGl"
      },
      "source": [
        "new_bad2 = set([k for k,v in bad_candidates2.items() if v>=4])|new_bad\n",
        "print(len(new_bad2))\n",
        "print(new_bad2)"
      ],
      "execution_count": null,
      "outputs": []
    },
    {
      "cell_type": "code",
      "metadata": {
        "id": "bhLfYSYOwkHh"
      },
      "source": [
        "print(new_bad2-new_bad)"
      ],
      "execution_count": null,
      "outputs": []
    }
  ]
}