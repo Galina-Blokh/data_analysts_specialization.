{
 "cells": [
  {
   "cell_type": "markdown",
   "metadata": {
    "application/vnd.databricks.v1+cell": {
     "inputWidgets": {},
     "nuid": "549b9d99-a6d0-48bf-8891-b5f52ac43dee",
     "showTitle": false,
     "title": ""
    }
   },
   "source": [
    "d-sandbox\n",
    "\n",
    "<div style=\"text-align: center; line-height: 0; padding-top: 9px;\">\n",
    "  <img src=\"https://databricks.com/wp-content/uploads/2018/03/db-academy-rgb-1200px.png\" alt=\"Databricks Learning\" style=\"width: 600px\">\n",
    "</div>"
   ]
  },
  {
   "cell_type": "markdown",
   "metadata": {
    "application/vnd.databricks.v1+cell": {
     "inputWidgets": {},
     "nuid": "fe82f3f4-f9ea-44b1-92fe-2fcb1004a9b0",
     "showTitle": false,
     "title": ""
    }
   },
   "source": [
    "# Lab 1 - Exploratory Data Analysis\n",
    "## Module 3 Assignment\n",
    "\n",
    "## ![Spark Logo Tiny](https://files.training.databricks.com/images/105/logo_spark_tiny.png) In this assignment you will: </br>\n",
    "\n",
    "* Create tables\n",
    "* Create temporary views\n",
    "* Write basic SQL queries to explore, manipulate, and present data\n",
    "* Join two views and visualize the result\n",
    "\n",
    "As you work through these exercises, you will be prompted to enter selected answers in Coursera. Find the quiz associated with this lab to enter your answers. \n",
    "\n",
    "Run the cell below to prepare this workspace for the lab."
   ]
  },
  {
   "cell_type": "code",
   "execution_count": 0,
   "metadata": {
    "application/vnd.databricks.v1+cell": {
     "inputWidgets": {},
     "nuid": "57c49133-68df-4408-afa1-0ee2eab16dc2",
     "showTitle": false,
     "title": ""
    }
   },
   "outputs": [
    {
     "data": {
      "text/html": [
       "Mounting course-specific datasets to <b>/mnt/training</b>...</br>Datasets are already mounted to <b>/mnt/training</b> from <b>s3a://databricks-corp-training/common</b>"
      ]
     },
     "metadata": {
      "application/vnd.databricks.v1+output": {
       "addedWidgets": {},
       "arguments": {},
       "data": "Mounting course-specific datasets to <b>/mnt/training</b>...</br>Datasets are already mounted to <b>/mnt/training</b> from <b>s3a://databricks-corp-training/common</b>",
       "datasetInfos": [],
       "removedWidgets": [],
       "textData": null,
       "type": "htmlSandbox"
      }
     },
     "output_type": "display_data"
    },
    {
     "data": {
      "text/html": [
       "<style scoped>\n",
       "  .ansiout {\n",
       "    display: block;\n",
       "    unicode-bidi: embed;\n",
       "    white-space: pre-wrap;\n",
       "    word-wrap: break-word;\n",
       "    word-break: break-all;\n",
       "    font-family: \"Source Code Pro\", \"Menlo\", monospace;;\n",
       "    font-size: 13px;\n",
       "    color: #555;\n",
       "    margin-left: 4px;\n",
       "    line-height: 19px;\n",
       "  }\n",
       "</style>\n",
       "<div class=\"ansiout\">res13: Boolean = false\n",
       "</div>"
      ]
     },
     "metadata": {
      "application/vnd.databricks.v1+output": {
       "addedWidgets": {},
       "arguments": {},
       "data": "<div class=\"ansiout\">res13: Boolean = false\n</div>",
       "datasetInfos": [],
       "removedWidgets": [],
       "type": "html"
      }
     },
     "output_type": "display_data"
    },
    {
     "data": {
      "text/html": [
       "<style scoped>\n",
       "  .ansiout {\n",
       "    display: block;\n",
       "    unicode-bidi: embed;\n",
       "    white-space: pre-wrap;\n",
       "    word-wrap: break-word;\n",
       "    word-break: break-all;\n",
       "    font-family: \"Source Code Pro\", \"Menlo\", monospace;;\n",
       "    font-size: 13px;\n",
       "    color: #555;\n",
       "    margin-left: 4px;\n",
       "    line-height: 19px;\n",
       "  }\n",
       "</style>\n",
       "<div class=\"ansiout\">res14: Boolean = false\n",
       "</div>"
      ]
     },
     "metadata": {
      "application/vnd.databricks.v1+output": {
       "addedWidgets": {},
       "arguments": {},
       "data": "<div class=\"ansiout\">res14: Boolean = false\n</div>",
       "datasetInfos": [],
       "removedWidgets": [],
       "type": "html"
      }
     },
     "output_type": "display_data"
    }
   ],
   "source": [
    "%run ../Includes/Classroom-Setup"
   ]
  },
  {
   "cell_type": "markdown",
   "metadata": {
    "application/vnd.databricks.v1+cell": {
     "inputWidgets": {},
     "nuid": "10e581ea-11cf-4623-8e8c-9688cdae060a",
     "showTitle": false,
     "title": ""
    }
   },
   "source": [
    "## Working with Retail Data\n",
    "For this assignment,\n",
    "we'll be working with a generated dataset meant to mimic data collected for online retail transactions. It was added to your workspace when you ran the previous cell. You can use the following path to access the data: \n",
    "`/mnt/training/online_retail/data-001/data.csv`"
   ]
  },
  {
   "cell_type": "markdown",
   "metadata": {
    "application/vnd.databricks.v1+cell": {
     "inputWidgets": {},
     "nuid": "371ba190-8574-45b4-9bd5-5b8b8b5be011",
     "showTitle": false,
     "title": ""
    }
   },
   "source": [
    "## Exercise 1:  Create a table\n",
    "Summary: Create a new table named `outdoorProducts` with the following schema: \n",
    "\n",
    "\n",
    "|Column Name | Type |\n",
    "| ---------- | ---- |\n",
    "|invoiceNo   | STRING |\n",
    "|stockCode   | STRING |\n",
    "|description | STRING |\n",
    "|quantity    | INT |\n",
    "|invoiceDate | STRING|\n",
    "|unitPrice  | DOUBLE | \n",
    "|customerID  | INT |\n",
    "|countryName | STRING|\n",
    "\n",
    "Steps to complete: \n",
    "* Make sure this notebook is idempotent by dropping any tables that have the name `outdoorProducts`\n",
    "* Use `csv` as the specified data source\n",
    "* Use the path provided above to access the data\n",
    "* This data contains a header; include that in your table creation statement"
   ]
  },
  {
   "cell_type": "code",
   "execution_count": 0,
   "metadata": {
    "application/vnd.databricks.v1+cell": {
     "inputWidgets": {},
     "nuid": "6829649d-2547-4633-91a2-e8017d6d9f85",
     "showTitle": false,
     "title": ""
    }
   },
   "outputs": [
    {
     "data": {
      "text/html": [
       "<style scoped>\n",
       "  .table-result-container {\n",
       "    max-height: 300px;\n",
       "    overflow: auto;\n",
       "  }\n",
       "  table, th, td {\n",
       "    border: 1px solid black;\n",
       "    border-collapse: collapse;\n",
       "  }\n",
       "  th, td {\n",
       "    padding: 5px;\n",
       "  }\n",
       "  th {\n",
       "    text-align: left;\n",
       "  }\n",
       "</style><div class='table-result-container'><table class='table-result'><thead style='background-color: white'><tr></tr></thead><tbody></tbody></table></div>"
      ]
     },
     "metadata": {
      "application/vnd.databricks.v1+output": {
       "addedWidgets": {},
       "aggData": [],
       "aggError": "",
       "aggOverflow": false,
       "aggSchema": [],
       "aggSeriesLimitReached": false,
       "aggType": "",
       "arguments": {},
       "columnCustomDisplayInfos": {},
       "data": [],
       "datasetInfos": [],
       "dbfsResultPath": null,
       "isJsonSchema": true,
       "overflow": false,
       "plotOptions": {
        "customPlotOptions": {},
        "displayType": "table",
        "pivotAggregation": null,
        "pivotColumns": null,
        "xColumns": null,
        "yColumns": null
       },
       "removedWidgets": [],
       "schema": [],
       "type": "table"
      }
     },
     "output_type": "display_data"
    }
   ],
   "source": [
    "%sql\n",
    "\n",
    "DROP TABLE IF EXISTS OutdoorProducts;\n",
    "CREATE TABLE OutdoorProducts (\n",
    "invoiceNo STRING,\n",
    "stockCode STRING,\n",
    "description STRING,\n",
    "quantity INT,\n",
    "invoiceDate STRING,\n",
    "unitPrice DOUBLE,\n",
    "customerID INT,\n",
    "countryName STRING\n",
    ") USING csv OPTIONS(\n",
    "PATH \"/mnt/training/online_retail/data-001/data.csv\",\n",
    "header \"true\")"
   ]
  },
  {
   "cell_type": "markdown",
   "metadata": {
    "application/vnd.databricks.v1+cell": {
     "inputWidgets": {},
     "nuid": "2225883d-654d-4508-9015-40e1769cb25c",
     "showTitle": false,
     "title": ""
    }
   },
   "source": [
    "##### Let's make a small preview on this data"
   ]
  },
  {
   "cell_type": "code",
   "execution_count": 0,
   "metadata": {
    "application/vnd.databricks.v1+cell": {
     "inputWidgets": {},
     "nuid": "722e3eef-d99a-4b95-8221-c9b680bd6523",
     "showTitle": false,
     "title": ""
    }
   },
   "outputs": [
    {
     "data": {
      "text/html": [
       "<style scoped>\n",
       "  .table-result-container {\n",
       "    max-height: 300px;\n",
       "    overflow: auto;\n",
       "  }\n",
       "  table, th, td {\n",
       "    border: 1px solid black;\n",
       "    border-collapse: collapse;\n",
       "  }\n",
       "  th, td {\n",
       "    padding: 5px;\n",
       "  }\n",
       "  th {\n",
       "    text-align: left;\n",
       "  }\n",
       "</style><div class='table-result-container'><table class='table-result'><thead style='background-color: white'><tr><th>invoiceNo</th><th>stockCode</th><th>description</th><th>quantity</th><th>invoiceDate</th><th>unitPrice</th><th>customerID</th><th>countryName</th></tr></thead><tbody><tr><td>536365</td><td>85123A</td><td>WHITE HANGING HEART T-LIGHT HOLDER</td><td>6</td><td>12/1/10 8:26</td><td>2.55</td><td>17850</td><td>United Kingdom</td></tr><tr><td>536365</td><td>71053</td><td>WHITE METAL LANTERN</td><td>6</td><td>12/1/10 8:26</td><td>3.39</td><td>17850</td><td>United Kingdom</td></tr><tr><td>536365</td><td>84406B</td><td>CREAM CUPID HEARTS COAT HANGER</td><td>8</td><td>12/1/10 8:26</td><td>2.75</td><td>17850</td><td>United Kingdom</td></tr><tr><td>536365</td><td>84029G</td><td>KNITTED UNION FLAG HOT WATER BOTTLE</td><td>6</td><td>12/1/10 8:26</td><td>3.39</td><td>17850</td><td>United Kingdom</td></tr><tr><td>536365</td><td>84029E</td><td>RED WOOLLY HOTTIE WHITE HEART.</td><td>6</td><td>12/1/10 8:26</td><td>3.39</td><td>17850</td><td>United Kingdom</td></tr></tbody></table></div>"
      ]
     },
     "metadata": {
      "application/vnd.databricks.v1+output": {
       "addedWidgets": {},
       "aggData": [],
       "aggError": "",
       "aggOverflow": false,
       "aggSchema": [],
       "aggSeriesLimitReached": false,
       "aggType": "",
       "arguments": {},
       "columnCustomDisplayInfos": {},
       "data": [
        [
         "536365",
         "85123A",
         "WHITE HANGING HEART T-LIGHT HOLDER",
         6,
         "12/1/10 8:26",
         2.55,
         17850,
         "United Kingdom"
        ],
        [
         "536365",
         "71053",
         "WHITE METAL LANTERN",
         6,
         "12/1/10 8:26",
         3.39,
         17850,
         "United Kingdom"
        ],
        [
         "536365",
         "84406B",
         "CREAM CUPID HEARTS COAT HANGER",
         8,
         "12/1/10 8:26",
         2.75,
         17850,
         "United Kingdom"
        ],
        [
         "536365",
         "84029G",
         "KNITTED UNION FLAG HOT WATER BOTTLE",
         6,
         "12/1/10 8:26",
         3.39,
         17850,
         "United Kingdom"
        ],
        [
         "536365",
         "84029E",
         "RED WOOLLY HOTTIE WHITE HEART.",
         6,
         "12/1/10 8:26",
         3.39,
         17850,
         "United Kingdom"
        ]
       ],
       "datasetInfos": [],
       "dbfsResultPath": null,
       "isJsonSchema": true,
       "overflow": false,
       "plotOptions": {
        "customPlotOptions": {},
        "displayType": "table",
        "pivotAggregation": null,
        "pivotColumns": null,
        "xColumns": null,
        "yColumns": null
       },
       "removedWidgets": [],
       "schema": [
        {
         "metadata": "{}",
         "name": "invoiceNo",
         "type": "\"string\""
        },
        {
         "metadata": "{}",
         "name": "stockCode",
         "type": "\"string\""
        },
        {
         "metadata": "{}",
         "name": "description",
         "type": "\"string\""
        },
        {
         "metadata": "{}",
         "name": "quantity",
         "type": "\"integer\""
        },
        {
         "metadata": "{}",
         "name": "invoiceDate",
         "type": "\"string\""
        },
        {
         "metadata": "{}",
         "name": "unitPrice",
         "type": "\"double\""
        },
        {
         "metadata": "{}",
         "name": "customerID",
         "type": "\"integer\""
        },
        {
         "metadata": "{}",
         "name": "countryName",
         "type": "\"string\""
        }
       ],
       "type": "table"
      }
     },
     "output_type": "display_data"
    }
   ],
   "source": [
    "%sql\n",
    "SELECT * FROM OutdoorProducts LIMIT 5"
   ]
  },
  {
   "cell_type": "markdown",
   "metadata": {
    "application/vnd.databricks.v1+cell": {
     "inputWidgets": {},
     "nuid": "f909ec45-517a-4a0d-8e22-a6d422cfcdb7",
     "showTitle": false,
     "title": ""
    }
   },
   "source": [
    "## Exercise 2: Explore the data\n",
    "\n",
    "**Summary:** Count the number of items that have a negative `quantity`\n",
    "\n",
    "This table keeps track of online transactions, including returns. Some of the quantities in the `quantity` column show a negative number. Run a query that counts then number of negative values in the `quantity` column. \n",
    "\n",
    "Steps to complete: \n",
    "* Write a query that reports the number of values less than 0 in the `quantity` column\n",
    "* **Report the answer in the corresponding quiz in Coursera**"
   ]
  },
  {
   "cell_type": "code",
   "execution_count": 0,
   "metadata": {
    "application/vnd.databricks.v1+cell": {
     "inputWidgets": {},
     "nuid": "bdd402d7-787f-4ad6-8f42-446c6611cb7f",
     "showTitle": false,
     "title": ""
    }
   },
   "outputs": [
    {
     "data": {
      "text/html": [
       "<style scoped>\n",
       "  .table-result-container {\n",
       "    max-height: 300px;\n",
       "    overflow: auto;\n",
       "  }\n",
       "  table, th, td {\n",
       "    border: 1px solid black;\n",
       "    border-collapse: collapse;\n",
       "  }\n",
       "  th, td {\n",
       "    padding: 5px;\n",
       "  }\n",
       "  th {\n",
       "    text-align: left;\n",
       "  }\n",
       "</style><div class='table-result-container'><table class='table-result'><thead style='background-color: white'><tr><th>lessZeroQuantity</th></tr></thead><tbody><tr><td>1192</td></tr></tbody></table></div>"
      ]
     },
     "metadata": {
      "application/vnd.databricks.v1+output": {
       "addedWidgets": {},
       "aggData": [],
       "aggError": "",
       "aggOverflow": false,
       "aggSchema": [],
       "aggSeriesLimitReached": false,
       "aggType": "",
       "arguments": {},
       "columnCustomDisplayInfos": {},
       "data": [
        [
         1192
        ]
       ],
       "datasetInfos": [],
       "dbfsResultPath": null,
       "isJsonSchema": true,
       "overflow": false,
       "plotOptions": {
        "customPlotOptions": {},
        "displayType": "table",
        "pivotAggregation": null,
        "pivotColumns": null,
        "xColumns": null,
        "yColumns": null
       },
       "removedWidgets": [],
       "schema": [
        {
         "metadata": "{}",
         "name": "lessZeroQuantity",
         "type": "\"long\""
        }
       ],
       "type": "table"
      }
     },
     "output_type": "display_data"
    }
   ],
   "source": [
    "%sql\n",
    "\n",
    "SELECT COUNT(quantity) \n",
    "AS lessZeroQuantity\n",
    "FROM OutdoorProducts\n",
    "WHERE quantity < 0"
   ]
  },
  {
   "cell_type": "markdown",
   "metadata": {
    "application/vnd.databricks.v1+cell": {
     "inputWidgets": {},
     "nuid": "0c4adc74-e00e-410d-8988-81a6e0757573",
     "showTitle": false,
     "title": ""
    }
   },
   "source": [
    "## Exercise 3: Create a temporary view\n",
    "\n",
    "**Summary:** Create a temporary view that includes only the specified columns and rows, and uses math to create a new column. \n",
    "\n",
    "**Steps to complete:**\n",
    "* Create a temporary view named `sales`\n",
    "* Create a new column, `totalAmount`, by multiplying `quantity` times `unitPrice` and rounding to the nearest cent\n",
    "* Include columns: `stockCode`, `quantity`, `unitPrice`, `totalAmount`, `countryName`\n",
    "* Include only rows where `quantity` is greater than 0"
   ]
  },
  {
   "cell_type": "code",
   "execution_count": 0,
   "metadata": {
    "application/vnd.databricks.v1+cell": {
     "inputWidgets": {},
     "nuid": "ac4846a8-bbde-488e-9df5-ac7f0e58c48a",
     "showTitle": false,
     "title": ""
    }
   },
   "outputs": [
    {
     "data": {
      "text/html": [
       "<style scoped>\n",
       "  .table-result-container {\n",
       "    max-height: 300px;\n",
       "    overflow: auto;\n",
       "  }\n",
       "  table, th, td {\n",
       "    border: 1px solid black;\n",
       "    border-collapse: collapse;\n",
       "  }\n",
       "  th, td {\n",
       "    padding: 5px;\n",
       "  }\n",
       "  th {\n",
       "    text-align: left;\n",
       "  }\n",
       "</style><div class='table-result-container'><table class='table-result'><thead style='background-color: white'><tr></tr></thead><tbody></tbody></table></div>"
      ]
     },
     "metadata": {
      "application/vnd.databricks.v1+output": {
       "addedWidgets": {},
       "aggData": [],
       "aggError": "",
       "aggOverflow": false,
       "aggSchema": [],
       "aggSeriesLimitReached": false,
       "aggType": "",
       "arguments": {},
       "columnCustomDisplayInfos": {},
       "data": [],
       "datasetInfos": [],
       "dbfsResultPath": null,
       "isJsonSchema": true,
       "overflow": false,
       "plotOptions": {
        "customPlotOptions": {},
        "displayType": "table",
        "pivotAggregation": null,
        "pivotColumns": null,
        "xColumns": null,
        "yColumns": null
       },
       "removedWidgets": [],
       "schema": [],
       "type": "table"
      }
     },
     "output_type": "display_data"
    }
   ],
   "source": [
    "%sql\n",
    "\n",
    "CREATE OR REPLACE TEMPORARY VIEW sales\n",
    "AS SELECT\n",
    "  ROUND((quantity * unitPrice), 2) AS totalAmount,\n",
    "  stockCode, quantity, unitPrice, countryName\n",
    "  FROM OutdoorProducts\n",
    "  WHERE quantity < 0"
   ]
  },
  {
   "cell_type": "code",
   "execution_count": 0,
   "metadata": {
    "application/vnd.databricks.v1+cell": {
     "inputWidgets": {},
     "nuid": "b7d02b61-9c0a-4b17-b137-f4a79a92dae0",
     "showTitle": false,
     "title": ""
    }
   },
   "outputs": [
    {
     "data": {
      "text/html": [
       "<style scoped>\n",
       "  .table-result-container {\n",
       "    max-height: 300px;\n",
       "    overflow: auto;\n",
       "  }\n",
       "  table, th, td {\n",
       "    border: 1px solid black;\n",
       "    border-collapse: collapse;\n",
       "  }\n",
       "  th, td {\n",
       "    padding: 5px;\n",
       "  }\n",
       "  th {\n",
       "    text-align: left;\n",
       "  }\n",
       "</style><div class='table-result-container'><table class='table-result'><thead style='background-color: white'><tr><th>totalAmount</th><th>stockCode</th><th>quantity</th><th>unitPrice</th><th>countryName</th></tr></thead><tbody><tr><td>-27.5</td><td>D</td><td>-1</td><td>27.5</td><td>United Kingdom</td></tr><tr><td>-4.65</td><td>35004C</td><td>-1</td><td>4.65</td><td>United Kingdom</td></tr><tr><td>-19.8</td><td>22556</td><td>-12</td><td>1.65</td><td>United Kingdom</td></tr><tr><td>-6.96</td><td>21984</td><td>-24</td><td>0.29</td><td>United Kingdom</td></tr><tr><td>-6.96</td><td>21983</td><td>-24</td><td>0.29</td><td>United Kingdom</td></tr></tbody></table></div>"
      ]
     },
     "metadata": {
      "application/vnd.databricks.v1+output": {
       "addedWidgets": {},
       "aggData": [],
       "aggError": "",
       "aggOverflow": false,
       "aggSchema": [],
       "aggSeriesLimitReached": false,
       "aggType": "",
       "arguments": {},
       "columnCustomDisplayInfos": {},
       "data": [
        [
         -27.5,
         "D",
         -1,
         27.5,
         "United Kingdom"
        ],
        [
         -4.65,
         "35004C",
         -1,
         4.65,
         "United Kingdom"
        ],
        [
         -19.8,
         "22556",
         -12,
         1.65,
         "United Kingdom"
        ],
        [
         -6.96,
         "21984",
         -24,
         0.29,
         "United Kingdom"
        ],
        [
         -6.96,
         "21983",
         -24,
         0.29,
         "United Kingdom"
        ]
       ],
       "datasetInfos": [],
       "dbfsResultPath": null,
       "isJsonSchema": true,
       "overflow": false,
       "plotOptions": {
        "customPlotOptions": {},
        "displayType": "table",
        "pivotAggregation": null,
        "pivotColumns": null,
        "xColumns": null,
        "yColumns": null
       },
       "removedWidgets": [],
       "schema": [
        {
         "metadata": "{}",
         "name": "totalAmount",
         "type": "\"double\""
        },
        {
         "metadata": "{}",
         "name": "stockCode",
         "type": "\"string\""
        },
        {
         "metadata": "{}",
         "name": "quantity",
         "type": "\"integer\""
        },
        {
         "metadata": "{}",
         "name": "unitPrice",
         "type": "\"double\""
        },
        {
         "metadata": "{}",
         "name": "countryName",
         "type": "\"string\""
        }
       ],
       "type": "table"
      }
     },
     "output_type": "display_data"
    }
   ],
   "source": [
    "%sql\n",
    "SELECT * FROM sales LIMIT 5;"
   ]
  },
  {
   "cell_type": "markdown",
   "metadata": {
    "application/vnd.databricks.v1+cell": {
     "inputWidgets": {},
     "nuid": "b2bac2c3-653b-4c1e-8164-85566fccbe04",
     "showTitle": false,
     "title": ""
    }
   },
   "source": [
    "## Exercise 4: Display ordered view\n",
    "\n",
    "**Summary:** Show the view you created with `totalAmount` sorted greatest to least\n",
    "\n",
    "**Steps to complete: **\n",
    "* Select all columns form the view `sales`\n",
    "* Order the `totalAmount` column from greatest to least\n",
    "* **Report the `countryName` from the row with the greatest `totalAmount` of sales in the corresponding answer area in Coursera**"
   ]
  },
  {
   "cell_type": "code",
   "execution_count": 0,
   "metadata": {
    "application/vnd.databricks.v1+cell": {
     "inputWidgets": {},
     "nuid": "e858d469-0468-4aea-acd1-0e8831b52972",
     "showTitle": false,
     "title": ""
    }
   },
   "outputs": [
    {
     "data": {
      "text/html": [
       "<style scoped>\n",
       "  .table-result-container {\n",
       "    max-height: 300px;\n",
       "    overflow: auto;\n",
       "  }\n",
       "  table, th, td {\n",
       "    border: 1px solid black;\n",
       "    border-collapse: collapse;\n",
       "  }\n",
       "  th, td {\n",
       "    padding: 5px;\n",
       "  }\n",
       "  th {\n",
       "    text-align: left;\n",
       "  }\n",
       "</style><div class='table-result-container'><table class='table-result'><thead style='background-color: white'><tr><th>totalAmount</th><th>stockCode</th><th>quantity</th><th>unitPrice</th><th>countryName</th></tr></thead><tbody><tr><td>0.0</td><td>22351</td><td>-1400</td><td>0.0</td><td>United Kingdom</td></tr><tr><td>0.0</td><td>85124C</td><td>-8</td><td>0.0</td><td>United Kingdom</td></tr><tr><td>0.0</td><td>84050</td><td>-310</td><td>0.0</td><td>United Kingdom</td></tr><tr><td>0.0</td><td>46000S</td><td>-300</td><td>0.0</td><td>United Kingdom</td></tr><tr><td>0.0</td><td>17011A</td><td>-61</td><td>0.0</td><td>United Kingdom</td></tr><tr><td>0.0</td><td>22454</td><td>-20</td><td>0.0</td><td>United Kingdom</td></tr><tr><td>0.0</td><td>82599</td><td>-290</td><td>0.0</td><td>United Kingdom</td></tr><tr><td>0.0</td><td>84569B</td><td>-20</td><td>0.0</td><td>United Kingdom</td></tr><tr><td>0.0</td><td>21324</td><td>-18</td><td>0.0</td><td>United Kingdom</td></tr><tr><td>0.0</td><td>21667</td><td>-1</td><td>0.0</td><td>United Kingdom</td></tr><tr><td>0.0</td><td>21275</td><td>-30</td><td>0.0</td><td>United Kingdom</td></tr><tr><td>0.0</td><td>37467</td><td>-177</td><td>0.0</td><td>United Kingdom</td></tr><tr><td>0.0</td><td>21743</td><td>-80</td><td>0.0</td><td>United Kingdom</td></tr><tr><td>0.0</td><td>37476</td><td>-6</td><td>0.0</td><td>United Kingdom</td></tr><tr><td>0.0</td><td>21653</td><td>-6</td><td>0.0</td><td>United Kingdom</td></tr><tr><td>0.0</td><td>21632</td><td>-41</td><td>0.0</td><td>United Kingdom</td></tr><tr><td>0.0</td><td>20966</td><td>-150</td><td>0.0</td><td>United Kingdom</td></tr><tr><td>0.0</td><td>84534B</td><td>-80</td><td>0.0</td><td>United Kingdom</td></tr><tr><td>0.0</td><td>21011</td><td>-20</td><td>0.0</td><td>United Kingdom</td></tr><tr><td>0.0</td><td>84546</td><td>-45</td><td>0.0</td><td>United Kingdom</td></tr><tr><td>0.0</td><td>46000S</td><td>-100</td><td>0.0</td><td>United Kingdom</td></tr><tr><td>0.0</td><td>21161</td><td>-120</td><td>0.0</td><td>United Kingdom</td></tr><tr><td>0.0</td><td>46000M</td><td>-100</td><td>0.0</td><td>United Kingdom</td></tr><tr><td>0.0</td><td>21429</td><td>-70</td><td>0.0</td><td>United Kingdom</td></tr><tr><td>0.0</td><td>22139</td><td>-5</td><td>0.0</td><td>United Kingdom</td></tr><tr><td>0.0</td><td>21027</td><td>-70</td><td>0.0</td><td>United Kingdom</td></tr><tr><td>0.0</td><td>22353</td><td>-28</td><td>0.0</td><td>United Kingdom</td></tr><tr><td>0.0</td><td>22028</td><td>-20</td><td>0.0</td><td>United Kingdom</td></tr><tr><td>0.0</td><td>85126</td><td>-2</td><td>0.0</td><td>United Kingdom</td></tr><tr><td>0.0</td><td>21431</td><td>-21</td><td>0.0</td><td>United Kingdom</td></tr><tr><td>0.0</td><td>84898F</td><td>-24</td><td>0.0</td><td>United Kingdom</td></tr><tr><td>0.0</td><td>22837</td><td>-35</td><td>0.0</td><td>United Kingdom</td></tr><tr><td>0.0</td><td>79067</td><td>-145</td><td>0.0</td><td>United Kingdom</td></tr><tr><td>0.0</td><td>85135B</td><td>-40</td><td>0.0</td><td>United Kingdom</td></tr><tr><td>0.0</td><td>21535</td><td>-12</td><td>0.0</td><td>United Kingdom</td></tr><tr><td>0.0</td><td>84968F</td><td>-20</td><td>0.0</td><td>United Kingdom</td></tr><tr><td>0.0</td><td>21895</td><td>-5</td><td>0.0</td><td>United Kingdom</td></tr><tr><td>0.0</td><td>35001W</td><td>-36</td><td>0.0</td><td>United Kingdom</td></tr><tr><td>0.0</td><td>84968E</td><td>-35</td><td>0.0</td><td>United Kingdom</td></tr><tr><td>0.0</td><td>22830</td><td>-1</td><td>0.0</td><td>United Kingdom</td></tr><tr><td>0.0</td><td>85064</td><td>-12</td><td>0.0</td><td>United Kingdom</td></tr><tr><td>0.0</td><td>35965</td><td>-25</td><td>0.0</td><td>United Kingdom</td></tr><tr><td>0.0</td><td>84968B</td><td>-21</td><td>0.0</td><td>United Kingdom</td></tr><tr><td>0.0</td><td>21784</td><td>-10</td><td>0.0</td><td>United Kingdom</td></tr><tr><td>0.0</td><td>21814</td><td>-30</td><td>0.0</td><td>United Kingdom</td></tr><tr><td>0.0</td><td>20892</td><td>-1</td><td>0.0</td><td>United Kingdom</td></tr><tr><td>0.0</td><td>35833G</td><td>-43</td><td>0.0</td><td>United Kingdom</td></tr><tr><td>0.0</td><td>85118</td><td>-35</td><td>0.0</td><td>United Kingdom</td></tr><tr><td>0.0</td><td>84499</td><td>-9</td><td>0.0</td><td>United Kingdom</td></tr><tr><td>0.0</td><td>85230F</td><td>-48</td><td>0.0</td><td>United Kingdom</td></tr><tr><td>0.0</td><td>22162</td><td>-40</td><td>0.0</td><td>United Kingdom</td></tr><tr><td>0.0</td><td>21040</td><td>-20</td><td>0.0</td><td>United Kingdom</td></tr><tr><td>0.0</td><td>21054</td><td>-30</td><td>0.0</td><td>United Kingdom</td></tr><tr><td>0.0</td><td>21667</td><td>-1</td><td>0.0</td><td>United Kingdom</td></tr><tr><td>0.0</td><td>22158</td><td>-120</td><td>0.0</td><td>United Kingdom</td></tr><tr><td>0.0</td><td>22501</td><td>-100</td><td>0.0</td><td>United Kingdom</td></tr><tr><td>0.0</td><td>22423</td><td>-13</td><td>0.0</td><td>United Kingdom</td></tr><tr><td>0.0</td><td>20684</td><td>-19</td><td>0.0</td><td>United Kingdom</td></tr><tr><td>0.0</td><td>35271S</td><td>-13</td><td>0.0</td><td>United Kingdom</td></tr><tr><td>0.0</td><td>21696</td><td>-320</td><td>0.0</td><td>United Kingdom</td></tr><tr><td>0.0</td><td>22502</td><td>-100</td><td>0.0</td><td>United Kingdom</td></tr><tr><td>0.0</td><td>21801</td><td>-38</td><td>0.0</td><td>United Kingdom</td></tr><tr><td>0.0</td><td>20892</td><td>-32</td><td>0.0</td><td>United Kingdom</td></tr><tr><td>0.0</td><td>22837</td><td>-106</td><td>0.0</td><td>United Kingdom</td></tr><tr><td>0.0</td><td>37464</td><td>-14</td><td>0.0</td><td>United Kingdom</td></tr><tr><td>0.0</td><td>84881</td><td>-11</td><td>0.0</td><td>United Kingdom</td></tr><tr><td>0.0</td><td>22865</td><td>-60</td><td>0.0</td><td>United Kingdom</td></tr><tr><td>0.0</td><td>18098C</td><td>-140</td><td>0.0</td><td>United Kingdom</td></tr><tr><td>0.0</td><td>21692</td><td>-70</td><td>0.0</td><td>United Kingdom</td></tr><tr><td>0.0</td><td>35957</td><td>-939</td><td>0.0</td><td>United Kingdom</td></tr><tr><td>0.0</td><td>20941</td><td>-24</td><td>0.0</td><td>United Kingdom</td></tr><tr><td>0.0</td><td>21429</td><td>-15</td><td>0.0</td><td>United Kingdom</td></tr><tr><td>0.0</td><td>22198</td><td>-100</td><td>0.0</td><td>United Kingdom</td></tr><tr><td>0.0</td><td>85167B</td><td>-24</td><td>0.0</td><td>United Kingdom</td></tr><tr><td>0.0</td><td>90096</td><td>-54</td><td>0.0</td><td>United Kingdom</td></tr><tr><td>0.0</td><td>21836</td><td>-15</td><td>0.0</td><td>United Kingdom</td></tr><tr><td>0.0</td><td>21248</td><td>-18</td><td>0.0</td><td>United Kingdom</td></tr><tr><td>0.0</td><td>47591D</td><td>-201</td><td>0.0</td><td>United Kingdom</td></tr><tr><td>0.0</td><td>21587</td><td>-53</td><td>0.0</td><td>United Kingdom</td></tr><tr><td>0.0</td><td>21349</td><td>-44</td><td>0.0</td><td>United Kingdom</td></tr><tr><td>0.0</td><td>21258</td><td>-29</td><td>0.0</td><td>United Kingdom</td></tr><tr><td>0.0</td><td>21589</td><td>-14</td><td>0.0</td><td>United Kingdom</td></tr><tr><td>0.0</td><td>47556B</td><td>-69</td><td>0.0</td><td>United Kingdom</td></tr><tr><td>0.0</td><td>22155</td><td>-70</td><td>0.0</td><td>United Kingdom</td></tr><tr><td>0.0</td><td>22617</td><td>-2600</td><td>0.0</td><td>United Kingdom</td></tr><tr><td>0.0</td><td>21275</td><td>-5</td><td>0.0</td><td>United Kingdom</td></tr><tr><td>0.0</td><td>21488</td><td>-50</td><td>0.0</td><td>United Kingdom</td></tr><tr><td>0.0</td><td>22866</td><td>-64</td><td>0.0</td><td>United Kingdom</td></tr><tr><td>0.0</td><td>72038P</td><td>-990</td><td>0.0</td><td>United Kingdom</td></tr><tr><td>0.0</td><td>20956</td><td>-723</td><td>0.0</td><td>United Kingdom</td></tr><tr><td>0.0</td><td>84840</td><td>-9</td><td>0.0</td><td>United Kingdom</td></tr><tr><td>0.0</td><td>21777</td><td>-10</td><td>0.0</td><td>United Kingdom</td></tr><tr><td>0.0</td><td>21648</td><td>-130</td><td>0.0</td><td>United Kingdom</td></tr><tr><td>0.0</td><td>84562A</td><td>-3</td><td>0.0</td><td>United Kingdom</td></tr><tr><td>0.0</td><td>21486</td><td>-77</td><td>0.0</td><td>United Kingdom</td></tr><tr><td>0.0</td><td>84952C</td><td>-38</td><td>0.0</td><td>United Kingdom</td></tr><tr><td>0.0</td><td>84029E</td><td>-50</td><td>0.0</td><td>United Kingdom</td></tr><tr><td>0.0</td><td>85067</td><td>-6</td><td>0.0</td><td>United Kingdom</td></tr><tr><td>0.0</td><td>22034</td><td>-223</td><td>0.0</td><td>United Kingdom</td></tr><tr><td>0.0</td><td>21172</td><td>-80</td><td>0.0</td><td>United Kingdom</td></tr><tr><td>0.0</td><td>37474</td><td>-15</td><td>0.0</td><td>United Kingdom</td></tr><tr><td>0.0</td><td>21763</td><td>-4</td><td>0.0</td><td>United Kingdom</td></tr><tr><td>0.0</td><td>22712</td><td>-20</td><td>0.0</td><td>United Kingdom</td></tr><tr><td>0.0</td><td>22632</td><td>-84</td><td>0.0</td><td>United Kingdom</td></tr><tr><td>0.0</td><td>21414</td><td>-22</td><td>0.0</td><td>United Kingdom</td></tr><tr><td>0.0</td><td>22833</td><td>-1</td><td>0.0</td><td>United Kingdom</td></tr><tr><td>0.0</td><td>21807</td><td>-30</td><td>0.0</td><td>United Kingdom</td></tr><tr><td>0.0</td><td>85008</td><td>-15</td><td>0.0</td><td>United Kingdom</td></tr><tr><td>-0.42</td><td>85175</td><td>-1</td><td>0.42</td><td>United Kingdom</td></tr><tr><td>-0.42</td><td>16258A</td><td>-1</td><td>0.42</td><td>United Kingdom</td></tr><tr><td>-0.42</td><td>82581</td><td>-1</td><td>0.42</td><td>United Kingdom</td></tr><tr><td>-0.42</td><td>85175</td><td>-1</td><td>0.42</td><td>United Kingdom</td></tr><tr><td>-0.65</td><td>35598D</td><td>-1</td><td>0.65</td><td>United Kingdom</td></tr><tr><td>-0.72</td><td>22197</td><td>-1</td><td>0.72</td><td>United Kingdom</td></tr><tr><td>-0.72</td><td>22197</td><td>-1</td><td>0.72</td><td>United Kingdom</td></tr><tr><td>-0.72</td><td>22962</td><td>-1</td><td>0.72</td><td>United Kingdom</td></tr><tr><td>-0.85</td><td>22197</td><td>-1</td><td>0.85</td><td>United Kingdom</td></tr><tr><td>-0.85</td><td>71459</td><td>-1</td><td>0.85</td><td>United Kingdom</td></tr><tr><td>-0.85</td><td>22156</td><td>-1</td><td>0.85</td><td>United Kingdom</td></tr><tr><td>-0.85</td><td>84006</td><td>-1</td><td>0.85</td><td>United Kingdom</td></tr><tr><td>-0.85</td><td>22586</td><td>-1</td><td>0.85</td><td>United Kingdom</td></tr><tr><td>-0.85</td><td>22230</td><td>-1</td><td>0.85</td><td>United Kingdom</td></tr><tr><td>-0.85</td><td>20724</td><td>-1</td><td>0.85</td><td>United Kingdom</td></tr><tr><td>-0.85</td><td>71459</td><td>-1</td><td>0.85</td><td>United Kingdom</td></tr><tr><td>-0.85</td><td>22851</td><td>-1</td><td>0.85</td><td>Germany</td></tr><tr><td>-0.85</td><td>84970S</td><td>-1</td><td>0.85</td><td>United Kingdom</td></tr><tr><td>-0.85</td><td>22908</td><td>-1</td><td>0.85</td><td>Germany</td></tr><tr><td>-0.85</td><td>22571</td><td>-1</td><td>0.85</td><td>United Kingdom</td></tr><tr><td>-0.85</td><td>79000</td><td>-1</td><td>0.85</td><td>United Kingdom</td></tr><tr><td>-1.0</td><td>AMAZONFEE</td><td>-1</td><td>1.0</td><td>United Kingdom</td></tr><tr><td>-1.06</td><td>21668</td><td>-1</td><td>1.06</td><td>United Kingdom</td></tr><tr><td>-1.06</td><td>22774</td><td>-1</td><td>1.06</td><td>United Kingdom</td></tr><tr><td>-1.25</td><td>84380</td><td>-1</td><td>1.25</td><td>United Kingdom</td></tr><tr><td>-1.25</td><td>35471D</td><td>-1</td><td>1.25</td><td>United Kingdom</td></tr><tr><td>-1.25</td><td>22944</td><td>-1</td><td>1.25</td><td>United Kingdom</td></tr><tr><td>-1.25</td><td>22444</td><td>-1</td><td>1.25</td><td>United Kingdom</td></tr><tr><td>-1.25</td><td>21871</td><td>-1</td><td>1.25</td><td>United Kingdom</td></tr><tr><td>-1.25</td><td>22178</td><td>-1</td><td>1.25</td><td>United Kingdom</td></tr><tr><td>-1.25</td><td>84050</td><td>-1</td><td>1.25</td><td>United Kingdom</td></tr><tr><td>-1.25</td><td>85169D</td><td>-1</td><td>1.25</td><td>United Kingdom</td></tr><tr><td>-1.25</td><td>21671</td><td>-1</td><td>1.25</td><td>United Kingdom</td></tr><tr><td>-1.25</td><td>82551</td><td>-1</td><td>1.25</td><td>United Kingdom</td></tr><tr><td>-1.25</td><td>22646</td><td>-1</td><td>1.25</td><td>United Kingdom</td></tr><tr><td>-1.25</td><td>22791</td><td>-1</td><td>1.25</td><td>United Kingdom</td></tr><tr><td>-1.25</td><td>21876</td><td>-1</td><td>1.25</td><td>United Kingdom</td></tr><tr><td>-1.25</td><td>84978</td><td>-1</td><td>1.25</td><td>United Kingdom</td></tr><tr><td>-1.25</td><td>22892</td><td>-1</td><td>1.25</td><td>United Kingdom</td></tr><tr><td>-1.25</td><td>22316</td><td>-1</td><td>1.25</td><td>Germany</td></tr><tr><td>-1.25</td><td>21232</td><td>-1</td><td>1.25</td><td>United Kingdom</td></tr><tr><td>-1.25</td><td>21672</td><td>-1</td><td>1.25</td><td>United Kingdom</td></tr><tr><td>-1.25</td><td>21232</td><td>-1</td><td>1.25</td><td>United Kingdom</td></tr><tr><td>-1.25</td><td>21232</td><td>-1</td><td>1.25</td><td>United Kingdom</td></tr><tr><td>-1.25</td><td>22178</td><td>-1</td><td>1.25</td><td>United Kingdom</td></tr><tr><td>-1.25</td><td>22279</td><td>-1</td><td>1.25</td><td>United Kingdom</td></tr><tr><td>-1.25</td><td>22178</td><td>-1</td><td>1.25</td><td>United Kingdom</td></tr><tr><td>-1.25</td><td>22460</td><td>-1</td><td>1.25</td><td>United Kingdom</td></tr><tr><td>-1.25</td><td>21876</td><td>-1</td><td>1.25</td><td>United Kingdom</td></tr><tr><td>-1.25</td><td>21644</td><td>-1</td><td>1.25</td><td>United Kingdom</td></tr><tr><td>-1.25</td><td>21231</td><td>-1</td><td>1.25</td><td>Germany</td></tr><tr><td>-1.25</td><td>22065</td><td>-1</td><td>1.25</td><td>United Kingdom</td></tr><tr><td>-1.25</td><td>84947</td><td>-1</td><td>1.25</td><td>United Kingdom</td></tr><tr><td>-1.28</td><td>40001</td><td>-2</td><td>0.64</td><td>United Kingdom</td></tr><tr><td>-1.3</td><td>22820</td><td>-2</td><td>0.65</td><td>Germany</td></tr><tr><td>-1.3</td><td>20973</td><td>-2</td><td>0.65</td><td>United Kingdom</td></tr><tr><td>-1.45</td><td>22198</td><td>-1</td><td>1.45</td><td>United Kingdom</td></tr><tr><td>-1.45</td><td>22644</td><td>-1</td><td>1.45</td><td>United Kingdom</td></tr><tr><td>-1.45</td><td>22067</td><td>-1</td><td>1.45</td><td>United Kingdom</td></tr><tr><td>-1.45</td><td>22142</td><td>-1</td><td>1.45</td><td>United Kingdom</td></tr><tr><td>-1.45</td><td>22383</td><td>-1</td><td>1.45</td><td>United Kingdom</td></tr><tr><td>-1.45</td><td>22897</td><td>-1</td><td>1.45</td><td>Germany</td></tr><tr><td>-1.45</td><td>20725</td><td>-1</td><td>1.45</td><td>United Kingdom</td></tr><tr><td>-1.45</td><td>22469</td><td>-1</td><td>1.45</td><td>United Kingdom</td></tr><tr><td>-1.45</td><td>22198</td><td>-1</td><td>1.45</td><td>United Kingdom</td></tr><tr><td>-1.45</td><td>20957</td><td>-1</td><td>1.45</td><td>Germany</td></tr><tr><td>-1.45</td><td>84988</td><td>-1</td><td>1.45</td><td>United Kingdom</td></tr><tr><td>-1.49</td><td>22059</td><td>-1</td><td>1.49</td><td>United Kingdom</td></tr><tr><td>-1.49</td><td>22558</td><td>-1</td><td>1.49</td><td>Germany</td></tr><tr><td>-1.49</td><td>37448</td><td>-1</td><td>1.49</td><td>United Kingdom</td></tr><tr><td>-1.65</td><td>21731</td><td>-1</td><td>1.65</td><td>United Kingdom</td></tr><tr><td>-1.65</td><td>20728</td><td>-1</td><td>1.65</td><td>United Kingdom</td></tr><tr><td>-1.65</td><td>22331</td><td>-1</td><td>1.65</td><td>Germany</td></tr><tr><td>-1.65</td><td>22333</td><td>-1</td><td>1.65</td><td>Germany</td></tr><tr><td>-1.65</td><td>85099C</td><td>-1</td><td>1.65</td><td>United Kingdom</td></tr><tr><td>-1.65</td><td>22055</td><td>-1</td><td>1.65</td><td>United Kingdom</td></tr><tr><td>-1.65</td><td>20728</td><td>-1</td><td>1.65</td><td>United Kingdom</td></tr><tr><td>-1.65</td><td>22055</td><td>-1</td><td>1.65</td><td>United Kingdom</td></tr><tr><td>-1.65</td><td>21731</td><td>-1</td><td>1.65</td><td>Germany</td></tr><tr><td>-1.65</td><td>22488</td><td>-1</td><td>1.65</td><td>United Kingdom</td></tr><tr><td>-1.65</td><td>22198</td><td>-1</td><td>1.65</td><td>EIRE</td></tr><tr><td>-1.65</td><td>22198</td><td>-1</td><td>1.65</td><td>United Kingdom</td></tr><tr><td>-1.65</td><td>85040A</td><td>-1</td><td>1.65</td><td>United Kingdom</td></tr><tr><td>-1.65</td><td>22411</td><td>-1</td><td>1.65</td><td>United Kingdom</td></tr><tr><td>-1.65</td><td>79163</td><td>-1</td><td>1.65</td><td>United Kingdom</td></tr><tr><td>-1.65</td><td>21928</td><td>-1</td><td>1.65</td><td>United Kingdom</td></tr><tr><td>-1.65</td><td>85099F</td><td>-1</td><td>1.65</td><td>United Kingdom</td></tr><tr><td>-1.65</td><td>84949</td><td>-1</td><td>1.65</td><td>United Kingdom</td></tr><tr><td>-1.65</td><td>22384</td><td>-1</td><td>1.65</td><td>United Kingdom</td></tr><tr><td>-1.65</td><td>22469</td><td>-1</td><td>1.65</td><td>United Kingdom</td></tr><tr><td>-1.65</td><td>84949</td><td>-1</td><td>1.65</td><td>United Kingdom</td></tr><tr><td>-1.65</td><td>85025B</td><td>-1</td><td>1.65</td><td>United Kingdom</td></tr><tr><td>-1.65</td><td>85099B</td><td>-1</td><td>1.65</td><td>United Kingdom</td></tr><tr><td>-1.65</td><td>22333</td><td>-1</td><td>1.65</td><td>Germany</td></tr><tr><td>-1.65</td><td>22464</td><td>-1</td><td>1.65</td><td>United Kingdom</td></tr><tr><td>-1.65</td><td>85040A</td><td>-1</td><td>1.65</td><td>United Kingdom</td></tr><tr><td>-1.65</td><td>85039A</td><td>-1</td><td>1.65</td><td>United Kingdom</td></tr><tr><td>-1.69</td><td>11001</td><td>-1</td><td>1.69</td><td>United Kingdom</td></tr><tr><td>-1.7</td><td>22962</td><td>-2</td><td>0.85</td><td>United Kingdom</td></tr><tr><td>-1.7</td><td>85170D</td><td>-2</td><td>0.85</td><td>United Kingdom</td></tr><tr><td>-1.7</td><td>22962</td><td>-2</td><td>0.85</td><td>United Kingdom</td></tr><tr><td>-1.7</td><td>21209</td><td>-2</td><td>0.85</td><td>United Kingdom</td></tr><tr><td>-1.7</td><td>22197</td><td>-2</td><td>0.85</td><td>United Kingdom</td></tr><tr><td>-1.7</td><td>22356</td><td>-2</td><td>0.85</td><td>United Kingdom</td></tr><tr><td>-1.7</td><td>22197</td><td>-2</td><td>0.85</td><td>EIRE</td></tr><tr><td>-1.7</td><td>22197</td><td>-2</td><td>0.85</td><td>United Kingdom</td></tr><tr><td>-1.7</td><td>84945</td><td>-2</td><td>0.85</td><td>United Kingdom</td></tr><tr><td>-1.7</td><td>22923</td><td>-2</td><td>0.85</td><td>Germany</td></tr><tr><td>-1.7</td><td>22245</td><td>-2</td><td>0.85</td><td>Germany</td></tr><tr><td>-1.7</td><td>22355</td><td>-2</td><td>0.85</td><td>United Kingdom</td></tr><tr><td>-1.85</td><td>21175</td><td>-1</td><td>1.85</td><td>United Kingdom</td></tr><tr><td>-1.85</td><td>22632</td><td>-1</td><td>1.85</td><td>United Kingdom</td></tr><tr><td>-1.85</td><td>22834</td><td>-1</td><td>1.85</td><td>United Kingdom</td></tr><tr><td>-1.95</td><td>22411</td><td>-1</td><td>1.95</td><td>United Kingdom</td></tr><tr><td>-1.95</td><td>22877</td><td>-1</td><td>1.95</td><td>United Kingdom</td></tr><tr><td>-1.95</td><td>22630</td><td>-1</td><td>1.95</td><td>United Kingdom</td></tr><tr><td>-1.95</td><td>35004B</td><td>-1</td><td>1.95</td><td>United Kingdom</td></tr><tr><td>-1.95</td><td>22131</td><td>-1</td><td>1.95</td><td>United Kingdom</td></tr><tr><td>-1.95</td><td>22244</td><td>-1</td><td>1.95</td><td>United Kingdom</td></tr><tr><td>-1.95</td><td>79000</td><td>-3</td><td>0.65</td><td>United Kingdom</td></tr><tr><td>-1.95</td><td>20705</td><td>-1</td><td>1.95</td><td>United Kingdom</td></tr><tr><td>-1.95</td><td>47594A</td><td>-1</td><td>1.95</td><td>United Kingdom</td></tr><tr><td>-1.95</td><td>85099C</td><td>-1</td><td>1.95</td><td>United Kingdom</td></tr><tr><td>-1.95</td><td>22869</td><td>-1</td><td>1.95</td><td>United Kingdom</td></tr><tr><td>-1.95</td><td>22244</td><td>-1</td><td>1.95</td><td>Japan</td></tr><tr><td>-1.95</td><td>21143</td><td>-1</td><td>1.95</td><td>United Kingdom</td></tr><tr><td>-1.95</td><td>22631</td><td>-1</td><td>1.95</td><td>Germany</td></tr><tr><td>-1.95</td><td>21166</td><td>-1</td><td>1.95</td><td>United Kingdom</td></tr><tr><td>-2.0</td><td>M</td><td>-4</td><td>0.5</td><td>United Kingdom</td></tr><tr><td>-2.1</td><td>22865</td><td>-1</td><td>2.1</td><td>United Kingdom</td></tr><tr><td>-2.1</td><td>21427</td><td>-1</td><td>2.1</td><td>United Kingdom</td></tr><tr><td>-2.1</td><td>84817</td><td>-1</td><td>2.1</td><td>United Kingdom</td></tr><tr><td>-2.1</td><td>22441</td><td>-1</td><td>2.1</td><td>United Kingdom</td></tr><tr><td>-2.1</td><td>22664</td><td>-1</td><td>2.1</td><td>United Kingdom</td></tr><tr><td>-2.1</td><td>21647</td><td>-1</td><td>2.1</td><td>United Kingdom</td></tr><tr><td>-2.1</td><td>22878</td><td>-1</td><td>2.1</td><td>United Kingdom</td></tr><tr><td>-2.1</td><td>21314</td><td>-1</td><td>2.1</td><td>United Kingdom</td></tr><tr><td>-2.1</td><td>21314</td><td>-1</td><td>2.1</td><td>United Kingdom</td></tr><tr><td>-2.1</td><td>20752</td><td>-1</td><td>2.1</td><td>United Kingdom</td></tr><tr><td>-2.1</td><td>22745</td><td>-1</td><td>2.1</td><td>United Kingdom</td></tr><tr><td>-2.1</td><td>21306</td><td>-1</td><td>2.1</td><td>United Kingdom</td></tr><tr><td>-2.1</td><td>21155</td><td>-1</td><td>2.1</td><td>Japan</td></tr><tr><td>-2.1</td><td>22632</td><td>-1</td><td>2.1</td><td>United Kingdom</td></tr><tr><td>-2.1</td><td>22633</td><td>-1</td><td>2.1</td><td>United Kingdom</td></tr><tr><td>-2.1</td><td>20829</td><td>-1</td><td>2.1</td><td>United Kingdom</td></tr><tr><td>-2.1</td><td>85150</td><td>-1</td><td>2.1</td><td>United Kingdom</td></tr><tr><td>-2.1</td><td>21314</td><td>-1</td><td>2.1</td><td>United Kingdom</td></tr><tr><td>-2.12</td><td>84978</td><td>-2</td><td>1.06</td><td>United Kingdom</td></tr><tr><td>-2.25</td><td>21577</td><td>-1</td><td>2.25</td><td>Germany</td></tr><tr><td>-2.5</td><td>21232</td><td>-2</td><td>1.25</td><td>United Kingdom</td></tr><tr><td>-2.5</td><td>85034C</td><td>-2</td><td>1.25</td><td>United Kingdom</td></tr><tr><td>-2.5</td><td>21877</td><td>-2</td><td>1.25</td><td>United Kingdom</td></tr><tr><td>-2.5</td><td>84946</td><td>-2</td><td>1.25</td><td>United Kingdom</td></tr><tr><td>-2.5</td><td>37370</td><td>-2</td><td>1.25</td><td>United Kingdom</td></tr><tr><td>-2.5</td><td>21232</td><td>-2</td><td>1.25</td><td>Germany</td></tr><tr><td>-2.5</td><td>20941</td><td>-2</td><td>1.25</td><td>United Kingdom</td></tr><tr><td>-2.5</td><td>21231</td><td>-2</td><td>1.25</td><td>United Kingdom</td></tr><tr><td>-2.52</td><td>21412</td><td>-6</td><td>0.42</td><td>EIRE</td></tr><tr><td>-2.52</td><td>85131A</td><td>-6</td><td>0.42</td><td>United Kingdom</td></tr><tr><td>-2.55</td><td>22301</td><td>-1</td><td>2.55</td><td>United Kingdom</td></tr><tr><td>-2.55</td><td>85123A</td><td>-1</td><td>2.55</td><td>United Kingdom</td></tr><tr><td>-2.55</td><td>22638</td><td>-1</td><td>2.55</td><td>Germany</td></tr><tr><td>-2.55</td><td>85023C</td><td>-1</td><td>2.55</td><td>United Kingdom</td></tr><tr><td>-2.55</td><td>22156</td><td>-3</td><td>0.85</td><td>United Kingdom</td></tr><tr><td>-2.55</td><td>21586</td><td>-1</td><td>2.55</td><td>United Kingdom</td></tr><tr><td>-2.55</td><td>22352</td><td>-1</td><td>2.55</td><td>United Kingdom</td></tr><tr><td>-2.55</td><td>85123A</td><td>-1</td><td>2.55</td><td>United Kingdom</td></tr><tr><td>-2.55</td><td>85123A</td><td>-1</td><td>2.55</td><td>United Kingdom</td></tr><tr><td>-2.55</td><td>85123A</td><td>-1</td><td>2.55</td><td>United Kingdom</td></tr><tr><td>-2.55</td><td>85023B</td><td>-1</td><td>2.55</td><td>United Kingdom</td></tr><tr><td>-2.55</td><td>20772</td><td>-1</td><td>2.55</td><td>United Kingdom</td></tr><tr><td>-2.55</td><td>85123A</td><td>-1</td><td>2.55</td><td>United Kingdom</td></tr><tr><td>-2.55</td><td>21559</td><td>-1</td><td>2.55</td><td>United Kingdom</td></tr><tr><td>-2.55</td><td>22467</td><td>-1</td><td>2.55</td><td>United Kingdom</td></tr><tr><td>-2.55</td><td>22467</td><td>-1</td><td>2.55</td><td>United Kingdom</td></tr><tr><td>-2.55</td><td>21733</td><td>-1</td><td>2.55</td><td>United Kingdom</td></tr><tr><td>-2.55</td><td>22667</td><td>-1</td><td>2.55</td><td>United Kingdom</td></tr><tr><td>-2.55</td><td>84678</td><td>-1</td><td>2.55</td><td>United Kingdom</td></tr><tr><td>-2.55</td><td>85123A</td><td>-1</td><td>2.55</td><td>United Kingdom</td></tr><tr><td>-2.55</td><td>21531</td><td>-1</td><td>2.55</td><td>United Kingdom</td></tr><tr><td>-2.55</td><td>21558</td><td>-1</td><td>2.55</td><td>United Kingdom</td></tr><tr><td>-2.55</td><td>22197</td><td>-3</td><td>0.85</td><td>United Kingdom</td></tr><tr><td>-2.55</td><td>21733</td><td>-1</td><td>2.55</td><td>United Kingdom</td></tr><tr><td>-2.55</td><td>84508A</td><td>-1</td><td>2.55</td><td>United Kingdom</td></tr><tr><td>-2.55</td><td>21558</td><td>-1</td><td>2.55</td><td>United Kingdom</td></tr><tr><td>-2.6</td><td>22439</td><td>-4</td><td>0.65</td><td>United Kingdom</td></tr><tr><td>-2.9</td><td>22961</td><td>-2</td><td>1.45</td><td>Germany</td></tr><tr><td>-2.9</td><td>22198</td><td>-2</td><td>1.45</td><td>United Kingdom</td></tr><tr><td>-2.9</td><td>21169</td><td>-2</td><td>1.45</td><td>United Kingdom</td></tr><tr><td>-2.9</td><td>22645</td><td>-2</td><td>1.45</td><td>United Kingdom</td></tr><tr><td>-2.95</td><td>22900</td><td>-1</td><td>2.95</td><td>United Kingdom</td></tr><tr><td>-2.95</td><td>82494L</td><td>-1</td><td>2.95</td><td>United Kingdom</td></tr><tr><td>-2.95</td><td>22272</td><td>-1</td><td>2.95</td><td>United Kingdom</td></tr><tr><td>-2.95</td><td>22766</td><td>-1</td><td>2.95</td><td>United Kingdom</td></tr><tr><td>-2.95</td><td>22697</td><td>-1</td><td>2.95</td><td>United Kingdom</td></tr><tr><td>-2.95</td><td>22274</td><td>-1</td><td>2.95</td><td>United Kingdom</td></tr><tr><td>-2.95</td><td>85123A</td><td>-1</td><td>2.95</td><td>United Kingdom</td></tr><tr><td>-2.95</td><td>22665</td><td>-1</td><td>2.95</td><td>United Kingdom</td></tr><tr><td>-2.95</td><td>22699</td><td>-1</td><td>2.95</td><td>United Kingdom</td></tr><tr><td>-2.95</td><td>22666</td><td>-1</td><td>2.95</td><td>United Kingdom</td></tr><tr><td>-2.95</td><td>21424</td><td>-1</td><td>2.95</td><td>United Kingdom</td></tr><tr><td>-2.95</td><td>22158</td><td>-1</td><td>2.95</td><td>United Kingdom</td></tr><tr><td>-2.95</td><td>22083</td><td>-1</td><td>2.95</td><td>United Kingdom</td></tr><tr><td>-2.95</td><td>22699</td><td>-1</td><td>2.95</td><td>United Kingdom</td></tr><tr><td>-2.95</td><td>22086</td><td>-1</td><td>2.95</td><td>United Kingdom</td></tr><tr><td>-2.95</td><td>21452</td><td>-1</td><td>2.95</td><td>United Kingdom</td></tr><tr><td>-2.95</td><td>35832</td><td>-1</td><td>2.95</td><td>United Kingdom</td></tr><tr><td>-2.95</td><td>22697</td><td>-1</td><td>2.95</td><td>United Kingdom</td></tr><tr><td>-2.95</td><td>22666</td><td>-1</td><td>2.95</td><td>United Kingdom</td></tr><tr><td>-2.95</td><td>22667</td><td>-1</td><td>2.95</td><td>United Kingdom</td></tr><tr><td>-2.95</td><td>22666</td><td>-1</td><td>2.95</td><td>Portugal</td></tr><tr><td>-2.95</td><td>22666</td><td>-1</td><td>2.95</td><td>Belgium</td></tr><tr><td>-2.95</td><td>22457</td><td>-1</td><td>2.95</td><td>United Kingdom</td></tr><tr><td>-2.95</td><td>82494L</td><td>-1</td><td>2.95</td><td>United Kingdom</td></tr><tr><td>-2.95</td><td>22158</td><td>-1</td><td>2.95</td><td>United Kingdom</td></tr><tr><td>-2.95</td><td>20914</td><td>-1</td><td>2.95</td><td>United Kingdom</td></tr><tr><td>-2.95</td><td>21844</td><td>-1</td><td>2.95</td><td>United Kingdom</td></tr><tr><td>-2.95</td><td>22766</td><td>-1</td><td>2.95</td><td>United Kingdom</td></tr><tr><td>-2.95</td><td>22697</td><td>-1</td><td>2.95</td><td>United Kingdom</td></tr><tr><td>-2.95</td><td>22910</td><td>-1</td><td>2.95</td><td>United Kingdom</td></tr><tr><td>-2.95</td><td>22470</td><td>-1</td><td>2.95</td><td>United Kingdom</td></tr><tr><td>-2.95</td><td>22327</td><td>-1</td><td>2.95</td><td>United Kingdom</td></tr><tr><td>-2.95</td><td>85123A</td><td>-1</td><td>2.95</td><td>United Kingdom</td></tr><tr><td>-2.95</td><td>22697</td><td>-1</td><td>2.95</td><td>United Kingdom</td></tr><tr><td>-2.95</td><td>22665</td><td>-1</td><td>2.95</td><td>United Kingdom</td></tr><tr><td>-2.95</td><td>22667</td><td>-1</td><td>2.95</td><td>United Kingdom</td></tr><tr><td>-2.95</td><td>22666</td><td>-1</td><td>2.95</td><td>Belgium</td></tr><tr><td>-2.95</td><td>22766</td><td>-1</td><td>2.95</td><td>United Kingdom</td></tr><tr><td>-2.95</td><td>20914</td><td>-1</td><td>2.95</td><td>Germany</td></tr><tr><td>-2.95</td><td>20936</td><td>-1</td><td>2.95</td><td>United Kingdom</td></tr><tr><td>-2.95</td><td>22175</td><td>-1</td><td>2.95</td><td>United Kingdom</td></tr><tr><td>-3.0</td><td>POST</td><td>-1</td><td>3.0</td><td>United Kingdom</td></tr><tr><td>-3.18</td><td>20718</td><td>-3</td><td>1.06</td><td>United Kingdom</td></tr><tr><td>-3.18</td><td>22719</td><td>-3</td><td>1.06</td><td>United Kingdom</td></tr><tr><td>-3.25</td><td>71477</td><td>-1</td><td>3.25</td><td>United Kingdom</td></tr><tr><td>-3.25</td><td>71477</td><td>-1</td><td>3.25</td><td>EIRE</td></tr><tr><td>-3.25</td><td>20681</td><td>-1</td><td>3.25</td><td>United Kingdom</td></tr><tr><td>-3.25</td><td>71477</td><td>-1</td><td>3.25</td><td>United Kingdom</td></tr><tr><td>-3.25</td><td>71477</td><td>-1</td><td>3.25</td><td>United Kingdom</td></tr><tr><td>-3.3</td><td>84949</td><td>-2</td><td>1.65</td><td>United Kingdom</td></tr><tr><td>-3.3</td><td>85099F</td><td>-2</td><td>1.65</td><td>United Kingdom</td></tr><tr><td>-3.3</td><td>22554</td><td>-2</td><td>1.65</td><td>Germany</td></tr><tr><td>-3.3</td><td>21928</td><td>-2</td><td>1.65</td><td>United Kingdom</td></tr><tr><td>-3.3</td><td>20711</td><td>-2</td><td>1.65</td><td>United Kingdom</td></tr><tr><td>-3.35</td><td>22450</td><td>-1</td><td>3.35</td><td>France</td></tr><tr><td>-3.38</td><td>21166</td><td>-2</td><td>1.69</td><td>United Kingdom</td></tr><tr><td>-3.49</td><td>35001W</td><td>-1</td><td>3.49</td><td>United Kingdom</td></tr><tr><td>-3.5</td><td>POST</td><td>-1</td><td>3.5</td><td>United Kingdom</td></tr><tr><td>-3.7</td><td>21314</td><td>-2</td><td>1.85</td><td>United Kingdom</td></tr><tr><td>-3.7</td><td>21181</td><td>-2</td><td>1.85</td><td>United Kingdom</td></tr><tr><td>-3.75</td><td>22730</td><td>-1</td><td>3.75</td><td>United Kingdom</td></tr><tr><td>-3.75</td><td>22730</td><td>-1</td><td>3.75</td><td>United Kingdom</td></tr><tr><td>-3.75</td><td>22729</td><td>-1</td><td>3.75</td><td>United Kingdom</td></tr><tr><td>-3.75</td><td>22727</td><td>-1</td><td>3.75</td><td>United Kingdom</td></tr><tr><td>-3.75</td><td>22726</td><td>-1</td><td>3.75</td><td>United Kingdom</td></tr><tr><td>-3.75</td><td>22202</td><td>-1</td><td>3.75</td><td>Germany</td></tr><tr><td>-3.75</td><td>22725</td><td>-1</td><td>3.75</td><td>United Kingdom</td></tr><tr><td>-3.75</td><td>21430</td><td>-1</td><td>3.75</td><td>Portugal</td></tr><tr><td>-3.75</td><td>84997D</td><td>-1</td><td>3.75</td><td>United Kingdom</td></tr><tr><td>-3.75</td><td>22725</td><td>-1</td><td>3.75</td><td>United Kingdom</td></tr><tr><td>-3.75</td><td>21430</td><td>-1</td><td>3.75</td><td>United Kingdom</td></tr><tr><td>-3.75</td><td>22725</td><td>-1</td><td>3.75</td><td>United Kingdom</td></tr><tr><td>-3.75</td><td>21231</td><td>-3</td><td>1.25</td><td>United Kingdom</td></tr><tr><td>-3.75</td><td>22725</td><td>-1</td><td>3.75</td><td>United Kingdom</td></tr><tr><td>-3.75</td><td>22511</td><td>-1</td><td>3.75</td><td>United Kingdom</td></tr><tr><td>-3.75</td><td>21891</td><td>-3</td><td>1.25</td><td>United Kingdom</td></tr><tr><td>-3.75</td><td>21430</td><td>-1</td><td>3.75</td><td>United Kingdom</td></tr><tr><td>-3.75</td><td>22728</td><td>-1</td><td>3.75</td><td>United Kingdom</td></tr><tr><td>-3.75</td><td>22726</td><td>-1</td><td>3.75</td><td>United Kingdom</td></tr><tr><td>-3.75</td><td>22801</td><td>-1</td><td>3.75</td><td>United Kingdom</td></tr><tr><td>-3.75</td><td>22592</td><td>-1</td><td>3.75</td><td>EIRE</td></tr><tr><td>-3.75</td><td>22178</td><td>-3</td><td>1.25</td><td>United Kingdom</td></tr><tr><td>-3.75</td><td>22567</td><td>-3</td><td>1.25</td><td>Japan</td></tr><tr><td>-3.75</td><td>22801</td><td>-1</td><td>3.75</td><td>United Kingdom</td></tr><tr><td>-3.75</td><td>84685</td><td>-1</td><td>3.75</td><td>United Kingdom</td></tr><tr><td>-3.75</td><td>84870B</td><td>-1</td><td>3.75</td><td>United Kingdom</td></tr><tr><td>-3.75</td><td>22730</td><td>-1</td><td>3.75</td><td>United Kingdom</td></tr><tr><td>-3.75</td><td>22072</td><td>-1</td><td>3.75</td><td>United Kingdom</td></tr><tr><td>-3.75</td><td>22727</td><td>-1</td><td>3.75</td><td>United Kingdom</td></tr><tr><td>-3.75</td><td>22730</td><td>-1</td><td>3.75</td><td>United Kingdom</td></tr><tr><td>-3.75</td><td>20931</td><td>-1</td><td>3.75</td><td>United Kingdom</td></tr><tr><td>-3.75</td><td>22727</td><td>-1</td><td>3.75</td><td>United Kingdom</td></tr><tr><td>-3.75</td><td>84946</td><td>-3</td><td>1.25</td><td>United Kingdom</td></tr><tr><td>-3.75</td><td>22203</td><td>-1</td><td>3.75</td><td>Germany</td></tr><tr><td>-3.75</td><td>22800</td><td>-1</td><td>3.75</td><td>United Kingdom</td></tr><tr><td>-3.78</td><td>22893</td><td>-9</td><td>0.42</td><td>United Kingdom</td></tr><tr><td>-3.9</td><td>22630</td><td>-2</td><td>1.95</td><td>France</td></tr><tr><td>-3.9</td><td>21822</td><td>-2</td><td>1.95</td><td>United Kingdom</td></tr><tr><td>-3.9</td><td>22386</td><td>-2</td><td>1.95</td><td>United Kingdom</td></tr><tr><td>-3.95</td><td>22722</td><td>-1</td><td>3.95</td><td>United Kingdom</td></tr><tr><td>-3.95</td><td>21658</td><td>-1</td><td>3.95</td><td>United Kingdom</td></tr><tr><td>-3.95</td><td>22778</td><td>-1</td><td>3.95</td><td>United Kingdom</td></tr><tr><td>-3.95</td><td>22778</td><td>-1</td><td>3.95</td><td>United Kingdom</td></tr><tr><td>-3.95</td><td>21658</td><td>-1</td><td>3.95</td><td>United Kingdom</td></tr><tr><td>-3.95</td><td>84813</td><td>-1</td><td>3.95</td><td>United Kingdom</td></tr><tr><td>-3.95</td><td>21658</td><td>-1</td><td>3.95</td><td>Germany</td></tr><tr><td>-3.95</td><td>22778</td><td>-1</td><td>3.95</td><td>Germany</td></tr><tr><td>-3.95</td><td>21658</td><td>-1</td><td>3.95</td><td>Germany</td></tr><tr><td>-3.95</td><td>21658</td><td>-1</td><td>3.95</td><td>United Kingdom</td></tr><tr><td>-4.2</td><td>21314</td><td>-2</td><td>2.1</td><td>United Kingdom</td></tr><tr><td>-4.2</td><td>20829</td><td>-2</td><td>2.1</td><td>United Kingdom</td></tr><tr><td>-4.2</td><td>22964</td><td>-2</td><td>2.1</td><td>Germany</td></tr><tr><td>-4.2</td><td>22440</td><td>-10</td><td>0.42</td><td>United Kingdom</td></tr><tr><td>-4.2</td><td>20829</td><td>-2</td><td>2.1</td><td>United Kingdom</td></tr><tr><td>-4.2</td><td>22956</td><td>-2</td><td>2.1</td><td>Germany</td></tr><tr><td>-4.24</td><td>21232</td><td>-4</td><td>1.06</td><td>United Kingdom</td></tr><tr><td>-4.25</td><td>22960</td><td>-1</td><td>4.25</td><td>United Kingdom</td></tr><tr><td>-4.25</td><td>72807C</td><td>-1</td><td>4.25</td><td>United Kingdom</td></tr><tr><td>-4.25</td><td>21533</td><td>-1</td><td>4.25</td><td>United Kingdom</td></tr><tr><td>-4.25</td><td>22371</td><td>-1</td><td>4.25</td><td>United Kingdom</td></tr><tr><td>-4.25</td><td>22201</td><td>-1</td><td>4.25</td><td>United Kingdom</td></tr><tr><td>-4.25</td><td>22923</td><td>-5</td><td>0.85</td><td>Germany</td></tr><tr><td>-4.25</td><td>22357</td><td>-1</td><td>4.25</td><td>United Kingdom</td></tr><tr><td>-4.25</td><td>22187</td><td>-1</td><td>4.25</td><td>EIRE</td></tr><tr><td>-4.25</td><td>72807A</td><td>-1</td><td>4.25</td><td>United Kingdom</td></tr><tr><td>-4.25</td><td>72802B</td><td>-1</td><td>4.25</td><td>United Kingdom</td></tr><tr><td>-4.25</td><td>84945</td><td>-5</td><td>0.85</td><td>Germany</td></tr><tr><td>-4.25</td><td>22960</td><td>-1</td><td>4.25</td><td>United Kingdom</td></tr><tr><td>-4.25</td><td>84819</td><td>-1</td><td>4.25</td><td>United Kingdom</td></tr><tr><td>-4.25</td><td>21537</td><td>-1</td><td>4.25</td><td>United Kingdom</td></tr><tr><td>-4.25</td><td>22780</td><td>-1</td><td>4.25</td><td>United Kingdom</td></tr><tr><td>-4.25</td><td>M</td><td>-1</td><td>4.25</td><td>United Kingdom</td></tr><tr><td>-4.25</td><td>22156</td><td>-5</td><td>0.85</td><td>United Kingdom</td></tr><tr><td>-4.25</td><td>79321</td><td>-1</td><td>4.25</td><td>United Kingdom</td></tr><tr><td>-4.25</td><td>22940</td><td>-1</td><td>4.25</td><td>United Kingdom</td></tr><tr><td>-4.35</td><td>20727</td><td>-3</td><td>1.45</td><td>United Kingdom</td></tr><tr><td>-4.35</td><td>20725</td><td>-3</td><td>1.45</td><td>United Kingdom</td></tr><tr><td>-4.41</td><td>POST</td><td>-1</td><td>4.41</td><td>United Kingdom</td></tr><tr><td>-4.5</td><td>21578</td><td>-2</td><td>2.25</td><td>Germany</td></tr><tr><td>-4.56</td><td>21144</td><td>-12</td><td>0.38</td><td>EIRE</td></tr><tr><td>-4.62</td><td>22536</td><td>-11</td><td>0.42</td><td>United Kingdom</td></tr><tr><td>-4.65</td><td>47567B</td><td>-1</td><td>4.65</td><td>United Kingdom</td></tr><tr><td>-4.65</td><td>35004C</td><td>-1</td><td>4.65</td><td>United Kingdom</td></tr><tr><td>-4.65</td><td>35004C</td><td>-1</td><td>4.65</td><td>United Kingdom</td></tr><tr><td>-4.95</td><td>22720</td><td>-1</td><td>4.95</td><td>United Kingdom</td></tr><tr><td>-4.95</td><td>22111</td><td>-1</td><td>4.95</td><td>United Kingdom</td></tr><tr><td>-4.95</td><td>22617</td><td>-1</td><td>4.95</td><td>United Kingdom</td></tr><tr><td>-4.95</td><td>22720</td><td>-1</td><td>4.95</td><td>United Kingdom</td></tr><tr><td>-4.95</td><td>22720</td><td>-1</td><td>4.95</td><td>United Kingdom</td></tr><tr><td>-4.95</td><td>22784</td><td>-1</td><td>4.95</td><td>United Kingdom</td></tr><tr><td>-4.95</td><td>84949</td><td>-3</td><td>1.65</td><td>United Kingdom</td></tr><tr><td>-4.95</td><td>22472</td><td>-1</td><td>4.95</td><td>Germany</td></tr><tr><td>-4.95</td><td>22784</td><td>-1</td><td>4.95</td><td>United Kingdom</td></tr><tr><td>-4.95</td><td>22720</td><td>-1</td><td>4.95</td><td>United Kingdom</td></tr><tr><td>-4.95</td><td>22198</td><td>-3</td><td>1.65</td><td>United Kingdom</td></tr><tr><td>-4.95</td><td>85042</td><td>-1</td><td>4.95</td><td>United Kingdom</td></tr><tr><td>-4.95</td><td>22649</td><td>-1</td><td>4.95</td><td>United Kingdom</td></tr><tr><td>-4.95</td><td>22617</td><td>-1</td><td>4.95</td><td>United Kingdom</td></tr><tr><td>-4.95</td><td>22617</td><td>-1</td><td>4.95</td><td>United Kingdom</td></tr><tr><td>-4.95</td><td>22943</td><td>-1</td><td>4.95</td><td>United Kingdom</td></tr><tr><td>-4.95</td><td>22654</td><td>-1</td><td>4.95</td><td>United Kingdom</td></tr><tr><td>-4.95</td><td>22138</td><td>-1</td><td>4.95</td><td>United Kingdom</td></tr><tr><td>-4.95</td><td>22784</td><td>-1</td><td>4.95</td><td>United Kingdom</td></tr><tr><td>-4.95</td><td>21363</td><td>-1</td><td>4.95</td><td>United Kingdom</td></tr><tr><td>-4.95</td><td>21533</td><td>-1</td><td>4.95</td><td>United Kingdom</td></tr><tr><td>-4.95</td><td>22720</td><td>-1</td><td>4.95</td><td>United Kingdom</td></tr><tr><td>-4.95</td><td>22623</td><td>-1</td><td>4.95</td><td>United Kingdom</td></tr><tr><td>-4.95</td><td>22138</td><td>-1</td><td>4.95</td><td>United Kingdom</td></tr><tr><td>-4.95</td><td>22649</td><td>-1</td><td>4.95</td><td>United Kingdom</td></tr><tr><td>-4.95</td><td>22456</td><td>-1</td><td>4.95</td><td>United Kingdom</td></tr><tr><td>-4.95</td><td>21539</td><td>-1</td><td>4.95</td><td>United Kingdom</td></tr><tr><td>-4.95</td><td>21539</td><td>-1</td><td>4.95</td><td>United Kingdom</td></tr><tr><td>-4.95</td><td>85174</td><td>-1</td><td>4.95</td><td>United Kingdom</td></tr><tr><td>-4.95</td><td>22854</td><td>-1</td><td>4.95</td><td>United Kingdom</td></tr><tr><td>-4.95</td><td>21622</td><td>-1</td><td>4.95</td><td>United Kingdom</td></tr><tr><td>-4.95</td><td>79164</td><td>-3</td><td>1.65</td><td>United Kingdom</td></tr><tr><td>-4.95</td><td>21463</td><td>-1</td><td>4.95</td><td>United Kingdom</td></tr><tr><td>-4.95</td><td>21485</td><td>-1</td><td>4.95</td><td>United Kingdom</td></tr><tr><td>-4.95</td><td>79320</td><td>-1</td><td>4.95</td><td>United Kingdom</td></tr><tr><td>-4.95</td><td>22649</td><td>-1</td><td>4.95</td><td>United Kingdom</td></tr><tr><td>-4.95</td><td>22278</td><td>-1</td><td>4.95</td><td>United Kingdom</td></tr><tr><td>-4.95</td><td>22662</td><td>-3</td><td>1.65</td><td>France</td></tr><tr><td>-4.95</td><td>22430</td><td>-1</td><td>4.95</td><td>United Kingdom</td></tr><tr><td>-5.0</td><td>22299</td><td>-4</td><td>1.25</td><td>United Kingdom</td></tr><tr><td>-5.0</td><td>37447</td><td>-4</td><td>1.25</td><td>United Kingdom</td></tr><tr><td>-5.0</td><td>21231</td><td>-4</td><td>1.25</td><td>United Kingdom</td></tr><tr><td>-5.0</td><td>21915</td><td>-4</td><td>1.25</td><td>United Kingdom</td></tr><tr><td>-5.0</td><td>21445</td><td>-4</td><td>1.25</td><td>United Kingdom</td></tr><tr><td>-5.0</td><td>21868</td><td>-4</td><td>1.25</td><td>United Kingdom</td></tr><tr><td>-5.0</td><td>21232</td><td>-4</td><td>1.25</td><td>Germany</td></tr><tr><td>-5.0</td><td>21826</td><td>-4</td><td>1.25</td><td>United Kingdom</td></tr><tr><td>-5.0</td><td>21868</td><td>-4</td><td>1.25</td><td>United Kingdom</td></tr><tr><td>-5.0</td><td>22065</td><td>-4</td><td>1.25</td><td>United Kingdom</td></tr><tr><td>-5.04</td><td>22034</td><td>-12</td><td>0.42</td><td>EIRE</td></tr><tr><td>-5.07</td><td>82583</td><td>-3</td><td>1.69</td><td>United Kingdom</td></tr><tr><td>-5.1</td><td>84945</td><td>-6</td><td>0.85</td><td>United Kingdom</td></tr><tr><td>-5.1</td><td>21531</td><td>-2</td><td>2.55</td><td>United Kingdom</td></tr><tr><td>-5.1</td><td>82482</td><td>-2</td><td>2.55</td><td>United Kingdom</td></tr><tr><td>-5.1</td><td>22700</td><td>-6</td><td>0.85</td><td>United Kingdom</td></tr><tr><td>-5.45</td><td>47590A</td><td>-1</td><td>5.45</td><td>United Kingdom</td></tr><tr><td>-5.55</td><td>85047</td><td>-1</td><td>5.55</td><td>United Kingdom</td></tr><tr><td>-5.55</td><td>16202E</td><td>-1</td><td>5.55</td><td>United Kingdom</td></tr><tr><td>-5.75</td><td>POST</td><td>-1</td><td>5.75</td><td>United Kingdom</td></tr><tr><td>-5.76</td><td>D</td><td>-1</td><td>5.76</td><td>United Kingdom</td></tr><tr><td>-5.8</td><td>22198</td><td>-4</td><td>1.45</td><td>United Kingdom</td></tr><tr><td>-5.8</td><td>22064</td><td>-4</td><td>1.45</td><td>United Kingdom</td></tr><tr><td>-5.85</td><td>85099B</td><td>-3</td><td>1.95</td><td>United Kingdom</td></tr><tr><td>-5.85</td><td>22466</td><td>-3</td><td>1.95</td><td>United Kingdom</td></tr><tr><td>-5.9</td><td>21890</td><td>-2</td><td>2.95</td><td>United Kingdom</td></tr><tr><td>-5.9</td><td>71279</td><td>-2</td><td>2.95</td><td>United Kingdom</td></tr><tr><td>-5.9</td><td>22766</td><td>-2</td><td>2.95</td><td>United Kingdom</td></tr><tr><td>-5.9</td><td>22328</td><td>-2</td><td>2.95</td><td>United Kingdom</td></tr><tr><td>-5.9</td><td>20914</td><td>-2</td><td>2.95</td><td>United Kingdom</td></tr><tr><td>-5.9</td><td>22911</td><td>-2</td><td>2.95</td><td>United Kingdom</td></tr><tr><td>-5.9</td><td>21845</td><td>-2</td><td>2.95</td><td>United Kingdom</td></tr><tr><td>-5.9</td><td>22701</td><td>-2</td><td>2.95</td><td>United Kingdom</td></tr><tr><td>-5.9</td><td>22798</td><td>-2</td><td>2.95</td><td>United Kingdom</td></tr><tr><td>-5.9</td><td>22667</td><td>-2</td><td>2.95</td><td>Portugal</td></tr><tr><td>-5.9</td><td>22358</td><td>-2</td><td>2.95</td><td>United Kingdom</td></tr><tr><td>-5.9</td><td>20914</td><td>-2</td><td>2.95</td><td>United Kingdom</td></tr><tr><td>-5.9</td><td>20914</td><td>-2</td><td>2.95</td><td>United Kingdom</td></tr><tr><td>-5.95</td><td>82483</td><td>-1</td><td>5.95</td><td>United Kingdom</td></tr><tr><td>-5.95</td><td>82483</td><td>-1</td><td>5.95</td><td>United Kingdom</td></tr><tr><td>-5.95</td><td>21463</td><td>-1</td><td>5.95</td><td>United Kingdom</td></tr><tr><td>-5.95</td><td>22822</td><td>-1</td><td>5.95</td><td>United Kingdom</td></tr><tr><td>-5.95</td><td>82483</td><td>-1</td><td>5.95</td><td>United Kingdom</td></tr><tr><td>-5.95</td><td>84945</td><td>-7</td><td>0.85</td><td>United Kingdom</td></tr><tr><td>-5.95</td><td>22418</td><td>-7</td><td>0.85</td><td>United Kingdom</td></tr><tr><td>-5.95</td><td>84625C</td><td>-7</td><td>0.85</td><td>United Kingdom</td></tr><tr><td>-5.95</td><td>21755</td><td>-1</td><td>5.95</td><td>United Kingdom</td></tr><tr><td>-5.95</td><td>82483</td><td>-1</td><td>5.95</td><td>United Kingdom</td></tr><tr><td>-5.95</td><td>22907</td><td>-7</td><td>0.85</td><td>United Kingdom</td></tr><tr><td>-5.95</td><td>22654</td><td>-1</td><td>5.95</td><td>Germany</td></tr><tr><td>-6.25</td><td>22564</td><td>-5</td><td>1.25</td><td>United Kingdom</td></tr><tr><td>-6.25</td><td>22094</td><td>-5</td><td>1.25</td><td>Australia</td></tr><tr><td>-6.3</td><td>21314</td><td>-3</td><td>2.1</td><td>United Kingdom</td></tr><tr><td>-6.3</td><td>82582</td><td>-3</td><td>2.1</td><td>United Kingdom</td></tr><tr><td>-6.6</td><td>22329</td><td>-4</td><td>1.65</td><td>United Kingdom</td></tr><tr><td>-6.6</td><td>22659</td><td>-4</td><td>1.65</td><td>United Kingdom</td></tr><tr><td>-6.6</td><td>22077</td><td>-4</td><td>1.65</td><td>Germany</td></tr><tr><td>-6.6</td><td>20798</td><td>-4</td><td>1.65</td><td>United Kingdom</td></tr><tr><td>-6.6</td><td>22555</td><td>-4</td><td>1.65</td><td>Germany</td></tr><tr><td>-6.75</td><td>22170</td><td>-1</td><td>6.75</td><td>United Kingdom</td></tr><tr><td>-6.75</td><td>22795</td><td>-1</td><td>6.75</td><td>United Kingdom</td></tr><tr><td>-6.75</td><td>22179</td><td>-1</td><td>6.75</td><td>United Kingdom</td></tr><tr><td>-6.75</td><td>21906</td><td>-1</td><td>6.75</td><td>United Kingdom</td></tr><tr><td>-6.8</td><td>21238</td><td>-8</td><td>0.85</td><td>United Kingdom</td></tr><tr><td>-6.8</td><td>22963</td><td>-8</td><td>0.85</td><td>United Kingdom</td></tr><tr><td>-6.8</td><td>22963</td><td>-8</td><td>0.85</td><td>United Kingdom</td></tr><tr><td>-6.8</td><td>21240</td><td>-8</td><td>0.85</td><td>United Kingdom</td></tr><tr><td>-6.95</td><td>21527</td><td>-1</td><td>6.95</td><td>United Kingdom</td></tr><tr><td>-6.95</td><td>21528</td><td>-1</td><td>6.95</td><td>United Kingdom</td></tr><tr><td>-6.95</td><td>21527</td><td>-1</td><td>6.95</td><td>United Kingdom</td></tr><tr><td>-6.96</td><td>21984</td><td>-24</td><td>0.29</td><td>United Kingdom</td></tr><tr><td>-6.96</td><td>21980</td><td>-24</td><td>0.29</td><td>United Kingdom</td></tr><tr><td>-6.96</td><td>21983</td><td>-24</td><td>0.29</td><td>United Kingdom</td></tr><tr><td>-7.06</td><td>POST</td><td>-1</td><td>7.06</td><td>United Kingdom</td></tr><tr><td>-7.25</td><td>84985A</td><td>-5</td><td>1.45</td><td>United Kingdom</td></tr><tr><td>-7.5</td><td>22508</td><td>-2</td><td>3.75</td><td>United Kingdom</td></tr><tr><td>-7.5</td><td>84279P</td><td>-2</td><td>3.75</td><td>United Kingdom</td></tr><tr><td>-7.5</td><td>22726</td><td>-2</td><td>3.75</td><td>United Kingdom</td></tr><tr><td>-7.5</td><td>22960</td><td>-2</td><td>3.75</td><td>United Kingdom</td></tr><tr><td>-7.5</td><td>22727</td><td>-2</td><td>3.75</td><td>United Kingdom</td></tr><tr><td>-7.5</td><td>21430</td><td>-2</td><td>3.75</td><td>United Kingdom</td></tr><tr><td>-7.5</td><td>22073</td><td>-2</td><td>3.75</td><td>United Kingdom</td></tr><tr><td>-7.5</td><td>22726</td><td>-2</td><td>3.75</td><td>United Kingdom</td></tr><tr><td>-7.5</td><td>22727</td><td>-2</td><td>3.75</td><td>United Kingdom</td></tr><tr><td>-7.65</td><td>22169</td><td>-1</td><td>7.65</td><td>United Kingdom</td></tr><tr><td>-7.65</td><td>22352</td><td>-3</td><td>2.55</td><td>Italy</td></tr><tr><td>-7.65</td><td>22300</td><td>-3</td><td>2.55</td><td>Germany</td></tr><tr><td>-7.65</td><td>22781</td><td>-1</td><td>7.65</td><td>United Kingdom</td></tr><tr><td>-7.65</td><td>21936</td><td>-3</td><td>2.55</td><td>United Kingdom</td></tr><tr><td>-7.8</td><td>22244</td><td>-4</td><td>1.95</td><td>Germany</td></tr><tr><td>-7.9</td><td>22722</td><td>-2</td><td>3.95</td><td>United Kingdom</td></tr><tr><td>-7.95</td><td>82486</td><td>-1</td><td>7.95</td><td>United Kingdom</td></tr><tr><td>-7.95</td><td>21527</td><td>-1</td><td>7.95</td><td>United Kingdom</td></tr><tr><td>-7.95</td><td>21527</td><td>-1</td><td>7.95</td><td>United Kingdom</td></tr><tr><td>-7.95</td><td>22840</td><td>-1</td><td>7.95</td><td>United Kingdom</td></tr><tr><td>-7.95</td><td>85048</td><td>-1</td><td>7.95</td><td>United Kingdom</td></tr><tr><td>-7.95</td><td>21527</td><td>-1</td><td>7.95</td><td>United Kingdom</td></tr><tr><td>-7.95</td><td>85068</td><td>-1</td><td>7.95</td><td>United Kingdom</td></tr><tr><td>-7.95</td><td>21527</td><td>-1</td><td>7.95</td><td>United Kingdom</td></tr><tr><td>-7.95</td><td>21527</td><td>-1</td><td>7.95</td><td>United Kingdom</td></tr><tr><td>-7.95</td><td>82486</td><td>-1</td><td>7.95</td><td>United Kingdom</td></tr><tr><td>-7.95</td><td>85048</td><td>-1</td><td>7.95</td><td>United Kingdom</td></tr><tr><td>-7.95</td><td>85135C</td><td>-1</td><td>7.95</td><td>United Kingdom</td></tr><tr><td>-7.95</td><td>85048</td><td>-1</td><td>7.95</td><td>United Kingdom</td></tr><tr><td>-7.95</td><td>20685</td><td>-1</td><td>7.95</td><td>United Kingdom</td></tr><tr><td>-8.25</td><td>22242</td><td>-5</td><td>1.65</td><td>Germany</td></tr><tr><td>-8.25</td><td>84406B</td><td>-3</td><td>2.75</td><td>United Kingdom</td></tr><tr><td>-8.25</td><td>84949</td><td>-5</td><td>1.65</td><td>United Kingdom</td></tr><tr><td>-8.25</td><td>22198</td><td>-5</td><td>1.65</td><td>United Kingdom</td></tr><tr><td>-8.4</td><td>22748</td><td>-4</td><td>2.1</td><td>United Kingdom</td></tr><tr><td>-8.4</td><td>22633</td><td>-4</td><td>2.1</td><td>United Kingdom</td></tr><tr><td>-8.4</td><td>82613D</td><td>-20</td><td>0.42</td><td>United Kingdom</td></tr><tr><td>-8.4</td><td>82613B</td><td>-20</td><td>0.42</td><td>United Kingdom</td></tr><tr><td>-8.4</td><td>22970</td><td>-4</td><td>2.1</td><td>United Kingdom</td></tr><tr><td>-8.4</td><td>82613C</td><td>-20</td><td>0.42</td><td>United Kingdom</td></tr><tr><td>-8.4</td><td>21531</td><td>-4</td><td>2.1</td><td>United Kingdom</td></tr><tr><td>-8.5</td><td>22456</td><td>-2</td><td>4.25</td><td>United Kingdom</td></tr><tr><td>-8.5</td><td>22617</td><td>-2</td><td>4.25</td><td>United Kingdom</td></tr><tr><td>-8.5</td><td>22768</td><td>-1</td><td>8.5</td><td>United Kingdom</td></tr><tr><td>-8.5</td><td>22171</td><td>-1</td><td>8.5</td><td>United Kingdom</td></tr><tr><td>-8.5</td><td>22942</td><td>-1</td><td>8.5</td><td>United Kingdom</td></tr><tr><td>-8.5</td><td>22437</td><td>-10</td><td>0.85</td><td>United Kingdom</td></tr><tr><td>-8.5</td><td>22960</td><td>-2</td><td>4.25</td><td>United Kingdom</td></tr><tr><td>-8.5</td><td>22168</td><td>-1</td><td>8.5</td><td>United Kingdom</td></tr><tr><td>-8.5</td><td>79066K</td><td>-10</td><td>0.85</td><td>United Kingdom</td></tr><tr><td>-8.5</td><td>22636</td><td>-1</td><td>8.5</td><td>Germany</td></tr><tr><td>-8.5</td><td>22061</td><td>-1</td><td>8.5</td><td>United Kingdom</td></tr><tr><td>-8.5</td><td>22627</td><td>-1</td><td>8.5</td><td>United Kingdom</td></tr><tr><td>-8.5</td><td>22941</td><td>-1</td><td>8.5</td><td>United Kingdom</td></tr><tr><td>-8.5</td><td>22636</td><td>-1</td><td>8.5</td><td>United Kingdom</td></tr><tr><td>-8.5</td><td>22501</td><td>-1</td><td>8.5</td><td>United Kingdom</td></tr><tr><td>-8.5</td><td>22890</td><td>-1</td><td>8.5</td><td>United Kingdom</td></tr><tr><td>-8.5</td><td>22168</td><td>-1</td><td>8.5</td><td>United Kingdom</td></tr><tr><td>-8.5</td><td>22941</td><td>-1</td><td>8.5</td><td>United Kingdom</td></tr><tr><td>-8.5</td><td>22942</td><td>-1</td><td>8.5</td><td>United Kingdom</td></tr><tr><td>-8.5</td><td>22942</td><td>-1</td><td>8.5</td><td>United Kingdom</td></tr><tr><td>-8.5</td><td>22636</td><td>-1</td><td>8.5</td><td>Germany</td></tr><tr><td>-8.5</td><td>22941</td><td>-1</td><td>8.5</td><td>United Kingdom</td></tr><tr><td>-8.5</td><td>22942</td><td>-1</td><td>8.5</td><td>United Kingdom</td></tr><tr><td>-8.5</td><td>22197</td><td>-10</td><td>0.85</td><td>United Kingdom</td></tr><tr><td>-8.5</td><td>22184</td><td>-1</td><td>8.5</td><td>United Kingdom</td></tr><tr><td>-8.5</td><td>22184</td><td>-1</td><td>8.5</td><td>United Kingdom</td></tr><tr><td>-8.5</td><td>22960</td><td>-2</td><td>4.25</td><td>United Kingdom</td></tr><tr><td>-8.5</td><td>22429</td><td>-2</td><td>4.25</td><td>United Kingdom</td></tr><tr><td>-8.75</td><td>22091</td><td>-7</td><td>1.25</td><td>Germany</td></tr><tr><td>-8.75</td><td>85118</td><td>-7</td><td>1.25</td><td>United Kingdom</td></tr><tr><td>-8.75</td><td>22892</td><td>-7</td><td>1.25</td><td>Germany</td></tr><tr><td>-8.85</td><td>22667</td><td>-3</td><td>2.95</td><td>France</td></tr><tr><td>-8.85</td><td>22766</td><td>-3</td><td>2.95</td><td>United Kingdom</td></tr><tr><td>-8.85</td><td>22697</td><td>-3</td><td>2.95</td><td>United Kingdom</td></tr><tr><td>-8.85</td><td>21733</td><td>-3</td><td>2.95</td><td>United Kingdom</td></tr><tr><td>-8.85</td><td>22273</td><td>-3</td><td>2.95</td><td>United Kingdom</td></tr><tr><td>-8.85</td><td>22700</td><td>-3</td><td>2.95</td><td>United Kingdom</td></tr><tr><td>-8.85</td><td>22665</td><td>-3</td><td>2.95</td><td>United Kingdom</td></tr><tr><td>-8.85</td><td>22798</td><td>-3</td><td>2.95</td><td>United Kingdom</td></tr><tr><td>-8.85</td><td>22457</td><td>-3</td><td>2.95</td><td>United Kingdom</td></tr><tr><td>-8.95</td><td>21056</td><td>-1</td><td>8.95</td><td>United Kingdom</td></tr><tr><td>-8.95</td><td>35400</td><td>-1</td><td>8.95</td><td>United Kingdom</td></tr><tr><td>-8.95</td><td>35400</td><td>-1</td><td>8.95</td><td>United Kingdom</td></tr><tr><td>-8.95</td><td>35400</td><td>-1</td><td>8.95</td><td>United Kingdom</td></tr><tr><td>-8.95</td><td>21056</td><td>-1</td><td>8.95</td><td>United Kingdom</td></tr><tr><td>-9.3</td><td>84792</td><td>-2</td><td>4.65</td><td>United Kingdom</td></tr><tr><td>-9.3</td><td>35004B</td><td>-2</td><td>4.65</td><td>United Kingdom</td></tr><tr><td>-9.3</td><td>84792</td><td>-2</td><td>4.65</td><td>United Kingdom</td></tr><tr><td>-9.35</td><td>22418</td><td>-11</td><td>0.85</td><td>United Kingdom</td></tr><tr><td>-9.35</td><td>22603</td><td>-11</td><td>0.85</td><td>United Kingdom</td></tr><tr><td>-9.75</td><td>21260</td><td>-3</td><td>3.25</td><td>United Kingdom</td></tr><tr><td>-9.9</td><td>22649</td><td>-2</td><td>4.95</td><td>Germany</td></tr><tr><td>-9.9</td><td>22859</td><td>-6</td><td>1.65</td><td>Germany</td></tr><tr><td>-9.9</td><td>22077</td><td>-6</td><td>1.65</td><td>Germany</td></tr><tr><td>-9.9</td><td>85042</td><td>-2</td><td>4.95</td><td>United Kingdom</td></tr><tr><td>-9.9</td><td>22198</td><td>-6</td><td>1.65</td><td>United Kingdom</td></tr><tr><td>-9.9</td><td>82483</td><td>-2</td><td>4.95</td><td>United Kingdom</td></tr><tr><td>-9.9</td><td>22939</td><td>-2</td><td>4.95</td><td>EIRE</td></tr><tr><td>-9.9</td><td>22243</td><td>-6</td><td>1.65</td><td>United Kingdom</td></tr><tr><td>-9.9</td><td>21485</td><td>-2</td><td>4.95</td><td>United Kingdom</td></tr><tr><td>-9.9</td><td>22720</td><td>-2</td><td>4.95</td><td>United Kingdom</td></tr><tr><td>-9.9</td><td>22860</td><td>-6</td><td>1.65</td><td>Germany</td></tr><tr><td>-9.95</td><td>37449</td><td>-1</td><td>9.95</td><td>United Kingdom</td></tr><tr><td>-9.95</td><td>22776</td><td>-1</td><td>9.95</td><td>United Kingdom</td></tr><tr><td>-9.95</td><td>22968</td><td>-1</td><td>9.95</td><td>Germany</td></tr><tr><td>-9.95</td><td>22220</td><td>-1</td><td>9.95</td><td>United Kingdom</td></tr><tr><td>-9.95</td><td>22634</td><td>-1</td><td>9.95</td><td>France</td></tr><tr><td>-9.95</td><td>37449</td><td>-1</td><td>9.95</td><td>United Kingdom</td></tr><tr><td>-9.95</td><td>22776</td><td>-1</td><td>9.95</td><td>United Kingdom</td></tr><tr><td>-9.95</td><td>21217</td><td>-1</td><td>9.95</td><td>United Kingdom</td></tr><tr><td>-9.95</td><td>22776</td><td>-1</td><td>9.95</td><td>United Kingdom</td></tr><tr><td>-9.95</td><td>21217</td><td>-1</td><td>9.95</td><td>Australia</td></tr><tr><td>-9.95</td><td>22776</td><td>-1</td><td>9.95</td><td>United Kingdom</td></tr><tr><td>-9.95</td><td>22180</td><td>-1</td><td>9.95</td><td>United Kingdom</td></tr><tr><td>-9.95</td><td>22776</td><td>-1</td><td>9.95</td><td>United Kingdom</td></tr><tr><td>-9.95</td><td>22634</td><td>-1</td><td>9.95</td><td>United Kingdom</td></tr><tr><td>-9.95</td><td>37500</td><td>-1</td><td>9.95</td><td>United Kingdom</td></tr><tr><td>-9.95</td><td>22618</td><td>-1</td><td>9.95</td><td>United Kingdom</td></tr><tr><td>-9.95</td><td>37449</td><td>-1</td><td>9.95</td><td>United Kingdom</td></tr><tr><td>-9.95</td><td>22768</td><td>-1</td><td>9.95</td><td>United Kingdom</td></tr><tr><td>-9.95</td><td>22768</td><td>-1</td><td>9.95</td><td>United Kingdom</td></tr><tr><td>-9.95</td><td>22767</td><td>-1</td><td>9.95</td><td>United Kingdom</td></tr><tr><td>-9.95</td><td>21843</td><td>-1</td><td>9.95</td><td>United Kingdom</td></tr><tr><td>-9.95</td><td>22060</td><td>-1</td><td>9.95</td><td>Belgium</td></tr><tr><td>-9.95</td><td>22220</td><td>-1</td><td>9.95</td><td>United Kingdom</td></tr><tr><td>-9.95</td><td>22776</td><td>-1</td><td>9.95</td><td>United Kingdom</td></tr><tr><td>-9.95</td><td>37449</td><td>-1</td><td>9.95</td><td>United Kingdom</td></tr><tr><td>-10.0</td><td>20675</td><td>-8</td><td>1.25</td><td>United Kingdom</td></tr><tr><td>-10.0</td><td>20676</td><td>-8</td><td>1.25</td><td>United Kingdom</td></tr><tr><td>-10.0</td><td>22620</td><td>-8</td><td>1.25</td><td>United Kingdom</td></tr><tr><td>-10.08</td><td>21830</td><td>-24</td><td>0.42</td><td>United Kingdom</td></tr><tr><td>-10.08</td><td>21284</td><td>-24</td><td>0.42</td><td>United Kingdom</td></tr><tr><td>-10.2</td><td>22196</td><td>-12</td><td>0.85</td><td>United Kingdom</td></tr><tr><td>-10.2</td><td>22360</td><td>-4</td><td>2.55</td><td>United Kingdom</td></tr><tr><td>-10.2</td><td>22600</td><td>-12</td><td>0.85</td><td>United Kingdom</td></tr><tr><td>-10.2</td><td>22230</td><td>-12</td><td>0.85</td><td>United Kingdom</td></tr><tr><td>-10.2</td><td>22348</td><td>-12</td><td>0.85</td><td>United Kingdom</td></tr><tr><td>-10.2</td><td>22196</td><td>-12</td><td>0.85</td><td>United Kingdom</td></tr><tr><td>-10.5</td><td>22049</td><td>-25</td><td>0.42</td><td>United Kingdom</td></tr><tr><td>-10.75</td><td>22832</td><td>-1</td><td>10.75</td><td>United Kingdom</td></tr><tr><td>-10.75</td><td>37503</td><td>-1</td><td>10.75</td><td>United Kingdom</td></tr><tr><td>-10.95</td><td>21843</td><td>-1</td><td>10.95</td><td>United Kingdom</td></tr><tr><td>-10.95</td><td>21843</td><td>-1</td><td>10.95</td><td>United Kingdom</td></tr><tr><td>-10.95</td><td>21843</td><td>-1</td><td>10.95</td><td>United Kingdom</td></tr><tr><td>-10.95</td><td>21843</td><td>-1</td><td>10.95</td><td>United Kingdom</td></tr><tr><td>-10.95</td><td>21258</td><td>-1</td><td>10.95</td><td>United Kingdom</td></tr><tr><td>-10.95</td><td>21843</td><td>-1</td><td>10.95</td><td>France</td></tr><tr><td>-10.95</td><td>21843</td><td>-1</td><td>10.95</td><td>United Kingdom</td></tr><tr><td>-10.95</td><td>21843</td><td>-1</td><td>10.95</td><td>United Kingdom</td></tr><tr><td>-10.95</td><td>21843</td><td>-1</td><td>10.95</td><td>France</td></tr><tr><td>-11.0</td><td>71477</td><td>-4</td><td>2.75</td><td>United Kingdom</td></tr><tr><td>-11.05</td><td>22923</td><td>-13</td><td>0.85</td><td>United Kingdom</td></tr><tr><td>-11.25</td><td>22251</td><td>-9</td><td>1.25</td><td>United Kingdom</td></tr><tr><td>-11.25</td><td>21218</td><td>-3</td><td>3.75</td><td>Belgium</td></tr><tr><td>-11.25</td><td>22728</td><td>-3</td><td>3.75</td><td>United Kingdom</td></tr><tr><td>-11.25</td><td>22725</td><td>-3</td><td>3.75</td><td>United Kingdom</td></tr><tr><td>-11.25</td><td>22726</td><td>-3</td><td>3.75</td><td>United Kingdom</td></tr><tr><td>-11.25</td><td>21218</td><td>-3</td><td>3.75</td><td>Germany</td></tr><tr><td>-11.44</td><td>85159B</td><td>-2</td><td>5.72</td><td>United Kingdom</td></tr><tr><td>-11.55</td><td>22333</td><td>-7</td><td>1.65</td><td>Australia</td></tr><tr><td>-11.55</td><td>85040A</td><td>-7</td><td>1.65</td><td>United Kingdom</td></tr><tr><td>-11.55</td><td>22972</td><td>-7</td><td>1.65</td><td>Germany</td></tr><tr><td>-11.6</td><td>22646</td><td>-8</td><td>1.45</td><td>Germany</td></tr><tr><td>-11.66</td><td>21231</td><td>-11</td><td>1.06</td><td>United Kingdom</td></tr><tr><td>-11.7</td><td>22575</td><td>-6</td><td>1.95</td><td>United Kingdom</td></tr><tr><td>-11.7</td><td>22659</td><td>-6</td><td>1.95</td><td>United Kingdom</td></tr><tr><td>-11.8</td><td>22699</td><td>-4</td><td>2.95</td><td>United Kingdom</td></tr><tr><td>-11.8</td><td>21452</td><td>-4</td><td>2.95</td><td>Germany</td></tr><tr><td>-11.8</td><td>22327</td><td>-4</td><td>2.95</td><td>United Kingdom</td></tr><tr><td>-11.8</td><td>22496</td><td>-4</td><td>2.95</td><td>United Kingdom</td></tr><tr><td>-11.9</td><td>90211B</td><td>-2</td><td>5.95</td><td>United Kingdom</td></tr><tr><td>-12.0</td><td>20801</td><td>-16</td><td>0.75</td><td>United Kingdom</td></tr><tr><td>-12.34</td><td>POST</td><td>-1</td><td>12.34</td><td>United Kingdom</td></tr><tr><td>-12.5</td><td>20718</td><td>-10</td><td>1.25</td><td>United Kingdom</td></tr><tr><td>-12.5</td><td>22791</td><td>-10</td><td>1.25</td><td>United Kingdom</td></tr><tr><td>-12.6</td><td>22747</td><td>-6</td><td>2.1</td><td>United Kingdom</td></tr><tr><td>-12.7</td><td>85047</td><td>-2</td><td>6.35</td><td>United Kingdom</td></tr><tr><td>-12.75</td><td>22423</td><td>-1</td><td>12.75</td><td>United Kingdom</td></tr><tr><td>-12.75</td><td>22960</td><td>-3</td><td>4.25</td><td>United Kingdom</td></tr><tr><td>-12.75</td><td>22423</td><td>-1</td><td>12.75</td><td>United Kingdom</td></tr><tr><td>-12.75</td><td>22423</td><td>-1</td><td>12.75</td><td>United Kingdom</td></tr><tr><td>-12.75</td><td>22423</td><td>-1</td><td>12.75</td><td>United Kingdom</td></tr><tr><td>-12.75</td><td>85066</td><td>-1</td><td>12.75</td><td>United Kingdom</td></tr><tr><td>-12.75</td><td>22423</td><td>-1</td><td>12.75</td><td>United Kingdom</td></tr><tr><td>-12.75</td><td>20703</td><td>-3</td><td>4.25</td><td>Germany</td></tr><tr><td>-12.75</td><td>22423</td><td>-1</td><td>12.75</td><td>United Kingdom</td></tr><tr><td>-12.75</td><td>22423</td><td>-1</td><td>12.75</td><td>United Kingdom</td></tr><tr><td>-12.75</td><td>22461</td><td>-1</td><td>12.75</td><td>United Kingdom</td></tr><tr><td>-12.75</td><td>90185B</td><td>-3</td><td>4.25</td><td>EIRE</td></tr><tr><td>-12.75</td><td>22760</td><td>-1</td><td>12.75</td><td>United Kingdom</td></tr><tr><td>-12.75</td><td>85066</td><td>-1</td><td>12.75</td><td>United Kingdom</td></tr><tr><td>-12.75</td><td>22423</td><td>-1</td><td>12.75</td><td>United Kingdom</td></tr><tr><td>-12.75</td><td>22423</td><td>-1</td><td>12.75</td><td>United Kingdom</td></tr><tr><td>-12.75</td><td>90062</td><td>-1</td><td>12.75</td><td>United Kingdom</td></tr><tr><td>-12.75</td><td>21258</td><td>-1</td><td>12.75</td><td>United Kingdom</td></tr><tr><td>-12.75</td><td>22461</td><td>-1</td><td>12.75</td><td>United Kingdom</td></tr><tr><td>-12.75</td><td>22461</td><td>-1</td><td>12.75</td><td>United Kingdom</td></tr><tr><td>-12.75</td><td>21258</td><td>-1</td><td>12.75</td><td>United Kingdom</td></tr><tr><td>-12.75</td><td>22461</td><td>-1</td><td>12.75</td><td>United Kingdom</td></tr><tr><td>-12.75</td><td>21735</td><td>-1</td><td>12.75</td><td>United Kingdom</td></tr><tr><td>-12.9</td><td>82484</td><td>-2</td><td>6.45</td><td>United Kingdom</td></tr><tr><td>-12.95</td><td>S</td><td>-1</td><td>12.95</td><td>United Kingdom</td></tr><tr><td>-12.99</td><td>POST</td><td>-1</td><td>12.99</td><td>United Kingdom</td></tr><tr><td>-13.05</td><td>72741</td><td>-9</td><td>1.45</td><td>EIRE</td></tr><tr><td>-13.2</td><td>84949</td><td>-8</td><td>1.65</td><td>United Kingdom</td></tr><tr><td>-13.2</td><td>84991</td><td>-24</td><td>0.55</td><td>United Kingdom</td></tr><tr><td>-13.2</td><td>22952</td><td>-24</td><td>0.55</td><td>United Kingdom</td></tr><tr><td>-13.2</td><td>21975</td><td>-24</td><td>0.55</td><td>United Kingdom</td></tr><tr><td>-13.2</td><td>22951</td><td>-24</td><td>0.55</td><td>United Kingdom</td></tr><tr><td>-13.5</td><td>21351</td><td>-2</td><td>6.75</td><td>EIRE</td></tr><tr><td>-13.52</td><td>21244</td><td>-8</td><td>1.69</td><td>United Kingdom</td></tr><tr><td>-13.52</td><td>21242</td><td>-8</td><td>1.69</td><td>United Kingdom</td></tr><tr><td>-13.56</td><td>22778</td><td>-4</td><td>3.39</td><td>United Kingdom</td></tr><tr><td>-13.88</td><td>D</td><td>-1</td><td>13.88</td><td>United Kingdom</td></tr><tr><td>-13.9</td><td>21129</td><td>-2</td><td>6.95</td><td>United Kingdom</td></tr><tr><td>-13.9</td><td>21527</td><td>-2</td><td>6.95</td><td>United Kingdom</td></tr><tr><td>-13.95</td><td>35004B</td><td>-3</td><td>4.65</td><td>United Kingdom</td></tr><tr><td>-13.95</td><td>35004C</td><td>-3</td><td>4.65</td><td>United Kingdom</td></tr><tr><td>-14.45</td><td>22962</td><td>-17</td><td>0.85</td><td>Germany</td></tr><tr><td>-14.5</td><td>22897</td><td>-10</td><td>1.45</td><td>EIRE</td></tr><tr><td>-14.5</td><td>22897</td><td>-10</td><td>1.45</td><td>EIRE</td></tr><tr><td>-14.75</td><td>20914</td><td>-5</td><td>2.95</td><td>Germany</td></tr><tr><td>-14.75</td><td>22328</td><td>-5</td><td>2.95</td><td>United Kingdom</td></tr><tr><td>-14.75</td><td>22362</td><td>-5</td><td>2.95</td><td>United Kingdom</td></tr><tr><td>-14.85</td><td>22325</td><td>-3</td><td>4.95</td><td>United Kingdom</td></tr><tr><td>-14.85</td><td>85232B</td><td>-3</td><td>4.95</td><td>United Kingdom</td></tr><tr><td>-14.85</td><td>21485</td><td>-3</td><td>4.95</td><td>United Kingdom</td></tr><tr><td>-14.85</td><td>21730</td><td>-3</td><td>4.95</td><td>United Kingdom</td></tr><tr><td>-14.85</td><td>22623</td><td>-3</td><td>4.95</td><td>Portugal</td></tr><tr><td>-14.85</td><td>21533</td><td>-3</td><td>4.95</td><td>United Kingdom</td></tr><tr><td>-14.85</td><td>22138</td><td>-3</td><td>4.95</td><td>United Kingdom</td></tr><tr><td>-14.85</td><td>21259</td><td>-3</td><td>4.95</td><td>United Kingdom</td></tr><tr><td>-14.85</td><td>21730</td><td>-3</td><td>4.95</td><td>United Kingdom</td></tr><tr><td>-14.85</td><td>22278</td><td>-3</td><td>4.95</td><td>United Kingdom</td></tr><tr><td>-14.95</td><td>21781</td><td>-1</td><td>14.95</td><td>United Kingdom</td></tr><tr><td>-14.95</td><td>21781</td><td>-1</td><td>14.95</td><td>United Kingdom</td></tr><tr><td>-14.95</td><td>22847</td><td>-1</td><td>14.95</td><td>Germany</td></tr><tr><td>-14.95</td><td>22336</td><td>-23</td><td>0.65</td><td>United Kingdom</td></tr><tr><td>-14.95</td><td>22838</td><td>-1</td><td>14.95</td><td>United Kingdom</td></tr><tr><td>-15.0</td><td>22725</td><td>-4</td><td>3.75</td><td>United Kingdom</td></tr><tr><td>-15.0</td><td>22727</td><td>-4</td><td>3.75</td><td>United Kingdom</td></tr><tr><td>-15.0</td><td>84378</td><td>-12</td><td>1.25</td><td>United Kingdom</td></tr><tr><td>-15.0</td><td>21888</td><td>-4</td><td>3.75</td><td>United Kingdom</td></tr><tr><td>-15.0</td><td>22988</td><td>-12</td><td>1.25</td><td>United Kingdom</td></tr><tr><td>-15.0</td><td>22976</td><td>-12</td><td>1.25</td><td>United Kingdom</td></tr><tr><td>-15.0</td><td>22976</td><td>-12</td><td>1.25</td><td>United Kingdom</td></tr><tr><td>-15.0</td><td>22113</td><td>-4</td><td>3.75</td><td>United Kingdom</td></tr><tr><td>-15.0</td><td>37370</td><td>-12</td><td>1.25</td><td>United Kingdom</td></tr><tr><td>-15.0</td><td>22976</td><td>-12</td><td>1.25</td><td>United Kingdom</td></tr><tr><td>-15.0</td><td>21791</td><td>-12</td><td>1.25</td><td>Portugal</td></tr><tr><td>-15.0</td><td>72815</td><td>-4</td><td>3.75</td><td>EIRE</td></tr><tr><td>-15.0</td><td>84380</td><td>-12</td><td>1.25</td><td>United Kingdom</td></tr><tr><td>-15.0</td><td>22729</td><td>-4</td><td>3.75</td><td>United Kingdom</td></tr><tr><td>-15.0</td><td>21891</td><td>-12</td><td>1.25</td><td>Portugal</td></tr><tr><td>-15.0</td><td>22892</td><td>-12</td><td>1.25</td><td>United Kingdom</td></tr><tr><td>-15.0</td><td>22093</td><td>-12</td><td>1.25</td><td>United Kingdom</td></tr><tr><td>-15.0</td><td>22508</td><td>-4</td><td>3.75</td><td>United Kingdom</td></tr><tr><td>-15.0</td><td>20985</td><td>-12</td><td>1.25</td><td>United Kingdom</td></tr><tr><td>-15.0</td><td>21888</td><td>-4</td><td>3.75</td><td>EIRE</td></tr><tr><td>-15.0</td><td>21892</td><td>-12</td><td>1.25</td><td>Portugal</td></tr><tr><td>-15.0</td><td>71053</td><td>-4</td><td>3.75</td><td>United Kingdom</td></tr><tr><td>-15.0</td><td>22686</td><td>-12</td><td>1.25</td><td>United Kingdom</td></tr><tr><td>-15.0</td><td>21888</td><td>-4</td><td>3.75</td><td>EIRE</td></tr><tr><td>-15.0</td><td>21066</td><td>-12</td><td>1.25</td><td>United Kingdom</td></tr><tr><td>-15.0</td><td>84997B</td><td>-4</td><td>3.75</td><td>United Kingdom</td></tr><tr><td>-15.0</td><td>22727</td><td>-4</td><td>3.75</td><td>United Kingdom</td></tr><tr><td>-15.0</td><td>37495</td><td>-4</td><td>3.75</td><td>United Kingdom</td></tr><tr><td>-15.0</td><td>22728</td><td>-4</td><td>3.75</td><td>Germany</td></tr><tr><td>-15.0</td><td>85049A</td><td>-12</td><td>1.25</td><td>EIRE</td></tr><tr><td>-15.0</td><td>22094</td><td>-12</td><td>1.25</td><td>United Kingdom</td></tr><tr><td>-15.12</td><td>20802</td><td>-36</td><td>0.42</td><td>United Kingdom</td></tr><tr><td>-15.12</td><td>20803</td><td>-36</td><td>0.42</td><td>United Kingdom</td></tr><tr><td>-15.3</td><td>22636</td><td>-2</td><td>7.65</td><td>Germany</td></tr><tr><td>-15.3</td><td>84508B</td><td>-6</td><td>2.55</td><td>EIRE</td></tr><tr><td>-15.3</td><td>22352</td><td>-6</td><td>2.55</td><td>United Kingdom</td></tr><tr><td>-15.3</td><td>22394</td><td>-6</td><td>2.55</td><td>United Kingdom</td></tr><tr><td>-15.3</td><td>47580</td><td>-6</td><td>2.55</td><td>United Kingdom</td></tr><tr><td>-15.3</td><td>21535</td><td>-6</td><td>2.55</td><td>United Kingdom</td></tr><tr><td>-15.3</td><td>22637</td><td>-6</td><td>2.55</td><td>United Kingdom</td></tr><tr><td>-15.3</td><td>84347</td><td>-6</td><td>2.55</td><td>EIRE</td></tr><tr><td>-15.3</td><td>47580</td><td>-6</td><td>2.55</td><td>United Kingdom</td></tr><tr><td>-15.6</td><td>22339</td><td>-24</td><td>0.65</td><td>United Kingdom</td></tr><tr><td>-15.6</td><td>21285</td><td>-24</td><td>0.65</td><td>United Kingdom</td></tr><tr><td>-15.8</td><td>22114</td><td>-4</td><td>3.95</td><td>United Kingdom</td></tr><tr><td>-15.8</td><td>22114</td><td>-4</td><td>3.95</td><td>United Kingdom</td></tr><tr><td>-15.9</td><td>21777</td><td>-2</td><td>7.95</td><td>United Kingdom</td></tr><tr><td>-15.9</td><td>48188</td><td>-2</td><td>7.95</td><td>United Kingdom</td></tr><tr><td>-15.9</td><td>48116</td><td>-2</td><td>7.95</td><td>United Kingdom</td></tr><tr><td>-15.9</td><td>48187</td><td>-2</td><td>7.95</td><td>United Kingdom</td></tr><tr><td>-15.9</td><td>21527</td><td>-2</td><td>7.95</td><td>United Kingdom</td></tr><tr><td>-15.9</td><td>21527</td><td>-2</td><td>7.95</td><td>United Kingdom</td></tr><tr><td>-15.95</td><td>22606</td><td>-1</td><td>15.95</td><td>United Kingdom</td></tr><tr><td>-15.95</td><td>22606</td><td>-1</td><td>15.95</td><td>Germany</td></tr><tr><td>-16.5</td><td>21212</td><td>-30</td><td>0.55</td><td>United Kingdom</td></tr><tr><td>-16.5</td><td>22198</td><td>-10</td><td>1.65</td><td>United Kingdom</td></tr><tr><td>-16.8</td><td>22141</td><td>-8</td><td>2.1</td><td>United Kingdom</td></tr><tr><td>-16.95</td><td>84352</td><td>-1</td><td>16.95</td><td>United Kingdom</td></tr><tr><td>-16.95</td><td>84352</td><td>-1</td><td>16.95</td><td>United Kingdom</td></tr><tr><td>-16.95</td><td>21262</td><td>-1</td><td>16.95</td><td>United Kingdom</td></tr><tr><td>-16.95</td><td>22946</td><td>-1</td><td>16.95</td><td>United Kingdom</td></tr><tr><td>-16.95</td><td>21275</td><td>-1</td><td>16.95</td><td>United Kingdom</td></tr><tr><td>-17.0</td><td>22193</td><td>-2</td><td>8.5</td><td>United Kingdom</td></tr><tr><td>-17.0</td><td>22169</td><td>-2</td><td>8.5</td><td>United Kingdom</td></tr><tr><td>-17.0</td><td>22168</td><td>-2</td><td>8.5</td><td>United Kingdom</td></tr><tr><td>-17.0</td><td>22941</td><td>-2</td><td>8.5</td><td>United Kingdom</td></tr><tr><td>-17.0</td><td>22780</td><td>-4</td><td>4.25</td><td>United Kingdom</td></tr><tr><td>-17.0</td><td>22752</td><td>-2</td><td>8.5</td><td>Germany</td></tr><tr><td>-17.0</td><td>22777</td><td>-2</td><td>8.5</td><td>Germany</td></tr><tr><td>-17.0</td><td>22168</td><td>-2</td><td>8.5</td><td>United Kingdom</td></tr><tr><td>-17.0</td><td>22941</td><td>-2</td><td>8.5</td><td>United Kingdom</td></tr><tr><td>-17.0</td><td>22487</td><td>-2</td><td>8.5</td><td>United Kingdom</td></tr><tr><td>-17.0</td><td>22960</td><td>-4</td><td>4.25</td><td>United Kingdom</td></tr><tr><td>-17.0</td><td>84840</td><td>-2</td><td>8.5</td><td>Italy</td></tr><tr><td>-17.0</td><td>22780</td><td>-4</td><td>4.25</td><td>United Kingdom</td></tr><tr><td>-17.0</td><td>22199</td><td>-4</td><td>4.25</td><td>Germany</td></tr><tr><td>-17.0</td><td>22940</td><td>-4</td><td>4.25</td><td>United Kingdom</td></tr><tr><td>-17.0</td><td>22192</td><td>-2</td><td>8.5</td><td>United Kingdom</td></tr><tr><td>-17.0</td><td>22776</td><td>-2</td><td>8.5</td><td>United Kingdom</td></tr><tr><td>-17.0</td><td>22788</td><td>-2</td><td>8.5</td><td>United Kingdom</td></tr><tr><td>-17.0</td><td>90185C</td><td>-4</td><td>4.25</td><td>EIRE</td></tr><tr><td>-17.0</td><td>22649</td><td>-4</td><td>4.25</td><td>United Kingdom</td></tr><tr><td>-17.0</td><td>22168</td><td>-2</td><td>8.5</td><td>Germany</td></tr><tr><td>-17.4</td><td>21210</td><td>-12</td><td>1.45</td><td>United Kingdom</td></tr><tr><td>-17.7</td><td>20914</td><td>-6</td><td>2.95</td><td>EIRE</td></tr><tr><td>-17.7</td><td>22698</td><td>-6</td><td>2.95</td><td>United Kingdom</td></tr><tr><td>-17.7</td><td>22810</td><td>-6</td><td>2.95</td><td>United Kingdom</td></tr><tr><td>-17.7</td><td>22326</td><td>-6</td><td>2.95</td><td>United Kingdom</td></tr><tr><td>-17.7</td><td>20897</td><td>-6</td><td>2.95</td><td>United Kingdom</td></tr><tr><td>-17.7</td><td>22697</td><td>-6</td><td>2.95</td><td>United Kingdom</td></tr><tr><td>-17.7</td><td>72799E</td><td>-6</td><td>2.95</td><td>United Kingdom</td></tr><tr><td>-17.7</td><td>22083</td><td>-6</td><td>2.95</td><td>United Kingdom</td></tr><tr><td>-17.7</td><td>22699</td><td>-6</td><td>2.95</td><td>United Kingdom</td></tr><tr><td>-17.7</td><td>22086</td><td>-6</td><td>2.95</td><td>United Kingdom</td></tr><tr><td>-17.7</td><td>22274</td><td>-6</td><td>2.95</td><td>United Kingdom</td></tr><tr><td>-17.7</td><td>20914</td><td>-6</td><td>2.95</td><td>United Kingdom</td></tr><tr><td>-17.85</td><td>21624</td><td>-3</td><td>5.95</td><td>United Kingdom</td></tr><tr><td>-17.9</td><td>35400</td><td>-2</td><td>8.95</td><td>United Kingdom</td></tr><tr><td>-17.9</td><td>35400</td><td>-2</td><td>8.95</td><td>EIRE</td></tr><tr><td>-18.0</td><td>POST</td><td>-1</td><td>18.0</td><td>Germany</td></tr><tr><td>-18.24</td><td>35957</td><td>-96</td><td>0.19</td><td>EIRE</td></tr><tr><td>-18.6</td><td>22835</td><td>-4</td><td>4.65</td><td>United Kingdom</td></tr><tr><td>-18.6</td><td>35004B</td><td>-4</td><td>4.65</td><td>United Kingdom</td></tr><tr><td>-18.75</td><td>71053</td><td>-5</td><td>3.75</td><td>United Kingdom</td></tr><tr><td>-19.05</td><td>22845</td><td>-3</td><td>6.35</td><td>Belgium</td></tr><tr><td>-19.5</td><td>85099B</td><td>-10</td><td>1.95</td><td>United Kingdom</td></tr><tr><td>-19.5</td><td>20713</td><td>-10</td><td>1.95</td><td>United Kingdom</td></tr><tr><td>-19.8</td><td>85099B</td><td>-12</td><td>1.65</td><td>United Kingdom</td></tr><tr><td>-19.8</td><td>21911</td><td>-12</td><td>1.65</td><td>United Kingdom</td></tr><tr><td>-19.8</td><td>22557</td><td>-12</td><td>1.65</td><td>United Kingdom</td></tr><tr><td>-19.8</td><td>22943</td><td>-4</td><td>4.95</td><td>United Kingdom</td></tr><tr><td>-19.8</td><td>22628</td><td>-4</td><td>4.95</td><td>United Kingdom</td></tr><tr><td>-19.8</td><td>22295</td><td>-12</td><td>1.65</td><td>United Kingdom</td></tr><tr><td>-19.8</td><td>22556</td><td>-12</td><td>1.65</td><td>United Kingdom</td></tr><tr><td>-19.8</td><td>22759</td><td>-12</td><td>1.65</td><td>United Kingdom</td></tr><tr><td>-19.8</td><td>22233</td><td>-12</td><td>1.65</td><td>United Kingdom</td></tr><tr><td>-19.9</td><td>22768</td><td>-2</td><td>9.95</td><td>United Kingdom</td></tr><tr><td>-19.9</td><td>22968</td><td>-2</td><td>9.95</td><td>United Kingdom</td></tr><tr><td>-19.9</td><td>22634</td><td>-2</td><td>9.95</td><td>France</td></tr><tr><td>-19.9</td><td>22635</td><td>-2</td><td>9.95</td><td>United Kingdom</td></tr><tr><td>-19.9</td><td>22890</td><td>-2</td><td>9.95</td><td>United Kingdom</td></tr><tr><td>-19.9</td><td>22767</td><td>-2</td><td>9.95</td><td>Germany</td></tr><tr><td>-19.9</td><td>22968</td><td>-2</td><td>9.95</td><td>Germany</td></tr><tr><td>-19.9</td><td>22890</td><td>-2</td><td>9.95</td><td>United Kingdom</td></tr><tr><td>-19.9</td><td>22618</td><td>-2</td><td>9.95</td><td>United Kingdom</td></tr><tr><td>-19.9</td><td>22501</td><td>-2</td><td>9.95</td><td>United Kingdom</td></tr><tr><td>-20.16</td><td>22153</td><td>-48</td><td>0.42</td><td>Austria</td></tr><tr><td>-20.28</td><td>21655</td><td>-12</td><td>1.69</td><td>United Kingdom</td></tr><tr><td>-20.28</td><td>21284</td><td>-12</td><td>1.69</td><td>United Kingdom</td></tr><tr><td>-20.4</td><td>22342</td><td>-24</td><td>0.85</td><td>United Kingdom</td></tr><tr><td>-20.4</td><td>84625C</td><td>-24</td><td>0.85</td><td>United Kingdom</td></tr><tr><td>-20.4</td><td>37342</td><td>-24</td><td>0.85</td><td>United Kingdom</td></tr><tr><td>-20.85</td><td>85048</td><td>-3</td><td>6.95</td><td>United Kingdom</td></tr><tr><td>-20.85</td><td>21527</td><td>-3</td><td>6.95</td><td>United Kingdom</td></tr><tr><td>-21.0</td><td>22865</td><td>-10</td><td>2.1</td><td>United Kingdom</td></tr><tr><td>-21.25</td><td>22940</td><td>-5</td><td>4.25</td><td>United Kingdom</td></tr><tr><td>-21.5</td><td>22832</td><td>-2</td><td>10.75</td><td>United Kingdom</td></tr><tr><td>-21.6</td><td>20719</td><td>-30</td><td>0.72</td><td>United Kingdom</td></tr><tr><td>-21.9</td><td>22423</td><td>-2</td><td>10.95</td><td>United Kingdom</td></tr><tr><td>-21.9</td><td>21258</td><td>-2</td><td>10.95</td><td>United Kingdom</td></tr><tr><td>-21.9</td><td>85066</td><td>-2</td><td>10.95</td><td>United Kingdom</td></tr><tr><td>-21.9</td><td>22423</td><td>-2</td><td>10.95</td><td>Germany</td></tr><tr><td>-21.9</td><td>22423</td><td>-2</td><td>10.95</td><td>Germany</td></tr><tr><td>-21.9</td><td>22423</td><td>-2</td><td>10.95</td><td>United Kingdom</td></tr><tr><td>-22.95</td><td>84347</td><td>-9</td><td>2.55</td><td>United Kingdom</td></tr><tr><td>-22.97</td><td>D</td><td>-1</td><td>22.97</td><td>United Kingdom</td></tr><tr><td>-23.4</td><td>84766</td><td>-12</td><td>1.95</td><td>United Kingdom</td></tr><tr><td>-23.4</td><td>22246</td><td>-12</td><td>1.95</td><td>EIRE</td></tr><tr><td>-23.6</td><td>22454</td><td>-8</td><td>2.95</td><td>United Kingdom</td></tr><tr><td>-23.8</td><td>22927</td><td>-4</td><td>5.95</td><td>United Kingdom</td></tr><tr><td>-23.8</td><td>22927</td><td>-4</td><td>5.95</td><td>United Kingdom</td></tr><tr><td>-23.8</td><td>22580</td><td>-4</td><td>5.95</td><td>Germany</td></tr><tr><td>-23.8</td><td>22926</td><td>-4</td><td>5.95</td><td>United Kingdom</td></tr><tr><td>-23.8</td><td>22926</td><td>-4</td><td>5.95</td><td>United Kingdom</td></tr><tr><td>-23.85</td><td>21777</td><td>-3</td><td>7.95</td><td>United Kingdom</td></tr><tr><td>-24.75</td><td>84949</td><td>-15</td><td>1.65</td><td>United Kingdom</td></tr><tr><td>-25.0</td><td>47559B</td><td>-20</td><td>1.25</td><td>EIRE</td></tr><tr><td>-25.0</td><td>22680</td><td>-20</td><td>1.25</td><td>United Kingdom</td></tr><tr><td>-25.2</td><td>22865</td><td>-12</td><td>2.1</td><td>United Kingdom</td></tr><tr><td>-25.2</td><td>21155</td><td>-12</td><td>2.1</td><td>EIRE</td></tr><tr><td>-25.2</td><td>22212</td><td>-12</td><td>2.1</td><td>United Kingdom</td></tr><tr><td>-25.2</td><td>22867</td><td>-12</td><td>2.1</td><td>United Kingdom</td></tr><tr><td>-25.2</td><td>22865</td><td>-12</td><td>2.1</td><td>United Kingdom</td></tr><tr><td>-25.35</td><td>35924</td><td>-15</td><td>1.69</td><td>United Kingdom</td></tr><tr><td>-25.5</td><td>20719</td><td>-30</td><td>0.85</td><td>United Kingdom</td></tr><tr><td>-25.5</td><td>22960</td><td>-6</td><td>4.25</td><td>United Kingdom</td></tr><tr><td>-25.5</td><td>85066</td><td>-2</td><td>12.75</td><td>United Kingdom</td></tr><tr><td>-25.5</td><td>85066</td><td>-2</td><td>12.75</td><td>United Kingdom</td></tr><tr><td>-25.5</td><td>85036B</td><td>-6</td><td>4.25</td><td>United Kingdom</td></tr><tr><td>-25.5</td><td>21411</td><td>-6</td><td>4.25</td><td>EIRE</td></tr><tr><td>-25.5</td><td>22180</td><td>-3</td><td>8.5</td><td>United Kingdom</td></tr><tr><td>-25.92</td><td>72818</td><td>-36</td><td>0.72</td><td>EIRE</td></tr><tr><td>-26.0</td><td>84406B</td><td>-8</td><td>3.25</td><td>United Kingdom</td></tr><tr><td>-26.93</td><td>D</td><td>-1</td><td>26.93</td><td>United Kingdom</td></tr><tr><td>-27.0</td><td>21349</td><td>-4</td><td>6.75</td><td>United Kingdom</td></tr><tr><td>-27.0</td><td>22179</td><td>-4</td><td>6.75</td><td>United Kingdom</td></tr><tr><td>-27.0</td><td>79323B</td><td>-4</td><td>6.75</td><td>United Kingdom</td></tr><tr><td>-27.0</td><td>79323P</td><td>-4</td><td>6.75</td><td>United Kingdom</td></tr><tr><td>-27.5</td><td>D</td><td>-1</td><td>27.5</td><td>United Kingdom</td></tr><tr><td>-28.05</td><td>22360</td><td>-11</td><td>2.55</td><td>United Kingdom</td></tr><tr><td>-29.29</td><td>D</td><td>-1</td><td>29.29</td><td>United Kingdom</td></tr><tr><td>-29.7</td><td>21533</td><td>-6</td><td>4.95</td><td>United Kingdom</td></tr><tr><td>-29.7</td><td>21363</td><td>-6</td><td>4.95</td><td>United Kingdom</td></tr><tr><td>-29.7</td><td>22623</td><td>-6</td><td>4.95</td><td>United Kingdom</td></tr><tr><td>-29.7</td><td>22617</td><td>-6</td><td>4.95</td><td>United Kingdom</td></tr><tr><td>-29.7</td><td>22973</td><td>-18</td><td>1.65</td><td>United Kingdom</td></tr><tr><td>-29.7</td><td>22943</td><td>-6</td><td>4.95</td><td>United Kingdom</td></tr><tr><td>-29.7</td><td>22138</td><td>-6</td><td>4.95</td><td>United Kingdom</td></tr><tr><td>-29.7</td><td>82483</td><td>-6</td><td>4.95</td><td>United Kingdom</td></tr><tr><td>-29.7</td><td>21812</td><td>-6</td><td>4.95</td><td>United Kingdom</td></tr><tr><td>-29.7</td><td>22943</td><td>-6</td><td>4.95</td><td>United Kingdom</td></tr><tr><td>-29.85</td><td>21217</td><td>-3</td><td>9.95</td><td>United Kingdom</td></tr><tr><td>-29.9</td><td>22839</td><td>-2</td><td>14.95</td><td>United Kingdom</td></tr><tr><td>-29.9</td><td>22838</td><td>-2</td><td>14.95</td><td>United Kingdom</td></tr><tr><td>-29.9</td><td>21667</td><td>-2</td><td>14.95</td><td>United Kingdom</td></tr><tr><td>-30.0</td><td>21914</td><td>-24</td><td>1.25</td><td>United Kingdom</td></tr><tr><td>-30.0</td><td>84029E</td><td>-8</td><td>3.75</td><td>United Kingdom</td></tr><tr><td>-30.0</td><td>21889</td><td>-24</td><td>1.25</td><td>United Kingdom</td></tr><tr><td>-30.0</td><td>22107</td><td>-8</td><td>3.75</td><td>United Kingdom</td></tr><tr><td>-30.0</td><td>21644</td><td>-24</td><td>1.25</td><td>United Kingdom</td></tr><tr><td>-30.0</td><td>72816</td><td>-24</td><td>1.25</td><td>EIRE</td></tr><tr><td>-30.0</td><td>35953</td><td>-24</td><td>1.25</td><td>United Kingdom</td></tr><tr><td>-30.0</td><td>72817</td><td>-24</td><td>1.25</td><td>EIRE</td></tr><tr><td>-30.0</td><td>84378</td><td>-24</td><td>1.25</td><td>United Kingdom</td></tr></tbody></table>Showing the first 1000 rows.</div>"
      ]
     },
     "metadata": {
      "application/vnd.databricks.v1+output": {
       "addedWidgets": {},
       "aggData": [],
       "aggError": "",
       "aggOverflow": false,
       "aggSchema": [],
       "aggSeriesLimitReached": false,
       "aggType": "",
       "arguments": {},
       "columnCustomDisplayInfos": {},
       "data": [
        [
         0,
         "22351",
         -1400,
         0,
         "United Kingdom"
        ],
        [
         0,
         "85124C",
         -8,
         0,
         "United Kingdom"
        ],
        [
         0,
         "84050",
         -310,
         0,
         "United Kingdom"
        ],
        [
         0,
         "46000S",
         -300,
         0,
         "United Kingdom"
        ],
        [
         0,
         "17011A",
         -61,
         0,
         "United Kingdom"
        ],
        [
         0,
         "22454",
         -20,
         0,
         "United Kingdom"
        ],
        [
         0,
         "82599",
         -290,
         0,
         "United Kingdom"
        ],
        [
         0,
         "84569B",
         -20,
         0,
         "United Kingdom"
        ],
        [
         0,
         "21324",
         -18,
         0,
         "United Kingdom"
        ],
        [
         0,
         "21667",
         -1,
         0,
         "United Kingdom"
        ],
        [
         0,
         "21275",
         -30,
         0,
         "United Kingdom"
        ],
        [
         0,
         "37467",
         -177,
         0,
         "United Kingdom"
        ],
        [
         0,
         "21743",
         -80,
         0,
         "United Kingdom"
        ],
        [
         0,
         "37476",
         -6,
         0,
         "United Kingdom"
        ],
        [
         0,
         "21653",
         -6,
         0,
         "United Kingdom"
        ],
        [
         0,
         "21632",
         -41,
         0,
         "United Kingdom"
        ],
        [
         0,
         "20966",
         -150,
         0,
         "United Kingdom"
        ],
        [
         0,
         "84534B",
         -80,
         0,
         "United Kingdom"
        ],
        [
         0,
         "21011",
         -20,
         0,
         "United Kingdom"
        ],
        [
         0,
         "84546",
         -45,
         0,
         "United Kingdom"
        ],
        [
         0,
         "46000S",
         -100,
         0,
         "United Kingdom"
        ],
        [
         0,
         "21161",
         -120,
         0,
         "United Kingdom"
        ],
        [
         0,
         "46000M",
         -100,
         0,
         "United Kingdom"
        ],
        [
         0,
         "21429",
         -70,
         0,
         "United Kingdom"
        ],
        [
         0,
         "22139",
         -5,
         0,
         "United Kingdom"
        ],
        [
         0,
         "21027",
         -70,
         0,
         "United Kingdom"
        ],
        [
         0,
         "22353",
         -28,
         0,
         "United Kingdom"
        ],
        [
         0,
         "22028",
         -20,
         0,
         "United Kingdom"
        ],
        [
         0,
         "85126",
         -2,
         0,
         "United Kingdom"
        ],
        [
         0,
         "21431",
         -21,
         0,
         "United Kingdom"
        ],
        [
         0,
         "84898F",
         -24,
         0,
         "United Kingdom"
        ],
        [
         0,
         "22837",
         -35,
         0,
         "United Kingdom"
        ],
        [
         0,
         "79067",
         -145,
         0,
         "United Kingdom"
        ],
        [
         0,
         "85135B",
         -40,
         0,
         "United Kingdom"
        ],
        [
         0,
         "21535",
         -12,
         0,
         "United Kingdom"
        ],
        [
         0,
         "84968F",
         -20,
         0,
         "United Kingdom"
        ],
        [
         0,
         "21895",
         -5,
         0,
         "United Kingdom"
        ],
        [
         0,
         "35001W",
         -36,
         0,
         "United Kingdom"
        ],
        [
         0,
         "84968E",
         -35,
         0,
         "United Kingdom"
        ],
        [
         0,
         "22830",
         -1,
         0,
         "United Kingdom"
        ],
        [
         0,
         "85064",
         -12,
         0,
         "United Kingdom"
        ],
        [
         0,
         "35965",
         -25,
         0,
         "United Kingdom"
        ],
        [
         0,
         "84968B",
         -21,
         0,
         "United Kingdom"
        ],
        [
         0,
         "21784",
         -10,
         0,
         "United Kingdom"
        ],
        [
         0,
         "21814",
         -30,
         0,
         "United Kingdom"
        ],
        [
         0,
         "20892",
         -1,
         0,
         "United Kingdom"
        ],
        [
         0,
         "35833G",
         -43,
         0,
         "United Kingdom"
        ],
        [
         0,
         "85118",
         -35,
         0,
         "United Kingdom"
        ],
        [
         0,
         "84499",
         -9,
         0,
         "United Kingdom"
        ],
        [
         0,
         "85230F",
         -48,
         0,
         "United Kingdom"
        ],
        [
         0,
         "22162",
         -40,
         0,
         "United Kingdom"
        ],
        [
         0,
         "21040",
         -20,
         0,
         "United Kingdom"
        ],
        [
         0,
         "21054",
         -30,
         0,
         "United Kingdom"
        ],
        [
         0,
         "21667",
         -1,
         0,
         "United Kingdom"
        ],
        [
         0,
         "22158",
         -120,
         0,
         "United Kingdom"
        ],
        [
         0,
         "22501",
         -100,
         0,
         "United Kingdom"
        ],
        [
         0,
         "22423",
         -13,
         0,
         "United Kingdom"
        ],
        [
         0,
         "20684",
         -19,
         0,
         "United Kingdom"
        ],
        [
         0,
         "35271S",
         -13,
         0,
         "United Kingdom"
        ],
        [
         0,
         "21696",
         -320,
         0,
         "United Kingdom"
        ],
        [
         0,
         "22502",
         -100,
         0,
         "United Kingdom"
        ],
        [
         0,
         "21801",
         -38,
         0,
         "United Kingdom"
        ],
        [
         0,
         "20892",
         -32,
         0,
         "United Kingdom"
        ],
        [
         0,
         "22837",
         -106,
         0,
         "United Kingdom"
        ],
        [
         0,
         "37464",
         -14,
         0,
         "United Kingdom"
        ],
        [
         0,
         "84881",
         -11,
         0,
         "United Kingdom"
        ],
        [
         0,
         "22865",
         -60,
         0,
         "United Kingdom"
        ],
        [
         0,
         "18098C",
         -140,
         0,
         "United Kingdom"
        ],
        [
         0,
         "21692",
         -70,
         0,
         "United Kingdom"
        ],
        [
         0,
         "35957",
         -939,
         0,
         "United Kingdom"
        ],
        [
         0,
         "20941",
         -24,
         0,
         "United Kingdom"
        ],
        [
         0,
         "21429",
         -15,
         0,
         "United Kingdom"
        ],
        [
         0,
         "22198",
         -100,
         0,
         "United Kingdom"
        ],
        [
         0,
         "85167B",
         -24,
         0,
         "United Kingdom"
        ],
        [
         0,
         "90096",
         -54,
         0,
         "United Kingdom"
        ],
        [
         0,
         "21836",
         -15,
         0,
         "United Kingdom"
        ],
        [
         0,
         "21248",
         -18,
         0,
         "United Kingdom"
        ],
        [
         0,
         "47591D",
         -201,
         0,
         "United Kingdom"
        ],
        [
         0,
         "21587",
         -53,
         0,
         "United Kingdom"
        ],
        [
         0,
         "21349",
         -44,
         0,
         "United Kingdom"
        ],
        [
         0,
         "21258",
         -29,
         0,
         "United Kingdom"
        ],
        [
         0,
         "21589",
         -14,
         0,
         "United Kingdom"
        ],
        [
         0,
         "47556B",
         -69,
         0,
         "United Kingdom"
        ],
        [
         0,
         "22155",
         -70,
         0,
         "United Kingdom"
        ],
        [
         0,
         "22617",
         -2600,
         0,
         "United Kingdom"
        ],
        [
         0,
         "21275",
         -5,
         0,
         "United Kingdom"
        ],
        [
         0,
         "21488",
         -50,
         0,
         "United Kingdom"
        ],
        [
         0,
         "22866",
         -64,
         0,
         "United Kingdom"
        ],
        [
         0,
         "72038P",
         -990,
         0,
         "United Kingdom"
        ],
        [
         0,
         "20956",
         -723,
         0,
         "United Kingdom"
        ],
        [
         0,
         "84840",
         -9,
         0,
         "United Kingdom"
        ],
        [
         0,
         "21777",
         -10,
         0,
         "United Kingdom"
        ],
        [
         0,
         "21648",
         -130,
         0,
         "United Kingdom"
        ],
        [
         0,
         "84562A",
         -3,
         0,
         "United Kingdom"
        ],
        [
         0,
         "21486",
         -77,
         0,
         "United Kingdom"
        ],
        [
         0,
         "84952C",
         -38,
         0,
         "United Kingdom"
        ],
        [
         0,
         "84029E",
         -50,
         0,
         "United Kingdom"
        ],
        [
         0,
         "85067",
         -6,
         0,
         "United Kingdom"
        ],
        [
         0,
         "22034",
         -223,
         0,
         "United Kingdom"
        ],
        [
         0,
         "21172",
         -80,
         0,
         "United Kingdom"
        ],
        [
         0,
         "37474",
         -15,
         0,
         "United Kingdom"
        ],
        [
         0,
         "21763",
         -4,
         0,
         "United Kingdom"
        ],
        [
         0,
         "22712",
         -20,
         0,
         "United Kingdom"
        ],
        [
         0,
         "22632",
         -84,
         0,
         "United Kingdom"
        ],
        [
         0,
         "21414",
         -22,
         0,
         "United Kingdom"
        ],
        [
         0,
         "22833",
         -1,
         0,
         "United Kingdom"
        ],
        [
         0,
         "21807",
         -30,
         0,
         "United Kingdom"
        ],
        [
         0,
         "85008",
         -15,
         0,
         "United Kingdom"
        ],
        [
         -0.42,
         "85175",
         -1,
         0.42,
         "United Kingdom"
        ],
        [
         -0.42,
         "16258A",
         -1,
         0.42,
         "United Kingdom"
        ],
        [
         -0.42,
         "82581",
         -1,
         0.42,
         "United Kingdom"
        ],
        [
         -0.42,
         "85175",
         -1,
         0.42,
         "United Kingdom"
        ],
        [
         -0.65,
         "35598D",
         -1,
         0.65,
         "United Kingdom"
        ],
        [
         -0.72,
         "22197",
         -1,
         0.72,
         "United Kingdom"
        ],
        [
         -0.72,
         "22197",
         -1,
         0.72,
         "United Kingdom"
        ],
        [
         -0.72,
         "22962",
         -1,
         0.72,
         "United Kingdom"
        ],
        [
         -0.85,
         "22197",
         -1,
         0.85,
         "United Kingdom"
        ],
        [
         -0.85,
         "71459",
         -1,
         0.85,
         "United Kingdom"
        ],
        [
         -0.85,
         "22156",
         -1,
         0.85,
         "United Kingdom"
        ],
        [
         -0.85,
         "84006",
         -1,
         0.85,
         "United Kingdom"
        ],
        [
         -0.85,
         "22586",
         -1,
         0.85,
         "United Kingdom"
        ],
        [
         -0.85,
         "22230",
         -1,
         0.85,
         "United Kingdom"
        ],
        [
         -0.85,
         "20724",
         -1,
         0.85,
         "United Kingdom"
        ],
        [
         -0.85,
         "71459",
         -1,
         0.85,
         "United Kingdom"
        ],
        [
         -0.85,
         "22851",
         -1,
         0.85,
         "Germany"
        ],
        [
         -0.85,
         "84970S",
         -1,
         0.85,
         "United Kingdom"
        ],
        [
         -0.85,
         "22908",
         -1,
         0.85,
         "Germany"
        ],
        [
         -0.85,
         "22571",
         -1,
         0.85,
         "United Kingdom"
        ],
        [
         -0.85,
         "79000",
         -1,
         0.85,
         "United Kingdom"
        ],
        [
         -1,
         "AMAZONFEE",
         -1,
         1,
         "United Kingdom"
        ],
        [
         -1.06,
         "21668",
         -1,
         1.06,
         "United Kingdom"
        ],
        [
         -1.06,
         "22774",
         -1,
         1.06,
         "United Kingdom"
        ],
        [
         -1.25,
         "84380",
         -1,
         1.25,
         "United Kingdom"
        ],
        [
         -1.25,
         "35471D",
         -1,
         1.25,
         "United Kingdom"
        ],
        [
         -1.25,
         "22944",
         -1,
         1.25,
         "United Kingdom"
        ],
        [
         -1.25,
         "22444",
         -1,
         1.25,
         "United Kingdom"
        ],
        [
         -1.25,
         "21871",
         -1,
         1.25,
         "United Kingdom"
        ],
        [
         -1.25,
         "22178",
         -1,
         1.25,
         "United Kingdom"
        ],
        [
         -1.25,
         "84050",
         -1,
         1.25,
         "United Kingdom"
        ],
        [
         -1.25,
         "85169D",
         -1,
         1.25,
         "United Kingdom"
        ],
        [
         -1.25,
         "21671",
         -1,
         1.25,
         "United Kingdom"
        ],
        [
         -1.25,
         "82551",
         -1,
         1.25,
         "United Kingdom"
        ],
        [
         -1.25,
         "22646",
         -1,
         1.25,
         "United Kingdom"
        ],
        [
         -1.25,
         "22791",
         -1,
         1.25,
         "United Kingdom"
        ],
        [
         -1.25,
         "21876",
         -1,
         1.25,
         "United Kingdom"
        ],
        [
         -1.25,
         "84978",
         -1,
         1.25,
         "United Kingdom"
        ],
        [
         -1.25,
         "22892",
         -1,
         1.25,
         "United Kingdom"
        ],
        [
         -1.25,
         "22316",
         -1,
         1.25,
         "Germany"
        ],
        [
         -1.25,
         "21232",
         -1,
         1.25,
         "United Kingdom"
        ],
        [
         -1.25,
         "21672",
         -1,
         1.25,
         "United Kingdom"
        ],
        [
         -1.25,
         "21232",
         -1,
         1.25,
         "United Kingdom"
        ],
        [
         -1.25,
         "21232",
         -1,
         1.25,
         "United Kingdom"
        ],
        [
         -1.25,
         "22178",
         -1,
         1.25,
         "United Kingdom"
        ],
        [
         -1.25,
         "22279",
         -1,
         1.25,
         "United Kingdom"
        ],
        [
         -1.25,
         "22178",
         -1,
         1.25,
         "United Kingdom"
        ],
        [
         -1.25,
         "22460",
         -1,
         1.25,
         "United Kingdom"
        ],
        [
         -1.25,
         "21876",
         -1,
         1.25,
         "United Kingdom"
        ],
        [
         -1.25,
         "21644",
         -1,
         1.25,
         "United Kingdom"
        ],
        [
         -1.25,
         "21231",
         -1,
         1.25,
         "Germany"
        ],
        [
         -1.25,
         "22065",
         -1,
         1.25,
         "United Kingdom"
        ],
        [
         -1.25,
         "84947",
         -1,
         1.25,
         "United Kingdom"
        ],
        [
         -1.28,
         "40001",
         -2,
         0.64,
         "United Kingdom"
        ],
        [
         -1.3,
         "22820",
         -2,
         0.65,
         "Germany"
        ],
        [
         -1.3,
         "20973",
         -2,
         0.65,
         "United Kingdom"
        ],
        [
         -1.45,
         "22198",
         -1,
         1.45,
         "United Kingdom"
        ],
        [
         -1.45,
         "22644",
         -1,
         1.45,
         "United Kingdom"
        ],
        [
         -1.45,
         "22067",
         -1,
         1.45,
         "United Kingdom"
        ],
        [
         -1.45,
         "22142",
         -1,
         1.45,
         "United Kingdom"
        ],
        [
         -1.45,
         "22383",
         -1,
         1.45,
         "United Kingdom"
        ],
        [
         -1.45,
         "22897",
         -1,
         1.45,
         "Germany"
        ],
        [
         -1.45,
         "20725",
         -1,
         1.45,
         "United Kingdom"
        ],
        [
         -1.45,
         "22469",
         -1,
         1.45,
         "United Kingdom"
        ],
        [
         -1.45,
         "22198",
         -1,
         1.45,
         "United Kingdom"
        ],
        [
         -1.45,
         "20957",
         -1,
         1.45,
         "Germany"
        ],
        [
         -1.45,
         "84988",
         -1,
         1.45,
         "United Kingdom"
        ],
        [
         -1.49,
         "22059",
         -1,
         1.49,
         "United Kingdom"
        ],
        [
         -1.49,
         "22558",
         -1,
         1.49,
         "Germany"
        ],
        [
         -1.49,
         "37448",
         -1,
         1.49,
         "United Kingdom"
        ],
        [
         -1.65,
         "21731",
         -1,
         1.65,
         "United Kingdom"
        ],
        [
         -1.65,
         "20728",
         -1,
         1.65,
         "United Kingdom"
        ],
        [
         -1.65,
         "22331",
         -1,
         1.65,
         "Germany"
        ],
        [
         -1.65,
         "22333",
         -1,
         1.65,
         "Germany"
        ],
        [
         -1.65,
         "85099C",
         -1,
         1.65,
         "United Kingdom"
        ],
        [
         -1.65,
         "22055",
         -1,
         1.65,
         "United Kingdom"
        ],
        [
         -1.65,
         "20728",
         -1,
         1.65,
         "United Kingdom"
        ],
        [
         -1.65,
         "22055",
         -1,
         1.65,
         "United Kingdom"
        ],
        [
         -1.65,
         "21731",
         -1,
         1.65,
         "Germany"
        ],
        [
         -1.65,
         "22488",
         -1,
         1.65,
         "United Kingdom"
        ],
        [
         -1.65,
         "22198",
         -1,
         1.65,
         "EIRE"
        ],
        [
         -1.65,
         "22198",
         -1,
         1.65,
         "United Kingdom"
        ],
        [
         -1.65,
         "85040A",
         -1,
         1.65,
         "United Kingdom"
        ],
        [
         -1.65,
         "22411",
         -1,
         1.65,
         "United Kingdom"
        ],
        [
         -1.65,
         "79163",
         -1,
         1.65,
         "United Kingdom"
        ],
        [
         -1.65,
         "21928",
         -1,
         1.65,
         "United Kingdom"
        ],
        [
         -1.65,
         "85099F",
         -1,
         1.65,
         "United Kingdom"
        ],
        [
         -1.65,
         "84949",
         -1,
         1.65,
         "United Kingdom"
        ],
        [
         -1.65,
         "22384",
         -1,
         1.65,
         "United Kingdom"
        ],
        [
         -1.65,
         "22469",
         -1,
         1.65,
         "United Kingdom"
        ],
        [
         -1.65,
         "84949",
         -1,
         1.65,
         "United Kingdom"
        ],
        [
         -1.65,
         "85025B",
         -1,
         1.65,
         "United Kingdom"
        ],
        [
         -1.65,
         "85099B",
         -1,
         1.65,
         "United Kingdom"
        ],
        [
         -1.65,
         "22333",
         -1,
         1.65,
         "Germany"
        ],
        [
         -1.65,
         "22464",
         -1,
         1.65,
         "United Kingdom"
        ],
        [
         -1.65,
         "85040A",
         -1,
         1.65,
         "United Kingdom"
        ],
        [
         -1.65,
         "85039A",
         -1,
         1.65,
         "United Kingdom"
        ],
        [
         -1.69,
         "11001",
         -1,
         1.69,
         "United Kingdom"
        ],
        [
         -1.7,
         "22962",
         -2,
         0.85,
         "United Kingdom"
        ],
        [
         -1.7,
         "85170D",
         -2,
         0.85,
         "United Kingdom"
        ],
        [
         -1.7,
         "22962",
         -2,
         0.85,
         "United Kingdom"
        ],
        [
         -1.7,
         "21209",
         -2,
         0.85,
         "United Kingdom"
        ],
        [
         -1.7,
         "22197",
         -2,
         0.85,
         "United Kingdom"
        ],
        [
         -1.7,
         "22356",
         -2,
         0.85,
         "United Kingdom"
        ],
        [
         -1.7,
         "22197",
         -2,
         0.85,
         "EIRE"
        ],
        [
         -1.7,
         "22197",
         -2,
         0.85,
         "United Kingdom"
        ],
        [
         -1.7,
         "84945",
         -2,
         0.85,
         "United Kingdom"
        ],
        [
         -1.7,
         "22923",
         -2,
         0.85,
         "Germany"
        ],
        [
         -1.7,
         "22245",
         -2,
         0.85,
         "Germany"
        ],
        [
         -1.7,
         "22355",
         -2,
         0.85,
         "United Kingdom"
        ],
        [
         -1.85,
         "21175",
         -1,
         1.85,
         "United Kingdom"
        ],
        [
         -1.85,
         "22632",
         -1,
         1.85,
         "United Kingdom"
        ],
        [
         -1.85,
         "22834",
         -1,
         1.85,
         "United Kingdom"
        ],
        [
         -1.95,
         "22411",
         -1,
         1.95,
         "United Kingdom"
        ],
        [
         -1.95,
         "22877",
         -1,
         1.95,
         "United Kingdom"
        ],
        [
         -1.95,
         "22630",
         -1,
         1.95,
         "United Kingdom"
        ],
        [
         -1.95,
         "35004B",
         -1,
         1.95,
         "United Kingdom"
        ],
        [
         -1.95,
         "22131",
         -1,
         1.95,
         "United Kingdom"
        ],
        [
         -1.95,
         "22244",
         -1,
         1.95,
         "United Kingdom"
        ],
        [
         -1.95,
         "79000",
         -3,
         0.65,
         "United Kingdom"
        ],
        [
         -1.95,
         "20705",
         -1,
         1.95,
         "United Kingdom"
        ],
        [
         -1.95,
         "47594A",
         -1,
         1.95,
         "United Kingdom"
        ],
        [
         -1.95,
         "85099C",
         -1,
         1.95,
         "United Kingdom"
        ],
        [
         -1.95,
         "22869",
         -1,
         1.95,
         "United Kingdom"
        ],
        [
         -1.95,
         "22244",
         -1,
         1.95,
         "Japan"
        ],
        [
         -1.95,
         "21143",
         -1,
         1.95,
         "United Kingdom"
        ],
        [
         -1.95,
         "22631",
         -1,
         1.95,
         "Germany"
        ],
        [
         -1.95,
         "21166",
         -1,
         1.95,
         "United Kingdom"
        ],
        [
         -2,
         "M",
         -4,
         0.5,
         "United Kingdom"
        ],
        [
         -2.1,
         "22865",
         -1,
         2.1,
         "United Kingdom"
        ],
        [
         -2.1,
         "21427",
         -1,
         2.1,
         "United Kingdom"
        ],
        [
         -2.1,
         "84817",
         -1,
         2.1,
         "United Kingdom"
        ],
        [
         -2.1,
         "22441",
         -1,
         2.1,
         "United Kingdom"
        ],
        [
         -2.1,
         "22664",
         -1,
         2.1,
         "United Kingdom"
        ],
        [
         -2.1,
         "21647",
         -1,
         2.1,
         "United Kingdom"
        ],
        [
         -2.1,
         "22878",
         -1,
         2.1,
         "United Kingdom"
        ],
        [
         -2.1,
         "21314",
         -1,
         2.1,
         "United Kingdom"
        ],
        [
         -2.1,
         "21314",
         -1,
         2.1,
         "United Kingdom"
        ],
        [
         -2.1,
         "20752",
         -1,
         2.1,
         "United Kingdom"
        ],
        [
         -2.1,
         "22745",
         -1,
         2.1,
         "United Kingdom"
        ],
        [
         -2.1,
         "21306",
         -1,
         2.1,
         "United Kingdom"
        ],
        [
         -2.1,
         "21155",
         -1,
         2.1,
         "Japan"
        ],
        [
         -2.1,
         "22632",
         -1,
         2.1,
         "United Kingdom"
        ],
        [
         -2.1,
         "22633",
         -1,
         2.1,
         "United Kingdom"
        ],
        [
         -2.1,
         "20829",
         -1,
         2.1,
         "United Kingdom"
        ],
        [
         -2.1,
         "85150",
         -1,
         2.1,
         "United Kingdom"
        ],
        [
         -2.1,
         "21314",
         -1,
         2.1,
         "United Kingdom"
        ],
        [
         -2.12,
         "84978",
         -2,
         1.06,
         "United Kingdom"
        ],
        [
         -2.25,
         "21577",
         -1,
         2.25,
         "Germany"
        ],
        [
         -2.5,
         "21232",
         -2,
         1.25,
         "United Kingdom"
        ],
        [
         -2.5,
         "85034C",
         -2,
         1.25,
         "United Kingdom"
        ],
        [
         -2.5,
         "21877",
         -2,
         1.25,
         "United Kingdom"
        ],
        [
         -2.5,
         "84946",
         -2,
         1.25,
         "United Kingdom"
        ],
        [
         -2.5,
         "37370",
         -2,
         1.25,
         "United Kingdom"
        ],
        [
         -2.5,
         "21232",
         -2,
         1.25,
         "Germany"
        ],
        [
         -2.5,
         "20941",
         -2,
         1.25,
         "United Kingdom"
        ],
        [
         -2.5,
         "21231",
         -2,
         1.25,
         "United Kingdom"
        ],
        [
         -2.52,
         "21412",
         -6,
         0.42,
         "EIRE"
        ],
        [
         -2.52,
         "85131A",
         -6,
         0.42,
         "United Kingdom"
        ],
        [
         -2.55,
         "22301",
         -1,
         2.55,
         "United Kingdom"
        ],
        [
         -2.55,
         "85123A",
         -1,
         2.55,
         "United Kingdom"
        ],
        [
         -2.55,
         "22638",
         -1,
         2.55,
         "Germany"
        ],
        [
         -2.55,
         "85023C",
         -1,
         2.55,
         "United Kingdom"
        ],
        [
         -2.55,
         "22156",
         -3,
         0.85,
         "United Kingdom"
        ],
        [
         -2.55,
         "21586",
         -1,
         2.55,
         "United Kingdom"
        ],
        [
         -2.55,
         "22352",
         -1,
         2.55,
         "United Kingdom"
        ],
        [
         -2.55,
         "85123A",
         -1,
         2.55,
         "United Kingdom"
        ],
        [
         -2.55,
         "85123A",
         -1,
         2.55,
         "United Kingdom"
        ],
        [
         -2.55,
         "85123A",
         -1,
         2.55,
         "United Kingdom"
        ],
        [
         -2.55,
         "85023B",
         -1,
         2.55,
         "United Kingdom"
        ],
        [
         -2.55,
         "20772",
         -1,
         2.55,
         "United Kingdom"
        ],
        [
         -2.55,
         "85123A",
         -1,
         2.55,
         "United Kingdom"
        ],
        [
         -2.55,
         "21559",
         -1,
         2.55,
         "United Kingdom"
        ],
        [
         -2.55,
         "22467",
         -1,
         2.55,
         "United Kingdom"
        ],
        [
         -2.55,
         "22467",
         -1,
         2.55,
         "United Kingdom"
        ],
        [
         -2.55,
         "21733",
         -1,
         2.55,
         "United Kingdom"
        ],
        [
         -2.55,
         "22667",
         -1,
         2.55,
         "United Kingdom"
        ],
        [
         -2.55,
         "84678",
         -1,
         2.55,
         "United Kingdom"
        ],
        [
         -2.55,
         "85123A",
         -1,
         2.55,
         "United Kingdom"
        ],
        [
         -2.55,
         "21531",
         -1,
         2.55,
         "United Kingdom"
        ],
        [
         -2.55,
         "21558",
         -1,
         2.55,
         "United Kingdom"
        ],
        [
         -2.55,
         "22197",
         -3,
         0.85,
         "United Kingdom"
        ],
        [
         -2.55,
         "21733",
         -1,
         2.55,
         "United Kingdom"
        ],
        [
         -2.55,
         "84508A",
         -1,
         2.55,
         "United Kingdom"
        ],
        [
         -2.55,
         "21558",
         -1,
         2.55,
         "United Kingdom"
        ],
        [
         -2.6,
         "22439",
         -4,
         0.65,
         "United Kingdom"
        ],
        [
         -2.9,
         "22961",
         -2,
         1.45,
         "Germany"
        ],
        [
         -2.9,
         "22198",
         -2,
         1.45,
         "United Kingdom"
        ],
        [
         -2.9,
         "21169",
         -2,
         1.45,
         "United Kingdom"
        ],
        [
         -2.9,
         "22645",
         -2,
         1.45,
         "United Kingdom"
        ],
        [
         -2.95,
         "22900",
         -1,
         2.95,
         "United Kingdom"
        ],
        [
         -2.95,
         "82494L",
         -1,
         2.95,
         "United Kingdom"
        ],
        [
         -2.95,
         "22272",
         -1,
         2.95,
         "United Kingdom"
        ],
        [
         -2.95,
         "22766",
         -1,
         2.95,
         "United Kingdom"
        ],
        [
         -2.95,
         "22697",
         -1,
         2.95,
         "United Kingdom"
        ],
        [
         -2.95,
         "22274",
         -1,
         2.95,
         "United Kingdom"
        ],
        [
         -2.95,
         "85123A",
         -1,
         2.95,
         "United Kingdom"
        ],
        [
         -2.95,
         "22665",
         -1,
         2.95,
         "United Kingdom"
        ],
        [
         -2.95,
         "22699",
         -1,
         2.95,
         "United Kingdom"
        ],
        [
         -2.95,
         "22666",
         -1,
         2.95,
         "United Kingdom"
        ],
        [
         -2.95,
         "21424",
         -1,
         2.95,
         "United Kingdom"
        ],
        [
         -2.95,
         "22158",
         -1,
         2.95,
         "United Kingdom"
        ],
        [
         -2.95,
         "22083",
         -1,
         2.95,
         "United Kingdom"
        ],
        [
         -2.95,
         "22699",
         -1,
         2.95,
         "United Kingdom"
        ],
        [
         -2.95,
         "22086",
         -1,
         2.95,
         "United Kingdom"
        ],
        [
         -2.95,
         "21452",
         -1,
         2.95,
         "United Kingdom"
        ],
        [
         -2.95,
         "35832",
         -1,
         2.95,
         "United Kingdom"
        ],
        [
         -2.95,
         "22697",
         -1,
         2.95,
         "United Kingdom"
        ],
        [
         -2.95,
         "22666",
         -1,
         2.95,
         "United Kingdom"
        ],
        [
         -2.95,
         "22667",
         -1,
         2.95,
         "United Kingdom"
        ],
        [
         -2.95,
         "22666",
         -1,
         2.95,
         "Portugal"
        ],
        [
         -2.95,
         "22666",
         -1,
         2.95,
         "Belgium"
        ],
        [
         -2.95,
         "22457",
         -1,
         2.95,
         "United Kingdom"
        ],
        [
         -2.95,
         "82494L",
         -1,
         2.95,
         "United Kingdom"
        ],
        [
         -2.95,
         "22158",
         -1,
         2.95,
         "United Kingdom"
        ],
        [
         -2.95,
         "20914",
         -1,
         2.95,
         "United Kingdom"
        ],
        [
         -2.95,
         "21844",
         -1,
         2.95,
         "United Kingdom"
        ],
        [
         -2.95,
         "22766",
         -1,
         2.95,
         "United Kingdom"
        ],
        [
         -2.95,
         "22697",
         -1,
         2.95,
         "United Kingdom"
        ],
        [
         -2.95,
         "22910",
         -1,
         2.95,
         "United Kingdom"
        ],
        [
         -2.95,
         "22470",
         -1,
         2.95,
         "United Kingdom"
        ],
        [
         -2.95,
         "22327",
         -1,
         2.95,
         "United Kingdom"
        ],
        [
         -2.95,
         "85123A",
         -1,
         2.95,
         "United Kingdom"
        ],
        [
         -2.95,
         "22697",
         -1,
         2.95,
         "United Kingdom"
        ],
        [
         -2.95,
         "22665",
         -1,
         2.95,
         "United Kingdom"
        ],
        [
         -2.95,
         "22667",
         -1,
         2.95,
         "United Kingdom"
        ],
        [
         -2.95,
         "22666",
         -1,
         2.95,
         "Belgium"
        ],
        [
         -2.95,
         "22766",
         -1,
         2.95,
         "United Kingdom"
        ],
        [
         -2.95,
         "20914",
         -1,
         2.95,
         "Germany"
        ],
        [
         -2.95,
         "20936",
         -1,
         2.95,
         "United Kingdom"
        ],
        [
         -2.95,
         "22175",
         -1,
         2.95,
         "United Kingdom"
        ],
        [
         -3,
         "POST",
         -1,
         3,
         "United Kingdom"
        ],
        [
         -3.18,
         "20718",
         -3,
         1.06,
         "United Kingdom"
        ],
        [
         -3.18,
         "22719",
         -3,
         1.06,
         "United Kingdom"
        ],
        [
         -3.25,
         "71477",
         -1,
         3.25,
         "United Kingdom"
        ],
        [
         -3.25,
         "71477",
         -1,
         3.25,
         "EIRE"
        ],
        [
         -3.25,
         "20681",
         -1,
         3.25,
         "United Kingdom"
        ],
        [
         -3.25,
         "71477",
         -1,
         3.25,
         "United Kingdom"
        ],
        [
         -3.25,
         "71477",
         -1,
         3.25,
         "United Kingdom"
        ],
        [
         -3.3,
         "84949",
         -2,
         1.65,
         "United Kingdom"
        ],
        [
         -3.3,
         "85099F",
         -2,
         1.65,
         "United Kingdom"
        ],
        [
         -3.3,
         "22554",
         -2,
         1.65,
         "Germany"
        ],
        [
         -3.3,
         "21928",
         -2,
         1.65,
         "United Kingdom"
        ],
        [
         -3.3,
         "20711",
         -2,
         1.65,
         "United Kingdom"
        ],
        [
         -3.35,
         "22450",
         -1,
         3.35,
         "France"
        ],
        [
         -3.38,
         "21166",
         -2,
         1.69,
         "United Kingdom"
        ],
        [
         -3.49,
         "35001W",
         -1,
         3.49,
         "United Kingdom"
        ],
        [
         -3.5,
         "POST",
         -1,
         3.5,
         "United Kingdom"
        ],
        [
         -3.7,
         "21314",
         -2,
         1.85,
         "United Kingdom"
        ],
        [
         -3.7,
         "21181",
         -2,
         1.85,
         "United Kingdom"
        ],
        [
         -3.75,
         "22730",
         -1,
         3.75,
         "United Kingdom"
        ],
        [
         -3.75,
         "22730",
         -1,
         3.75,
         "United Kingdom"
        ],
        [
         -3.75,
         "22729",
         -1,
         3.75,
         "United Kingdom"
        ],
        [
         -3.75,
         "22727",
         -1,
         3.75,
         "United Kingdom"
        ],
        [
         -3.75,
         "22726",
         -1,
         3.75,
         "United Kingdom"
        ],
        [
         -3.75,
         "22202",
         -1,
         3.75,
         "Germany"
        ],
        [
         -3.75,
         "22725",
         -1,
         3.75,
         "United Kingdom"
        ],
        [
         -3.75,
         "21430",
         -1,
         3.75,
         "Portugal"
        ],
        [
         -3.75,
         "84997D",
         -1,
         3.75,
         "United Kingdom"
        ],
        [
         -3.75,
         "22725",
         -1,
         3.75,
         "United Kingdom"
        ],
        [
         -3.75,
         "21430",
         -1,
         3.75,
         "United Kingdom"
        ],
        [
         -3.75,
         "22725",
         -1,
         3.75,
         "United Kingdom"
        ],
        [
         -3.75,
         "21231",
         -3,
         1.25,
         "United Kingdom"
        ],
        [
         -3.75,
         "22725",
         -1,
         3.75,
         "United Kingdom"
        ],
        [
         -3.75,
         "22511",
         -1,
         3.75,
         "United Kingdom"
        ],
        [
         -3.75,
         "21891",
         -3,
         1.25,
         "United Kingdom"
        ],
        [
         -3.75,
         "21430",
         -1,
         3.75,
         "United Kingdom"
        ],
        [
         -3.75,
         "22728",
         -1,
         3.75,
         "United Kingdom"
        ],
        [
         -3.75,
         "22726",
         -1,
         3.75,
         "United Kingdom"
        ],
        [
         -3.75,
         "22801",
         -1,
         3.75,
         "United Kingdom"
        ],
        [
         -3.75,
         "22592",
         -1,
         3.75,
         "EIRE"
        ],
        [
         -3.75,
         "22178",
         -3,
         1.25,
         "United Kingdom"
        ],
        [
         -3.75,
         "22567",
         -3,
         1.25,
         "Japan"
        ],
        [
         -3.75,
         "22801",
         -1,
         3.75,
         "United Kingdom"
        ],
        [
         -3.75,
         "84685",
         -1,
         3.75,
         "United Kingdom"
        ],
        [
         -3.75,
         "84870B",
         -1,
         3.75,
         "United Kingdom"
        ],
        [
         -3.75,
         "22730",
         -1,
         3.75,
         "United Kingdom"
        ],
        [
         -3.75,
         "22072",
         -1,
         3.75,
         "United Kingdom"
        ],
        [
         -3.75,
         "22727",
         -1,
         3.75,
         "United Kingdom"
        ],
        [
         -3.75,
         "22730",
         -1,
         3.75,
         "United Kingdom"
        ],
        [
         -3.75,
         "20931",
         -1,
         3.75,
         "United Kingdom"
        ],
        [
         -3.75,
         "22727",
         -1,
         3.75,
         "United Kingdom"
        ],
        [
         -3.75,
         "84946",
         -3,
         1.25,
         "United Kingdom"
        ],
        [
         -3.75,
         "22203",
         -1,
         3.75,
         "Germany"
        ],
        [
         -3.75,
         "22800",
         -1,
         3.75,
         "United Kingdom"
        ],
        [
         -3.78,
         "22893",
         -9,
         0.42,
         "United Kingdom"
        ],
        [
         -3.9,
         "22630",
         -2,
         1.95,
         "France"
        ],
        [
         -3.9,
         "21822",
         -2,
         1.95,
         "United Kingdom"
        ],
        [
         -3.9,
         "22386",
         -2,
         1.95,
         "United Kingdom"
        ],
        [
         -3.95,
         "22722",
         -1,
         3.95,
         "United Kingdom"
        ],
        [
         -3.95,
         "21658",
         -1,
         3.95,
         "United Kingdom"
        ],
        [
         -3.95,
         "22778",
         -1,
         3.95,
         "United Kingdom"
        ],
        [
         -3.95,
         "22778",
         -1,
         3.95,
         "United Kingdom"
        ],
        [
         -3.95,
         "21658",
         -1,
         3.95,
         "United Kingdom"
        ],
        [
         -3.95,
         "84813",
         -1,
         3.95,
         "United Kingdom"
        ],
        [
         -3.95,
         "21658",
         -1,
         3.95,
         "Germany"
        ],
        [
         -3.95,
         "22778",
         -1,
         3.95,
         "Germany"
        ],
        [
         -3.95,
         "21658",
         -1,
         3.95,
         "Germany"
        ],
        [
         -3.95,
         "21658",
         -1,
         3.95,
         "United Kingdom"
        ],
        [
         -4.2,
         "21314",
         -2,
         2.1,
         "United Kingdom"
        ],
        [
         -4.2,
         "20829",
         -2,
         2.1,
         "United Kingdom"
        ],
        [
         -4.2,
         "22964",
         -2,
         2.1,
         "Germany"
        ],
        [
         -4.2,
         "22440",
         -10,
         0.42,
         "United Kingdom"
        ],
        [
         -4.2,
         "20829",
         -2,
         2.1,
         "United Kingdom"
        ],
        [
         -4.2,
         "22956",
         -2,
         2.1,
         "Germany"
        ],
        [
         -4.24,
         "21232",
         -4,
         1.06,
         "United Kingdom"
        ],
        [
         -4.25,
         "22960",
         -1,
         4.25,
         "United Kingdom"
        ],
        [
         -4.25,
         "72807C",
         -1,
         4.25,
         "United Kingdom"
        ],
        [
         -4.25,
         "21533",
         -1,
         4.25,
         "United Kingdom"
        ],
        [
         -4.25,
         "22371",
         -1,
         4.25,
         "United Kingdom"
        ],
        [
         -4.25,
         "22201",
         -1,
         4.25,
         "United Kingdom"
        ],
        [
         -4.25,
         "22923",
         -5,
         0.85,
         "Germany"
        ],
        [
         -4.25,
         "22357",
         -1,
         4.25,
         "United Kingdom"
        ],
        [
         -4.25,
         "22187",
         -1,
         4.25,
         "EIRE"
        ],
        [
         -4.25,
         "72807A",
         -1,
         4.25,
         "United Kingdom"
        ],
        [
         -4.25,
         "72802B",
         -1,
         4.25,
         "United Kingdom"
        ],
        [
         -4.25,
         "84945",
         -5,
         0.85,
         "Germany"
        ],
        [
         -4.25,
         "22960",
         -1,
         4.25,
         "United Kingdom"
        ],
        [
         -4.25,
         "84819",
         -1,
         4.25,
         "United Kingdom"
        ],
        [
         -4.25,
         "21537",
         -1,
         4.25,
         "United Kingdom"
        ],
        [
         -4.25,
         "22780",
         -1,
         4.25,
         "United Kingdom"
        ],
        [
         -4.25,
         "M",
         -1,
         4.25,
         "United Kingdom"
        ],
        [
         -4.25,
         "22156",
         -5,
         0.85,
         "United Kingdom"
        ],
        [
         -4.25,
         "79321",
         -1,
         4.25,
         "United Kingdom"
        ],
        [
         -4.25,
         "22940",
         -1,
         4.25,
         "United Kingdom"
        ],
        [
         -4.35,
         "20727",
         -3,
         1.45,
         "United Kingdom"
        ],
        [
         -4.35,
         "20725",
         -3,
         1.45,
         "United Kingdom"
        ],
        [
         -4.41,
         "POST",
         -1,
         4.41,
         "United Kingdom"
        ],
        [
         -4.5,
         "21578",
         -2,
         2.25,
         "Germany"
        ],
        [
         -4.56,
         "21144",
         -12,
         0.38,
         "EIRE"
        ],
        [
         -4.62,
         "22536",
         -11,
         0.42,
         "United Kingdom"
        ],
        [
         -4.65,
         "47567B",
         -1,
         4.65,
         "United Kingdom"
        ],
        [
         -4.65,
         "35004C",
         -1,
         4.65,
         "United Kingdom"
        ],
        [
         -4.65,
         "35004C",
         -1,
         4.65,
         "United Kingdom"
        ],
        [
         -4.95,
         "22720",
         -1,
         4.95,
         "United Kingdom"
        ],
        [
         -4.95,
         "22111",
         -1,
         4.95,
         "United Kingdom"
        ],
        [
         -4.95,
         "22617",
         -1,
         4.95,
         "United Kingdom"
        ],
        [
         -4.95,
         "22720",
         -1,
         4.95,
         "United Kingdom"
        ],
        [
         -4.95,
         "22720",
         -1,
         4.95,
         "United Kingdom"
        ],
        [
         -4.95,
         "22784",
         -1,
         4.95,
         "United Kingdom"
        ],
        [
         -4.95,
         "84949",
         -3,
         1.65,
         "United Kingdom"
        ],
        [
         -4.95,
         "22472",
         -1,
         4.95,
         "Germany"
        ],
        [
         -4.95,
         "22784",
         -1,
         4.95,
         "United Kingdom"
        ],
        [
         -4.95,
         "22720",
         -1,
         4.95,
         "United Kingdom"
        ],
        [
         -4.95,
         "22198",
         -3,
         1.65,
         "United Kingdom"
        ],
        [
         -4.95,
         "85042",
         -1,
         4.95,
         "United Kingdom"
        ],
        [
         -4.95,
         "22649",
         -1,
         4.95,
         "United Kingdom"
        ],
        [
         -4.95,
         "22617",
         -1,
         4.95,
         "United Kingdom"
        ],
        [
         -4.95,
         "22617",
         -1,
         4.95,
         "United Kingdom"
        ],
        [
         -4.95,
         "22943",
         -1,
         4.95,
         "United Kingdom"
        ],
        [
         -4.95,
         "22654",
         -1,
         4.95,
         "United Kingdom"
        ],
        [
         -4.95,
         "22138",
         -1,
         4.95,
         "United Kingdom"
        ],
        [
         -4.95,
         "22784",
         -1,
         4.95,
         "United Kingdom"
        ],
        [
         -4.95,
         "21363",
         -1,
         4.95,
         "United Kingdom"
        ],
        [
         -4.95,
         "21533",
         -1,
         4.95,
         "United Kingdom"
        ],
        [
         -4.95,
         "22720",
         -1,
         4.95,
         "United Kingdom"
        ],
        [
         -4.95,
         "22623",
         -1,
         4.95,
         "United Kingdom"
        ],
        [
         -4.95,
         "22138",
         -1,
         4.95,
         "United Kingdom"
        ],
        [
         -4.95,
         "22649",
         -1,
         4.95,
         "United Kingdom"
        ],
        [
         -4.95,
         "22456",
         -1,
         4.95,
         "United Kingdom"
        ],
        [
         -4.95,
         "21539",
         -1,
         4.95,
         "United Kingdom"
        ],
        [
         -4.95,
         "21539",
         -1,
         4.95,
         "United Kingdom"
        ],
        [
         -4.95,
         "85174",
         -1,
         4.95,
         "United Kingdom"
        ],
        [
         -4.95,
         "22854",
         -1,
         4.95,
         "United Kingdom"
        ],
        [
         -4.95,
         "21622",
         -1,
         4.95,
         "United Kingdom"
        ],
        [
         -4.95,
         "79164",
         -3,
         1.65,
         "United Kingdom"
        ],
        [
         -4.95,
         "21463",
         -1,
         4.95,
         "United Kingdom"
        ],
        [
         -4.95,
         "21485",
         -1,
         4.95,
         "United Kingdom"
        ],
        [
         -4.95,
         "79320",
         -1,
         4.95,
         "United Kingdom"
        ],
        [
         -4.95,
         "22649",
         -1,
         4.95,
         "United Kingdom"
        ],
        [
         -4.95,
         "22278",
         -1,
         4.95,
         "United Kingdom"
        ],
        [
         -4.95,
         "22662",
         -3,
         1.65,
         "France"
        ],
        [
         -4.95,
         "22430",
         -1,
         4.95,
         "United Kingdom"
        ],
        [
         -5,
         "22299",
         -4,
         1.25,
         "United Kingdom"
        ],
        [
         -5,
         "37447",
         -4,
         1.25,
         "United Kingdom"
        ],
        [
         -5,
         "21231",
         -4,
         1.25,
         "United Kingdom"
        ],
        [
         -5,
         "21915",
         -4,
         1.25,
         "United Kingdom"
        ],
        [
         -5,
         "21445",
         -4,
         1.25,
         "United Kingdom"
        ],
        [
         -5,
         "21868",
         -4,
         1.25,
         "United Kingdom"
        ],
        [
         -5,
         "21232",
         -4,
         1.25,
         "Germany"
        ],
        [
         -5,
         "21826",
         -4,
         1.25,
         "United Kingdom"
        ],
        [
         -5,
         "21868",
         -4,
         1.25,
         "United Kingdom"
        ],
        [
         -5,
         "22065",
         -4,
         1.25,
         "United Kingdom"
        ],
        [
         -5.04,
         "22034",
         -12,
         0.42,
         "EIRE"
        ],
        [
         -5.07,
         "82583",
         -3,
         1.69,
         "United Kingdom"
        ],
        [
         -5.1,
         "84945",
         -6,
         0.85,
         "United Kingdom"
        ],
        [
         -5.1,
         "21531",
         -2,
         2.55,
         "United Kingdom"
        ],
        [
         -5.1,
         "82482",
         -2,
         2.55,
         "United Kingdom"
        ],
        [
         -5.1,
         "22700",
         -6,
         0.85,
         "United Kingdom"
        ],
        [
         -5.45,
         "47590A",
         -1,
         5.45,
         "United Kingdom"
        ],
        [
         -5.55,
         "85047",
         -1,
         5.55,
         "United Kingdom"
        ],
        [
         -5.55,
         "16202E",
         -1,
         5.55,
         "United Kingdom"
        ],
        [
         -5.75,
         "POST",
         -1,
         5.75,
         "United Kingdom"
        ],
        [
         -5.76,
         "D",
         -1,
         5.76,
         "United Kingdom"
        ],
        [
         -5.8,
         "22198",
         -4,
         1.45,
         "United Kingdom"
        ],
        [
         -5.8,
         "22064",
         -4,
         1.45,
         "United Kingdom"
        ],
        [
         -5.85,
         "85099B",
         -3,
         1.95,
         "United Kingdom"
        ],
        [
         -5.85,
         "22466",
         -3,
         1.95,
         "United Kingdom"
        ],
        [
         -5.9,
         "21890",
         -2,
         2.95,
         "United Kingdom"
        ],
        [
         -5.9,
         "71279",
         -2,
         2.95,
         "United Kingdom"
        ],
        [
         -5.9,
         "22766",
         -2,
         2.95,
         "United Kingdom"
        ],
        [
         -5.9,
         "22328",
         -2,
         2.95,
         "United Kingdom"
        ],
        [
         -5.9,
         "20914",
         -2,
         2.95,
         "United Kingdom"
        ],
        [
         -5.9,
         "22911",
         -2,
         2.95,
         "United Kingdom"
        ],
        [
         -5.9,
         "21845",
         -2,
         2.95,
         "United Kingdom"
        ],
        [
         -5.9,
         "22701",
         -2,
         2.95,
         "United Kingdom"
        ],
        [
         -5.9,
         "22798",
         -2,
         2.95,
         "United Kingdom"
        ],
        [
         -5.9,
         "22667",
         -2,
         2.95,
         "Portugal"
        ],
        [
         -5.9,
         "22358",
         -2,
         2.95,
         "United Kingdom"
        ],
        [
         -5.9,
         "20914",
         -2,
         2.95,
         "United Kingdom"
        ],
        [
         -5.9,
         "20914",
         -2,
         2.95,
         "United Kingdom"
        ],
        [
         -5.95,
         "82483",
         -1,
         5.95,
         "United Kingdom"
        ],
        [
         -5.95,
         "82483",
         -1,
         5.95,
         "United Kingdom"
        ],
        [
         -5.95,
         "21463",
         -1,
         5.95,
         "United Kingdom"
        ],
        [
         -5.95,
         "22822",
         -1,
         5.95,
         "United Kingdom"
        ],
        [
         -5.95,
         "82483",
         -1,
         5.95,
         "United Kingdom"
        ],
        [
         -5.95,
         "84945",
         -7,
         0.85,
         "United Kingdom"
        ],
        [
         -5.95,
         "22418",
         -7,
         0.85,
         "United Kingdom"
        ],
        [
         -5.95,
         "84625C",
         -7,
         0.85,
         "United Kingdom"
        ],
        [
         -5.95,
         "21755",
         -1,
         5.95,
         "United Kingdom"
        ],
        [
         -5.95,
         "82483",
         -1,
         5.95,
         "United Kingdom"
        ],
        [
         -5.95,
         "22907",
         -7,
         0.85,
         "United Kingdom"
        ],
        [
         -5.95,
         "22654",
         -1,
         5.95,
         "Germany"
        ],
        [
         -6.25,
         "22564",
         -5,
         1.25,
         "United Kingdom"
        ],
        [
         -6.25,
         "22094",
         -5,
         1.25,
         "Australia"
        ],
        [
         -6.3,
         "21314",
         -3,
         2.1,
         "United Kingdom"
        ],
        [
         -6.3,
         "82582",
         -3,
         2.1,
         "United Kingdom"
        ],
        [
         -6.6,
         "22329",
         -4,
         1.65,
         "United Kingdom"
        ],
        [
         -6.6,
         "22659",
         -4,
         1.65,
         "United Kingdom"
        ],
        [
         -6.6,
         "22077",
         -4,
         1.65,
         "Germany"
        ],
        [
         -6.6,
         "20798",
         -4,
         1.65,
         "United Kingdom"
        ],
        [
         -6.6,
         "22555",
         -4,
         1.65,
         "Germany"
        ],
        [
         -6.75,
         "22170",
         -1,
         6.75,
         "United Kingdom"
        ],
        [
         -6.75,
         "22795",
         -1,
         6.75,
         "United Kingdom"
        ],
        [
         -6.75,
         "22179",
         -1,
         6.75,
         "United Kingdom"
        ],
        [
         -6.75,
         "21906",
         -1,
         6.75,
         "United Kingdom"
        ],
        [
         -6.8,
         "21238",
         -8,
         0.85,
         "United Kingdom"
        ],
        [
         -6.8,
         "22963",
         -8,
         0.85,
         "United Kingdom"
        ],
        [
         -6.8,
         "22963",
         -8,
         0.85,
         "United Kingdom"
        ],
        [
         -6.8,
         "21240",
         -8,
         0.85,
         "United Kingdom"
        ],
        [
         -6.95,
         "21527",
         -1,
         6.95,
         "United Kingdom"
        ],
        [
         -6.95,
         "21528",
         -1,
         6.95,
         "United Kingdom"
        ],
        [
         -6.95,
         "21527",
         -1,
         6.95,
         "United Kingdom"
        ],
        [
         -6.96,
         "21984",
         -24,
         0.29,
         "United Kingdom"
        ],
        [
         -6.96,
         "21980",
         -24,
         0.29,
         "United Kingdom"
        ],
        [
         -6.96,
         "21983",
         -24,
         0.29,
         "United Kingdom"
        ],
        [
         -7.06,
         "POST",
         -1,
         7.06,
         "United Kingdom"
        ],
        [
         -7.25,
         "84985A",
         -5,
         1.45,
         "United Kingdom"
        ],
        [
         -7.5,
         "22508",
         -2,
         3.75,
         "United Kingdom"
        ],
        [
         -7.5,
         "84279P",
         -2,
         3.75,
         "United Kingdom"
        ],
        [
         -7.5,
         "22726",
         -2,
         3.75,
         "United Kingdom"
        ],
        [
         -7.5,
         "22960",
         -2,
         3.75,
         "United Kingdom"
        ],
        [
         -7.5,
         "22727",
         -2,
         3.75,
         "United Kingdom"
        ],
        [
         -7.5,
         "21430",
         -2,
         3.75,
         "United Kingdom"
        ],
        [
         -7.5,
         "22073",
         -2,
         3.75,
         "United Kingdom"
        ],
        [
         -7.5,
         "22726",
         -2,
         3.75,
         "United Kingdom"
        ],
        [
         -7.5,
         "22727",
         -2,
         3.75,
         "United Kingdom"
        ],
        [
         -7.65,
         "22169",
         -1,
         7.65,
         "United Kingdom"
        ],
        [
         -7.65,
         "22352",
         -3,
         2.55,
         "Italy"
        ],
        [
         -7.65,
         "22300",
         -3,
         2.55,
         "Germany"
        ],
        [
         -7.65,
         "22781",
         -1,
         7.65,
         "United Kingdom"
        ],
        [
         -7.65,
         "21936",
         -3,
         2.55,
         "United Kingdom"
        ],
        [
         -7.8,
         "22244",
         -4,
         1.95,
         "Germany"
        ],
        [
         -7.9,
         "22722",
         -2,
         3.95,
         "United Kingdom"
        ],
        [
         -7.95,
         "82486",
         -1,
         7.95,
         "United Kingdom"
        ],
        [
         -7.95,
         "21527",
         -1,
         7.95,
         "United Kingdom"
        ],
        [
         -7.95,
         "21527",
         -1,
         7.95,
         "United Kingdom"
        ],
        [
         -7.95,
         "22840",
         -1,
         7.95,
         "United Kingdom"
        ],
        [
         -7.95,
         "85048",
         -1,
         7.95,
         "United Kingdom"
        ],
        [
         -7.95,
         "21527",
         -1,
         7.95,
         "United Kingdom"
        ],
        [
         -7.95,
         "85068",
         -1,
         7.95,
         "United Kingdom"
        ],
        [
         -7.95,
         "21527",
         -1,
         7.95,
         "United Kingdom"
        ],
        [
         -7.95,
         "21527",
         -1,
         7.95,
         "United Kingdom"
        ],
        [
         -7.95,
         "82486",
         -1,
         7.95,
         "United Kingdom"
        ],
        [
         -7.95,
         "85048",
         -1,
         7.95,
         "United Kingdom"
        ],
        [
         -7.95,
         "85135C",
         -1,
         7.95,
         "United Kingdom"
        ],
        [
         -7.95,
         "85048",
         -1,
         7.95,
         "United Kingdom"
        ],
        [
         -7.95,
         "20685",
         -1,
         7.95,
         "United Kingdom"
        ],
        [
         -8.25,
         "22242",
         -5,
         1.65,
         "Germany"
        ],
        [
         -8.25,
         "84406B",
         -3,
         2.75,
         "United Kingdom"
        ],
        [
         -8.25,
         "84949",
         -5,
         1.65,
         "United Kingdom"
        ],
        [
         -8.25,
         "22198",
         -5,
         1.65,
         "United Kingdom"
        ],
        [
         -8.4,
         "22748",
         -4,
         2.1,
         "United Kingdom"
        ],
        [
         -8.4,
         "22633",
         -4,
         2.1,
         "United Kingdom"
        ],
        [
         -8.4,
         "82613D",
         -20,
         0.42,
         "United Kingdom"
        ],
        [
         -8.4,
         "82613B",
         -20,
         0.42,
         "United Kingdom"
        ],
        [
         -8.4,
         "22970",
         -4,
         2.1,
         "United Kingdom"
        ],
        [
         -8.4,
         "82613C",
         -20,
         0.42,
         "United Kingdom"
        ],
        [
         -8.4,
         "21531",
         -4,
         2.1,
         "United Kingdom"
        ],
        [
         -8.5,
         "22456",
         -2,
         4.25,
         "United Kingdom"
        ],
        [
         -8.5,
         "22617",
         -2,
         4.25,
         "United Kingdom"
        ],
        [
         -8.5,
         "22768",
         -1,
         8.5,
         "United Kingdom"
        ],
        [
         -8.5,
         "22171",
         -1,
         8.5,
         "United Kingdom"
        ],
        [
         -8.5,
         "22942",
         -1,
         8.5,
         "United Kingdom"
        ],
        [
         -8.5,
         "22437",
         -10,
         0.85,
         "United Kingdom"
        ],
        [
         -8.5,
         "22960",
         -2,
         4.25,
         "United Kingdom"
        ],
        [
         -8.5,
         "22168",
         -1,
         8.5,
         "United Kingdom"
        ],
        [
         -8.5,
         "79066K",
         -10,
         0.85,
         "United Kingdom"
        ],
        [
         -8.5,
         "22636",
         -1,
         8.5,
         "Germany"
        ],
        [
         -8.5,
         "22061",
         -1,
         8.5,
         "United Kingdom"
        ],
        [
         -8.5,
         "22627",
         -1,
         8.5,
         "United Kingdom"
        ],
        [
         -8.5,
         "22941",
         -1,
         8.5,
         "United Kingdom"
        ],
        [
         -8.5,
         "22636",
         -1,
         8.5,
         "United Kingdom"
        ],
        [
         -8.5,
         "22501",
         -1,
         8.5,
         "United Kingdom"
        ],
        [
         -8.5,
         "22890",
         -1,
         8.5,
         "United Kingdom"
        ],
        [
         -8.5,
         "22168",
         -1,
         8.5,
         "United Kingdom"
        ],
        [
         -8.5,
         "22941",
         -1,
         8.5,
         "United Kingdom"
        ],
        [
         -8.5,
         "22942",
         -1,
         8.5,
         "United Kingdom"
        ],
        [
         -8.5,
         "22942",
         -1,
         8.5,
         "United Kingdom"
        ],
        [
         -8.5,
         "22636",
         -1,
         8.5,
         "Germany"
        ],
        [
         -8.5,
         "22941",
         -1,
         8.5,
         "United Kingdom"
        ],
        [
         -8.5,
         "22942",
         -1,
         8.5,
         "United Kingdom"
        ],
        [
         -8.5,
         "22197",
         -10,
         0.85,
         "United Kingdom"
        ],
        [
         -8.5,
         "22184",
         -1,
         8.5,
         "United Kingdom"
        ],
        [
         -8.5,
         "22184",
         -1,
         8.5,
         "United Kingdom"
        ],
        [
         -8.5,
         "22960",
         -2,
         4.25,
         "United Kingdom"
        ],
        [
         -8.5,
         "22429",
         -2,
         4.25,
         "United Kingdom"
        ],
        [
         -8.75,
         "22091",
         -7,
         1.25,
         "Germany"
        ],
        [
         -8.75,
         "85118",
         -7,
         1.25,
         "United Kingdom"
        ],
        [
         -8.75,
         "22892",
         -7,
         1.25,
         "Germany"
        ],
        [
         -8.85,
         "22667",
         -3,
         2.95,
         "France"
        ],
        [
         -8.85,
         "22766",
         -3,
         2.95,
         "United Kingdom"
        ],
        [
         -8.85,
         "22697",
         -3,
         2.95,
         "United Kingdom"
        ],
        [
         -8.85,
         "21733",
         -3,
         2.95,
         "United Kingdom"
        ],
        [
         -8.85,
         "22273",
         -3,
         2.95,
         "United Kingdom"
        ],
        [
         -8.85,
         "22700",
         -3,
         2.95,
         "United Kingdom"
        ],
        [
         -8.85,
         "22665",
         -3,
         2.95,
         "United Kingdom"
        ],
        [
         -8.85,
         "22798",
         -3,
         2.95,
         "United Kingdom"
        ],
        [
         -8.85,
         "22457",
         -3,
         2.95,
         "United Kingdom"
        ],
        [
         -8.95,
         "21056",
         -1,
         8.95,
         "United Kingdom"
        ],
        [
         -8.95,
         "35400",
         -1,
         8.95,
         "United Kingdom"
        ],
        [
         -8.95,
         "35400",
         -1,
         8.95,
         "United Kingdom"
        ],
        [
         -8.95,
         "35400",
         -1,
         8.95,
         "United Kingdom"
        ],
        [
         -8.95,
         "21056",
         -1,
         8.95,
         "United Kingdom"
        ],
        [
         -9.3,
         "84792",
         -2,
         4.65,
         "United Kingdom"
        ],
        [
         -9.3,
         "35004B",
         -2,
         4.65,
         "United Kingdom"
        ],
        [
         -9.3,
         "84792",
         -2,
         4.65,
         "United Kingdom"
        ],
        [
         -9.35,
         "22418",
         -11,
         0.85,
         "United Kingdom"
        ],
        [
         -9.35,
         "22603",
         -11,
         0.85,
         "United Kingdom"
        ],
        [
         -9.75,
         "21260",
         -3,
         3.25,
         "United Kingdom"
        ],
        [
         -9.9,
         "22649",
         -2,
         4.95,
         "Germany"
        ],
        [
         -9.9,
         "22859",
         -6,
         1.65,
         "Germany"
        ],
        [
         -9.9,
         "22077",
         -6,
         1.65,
         "Germany"
        ],
        [
         -9.9,
         "85042",
         -2,
         4.95,
         "United Kingdom"
        ],
        [
         -9.9,
         "22198",
         -6,
         1.65,
         "United Kingdom"
        ],
        [
         -9.9,
         "82483",
         -2,
         4.95,
         "United Kingdom"
        ],
        [
         -9.9,
         "22939",
         -2,
         4.95,
         "EIRE"
        ],
        [
         -9.9,
         "22243",
         -6,
         1.65,
         "United Kingdom"
        ],
        [
         -9.9,
         "21485",
         -2,
         4.95,
         "United Kingdom"
        ],
        [
         -9.9,
         "22720",
         -2,
         4.95,
         "United Kingdom"
        ],
        [
         -9.9,
         "22860",
         -6,
         1.65,
         "Germany"
        ],
        [
         -9.95,
         "37449",
         -1,
         9.95,
         "United Kingdom"
        ],
        [
         -9.95,
         "22776",
         -1,
         9.95,
         "United Kingdom"
        ],
        [
         -9.95,
         "22968",
         -1,
         9.95,
         "Germany"
        ],
        [
         -9.95,
         "22220",
         -1,
         9.95,
         "United Kingdom"
        ],
        [
         -9.95,
         "22634",
         -1,
         9.95,
         "France"
        ],
        [
         -9.95,
         "37449",
         -1,
         9.95,
         "United Kingdom"
        ],
        [
         -9.95,
         "22776",
         -1,
         9.95,
         "United Kingdom"
        ],
        [
         -9.95,
         "21217",
         -1,
         9.95,
         "United Kingdom"
        ],
        [
         -9.95,
         "22776",
         -1,
         9.95,
         "United Kingdom"
        ],
        [
         -9.95,
         "21217",
         -1,
         9.95,
         "Australia"
        ],
        [
         -9.95,
         "22776",
         -1,
         9.95,
         "United Kingdom"
        ],
        [
         -9.95,
         "22180",
         -1,
         9.95,
         "United Kingdom"
        ],
        [
         -9.95,
         "22776",
         -1,
         9.95,
         "United Kingdom"
        ],
        [
         -9.95,
         "22634",
         -1,
         9.95,
         "United Kingdom"
        ],
        [
         -9.95,
         "37500",
         -1,
         9.95,
         "United Kingdom"
        ],
        [
         -9.95,
         "22618",
         -1,
         9.95,
         "United Kingdom"
        ],
        [
         -9.95,
         "37449",
         -1,
         9.95,
         "United Kingdom"
        ],
        [
         -9.95,
         "22768",
         -1,
         9.95,
         "United Kingdom"
        ],
        [
         -9.95,
         "22768",
         -1,
         9.95,
         "United Kingdom"
        ],
        [
         -9.95,
         "22767",
         -1,
         9.95,
         "United Kingdom"
        ],
        [
         -9.95,
         "21843",
         -1,
         9.95,
         "United Kingdom"
        ],
        [
         -9.95,
         "22060",
         -1,
         9.95,
         "Belgium"
        ],
        [
         -9.95,
         "22220",
         -1,
         9.95,
         "United Kingdom"
        ],
        [
         -9.95,
         "22776",
         -1,
         9.95,
         "United Kingdom"
        ],
        [
         -9.95,
         "37449",
         -1,
         9.95,
         "United Kingdom"
        ],
        [
         -10,
         "20675",
         -8,
         1.25,
         "United Kingdom"
        ],
        [
         -10,
         "20676",
         -8,
         1.25,
         "United Kingdom"
        ],
        [
         -10,
         "22620",
         -8,
         1.25,
         "United Kingdom"
        ],
        [
         -10.08,
         "21830",
         -24,
         0.42,
         "United Kingdom"
        ],
        [
         -10.08,
         "21284",
         -24,
         0.42,
         "United Kingdom"
        ],
        [
         -10.2,
         "22196",
         -12,
         0.85,
         "United Kingdom"
        ],
        [
         -10.2,
         "22360",
         -4,
         2.55,
         "United Kingdom"
        ],
        [
         -10.2,
         "22600",
         -12,
         0.85,
         "United Kingdom"
        ],
        [
         -10.2,
         "22230",
         -12,
         0.85,
         "United Kingdom"
        ],
        [
         -10.2,
         "22348",
         -12,
         0.85,
         "United Kingdom"
        ],
        [
         -10.2,
         "22196",
         -12,
         0.85,
         "United Kingdom"
        ],
        [
         -10.5,
         "22049",
         -25,
         0.42,
         "United Kingdom"
        ],
        [
         -10.75,
         "22832",
         -1,
         10.75,
         "United Kingdom"
        ],
        [
         -10.75,
         "37503",
         -1,
         10.75,
         "United Kingdom"
        ],
        [
         -10.95,
         "21843",
         -1,
         10.95,
         "United Kingdom"
        ],
        [
         -10.95,
         "21843",
         -1,
         10.95,
         "United Kingdom"
        ],
        [
         -10.95,
         "21843",
         -1,
         10.95,
         "United Kingdom"
        ],
        [
         -10.95,
         "21843",
         -1,
         10.95,
         "United Kingdom"
        ],
        [
         -10.95,
         "21258",
         -1,
         10.95,
         "United Kingdom"
        ],
        [
         -10.95,
         "21843",
         -1,
         10.95,
         "France"
        ],
        [
         -10.95,
         "21843",
         -1,
         10.95,
         "United Kingdom"
        ],
        [
         -10.95,
         "21843",
         -1,
         10.95,
         "United Kingdom"
        ],
        [
         -10.95,
         "21843",
         -1,
         10.95,
         "France"
        ],
        [
         -11,
         "71477",
         -4,
         2.75,
         "United Kingdom"
        ],
        [
         -11.05,
         "22923",
         -13,
         0.85,
         "United Kingdom"
        ],
        [
         -11.25,
         "22251",
         -9,
         1.25,
         "United Kingdom"
        ],
        [
         -11.25,
         "21218",
         -3,
         3.75,
         "Belgium"
        ],
        [
         -11.25,
         "22728",
         -3,
         3.75,
         "United Kingdom"
        ],
        [
         -11.25,
         "22725",
         -3,
         3.75,
         "United Kingdom"
        ],
        [
         -11.25,
         "22726",
         -3,
         3.75,
         "United Kingdom"
        ],
        [
         -11.25,
         "21218",
         -3,
         3.75,
         "Germany"
        ],
        [
         -11.44,
         "85159B",
         -2,
         5.72,
         "United Kingdom"
        ],
        [
         -11.55,
         "22333",
         -7,
         1.65,
         "Australia"
        ],
        [
         -11.55,
         "85040A",
         -7,
         1.65,
         "United Kingdom"
        ],
        [
         -11.55,
         "22972",
         -7,
         1.65,
         "Germany"
        ],
        [
         -11.6,
         "22646",
         -8,
         1.45,
         "Germany"
        ],
        [
         -11.66,
         "21231",
         -11,
         1.06,
         "United Kingdom"
        ],
        [
         -11.7,
         "22575",
         -6,
         1.95,
         "United Kingdom"
        ],
        [
         -11.7,
         "22659",
         -6,
         1.95,
         "United Kingdom"
        ],
        [
         -11.8,
         "22699",
         -4,
         2.95,
         "United Kingdom"
        ],
        [
         -11.8,
         "21452",
         -4,
         2.95,
         "Germany"
        ],
        [
         -11.8,
         "22327",
         -4,
         2.95,
         "United Kingdom"
        ],
        [
         -11.8,
         "22496",
         -4,
         2.95,
         "United Kingdom"
        ],
        [
         -11.9,
         "90211B",
         -2,
         5.95,
         "United Kingdom"
        ],
        [
         -12,
         "20801",
         -16,
         0.75,
         "United Kingdom"
        ],
        [
         -12.34,
         "POST",
         -1,
         12.34,
         "United Kingdom"
        ],
        [
         -12.5,
         "20718",
         -10,
         1.25,
         "United Kingdom"
        ],
        [
         -12.5,
         "22791",
         -10,
         1.25,
         "United Kingdom"
        ],
        [
         -12.6,
         "22747",
         -6,
         2.1,
         "United Kingdom"
        ],
        [
         -12.7,
         "85047",
         -2,
         6.35,
         "United Kingdom"
        ],
        [
         -12.75,
         "22423",
         -1,
         12.75,
         "United Kingdom"
        ],
        [
         -12.75,
         "22960",
         -3,
         4.25,
         "United Kingdom"
        ],
        [
         -12.75,
         "22423",
         -1,
         12.75,
         "United Kingdom"
        ],
        [
         -12.75,
         "22423",
         -1,
         12.75,
         "United Kingdom"
        ],
        [
         -12.75,
         "22423",
         -1,
         12.75,
         "United Kingdom"
        ],
        [
         -12.75,
         "85066",
         -1,
         12.75,
         "United Kingdom"
        ],
        [
         -12.75,
         "22423",
         -1,
         12.75,
         "United Kingdom"
        ],
        [
         -12.75,
         "20703",
         -3,
         4.25,
         "Germany"
        ],
        [
         -12.75,
         "22423",
         -1,
         12.75,
         "United Kingdom"
        ],
        [
         -12.75,
         "22423",
         -1,
         12.75,
         "United Kingdom"
        ],
        [
         -12.75,
         "22461",
         -1,
         12.75,
         "United Kingdom"
        ],
        [
         -12.75,
         "90185B",
         -3,
         4.25,
         "EIRE"
        ],
        [
         -12.75,
         "22760",
         -1,
         12.75,
         "United Kingdom"
        ],
        [
         -12.75,
         "85066",
         -1,
         12.75,
         "United Kingdom"
        ],
        [
         -12.75,
         "22423",
         -1,
         12.75,
         "United Kingdom"
        ],
        [
         -12.75,
         "22423",
         -1,
         12.75,
         "United Kingdom"
        ],
        [
         -12.75,
         "90062",
         -1,
         12.75,
         "United Kingdom"
        ],
        [
         -12.75,
         "21258",
         -1,
         12.75,
         "United Kingdom"
        ],
        [
         -12.75,
         "22461",
         -1,
         12.75,
         "United Kingdom"
        ],
        [
         -12.75,
         "22461",
         -1,
         12.75,
         "United Kingdom"
        ],
        [
         -12.75,
         "21258",
         -1,
         12.75,
         "United Kingdom"
        ],
        [
         -12.75,
         "22461",
         -1,
         12.75,
         "United Kingdom"
        ],
        [
         -12.75,
         "21735",
         -1,
         12.75,
         "United Kingdom"
        ],
        [
         -12.9,
         "82484",
         -2,
         6.45,
         "United Kingdom"
        ],
        [
         -12.95,
         "S",
         -1,
         12.95,
         "United Kingdom"
        ],
        [
         -12.99,
         "POST",
         -1,
         12.99,
         "United Kingdom"
        ],
        [
         -13.05,
         "72741",
         -9,
         1.45,
         "EIRE"
        ],
        [
         -13.2,
         "84949",
         -8,
         1.65,
         "United Kingdom"
        ],
        [
         -13.2,
         "84991",
         -24,
         0.55,
         "United Kingdom"
        ],
        [
         -13.2,
         "22952",
         -24,
         0.55,
         "United Kingdom"
        ],
        [
         -13.2,
         "21975",
         -24,
         0.55,
         "United Kingdom"
        ],
        [
         -13.2,
         "22951",
         -24,
         0.55,
         "United Kingdom"
        ],
        [
         -13.5,
         "21351",
         -2,
         6.75,
         "EIRE"
        ],
        [
         -13.52,
         "21244",
         -8,
         1.69,
         "United Kingdom"
        ],
        [
         -13.52,
         "21242",
         -8,
         1.69,
         "United Kingdom"
        ],
        [
         -13.56,
         "22778",
         -4,
         3.39,
         "United Kingdom"
        ],
        [
         -13.88,
         "D",
         -1,
         13.88,
         "United Kingdom"
        ],
        [
         -13.9,
         "21129",
         -2,
         6.95,
         "United Kingdom"
        ],
        [
         -13.9,
         "21527",
         -2,
         6.95,
         "United Kingdom"
        ],
        [
         -13.95,
         "35004B",
         -3,
         4.65,
         "United Kingdom"
        ],
        [
         -13.95,
         "35004C",
         -3,
         4.65,
         "United Kingdom"
        ],
        [
         -14.45,
         "22962",
         -17,
         0.85,
         "Germany"
        ],
        [
         -14.5,
         "22897",
         -10,
         1.45,
         "EIRE"
        ],
        [
         -14.5,
         "22897",
         -10,
         1.45,
         "EIRE"
        ],
        [
         -14.75,
         "20914",
         -5,
         2.95,
         "Germany"
        ],
        [
         -14.75,
         "22328",
         -5,
         2.95,
         "United Kingdom"
        ],
        [
         -14.75,
         "22362",
         -5,
         2.95,
         "United Kingdom"
        ],
        [
         -14.85,
         "22325",
         -3,
         4.95,
         "United Kingdom"
        ],
        [
         -14.85,
         "85232B",
         -3,
         4.95,
         "United Kingdom"
        ],
        [
         -14.85,
         "21485",
         -3,
         4.95,
         "United Kingdom"
        ],
        [
         -14.85,
         "21730",
         -3,
         4.95,
         "United Kingdom"
        ],
        [
         -14.85,
         "22623",
         -3,
         4.95,
         "Portugal"
        ],
        [
         -14.85,
         "21533",
         -3,
         4.95,
         "United Kingdom"
        ],
        [
         -14.85,
         "22138",
         -3,
         4.95,
         "United Kingdom"
        ],
        [
         -14.85,
         "21259",
         -3,
         4.95,
         "United Kingdom"
        ],
        [
         -14.85,
         "21730",
         -3,
         4.95,
         "United Kingdom"
        ],
        [
         -14.85,
         "22278",
         -3,
         4.95,
         "United Kingdom"
        ],
        [
         -14.95,
         "21781",
         -1,
         14.95,
         "United Kingdom"
        ],
        [
         -14.95,
         "21781",
         -1,
         14.95,
         "United Kingdom"
        ],
        [
         -14.95,
         "22847",
         -1,
         14.95,
         "Germany"
        ],
        [
         -14.95,
         "22336",
         -23,
         0.65,
         "United Kingdom"
        ],
        [
         -14.95,
         "22838",
         -1,
         14.95,
         "United Kingdom"
        ],
        [
         -15,
         "22725",
         -4,
         3.75,
         "United Kingdom"
        ],
        [
         -15,
         "22727",
         -4,
         3.75,
         "United Kingdom"
        ],
        [
         -15,
         "84378",
         -12,
         1.25,
         "United Kingdom"
        ],
        [
         -15,
         "21888",
         -4,
         3.75,
         "United Kingdom"
        ],
        [
         -15,
         "22988",
         -12,
         1.25,
         "United Kingdom"
        ],
        [
         -15,
         "22976",
         -12,
         1.25,
         "United Kingdom"
        ],
        [
         -15,
         "22976",
         -12,
         1.25,
         "United Kingdom"
        ],
        [
         -15,
         "22113",
         -4,
         3.75,
         "United Kingdom"
        ],
        [
         -15,
         "37370",
         -12,
         1.25,
         "United Kingdom"
        ],
        [
         -15,
         "22976",
         -12,
         1.25,
         "United Kingdom"
        ],
        [
         -15,
         "21791",
         -12,
         1.25,
         "Portugal"
        ],
        [
         -15,
         "72815",
         -4,
         3.75,
         "EIRE"
        ],
        [
         -15,
         "84380",
         -12,
         1.25,
         "United Kingdom"
        ],
        [
         -15,
         "22729",
         -4,
         3.75,
         "United Kingdom"
        ],
        [
         -15,
         "21891",
         -12,
         1.25,
         "Portugal"
        ],
        [
         -15,
         "22892",
         -12,
         1.25,
         "United Kingdom"
        ],
        [
         -15,
         "22093",
         -12,
         1.25,
         "United Kingdom"
        ],
        [
         -15,
         "22508",
         -4,
         3.75,
         "United Kingdom"
        ],
        [
         -15,
         "20985",
         -12,
         1.25,
         "United Kingdom"
        ],
        [
         -15,
         "21888",
         -4,
         3.75,
         "EIRE"
        ],
        [
         -15,
         "21892",
         -12,
         1.25,
         "Portugal"
        ],
        [
         -15,
         "71053",
         -4,
         3.75,
         "United Kingdom"
        ],
        [
         -15,
         "22686",
         -12,
         1.25,
         "United Kingdom"
        ],
        [
         -15,
         "21888",
         -4,
         3.75,
         "EIRE"
        ],
        [
         -15,
         "21066",
         -12,
         1.25,
         "United Kingdom"
        ],
        [
         -15,
         "84997B",
         -4,
         3.75,
         "United Kingdom"
        ],
        [
         -15,
         "22727",
         -4,
         3.75,
         "United Kingdom"
        ],
        [
         -15,
         "37495",
         -4,
         3.75,
         "United Kingdom"
        ],
        [
         -15,
         "22728",
         -4,
         3.75,
         "Germany"
        ],
        [
         -15,
         "85049A",
         -12,
         1.25,
         "EIRE"
        ],
        [
         -15,
         "22094",
         -12,
         1.25,
         "United Kingdom"
        ],
        [
         -15.12,
         "20802",
         -36,
         0.42,
         "United Kingdom"
        ],
        [
         -15.12,
         "20803",
         -36,
         0.42,
         "United Kingdom"
        ],
        [
         -15.3,
         "22636",
         -2,
         7.65,
         "Germany"
        ],
        [
         -15.3,
         "84508B",
         -6,
         2.55,
         "EIRE"
        ],
        [
         -15.3,
         "22352",
         -6,
         2.55,
         "United Kingdom"
        ],
        [
         -15.3,
         "22394",
         -6,
         2.55,
         "United Kingdom"
        ],
        [
         -15.3,
         "47580",
         -6,
         2.55,
         "United Kingdom"
        ],
        [
         -15.3,
         "21535",
         -6,
         2.55,
         "United Kingdom"
        ],
        [
         -15.3,
         "22637",
         -6,
         2.55,
         "United Kingdom"
        ],
        [
         -15.3,
         "84347",
         -6,
         2.55,
         "EIRE"
        ],
        [
         -15.3,
         "47580",
         -6,
         2.55,
         "United Kingdom"
        ],
        [
         -15.6,
         "22339",
         -24,
         0.65,
         "United Kingdom"
        ],
        [
         -15.6,
         "21285",
         -24,
         0.65,
         "United Kingdom"
        ],
        [
         -15.8,
         "22114",
         -4,
         3.95,
         "United Kingdom"
        ],
        [
         -15.8,
         "22114",
         -4,
         3.95,
         "United Kingdom"
        ],
        [
         -15.9,
         "21777",
         -2,
         7.95,
         "United Kingdom"
        ],
        [
         -15.9,
         "48188",
         -2,
         7.95,
         "United Kingdom"
        ],
        [
         -15.9,
         "48116",
         -2,
         7.95,
         "United Kingdom"
        ],
        [
         -15.9,
         "48187",
         -2,
         7.95,
         "United Kingdom"
        ],
        [
         -15.9,
         "21527",
         -2,
         7.95,
         "United Kingdom"
        ],
        [
         -15.9,
         "21527",
         -2,
         7.95,
         "United Kingdom"
        ],
        [
         -15.95,
         "22606",
         -1,
         15.95,
         "United Kingdom"
        ],
        [
         -15.95,
         "22606",
         -1,
         15.95,
         "Germany"
        ],
        [
         -16.5,
         "21212",
         -30,
         0.55,
         "United Kingdom"
        ],
        [
         -16.5,
         "22198",
         -10,
         1.65,
         "United Kingdom"
        ],
        [
         -16.8,
         "22141",
         -8,
         2.1,
         "United Kingdom"
        ],
        [
         -16.95,
         "84352",
         -1,
         16.95,
         "United Kingdom"
        ],
        [
         -16.95,
         "84352",
         -1,
         16.95,
         "United Kingdom"
        ],
        [
         -16.95,
         "21262",
         -1,
         16.95,
         "United Kingdom"
        ],
        [
         -16.95,
         "22946",
         -1,
         16.95,
         "United Kingdom"
        ],
        [
         -16.95,
         "21275",
         -1,
         16.95,
         "United Kingdom"
        ],
        [
         -17,
         "22193",
         -2,
         8.5,
         "United Kingdom"
        ],
        [
         -17,
         "22169",
         -2,
         8.5,
         "United Kingdom"
        ],
        [
         -17,
         "22168",
         -2,
         8.5,
         "United Kingdom"
        ],
        [
         -17,
         "22941",
         -2,
         8.5,
         "United Kingdom"
        ],
        [
         -17,
         "22780",
         -4,
         4.25,
         "United Kingdom"
        ],
        [
         -17,
         "22752",
         -2,
         8.5,
         "Germany"
        ],
        [
         -17,
         "22777",
         -2,
         8.5,
         "Germany"
        ],
        [
         -17,
         "22168",
         -2,
         8.5,
         "United Kingdom"
        ],
        [
         -17,
         "22941",
         -2,
         8.5,
         "United Kingdom"
        ],
        [
         -17,
         "22487",
         -2,
         8.5,
         "United Kingdom"
        ],
        [
         -17,
         "22960",
         -4,
         4.25,
         "United Kingdom"
        ],
        [
         -17,
         "84840",
         -2,
         8.5,
         "Italy"
        ],
        [
         -17,
         "22780",
         -4,
         4.25,
         "United Kingdom"
        ],
        [
         -17,
         "22199",
         -4,
         4.25,
         "Germany"
        ],
        [
         -17,
         "22940",
         -4,
         4.25,
         "United Kingdom"
        ],
        [
         -17,
         "22192",
         -2,
         8.5,
         "United Kingdom"
        ],
        [
         -17,
         "22776",
         -2,
         8.5,
         "United Kingdom"
        ],
        [
         -17,
         "22788",
         -2,
         8.5,
         "United Kingdom"
        ],
        [
         -17,
         "90185C",
         -4,
         4.25,
         "EIRE"
        ],
        [
         -17,
         "22649",
         -4,
         4.25,
         "United Kingdom"
        ],
        [
         -17,
         "22168",
         -2,
         8.5,
         "Germany"
        ],
        [
         -17.4,
         "21210",
         -12,
         1.45,
         "United Kingdom"
        ],
        [
         -17.7,
         "20914",
         -6,
         2.95,
         "EIRE"
        ],
        [
         -17.7,
         "22698",
         -6,
         2.95,
         "United Kingdom"
        ],
        [
         -17.7,
         "22810",
         -6,
         2.95,
         "United Kingdom"
        ],
        [
         -17.7,
         "22326",
         -6,
         2.95,
         "United Kingdom"
        ],
        [
         -17.7,
         "20897",
         -6,
         2.95,
         "United Kingdom"
        ],
        [
         -17.7,
         "22697",
         -6,
         2.95,
         "United Kingdom"
        ],
        [
         -17.7,
         "72799E",
         -6,
         2.95,
         "United Kingdom"
        ],
        [
         -17.7,
         "22083",
         -6,
         2.95,
         "United Kingdom"
        ],
        [
         -17.7,
         "22699",
         -6,
         2.95,
         "United Kingdom"
        ],
        [
         -17.7,
         "22086",
         -6,
         2.95,
         "United Kingdom"
        ],
        [
         -17.7,
         "22274",
         -6,
         2.95,
         "United Kingdom"
        ],
        [
         -17.7,
         "20914",
         -6,
         2.95,
         "United Kingdom"
        ],
        [
         -17.85,
         "21624",
         -3,
         5.95,
         "United Kingdom"
        ],
        [
         -17.9,
         "35400",
         -2,
         8.95,
         "United Kingdom"
        ],
        [
         -17.9,
         "35400",
         -2,
         8.95,
         "EIRE"
        ],
        [
         -18,
         "POST",
         -1,
         18,
         "Germany"
        ],
        [
         -18.24,
         "35957",
         -96,
         0.19,
         "EIRE"
        ],
        [
         -18.6,
         "22835",
         -4,
         4.65,
         "United Kingdom"
        ],
        [
         -18.6,
         "35004B",
         -4,
         4.65,
         "United Kingdom"
        ],
        [
         -18.75,
         "71053",
         -5,
         3.75,
         "United Kingdom"
        ],
        [
         -19.05,
         "22845",
         -3,
         6.35,
         "Belgium"
        ],
        [
         -19.5,
         "85099B",
         -10,
         1.95,
         "United Kingdom"
        ],
        [
         -19.5,
         "20713",
         -10,
         1.95,
         "United Kingdom"
        ],
        [
         -19.8,
         "85099B",
         -12,
         1.65,
         "United Kingdom"
        ],
        [
         -19.8,
         "21911",
         -12,
         1.65,
         "United Kingdom"
        ],
        [
         -19.8,
         "22557",
         -12,
         1.65,
         "United Kingdom"
        ],
        [
         -19.8,
         "22943",
         -4,
         4.95,
         "United Kingdom"
        ],
        [
         -19.8,
         "22628",
         -4,
         4.95,
         "United Kingdom"
        ],
        [
         -19.8,
         "22295",
         -12,
         1.65,
         "United Kingdom"
        ],
        [
         -19.8,
         "22556",
         -12,
         1.65,
         "United Kingdom"
        ],
        [
         -19.8,
         "22759",
         -12,
         1.65,
         "United Kingdom"
        ],
        [
         -19.8,
         "22233",
         -12,
         1.65,
         "United Kingdom"
        ],
        [
         -19.9,
         "22768",
         -2,
         9.95,
         "United Kingdom"
        ],
        [
         -19.9,
         "22968",
         -2,
         9.95,
         "United Kingdom"
        ],
        [
         -19.9,
         "22634",
         -2,
         9.95,
         "France"
        ],
        [
         -19.9,
         "22635",
         -2,
         9.95,
         "United Kingdom"
        ],
        [
         -19.9,
         "22890",
         -2,
         9.95,
         "United Kingdom"
        ],
        [
         -19.9,
         "22767",
         -2,
         9.95,
         "Germany"
        ],
        [
         -19.9,
         "22968",
         -2,
         9.95,
         "Germany"
        ],
        [
         -19.9,
         "22890",
         -2,
         9.95,
         "United Kingdom"
        ],
        [
         -19.9,
         "22618",
         -2,
         9.95,
         "United Kingdom"
        ],
        [
         -19.9,
         "22501",
         -2,
         9.95,
         "United Kingdom"
        ],
        [
         -20.16,
         "22153",
         -48,
         0.42,
         "Austria"
        ],
        [
         -20.28,
         "21655",
         -12,
         1.69,
         "United Kingdom"
        ],
        [
         -20.28,
         "21284",
         -12,
         1.69,
         "United Kingdom"
        ],
        [
         -20.4,
         "22342",
         -24,
         0.85,
         "United Kingdom"
        ],
        [
         -20.4,
         "84625C",
         -24,
         0.85,
         "United Kingdom"
        ],
        [
         -20.4,
         "37342",
         -24,
         0.85,
         "United Kingdom"
        ],
        [
         -20.85,
         "85048",
         -3,
         6.95,
         "United Kingdom"
        ],
        [
         -20.85,
         "21527",
         -3,
         6.95,
         "United Kingdom"
        ],
        [
         -21,
         "22865",
         -10,
         2.1,
         "United Kingdom"
        ],
        [
         -21.25,
         "22940",
         -5,
         4.25,
         "United Kingdom"
        ],
        [
         -21.5,
         "22832",
         -2,
         10.75,
         "United Kingdom"
        ],
        [
         -21.6,
         "20719",
         -30,
         0.72,
         "United Kingdom"
        ],
        [
         -21.9,
         "22423",
         -2,
         10.95,
         "United Kingdom"
        ],
        [
         -21.9,
         "21258",
         -2,
         10.95,
         "United Kingdom"
        ],
        [
         -21.9,
         "85066",
         -2,
         10.95,
         "United Kingdom"
        ],
        [
         -21.9,
         "22423",
         -2,
         10.95,
         "Germany"
        ],
        [
         -21.9,
         "22423",
         -2,
         10.95,
         "Germany"
        ],
        [
         -21.9,
         "22423",
         -2,
         10.95,
         "United Kingdom"
        ],
        [
         -22.95,
         "84347",
         -9,
         2.55,
         "United Kingdom"
        ],
        [
         -22.97,
         "D",
         -1,
         22.97,
         "United Kingdom"
        ],
        [
         -23.4,
         "84766",
         -12,
         1.95,
         "United Kingdom"
        ],
        [
         -23.4,
         "22246",
         -12,
         1.95,
         "EIRE"
        ],
        [
         -23.6,
         "22454",
         -8,
         2.95,
         "United Kingdom"
        ],
        [
         -23.8,
         "22927",
         -4,
         5.95,
         "United Kingdom"
        ],
        [
         -23.8,
         "22927",
         -4,
         5.95,
         "United Kingdom"
        ],
        [
         -23.8,
         "22580",
         -4,
         5.95,
         "Germany"
        ],
        [
         -23.8,
         "22926",
         -4,
         5.95,
         "United Kingdom"
        ],
        [
         -23.8,
         "22926",
         -4,
         5.95,
         "United Kingdom"
        ],
        [
         -23.85,
         "21777",
         -3,
         7.95,
         "United Kingdom"
        ],
        [
         -24.75,
         "84949",
         -15,
         1.65,
         "United Kingdom"
        ],
        [
         -25,
         "47559B",
         -20,
         1.25,
         "EIRE"
        ],
        [
         -25,
         "22680",
         -20,
         1.25,
         "United Kingdom"
        ],
        [
         -25.2,
         "22865",
         -12,
         2.1,
         "United Kingdom"
        ],
        [
         -25.2,
         "21155",
         -12,
         2.1,
         "EIRE"
        ],
        [
         -25.2,
         "22212",
         -12,
         2.1,
         "United Kingdom"
        ],
        [
         -25.2,
         "22867",
         -12,
         2.1,
         "United Kingdom"
        ],
        [
         -25.2,
         "22865",
         -12,
         2.1,
         "United Kingdom"
        ],
        [
         -25.35,
         "35924",
         -15,
         1.69,
         "United Kingdom"
        ],
        [
         -25.5,
         "20719",
         -30,
         0.85,
         "United Kingdom"
        ],
        [
         -25.5,
         "22960",
         -6,
         4.25,
         "United Kingdom"
        ],
        [
         -25.5,
         "85066",
         -2,
         12.75,
         "United Kingdom"
        ],
        [
         -25.5,
         "85066",
         -2,
         12.75,
         "United Kingdom"
        ],
        [
         -25.5,
         "85036B",
         -6,
         4.25,
         "United Kingdom"
        ],
        [
         -25.5,
         "21411",
         -6,
         4.25,
         "EIRE"
        ],
        [
         -25.5,
         "22180",
         -3,
         8.5,
         "United Kingdom"
        ],
        [
         -25.92,
         "72818",
         -36,
         0.72,
         "EIRE"
        ],
        [
         -26,
         "84406B",
         -8,
         3.25,
         "United Kingdom"
        ],
        [
         -26.93,
         "D",
         -1,
         26.93,
         "United Kingdom"
        ],
        [
         -27,
         "21349",
         -4,
         6.75,
         "United Kingdom"
        ],
        [
         -27,
         "22179",
         -4,
         6.75,
         "United Kingdom"
        ],
        [
         -27,
         "79323B",
         -4,
         6.75,
         "United Kingdom"
        ],
        [
         -27,
         "79323P",
         -4,
         6.75,
         "United Kingdom"
        ],
        [
         -27.5,
         "D",
         -1,
         27.5,
         "United Kingdom"
        ],
        [
         -28.05,
         "22360",
         -11,
         2.55,
         "United Kingdom"
        ],
        [
         -29.29,
         "D",
         -1,
         29.29,
         "United Kingdom"
        ],
        [
         -29.7,
         "21533",
         -6,
         4.95,
         "United Kingdom"
        ],
        [
         -29.7,
         "21363",
         -6,
         4.95,
         "United Kingdom"
        ],
        [
         -29.7,
         "22623",
         -6,
         4.95,
         "United Kingdom"
        ],
        [
         -29.7,
         "22617",
         -6,
         4.95,
         "United Kingdom"
        ],
        [
         -29.7,
         "22973",
         -18,
         1.65,
         "United Kingdom"
        ],
        [
         -29.7,
         "22943",
         -6,
         4.95,
         "United Kingdom"
        ],
        [
         -29.7,
         "22138",
         -6,
         4.95,
         "United Kingdom"
        ],
        [
         -29.7,
         "82483",
         -6,
         4.95,
         "United Kingdom"
        ],
        [
         -29.7,
         "21812",
         -6,
         4.95,
         "United Kingdom"
        ],
        [
         -29.7,
         "22943",
         -6,
         4.95,
         "United Kingdom"
        ],
        [
         -29.85,
         "21217",
         -3,
         9.95,
         "United Kingdom"
        ],
        [
         -29.9,
         "22839",
         -2,
         14.95,
         "United Kingdom"
        ],
        [
         -29.9,
         "22838",
         -2,
         14.95,
         "United Kingdom"
        ],
        [
         -29.9,
         "21667",
         -2,
         14.95,
         "United Kingdom"
        ],
        [
         -30,
         "21914",
         -24,
         1.25,
         "United Kingdom"
        ],
        [
         -30,
         "84029E",
         -8,
         3.75,
         "United Kingdom"
        ],
        [
         -30,
         "21889",
         -24,
         1.25,
         "United Kingdom"
        ],
        [
         -30,
         "22107",
         -8,
         3.75,
         "United Kingdom"
        ],
        [
         -30,
         "21644",
         -24,
         1.25,
         "United Kingdom"
        ],
        [
         -30,
         "72816",
         -24,
         1.25,
         "EIRE"
        ],
        [
         -30,
         "35953",
         -24,
         1.25,
         "United Kingdom"
        ],
        [
         -30,
         "72817",
         -24,
         1.25,
         "EIRE"
        ],
        [
         -30,
         "84378",
         -24,
         1.25,
         "United Kingdom"
        ]
       ],
       "datasetInfos": [],
       "dbfsResultPath": null,
       "isJsonSchema": true,
       "overflow": true,
       "plotOptions": {
        "customPlotOptions": {},
        "displayType": "table",
        "pivotAggregation": null,
        "pivotColumns": null,
        "xColumns": null,
        "yColumns": null
       },
       "removedWidgets": [],
       "schema": [
        {
         "metadata": "{}",
         "name": "totalAmount",
         "type": "\"double\""
        },
        {
         "metadata": "{}",
         "name": "stockCode",
         "type": "\"string\""
        },
        {
         "metadata": "{}",
         "name": "quantity",
         "type": "\"integer\""
        },
        {
         "metadata": "{}",
         "name": "unitPrice",
         "type": "\"double\""
        },
        {
         "metadata": "{}",
         "name": "countryName",
         "type": "\"string\""
        }
       ],
       "type": "table"
      }
     },
     "output_type": "display_data"
    }
   ],
   "source": [
    "%sql\n",
    "SELECT * FROM sales\n",
    "ORDER BY totalAmount DESC;"
   ]
  },
  {
   "cell_type": "markdown",
   "metadata": {
    "application/vnd.databricks.v1+cell": {
     "inputWidgets": {},
     "nuid": "06662fe0-ec6c-4516-910b-49579f5fe7d2",
     "showTitle": false,
     "title": ""
    }
   },
   "source": [
    "## Exercise 5: View countries\n",
    "**Summary:** Show a list of all unique `countryName` values in the `sales` view\n",
    "\n",
    "**Steps to complete:**\n",
    "* Write a query that returns only distinct `countryName` values\n",
    "* **Answer the corresponding question in Coursera**"
   ]
  },
  {
   "cell_type": "code",
   "execution_count": 0,
   "metadata": {
    "application/vnd.databricks.v1+cell": {
     "inputWidgets": {},
     "nuid": "953de52a-7041-4056-bf62-58a882f2c198",
     "showTitle": false,
     "title": ""
    }
   },
   "outputs": [
    {
     "data": {
      "text/html": [
       "<style scoped>\n",
       "  .table-result-container {\n",
       "    max-height: 300px;\n",
       "    overflow: auto;\n",
       "  }\n",
       "  table, th, td {\n",
       "    border: 1px solid black;\n",
       "    border-collapse: collapse;\n",
       "  }\n",
       "  th, td {\n",
       "    padding: 5px;\n",
       "  }\n",
       "  th {\n",
       "    text-align: left;\n",
       "  }\n",
       "</style><div class='table-result-container'><table class='table-result'><thead style='background-color: white'><tr><th>countryName</th></tr></thead><tbody><tr><td>Australia</td></tr><tr><td>Austria</td></tr><tr><td>Bahrain</td></tr><tr><td>Belgium</td></tr><tr><td>EIRE</td></tr><tr><td>France</td></tr><tr><td>Germany</td></tr><tr><td>Israel</td></tr><tr><td>Italy</td></tr><tr><td>Japan</td></tr><tr><td>Portugal</td></tr><tr><td>Spain</td></tr><tr><td>Sweden</td></tr><tr><td>United Kingdom</td></tr></tbody></table></div>"
      ]
     },
     "metadata": {
      "application/vnd.databricks.v1+output": {
       "addedWidgets": {},
       "aggData": [],
       "aggError": "",
       "aggOverflow": false,
       "aggSchema": [],
       "aggSeriesLimitReached": false,
       "aggType": "",
       "arguments": {},
       "columnCustomDisplayInfos": {},
       "data": [
        [
         "Australia"
        ],
        [
         "Austria"
        ],
        [
         "Bahrain"
        ],
        [
         "Belgium"
        ],
        [
         "EIRE"
        ],
        [
         "France"
        ],
        [
         "Germany"
        ],
        [
         "Israel"
        ],
        [
         "Italy"
        ],
        [
         "Japan"
        ],
        [
         "Portugal"
        ],
        [
         "Spain"
        ],
        [
         "Sweden"
        ],
        [
         "United Kingdom"
        ]
       ],
       "datasetInfos": [],
       "dbfsResultPath": null,
       "isJsonSchema": true,
       "overflow": false,
       "plotOptions": {
        "customPlotOptions": {},
        "displayType": "table",
        "pivotAggregation": null,
        "pivotColumns": null,
        "xColumns": null,
        "yColumns": null
       },
       "removedWidgets": [],
       "schema": [
        {
         "metadata": "{}",
         "name": "countryName",
         "type": "\"string\""
        }
       ],
       "type": "table"
      }
     },
     "output_type": "display_data"
    }
   ],
   "source": [
    "%sql\n",
    "SELECT DISTINCT countryName\n",
    "FROM sales\n",
    "ORDER BY countryName"
   ]
  },
  {
   "cell_type": "markdown",
   "metadata": {
    "application/vnd.databricks.v1+cell": {
     "inputWidgets": {},
     "nuid": "65561e5b-a320-4342-907e-ff9d43f2b865",
     "showTitle": false,
     "title": ""
    }
   },
   "source": [
    "## Exercise 6: Create a temporary view: `salesQuants`\n",
    "**Summary:** Create a temporary view that shows total `quantity` of items purchased from each `countryName`\n",
    "\n",
    "**Steps to complete:** \n",
    "* Create a temporary view named `salesQuants`\n",
    "* Display the sum of all `quantity` values grouped by `countryName`. Name that column `totalQuantity`\n",
    "* Order the view by `totalQuantity` from greatest to least\n",
    "* **Answer the corresponding question in Coursera**"
   ]
  },
  {
   "cell_type": "code",
   "execution_count": 0,
   "metadata": {
    "application/vnd.databricks.v1+cell": {
     "inputWidgets": {},
     "nuid": "6146aada-e5eb-4a79-aea5-b9964464cc39",
     "showTitle": false,
     "title": ""
    }
   },
   "outputs": [
    {
     "data": {
      "text/html": [
       "<style scoped>\n",
       "  .table-result-container {\n",
       "    max-height: 300px;\n",
       "    overflow: auto;\n",
       "  }\n",
       "  table, th, td {\n",
       "    border: 1px solid black;\n",
       "    border-collapse: collapse;\n",
       "  }\n",
       "  th, td {\n",
       "    padding: 5px;\n",
       "  }\n",
       "  th {\n",
       "    text-align: left;\n",
       "  }\n",
       "</style><div class='table-result-container'><table class='table-result'><thead style='background-color: white'><tr></tr></thead><tbody></tbody></table></div>"
      ]
     },
     "metadata": {
      "application/vnd.databricks.v1+output": {
       "addedWidgets": {},
       "aggData": [],
       "aggError": "",
       "aggOverflow": false,
       "aggSchema": [],
       "aggSeriesLimitReached": false,
       "aggType": "",
       "arguments": {},
       "columnCustomDisplayInfos": {},
       "data": [],
       "datasetInfos": [],
       "dbfsResultPath": null,
       "isJsonSchema": true,
       "overflow": false,
       "plotOptions": {
        "customPlotOptions": {},
        "displayType": "table",
        "pivotAggregation": null,
        "pivotColumns": null,
        "xColumns": null,
        "yColumns": null
       },
       "removedWidgets": [],
       "schema": [],
       "type": "table"
      }
     },
     "output_type": "display_data"
    }
   ],
   "source": [
    "%sql\n",
    "CREATE OR REPLACE TEMPORARY VIEW salesQuants\n",
    "AS SELECT \n",
    "  SUM(quantity) AS totalQuantity, countryName\n",
    "  FROM OutdoorProducts\n",
    "  GROUP BY countryName\n",
    "  ORDER BY totalQuantity DESC\n"
   ]
  },
  {
   "cell_type": "code",
   "execution_count": 0,
   "metadata": {
    "application/vnd.databricks.v1+cell": {
     "inputWidgets": {},
     "nuid": "1d2fe51f-8671-4cf1-9455-75ee08b61834",
     "showTitle": false,
     "title": ""
    }
   },
   "outputs": [
    {
     "data": {
      "text/html": [
       "<style scoped>\n",
       "  .table-result-container {\n",
       "    max-height: 300px;\n",
       "    overflow: auto;\n",
       "  }\n",
       "  table, th, td {\n",
       "    border: 1px solid black;\n",
       "    border-collapse: collapse;\n",
       "  }\n",
       "  th, td {\n",
       "    padding: 5px;\n",
       "  }\n",
       "  th {\n",
       "    text-align: left;\n",
       "  }\n",
       "</style><div class='table-result-container'><table class='table-result'><thead style='background-color: white'><tr><th>totalQuantity</th><th>countryName</th></tr></thead><tbody><tr><td>455147</td><td>United Kingdom</td></tr><tr><td>21381</td><td>Netherlands</td></tr><tr><td>13177</td><td>EIRE</td></tr><tr><td>11559</td><td>France</td></tr><tr><td>11218</td><td>Germany</td></tr><tr><td>5988</td><td>Australia</td></tr><tr><td>4048</td><td>Japan</td></tr><tr><td>4006</td><td>Sweden</td></tr><tr><td>3958</td><td>Spain</td></tr><tr><td>3582</td><td>Norway</td></tr><tr><td>3367</td><td>Switzerland</td></tr><tr><td>2786</td><td>Portugal</td></tr><tr><td>2430</td><td>Belgium</td></tr><tr><td>1254</td><td>Finland</td></tr><tr><td>1061</td><td>Cyprus</td></tr><tr><td>1038</td><td>Italy</td></tr><tr><td>652</td><td>Lithuania</td></tr><tr><td>454</td><td>Denmark</td></tr><tr><td>428</td><td>Poland</td></tr><tr><td>319</td><td>Iceland</td></tr><tr><td>80</td><td>Channel Islands</td></tr><tr><td>44</td><td>Israel</td></tr><tr><td>3</td><td>Austria</td></tr><tr><td>0</td><td>Bahrain</td></tr></tbody></table></div>"
      ]
     },
     "metadata": {
      "application/vnd.databricks.v1+output": {
       "addedWidgets": {},
       "aggData": [],
       "aggError": "",
       "aggOverflow": false,
       "aggSchema": [],
       "aggSeriesLimitReached": false,
       "aggType": "",
       "arguments": {},
       "columnCustomDisplayInfos": {},
       "data": [
        [
         455147,
         "United Kingdom"
        ],
        [
         21381,
         "Netherlands"
        ],
        [
         13177,
         "EIRE"
        ],
        [
         11559,
         "France"
        ],
        [
         11218,
         "Germany"
        ],
        [
         5988,
         "Australia"
        ],
        [
         4048,
         "Japan"
        ],
        [
         4006,
         "Sweden"
        ],
        [
         3958,
         "Spain"
        ],
        [
         3582,
         "Norway"
        ],
        [
         3367,
         "Switzerland"
        ],
        [
         2786,
         "Portugal"
        ],
        [
         2430,
         "Belgium"
        ],
        [
         1254,
         "Finland"
        ],
        [
         1061,
         "Cyprus"
        ],
        [
         1038,
         "Italy"
        ],
        [
         652,
         "Lithuania"
        ],
        [
         454,
         "Denmark"
        ],
        [
         428,
         "Poland"
        ],
        [
         319,
         "Iceland"
        ],
        [
         80,
         "Channel Islands"
        ],
        [
         44,
         "Israel"
        ],
        [
         3,
         "Austria"
        ],
        [
         0,
         "Bahrain"
        ]
       ],
       "datasetInfos": [],
       "dbfsResultPath": null,
       "isJsonSchema": true,
       "overflow": false,
       "plotOptions": {
        "customPlotOptions": {},
        "displayType": "table",
        "pivotAggregation": null,
        "pivotColumns": null,
        "xColumns": null,
        "yColumns": null
       },
       "removedWidgets": [],
       "schema": [
        {
         "metadata": "{}",
         "name": "totalQuantity",
         "type": "\"long\""
        },
        {
         "metadata": "{}",
         "name": "countryName",
         "type": "\"string\""
        }
       ],
       "type": "table"
      }
     },
     "output_type": "display_data"
    }
   ],
   "source": [
    "%sql\n",
    "SELECT * FROM salesQuants"
   ]
  },
  {
   "cell_type": "markdown",
   "metadata": {
    "application/vnd.databricks.v1+cell": {
     "inputWidgets": {},
     "nuid": "b95720ba-4547-439b-b6f5-1fb8abdcd954",
     "showTitle": false,
     "title": ""
    }
   },
   "source": [
    "## Exercise 7: Read in a new parquet table\n",
    "**Summary:** Create a new table named `countryCodes`.\n",
    "\n",
    "**Steps to complete:** \n",
    "* Drop any existing tables named `countryCodes` from your database\n",
    "* Use this path: `/mnt/training/countries/ISOCountryCodes/ISOCountryLookup.parquet` to create a new table using parquet as the data source. Name it `countryCodes`\n",
    "* Include options to indicate that there **is** a header for this table"
   ]
  },
  {
   "cell_type": "code",
   "execution_count": 0,
   "metadata": {
    "application/vnd.databricks.v1+cell": {
     "inputWidgets": {},
     "nuid": "4b7b9e7e-d61e-4345-aa9e-17888a085b7b",
     "showTitle": false,
     "title": ""
    }
   },
   "outputs": [
    {
     "data": {
      "text/html": [
       "<style scoped>\n",
       "  .table-result-container {\n",
       "    max-height: 300px;\n",
       "    overflow: auto;\n",
       "  }\n",
       "  table, th, td {\n",
       "    border: 1px solid black;\n",
       "    border-collapse: collapse;\n",
       "  }\n",
       "  th, td {\n",
       "    padding: 5px;\n",
       "  }\n",
       "  th {\n",
       "    text-align: left;\n",
       "  }\n",
       "</style><div class='table-result-container'><table class='table-result'><thead style='background-color: white'><tr></tr></thead><tbody></tbody></table></div>"
      ]
     },
     "metadata": {
      "application/vnd.databricks.v1+output": {
       "addedWidgets": {},
       "aggData": [],
       "aggError": "",
       "aggOverflow": false,
       "aggSchema": [],
       "aggSeriesLimitReached": false,
       "aggType": "",
       "arguments": {},
       "columnCustomDisplayInfos": {},
       "data": [],
       "datasetInfos": [],
       "dbfsResultPath": null,
       "isJsonSchema": true,
       "overflow": false,
       "plotOptions": {
        "customPlotOptions": {},
        "displayType": "table",
        "pivotAggregation": null,
        "pivotColumns": null,
        "xColumns": null,
        "yColumns": null
       },
       "removedWidgets": [],
       "schema": [],
       "type": "table"
      }
     },
     "output_type": "display_data"
    }
   ],
   "source": [
    "%sql\n",
    "DROP TABLE IF EXISTS countryCodes;\n",
    "CREATE TABLE countryCodes \n",
    "USING parquet OPTIONS(\n",
    "PATH \"/mnt/training/countries/ISOCountryCodes/ISOCountryLookup.parquet\",\n",
    "header \"true\");"
   ]
  },
  {
   "cell_type": "code",
   "execution_count": 0,
   "metadata": {
    "application/vnd.databricks.v1+cell": {
     "inputWidgets": {},
     "nuid": "42e1bf61-ee6c-4ff5-9750-d9539af5a29d",
     "showTitle": false,
     "title": ""
    }
   },
   "outputs": [
    {
     "data": {
      "text/html": [
       "<style scoped>\n",
       "  .table-result-container {\n",
       "    max-height: 300px;\n",
       "    overflow: auto;\n",
       "  }\n",
       "  table, th, td {\n",
       "    border: 1px solid black;\n",
       "    border-collapse: collapse;\n",
       "  }\n",
       "  th, td {\n",
       "    padding: 5px;\n",
       "  }\n",
       "  th {\n",
       "    text-align: left;\n",
       "  }\n",
       "</style><div class='table-result-container'><table class='table-result'><thead style='background-color: white'><tr><th>EnglishShortName</th><th>alpha2Code</th><th>alpha3Code</th><th>numericCode</th><th>ISO31662SubdivisionCode</th><th>independentTerritory</th></tr></thead><tbody><tr><td>Afghanistan</td><td>AF</td><td>AFG</td><td>004</td><td>ISO 3166-2:AF</td><td>Yes</td></tr><tr><td>Åland Islands</td><td>AX</td><td>ALA</td><td>248</td><td>ISO 3166-2:AX</td><td>No</td></tr><tr><td>Albania</td><td>AL</td><td>ALB</td><td>008</td><td>ISO 3166-2:AL</td><td>Yes</td></tr><tr><td>Algeria</td><td>DZ</td><td>DZA</td><td>012</td><td>ISO 3166-2:DZ</td><td>Yes</td></tr><tr><td>American Samoa</td><td>AS</td><td>ASM</td><td>016</td><td>ISO 3166-2:AS</td><td>No</td></tr></tbody></table></div>"
      ]
     },
     "metadata": {
      "application/vnd.databricks.v1+output": {
       "addedWidgets": {},
       "aggData": [],
       "aggError": "",
       "aggOverflow": false,
       "aggSchema": [],
       "aggSeriesLimitReached": false,
       "aggType": "",
       "arguments": {},
       "columnCustomDisplayInfos": {},
       "data": [
        [
         "Afghanistan",
         "AF",
         "AFG",
         "004",
         "ISO 3166-2:AF",
         "Yes"
        ],
        [
         "Åland Islands",
         "AX",
         "ALA",
         "248",
         "ISO 3166-2:AX",
         "No"
        ],
        [
         "Albania",
         "AL",
         "ALB",
         "008",
         "ISO 3166-2:AL",
         "Yes"
        ],
        [
         "Algeria",
         "DZ",
         "DZA",
         "012",
         "ISO 3166-2:DZ",
         "Yes"
        ],
        [
         "American Samoa",
         "AS",
         "ASM",
         "016",
         "ISO 3166-2:AS",
         "No"
        ]
       ],
       "datasetInfos": [],
       "dbfsResultPath": null,
       "isJsonSchema": true,
       "overflow": false,
       "plotOptions": {
        "customPlotOptions": {},
        "displayType": "table",
        "pivotAggregation": null,
        "pivotColumns": null,
        "xColumns": null,
        "yColumns": null
       },
       "removedWidgets": [],
       "schema": [
        {
         "metadata": "{}",
         "name": "EnglishShortName",
         "type": "\"string\""
        },
        {
         "metadata": "{}",
         "name": "alpha2Code",
         "type": "\"string\""
        },
        {
         "metadata": "{}",
         "name": "alpha3Code",
         "type": "\"string\""
        },
        {
         "metadata": "{}",
         "name": "numericCode",
         "type": "\"string\""
        },
        {
         "metadata": "{}",
         "name": "ISO31662SubdivisionCode",
         "type": "\"string\""
        },
        {
         "metadata": "{}",
         "name": "independentTerritory",
         "type": "\"string\""
        }
       ],
       "type": "table"
      }
     },
     "output_type": "display_data"
    }
   ],
   "source": [
    "%sql\n",
    "SELECT * FROM countryCodes LIMIT 5"
   ]
  },
  {
   "cell_type": "markdown",
   "metadata": {
    "application/vnd.databricks.v1+cell": {
     "inputWidgets": {},
     "nuid": "adf77705-8375-4d53-9f45-2f6c66e69e81",
     "showTitle": false,
     "title": ""
    }
   },
   "source": [
    "## Exercise 8: View metadata\n",
    "**Summary:** View column names and data types in this table.\n",
    "\n",
    "**Steps to complete:**\n",
    "* Use the `DESCRIBE` command to display all of column names and their data types\n",
    "* **Answer the corresponding question in Coursera**"
   ]
  },
  {
   "cell_type": "code",
   "execution_count": 0,
   "metadata": {
    "application/vnd.databricks.v1+cell": {
     "inputWidgets": {},
     "nuid": "30cc5d87-342d-4051-9f90-6e1ae7bb2c24",
     "showTitle": false,
     "title": ""
    }
   },
   "outputs": [
    {
     "data": {
      "text/html": [
       "<style scoped>\n",
       "  .table-result-container {\n",
       "    max-height: 300px;\n",
       "    overflow: auto;\n",
       "  }\n",
       "  table, th, td {\n",
       "    border: 1px solid black;\n",
       "    border-collapse: collapse;\n",
       "  }\n",
       "  th, td {\n",
       "    padding: 5px;\n",
       "  }\n",
       "  th {\n",
       "    text-align: left;\n",
       "  }\n",
       "</style><div class='table-result-container'><table class='table-result'><thead style='background-color: white'><tr><th>col_name</th><th>data_type</th><th>comment</th></tr></thead><tbody><tr><td>EnglishShortName</td><td>string</td><td>null</td></tr><tr><td>alpha2Code</td><td>string</td><td>null</td></tr><tr><td>alpha3Code</td><td>string</td><td>null</td></tr><tr><td>numericCode</td><td>string</td><td>null</td></tr><tr><td>ISO31662SubdivisionCode</td><td>string</td><td>null</td></tr><tr><td>independentTerritory</td><td>string</td><td>null</td></tr></tbody></table></div>"
      ]
     },
     "metadata": {
      "application/vnd.databricks.v1+output": {
       "addedWidgets": {},
       "aggData": [],
       "aggError": "",
       "aggOverflow": false,
       "aggSchema": [],
       "aggSeriesLimitReached": false,
       "aggType": "",
       "arguments": {},
       "columnCustomDisplayInfos": {},
       "data": [
        [
         "EnglishShortName",
         "string",
         null
        ],
        [
         "alpha2Code",
         "string",
         null
        ],
        [
         "alpha3Code",
         "string",
         null
        ],
        [
         "numericCode",
         "string",
         null
        ],
        [
         "ISO31662SubdivisionCode",
         "string",
         null
        ],
        [
         "independentTerritory",
         "string",
         null
        ]
       ],
       "datasetInfos": [],
       "dbfsResultPath": null,
       "isJsonSchema": true,
       "overflow": false,
       "plotOptions": {
        "customPlotOptions": {},
        "displayType": "table",
        "pivotAggregation": null,
        "pivotColumns": null,
        "xColumns": null,
        "yColumns": null
       },
       "removedWidgets": [],
       "schema": [
        {
         "metadata": "{\"comment\":\"name of the column\"}",
         "name": "col_name",
         "type": "\"string\""
        },
        {
         "metadata": "{\"comment\":\"data type of the column\"}",
         "name": "data_type",
         "type": "\"string\""
        },
        {
         "metadata": "{\"comment\":\"comment of the column\"}",
         "name": "comment",
         "type": "\"string\""
        }
       ],
       "type": "table"
      }
     },
     "output_type": "display_data"
    }
   ],
   "source": [
    "%sql\n",
    "DESCRIBE countryCodes"
   ]
  },
  {
   "cell_type": "markdown",
   "metadata": {
    "application/vnd.databricks.v1+cell": {
     "inputWidgets": {},
     "nuid": "aa8e2cc7-bc35-43ab-9572-cc14e6abe5ba",
     "showTitle": false,
     "title": ""
    }
   },
   "source": [
    "## Exercise 9: Join and Visualize\n",
    "\n",
    "**Summary:** Use the `salesQuants` view and the `countryCodes` table to display a pie chart that shows total sales by country, and identifies the country by its 3-letter id. \n",
    "\n",
    "**Steps to complete:** \n",
    "* Write a query that results in two columns: `totalQuantity` from `salesQuants` and `alpha3Code` from `countryCodes`\n",
    "* Join `countryCodes` with `salesQuants` on the name of country listed in each table\n",
    "* Visualize your results as a pie chart that shows the percent of sales from each country"
   ]
  },
  {
   "cell_type": "code",
   "execution_count": 0,
   "metadata": {
    "application/vnd.databricks.v1+cell": {
     "inputWidgets": {},
     "nuid": "38f675aa-c395-4211-81a5-9d52074e7b60",
     "showTitle": false,
     "title": ""
    }
   },
   "outputs": [
    {
     "data": {
      "text/html": [
       "<style scoped>\n",
       "  .table-result-container {\n",
       "    max-height: 300px;\n",
       "    overflow: auto;\n",
       "  }\n",
       "  table, th, td {\n",
       "    border: 1px solid black;\n",
       "    border-collapse: collapse;\n",
       "  }\n",
       "  th, td {\n",
       "    padding: 5px;\n",
       "  }\n",
       "  th {\n",
       "    text-align: left;\n",
       "  }\n",
       "</style><div class='table-result-container'><table class='table-result'><thead style='background-color: white'><tr><th>totalQuantity</th><th>alpha3Code</th></tr></thead><tbody><tr><td>21381</td><td>NLD</td></tr><tr><td>11559</td><td>FRA</td></tr><tr><td>11218</td><td>DEU</td></tr><tr><td>5988</td><td>AUS</td></tr><tr><td>4048</td><td>JPN</td></tr><tr><td>4006</td><td>SWE</td></tr><tr><td>3958</td><td>ESP</td></tr><tr><td>3582</td><td>NOR</td></tr><tr><td>3367</td><td>CHE</td></tr><tr><td>2786</td><td>PRT</td></tr><tr><td>2430</td><td>BEL</td></tr><tr><td>1254</td><td>FIN</td></tr><tr><td>1061</td><td>CYP</td></tr><tr><td>1038</td><td>ITA</td></tr><tr><td>652</td><td>LTU</td></tr><tr><td>454</td><td>DNK</td></tr><tr><td>428</td><td>POL</td></tr><tr><td>319</td><td>ISL</td></tr><tr><td>44</td><td>ISR</td></tr><tr><td>3</td><td>AUT</td></tr><tr><td>0</td><td>BHR</td></tr></tbody></table></div>"
      ]
     },
     "metadata": {
      "application/vnd.databricks.v1+output": {
       "addedWidgets": {},
       "aggData": [],
       "aggError": "",
       "aggOverflow": false,
       "aggSchema": [],
       "aggSeriesLimitReached": false,
       "aggType": "",
       "arguments": {},
       "columnCustomDisplayInfos": {},
       "data": [
        [
         21381,
         "NLD"
        ],
        [
         11559,
         "FRA"
        ],
        [
         11218,
         "DEU"
        ],
        [
         5988,
         "AUS"
        ],
        [
         4048,
         "JPN"
        ],
        [
         4006,
         "SWE"
        ],
        [
         3958,
         "ESP"
        ],
        [
         3582,
         "NOR"
        ],
        [
         3367,
         "CHE"
        ],
        [
         2786,
         "PRT"
        ],
        [
         2430,
         "BEL"
        ],
        [
         1254,
         "FIN"
        ],
        [
         1061,
         "CYP"
        ],
        [
         1038,
         "ITA"
        ],
        [
         652,
         "LTU"
        ],
        [
         454,
         "DNK"
        ],
        [
         428,
         "POL"
        ],
        [
         319,
         "ISL"
        ],
        [
         44,
         "ISR"
        ],
        [
         3,
         "AUT"
        ],
        [
         0,
         "BHR"
        ]
       ],
       "datasetInfos": [],
       "dbfsResultPath": null,
       "isJsonSchema": true,
       "overflow": false,
       "plotOptions": {
        "customPlotOptions": {
         "pieChart": [
          {
           "key": "donut",
           "value": true
          }
         ],
         "quantilePlot": []
        },
        "displayType": "pieChart",
        "pivotAggregation": "sum",
        "pivotColumns": [],
        "xColumns": [
         "alpha3Code"
        ],
        "yColumns": [
         "totalQuantity"
        ]
       },
       "removedWidgets": [],
       "schema": [
        {
         "metadata": "{}",
         "name": "totalQuantity",
         "type": "\"long\""
        },
        {
         "metadata": "{}",
         "name": "alpha3Code",
         "type": "\"string\""
        }
       ],
       "type": "table"
      }
     },
     "output_type": "display_data"
    }
   ],
   "source": [
    "%sql\n",
    "SELECT totalQuantity, alpha3Code\n",
    "FROM salesQuants\n",
    "JOIN countryCodes \n",
    "ON EnglishShortName = countryName\n",
    "ORDER BY totalQuantity DESC"
   ]
  },
  {
   "cell_type": "markdown",
   "metadata": {
    "application/vnd.databricks.v1+cell": {
     "inputWidgets": {},
     "nuid": "2ae0bdf0-94d0-4dcf-bffb-0c1a28cab5f1",
     "showTitle": false,
     "title": ""
    }
   },
   "source": [
    "## Sanity Check\n",
    "It's always smart to do a sanity check when manipulating and joining datasets.  \n",
    "* Compare your chart to the table you displayed in task #4\n",
    "* Try the challenge problem to figure out what may have gone wrong"
   ]
  },
  {
   "cell_type": "markdown",
   "metadata": {
    "application/vnd.databricks.v1+cell": {
     "inputWidgets": {},
     "nuid": "8e023e77-e725-4b67-ac9e-2b3f9207a51a",
     "showTitle": false,
     "title": ""
    }
   },
   "source": [
    "-sandbox\n",
    "## Challenge: Find the problem\n",
    "\n",
    "<script type=\"text/javascript\">\n",
    "  window.onload = function() {\n",
    "    var allHints = document.getElementsByClassName(\"hint-4769\");\n",
    "    var answer = document.getElementById(\"answer-4769\");\n",
    "    var totalHints = allHints.length;\n",
    "    var nextHint = 0;\n",
    "    var hasAnswer = (answer != null);\n",
    "    var items = new Array();\n",
    "    var answerLabel = \"Click here for the answer\";\n",
    "    for (var i = 0; i < totalHints; i++) {\n",
    "      var elem = allHints[i];\n",
    "      var label = \"\";\n",
    "      if ((i + 1) == totalHints)\n",
    "        label = answerLabel;\n",
    "      else\n",
    "        label = \"Click here for the next hint\";\n",
    "      items.push({label: label, elem: elem});\n",
    "    }\n",
    "    if (hasAnswer) {\n",
    "      items.push({label: '', elem: answer});\n",
    "    }\n",
    "\n",
    "    var button = document.getElementById(\"hint-button-4769\");\n",
    "    if (totalHints == 0) {\n",
    "      button.innerHTML = answerLabel;\n",
    "    }\n",
    "    button.onclick = function() {\n",
    "      items[nextHint].elem.style.display = 'block';\n",
    "      if ((nextHint + 1) >= items.length)\n",
    "        button.style.display = 'none';\n",
    "      else\n",
    "        button.innerHTML = items[nextHint].label;\n",
    "        nextHint += 1;\n",
    "    };\n",
    "    button.ondblclick = function(e) {\n",
    "      e.stopPropagation();\n",
    "    }\n",
    "    var answerCodeBlocks = document.getElementsByTagName(\"code\");\n",
    "    for (var i = 0; i < answerCodeBlocks.length; i++) {\n",
    "      var elem = answerCodeBlocks[i];\n",
    "      var parent = elem.parentNode;\n",
    "      if (parent.name != \"pre\") {\n",
    "        var newNode = document.createElement(\"pre\");\n",
    "        newNode.append(elem.cloneNode(true));\n",
    "        elem.replaceWith(newNode);\n",
    "        elem = newNode;\n",
    "      }\n",
    "      elem.ondblclick = function(e) {\n",
    "        e.stopPropagation();\n",
    "      };\n",
    "\n",
    "      elem.style.marginTop = \"1em\";\n",
    "    }\n",
    "  };\n",
    "</script>\n",
    "\n",
    "<div>\n",
    "  <button type=\"button\" class=\"btn btn-light\"\n",
    "          style=\"margin-top: 1em\"\n",
    "          id=\"hint-button-4769\">Click here for a hint</button>\n",
    "</div>\n",
    "<div class=\"hint-4769\" style=\"padding-bottom: 20px; display: none\">\n",
    "  Hint:\n",
    "  <div style=\"margin-left: 1em\">Display a distinct list of all countries in the countryCodes table. Compare that list with the distinct list of countries from the outdoorProducts chart.</div>\n",
    "</div>\n",
    "\n",
    "\n",
    "<div class=\"hint-4769\" style=\"padding-bottom: 20px; display: none\">\n",
    "  Hint:\n",
    "  <div style=\"margin-left: 1em\">Use the `REPLACE()` command to make `United Kingdom` labels identical in for both datasets</div>\n",
    "</div>\n",
    "\n",
    "\n",
    "<div class=\"hint-4769\" style=\"padding-bottom: 20px; display: none\">\n",
    "  Hint:\n",
    "  <div style=\"margin-left: 1em\">Rejoin and visualize the two datasets to show which countries sales are coming from</div>\n",
    "</div>\n",
    "\n",
    "\n",
    "<div id=\"answer-4769\" style=\"padding-bottom: 20px; display: none\">\n",
    "  The answer:\n",
    "  <div class=\"answer\" style=\"margin-left: 1em\">\n",
    "Check the solution set at the end of this module for one possible answer.\n",
    "  </div>\n",
    "</div>"
   ]
  },
  {
   "cell_type": "markdown",
   "metadata": {
    "application/vnd.databricks.v1+cell": {
     "inputWidgets": {},
     "nuid": "18b4ed0b-6c75-4910-8a0a-27790f66e116",
     "showTitle": false,
     "title": ""
    }
   },
   "source": [
    "##### At first we check countriName in countryCodes"
   ]
  },
  {
   "cell_type": "code",
   "execution_count": 0,
   "metadata": {
    "application/vnd.databricks.v1+cell": {
     "inputWidgets": {},
     "nuid": "b679e8d7-da17-4295-9762-b45c6b05d0bb",
     "showTitle": false,
     "title": ""
    }
   },
   "outputs": [
    {
     "data": {
      "text/html": [
       "<style scoped>\n",
       "  .table-result-container {\n",
       "    max-height: 300px;\n",
       "    overflow: auto;\n",
       "  }\n",
       "  table, th, td {\n",
       "    border: 1px solid black;\n",
       "    border-collapse: collapse;\n",
       "  }\n",
       "  th, td {\n",
       "    padding: 5px;\n",
       "  }\n",
       "  th {\n",
       "    text-align: left;\n",
       "  }\n",
       "</style><div class='table-result-container'><table class='table-result'><thead style='background-color: white'><tr><th>EnglishShortName</th></tr></thead><tbody><tr><td>Côte d'Ivoire</td></tr><tr><td>Chad</td></tr><tr><td>Micronesia (Federated States of)</td></tr><tr><td>Anguilla</td></tr><tr><td>Paraguay</td></tr><tr><td>Macao</td></tr><tr><td>Moldova (Republic of)</td></tr><tr><td>Heard Island and McDonald Islands</td></tr><tr><td>Korea (Republic of)</td></tr><tr><td>British Indian Ocean Territory</td></tr><tr><td>Yemen</td></tr><tr><td>State of Palestine</td></tr><tr><td>Senegal</td></tr><tr><td>Cabo Verde</td></tr><tr><td>Sweden</td></tr><tr><td>Tokelau</td></tr><tr><td>French Southern Territories</td></tr><tr><td>Kiribati</td></tr><tr><td>Korea (Democratic People's Republic of)</td></tr><tr><td>Svalbard and Jan Mayen</td></tr><tr><td>Guyana</td></tr><tr><td>Eritrea</td></tr><tr><td>Jersey</td></tr><tr><td>Philippines</td></tr><tr><td>Djibouti</td></tr><tr><td>Norfolk Island</td></tr><tr><td>Tonga</td></tr><tr><td>Malaysia</td></tr><tr><td>Singapore</td></tr><tr><td>Fiji</td></tr><tr><td>Turkey</td></tr><tr><td>Malawi</td></tr><tr><td>Western Sahara</td></tr><tr><td>Iraq</td></tr><tr><td>Sint Maarten (Dutch part)</td></tr><tr><td>Germany</td></tr><tr><td>Northern Mariana Islands</td></tr><tr><td>Comoros</td></tr><tr><td>Afghanistan</td></tr><tr><td>Cambodia</td></tr><tr><td>Jordan</td></tr><tr><td>Maldives</td></tr><tr><td>Rwanda</td></tr><tr><td>Sudan</td></tr><tr><td>Palau</td></tr><tr><td>France</td></tr><tr><td>Turks and Caicos Islands</td></tr><tr><td>Greece</td></tr><tr><td>Sri Lanka</td></tr><tr><td>Montserrat</td></tr><tr><td>Virgin Islands (British)</td></tr><tr><td>Dominica</td></tr><tr><td>Algeria</td></tr><tr><td>Equatorial Guinea</td></tr><tr><td>Togo</td></tr><tr><td>Slovakia</td></tr><tr><td>People's Democratic Republic</td></tr><tr><td>Argentina</td></tr><tr><td>Angola</td></tr><tr><td>Belgium</td></tr><tr><td>San Marino</td></tr><tr><td>Congo (Democratic Republic of the)</td></tr><tr><td>Ecuador</td></tr><tr><td>Qatar</td></tr><tr><td>Lesotho</td></tr><tr><td>Albania</td></tr><tr><td>Madagascar</td></tr><tr><td>Finland</td></tr><tr><td>New Caledonia</td></tr><tr><td>Ghana</td></tr><tr><td>Myanmar</td></tr><tr><td>Nicaragua</td></tr><tr><td>Brunei Darussalam</td></tr><tr><td>Guernsey</td></tr><tr><td>Benin</td></tr><tr><td>Peru</td></tr><tr><td>Sierra Leone</td></tr><tr><td>Bahamas</td></tr><tr><td>China</td></tr><tr><td>India</td></tr><tr><td>Belarus</td></tr><tr><td>American Samoa</td></tr><tr><td>Kuwait</td></tr><tr><td>Malta</td></tr><tr><td>Timor-Leste</td></tr><tr><td>Sao Tome and Principe</td></tr><tr><td>Marshall Islands</td></tr><tr><td>Somalia</td></tr><tr><td>Tuvalu</td></tr><tr><td>Chile</td></tr><tr><td>Puerto Rico</td></tr><tr><td>Tajikistan</td></tr><tr><td>Martinique</td></tr><tr><td>Cayman Islands</td></tr><tr><td>Taiwan Province of China[a]</td></tr><tr><td>Bolivia (Plurinational State of)</td></tr><tr><td>Isle of Man</td></tr><tr><td>Croatia</td></tr><tr><td>Burundi</td></tr><tr><td>Andorra</td></tr><tr><td>Nigeria</td></tr><tr><td>Gabon</td></tr><tr><td>Italy</td></tr><tr><td>Suriname</td></tr><tr><td>Réunion</td></tr><tr><td>Lithuania</td></tr><tr><td>Norway</td></tr><tr><td>Turkmenistan</td></tr><tr><td>Saint Pierre and Miquelon</td></tr><tr><td>Spain</td></tr><tr><td>Cuba</td></tr><tr><td>South Georgia and the South Sandwich Islands</td></tr><tr><td>Mauritania</td></tr><tr><td>Guadeloupe</td></tr><tr><td>Central African Republic</td></tr><tr><td>Denmark</td></tr><tr><td>Niger</td></tr><tr><td>Bangladesh</td></tr><tr><td>Barbados</td></tr><tr><td>Curaçao</td></tr><tr><td>Russian Federation</td></tr><tr><td>Venezuela (Bolivarian Republic of)</td></tr><tr><td>Ireland</td></tr><tr><td>Pitcairn</td></tr><tr><td>Congo</td></tr><tr><td>Liechtenstein</td></tr><tr><td>Christmas Island</td></tr><tr><td>Cocos (Keeling) Islands</td></tr><tr><td>Swaziland</td></tr><tr><td>Thailand</td></tr><tr><td>Bhutan</td></tr><tr><td>Monaco</td></tr><tr><td>Morocco</td></tr><tr><td>Panama</td></tr><tr><td>Hong Kong</td></tr><tr><td>Nauru</td></tr><tr><td>Ukraine</td></tr><tr><td>Republic Czechia</td></tr><tr><td>Iceland</td></tr><tr><td>Israel</td></tr><tr><td>Antarctica</td></tr><tr><td>Holy See</td></tr><tr><td>Saint Kitts and Nevis</td></tr><tr><td>French Polynesia</td></tr><tr><td>Oman</td></tr><tr><td>United States of America</td></tr><tr><td>Cyprus</td></tr><tr><td>Gibraltar</td></tr><tr><td>Uruguay</td></tr><tr><td>Mexico</td></tr><tr><td>Aruba</td></tr><tr><td>Falkland Islands (Malvinas)</td></tr><tr><td>Estonia</td></tr><tr><td>Georgia</td></tr><tr><td>Montenegro</td></tr><tr><td>Zimbabwe</td></tr><tr><td>Indonesia</td></tr><tr><td>Saint Vincent and the Grenadines</td></tr><tr><td>Guam</td></tr><tr><td>Guatemala</td></tr><tr><td>Mongolia</td></tr><tr><td>Azerbaijan</td></tr><tr><td>Libya</td></tr><tr><td>Grenada</td></tr><tr><td>Armenia</td></tr><tr><td>Liberia</td></tr><tr><td>Tunisia</td></tr><tr><td>Honduras</td></tr><tr><td>Trinidad and Tobago</td></tr><tr><td>Saudi Arabia</td></tr><tr><td>Iran (Islamic Republic of)</td></tr><tr><td>Uganda</td></tr><tr><td>Wallis and Futuna</td></tr><tr><td>French Guiana</td></tr><tr><td>Mayotte</td></tr><tr><td>Namibia</td></tr><tr><td>Virgin Islands (U.S.)</td></tr><tr><td>Switzerland</td></tr><tr><td>Zambia</td></tr><tr><td>Saint Helena Ascension and Tristan da Cunha</td></tr><tr><td>Ethiopia</td></tr><tr><td>Jamaica</td></tr><tr><td>Latvia</td></tr><tr><td>South Sudan</td></tr><tr><td>United Arab Emirates</td></tr><tr><td>United Kingdom of Great Britain and Northern Ireland</td></tr><tr><td>Saint Lucia</td></tr><tr><td>Bouvet Island</td></tr><tr><td>Guinea</td></tr><tr><td>Macedonia (the former Yugoslav Republic of)</td></tr><tr><td>Canada</td></tr><tr><td>Seychelles</td></tr><tr><td>Faroe Islands</td></tr><tr><td>Kyrgyzstan</td></tr><tr><td>Samoa</td></tr><tr><td>Uzbekistan</td></tr><tr><td>Mozambique</td></tr><tr><td>Cook Islands</td></tr><tr><td>Belize</td></tr><tr><td>Brazil</td></tr><tr><td>Gambia</td></tr><tr><td>Kenya</td></tr><tr><td>Lebanon</td></tr><tr><td>Antigua and Barbuda</td></tr><tr><td>Slovenia</td></tr><tr><td>Dominican Republic</td></tr><tr><td>Viet Nam</td></tr><tr><td>Botswana</td></tr><tr><td>Japan</td></tr><tr><td>Tanzania United Republic of</td></tr><tr><td>Luxembourg</td></tr><tr><td>New Zealand</td></tr><tr><td>United States Minor Outlying Islands</td></tr><tr><td>Bosnia and Herzegovina</td></tr><tr><td>Greenland</td></tr><tr><td>Haiti</td></tr><tr><td>Poland</td></tr><tr><td>Portugal</td></tr><tr><td>Australia</td></tr><tr><td>Cameroon</td></tr><tr><td>Papua New Guinea</td></tr><tr><td>Guinea-Bissau</td></tr><tr><td>Romania</td></tr><tr><td>Bulgaria</td></tr><tr><td>Solomon Islands</td></tr><tr><td>Austria</td></tr><tr><td>Nepal</td></tr><tr><td>Costa Rica</td></tr><tr><td>Egypt</td></tr><tr><td>El Salvador</td></tr><tr><td>Kazakhstan</td></tr><tr><td>Netherlands Bonaire Sint Eustatius and Saba</td></tr><tr><td>Serbia</td></tr><tr><td>Burkina Faso</td></tr><tr><td>Saint Barthélemy</td></tr><tr><td>South Africa</td></tr><tr><td>Bermuda</td></tr><tr><td>Bahrain</td></tr><tr><td>Saint Martin (French part)</td></tr><tr><td>Colombia</td></tr><tr><td>Hungary</td></tr><tr><td>Pakistan</td></tr><tr><td>Vanuatu</td></tr><tr><td>Niue</td></tr><tr><td>Mauritius</td></tr><tr><td>Syrian Arab Republic</td></tr><tr><td>Åland Islands</td></tr><tr><td>Mali</td></tr><tr><td>Netherlands</td></tr></tbody></table></div>"
      ]
     },
     "metadata": {
      "application/vnd.databricks.v1+output": {
       "addedWidgets": {},
       "aggData": [],
       "aggError": "",
       "aggOverflow": false,
       "aggSchema": [],
       "aggSeriesLimitReached": false,
       "aggType": "",
       "arguments": {},
       "columnCustomDisplayInfos": {},
       "data": [
        [
         "Côte d'Ivoire"
        ],
        [
         "Chad"
        ],
        [
         "Micronesia (Federated States of)"
        ],
        [
         "Anguilla"
        ],
        [
         "Paraguay"
        ],
        [
         "Macao"
        ],
        [
         "Moldova (Republic of)"
        ],
        [
         "Heard Island and McDonald Islands"
        ],
        [
         "Korea (Republic of)"
        ],
        [
         "British Indian Ocean Territory"
        ],
        [
         "Yemen"
        ],
        [
         "State of Palestine"
        ],
        [
         "Senegal"
        ],
        [
         "Cabo Verde"
        ],
        [
         "Sweden"
        ],
        [
         "Tokelau"
        ],
        [
         "French Southern Territories"
        ],
        [
         "Kiribati"
        ],
        [
         "Korea (Democratic People's Republic of)"
        ],
        [
         "Svalbard and Jan Mayen"
        ],
        [
         "Guyana"
        ],
        [
         "Eritrea"
        ],
        [
         "Jersey"
        ],
        [
         "Philippines"
        ],
        [
         "Djibouti"
        ],
        [
         "Norfolk Island"
        ],
        [
         "Tonga"
        ],
        [
         "Malaysia"
        ],
        [
         "Singapore"
        ],
        [
         "Fiji"
        ],
        [
         "Turkey"
        ],
        [
         "Malawi"
        ],
        [
         "Western Sahara"
        ],
        [
         "Iraq"
        ],
        [
         "Sint Maarten (Dutch part)"
        ],
        [
         "Germany"
        ],
        [
         "Northern Mariana Islands"
        ],
        [
         "Comoros"
        ],
        [
         "Afghanistan"
        ],
        [
         "Cambodia"
        ],
        [
         "Jordan"
        ],
        [
         "Maldives"
        ],
        [
         "Rwanda"
        ],
        [
         "Sudan"
        ],
        [
         "Palau"
        ],
        [
         "France"
        ],
        [
         "Turks and Caicos Islands"
        ],
        [
         "Greece"
        ],
        [
         "Sri Lanka"
        ],
        [
         "Montserrat"
        ],
        [
         "Virgin Islands (British)"
        ],
        [
         "Dominica"
        ],
        [
         "Algeria"
        ],
        [
         "Equatorial Guinea"
        ],
        [
         "Togo"
        ],
        [
         "Slovakia"
        ],
        [
         "People's Democratic Republic"
        ],
        [
         "Argentina"
        ],
        [
         "Angola"
        ],
        [
         "Belgium"
        ],
        [
         "San Marino"
        ],
        [
         "Congo (Democratic Republic of the)"
        ],
        [
         "Ecuador"
        ],
        [
         "Qatar"
        ],
        [
         "Lesotho"
        ],
        [
         "Albania"
        ],
        [
         "Madagascar"
        ],
        [
         "Finland"
        ],
        [
         "New Caledonia"
        ],
        [
         "Ghana"
        ],
        [
         "Myanmar"
        ],
        [
         "Nicaragua"
        ],
        [
         "Brunei Darussalam"
        ],
        [
         "Guernsey"
        ],
        [
         "Benin"
        ],
        [
         "Peru"
        ],
        [
         "Sierra Leone"
        ],
        [
         "Bahamas"
        ],
        [
         "China"
        ],
        [
         "India"
        ],
        [
         "Belarus"
        ],
        [
         "American Samoa"
        ],
        [
         "Kuwait"
        ],
        [
         "Malta"
        ],
        [
         "Timor-Leste"
        ],
        [
         "Sao Tome and Principe"
        ],
        [
         "Marshall Islands"
        ],
        [
         "Somalia"
        ],
        [
         "Tuvalu"
        ],
        [
         "Chile"
        ],
        [
         "Puerto Rico"
        ],
        [
         "Tajikistan"
        ],
        [
         "Martinique"
        ],
        [
         "Cayman Islands"
        ],
        [
         "Taiwan Province of China[a]"
        ],
        [
         "Bolivia (Plurinational State of)"
        ],
        [
         "Isle of Man"
        ],
        [
         "Croatia"
        ],
        [
         "Burundi"
        ],
        [
         "Andorra"
        ],
        [
         "Nigeria"
        ],
        [
         "Gabon"
        ],
        [
         "Italy"
        ],
        [
         "Suriname"
        ],
        [
         "Réunion"
        ],
        [
         "Lithuania"
        ],
        [
         "Norway"
        ],
        [
         "Turkmenistan"
        ],
        [
         "Saint Pierre and Miquelon"
        ],
        [
         "Spain"
        ],
        [
         "Cuba"
        ],
        [
         "South Georgia and the South Sandwich Islands"
        ],
        [
         "Mauritania"
        ],
        [
         "Guadeloupe"
        ],
        [
         "Central African Republic"
        ],
        [
         "Denmark"
        ],
        [
         "Niger"
        ],
        [
         "Bangladesh"
        ],
        [
         "Barbados"
        ],
        [
         "Curaçao"
        ],
        [
         "Russian Federation"
        ],
        [
         "Venezuela (Bolivarian Republic of)"
        ],
        [
         "Ireland"
        ],
        [
         "Pitcairn"
        ],
        [
         "Congo"
        ],
        [
         "Liechtenstein"
        ],
        [
         "Christmas Island"
        ],
        [
         "Cocos (Keeling) Islands"
        ],
        [
         "Swaziland"
        ],
        [
         "Thailand"
        ],
        [
         "Bhutan"
        ],
        [
         "Monaco"
        ],
        [
         "Morocco"
        ],
        [
         "Panama"
        ],
        [
         "Hong Kong"
        ],
        [
         "Nauru"
        ],
        [
         "Ukraine"
        ],
        [
         "Republic Czechia"
        ],
        [
         "Iceland"
        ],
        [
         "Israel"
        ],
        [
         "Antarctica"
        ],
        [
         "Holy See"
        ],
        [
         "Saint Kitts and Nevis"
        ],
        [
         "French Polynesia"
        ],
        [
         "Oman"
        ],
        [
         "United States of America"
        ],
        [
         "Cyprus"
        ],
        [
         "Gibraltar"
        ],
        [
         "Uruguay"
        ],
        [
         "Mexico"
        ],
        [
         "Aruba"
        ],
        [
         "Falkland Islands (Malvinas)"
        ],
        [
         "Estonia"
        ],
        [
         "Georgia"
        ],
        [
         "Montenegro"
        ],
        [
         "Zimbabwe"
        ],
        [
         "Indonesia"
        ],
        [
         "Saint Vincent and the Grenadines"
        ],
        [
         "Guam"
        ],
        [
         "Guatemala"
        ],
        [
         "Mongolia"
        ],
        [
         "Azerbaijan"
        ],
        [
         "Libya"
        ],
        [
         "Grenada"
        ],
        [
         "Armenia"
        ],
        [
         "Liberia"
        ],
        [
         "Tunisia"
        ],
        [
         "Honduras"
        ],
        [
         "Trinidad and Tobago"
        ],
        [
         "Saudi Arabia"
        ],
        [
         "Iran (Islamic Republic of)"
        ],
        [
         "Uganda"
        ],
        [
         "Wallis and Futuna"
        ],
        [
         "French Guiana"
        ],
        [
         "Mayotte"
        ],
        [
         "Namibia"
        ],
        [
         "Virgin Islands (U.S.)"
        ],
        [
         "Switzerland"
        ],
        [
         "Zambia"
        ],
        [
         "Saint Helena Ascension and Tristan da Cunha"
        ],
        [
         "Ethiopia"
        ],
        [
         "Jamaica"
        ],
        [
         "Latvia"
        ],
        [
         "South Sudan"
        ],
        [
         "United Arab Emirates"
        ],
        [
         "United Kingdom of Great Britain and Northern Ireland"
        ],
        [
         "Saint Lucia"
        ],
        [
         "Bouvet Island"
        ],
        [
         "Guinea"
        ],
        [
         "Macedonia (the former Yugoslav Republic of)"
        ],
        [
         "Canada"
        ],
        [
         "Seychelles"
        ],
        [
         "Faroe Islands"
        ],
        [
         "Kyrgyzstan"
        ],
        [
         "Samoa"
        ],
        [
         "Uzbekistan"
        ],
        [
         "Mozambique"
        ],
        [
         "Cook Islands"
        ],
        [
         "Belize"
        ],
        [
         "Brazil"
        ],
        [
         "Gambia"
        ],
        [
         "Kenya"
        ],
        [
         "Lebanon"
        ],
        [
         "Antigua and Barbuda"
        ],
        [
         "Slovenia"
        ],
        [
         "Dominican Republic"
        ],
        [
         "Viet Nam"
        ],
        [
         "Botswana"
        ],
        [
         "Japan"
        ],
        [
         "Tanzania United Republic of"
        ],
        [
         "Luxembourg"
        ],
        [
         "New Zealand"
        ],
        [
         "United States Minor Outlying Islands"
        ],
        [
         "Bosnia and Herzegovina"
        ],
        [
         "Greenland"
        ],
        [
         "Haiti"
        ],
        [
         "Poland"
        ],
        [
         "Portugal"
        ],
        [
         "Australia"
        ],
        [
         "Cameroon"
        ],
        [
         "Papua New Guinea"
        ],
        [
         "Guinea-Bissau"
        ],
        [
         "Romania"
        ],
        [
         "Bulgaria"
        ],
        [
         "Solomon Islands"
        ],
        [
         "Austria"
        ],
        [
         "Nepal"
        ],
        [
         "Costa Rica"
        ],
        [
         "Egypt"
        ],
        [
         "El Salvador"
        ],
        [
         "Kazakhstan"
        ],
        [
         "Netherlands Bonaire Sint Eustatius and Saba"
        ],
        [
         "Serbia"
        ],
        [
         "Burkina Faso"
        ],
        [
         "Saint Barthélemy"
        ],
        [
         "South Africa"
        ],
        [
         "Bermuda"
        ],
        [
         "Bahrain"
        ],
        [
         "Saint Martin (French part)"
        ],
        [
         "Colombia"
        ],
        [
         "Hungary"
        ],
        [
         "Pakistan"
        ],
        [
         "Vanuatu"
        ],
        [
         "Niue"
        ],
        [
         "Mauritius"
        ],
        [
         "Syrian Arab Republic"
        ],
        [
         "Åland Islands"
        ],
        [
         "Mali"
        ],
        [
         "Netherlands"
        ]
       ],
       "datasetInfos": [],
       "dbfsResultPath": null,
       "isJsonSchema": true,
       "overflow": false,
       "plotOptions": {
        "customPlotOptions": {},
        "displayType": "table",
        "pivotAggregation": null,
        "pivotColumns": null,
        "xColumns": null,
        "yColumns": null
       },
       "removedWidgets": [],
       "schema": [
        {
         "metadata": "{}",
         "name": "EnglishShortName",
         "type": "\"string\""
        }
       ],
       "type": "table"
      }
     },
     "output_type": "display_data"
    }
   ],
   "source": [
    "%sql\n",
    "SELECT DISTINCT EnglishShortName\n",
    "FROM countryCodes"
   ]
  },
  {
   "cell_type": "markdown",
   "metadata": {
    "application/vnd.databricks.v1+cell": {
     "inputWidgets": {},
     "nuid": "ed336096-32d6-4280-a514-7babaa5c8982",
     "showTitle": false,
     "title": ""
    }
   },
   "source": [
    "##### Now we check countryName in outdoorProducts"
   ]
  },
  {
   "cell_type": "code",
   "execution_count": 0,
   "metadata": {
    "application/vnd.databricks.v1+cell": {
     "inputWidgets": {},
     "nuid": "2a7abad1-0444-438e-8cf3-840ce972df79",
     "showTitle": false,
     "title": ""
    }
   },
   "outputs": [
    {
     "data": {
      "text/html": [
       "<style scoped>\n",
       "  .table-result-container {\n",
       "    max-height: 300px;\n",
       "    overflow: auto;\n",
       "  }\n",
       "  table, th, td {\n",
       "    border: 1px solid black;\n",
       "    border-collapse: collapse;\n",
       "  }\n",
       "  th, td {\n",
       "    padding: 5px;\n",
       "  }\n",
       "  th {\n",
       "    text-align: left;\n",
       "  }\n",
       "</style><div class='table-result-container'><table class='table-result'><thead style='background-color: white'><tr><th>countryName</th></tr></thead><tbody><tr><td>Sweden</td></tr><tr><td>Germany</td></tr><tr><td>France</td></tr><tr><td>Belgium</td></tr><tr><td>Finland</td></tr><tr><td>Italy</td></tr><tr><td>EIRE</td></tr><tr><td>Lithuania</td></tr><tr><td>Norway</td></tr><tr><td>Spain</td></tr><tr><td>Denmark</td></tr><tr><td>Iceland</td></tr><tr><td>Israel</td></tr><tr><td>Channel Islands</td></tr><tr><td>Cyprus</td></tr><tr><td>Switzerland</td></tr><tr><td>Japan</td></tr><tr><td>Poland</td></tr><tr><td>Portugal</td></tr><tr><td>Australia</td></tr><tr><td>Austria</td></tr><tr><td>Bahrain</td></tr><tr><td>United Kingdom</td></tr><tr><td>Netherlands</td></tr></tbody></table></div>"
      ]
     },
     "metadata": {
      "application/vnd.databricks.v1+output": {
       "addedWidgets": {},
       "aggData": [],
       "aggError": "",
       "aggOverflow": false,
       "aggSchema": [],
       "aggSeriesLimitReached": false,
       "aggType": "",
       "arguments": {},
       "columnCustomDisplayInfos": {},
       "data": [
        [
         "Sweden"
        ],
        [
         "Germany"
        ],
        [
         "France"
        ],
        [
         "Belgium"
        ],
        [
         "Finland"
        ],
        [
         "Italy"
        ],
        [
         "EIRE"
        ],
        [
         "Lithuania"
        ],
        [
         "Norway"
        ],
        [
         "Spain"
        ],
        [
         "Denmark"
        ],
        [
         "Iceland"
        ],
        [
         "Israel"
        ],
        [
         "Channel Islands"
        ],
        [
         "Cyprus"
        ],
        [
         "Switzerland"
        ],
        [
         "Japan"
        ],
        [
         "Poland"
        ],
        [
         "Portugal"
        ],
        [
         "Australia"
        ],
        [
         "Austria"
        ],
        [
         "Bahrain"
        ],
        [
         "United Kingdom"
        ],
        [
         "Netherlands"
        ]
       ],
       "datasetInfos": [],
       "dbfsResultPath": null,
       "isJsonSchema": true,
       "overflow": false,
       "plotOptions": {
        "customPlotOptions": {},
        "displayType": "table",
        "pivotAggregation": null,
        "pivotColumns": null,
        "xColumns": null,
        "yColumns": null
       },
       "removedWidgets": [],
       "schema": [
        {
         "metadata": "{}",
         "name": "countryName",
         "type": "\"string\""
        }
       ],
       "type": "table"
      }
     },
     "output_type": "display_data"
    }
   ],
   "source": [
    "%sql\n",
    "SELECT DISTINCT countryName\n",
    "FROM outdoorProducts"
   ]
  },
  {
   "cell_type": "markdown",
   "metadata": {
    "application/vnd.databricks.v1+cell": {
     "inputWidgets": {},
     "nuid": "ab363954-02ee-45da-ac3d-091470e5ddf3",
     "showTitle": false,
     "title": ""
    }
   },
   "source": [
    "##### We see that is \"United Kingdom\" written as \"United Kingdom of Great Britain and Northern Ireland\"  in the countryCodes table\n",
    "##### Lets replace it with one short name and count again"
   ]
  },
  {
   "cell_type": "code",
   "execution_count": 0,
   "metadata": {
    "application/vnd.databricks.v1+cell": {
     "inputWidgets": {},
     "nuid": "ea1377ef-d4e6-465c-86a2-8b868df4deae",
     "showTitle": false,
     "title": ""
    }
   },
   "outputs": [
    {
     "data": {
      "text/html": [
       "<style scoped>\n",
       "  .table-result-container {\n",
       "    max-height: 300px;\n",
       "    overflow: auto;\n",
       "  }\n",
       "  table, th, td {\n",
       "    border: 1px solid black;\n",
       "    border-collapse: collapse;\n",
       "  }\n",
       "  th, td {\n",
       "    padding: 5px;\n",
       "  }\n",
       "  th {\n",
       "    text-align: left;\n",
       "  }\n",
       "</style><div class='table-result-container'><table class='table-result'><thead style='background-color: white'><tr></tr></thead><tbody></tbody></table></div>"
      ]
     },
     "metadata": {
      "application/vnd.databricks.v1+output": {
       "addedWidgets": {},
       "aggData": [],
       "aggError": "",
       "aggOverflow": false,
       "aggSchema": [],
       "aggSeriesLimitReached": false,
       "aggType": "",
       "arguments": {},
       "columnCustomDisplayInfos": {},
       "data": [],
       "datasetInfos": [],
       "dbfsResultPath": null,
       "isJsonSchema": true,
       "overflow": false,
       "plotOptions": {
        "customPlotOptions": {},
        "displayType": "table",
        "pivotAggregation": null,
        "pivotColumns": null,
        "xColumns": null,
        "yColumns": null
       },
       "removedWidgets": [],
       "schema": [],
       "type": "table"
      }
     },
     "output_type": "display_data"
    }
   ],
   "source": [
    "%sql\n",
    "CREATE\n",
    "OR REPLACE TEMPORARY VIEW modCountryCodes AS\n",
    "SELECT\n",
    "  alpha3code,\n",
    "  REPLACE (\n",
    "    EnglishShortName,\n",
    "    \"United Kingdom of Great Britain and Northern Ireland\",\n",
    "    \"United Kingdom\"\n",
    "  ) AS EnglishShortName\n",
    "FROM\n",
    "  countryCodes;"
   ]
  },
  {
   "cell_type": "markdown",
   "metadata": {
    "application/vnd.databricks.v1+cell": {
     "inputWidgets": {},
     "nuid": "faaf77bb-d44a-463c-a2fc-19ca0dbc2fcf",
     "showTitle": false,
     "title": ""
    }
   },
   "source": [
    "##### Here we got the same picture as in first table: 1st place belongs to GBR, not NLD"
   ]
  },
  {
   "cell_type": "code",
   "execution_count": 0,
   "metadata": {
    "application/vnd.databricks.v1+cell": {
     "inputWidgets": {},
     "nuid": "ba0d972a-aff0-4c50-a657-dc03c173b684",
     "showTitle": false,
     "title": ""
    }
   },
   "outputs": [
    {
     "data": {
      "text/html": [
       "<style scoped>\n",
       "  .table-result-container {\n",
       "    max-height: 300px;\n",
       "    overflow: auto;\n",
       "  }\n",
       "  table, th, td {\n",
       "    border: 1px solid black;\n",
       "    border-collapse: collapse;\n",
       "  }\n",
       "  th, td {\n",
       "    padding: 5px;\n",
       "  }\n",
       "  th {\n",
       "    text-align: left;\n",
       "  }\n",
       "</style><div class='table-result-container'><table class='table-result'><thead style='background-color: white'><tr><th>totalQuantity</th><th>alpha3Code</th></tr></thead><tbody><tr><td>455147</td><td>GBR</td></tr><tr><td>21381</td><td>NLD</td></tr><tr><td>11559</td><td>FRA</td></tr><tr><td>11218</td><td>DEU</td></tr><tr><td>5988</td><td>AUS</td></tr><tr><td>4048</td><td>JPN</td></tr><tr><td>4006</td><td>SWE</td></tr><tr><td>3958</td><td>ESP</td></tr><tr><td>3582</td><td>NOR</td></tr><tr><td>3367</td><td>CHE</td></tr><tr><td>2786</td><td>PRT</td></tr><tr><td>2430</td><td>BEL</td></tr><tr><td>1254</td><td>FIN</td></tr><tr><td>1061</td><td>CYP</td></tr><tr><td>1038</td><td>ITA</td></tr><tr><td>652</td><td>LTU</td></tr><tr><td>454</td><td>DNK</td></tr><tr><td>428</td><td>POL</td></tr><tr><td>319</td><td>ISL</td></tr><tr><td>44</td><td>ISR</td></tr><tr><td>3</td><td>AUT</td></tr><tr><td>0</td><td>BHR</td></tr></tbody></table></div>"
      ]
     },
     "metadata": {
      "application/vnd.databricks.v1+output": {
       "addedWidgets": {},
       "aggData": [],
       "aggError": "",
       "aggOverflow": false,
       "aggSchema": [],
       "aggSeriesLimitReached": false,
       "aggType": "",
       "arguments": {},
       "columnCustomDisplayInfos": {},
       "data": [
        [
         455147,
         "GBR"
        ],
        [
         21381,
         "NLD"
        ],
        [
         11559,
         "FRA"
        ],
        [
         11218,
         "DEU"
        ],
        [
         5988,
         "AUS"
        ],
        [
         4048,
         "JPN"
        ],
        [
         4006,
         "SWE"
        ],
        [
         3958,
         "ESP"
        ],
        [
         3582,
         "NOR"
        ],
        [
         3367,
         "CHE"
        ],
        [
         2786,
         "PRT"
        ],
        [
         2430,
         "BEL"
        ],
        [
         1254,
         "FIN"
        ],
        [
         1061,
         "CYP"
        ],
        [
         1038,
         "ITA"
        ],
        [
         652,
         "LTU"
        ],
        [
         454,
         "DNK"
        ],
        [
         428,
         "POL"
        ],
        [
         319,
         "ISL"
        ],
        [
         44,
         "ISR"
        ],
        [
         3,
         "AUT"
        ],
        [
         0,
         "BHR"
        ]
       ],
       "datasetInfos": [],
       "dbfsResultPath": null,
       "isJsonSchema": true,
       "overflow": false,
       "plotOptions": {
        "customPlotOptions": {},
        "displayType": "pieChart",
        "pivotAggregation": null,
        "pivotColumns": null,
        "xColumns": null,
        "yColumns": null
       },
       "removedWidgets": [],
       "schema": [
        {
         "metadata": "{}",
         "name": "totalQuantity",
         "type": "\"long\""
        },
        {
         "metadata": "{}",
         "name": "alpha3Code",
         "type": "\"string\""
        }
       ],
       "type": "table"
      }
     },
     "output_type": "display_data"
    }
   ],
   "source": [
    "%sql\n",
    "SELECT totalQuantity, alpha3Code\n",
    "FROM salesQuants\n",
    "JOIN modCountryCodes \n",
    "ON EnglishShortName = countryName\n",
    "ORDER BY totalQuantity DESC"
   ]
  },
  {
   "cell_type": "code",
   "execution_count": 0,
   "metadata": {
    "application/vnd.databricks.v1+cell": {
     "inputWidgets": {},
     "nuid": "b5b11ae0-fe72-4a05-8505-8535a5442f45",
     "showTitle": false,
     "title": ""
    }
   },
   "outputs": [],
   "source": [
    "%run ../Includes/Classroom-Cleanup\n"
   ]
  },
  {
   "cell_type": "markdown",
   "metadata": {
    "application/vnd.databricks.v1+cell": {
     "inputWidgets": {},
     "nuid": "882fe49a-683a-46c7-baaf-15e952a2d0c1",
     "showTitle": false,
     "title": ""
    }
   },
   "source": [
    "-sandbox\n",
    "&copy; 2020 Databricks, Inc. All rights reserved.<br/>\n",
    "Apache, Apache Spark, Spark and the Spark logo are trademarks of the <a href=\"http://www.apache.org/\">Apache Software Foundation</a>.<br/>\n",
    "<br/>\n",
    "<a href=\"https://databricks.com/privacy-policy\">Privacy Policy</a> | <a href=\"https://databricks.com/terms-of-use\">Terms of Use</a> | <a href=\"http://help.databricks.com/\">Support</a>"
   ]
  }
 ],
 "metadata": {
  "application/vnd.databricks.v1+notebook": {
   "dashboards": [],
   "language": "python",
   "notebookName": "3.4 Lab: Exploratory Data Analysis",
   "notebookOrigID": 3431324887126503,
   "widgets": {}
  },
  "kernelspec": {
   "display_name": "Python 3",
   "language": "python",
   "name": "python3"
  },
  "language_info": {
   "codemirror_mode": {
    "name": "ipython",
    "version": 3
   },
   "file_extension": ".py",
   "mimetype": "text/x-python",
   "name": "python",
   "nbconvert_exporter": "python",
   "pygments_lexer": "ipython3",
   "version": "3.8.3"
  }
 },
 "nbformat": 4,
 "nbformat_minor": 1
}
